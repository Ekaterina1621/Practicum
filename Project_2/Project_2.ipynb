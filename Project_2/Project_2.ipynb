{
 "cells": [
  {
   "cell_type": "markdown",
   "metadata": {
    "toc": true
   },
   "source": [
    "<h1>Содержание<span class=\"tocSkip\"></span></h1>\n",
    "<div class=\"toc\"><ul class=\"toc-item\"><li><span><a href=\"#Подготовка-данных\" data-toc-modified-id=\"Подготовка-данных-1\"><span class=\"toc-item-num\">1&nbsp;&nbsp;</span>Подготовка данных</a></span><ul class=\"toc-item\"><li><span><a href=\"#Откройте-файлы-и-изучите-их\" data-toc-modified-id=\"Откройте-файлы-и-изучите-их-1.1\"><span class=\"toc-item-num\">1.1&nbsp;&nbsp;</span>Откройте файлы и изучите их</a></span></li><li><span><a href=\"#Проверьте,-что-эффективность-обогащения-рассчитана-правильно\" data-toc-modified-id=\"Проверьте,-что-эффективность-обогащения-рассчитана-правильно-1.2\"><span class=\"toc-item-num\">1.2&nbsp;&nbsp;</span>Проверьте, что эффективность обогащения рассчитана правильно</a></span></li><li><span><a href=\"#Проанализируйте-признаки,-недоступные-в-тестовой-выборке\" data-toc-modified-id=\"Проанализируйте-признаки,-недоступные-в-тестовой-выборке-1.3\"><span class=\"toc-item-num\">1.3&nbsp;&nbsp;</span>Проанализируйте признаки, недоступные в тестовой выборке</a></span></li><li><span><a href=\"#Проведите-предобработку-данных\" data-toc-modified-id=\"Проведите-предобработку-данных-1.4\"><span class=\"toc-item-num\">1.4&nbsp;&nbsp;</span>Проведите предобработку данных</a></span></li></ul></li><li><span><a href=\"#Анализ-данных\" data-toc-modified-id=\"Анализ-данных-2\"><span class=\"toc-item-num\">2&nbsp;&nbsp;</span>Анализ данных</a></span><ul class=\"toc-item\"><li><span><a href=\"#Посмотрите,-как-меняется-концентрация-металлов-(Au,-Ag,-Pb)-на-различных-этапах-очистки.\" data-toc-modified-id=\"Посмотрите,-как-меняется-концентрация-металлов-(Au,-Ag,-Pb)-на-различных-этапах-очистки.-2.1\"><span class=\"toc-item-num\">2.1&nbsp;&nbsp;</span>Посмотрите, как меняется концентрация металлов (Au, Ag, Pb) на различных этапах очистки.</a></span></li><li><span><a href=\"#Сравните-распределения-размеров-гранул-сырья-на-обучающей-и-тестовой-выборках.\" data-toc-modified-id=\"Сравните-распределения-размеров-гранул-сырья-на-обучающей-и-тестовой-выборках.-2.2\"><span class=\"toc-item-num\">2.2&nbsp;&nbsp;</span>Сравните распределения размеров гранул сырья на обучающей и тестовой выборках.</a></span></li><li><span><a href=\"#Исследуйте-суммарную-концентрацию-всех-веществ-на-разных-стадиях:-в-сырье,-в-черновом-и-финальном-концентратах.\" data-toc-modified-id=\"Исследуйте-суммарную-концентрацию-всех-веществ-на-разных-стадиях:-в-сырье,-в-черновом-и-финальном-концентратах.-2.3\"><span class=\"toc-item-num\">2.3&nbsp;&nbsp;</span>Исследуйте суммарную концентрацию всех веществ на разных стадиях: в сырье, в черновом и финальном концентратах.</a></span></li></ul></li><li><span><a href=\"#Модель\" data-toc-modified-id=\"Модель-3\"><span class=\"toc-item-num\">3&nbsp;&nbsp;</span>Модель</a></span><ul class=\"toc-item\"><li><span><a href=\"#Напишите-функцию-для-вычисления-итоговой-sMAPE\" data-toc-modified-id=\"Напишите-функцию-для-вычисления-итоговой-sMAPE-3.1\"><span class=\"toc-item-num\">3.1&nbsp;&nbsp;</span>Напишите функцию для вычисления итоговой sMAPE</a></span></li><li><span><a href=\"#Обучите-разные-модели-и-оцените-их-качество-кросс-валидацией\" data-toc-modified-id=\"Обучите-разные-модели-и-оцените-их-качество-кросс-валидацией-3.2\"><span class=\"toc-item-num\">3.2&nbsp;&nbsp;</span>Обучите разные модели и оцените их качество кросс-валидацией</a></span>"
   ]
  },
  {
   "cell_type": "markdown",
   "metadata": {},
   "source": [
    "# Восстановление золота из руды"
   ]
  },
  {
   "cell_type": "markdown",
   "metadata": {},
   "source": [
    "Подготовьте прототип модели машинного обучения для «Цифры». Компания разрабатывает решения для эффективной работы промышленных предприятий.\n",
    "\n",
    "Модель должна предсказать коэффициент восстановления золота из золотосодержащей руды. Используйте данные с параметрами добычи и очистки. \n",
    "\n",
    "Модель поможет оптимизировать производство, чтобы не запускать предприятие с убыточными характеристиками.\n",
    "\n",
    "Вам нужно:\n",
    "\n",
    "1. Подготовить данные;\n",
    "2. Провести исследовательский анализ данных;\n",
    "3. Построить и обучить модель.\n",
    "\n",
    "Чтобы выполнить проект, обращайтесь к библиотекам *pandas*, *matplotlib* и *sklearn.* Вам поможет их документация.\n",
    "\n",
    "Описание данных \n",
    "\n",
    "Технологический процесс\n",
    "- Rougher feed — исходное сырье\n",
    "- Rougher additions (или reagent additions) — флотационные реагенты: Xanthate, Sulphate, - Depressant\n",
    "    - Xanthate **— ксантогенат (промотер, или активатор флотации);\n",
    "    - Sulphate — сульфат (на данном производстве сульфид натрия);\n",
    "    - Depressant — депрессант (силикат натрия).\n",
    "- Rougher process (англ. «грубый процесс») — флотация\n",
    "- Rougher tails — отвальные хвосты\n",
    "- Float banks — флотационная установка\n",
    "- Cleaner process — очистка\n",
    "- Rougher Au — черновой концентрат золота\n",
    "- Final Au — финальный концентрат золота\n",
    "\n",
    "Параметры этапов\n",
    "- air amount — объём воздуха\n",
    "- fluid levels — уровень жидкости\n",
    "- feed size — размер гранул сырья\n",
    "- feed rate — скорость подачи\n",
    "\n",
    "Наименование признаков\n",
    "Наименование признаков должно быть такое:\n",
    "`[этап].[тип_параметра].[название_параметра]`\n",
    "Пример: `rougher.input.feed_ag`\n",
    "\n",
    "Возможные значения для блока `[этап]`:\n",
    "- rougher — флотация\n",
    "- primary_cleaner — первичная очистка\n",
    "- secondary_cleaner — вторичная очистка\n",
    "- final — финальные характеристики\n",
    "\n",
    "Возможные значения для блока `[тип_параметра]`:\n",
    "- input — параметры сырья\n",
    "- output — параметры продукта\n",
    "- state — параметры, характеризующие текущее состояние этапа\n",
    "- calculation — расчётные характеристики"
   ]
  },
  {
   "cell_type": "markdown",
   "metadata": {},
   "source": [
    "## Подготовка данных"
   ]
  },
  {
   "cell_type": "markdown",
   "metadata": {},
   "source": [
    "Импортируем необходимые библиотеки и модули. Задача состоит в том, чтобы ///. Это задача ///, следовательно использовать будем те модули из библиотек, ///."
   ]
  },
  {
   "cell_type": "code",
   "execution_count": 1,
   "metadata": {},
   "outputs": [],
   "source": [
    "import pandas as pd # pandas для работы с данными\n",
    "import numpy as np # для математических функций\n",
    "import matplotlib.pyplot as plt # для построения графиков\n",
    "import seaborn as sns # для построения графиков\n",
    "from sklearn.linear_model import LinearRegression # линейная регрессия\n",
    "from sklearn.tree import DecisionTreeRegressor # дерево решений для регрессии \n",
    "from sklearn.ensemble import RandomForestRegressor # случайный лес для регрессии\n",
    "from sklearn.model_selection import GridSearchCV, cross_val_score # кросс-валидация\n",
    "from sklearn.dummy import DummyRegressor # случайная модель\n",
    "from sklearn.preprocessing import StandardScaler # структура для стандартизации данных\n",
    "from sklearn.model_selection import train_test_split # функция деления датафрейма на выборки \n",
    "# вычисление среднеквадратичной ошибки и корня из нее - RMSE\n",
    "from sklearn.metrics import make_scorer, mean_absolute_error # для создания своей оценки качества моделей"
   ]
  },
  {
   "cell_type": "markdown",
   "metadata": {},
   "source": [
    "### Откройте файлы и изучите их"
   ]
  },
  {
   "cell_type": "markdown",
   "metadata": {},
   "source": [
    "Прочитаем файлы и сохраним данные в переменные:\n",
    "- `gold_recovery_full` - исходный датасет\n",
    "- `gold_recovery_train` - тренеровочная выборка\n",
    "- `gold_recovery_test` - тестовая выборка"
   ]
  },
  {
   "cell_type": "code",
   "execution_count": 2,
   "metadata": {},
   "outputs": [],
   "source": [
    "gold_recovery_full = pd.read_csv('/datasets/gold_recovery_full_new.csv')\n",
    "gold_recovery_train = pd.read_csv('/datasets/gold_recovery_train_new.csv')\n",
    "gold_recovery_test = pd.read_csv('/datasets/gold_recovery_test_new.csv')"
   ]
  },
  {
   "cell_type": "markdown",
   "metadata": {},
   "source": [
    "Посмотрим на первые 5 строк каждого датафрейма, а также выведем общую информаци."
   ]
  },
  {
   "cell_type": "code",
   "execution_count": 3,
   "metadata": {},
   "outputs": [
    {
     "data": {
      "text/html": [
       "<div>\n",
       "<style scoped>\n",
       "    .dataframe tbody tr th:only-of-type {\n",
       "        vertical-align: middle;\n",
       "    }\n",
       "\n",
       "    .dataframe tbody tr th {\n",
       "        vertical-align: top;\n",
       "    }\n",
       "\n",
       "    .dataframe thead th {\n",
       "        text-align: right;\n",
       "    }\n",
       "</style>\n",
       "<table border=\"1\" class=\"dataframe\">\n",
       "  <thead>\n",
       "    <tr style=\"text-align: right;\">\n",
       "      <th></th>\n",
       "      <th>date</th>\n",
       "      <th>final.output.concentrate_ag</th>\n",
       "      <th>final.output.concentrate_pb</th>\n",
       "      <th>final.output.concentrate_sol</th>\n",
       "      <th>final.output.concentrate_au</th>\n",
       "      <th>final.output.recovery</th>\n",
       "      <th>final.output.tail_ag</th>\n",
       "      <th>final.output.tail_pb</th>\n",
       "      <th>final.output.tail_sol</th>\n",
       "      <th>final.output.tail_au</th>\n",
       "      <th>...</th>\n",
       "      <th>secondary_cleaner.state.floatbank4_a_air</th>\n",
       "      <th>secondary_cleaner.state.floatbank4_a_level</th>\n",
       "      <th>secondary_cleaner.state.floatbank4_b_air</th>\n",
       "      <th>secondary_cleaner.state.floatbank4_b_level</th>\n",
       "      <th>secondary_cleaner.state.floatbank5_a_air</th>\n",
       "      <th>secondary_cleaner.state.floatbank5_a_level</th>\n",
       "      <th>secondary_cleaner.state.floatbank5_b_air</th>\n",
       "      <th>secondary_cleaner.state.floatbank5_b_level</th>\n",
       "      <th>secondary_cleaner.state.floatbank6_a_air</th>\n",
       "      <th>secondary_cleaner.state.floatbank6_a_level</th>\n",
       "    </tr>\n",
       "  </thead>\n",
       "  <tbody>\n",
       "    <tr>\n",
       "      <th>0</th>\n",
       "      <td>2016-01-15 00:00:00</td>\n",
       "      <td>6.055403</td>\n",
       "      <td>9.889648</td>\n",
       "      <td>5.507324</td>\n",
       "      <td>42.192020</td>\n",
       "      <td>70.541216</td>\n",
       "      <td>10.411962</td>\n",
       "      <td>0.895447</td>\n",
       "      <td>16.904297</td>\n",
       "      <td>2.143149</td>\n",
       "      <td>...</td>\n",
       "      <td>14.016835</td>\n",
       "      <td>-502.488007</td>\n",
       "      <td>12.099931</td>\n",
       "      <td>-504.715942</td>\n",
       "      <td>9.925633</td>\n",
       "      <td>-498.310211</td>\n",
       "      <td>8.079666</td>\n",
       "      <td>-500.470978</td>\n",
       "      <td>14.151341</td>\n",
       "      <td>-605.841980</td>\n",
       "    </tr>\n",
       "    <tr>\n",
       "      <th>1</th>\n",
       "      <td>2016-01-15 01:00:00</td>\n",
       "      <td>6.029369</td>\n",
       "      <td>9.968944</td>\n",
       "      <td>5.257781</td>\n",
       "      <td>42.701629</td>\n",
       "      <td>69.266198</td>\n",
       "      <td>10.462676</td>\n",
       "      <td>0.927452</td>\n",
       "      <td>16.634514</td>\n",
       "      <td>2.224930</td>\n",
       "      <td>...</td>\n",
       "      <td>13.992281</td>\n",
       "      <td>-505.503262</td>\n",
       "      <td>11.950531</td>\n",
       "      <td>-501.331529</td>\n",
       "      <td>10.039245</td>\n",
       "      <td>-500.169983</td>\n",
       "      <td>7.984757</td>\n",
       "      <td>-500.582168</td>\n",
       "      <td>13.998353</td>\n",
       "      <td>-599.787184</td>\n",
       "    </tr>\n",
       "    <tr>\n",
       "      <th>2</th>\n",
       "      <td>2016-01-15 02:00:00</td>\n",
       "      <td>6.055926</td>\n",
       "      <td>10.213995</td>\n",
       "      <td>5.383759</td>\n",
       "      <td>42.657501</td>\n",
       "      <td>68.116445</td>\n",
       "      <td>10.507046</td>\n",
       "      <td>0.953716</td>\n",
       "      <td>16.208849</td>\n",
       "      <td>2.257889</td>\n",
       "      <td>...</td>\n",
       "      <td>14.015015</td>\n",
       "      <td>-502.520901</td>\n",
       "      <td>11.912783</td>\n",
       "      <td>-501.133383</td>\n",
       "      <td>10.070913</td>\n",
       "      <td>-500.129135</td>\n",
       "      <td>8.013877</td>\n",
       "      <td>-500.517572</td>\n",
       "      <td>14.028663</td>\n",
       "      <td>-601.427363</td>\n",
       "    </tr>\n",
       "    <tr>\n",
       "      <th>3</th>\n",
       "      <td>2016-01-15 03:00:00</td>\n",
       "      <td>6.047977</td>\n",
       "      <td>9.977019</td>\n",
       "      <td>4.858634</td>\n",
       "      <td>42.689819</td>\n",
       "      <td>68.347543</td>\n",
       "      <td>10.422762</td>\n",
       "      <td>0.883763</td>\n",
       "      <td>16.532835</td>\n",
       "      <td>2.146849</td>\n",
       "      <td>...</td>\n",
       "      <td>14.036510</td>\n",
       "      <td>-500.857308</td>\n",
       "      <td>11.999550</td>\n",
       "      <td>-501.193686</td>\n",
       "      <td>9.970366</td>\n",
       "      <td>-499.201640</td>\n",
       "      <td>7.977324</td>\n",
       "      <td>-500.255908</td>\n",
       "      <td>14.005551</td>\n",
       "      <td>-599.996129</td>\n",
       "    </tr>\n",
       "    <tr>\n",
       "      <th>4</th>\n",
       "      <td>2016-01-15 04:00:00</td>\n",
       "      <td>6.148599</td>\n",
       "      <td>10.142511</td>\n",
       "      <td>4.939416</td>\n",
       "      <td>42.774141</td>\n",
       "      <td>66.927016</td>\n",
       "      <td>10.360302</td>\n",
       "      <td>0.792826</td>\n",
       "      <td>16.525686</td>\n",
       "      <td>2.055292</td>\n",
       "      <td>...</td>\n",
       "      <td>14.027298</td>\n",
       "      <td>-499.838632</td>\n",
       "      <td>11.953070</td>\n",
       "      <td>-501.053894</td>\n",
       "      <td>9.925709</td>\n",
       "      <td>-501.686727</td>\n",
       "      <td>7.894242</td>\n",
       "      <td>-500.356035</td>\n",
       "      <td>13.996647</td>\n",
       "      <td>-601.496691</td>\n",
       "    </tr>\n",
       "  </tbody>\n",
       "</table>\n",
       "<p>5 rows × 87 columns</p>\n",
       "</div>"
      ],
      "text/plain": [
       "                  date  final.output.concentrate_ag  \\\n",
       "0  2016-01-15 00:00:00                     6.055403   \n",
       "1  2016-01-15 01:00:00                     6.029369   \n",
       "2  2016-01-15 02:00:00                     6.055926   \n",
       "3  2016-01-15 03:00:00                     6.047977   \n",
       "4  2016-01-15 04:00:00                     6.148599   \n",
       "\n",
       "   final.output.concentrate_pb  final.output.concentrate_sol  \\\n",
       "0                     9.889648                      5.507324   \n",
       "1                     9.968944                      5.257781   \n",
       "2                    10.213995                      5.383759   \n",
       "3                     9.977019                      4.858634   \n",
       "4                    10.142511                      4.939416   \n",
       "\n",
       "   final.output.concentrate_au  final.output.recovery  final.output.tail_ag  \\\n",
       "0                    42.192020              70.541216             10.411962   \n",
       "1                    42.701629              69.266198             10.462676   \n",
       "2                    42.657501              68.116445             10.507046   \n",
       "3                    42.689819              68.347543             10.422762   \n",
       "4                    42.774141              66.927016             10.360302   \n",
       "\n",
       "   final.output.tail_pb  final.output.tail_sol  final.output.tail_au  ...  \\\n",
       "0              0.895447              16.904297              2.143149  ...   \n",
       "1              0.927452              16.634514              2.224930  ...   \n",
       "2              0.953716              16.208849              2.257889  ...   \n",
       "3              0.883763              16.532835              2.146849  ...   \n",
       "4              0.792826              16.525686              2.055292  ...   \n",
       "\n",
       "   secondary_cleaner.state.floatbank4_a_air  \\\n",
       "0                                 14.016835   \n",
       "1                                 13.992281   \n",
       "2                                 14.015015   \n",
       "3                                 14.036510   \n",
       "4                                 14.027298   \n",
       "\n",
       "   secondary_cleaner.state.floatbank4_a_level  \\\n",
       "0                                 -502.488007   \n",
       "1                                 -505.503262   \n",
       "2                                 -502.520901   \n",
       "3                                 -500.857308   \n",
       "4                                 -499.838632   \n",
       "\n",
       "   secondary_cleaner.state.floatbank4_b_air  \\\n",
       "0                                 12.099931   \n",
       "1                                 11.950531   \n",
       "2                                 11.912783   \n",
       "3                                 11.999550   \n",
       "4                                 11.953070   \n",
       "\n",
       "   secondary_cleaner.state.floatbank4_b_level  \\\n",
       "0                                 -504.715942   \n",
       "1                                 -501.331529   \n",
       "2                                 -501.133383   \n",
       "3                                 -501.193686   \n",
       "4                                 -501.053894   \n",
       "\n",
       "   secondary_cleaner.state.floatbank5_a_air  \\\n",
       "0                                  9.925633   \n",
       "1                                 10.039245   \n",
       "2                                 10.070913   \n",
       "3                                  9.970366   \n",
       "4                                  9.925709   \n",
       "\n",
       "   secondary_cleaner.state.floatbank5_a_level  \\\n",
       "0                                 -498.310211   \n",
       "1                                 -500.169983   \n",
       "2                                 -500.129135   \n",
       "3                                 -499.201640   \n",
       "4                                 -501.686727   \n",
       "\n",
       "   secondary_cleaner.state.floatbank5_b_air  \\\n",
       "0                                  8.079666   \n",
       "1                                  7.984757   \n",
       "2                                  8.013877   \n",
       "3                                  7.977324   \n",
       "4                                  7.894242   \n",
       "\n",
       "   secondary_cleaner.state.floatbank5_b_level  \\\n",
       "0                                 -500.470978   \n",
       "1                                 -500.582168   \n",
       "2                                 -500.517572   \n",
       "3                                 -500.255908   \n",
       "4                                 -500.356035   \n",
       "\n",
       "   secondary_cleaner.state.floatbank6_a_air  \\\n",
       "0                                 14.151341   \n",
       "1                                 13.998353   \n",
       "2                                 14.028663   \n",
       "3                                 14.005551   \n",
       "4                                 13.996647   \n",
       "\n",
       "   secondary_cleaner.state.floatbank6_a_level  \n",
       "0                                 -605.841980  \n",
       "1                                 -599.787184  \n",
       "2                                 -601.427363  \n",
       "3                                 -599.996129  \n",
       "4                                 -601.496691  \n",
       "\n",
       "[5 rows x 87 columns]"
      ]
     },
     "execution_count": 3,
     "metadata": {},
     "output_type": "execute_result"
    }
   ],
   "source": [
    "gold_recovery_full.head()"
   ]
  },
  {
   "cell_type": "code",
   "execution_count": 4,
   "metadata": {
    "scrolled": true
   },
   "outputs": [
    {
     "name": "stdout",
     "output_type": "stream",
     "text": [
      "<class 'pandas.core.frame.DataFrame'>\n",
      "RangeIndex: 19439 entries, 0 to 19438\n",
      "Data columns (total 87 columns):\n",
      " #   Column                                              Non-Null Count  Dtype  \n",
      "---  ------                                              --------------  -----  \n",
      " 0   date                                                19439 non-null  object \n",
      " 1   final.output.concentrate_ag                         19438 non-null  float64\n",
      " 2   final.output.concentrate_pb                         19438 non-null  float64\n",
      " 3   final.output.concentrate_sol                        19228 non-null  float64\n",
      " 4   final.output.concentrate_au                         19439 non-null  float64\n",
      " 5   final.output.recovery                               19439 non-null  float64\n",
      " 6   final.output.tail_ag                                19438 non-null  float64\n",
      " 7   final.output.tail_pb                                19338 non-null  float64\n",
      " 8   final.output.tail_sol                               19433 non-null  float64\n",
      " 9   final.output.tail_au                                19439 non-null  float64\n",
      " 10  primary_cleaner.input.sulfate                       19415 non-null  float64\n",
      " 11  primary_cleaner.input.depressant                    19402 non-null  float64\n",
      " 12  primary_cleaner.input.feed_size                     19439 non-null  float64\n",
      " 13  primary_cleaner.input.xanthate                      19335 non-null  float64\n",
      " 14  primary_cleaner.output.concentrate_ag               19439 non-null  float64\n",
      " 15  primary_cleaner.output.concentrate_pb               19323 non-null  float64\n",
      " 16  primary_cleaner.output.concentrate_sol              19069 non-null  float64\n",
      " 17  primary_cleaner.output.concentrate_au               19439 non-null  float64\n",
      " 18  primary_cleaner.output.tail_ag                      19435 non-null  float64\n",
      " 19  primary_cleaner.output.tail_pb                      19418 non-null  float64\n",
      " 20  primary_cleaner.output.tail_sol                     19377 non-null  float64\n",
      " 21  primary_cleaner.output.tail_au                      19439 non-null  float64\n",
      " 22  primary_cleaner.state.floatbank8_a_air              19435 non-null  float64\n",
      " 23  primary_cleaner.state.floatbank8_a_level            19438 non-null  float64\n",
      " 24  primary_cleaner.state.floatbank8_b_air              19435 non-null  float64\n",
      " 25  primary_cleaner.state.floatbank8_b_level            19438 non-null  float64\n",
      " 26  primary_cleaner.state.floatbank8_c_air              19437 non-null  float64\n",
      " 27  primary_cleaner.state.floatbank8_c_level            19438 non-null  float64\n",
      " 28  primary_cleaner.state.floatbank8_d_air              19436 non-null  float64\n",
      " 29  primary_cleaner.state.floatbank8_d_level            19438 non-null  float64\n",
      " 30  rougher.calculation.sulfate_to_au_concentrate       19437 non-null  float64\n",
      " 31  rougher.calculation.floatbank10_sulfate_to_au_feed  19437 non-null  float64\n",
      " 32  rougher.calculation.floatbank11_sulfate_to_au_feed  19437 non-null  float64\n",
      " 33  rougher.calculation.au_pb_ratio                     19439 non-null  float64\n",
      " 34  rougher.input.feed_ag                               19439 non-null  float64\n",
      " 35  rougher.input.feed_pb                               19339 non-null  float64\n",
      " 36  rougher.input.feed_rate                             19428 non-null  float64\n",
      " 37  rougher.input.feed_size                             19294 non-null  float64\n",
      " 38  rougher.input.feed_sol                              19340 non-null  float64\n",
      " 39  rougher.input.feed_au                               19439 non-null  float64\n",
      " 40  rougher.input.floatbank10_sulfate                   19405 non-null  float64\n",
      " 41  rougher.input.floatbank10_xanthate                  19431 non-null  float64\n",
      " 42  rougher.input.floatbank11_sulfate                   19395 non-null  float64\n",
      " 43  rougher.input.floatbank11_xanthate                  18986 non-null  float64\n",
      " 44  rougher.output.concentrate_ag                       19439 non-null  float64\n",
      " 45  rougher.output.concentrate_pb                       19439 non-null  float64\n",
      " 46  rougher.output.concentrate_sol                      19416 non-null  float64\n",
      " 47  rougher.output.concentrate_au                       19439 non-null  float64\n",
      " 48  rougher.output.recovery                             19439 non-null  float64\n",
      " 49  rougher.output.tail_ag                              19438 non-null  float64\n",
      " 50  rougher.output.tail_pb                              19439 non-null  float64\n",
      " 51  rougher.output.tail_sol                             19439 non-null  float64\n",
      " 52  rougher.output.tail_au                              19439 non-null  float64\n",
      " 53  rougher.state.floatbank10_a_air                     19438 non-null  float64\n",
      " 54  rougher.state.floatbank10_a_level                   19438 non-null  float64\n",
      " 55  rougher.state.floatbank10_b_air                     19438 non-null  float64\n",
      " 56  rougher.state.floatbank10_b_level                   19438 non-null  float64\n",
      " 57  rougher.state.floatbank10_c_air                     19438 non-null  float64\n",
      " 58  rougher.state.floatbank10_c_level                   19438 non-null  float64\n",
      " 59  rougher.state.floatbank10_d_air                     19439 non-null  float64\n",
      " 60  rougher.state.floatbank10_d_level                   19439 non-null  float64\n",
      " 61  rougher.state.floatbank10_e_air                     19003 non-null  float64\n",
      " 62  rougher.state.floatbank10_e_level                   19439 non-null  float64\n",
      " 63  rougher.state.floatbank10_f_air                     19439 non-null  float64\n",
      " 64  rougher.state.floatbank10_f_level                   19439 non-null  float64\n",
      " 65  secondary_cleaner.output.tail_ag                    19437 non-null  float64\n",
      " 66  secondary_cleaner.output.tail_pb                    19427 non-null  float64\n",
      " 67  secondary_cleaner.output.tail_sol                   17691 non-null  float64\n",
      " 68  secondary_cleaner.output.tail_au                    19439 non-null  float64\n",
      " 69  secondary_cleaner.state.floatbank2_a_air            19219 non-null  float64\n",
      " 70  secondary_cleaner.state.floatbank2_a_level          19438 non-null  float64\n",
      " 71  secondary_cleaner.state.floatbank2_b_air            19416 non-null  float64\n",
      " 72  secondary_cleaner.state.floatbank2_b_level          19438 non-null  float64\n",
      " 73  secondary_cleaner.state.floatbank3_a_air            19426 non-null  float64\n",
      " 74  secondary_cleaner.state.floatbank3_a_level          19438 non-null  float64\n",
      " 75  secondary_cleaner.state.floatbank3_b_air            19438 non-null  float64\n",
      " 76  secondary_cleaner.state.floatbank3_b_level          19438 non-null  float64\n",
      " 77  secondary_cleaner.state.floatbank4_a_air            19433 non-null  float64\n",
      " 78  secondary_cleaner.state.floatbank4_a_level          19438 non-null  float64\n",
      " 79  secondary_cleaner.state.floatbank4_b_air            19438 non-null  float64\n",
      " 80  secondary_cleaner.state.floatbank4_b_level          19438 non-null  float64\n",
      " 81  secondary_cleaner.state.floatbank5_a_air            19438 non-null  float64\n",
      " 82  secondary_cleaner.state.floatbank5_a_level          19438 non-null  float64\n",
      " 83  secondary_cleaner.state.floatbank5_b_air            19438 non-null  float64\n",
      " 84  secondary_cleaner.state.floatbank5_b_level          19438 non-null  float64\n",
      " 85  secondary_cleaner.state.floatbank6_a_air            19437 non-null  float64\n",
      " 86  secondary_cleaner.state.floatbank6_a_level          19438 non-null  float64\n",
      "dtypes: float64(86), object(1)\n",
      "memory usage: 12.9+ MB\n"
     ]
    }
   ],
   "source": [
    "gold_recovery_full.info()"
   ]
  },
  {
   "cell_type": "code",
   "execution_count": 5,
   "metadata": {},
   "outputs": [
    {
     "data": {
      "text/html": [
       "<div>\n",
       "<style scoped>\n",
       "    .dataframe tbody tr th:only-of-type {\n",
       "        vertical-align: middle;\n",
       "    }\n",
       "\n",
       "    .dataframe tbody tr th {\n",
       "        vertical-align: top;\n",
       "    }\n",
       "\n",
       "    .dataframe thead th {\n",
       "        text-align: right;\n",
       "    }\n",
       "</style>\n",
       "<table border=\"1\" class=\"dataframe\">\n",
       "  <thead>\n",
       "    <tr style=\"text-align: right;\">\n",
       "      <th></th>\n",
       "      <th>date</th>\n",
       "      <th>final.output.concentrate_ag</th>\n",
       "      <th>final.output.concentrate_pb</th>\n",
       "      <th>final.output.concentrate_sol</th>\n",
       "      <th>final.output.concentrate_au</th>\n",
       "      <th>final.output.recovery</th>\n",
       "      <th>final.output.tail_ag</th>\n",
       "      <th>final.output.tail_pb</th>\n",
       "      <th>final.output.tail_sol</th>\n",
       "      <th>final.output.tail_au</th>\n",
       "      <th>...</th>\n",
       "      <th>secondary_cleaner.state.floatbank4_a_air</th>\n",
       "      <th>secondary_cleaner.state.floatbank4_a_level</th>\n",
       "      <th>secondary_cleaner.state.floatbank4_b_air</th>\n",
       "      <th>secondary_cleaner.state.floatbank4_b_level</th>\n",
       "      <th>secondary_cleaner.state.floatbank5_a_air</th>\n",
       "      <th>secondary_cleaner.state.floatbank5_a_level</th>\n",
       "      <th>secondary_cleaner.state.floatbank5_b_air</th>\n",
       "      <th>secondary_cleaner.state.floatbank5_b_level</th>\n",
       "      <th>secondary_cleaner.state.floatbank6_a_air</th>\n",
       "      <th>secondary_cleaner.state.floatbank6_a_level</th>\n",
       "    </tr>\n",
       "  </thead>\n",
       "  <tbody>\n",
       "    <tr>\n",
       "      <th>0</th>\n",
       "      <td>2016-01-15 00:00:00</td>\n",
       "      <td>6.055403</td>\n",
       "      <td>9.889648</td>\n",
       "      <td>5.507324</td>\n",
       "      <td>42.192020</td>\n",
       "      <td>70.541216</td>\n",
       "      <td>10.411962</td>\n",
       "      <td>0.895447</td>\n",
       "      <td>16.904297</td>\n",
       "      <td>2.143149</td>\n",
       "      <td>...</td>\n",
       "      <td>14.016835</td>\n",
       "      <td>-502.488007</td>\n",
       "      <td>12.099931</td>\n",
       "      <td>-504.715942</td>\n",
       "      <td>9.925633</td>\n",
       "      <td>-498.310211</td>\n",
       "      <td>8.079666</td>\n",
       "      <td>-500.470978</td>\n",
       "      <td>14.151341</td>\n",
       "      <td>-605.841980</td>\n",
       "    </tr>\n",
       "    <tr>\n",
       "      <th>1</th>\n",
       "      <td>2016-01-15 01:00:00</td>\n",
       "      <td>6.029369</td>\n",
       "      <td>9.968944</td>\n",
       "      <td>5.257781</td>\n",
       "      <td>42.701629</td>\n",
       "      <td>69.266198</td>\n",
       "      <td>10.462676</td>\n",
       "      <td>0.927452</td>\n",
       "      <td>16.634514</td>\n",
       "      <td>2.224930</td>\n",
       "      <td>...</td>\n",
       "      <td>13.992281</td>\n",
       "      <td>-505.503262</td>\n",
       "      <td>11.950531</td>\n",
       "      <td>-501.331529</td>\n",
       "      <td>10.039245</td>\n",
       "      <td>-500.169983</td>\n",
       "      <td>7.984757</td>\n",
       "      <td>-500.582168</td>\n",
       "      <td>13.998353</td>\n",
       "      <td>-599.787184</td>\n",
       "    </tr>\n",
       "    <tr>\n",
       "      <th>2</th>\n",
       "      <td>2016-01-15 02:00:00</td>\n",
       "      <td>6.055926</td>\n",
       "      <td>10.213995</td>\n",
       "      <td>5.383759</td>\n",
       "      <td>42.657501</td>\n",
       "      <td>68.116445</td>\n",
       "      <td>10.507046</td>\n",
       "      <td>0.953716</td>\n",
       "      <td>16.208849</td>\n",
       "      <td>2.257889</td>\n",
       "      <td>...</td>\n",
       "      <td>14.015015</td>\n",
       "      <td>-502.520901</td>\n",
       "      <td>11.912783</td>\n",
       "      <td>-501.133383</td>\n",
       "      <td>10.070913</td>\n",
       "      <td>-500.129135</td>\n",
       "      <td>8.013877</td>\n",
       "      <td>-500.517572</td>\n",
       "      <td>14.028663</td>\n",
       "      <td>-601.427363</td>\n",
       "    </tr>\n",
       "    <tr>\n",
       "      <th>3</th>\n",
       "      <td>2016-01-15 03:00:00</td>\n",
       "      <td>6.047977</td>\n",
       "      <td>9.977019</td>\n",
       "      <td>4.858634</td>\n",
       "      <td>42.689819</td>\n",
       "      <td>68.347543</td>\n",
       "      <td>10.422762</td>\n",
       "      <td>0.883763</td>\n",
       "      <td>16.532835</td>\n",
       "      <td>2.146849</td>\n",
       "      <td>...</td>\n",
       "      <td>14.036510</td>\n",
       "      <td>-500.857308</td>\n",
       "      <td>11.999550</td>\n",
       "      <td>-501.193686</td>\n",
       "      <td>9.970366</td>\n",
       "      <td>-499.201640</td>\n",
       "      <td>7.977324</td>\n",
       "      <td>-500.255908</td>\n",
       "      <td>14.005551</td>\n",
       "      <td>-599.996129</td>\n",
       "    </tr>\n",
       "    <tr>\n",
       "      <th>4</th>\n",
       "      <td>2016-01-15 04:00:00</td>\n",
       "      <td>6.148599</td>\n",
       "      <td>10.142511</td>\n",
       "      <td>4.939416</td>\n",
       "      <td>42.774141</td>\n",
       "      <td>66.927016</td>\n",
       "      <td>10.360302</td>\n",
       "      <td>0.792826</td>\n",
       "      <td>16.525686</td>\n",
       "      <td>2.055292</td>\n",
       "      <td>...</td>\n",
       "      <td>14.027298</td>\n",
       "      <td>-499.838632</td>\n",
       "      <td>11.953070</td>\n",
       "      <td>-501.053894</td>\n",
       "      <td>9.925709</td>\n",
       "      <td>-501.686727</td>\n",
       "      <td>7.894242</td>\n",
       "      <td>-500.356035</td>\n",
       "      <td>13.996647</td>\n",
       "      <td>-601.496691</td>\n",
       "    </tr>\n",
       "  </tbody>\n",
       "</table>\n",
       "<p>5 rows × 87 columns</p>\n",
       "</div>"
      ],
      "text/plain": [
       "                  date  final.output.concentrate_ag  \\\n",
       "0  2016-01-15 00:00:00                     6.055403   \n",
       "1  2016-01-15 01:00:00                     6.029369   \n",
       "2  2016-01-15 02:00:00                     6.055926   \n",
       "3  2016-01-15 03:00:00                     6.047977   \n",
       "4  2016-01-15 04:00:00                     6.148599   \n",
       "\n",
       "   final.output.concentrate_pb  final.output.concentrate_sol  \\\n",
       "0                     9.889648                      5.507324   \n",
       "1                     9.968944                      5.257781   \n",
       "2                    10.213995                      5.383759   \n",
       "3                     9.977019                      4.858634   \n",
       "4                    10.142511                      4.939416   \n",
       "\n",
       "   final.output.concentrate_au  final.output.recovery  final.output.tail_ag  \\\n",
       "0                    42.192020              70.541216             10.411962   \n",
       "1                    42.701629              69.266198             10.462676   \n",
       "2                    42.657501              68.116445             10.507046   \n",
       "3                    42.689819              68.347543             10.422762   \n",
       "4                    42.774141              66.927016             10.360302   \n",
       "\n",
       "   final.output.tail_pb  final.output.tail_sol  final.output.tail_au  ...  \\\n",
       "0              0.895447              16.904297              2.143149  ...   \n",
       "1              0.927452              16.634514              2.224930  ...   \n",
       "2              0.953716              16.208849              2.257889  ...   \n",
       "3              0.883763              16.532835              2.146849  ...   \n",
       "4              0.792826              16.525686              2.055292  ...   \n",
       "\n",
       "   secondary_cleaner.state.floatbank4_a_air  \\\n",
       "0                                 14.016835   \n",
       "1                                 13.992281   \n",
       "2                                 14.015015   \n",
       "3                                 14.036510   \n",
       "4                                 14.027298   \n",
       "\n",
       "   secondary_cleaner.state.floatbank4_a_level  \\\n",
       "0                                 -502.488007   \n",
       "1                                 -505.503262   \n",
       "2                                 -502.520901   \n",
       "3                                 -500.857308   \n",
       "4                                 -499.838632   \n",
       "\n",
       "   secondary_cleaner.state.floatbank4_b_air  \\\n",
       "0                                 12.099931   \n",
       "1                                 11.950531   \n",
       "2                                 11.912783   \n",
       "3                                 11.999550   \n",
       "4                                 11.953070   \n",
       "\n",
       "   secondary_cleaner.state.floatbank4_b_level  \\\n",
       "0                                 -504.715942   \n",
       "1                                 -501.331529   \n",
       "2                                 -501.133383   \n",
       "3                                 -501.193686   \n",
       "4                                 -501.053894   \n",
       "\n",
       "   secondary_cleaner.state.floatbank5_a_air  \\\n",
       "0                                  9.925633   \n",
       "1                                 10.039245   \n",
       "2                                 10.070913   \n",
       "3                                  9.970366   \n",
       "4                                  9.925709   \n",
       "\n",
       "   secondary_cleaner.state.floatbank5_a_level  \\\n",
       "0                                 -498.310211   \n",
       "1                                 -500.169983   \n",
       "2                                 -500.129135   \n",
       "3                                 -499.201640   \n",
       "4                                 -501.686727   \n",
       "\n",
       "   secondary_cleaner.state.floatbank5_b_air  \\\n",
       "0                                  8.079666   \n",
       "1                                  7.984757   \n",
       "2                                  8.013877   \n",
       "3                                  7.977324   \n",
       "4                                  7.894242   \n",
       "\n",
       "   secondary_cleaner.state.floatbank5_b_level  \\\n",
       "0                                 -500.470978   \n",
       "1                                 -500.582168   \n",
       "2                                 -500.517572   \n",
       "3                                 -500.255908   \n",
       "4                                 -500.356035   \n",
       "\n",
       "   secondary_cleaner.state.floatbank6_a_air  \\\n",
       "0                                 14.151341   \n",
       "1                                 13.998353   \n",
       "2                                 14.028663   \n",
       "3                                 14.005551   \n",
       "4                                 13.996647   \n",
       "\n",
       "   secondary_cleaner.state.floatbank6_a_level  \n",
       "0                                 -605.841980  \n",
       "1                                 -599.787184  \n",
       "2                                 -601.427363  \n",
       "3                                 -599.996129  \n",
       "4                                 -601.496691  \n",
       "\n",
       "[5 rows x 87 columns]"
      ]
     },
     "execution_count": 5,
     "metadata": {},
     "output_type": "execute_result"
    }
   ],
   "source": [
    "gold_recovery_train.head()"
   ]
  },
  {
   "cell_type": "code",
   "execution_count": 6,
   "metadata": {
    "scrolled": true
   },
   "outputs": [
    {
     "name": "stdout",
     "output_type": "stream",
     "text": [
      "<class 'pandas.core.frame.DataFrame'>\n",
      "RangeIndex: 14149 entries, 0 to 14148\n",
      "Data columns (total 87 columns):\n",
      " #   Column                                              Non-Null Count  Dtype  \n",
      "---  ------                                              --------------  -----  \n",
      " 0   date                                                14149 non-null  object \n",
      " 1   final.output.concentrate_ag                         14148 non-null  float64\n",
      " 2   final.output.concentrate_pb                         14148 non-null  float64\n",
      " 3   final.output.concentrate_sol                        13938 non-null  float64\n",
      " 4   final.output.concentrate_au                         14149 non-null  float64\n",
      " 5   final.output.recovery                               14149 non-null  float64\n",
      " 6   final.output.tail_ag                                14149 non-null  float64\n",
      " 7   final.output.tail_pb                                14049 non-null  float64\n",
      " 8   final.output.tail_sol                               14144 non-null  float64\n",
      " 9   final.output.tail_au                                14149 non-null  float64\n",
      " 10  primary_cleaner.input.sulfate                       14129 non-null  float64\n",
      " 11  primary_cleaner.input.depressant                    14117 non-null  float64\n",
      " 12  primary_cleaner.input.feed_size                     14149 non-null  float64\n",
      " 13  primary_cleaner.input.xanthate                      14049 non-null  float64\n",
      " 14  primary_cleaner.output.concentrate_ag               14149 non-null  float64\n",
      " 15  primary_cleaner.output.concentrate_pb               14063 non-null  float64\n",
      " 16  primary_cleaner.output.concentrate_sol              13863 non-null  float64\n",
      " 17  primary_cleaner.output.concentrate_au               14149 non-null  float64\n",
      " 18  primary_cleaner.output.tail_ag                      14148 non-null  float64\n",
      " 19  primary_cleaner.output.tail_pb                      14134 non-null  float64\n",
      " 20  primary_cleaner.output.tail_sol                     14103 non-null  float64\n",
      " 21  primary_cleaner.output.tail_au                      14149 non-null  float64\n",
      " 22  primary_cleaner.state.floatbank8_a_air              14145 non-null  float64\n",
      " 23  primary_cleaner.state.floatbank8_a_level            14148 non-null  float64\n",
      " 24  primary_cleaner.state.floatbank8_b_air              14145 non-null  float64\n",
      " 25  primary_cleaner.state.floatbank8_b_level            14148 non-null  float64\n",
      " 26  primary_cleaner.state.floatbank8_c_air              14147 non-null  float64\n",
      " 27  primary_cleaner.state.floatbank8_c_level            14148 non-null  float64\n",
      " 28  primary_cleaner.state.floatbank8_d_air              14146 non-null  float64\n",
      " 29  primary_cleaner.state.floatbank8_d_level            14148 non-null  float64\n",
      " 30  rougher.calculation.sulfate_to_au_concentrate       14148 non-null  float64\n",
      " 31  rougher.calculation.floatbank10_sulfate_to_au_feed  14148 non-null  float64\n",
      " 32  rougher.calculation.floatbank11_sulfate_to_au_feed  14148 non-null  float64\n",
      " 33  rougher.calculation.au_pb_ratio                     14149 non-null  float64\n",
      " 34  rougher.input.feed_ag                               14149 non-null  float64\n",
      " 35  rougher.input.feed_pb                               14049 non-null  float64\n",
      " 36  rougher.input.feed_rate                             14141 non-null  float64\n",
      " 37  rougher.input.feed_size                             14005 non-null  float64\n",
      " 38  rougher.input.feed_sol                              14071 non-null  float64\n",
      " 39  rougher.input.feed_au                               14149 non-null  float64\n",
      " 40  rougher.input.floatbank10_sulfate                   14120 non-null  float64\n",
      " 41  rougher.input.floatbank10_xanthate                  14141 non-null  float64\n",
      " 42  rougher.input.floatbank11_sulfate                   14113 non-null  float64\n",
      " 43  rougher.input.floatbank11_xanthate                  13721 non-null  float64\n",
      " 44  rougher.output.concentrate_ag                       14149 non-null  float64\n",
      " 45  rougher.output.concentrate_pb                       14149 non-null  float64\n",
      " 46  rougher.output.concentrate_sol                      14127 non-null  float64\n",
      " 47  rougher.output.concentrate_au                       14149 non-null  float64\n",
      " 48  rougher.output.recovery                             14149 non-null  float64\n",
      " 49  rougher.output.tail_ag                              14148 non-null  float64\n",
      " 50  rougher.output.tail_pb                              14149 non-null  float64\n",
      " 51  rougher.output.tail_sol                             14149 non-null  float64\n",
      " 52  rougher.output.tail_au                              14149 non-null  float64\n",
      " 53  rougher.state.floatbank10_a_air                     14148 non-null  float64\n",
      " 54  rougher.state.floatbank10_a_level                   14148 non-null  float64\n",
      " 55  rougher.state.floatbank10_b_air                     14148 non-null  float64\n",
      " 56  rougher.state.floatbank10_b_level                   14148 non-null  float64\n",
      " 57  rougher.state.floatbank10_c_air                     14148 non-null  float64\n",
      " 58  rougher.state.floatbank10_c_level                   14148 non-null  float64\n",
      " 59  rougher.state.floatbank10_d_air                     14149 non-null  float64\n",
      " 60  rougher.state.floatbank10_d_level                   14149 non-null  float64\n",
      " 61  rougher.state.floatbank10_e_air                     13713 non-null  float64\n",
      " 62  rougher.state.floatbank10_e_level                   14149 non-null  float64\n",
      " 63  rougher.state.floatbank10_f_air                     14149 non-null  float64\n",
      " 64  rougher.state.floatbank10_f_level                   14149 non-null  float64\n",
      " 65  secondary_cleaner.output.tail_ag                    14147 non-null  float64\n",
      " 66  secondary_cleaner.output.tail_pb                    14139 non-null  float64\n",
      " 67  secondary_cleaner.output.tail_sol                   12544 non-null  float64\n",
      " 68  secondary_cleaner.output.tail_au                    14149 non-null  float64\n",
      " 69  secondary_cleaner.state.floatbank2_a_air            13932 non-null  float64\n",
      " 70  secondary_cleaner.state.floatbank2_a_level          14148 non-null  float64\n",
      " 71  secondary_cleaner.state.floatbank2_b_air            14128 non-null  float64\n",
      " 72  secondary_cleaner.state.floatbank2_b_level          14148 non-null  float64\n",
      " 73  secondary_cleaner.state.floatbank3_a_air            14145 non-null  float64\n",
      " 74  secondary_cleaner.state.floatbank3_a_level          14148 non-null  float64\n",
      " 75  secondary_cleaner.state.floatbank3_b_air            14148 non-null  float64\n",
      " 76  secondary_cleaner.state.floatbank3_b_level          14148 non-null  float64\n",
      " 77  secondary_cleaner.state.floatbank4_a_air            14143 non-null  float64\n",
      " 78  secondary_cleaner.state.floatbank4_a_level          14148 non-null  float64\n",
      " 79  secondary_cleaner.state.floatbank4_b_air            14148 non-null  float64\n",
      " 80  secondary_cleaner.state.floatbank4_b_level          14148 non-null  float64\n",
      " 81  secondary_cleaner.state.floatbank5_a_air            14148 non-null  float64\n",
      " 82  secondary_cleaner.state.floatbank5_a_level          14148 non-null  float64\n",
      " 83  secondary_cleaner.state.floatbank5_b_air            14148 non-null  float64\n",
      " 84  secondary_cleaner.state.floatbank5_b_level          14148 non-null  float64\n",
      " 85  secondary_cleaner.state.floatbank6_a_air            14147 non-null  float64\n",
      " 86  secondary_cleaner.state.floatbank6_a_level          14148 non-null  float64\n",
      "dtypes: float64(86), object(1)\n",
      "memory usage: 9.4+ MB\n"
     ]
    }
   ],
   "source": [
    "gold_recovery_train.info()"
   ]
  },
  {
   "cell_type": "code",
   "execution_count": 7,
   "metadata": {},
   "outputs": [
    {
     "data": {
      "text/html": [
       "<div>\n",
       "<style scoped>\n",
       "    .dataframe tbody tr th:only-of-type {\n",
       "        vertical-align: middle;\n",
       "    }\n",
       "\n",
       "    .dataframe tbody tr th {\n",
       "        vertical-align: top;\n",
       "    }\n",
       "\n",
       "    .dataframe thead th {\n",
       "        text-align: right;\n",
       "    }\n",
       "</style>\n",
       "<table border=\"1\" class=\"dataframe\">\n",
       "  <thead>\n",
       "    <tr style=\"text-align: right;\">\n",
       "      <th></th>\n",
       "      <th>date</th>\n",
       "      <th>primary_cleaner.input.sulfate</th>\n",
       "      <th>primary_cleaner.input.depressant</th>\n",
       "      <th>primary_cleaner.input.feed_size</th>\n",
       "      <th>primary_cleaner.input.xanthate</th>\n",
       "      <th>primary_cleaner.state.floatbank8_a_air</th>\n",
       "      <th>primary_cleaner.state.floatbank8_a_level</th>\n",
       "      <th>primary_cleaner.state.floatbank8_b_air</th>\n",
       "      <th>primary_cleaner.state.floatbank8_b_level</th>\n",
       "      <th>primary_cleaner.state.floatbank8_c_air</th>\n",
       "      <th>...</th>\n",
       "      <th>secondary_cleaner.state.floatbank4_a_air</th>\n",
       "      <th>secondary_cleaner.state.floatbank4_a_level</th>\n",
       "      <th>secondary_cleaner.state.floatbank4_b_air</th>\n",
       "      <th>secondary_cleaner.state.floatbank4_b_level</th>\n",
       "      <th>secondary_cleaner.state.floatbank5_a_air</th>\n",
       "      <th>secondary_cleaner.state.floatbank5_a_level</th>\n",
       "      <th>secondary_cleaner.state.floatbank5_b_air</th>\n",
       "      <th>secondary_cleaner.state.floatbank5_b_level</th>\n",
       "      <th>secondary_cleaner.state.floatbank6_a_air</th>\n",
       "      <th>secondary_cleaner.state.floatbank6_a_level</th>\n",
       "    </tr>\n",
       "  </thead>\n",
       "  <tbody>\n",
       "    <tr>\n",
       "      <th>0</th>\n",
       "      <td>2016-09-01 00:59:59</td>\n",
       "      <td>210.800909</td>\n",
       "      <td>14.993118</td>\n",
       "      <td>8.080000</td>\n",
       "      <td>1.005021</td>\n",
       "      <td>1398.981301</td>\n",
       "      <td>-500.225577</td>\n",
       "      <td>1399.144926</td>\n",
       "      <td>-499.919735</td>\n",
       "      <td>1400.102998</td>\n",
       "      <td>...</td>\n",
       "      <td>12.023554</td>\n",
       "      <td>-497.795834</td>\n",
       "      <td>8.016656</td>\n",
       "      <td>-501.289139</td>\n",
       "      <td>7.946562</td>\n",
       "      <td>-432.317850</td>\n",
       "      <td>4.872511</td>\n",
       "      <td>-500.037437</td>\n",
       "      <td>26.705889</td>\n",
       "      <td>-499.709414</td>\n",
       "    </tr>\n",
       "    <tr>\n",
       "      <th>1</th>\n",
       "      <td>2016-09-01 01:59:59</td>\n",
       "      <td>215.392455</td>\n",
       "      <td>14.987471</td>\n",
       "      <td>8.080000</td>\n",
       "      <td>0.990469</td>\n",
       "      <td>1398.777912</td>\n",
       "      <td>-500.057435</td>\n",
       "      <td>1398.055362</td>\n",
       "      <td>-499.778182</td>\n",
       "      <td>1396.151033</td>\n",
       "      <td>...</td>\n",
       "      <td>12.058140</td>\n",
       "      <td>-498.695773</td>\n",
       "      <td>8.130979</td>\n",
       "      <td>-499.634209</td>\n",
       "      <td>7.958270</td>\n",
       "      <td>-525.839648</td>\n",
       "      <td>4.878850</td>\n",
       "      <td>-500.162375</td>\n",
       "      <td>25.019940</td>\n",
       "      <td>-499.819438</td>\n",
       "    </tr>\n",
       "    <tr>\n",
       "      <th>2</th>\n",
       "      <td>2016-09-01 02:59:59</td>\n",
       "      <td>215.259946</td>\n",
       "      <td>12.884934</td>\n",
       "      <td>7.786667</td>\n",
       "      <td>0.996043</td>\n",
       "      <td>1398.493666</td>\n",
       "      <td>-500.868360</td>\n",
       "      <td>1398.860436</td>\n",
       "      <td>-499.764529</td>\n",
       "      <td>1398.075709</td>\n",
       "      <td>...</td>\n",
       "      <td>11.962366</td>\n",
       "      <td>-498.767484</td>\n",
       "      <td>8.096893</td>\n",
       "      <td>-500.827423</td>\n",
       "      <td>8.071056</td>\n",
       "      <td>-500.801673</td>\n",
       "      <td>4.905125</td>\n",
       "      <td>-499.828510</td>\n",
       "      <td>24.994862</td>\n",
       "      <td>-500.622559</td>\n",
       "    </tr>\n",
       "    <tr>\n",
       "      <th>3</th>\n",
       "      <td>2016-09-01 03:59:59</td>\n",
       "      <td>215.336236</td>\n",
       "      <td>12.006805</td>\n",
       "      <td>7.640000</td>\n",
       "      <td>0.863514</td>\n",
       "      <td>1399.618111</td>\n",
       "      <td>-498.863574</td>\n",
       "      <td>1397.440120</td>\n",
       "      <td>-499.211024</td>\n",
       "      <td>1400.129303</td>\n",
       "      <td>...</td>\n",
       "      <td>12.033091</td>\n",
       "      <td>-498.350935</td>\n",
       "      <td>8.074946</td>\n",
       "      <td>-499.474407</td>\n",
       "      <td>7.897085</td>\n",
       "      <td>-500.868509</td>\n",
       "      <td>4.931400</td>\n",
       "      <td>-499.963623</td>\n",
       "      <td>24.948919</td>\n",
       "      <td>-498.709987</td>\n",
       "    </tr>\n",
       "    <tr>\n",
       "      <th>4</th>\n",
       "      <td>2016-09-01 04:59:59</td>\n",
       "      <td>199.099327</td>\n",
       "      <td>10.682530</td>\n",
       "      <td>7.530000</td>\n",
       "      <td>0.805575</td>\n",
       "      <td>1401.268123</td>\n",
       "      <td>-500.808305</td>\n",
       "      <td>1398.128818</td>\n",
       "      <td>-499.504543</td>\n",
       "      <td>1402.172226</td>\n",
       "      <td>...</td>\n",
       "      <td>12.025367</td>\n",
       "      <td>-500.786497</td>\n",
       "      <td>8.054678</td>\n",
       "      <td>-500.397500</td>\n",
       "      <td>8.107890</td>\n",
       "      <td>-509.526725</td>\n",
       "      <td>4.957674</td>\n",
       "      <td>-500.360026</td>\n",
       "      <td>25.003331</td>\n",
       "      <td>-500.856333</td>\n",
       "    </tr>\n",
       "  </tbody>\n",
       "</table>\n",
       "<p>5 rows × 53 columns</p>\n",
       "</div>"
      ],
      "text/plain": [
       "                  date  primary_cleaner.input.sulfate  \\\n",
       "0  2016-09-01 00:59:59                     210.800909   \n",
       "1  2016-09-01 01:59:59                     215.392455   \n",
       "2  2016-09-01 02:59:59                     215.259946   \n",
       "3  2016-09-01 03:59:59                     215.336236   \n",
       "4  2016-09-01 04:59:59                     199.099327   \n",
       "\n",
       "   primary_cleaner.input.depressant  primary_cleaner.input.feed_size  \\\n",
       "0                         14.993118                         8.080000   \n",
       "1                         14.987471                         8.080000   \n",
       "2                         12.884934                         7.786667   \n",
       "3                         12.006805                         7.640000   \n",
       "4                         10.682530                         7.530000   \n",
       "\n",
       "   primary_cleaner.input.xanthate  primary_cleaner.state.floatbank8_a_air  \\\n",
       "0                        1.005021                             1398.981301   \n",
       "1                        0.990469                             1398.777912   \n",
       "2                        0.996043                             1398.493666   \n",
       "3                        0.863514                             1399.618111   \n",
       "4                        0.805575                             1401.268123   \n",
       "\n",
       "   primary_cleaner.state.floatbank8_a_level  \\\n",
       "0                               -500.225577   \n",
       "1                               -500.057435   \n",
       "2                               -500.868360   \n",
       "3                               -498.863574   \n",
       "4                               -500.808305   \n",
       "\n",
       "   primary_cleaner.state.floatbank8_b_air  \\\n",
       "0                             1399.144926   \n",
       "1                             1398.055362   \n",
       "2                             1398.860436   \n",
       "3                             1397.440120   \n",
       "4                             1398.128818   \n",
       "\n",
       "   primary_cleaner.state.floatbank8_b_level  \\\n",
       "0                               -499.919735   \n",
       "1                               -499.778182   \n",
       "2                               -499.764529   \n",
       "3                               -499.211024   \n",
       "4                               -499.504543   \n",
       "\n",
       "   primary_cleaner.state.floatbank8_c_air  ...  \\\n",
       "0                             1400.102998  ...   \n",
       "1                             1396.151033  ...   \n",
       "2                             1398.075709  ...   \n",
       "3                             1400.129303  ...   \n",
       "4                             1402.172226  ...   \n",
       "\n",
       "   secondary_cleaner.state.floatbank4_a_air  \\\n",
       "0                                 12.023554   \n",
       "1                                 12.058140   \n",
       "2                                 11.962366   \n",
       "3                                 12.033091   \n",
       "4                                 12.025367   \n",
       "\n",
       "   secondary_cleaner.state.floatbank4_a_level  \\\n",
       "0                                 -497.795834   \n",
       "1                                 -498.695773   \n",
       "2                                 -498.767484   \n",
       "3                                 -498.350935   \n",
       "4                                 -500.786497   \n",
       "\n",
       "   secondary_cleaner.state.floatbank4_b_air  \\\n",
       "0                                  8.016656   \n",
       "1                                  8.130979   \n",
       "2                                  8.096893   \n",
       "3                                  8.074946   \n",
       "4                                  8.054678   \n",
       "\n",
       "   secondary_cleaner.state.floatbank4_b_level  \\\n",
       "0                                 -501.289139   \n",
       "1                                 -499.634209   \n",
       "2                                 -500.827423   \n",
       "3                                 -499.474407   \n",
       "4                                 -500.397500   \n",
       "\n",
       "   secondary_cleaner.state.floatbank5_a_air  \\\n",
       "0                                  7.946562   \n",
       "1                                  7.958270   \n",
       "2                                  8.071056   \n",
       "3                                  7.897085   \n",
       "4                                  8.107890   \n",
       "\n",
       "   secondary_cleaner.state.floatbank5_a_level  \\\n",
       "0                                 -432.317850   \n",
       "1                                 -525.839648   \n",
       "2                                 -500.801673   \n",
       "3                                 -500.868509   \n",
       "4                                 -509.526725   \n",
       "\n",
       "   secondary_cleaner.state.floatbank5_b_air  \\\n",
       "0                                  4.872511   \n",
       "1                                  4.878850   \n",
       "2                                  4.905125   \n",
       "3                                  4.931400   \n",
       "4                                  4.957674   \n",
       "\n",
       "   secondary_cleaner.state.floatbank5_b_level  \\\n",
       "0                                 -500.037437   \n",
       "1                                 -500.162375   \n",
       "2                                 -499.828510   \n",
       "3                                 -499.963623   \n",
       "4                                 -500.360026   \n",
       "\n",
       "   secondary_cleaner.state.floatbank6_a_air  \\\n",
       "0                                 26.705889   \n",
       "1                                 25.019940   \n",
       "2                                 24.994862   \n",
       "3                                 24.948919   \n",
       "4                                 25.003331   \n",
       "\n",
       "   secondary_cleaner.state.floatbank6_a_level  \n",
       "0                                 -499.709414  \n",
       "1                                 -499.819438  \n",
       "2                                 -500.622559  \n",
       "3                                 -498.709987  \n",
       "4                                 -500.856333  \n",
       "\n",
       "[5 rows x 53 columns]"
      ]
     },
     "execution_count": 7,
     "metadata": {},
     "output_type": "execute_result"
    }
   ],
   "source": [
    "gold_recovery_test.head()"
   ]
  },
  {
   "cell_type": "code",
   "execution_count": 8,
   "metadata": {
    "scrolled": true
   },
   "outputs": [
    {
     "name": "stdout",
     "output_type": "stream",
     "text": [
      "<class 'pandas.core.frame.DataFrame'>\n",
      "RangeIndex: 5290 entries, 0 to 5289\n",
      "Data columns (total 53 columns):\n",
      " #   Column                                      Non-Null Count  Dtype  \n",
      "---  ------                                      --------------  -----  \n",
      " 0   date                                        5290 non-null   object \n",
      " 1   primary_cleaner.input.sulfate               5286 non-null   float64\n",
      " 2   primary_cleaner.input.depressant            5285 non-null   float64\n",
      " 3   primary_cleaner.input.feed_size             5290 non-null   float64\n",
      " 4   primary_cleaner.input.xanthate              5286 non-null   float64\n",
      " 5   primary_cleaner.state.floatbank8_a_air      5290 non-null   float64\n",
      " 6   primary_cleaner.state.floatbank8_a_level    5290 non-null   float64\n",
      " 7   primary_cleaner.state.floatbank8_b_air      5290 non-null   float64\n",
      " 8   primary_cleaner.state.floatbank8_b_level    5290 non-null   float64\n",
      " 9   primary_cleaner.state.floatbank8_c_air      5290 non-null   float64\n",
      " 10  primary_cleaner.state.floatbank8_c_level    5290 non-null   float64\n",
      " 11  primary_cleaner.state.floatbank8_d_air      5290 non-null   float64\n",
      " 12  primary_cleaner.state.floatbank8_d_level    5290 non-null   float64\n",
      " 13  rougher.input.feed_ag                       5290 non-null   float64\n",
      " 14  rougher.input.feed_pb                       5290 non-null   float64\n",
      " 15  rougher.input.feed_rate                     5287 non-null   float64\n",
      " 16  rougher.input.feed_size                     5289 non-null   float64\n",
      " 17  rougher.input.feed_sol                      5269 non-null   float64\n",
      " 18  rougher.input.feed_au                       5290 non-null   float64\n",
      " 19  rougher.input.floatbank10_sulfate           5285 non-null   float64\n",
      " 20  rougher.input.floatbank10_xanthate          5290 non-null   float64\n",
      " 21  rougher.input.floatbank11_sulfate           5282 non-null   float64\n",
      " 22  rougher.input.floatbank11_xanthate          5265 non-null   float64\n",
      " 23  rougher.state.floatbank10_a_air             5290 non-null   float64\n",
      " 24  rougher.state.floatbank10_a_level           5290 non-null   float64\n",
      " 25  rougher.state.floatbank10_b_air             5290 non-null   float64\n",
      " 26  rougher.state.floatbank10_b_level           5290 non-null   float64\n",
      " 27  rougher.state.floatbank10_c_air             5290 non-null   float64\n",
      " 28  rougher.state.floatbank10_c_level           5290 non-null   float64\n",
      " 29  rougher.state.floatbank10_d_air             5290 non-null   float64\n",
      " 30  rougher.state.floatbank10_d_level           5290 non-null   float64\n",
      " 31  rougher.state.floatbank10_e_air             5290 non-null   float64\n",
      " 32  rougher.state.floatbank10_e_level           5290 non-null   float64\n",
      " 33  rougher.state.floatbank10_f_air             5290 non-null   float64\n",
      " 34  rougher.state.floatbank10_f_level           5290 non-null   float64\n",
      " 35  secondary_cleaner.state.floatbank2_a_air    5287 non-null   float64\n",
      " 36  secondary_cleaner.state.floatbank2_a_level  5290 non-null   float64\n",
      " 37  secondary_cleaner.state.floatbank2_b_air    5288 non-null   float64\n",
      " 38  secondary_cleaner.state.floatbank2_b_level  5290 non-null   float64\n",
      " 39  secondary_cleaner.state.floatbank3_a_air    5281 non-null   float64\n",
      " 40  secondary_cleaner.state.floatbank3_a_level  5290 non-null   float64\n",
      " 41  secondary_cleaner.state.floatbank3_b_air    5290 non-null   float64\n",
      " 42  secondary_cleaner.state.floatbank3_b_level  5290 non-null   float64\n",
      " 43  secondary_cleaner.state.floatbank4_a_air    5290 non-null   float64\n",
      " 44  secondary_cleaner.state.floatbank4_a_level  5290 non-null   float64\n",
      " 45  secondary_cleaner.state.floatbank4_b_air    5290 non-null   float64\n",
      " 46  secondary_cleaner.state.floatbank4_b_level  5290 non-null   float64\n",
      " 47  secondary_cleaner.state.floatbank5_a_air    5290 non-null   float64\n",
      " 48  secondary_cleaner.state.floatbank5_a_level  5290 non-null   float64\n",
      " 49  secondary_cleaner.state.floatbank5_b_air    5290 non-null   float64\n",
      " 50  secondary_cleaner.state.floatbank5_b_level  5290 non-null   float64\n",
      " 51  secondary_cleaner.state.floatbank6_a_air    5290 non-null   float64\n",
      " 52  secondary_cleaner.state.floatbank6_a_level  5290 non-null   float64\n",
      "dtypes: float64(52), object(1)\n",
      "memory usage: 2.1+ MB\n"
     ]
    }
   ],
   "source": [
    "gold_recovery_test.info()"
   ]
  },
  {
   "cell_type": "markdown",
   "metadata": {},
   "source": [
    "### Проверьте, что эффективность обогащения рассчитана правильно"
   ]
  },
  {
   "cell_type": "markdown",
   "metadata": {},
   "source": [
    "Для того, чтобы проверить правильность расчета эффективности обогащения, вычислим её на обучающей выборке для признака `rougher.output.recovery`. А также найдем MAE между нашими расчётами и значением признака.\n",
    "\n",
    "Эффективность обогащения - `Recovery` - вычисляется фо следующей формуле:\n",
    "\n",
    "$$ Recovery = \\frac {C \\left (F-T \\right )}{F \\left (C-T \\right )} 100\\% $$\n",
    "- C — доля золота в концентрате после флотации/очистки - `rougher.output.concentrate_au`\n",
    "- F — доля золота в сырье/концентрате до флотации/очистки - `rougher.input.feed_au`\n",
    "- T — доля золота в отвальных хвостах после флотации/очистки - `rougher.output.tail_au`"
   ]
  },
  {
   "cell_type": "code",
   "execution_count": 9,
   "metadata": {},
   "outputs": [],
   "source": [
    "gold_recovery_train['recovery'] = (gold_recovery_train['rougher.output.concentrate_au'] * \\\n",
    "                                    (gold_recovery_train['rougher.input.feed_au'] - \\\n",
    "                                         gold_recovery_train['rougher.output.tail_au'])) / \\\n",
    "                                (gold_recovery_train['rougher.input.feed_au'] * \\\n",
    "                                    (gold_recovery_train['rougher.output.concentrate_au'] - \\\n",
    "                                         gold_recovery_train['rougher.output.tail_au'])) * 100"
   ]
  },
  {
   "cell_type": "code",
   "execution_count": 10,
   "metadata": {},
   "outputs": [
    {
     "name": "stdout",
     "output_type": "stream",
     "text": [
      "Значение MAE: 9.73512347450521e-15\n"
     ]
    }
   ],
   "source": [
    "print(f'''Значение MAE: {mean_absolute_error(gold_recovery_train['rougher.output.recovery'], \n",
    "        gold_recovery_train['recovery'])}''')"
   ]
  },
  {
   "cell_type": "markdown",
   "metadata": {},
   "source": [
    "Данная метрика показывает среднюю величину разницы между предсказанными (в нашем случае посчитанным) и реальными значениями целевой переменной. Она получилось очень маленькой, значит реальные опказатели очень близки к тем, что получается по формуле и формула может применятся.\n",
    "\n",
    "Удалим только что созданый столбец, чтобы он позже нигде не появлялся."
   ]
  },
  {
   "cell_type": "code",
   "execution_count": 11,
   "metadata": {},
   "outputs": [],
   "source": [
    "gold_recovery_train = gold_recovery_train.drop('recovery', axis=1)"
   ]
  },
  {
   "cell_type": "markdown",
   "metadata": {},
   "source": [
    "### Проанализируйте признаки, недоступные в тестовой выборке\n",
    "\n",
    "Посмотрим теперь на тестовую выборку. Определим какие параметры в ней отсутствуют. В данном проеткте нас интересуют данные по золоту - au"
   ]
  },
  {
   "cell_type": "code",
   "execution_count": 12,
   "metadata": {
    "scrolled": true
   },
   "outputs": [
    {
     "name": "stdout",
     "output_type": "stream",
     "text": [
      "final.output.concentrate_ag\n",
      "final.output.concentrate_pb\n",
      "final.output.concentrate_sol\n",
      "final.output.concentrate_au\n",
      "final.output.recovery\n",
      "final.output.tail_ag\n",
      "final.output.tail_pb\n",
      "final.output.tail_sol\n",
      "final.output.tail_au\n",
      "primary_cleaner.output.concentrate_ag\n",
      "primary_cleaner.output.concentrate_pb\n",
      "primary_cleaner.output.concentrate_sol\n",
      "primary_cleaner.output.concentrate_au\n",
      "primary_cleaner.output.tail_ag\n",
      "primary_cleaner.output.tail_pb\n",
      "primary_cleaner.output.tail_sol\n",
      "primary_cleaner.output.tail_au\n",
      "rougher.calculation.sulfate_to_au_concentrate\n",
      "rougher.calculation.floatbank10_sulfate_to_au_feed\n",
      "rougher.calculation.floatbank11_sulfate_to_au_feed\n",
      "rougher.calculation.au_pb_ratio\n",
      "rougher.output.concentrate_ag\n",
      "rougher.output.concentrate_pb\n",
      "rougher.output.concentrate_sol\n",
      "rougher.output.concentrate_au\n",
      "rougher.output.recovery\n",
      "rougher.output.tail_ag\n",
      "rougher.output.tail_pb\n",
      "rougher.output.tail_sol\n",
      "rougher.output.tail_au\n",
      "secondary_cleaner.output.tail_ag\n",
      "secondary_cleaner.output.tail_pb\n",
      "secondary_cleaner.output.tail_sol\n",
      "secondary_cleaner.output.tail_au\n"
     ]
    }
   ],
   "source": [
    "for i in gold_recovery_train.columns:\n",
    "    if i not in gold_recovery_test.columns:\n",
    "        print(i)"
   ]
  },
  {
   "cell_type": "markdown",
   "metadata": {},
   "source": [
    "Всех этих столбцов нет в тестовой выборке. То что нас интересует ( по золоту): нет данных по финальным характеристикам параметра концентрата золота - `final.output.concentrate_au`, финальным параметрам по отвальным хвостам золота - `final.output.tail_au`, параметрам отвальных хвостов после первичной очистки - `primary_cleaner.output.tail_au`, расчетным характеристикам сульфатов для конценрата золота при флотации - `rougher.calculation.sulfate_to_au_concentrate`, параметрам концентрата золота после флотации - `rougher.output.concentrate_au`, параметрам отвальных хвостов золота после флотации - `rougher.output.tail_au` и параметрам отвальных хвостов после вторичной очистки - `secondary_cleaner.output.tail_au`. \\\n",
    "Все эти данные замеряются позже, поэтому в тестовой выборке, как раз на момент предсказывания коэффициента восстановления золота из золотосодержащей руды, их нет, они замеряются на основе реальных данных. Также отсутствуют целевые признаки; эффективность обогащения после флотации -  `rougher.output.recovery`, финальная эффективность обогощения - `final.output.recovery`.\n",
    "\n",
    "### Проведите предобработку данных\n",
    "\n",
    "Посмотрим есть ли пропуски в наших данных. Если есть заполним их методом `ffill`, так как было сказано, что соседние по времени параметры часто похожи. На случай если после заполнения остануться пропуски используем метод `bfill`, так как если есть пропуски в перовй либо последней строках датасета, то использование только одного метода оставит незаполненным одну из этих строк."
   ]
  },
  {
   "cell_type": "code",
   "execution_count": 13,
   "metadata": {
    "scrolled": true
   },
   "outputs": [
    {
     "data": {
      "text/plain": [
       "4481"
      ]
     },
     "execution_count": 13,
     "metadata": {},
     "output_type": "execute_result"
    }
   ],
   "source": [
    "gold_recovery_full.isna().sum().sum()"
   ]
  },
  {
   "cell_type": "code",
   "execution_count": 14,
   "metadata": {},
   "outputs": [
    {
     "data": {
      "text/plain": [
       "4100"
      ]
     },
     "execution_count": 14,
     "metadata": {},
     "output_type": "execute_result"
    }
   ],
   "source": [
    "gold_recovery_train.isna().sum().sum()"
   ]
  },
  {
   "cell_type": "code",
   "execution_count": 15,
   "metadata": {},
   "outputs": [
    {
     "data": {
      "text/plain": [
       "90"
      ]
     },
     "execution_count": 15,
     "metadata": {},
     "output_type": "execute_result"
    }
   ],
   "source": [
    "gold_recovery_test.isna().sum().sum()"
   ]
  },
  {
   "cell_type": "markdown",
   "metadata": {},
   "source": [
    "Во всех трех датасетах есть пропуски. Общий датафрейм заполним методом `ffill`, а пропуски в двух остальных уже этим датасетом. В ином случае у нас могут на одни и те же индексыь попасть разные данные, так как два других это случайно разделенный исходный датасет.\n"
   ]
  },
  {
   "cell_type": "code",
   "execution_count": 16,
   "metadata": {},
   "outputs": [],
   "source": [
    "gold_recovery_full.fillna(method='ffill', inplace=True)"
   ]
  },
  {
   "cell_type": "code",
   "execution_count": 17,
   "metadata": {},
   "outputs": [],
   "source": [
    "gold_recovery_train = gold_recovery_train.fillna(gold_recovery_full)"
   ]
  },
  {
   "cell_type": "code",
   "execution_count": 18,
   "metadata": {},
   "outputs": [
    {
     "name": "stdout",
     "output_type": "stream",
     "text": [
      "Размеры заполненого тренеровочного датасета: (14149, 87)\n"
     ]
    },
    {
     "data": {
      "text/html": [
       "<div>\n",
       "<style scoped>\n",
       "    .dataframe tbody tr th:only-of-type {\n",
       "        vertical-align: middle;\n",
       "    }\n",
       "\n",
       "    .dataframe tbody tr th {\n",
       "        vertical-align: top;\n",
       "    }\n",
       "\n",
       "    .dataframe thead th {\n",
       "        text-align: right;\n",
       "    }\n",
       "</style>\n",
       "<table border=\"1\" class=\"dataframe\">\n",
       "  <thead>\n",
       "    <tr style=\"text-align: right;\">\n",
       "      <th></th>\n",
       "      <th>date</th>\n",
       "      <th>final.output.concentrate_ag</th>\n",
       "      <th>final.output.concentrate_pb</th>\n",
       "      <th>final.output.concentrate_sol</th>\n",
       "      <th>final.output.concentrate_au</th>\n",
       "      <th>final.output.recovery</th>\n",
       "      <th>final.output.tail_ag</th>\n",
       "      <th>final.output.tail_pb</th>\n",
       "      <th>final.output.tail_sol</th>\n",
       "      <th>final.output.tail_au</th>\n",
       "      <th>...</th>\n",
       "      <th>secondary_cleaner.state.floatbank4_a_air</th>\n",
       "      <th>secondary_cleaner.state.floatbank4_a_level</th>\n",
       "      <th>secondary_cleaner.state.floatbank4_b_air</th>\n",
       "      <th>secondary_cleaner.state.floatbank4_b_level</th>\n",
       "      <th>secondary_cleaner.state.floatbank5_a_air</th>\n",
       "      <th>secondary_cleaner.state.floatbank5_a_level</th>\n",
       "      <th>secondary_cleaner.state.floatbank5_b_air</th>\n",
       "      <th>secondary_cleaner.state.floatbank5_b_level</th>\n",
       "      <th>secondary_cleaner.state.floatbank6_a_air</th>\n",
       "      <th>secondary_cleaner.state.floatbank6_a_level</th>\n",
       "    </tr>\n",
       "  </thead>\n",
       "  <tbody>\n",
       "    <tr>\n",
       "      <th>0</th>\n",
       "      <td>2016-01-15 00:00:00</td>\n",
       "      <td>6.055403</td>\n",
       "      <td>9.889648</td>\n",
       "      <td>5.507324</td>\n",
       "      <td>42.192020</td>\n",
       "      <td>70.541216</td>\n",
       "      <td>10.411962</td>\n",
       "      <td>0.895447</td>\n",
       "      <td>16.904297</td>\n",
       "      <td>2.143149</td>\n",
       "      <td>...</td>\n",
       "      <td>14.016835</td>\n",
       "      <td>-502.488007</td>\n",
       "      <td>12.099931</td>\n",
       "      <td>-504.715942</td>\n",
       "      <td>9.925633</td>\n",
       "      <td>-498.310211</td>\n",
       "      <td>8.079666</td>\n",
       "      <td>-500.470978</td>\n",
       "      <td>14.151341</td>\n",
       "      <td>-605.841980</td>\n",
       "    </tr>\n",
       "    <tr>\n",
       "      <th>1</th>\n",
       "      <td>2016-01-15 01:00:00</td>\n",
       "      <td>6.029369</td>\n",
       "      <td>9.968944</td>\n",
       "      <td>5.257781</td>\n",
       "      <td>42.701629</td>\n",
       "      <td>69.266198</td>\n",
       "      <td>10.462676</td>\n",
       "      <td>0.927452</td>\n",
       "      <td>16.634514</td>\n",
       "      <td>2.224930</td>\n",
       "      <td>...</td>\n",
       "      <td>13.992281</td>\n",
       "      <td>-505.503262</td>\n",
       "      <td>11.950531</td>\n",
       "      <td>-501.331529</td>\n",
       "      <td>10.039245</td>\n",
       "      <td>-500.169983</td>\n",
       "      <td>7.984757</td>\n",
       "      <td>-500.582168</td>\n",
       "      <td>13.998353</td>\n",
       "      <td>-599.787184</td>\n",
       "    </tr>\n",
       "    <tr>\n",
       "      <th>2</th>\n",
       "      <td>2016-01-15 02:00:00</td>\n",
       "      <td>6.055926</td>\n",
       "      <td>10.213995</td>\n",
       "      <td>5.383759</td>\n",
       "      <td>42.657501</td>\n",
       "      <td>68.116445</td>\n",
       "      <td>10.507046</td>\n",
       "      <td>0.953716</td>\n",
       "      <td>16.208849</td>\n",
       "      <td>2.257889</td>\n",
       "      <td>...</td>\n",
       "      <td>14.015015</td>\n",
       "      <td>-502.520901</td>\n",
       "      <td>11.912783</td>\n",
       "      <td>-501.133383</td>\n",
       "      <td>10.070913</td>\n",
       "      <td>-500.129135</td>\n",
       "      <td>8.013877</td>\n",
       "      <td>-500.517572</td>\n",
       "      <td>14.028663</td>\n",
       "      <td>-601.427363</td>\n",
       "    </tr>\n",
       "    <tr>\n",
       "      <th>3</th>\n",
       "      <td>2016-01-15 03:00:00</td>\n",
       "      <td>6.047977</td>\n",
       "      <td>9.977019</td>\n",
       "      <td>4.858634</td>\n",
       "      <td>42.689819</td>\n",
       "      <td>68.347543</td>\n",
       "      <td>10.422762</td>\n",
       "      <td>0.883763</td>\n",
       "      <td>16.532835</td>\n",
       "      <td>2.146849</td>\n",
       "      <td>...</td>\n",
       "      <td>14.036510</td>\n",
       "      <td>-500.857308</td>\n",
       "      <td>11.999550</td>\n",
       "      <td>-501.193686</td>\n",
       "      <td>9.970366</td>\n",
       "      <td>-499.201640</td>\n",
       "      <td>7.977324</td>\n",
       "      <td>-500.255908</td>\n",
       "      <td>14.005551</td>\n",
       "      <td>-599.996129</td>\n",
       "    </tr>\n",
       "    <tr>\n",
       "      <th>4</th>\n",
       "      <td>2016-01-15 04:00:00</td>\n",
       "      <td>6.148599</td>\n",
       "      <td>10.142511</td>\n",
       "      <td>4.939416</td>\n",
       "      <td>42.774141</td>\n",
       "      <td>66.927016</td>\n",
       "      <td>10.360302</td>\n",
       "      <td>0.792826</td>\n",
       "      <td>16.525686</td>\n",
       "      <td>2.055292</td>\n",
       "      <td>...</td>\n",
       "      <td>14.027298</td>\n",
       "      <td>-499.838632</td>\n",
       "      <td>11.953070</td>\n",
       "      <td>-501.053894</td>\n",
       "      <td>9.925709</td>\n",
       "      <td>-501.686727</td>\n",
       "      <td>7.894242</td>\n",
       "      <td>-500.356035</td>\n",
       "      <td>13.996647</td>\n",
       "      <td>-601.496691</td>\n",
       "    </tr>\n",
       "  </tbody>\n",
       "</table>\n",
       "<p>5 rows × 87 columns</p>\n",
       "</div>"
      ],
      "text/plain": [
       "                  date  final.output.concentrate_ag  \\\n",
       "0  2016-01-15 00:00:00                     6.055403   \n",
       "1  2016-01-15 01:00:00                     6.029369   \n",
       "2  2016-01-15 02:00:00                     6.055926   \n",
       "3  2016-01-15 03:00:00                     6.047977   \n",
       "4  2016-01-15 04:00:00                     6.148599   \n",
       "\n",
       "   final.output.concentrate_pb  final.output.concentrate_sol  \\\n",
       "0                     9.889648                      5.507324   \n",
       "1                     9.968944                      5.257781   \n",
       "2                    10.213995                      5.383759   \n",
       "3                     9.977019                      4.858634   \n",
       "4                    10.142511                      4.939416   \n",
       "\n",
       "   final.output.concentrate_au  final.output.recovery  final.output.tail_ag  \\\n",
       "0                    42.192020              70.541216             10.411962   \n",
       "1                    42.701629              69.266198             10.462676   \n",
       "2                    42.657501              68.116445             10.507046   \n",
       "3                    42.689819              68.347543             10.422762   \n",
       "4                    42.774141              66.927016             10.360302   \n",
       "\n",
       "   final.output.tail_pb  final.output.tail_sol  final.output.tail_au  ...  \\\n",
       "0              0.895447              16.904297              2.143149  ...   \n",
       "1              0.927452              16.634514              2.224930  ...   \n",
       "2              0.953716              16.208849              2.257889  ...   \n",
       "3              0.883763              16.532835              2.146849  ...   \n",
       "4              0.792826              16.525686              2.055292  ...   \n",
       "\n",
       "   secondary_cleaner.state.floatbank4_a_air  \\\n",
       "0                                 14.016835   \n",
       "1                                 13.992281   \n",
       "2                                 14.015015   \n",
       "3                                 14.036510   \n",
       "4                                 14.027298   \n",
       "\n",
       "   secondary_cleaner.state.floatbank4_a_level  \\\n",
       "0                                 -502.488007   \n",
       "1                                 -505.503262   \n",
       "2                                 -502.520901   \n",
       "3                                 -500.857308   \n",
       "4                                 -499.838632   \n",
       "\n",
       "   secondary_cleaner.state.floatbank4_b_air  \\\n",
       "0                                 12.099931   \n",
       "1                                 11.950531   \n",
       "2                                 11.912783   \n",
       "3                                 11.999550   \n",
       "4                                 11.953070   \n",
       "\n",
       "   secondary_cleaner.state.floatbank4_b_level  \\\n",
       "0                                 -504.715942   \n",
       "1                                 -501.331529   \n",
       "2                                 -501.133383   \n",
       "3                                 -501.193686   \n",
       "4                                 -501.053894   \n",
       "\n",
       "   secondary_cleaner.state.floatbank5_a_air  \\\n",
       "0                                  9.925633   \n",
       "1                                 10.039245   \n",
       "2                                 10.070913   \n",
       "3                                  9.970366   \n",
       "4                                  9.925709   \n",
       "\n",
       "   secondary_cleaner.state.floatbank5_a_level  \\\n",
       "0                                 -498.310211   \n",
       "1                                 -500.169983   \n",
       "2                                 -500.129135   \n",
       "3                                 -499.201640   \n",
       "4                                 -501.686727   \n",
       "\n",
       "   secondary_cleaner.state.floatbank5_b_air  \\\n",
       "0                                  8.079666   \n",
       "1                                  7.984757   \n",
       "2                                  8.013877   \n",
       "3                                  7.977324   \n",
       "4                                  7.894242   \n",
       "\n",
       "   secondary_cleaner.state.floatbank5_b_level  \\\n",
       "0                                 -500.470978   \n",
       "1                                 -500.582168   \n",
       "2                                 -500.517572   \n",
       "3                                 -500.255908   \n",
       "4                                 -500.356035   \n",
       "\n",
       "   secondary_cleaner.state.floatbank6_a_air  \\\n",
       "0                                 14.151341   \n",
       "1                                 13.998353   \n",
       "2                                 14.028663   \n",
       "3                                 14.005551   \n",
       "4                                 13.996647   \n",
       "\n",
       "   secondary_cleaner.state.floatbank6_a_level  \n",
       "0                                 -605.841980  \n",
       "1                                 -599.787184  \n",
       "2                                 -601.427363  \n",
       "3                                 -599.996129  \n",
       "4                                 -601.496691  \n",
       "\n",
       "[5 rows x 87 columns]"
      ]
     },
     "execution_count": 18,
     "metadata": {},
     "output_type": "execute_result"
    }
   ],
   "source": [
    "print(f'Размеры заполненого тренеровочного датасета: {gold_recovery_train.shape}')\n",
    "gold_recovery_train.head()"
   ]
  },
  {
   "cell_type": "code",
   "execution_count": 19,
   "metadata": {},
   "outputs": [],
   "source": [
    "gold_recovery_test = gold_recovery_test.fillna(gold_recovery_full)"
   ]
  },
  {
   "cell_type": "code",
   "execution_count": 20,
   "metadata": {},
   "outputs": [
    {
     "name": "stdout",
     "output_type": "stream",
     "text": [
      "Размеры заполненого тестового датасета: (5290, 53)\n"
     ]
    },
    {
     "data": {
      "text/html": [
       "<div>\n",
       "<style scoped>\n",
       "    .dataframe tbody tr th:only-of-type {\n",
       "        vertical-align: middle;\n",
       "    }\n",
       "\n",
       "    .dataframe tbody tr th {\n",
       "        vertical-align: top;\n",
       "    }\n",
       "\n",
       "    .dataframe thead th {\n",
       "        text-align: right;\n",
       "    }\n",
       "</style>\n",
       "<table border=\"1\" class=\"dataframe\">\n",
       "  <thead>\n",
       "    <tr style=\"text-align: right;\">\n",
       "      <th></th>\n",
       "      <th>date</th>\n",
       "      <th>primary_cleaner.input.sulfate</th>\n",
       "      <th>primary_cleaner.input.depressant</th>\n",
       "      <th>primary_cleaner.input.feed_size</th>\n",
       "      <th>primary_cleaner.input.xanthate</th>\n",
       "      <th>primary_cleaner.state.floatbank8_a_air</th>\n",
       "      <th>primary_cleaner.state.floatbank8_a_level</th>\n",
       "      <th>primary_cleaner.state.floatbank8_b_air</th>\n",
       "      <th>primary_cleaner.state.floatbank8_b_level</th>\n",
       "      <th>primary_cleaner.state.floatbank8_c_air</th>\n",
       "      <th>...</th>\n",
       "      <th>secondary_cleaner.state.floatbank4_a_air</th>\n",
       "      <th>secondary_cleaner.state.floatbank4_a_level</th>\n",
       "      <th>secondary_cleaner.state.floatbank4_b_air</th>\n",
       "      <th>secondary_cleaner.state.floatbank4_b_level</th>\n",
       "      <th>secondary_cleaner.state.floatbank5_a_air</th>\n",
       "      <th>secondary_cleaner.state.floatbank5_a_level</th>\n",
       "      <th>secondary_cleaner.state.floatbank5_b_air</th>\n",
       "      <th>secondary_cleaner.state.floatbank5_b_level</th>\n",
       "      <th>secondary_cleaner.state.floatbank6_a_air</th>\n",
       "      <th>secondary_cleaner.state.floatbank6_a_level</th>\n",
       "    </tr>\n",
       "  </thead>\n",
       "  <tbody>\n",
       "    <tr>\n",
       "      <th>0</th>\n",
       "      <td>2016-09-01 00:59:59</td>\n",
       "      <td>210.800909</td>\n",
       "      <td>14.993118</td>\n",
       "      <td>8.080000</td>\n",
       "      <td>1.005021</td>\n",
       "      <td>1398.981301</td>\n",
       "      <td>-500.225577</td>\n",
       "      <td>1399.144926</td>\n",
       "      <td>-499.919735</td>\n",
       "      <td>1400.102998</td>\n",
       "      <td>...</td>\n",
       "      <td>12.023554</td>\n",
       "      <td>-497.795834</td>\n",
       "      <td>8.016656</td>\n",
       "      <td>-501.289139</td>\n",
       "      <td>7.946562</td>\n",
       "      <td>-432.317850</td>\n",
       "      <td>4.872511</td>\n",
       "      <td>-500.037437</td>\n",
       "      <td>26.705889</td>\n",
       "      <td>-499.709414</td>\n",
       "    </tr>\n",
       "    <tr>\n",
       "      <th>1</th>\n",
       "      <td>2016-09-01 01:59:59</td>\n",
       "      <td>215.392455</td>\n",
       "      <td>14.987471</td>\n",
       "      <td>8.080000</td>\n",
       "      <td>0.990469</td>\n",
       "      <td>1398.777912</td>\n",
       "      <td>-500.057435</td>\n",
       "      <td>1398.055362</td>\n",
       "      <td>-499.778182</td>\n",
       "      <td>1396.151033</td>\n",
       "      <td>...</td>\n",
       "      <td>12.058140</td>\n",
       "      <td>-498.695773</td>\n",
       "      <td>8.130979</td>\n",
       "      <td>-499.634209</td>\n",
       "      <td>7.958270</td>\n",
       "      <td>-525.839648</td>\n",
       "      <td>4.878850</td>\n",
       "      <td>-500.162375</td>\n",
       "      <td>25.019940</td>\n",
       "      <td>-499.819438</td>\n",
       "    </tr>\n",
       "    <tr>\n",
       "      <th>2</th>\n",
       "      <td>2016-09-01 02:59:59</td>\n",
       "      <td>215.259946</td>\n",
       "      <td>12.884934</td>\n",
       "      <td>7.786667</td>\n",
       "      <td>0.996043</td>\n",
       "      <td>1398.493666</td>\n",
       "      <td>-500.868360</td>\n",
       "      <td>1398.860436</td>\n",
       "      <td>-499.764529</td>\n",
       "      <td>1398.075709</td>\n",
       "      <td>...</td>\n",
       "      <td>11.962366</td>\n",
       "      <td>-498.767484</td>\n",
       "      <td>8.096893</td>\n",
       "      <td>-500.827423</td>\n",
       "      <td>8.071056</td>\n",
       "      <td>-500.801673</td>\n",
       "      <td>4.905125</td>\n",
       "      <td>-499.828510</td>\n",
       "      <td>24.994862</td>\n",
       "      <td>-500.622559</td>\n",
       "    </tr>\n",
       "    <tr>\n",
       "      <th>3</th>\n",
       "      <td>2016-09-01 03:59:59</td>\n",
       "      <td>215.336236</td>\n",
       "      <td>12.006805</td>\n",
       "      <td>7.640000</td>\n",
       "      <td>0.863514</td>\n",
       "      <td>1399.618111</td>\n",
       "      <td>-498.863574</td>\n",
       "      <td>1397.440120</td>\n",
       "      <td>-499.211024</td>\n",
       "      <td>1400.129303</td>\n",
       "      <td>...</td>\n",
       "      <td>12.033091</td>\n",
       "      <td>-498.350935</td>\n",
       "      <td>8.074946</td>\n",
       "      <td>-499.474407</td>\n",
       "      <td>7.897085</td>\n",
       "      <td>-500.868509</td>\n",
       "      <td>4.931400</td>\n",
       "      <td>-499.963623</td>\n",
       "      <td>24.948919</td>\n",
       "      <td>-498.709987</td>\n",
       "    </tr>\n",
       "    <tr>\n",
       "      <th>4</th>\n",
       "      <td>2016-09-01 04:59:59</td>\n",
       "      <td>199.099327</td>\n",
       "      <td>10.682530</td>\n",
       "      <td>7.530000</td>\n",
       "      <td>0.805575</td>\n",
       "      <td>1401.268123</td>\n",
       "      <td>-500.808305</td>\n",
       "      <td>1398.128818</td>\n",
       "      <td>-499.504543</td>\n",
       "      <td>1402.172226</td>\n",
       "      <td>...</td>\n",
       "      <td>12.025367</td>\n",
       "      <td>-500.786497</td>\n",
       "      <td>8.054678</td>\n",
       "      <td>-500.397500</td>\n",
       "      <td>8.107890</td>\n",
       "      <td>-509.526725</td>\n",
       "      <td>4.957674</td>\n",
       "      <td>-500.360026</td>\n",
       "      <td>25.003331</td>\n",
       "      <td>-500.856333</td>\n",
       "    </tr>\n",
       "  </tbody>\n",
       "</table>\n",
       "<p>5 rows × 53 columns</p>\n",
       "</div>"
      ],
      "text/plain": [
       "                  date  primary_cleaner.input.sulfate  \\\n",
       "0  2016-09-01 00:59:59                     210.800909   \n",
       "1  2016-09-01 01:59:59                     215.392455   \n",
       "2  2016-09-01 02:59:59                     215.259946   \n",
       "3  2016-09-01 03:59:59                     215.336236   \n",
       "4  2016-09-01 04:59:59                     199.099327   \n",
       "\n",
       "   primary_cleaner.input.depressant  primary_cleaner.input.feed_size  \\\n",
       "0                         14.993118                         8.080000   \n",
       "1                         14.987471                         8.080000   \n",
       "2                         12.884934                         7.786667   \n",
       "3                         12.006805                         7.640000   \n",
       "4                         10.682530                         7.530000   \n",
       "\n",
       "   primary_cleaner.input.xanthate  primary_cleaner.state.floatbank8_a_air  \\\n",
       "0                        1.005021                             1398.981301   \n",
       "1                        0.990469                             1398.777912   \n",
       "2                        0.996043                             1398.493666   \n",
       "3                        0.863514                             1399.618111   \n",
       "4                        0.805575                             1401.268123   \n",
       "\n",
       "   primary_cleaner.state.floatbank8_a_level  \\\n",
       "0                               -500.225577   \n",
       "1                               -500.057435   \n",
       "2                               -500.868360   \n",
       "3                               -498.863574   \n",
       "4                               -500.808305   \n",
       "\n",
       "   primary_cleaner.state.floatbank8_b_air  \\\n",
       "0                             1399.144926   \n",
       "1                             1398.055362   \n",
       "2                             1398.860436   \n",
       "3                             1397.440120   \n",
       "4                             1398.128818   \n",
       "\n",
       "   primary_cleaner.state.floatbank8_b_level  \\\n",
       "0                               -499.919735   \n",
       "1                               -499.778182   \n",
       "2                               -499.764529   \n",
       "3                               -499.211024   \n",
       "4                               -499.504543   \n",
       "\n",
       "   primary_cleaner.state.floatbank8_c_air  ...  \\\n",
       "0                             1400.102998  ...   \n",
       "1                             1396.151033  ...   \n",
       "2                             1398.075709  ...   \n",
       "3                             1400.129303  ...   \n",
       "4                             1402.172226  ...   \n",
       "\n",
       "   secondary_cleaner.state.floatbank4_a_air  \\\n",
       "0                                 12.023554   \n",
       "1                                 12.058140   \n",
       "2                                 11.962366   \n",
       "3                                 12.033091   \n",
       "4                                 12.025367   \n",
       "\n",
       "   secondary_cleaner.state.floatbank4_a_level  \\\n",
       "0                                 -497.795834   \n",
       "1                                 -498.695773   \n",
       "2                                 -498.767484   \n",
       "3                                 -498.350935   \n",
       "4                                 -500.786497   \n",
       "\n",
       "   secondary_cleaner.state.floatbank4_b_air  \\\n",
       "0                                  8.016656   \n",
       "1                                  8.130979   \n",
       "2                                  8.096893   \n",
       "3                                  8.074946   \n",
       "4                                  8.054678   \n",
       "\n",
       "   secondary_cleaner.state.floatbank4_b_level  \\\n",
       "0                                 -501.289139   \n",
       "1                                 -499.634209   \n",
       "2                                 -500.827423   \n",
       "3                                 -499.474407   \n",
       "4                                 -500.397500   \n",
       "\n",
       "   secondary_cleaner.state.floatbank5_a_air  \\\n",
       "0                                  7.946562   \n",
       "1                                  7.958270   \n",
       "2                                  8.071056   \n",
       "3                                  7.897085   \n",
       "4                                  8.107890   \n",
       "\n",
       "   secondary_cleaner.state.floatbank5_a_level  \\\n",
       "0                                 -432.317850   \n",
       "1                                 -525.839648   \n",
       "2                                 -500.801673   \n",
       "3                                 -500.868509   \n",
       "4                                 -509.526725   \n",
       "\n",
       "   secondary_cleaner.state.floatbank5_b_air  \\\n",
       "0                                  4.872511   \n",
       "1                                  4.878850   \n",
       "2                                  4.905125   \n",
       "3                                  4.931400   \n",
       "4                                  4.957674   \n",
       "\n",
       "   secondary_cleaner.state.floatbank5_b_level  \\\n",
       "0                                 -500.037437   \n",
       "1                                 -500.162375   \n",
       "2                                 -499.828510   \n",
       "3                                 -499.963623   \n",
       "4                                 -500.360026   \n",
       "\n",
       "   secondary_cleaner.state.floatbank6_a_air  \\\n",
       "0                                 26.705889   \n",
       "1                                 25.019940   \n",
       "2                                 24.994862   \n",
       "3                                 24.948919   \n",
       "4                                 25.003331   \n",
       "\n",
       "   secondary_cleaner.state.floatbank6_a_level  \n",
       "0                                 -499.709414  \n",
       "1                                 -499.819438  \n",
       "2                                 -500.622559  \n",
       "3                                 -498.709987  \n",
       "4                                 -500.856333  \n",
       "\n",
       "[5 rows x 53 columns]"
      ]
     },
     "execution_count": 20,
     "metadata": {},
     "output_type": "execute_result"
    }
   ],
   "source": [
    "print(f'Размеры заполненого тестового датасета: {gold_recovery_test.shape}')\n",
    "gold_recovery_test.head()"
   ]
  },
  {
   "cell_type": "markdown",
   "metadata": {},
   "source": [
    "Проверим остались ли пропуски."
   ]
  },
  {
   "cell_type": "code",
   "execution_count": 21,
   "metadata": {},
   "outputs": [
    {
     "data": {
      "text/plain": [
       "0"
      ]
     },
     "execution_count": 21,
     "metadata": {},
     "output_type": "execute_result"
    }
   ],
   "source": [
    "gold_recovery_full.isna().sum().sum()"
   ]
  },
  {
   "cell_type": "code",
   "execution_count": 22,
   "metadata": {},
   "outputs": [
    {
     "data": {
      "text/plain": [
       "0"
      ]
     },
     "execution_count": 22,
     "metadata": {},
     "output_type": "execute_result"
    }
   ],
   "source": [
    "gold_recovery_train.isna().sum().sum()"
   ]
  },
  {
   "cell_type": "code",
   "execution_count": 23,
   "metadata": {},
   "outputs": [
    {
     "data": {
      "text/plain": [
       "0"
      ]
     },
     "execution_count": 23,
     "metadata": {},
     "output_type": "execute_result"
    }
   ],
   "source": [
    "gold_recovery_test.isna().sum().sum()"
   ]
  },
  {
   "cell_type": "markdown",
   "metadata": {},
   "source": [
    "Пропусков нет, значит применение второго метода не требуется.\n",
    "\n",
    "Теперь посмотрим на данные которые у нас есть в тестовой выборке. Нам сказано, что тестовом наборе нет целевых признаков, однако исходный датасет содержит обе выборке, в том числе данные по этим признакам. Добавим в тестовую выборку два столбца с целевыми признаками в целях понимания качества обучения модели на тестовой выборке (позже они требуются для метрик)."
   ]
  },
  {
   "cell_type": "code",
   "execution_count": 24,
   "metadata": {},
   "outputs": [],
   "source": [
    "# используем merge для присоединения столбцов\n",
    "\n",
    "gold_recovery_test = gold_recovery_test.merge(gold_recovery_full[['date', 'rougher.output.recovery', 'final.output.recovery']], \\\n",
    "                                              on='date', how='left')"
   ]
  },
  {
   "cell_type": "code",
   "execution_count": 25,
   "metadata": {
    "scrolled": true
   },
   "outputs": [
    {
     "data": {
      "text/html": [
       "<div>\n",
       "<style scoped>\n",
       "    .dataframe tbody tr th:only-of-type {\n",
       "        vertical-align: middle;\n",
       "    }\n",
       "\n",
       "    .dataframe tbody tr th {\n",
       "        vertical-align: top;\n",
       "    }\n",
       "\n",
       "    .dataframe thead th {\n",
       "        text-align: right;\n",
       "    }\n",
       "</style>\n",
       "<table border=\"1\" class=\"dataframe\">\n",
       "  <thead>\n",
       "    <tr style=\"text-align: right;\">\n",
       "      <th></th>\n",
       "      <th>date</th>\n",
       "      <th>primary_cleaner.input.sulfate</th>\n",
       "      <th>primary_cleaner.input.depressant</th>\n",
       "      <th>primary_cleaner.input.feed_size</th>\n",
       "      <th>primary_cleaner.input.xanthate</th>\n",
       "      <th>primary_cleaner.state.floatbank8_a_air</th>\n",
       "      <th>primary_cleaner.state.floatbank8_a_level</th>\n",
       "      <th>primary_cleaner.state.floatbank8_b_air</th>\n",
       "      <th>primary_cleaner.state.floatbank8_b_level</th>\n",
       "      <th>primary_cleaner.state.floatbank8_c_air</th>\n",
       "      <th>...</th>\n",
       "      <th>secondary_cleaner.state.floatbank4_b_air</th>\n",
       "      <th>secondary_cleaner.state.floatbank4_b_level</th>\n",
       "      <th>secondary_cleaner.state.floatbank5_a_air</th>\n",
       "      <th>secondary_cleaner.state.floatbank5_a_level</th>\n",
       "      <th>secondary_cleaner.state.floatbank5_b_air</th>\n",
       "      <th>secondary_cleaner.state.floatbank5_b_level</th>\n",
       "      <th>secondary_cleaner.state.floatbank6_a_air</th>\n",
       "      <th>secondary_cleaner.state.floatbank6_a_level</th>\n",
       "      <th>rougher.output.recovery</th>\n",
       "      <th>final.output.recovery</th>\n",
       "    </tr>\n",
       "  </thead>\n",
       "  <tbody>\n",
       "    <tr>\n",
       "      <th>0</th>\n",
       "      <td>2016-09-01 00:59:59</td>\n",
       "      <td>210.800909</td>\n",
       "      <td>14.993118</td>\n",
       "      <td>8.080000</td>\n",
       "      <td>1.005021</td>\n",
       "      <td>1398.981301</td>\n",
       "      <td>-500.225577</td>\n",
       "      <td>1399.144926</td>\n",
       "      <td>-499.919735</td>\n",
       "      <td>1400.102998</td>\n",
       "      <td>...</td>\n",
       "      <td>8.016656</td>\n",
       "      <td>-501.289139</td>\n",
       "      <td>7.946562</td>\n",
       "      <td>-432.317850</td>\n",
       "      <td>4.872511</td>\n",
       "      <td>-500.037437</td>\n",
       "      <td>26.705889</td>\n",
       "      <td>-499.709414</td>\n",
       "      <td>89.993421</td>\n",
       "      <td>70.273583</td>\n",
       "    </tr>\n",
       "    <tr>\n",
       "      <th>1</th>\n",
       "      <td>2016-09-01 01:59:59</td>\n",
       "      <td>215.392455</td>\n",
       "      <td>14.987471</td>\n",
       "      <td>8.080000</td>\n",
       "      <td>0.990469</td>\n",
       "      <td>1398.777912</td>\n",
       "      <td>-500.057435</td>\n",
       "      <td>1398.055362</td>\n",
       "      <td>-499.778182</td>\n",
       "      <td>1396.151033</td>\n",
       "      <td>...</td>\n",
       "      <td>8.130979</td>\n",
       "      <td>-499.634209</td>\n",
       "      <td>7.958270</td>\n",
       "      <td>-525.839648</td>\n",
       "      <td>4.878850</td>\n",
       "      <td>-500.162375</td>\n",
       "      <td>25.019940</td>\n",
       "      <td>-499.819438</td>\n",
       "      <td>88.089657</td>\n",
       "      <td>68.910432</td>\n",
       "    </tr>\n",
       "    <tr>\n",
       "      <th>2</th>\n",
       "      <td>2016-09-01 02:59:59</td>\n",
       "      <td>215.259946</td>\n",
       "      <td>12.884934</td>\n",
       "      <td>7.786667</td>\n",
       "      <td>0.996043</td>\n",
       "      <td>1398.493666</td>\n",
       "      <td>-500.868360</td>\n",
       "      <td>1398.860436</td>\n",
       "      <td>-499.764529</td>\n",
       "      <td>1398.075709</td>\n",
       "      <td>...</td>\n",
       "      <td>8.096893</td>\n",
       "      <td>-500.827423</td>\n",
       "      <td>8.071056</td>\n",
       "      <td>-500.801673</td>\n",
       "      <td>4.905125</td>\n",
       "      <td>-499.828510</td>\n",
       "      <td>24.994862</td>\n",
       "      <td>-500.622559</td>\n",
       "      <td>88.412756</td>\n",
       "      <td>68.143213</td>\n",
       "    </tr>\n",
       "    <tr>\n",
       "      <th>3</th>\n",
       "      <td>2016-09-01 03:59:59</td>\n",
       "      <td>215.336236</td>\n",
       "      <td>12.006805</td>\n",
       "      <td>7.640000</td>\n",
       "      <td>0.863514</td>\n",
       "      <td>1399.618111</td>\n",
       "      <td>-498.863574</td>\n",
       "      <td>1397.440120</td>\n",
       "      <td>-499.211024</td>\n",
       "      <td>1400.129303</td>\n",
       "      <td>...</td>\n",
       "      <td>8.074946</td>\n",
       "      <td>-499.474407</td>\n",
       "      <td>7.897085</td>\n",
       "      <td>-500.868509</td>\n",
       "      <td>4.931400</td>\n",
       "      <td>-499.963623</td>\n",
       "      <td>24.948919</td>\n",
       "      <td>-498.709987</td>\n",
       "      <td>87.360133</td>\n",
       "      <td>67.776393</td>\n",
       "    </tr>\n",
       "    <tr>\n",
       "      <th>4</th>\n",
       "      <td>2016-09-01 04:59:59</td>\n",
       "      <td>199.099327</td>\n",
       "      <td>10.682530</td>\n",
       "      <td>7.530000</td>\n",
       "      <td>0.805575</td>\n",
       "      <td>1401.268123</td>\n",
       "      <td>-500.808305</td>\n",
       "      <td>1398.128818</td>\n",
       "      <td>-499.504543</td>\n",
       "      <td>1402.172226</td>\n",
       "      <td>...</td>\n",
       "      <td>8.054678</td>\n",
       "      <td>-500.397500</td>\n",
       "      <td>8.107890</td>\n",
       "      <td>-509.526725</td>\n",
       "      <td>4.957674</td>\n",
       "      <td>-500.360026</td>\n",
       "      <td>25.003331</td>\n",
       "      <td>-500.856333</td>\n",
       "      <td>83.236367</td>\n",
       "      <td>61.467078</td>\n",
       "    </tr>\n",
       "  </tbody>\n",
       "</table>\n",
       "<p>5 rows × 55 columns</p>\n",
       "</div>"
      ],
      "text/plain": [
       "                  date  primary_cleaner.input.sulfate  \\\n",
       "0  2016-09-01 00:59:59                     210.800909   \n",
       "1  2016-09-01 01:59:59                     215.392455   \n",
       "2  2016-09-01 02:59:59                     215.259946   \n",
       "3  2016-09-01 03:59:59                     215.336236   \n",
       "4  2016-09-01 04:59:59                     199.099327   \n",
       "\n",
       "   primary_cleaner.input.depressant  primary_cleaner.input.feed_size  \\\n",
       "0                         14.993118                         8.080000   \n",
       "1                         14.987471                         8.080000   \n",
       "2                         12.884934                         7.786667   \n",
       "3                         12.006805                         7.640000   \n",
       "4                         10.682530                         7.530000   \n",
       "\n",
       "   primary_cleaner.input.xanthate  primary_cleaner.state.floatbank8_a_air  \\\n",
       "0                        1.005021                             1398.981301   \n",
       "1                        0.990469                             1398.777912   \n",
       "2                        0.996043                             1398.493666   \n",
       "3                        0.863514                             1399.618111   \n",
       "4                        0.805575                             1401.268123   \n",
       "\n",
       "   primary_cleaner.state.floatbank8_a_level  \\\n",
       "0                               -500.225577   \n",
       "1                               -500.057435   \n",
       "2                               -500.868360   \n",
       "3                               -498.863574   \n",
       "4                               -500.808305   \n",
       "\n",
       "   primary_cleaner.state.floatbank8_b_air  \\\n",
       "0                             1399.144926   \n",
       "1                             1398.055362   \n",
       "2                             1398.860436   \n",
       "3                             1397.440120   \n",
       "4                             1398.128818   \n",
       "\n",
       "   primary_cleaner.state.floatbank8_b_level  \\\n",
       "0                               -499.919735   \n",
       "1                               -499.778182   \n",
       "2                               -499.764529   \n",
       "3                               -499.211024   \n",
       "4                               -499.504543   \n",
       "\n",
       "   primary_cleaner.state.floatbank8_c_air  ...  \\\n",
       "0                             1400.102998  ...   \n",
       "1                             1396.151033  ...   \n",
       "2                             1398.075709  ...   \n",
       "3                             1400.129303  ...   \n",
       "4                             1402.172226  ...   \n",
       "\n",
       "   secondary_cleaner.state.floatbank4_b_air  \\\n",
       "0                                  8.016656   \n",
       "1                                  8.130979   \n",
       "2                                  8.096893   \n",
       "3                                  8.074946   \n",
       "4                                  8.054678   \n",
       "\n",
       "   secondary_cleaner.state.floatbank4_b_level  \\\n",
       "0                                 -501.289139   \n",
       "1                                 -499.634209   \n",
       "2                                 -500.827423   \n",
       "3                                 -499.474407   \n",
       "4                                 -500.397500   \n",
       "\n",
       "   secondary_cleaner.state.floatbank5_a_air  \\\n",
       "0                                  7.946562   \n",
       "1                                  7.958270   \n",
       "2                                  8.071056   \n",
       "3                                  7.897085   \n",
       "4                                  8.107890   \n",
       "\n",
       "   secondary_cleaner.state.floatbank5_a_level  \\\n",
       "0                                 -432.317850   \n",
       "1                                 -525.839648   \n",
       "2                                 -500.801673   \n",
       "3                                 -500.868509   \n",
       "4                                 -509.526725   \n",
       "\n",
       "   secondary_cleaner.state.floatbank5_b_air  \\\n",
       "0                                  4.872511   \n",
       "1                                  4.878850   \n",
       "2                                  4.905125   \n",
       "3                                  4.931400   \n",
       "4                                  4.957674   \n",
       "\n",
       "   secondary_cleaner.state.floatbank5_b_level  \\\n",
       "0                                 -500.037437   \n",
       "1                                 -500.162375   \n",
       "2                                 -499.828510   \n",
       "3                                 -499.963623   \n",
       "4                                 -500.360026   \n",
       "\n",
       "   secondary_cleaner.state.floatbank6_a_air  \\\n",
       "0                                 26.705889   \n",
       "1                                 25.019940   \n",
       "2                                 24.994862   \n",
       "3                                 24.948919   \n",
       "4                                 25.003331   \n",
       "\n",
       "   secondary_cleaner.state.floatbank6_a_level  rougher.output.recovery  \\\n",
       "0                                 -499.709414                89.993421   \n",
       "1                                 -499.819438                88.089657   \n",
       "2                                 -500.622559                88.412756   \n",
       "3                                 -498.709987                87.360133   \n",
       "4                                 -500.856333                83.236367   \n",
       "\n",
       "   final.output.recovery  \n",
       "0              70.273583  \n",
       "1              68.910432  \n",
       "2              68.143213  \n",
       "3              67.776393  \n",
       "4              61.467078  \n",
       "\n",
       "[5 rows x 55 columns]"
      ]
     },
     "execution_count": 25,
     "metadata": {},
     "output_type": "execute_result"
    }
   ],
   "source": [
    "gold_recovery_test.head() # выводим первые 5 строк для проверки\n"
   ]
  },
  {
   "cell_type": "markdown",
   "metadata": {},
   "source": [
    "Также изменим набор признаков в тренеровочной выборке. На прошлом шаге мы выяснили, что в нем есть признаки, которых не может быть в тестовой, это параметры, которые замеряются или расчитываются позже, их не может быть в тестовой выборке и скорее всего не будет в реальных данных, которые передадут в модель для предсказаний. А значит мы должны и обучить модель только на данных которые есть в тестовой. "
   ]
  },
  {
   "cell_type": "code",
   "execution_count": 26,
   "metadata": {},
   "outputs": [],
   "source": [
    "lst = list(gold_recovery_test.columns)"
   ]
  },
  {
   "cell_type": "code",
   "execution_count": 27,
   "metadata": {},
   "outputs": [],
   "source": [
    "# сохраним в отдельную переменную, на случай если исходная тренеровочная выборка пригодится\n",
    "\n",
    "gold_recovery_train_1 = gold_recovery_train[lst] # возьмем нужные нам столбцы"
   ]
  },
  {
   "cell_type": "code",
   "execution_count": 28,
   "metadata": {
    "scrolled": true
   },
   "outputs": [
    {
     "name": "stdout",
     "output_type": "stream",
     "text": [
      "<class 'pandas.core.frame.DataFrame'>\n",
      "RangeIndex: 14149 entries, 0 to 14148\n",
      "Data columns (total 55 columns):\n",
      " #   Column                                      Non-Null Count  Dtype  \n",
      "---  ------                                      --------------  -----  \n",
      " 0   date                                        14149 non-null  object \n",
      " 1   primary_cleaner.input.sulfate               14149 non-null  float64\n",
      " 2   primary_cleaner.input.depressant            14149 non-null  float64\n",
      " 3   primary_cleaner.input.feed_size             14149 non-null  float64\n",
      " 4   primary_cleaner.input.xanthate              14149 non-null  float64\n",
      " 5   primary_cleaner.state.floatbank8_a_air      14149 non-null  float64\n",
      " 6   primary_cleaner.state.floatbank8_a_level    14149 non-null  float64\n",
      " 7   primary_cleaner.state.floatbank8_b_air      14149 non-null  float64\n",
      " 8   primary_cleaner.state.floatbank8_b_level    14149 non-null  float64\n",
      " 9   primary_cleaner.state.floatbank8_c_air      14149 non-null  float64\n",
      " 10  primary_cleaner.state.floatbank8_c_level    14149 non-null  float64\n",
      " 11  primary_cleaner.state.floatbank8_d_air      14149 non-null  float64\n",
      " 12  primary_cleaner.state.floatbank8_d_level    14149 non-null  float64\n",
      " 13  rougher.input.feed_ag                       14149 non-null  float64\n",
      " 14  rougher.input.feed_pb                       14149 non-null  float64\n",
      " 15  rougher.input.feed_rate                     14149 non-null  float64\n",
      " 16  rougher.input.feed_size                     14149 non-null  float64\n",
      " 17  rougher.input.feed_sol                      14149 non-null  float64\n",
      " 18  rougher.input.feed_au                       14149 non-null  float64\n",
      " 19  rougher.input.floatbank10_sulfate           14149 non-null  float64\n",
      " 20  rougher.input.floatbank10_xanthate          14149 non-null  float64\n",
      " 21  rougher.input.floatbank11_sulfate           14149 non-null  float64\n",
      " 22  rougher.input.floatbank11_xanthate          14149 non-null  float64\n",
      " 23  rougher.state.floatbank10_a_air             14149 non-null  float64\n",
      " 24  rougher.state.floatbank10_a_level           14149 non-null  float64\n",
      " 25  rougher.state.floatbank10_b_air             14149 non-null  float64\n",
      " 26  rougher.state.floatbank10_b_level           14149 non-null  float64\n",
      " 27  rougher.state.floatbank10_c_air             14149 non-null  float64\n",
      " 28  rougher.state.floatbank10_c_level           14149 non-null  float64\n",
      " 29  rougher.state.floatbank10_d_air             14149 non-null  float64\n",
      " 30  rougher.state.floatbank10_d_level           14149 non-null  float64\n",
      " 31  rougher.state.floatbank10_e_air             14149 non-null  float64\n",
      " 32  rougher.state.floatbank10_e_level           14149 non-null  float64\n",
      " 33  rougher.state.floatbank10_f_air             14149 non-null  float64\n",
      " 34  rougher.state.floatbank10_f_level           14149 non-null  float64\n",
      " 35  secondary_cleaner.state.floatbank2_a_air    14149 non-null  float64\n",
      " 36  secondary_cleaner.state.floatbank2_a_level  14149 non-null  float64\n",
      " 37  secondary_cleaner.state.floatbank2_b_air    14149 non-null  float64\n",
      " 38  secondary_cleaner.state.floatbank2_b_level  14149 non-null  float64\n",
      " 39  secondary_cleaner.state.floatbank3_a_air    14149 non-null  float64\n",
      " 40  secondary_cleaner.state.floatbank3_a_level  14149 non-null  float64\n",
      " 41  secondary_cleaner.state.floatbank3_b_air    14149 non-null  float64\n",
      " 42  secondary_cleaner.state.floatbank3_b_level  14149 non-null  float64\n",
      " 43  secondary_cleaner.state.floatbank4_a_air    14149 non-null  float64\n",
      " 44  secondary_cleaner.state.floatbank4_a_level  14149 non-null  float64\n",
      " 45  secondary_cleaner.state.floatbank4_b_air    14149 non-null  float64\n",
      " 46  secondary_cleaner.state.floatbank4_b_level  14149 non-null  float64\n",
      " 47  secondary_cleaner.state.floatbank5_a_air    14149 non-null  float64\n",
      " 48  secondary_cleaner.state.floatbank5_a_level  14149 non-null  float64\n",
      " 49  secondary_cleaner.state.floatbank5_b_air    14149 non-null  float64\n",
      " 50  secondary_cleaner.state.floatbank5_b_level  14149 non-null  float64\n",
      " 51  secondary_cleaner.state.floatbank6_a_air    14149 non-null  float64\n",
      " 52  secondary_cleaner.state.floatbank6_a_level  14149 non-null  float64\n",
      " 53  rougher.output.recovery                     14149 non-null  float64\n",
      " 54  final.output.recovery                       14149 non-null  float64\n",
      "dtypes: float64(54), object(1)\n",
      "memory usage: 5.9+ MB\n"
     ]
    }
   ],
   "source": [
    "gold_recovery_train_1.info()"
   ]
  },
  {
   "cell_type": "markdown",
   "metadata": {},
   "source": [
    "Теперь данные в тренеровочной выборке соответствуют тем, что есть в тестовой и которые будут передавать в работу модели.\n",
    "\n",
    "Посмотрим теперь на распределения по концентратам металов на трех этапах, нам понадобятся эти данные на следующем шаге. Посмотрим на них и обратотаем при необходимости. Смотреть будем на концентрацию металов в сырье после флотации,первичной и вторичной обработки. Если выбросов будет много удалять все не имеет смылса, потеряем данные, их и так не слишком много. Удалять будем те, то заметно выделяются даже среди выбросов."
   ]
  },
  {
   "cell_type": "code",
   "execution_count": 29,
   "metadata": {
    "scrolled": false
   },
   "outputs": [
    {
     "data": {
      "image/png": "[encoded data removed]",
      "text/plain": [
       "<Figure size 432x288 with 1 Axes>"
      ]
     },
     "metadata": {
      "needs_background": "light"
     },
     "output_type": "display_data"
    }
   ],
   "source": [
    "# смотрим на этап флотации\n",
    "\n",
    "plt.boxplot([gold_recovery_full['rougher.output.concentrate_ag'], \\\n",
    "            gold_recovery_full['rougher.output.concentrate_pb'], \\\n",
    "            gold_recovery_full['rougher.output.concentrate_au']])\n",
    "plt.xticks([1, 2, 3], labels=['Ag', 'Pb', 'Au'])\n",
    "plt.title('Rougher output concentrate')\n",
    "plt.show()"
   ]
  },
  {
   "cell_type": "markdown",
   "metadata": {},
   "source": [
    "Видно много выбросов по каждому из металов. посмотрим на распределене каждого. Посмотрим описание каждого столбца и удалим подозрительные данные. Также виден максимальный выброс в серебре, удалим его, слишком выбивается из всей картины."
   ]
  },
  {
   "cell_type": "code",
   "execution_count": 30,
   "metadata": {
    "scrolled": true
   },
   "outputs": [
    {
     "name": "stdout",
     "output_type": "stream",
     "text": [
      "Ag:\n",
      "count    19439.000000\n",
      "mean        11.994759\n",
      "std          2.733862\n",
      "min          0.000000\n",
      "25%         10.628337\n",
      "50%         12.098115\n",
      "75%         13.736996\n",
      "max         24.480271\n",
      "Name: rougher.output.concentrate_ag, dtype: float64\n",
      "\n",
      "Pb:\n",
      "count    19439.000000\n",
      "mean         7.606272\n",
      "std          1.796757\n",
      "min          0.000000\n",
      "25%          6.725987\n",
      "50%          7.742580\n",
      "75%          8.565199\n",
      "max         13.617072\n",
      "Name: rougher.output.concentrate_pb, dtype: float64\n",
      "\n",
      "Au:\n",
      "count    19439.000000\n",
      "mean        19.772000\n",
      "std          3.753600\n",
      "min          0.000000\n",
      "25%         18.802523\n",
      "50%         20.280214\n",
      "75%         21.717843\n",
      "max         28.824507\n",
      "Name: rougher.output.concentrate_au, dtype: float64\n"
     ]
    }
   ],
   "source": [
    "print('Ag:')\n",
    "print(gold_recovery_full['rougher.output.concentrate_ag'].describe())\n",
    "print()\n",
    "print('Pb:')\n",
    "print(gold_recovery_full['rougher.output.concentrate_pb'].describe())\n",
    "print()\n",
    "print('Au:')\n",
    "print(gold_recovery_full['rougher.output.concentrate_au'].describe())"
   ]
  },
  {
   "cell_type": "markdown",
   "metadata": {},
   "source": [
    "Во всех трех вариантах видно, что минимальная концентрация равна 0, однако выглядит это подозрительно, хоть минимальная концентрация миталов должна быть. Уберем все значения где концентрация равна 0."
   ]
  },
  {
   "cell_type": "code",
   "execution_count": 31,
   "metadata": {},
   "outputs": [],
   "source": [
    "gold_recovery_full = gold_recovery_full.loc[\n",
    "                        (gold_recovery_full['rougher.output.concentrate_ag'] > 0) &\n",
    "                        (gold_recovery_full['rougher.output.concentrate_ag'] < 24.48027)]\n",
    "gold_recovery_full = gold_recovery_full.loc[\n",
    "                        gold_recovery_full['rougher.output.concentrate_pb'] > 0]\n",
    "gold_recovery_full = gold_recovery_full.loc[\n",
    "                        gold_recovery_full['rougher.output.concentrate_au'] > 0]"
   ]
  },
  {
   "cell_type": "code",
   "execution_count": 32,
   "metadata": {},
   "outputs": [
    {
     "data": {
      "image/png": "[encoded data removed]",
      "text/plain": [
       "<Figure size 432x288 with 1 Axes>"
      ]
     },
     "metadata": {
      "needs_background": "light"
     },
     "output_type": "display_data"
    }
   ],
   "source": [
    "# смотрим на этап первичной обработки\n",
    "\n",
    "plt.boxplot([gold_recovery_full['primary_cleaner.output.concentrate_ag'], \\\n",
    "            gold_recovery_full['primary_cleaner.output.concentrate_pb'], \\\n",
    "            gold_recovery_full['primary_cleaner.output.concentrate_au']])\n",
    "plt.xticks([1, 2, 3], labels=['Ag', 'Pb', 'Au'])\n",
    "plt.title('Primary cleaner output concentrate')\n",
    "plt.show()"
   ]
  },
  {
   "cell_type": "markdown",
   "metadata": {},
   "source": [
    "Здесь также есть выбросы и минимальное значение скорее всего равно нулю по каждому металу. Посмотрим на значения."
   ]
  },
  {
   "cell_type": "code",
   "execution_count": 33,
   "metadata": {},
   "outputs": [
    {
     "name": "stdout",
     "output_type": "stream",
     "text": [
      "Ag:\n",
      "count    19044.000000\n",
      "mean         8.450322\n",
      "std          2.055039\n",
      "min          0.000000\n",
      "25%          7.271464\n",
      "50%          8.519079\n",
      "75%          9.815653\n",
      "max         16.081632\n",
      "Name: primary_cleaner.output.concentrate_ag, dtype: float64\n",
      "\n",
      "Pb:\n",
      "count    19044.000000\n",
      "mean         9.795902\n",
      "std          2.578517\n",
      "min          0.000000\n",
      "25%          8.651912\n",
      "50%         10.129357\n",
      "75%         11.403922\n",
      "max         17.081278\n",
      "Name: primary_cleaner.output.concentrate_pb, dtype: float64\n",
      "\n",
      "Au:\n",
      "count    19044.000000\n",
      "mean        32.087751\n",
      "std          5.618618\n",
      "min          0.000000\n",
      "25%         30.439975\n",
      "50%         32.800079\n",
      "75%         35.006929\n",
      "max         45.933934\n",
      "Name: primary_cleaner.output.concentrate_au, dtype: float64\n"
     ]
    }
   ],
   "source": [
    "print('Ag:')\n",
    "print(gold_recovery_full['primary_cleaner.output.concentrate_ag'].describe())\n",
    "print()\n",
    "print('Pb:')\n",
    "print(gold_recovery_full['primary_cleaner.output.concentrate_pb'].describe())\n",
    "print()\n",
    "print('Au:')\n",
    "print(gold_recovery_full['primary_cleaner.output.concentrate_au'].describe())"
   ]
  },
  {
   "cell_type": "markdown",
   "metadata": {},
   "source": [
    "Выбросы за 75% квантиль есть, однако настолько заметных как на этапе флотации нет, а вот те что равны 0, кажутся странными. Также оставим только те, данные, что имеют процент содержания металла больше 0."
   ]
  },
  {
   "cell_type": "code",
   "execution_count": 34,
   "metadata": {},
   "outputs": [],
   "source": [
    "gold_recovery_full = gold_recovery_full.loc[\n",
    "                        gold_recovery_full['primary_cleaner.output.concentrate_ag'] > 0]\n",
    "gold_recovery_full = gold_recovery_full.loc[\n",
    "                        gold_recovery_full['primary_cleaner.output.concentrate_pb'] > 0]\n",
    "gold_recovery_full = gold_recovery_full.loc[\n",
    "                        gold_recovery_full['primary_cleaner.output.concentrate_au'] > 0]"
   ]
  },
  {
   "cell_type": "code",
   "execution_count": 35,
   "metadata": {
    "scrolled": true
   },
   "outputs": [
    {
     "data": {
      "image/png": "[encoded data removed]",
      "text/plain": [
       "<Figure size 432x288 with 1 Axes>"
      ]
     },
     "metadata": {
      "needs_background": "light"
     },
     "output_type": "display_data"
    }
   ],
   "source": [
    "# смотрим на этап вторичной обработки\n",
    "\n",
    "\n",
    "plt.boxplot([gold_recovery_full['final.output.concentrate_ag'], \\\n",
    "            gold_recovery_full['final.output.concentrate_pb'], \\\n",
    "            gold_recovery_full['final.output.concentrate_au']])\n",
    "plt.xticks([1, 2, 3], labels=['Ag', 'Pb', 'Au'])\n",
    "plt.title('Final output concentrate')\n",
    "plt.show()"
   ]
  },
  {
   "cell_type": "markdown",
   "metadata": {},
   "source": [
    "Здесь похожая картина, однако для серебра виден сильны выброс в плюс, а для золота есть несколько подосрительно минимальных выбросов, слишком заметных. Удалим их из датасета. Границу для золота поставим больше 5."
   ]
  },
  {
   "cell_type": "code",
   "execution_count": 36,
   "metadata": {},
   "outputs": [
    {
     "name": "stdout",
     "output_type": "stream",
     "text": [
      "Ag:\n",
      "count    18935.000000\n",
      "mean         5.173278\n",
      "std          1.372315\n",
      "min          0.000000\n",
      "25%          4.258098\n",
      "50%          5.071002\n",
      "75%          5.893981\n",
      "max         16.001945\n",
      "Name: final.output.concentrate_ag, dtype: float64\n",
      "\n",
      "Pb:\n",
      "count    18935.000000\n",
      "mean         9.980663\n",
      "std          1.662732\n",
      "min          0.000000\n",
      "25%          9.128851\n",
      "50%         10.101284\n",
      "75%         11.045169\n",
      "max         17.031899\n",
      "Name: final.output.concentrate_pb, dtype: float64\n",
      "\n",
      "Au:\n",
      "count    18935.000000\n",
      "mean        44.077616\n",
      "std          5.060649\n",
      "min          0.000000\n",
      "25%         43.395502\n",
      "50%         44.997492\n",
      "75%         46.256164\n",
      "max         52.756638\n",
      "Name: final.output.concentrate_au, dtype: float64\n"
     ]
    }
   ],
   "source": [
    "print('Ag:')\n",
    "print(gold_recovery_full['final.output.concentrate_ag'].describe())\n",
    "print()\n",
    "print('Pb:')\n",
    "print(gold_recovery_full['final.output.concentrate_pb'].describe())\n",
    "print()\n",
    "print('Au:')\n",
    "print(gold_recovery_full['final.output.concentrate_au'].describe())"
   ]
  },
  {
   "cell_type": "code",
   "execution_count": 37,
   "metadata": {},
   "outputs": [],
   "source": [
    "gold_recovery_full = gold_recovery_full.loc[\n",
    "                        (gold_recovery_full['final.output.concentrate_ag'] > 0) &\n",
    "                        (gold_recovery_full['final.output.concentrate_ag'] < 16.00194)]\n",
    "gold_recovery_full = gold_recovery_full.loc[\n",
    "                        gold_recovery_full['final.output.concentrate_pb'] > 0]\n",
    "gold_recovery_full = gold_recovery_full.loc[\n",
    "                        gold_recovery_full['final.output.concentrate_au'] > 5]"
   ]
  },
  {
   "cell_type": "markdown",
   "metadata": {},
   "source": [
    "Теперь можно переходить к анализу данных."
   ]
  },
  {
   "cell_type": "markdown",
   "metadata": {},
   "source": [
    "## Анализ данных"
   ]
  },
  {
   "cell_type": "markdown",
   "metadata": {},
   "source": [
    "### Посмотрите, как меняется концентрация металлов (Au, Ag, Pb) на различных этапах очистки. \n",
    "\n",
    "Посмотрим какие столбцы нам помогут найти концентрация по каждому их металов и каждой стадии очистки, далее посмтроим гравики отражающие концентрацию на каждом этапе."
   ]
  },
  {
   "cell_type": "code",
   "execution_count": 38,
   "metadata": {
    "scrolled": true
   },
   "outputs": [
    {
     "name": "stdout",
     "output_type": "stream",
     "text": [
      "<class 'pandas.core.frame.DataFrame'>\n",
      "Int64Index: 18834 entries, 0 to 19438\n",
      "Data columns (total 87 columns):\n",
      " #   Column                                              Non-Null Count  Dtype  \n",
      "---  ------                                              --------------  -----  \n",
      " 0   date                                                18834 non-null  object \n",
      " 1   final.output.concentrate_ag                         18834 non-null  float64\n",
      " 2   final.output.concentrate_pb                         18834 non-null  float64\n",
      " 3   final.output.concentrate_sol                        18834 non-null  float64\n",
      " 4   final.output.concentrate_au                         18834 non-null  float64\n",
      " 5   final.output.recovery                               18834 non-null  float64\n",
      " 6   final.output.tail_ag                                18834 non-null  float64\n",
      " 7   final.output.tail_pb                                18834 non-null  float64\n",
      " 8   final.output.tail_sol                               18834 non-null  float64\n",
      " 9   final.output.tail_au                                18834 non-null  float64\n",
      " 10  primary_cleaner.input.sulfate                       18834 non-null  float64\n",
      " 11  primary_cleaner.input.depressant                    18834 non-null  float64\n",
      " 12  primary_cleaner.input.feed_size                     18834 non-null  float64\n",
      " 13  primary_cleaner.input.xanthate                      18834 non-null  float64\n",
      " 14  primary_cleaner.output.concentrate_ag               18834 non-null  float64\n",
      " 15  primary_cleaner.output.concentrate_pb               18834 non-null  float64\n",
      " 16  primary_cleaner.output.concentrate_sol              18834 non-null  float64\n",
      " 17  primary_cleaner.output.concentrate_au               18834 non-null  float64\n",
      " 18  primary_cleaner.output.tail_ag                      18834 non-null  float64\n",
      " 19  primary_cleaner.output.tail_pb                      18834 non-null  float64\n",
      " 20  primary_cleaner.output.tail_sol                     18834 non-null  float64\n",
      " 21  primary_cleaner.output.tail_au                      18834 non-null  float64\n",
      " 22  primary_cleaner.state.floatbank8_a_air              18834 non-null  float64\n",
      " 23  primary_cleaner.state.floatbank8_a_level            18834 non-null  float64\n",
      " 24  primary_cleaner.state.floatbank8_b_air              18834 non-null  float64\n",
      " 25  primary_cleaner.state.floatbank8_b_level            18834 non-null  float64\n",
      " 26  primary_cleaner.state.floatbank8_c_air              18834 non-null  float64\n",
      " 27  primary_cleaner.state.floatbank8_c_level            18834 non-null  float64\n",
      " 28  primary_cleaner.state.floatbank8_d_air              18834 non-null  float64\n",
      " 29  primary_cleaner.state.floatbank8_d_level            18834 non-null  float64\n",
      " 30  rougher.calculation.sulfate_to_au_concentrate       18834 non-null  float64\n",
      " 31  rougher.calculation.floatbank10_sulfate_to_au_feed  18834 non-null  float64\n",
      " 32  rougher.calculation.floatbank11_sulfate_to_au_feed  18834 non-null  float64\n",
      " 33  rougher.calculation.au_pb_ratio                     18834 non-null  float64\n",
      " 34  rougher.input.feed_ag                               18834 non-null  float64\n",
      " 35  rougher.input.feed_pb                               18834 non-null  float64\n",
      " 36  rougher.input.feed_rate                             18834 non-null  float64\n",
      " 37  rougher.input.feed_size                             18834 non-null  float64\n",
      " 38  rougher.input.feed_sol                              18834 non-null  float64\n",
      " 39  rougher.input.feed_au                               18834 non-null  float64\n",
      " 40  rougher.input.floatbank10_sulfate                   18834 non-null  float64\n",
      " 41  rougher.input.floatbank10_xanthate                  18834 non-null  float64\n",
      " 42  rougher.input.floatbank11_sulfate                   18834 non-null  float64\n",
      " 43  rougher.input.floatbank11_xanthate                  18834 non-null  float64\n",
      " 44  rougher.output.concentrate_ag                       18834 non-null  float64\n",
      " 45  rougher.output.concentrate_pb                       18834 non-null  float64\n",
      " 46  rougher.output.concentrate_sol                      18834 non-null  float64\n",
      " 47  rougher.output.concentrate_au                       18834 non-null  float64\n",
      " 48  rougher.output.recovery                             18834 non-null  float64\n",
      " 49  rougher.output.tail_ag                              18834 non-null  float64\n",
      " 50  rougher.output.tail_pb                              18834 non-null  float64\n",
      " 51  rougher.output.tail_sol                             18834 non-null  float64\n",
      " 52  rougher.output.tail_au                              18834 non-null  float64\n",
      " 53  rougher.state.floatbank10_a_air                     18834 non-null  float64\n",
      " 54  rougher.state.floatbank10_a_level                   18834 non-null  float64\n",
      " 55  rougher.state.floatbank10_b_air                     18834 non-null  float64\n",
      " 56  rougher.state.floatbank10_b_level                   18834 non-null  float64\n",
      " 57  rougher.state.floatbank10_c_air                     18834 non-null  float64\n",
      " 58  rougher.state.floatbank10_c_level                   18834 non-null  float64\n",
      " 59  rougher.state.floatbank10_d_air                     18834 non-null  float64\n",
      " 60  rougher.state.floatbank10_d_level                   18834 non-null  float64\n",
      " 61  rougher.state.floatbank10_e_air                     18834 non-null  float64\n",
      " 62  rougher.state.floatbank10_e_level                   18834 non-null  float64\n",
      " 63  rougher.state.floatbank10_f_air                     18834 non-null  float64\n",
      " 64  rougher.state.floatbank10_f_level                   18834 non-null  float64\n",
      " 65  secondary_cleaner.output.tail_ag                    18834 non-null  float64\n",
      " 66  secondary_cleaner.output.tail_pb                    18834 non-null  float64\n",
      " 67  secondary_cleaner.output.tail_sol                   18834 non-null  float64\n",
      " 68  secondary_cleaner.output.tail_au                    18834 non-null  float64\n",
      " 69  secondary_cleaner.state.floatbank2_a_air            18834 non-null  float64\n",
      " 70  secondary_cleaner.state.floatbank2_a_level          18834 non-null  float64\n",
      " 71  secondary_cleaner.state.floatbank2_b_air            18834 non-null  float64\n",
      " 72  secondary_cleaner.state.floatbank2_b_level          18834 non-null  float64\n",
      " 73  secondary_cleaner.state.floatbank3_a_air            18834 non-null  float64\n",
      " 74  secondary_cleaner.state.floatbank3_a_level          18834 non-null  float64\n",
      " 75  secondary_cleaner.state.floatbank3_b_air            18834 non-null  float64\n",
      " 76  secondary_cleaner.state.floatbank3_b_level          18834 non-null  float64\n",
      " 77  secondary_cleaner.state.floatbank4_a_air            18834 non-null  float64\n",
      " 78  secondary_cleaner.state.floatbank4_a_level          18834 non-null  float64\n",
      " 79  secondary_cleaner.state.floatbank4_b_air            18834 non-null  float64\n",
      " 80  secondary_cleaner.state.floatbank4_b_level          18834 non-null  float64\n",
      " 81  secondary_cleaner.state.floatbank5_a_air            18834 non-null  float64\n",
      " 82  secondary_cleaner.state.floatbank5_a_level          18834 non-null  float64\n",
      " 83  secondary_cleaner.state.floatbank5_b_air            18834 non-null  float64\n",
      " 84  secondary_cleaner.state.floatbank5_b_level          18834 non-null  float64\n",
      " 85  secondary_cleaner.state.floatbank6_a_air            18834 non-null  float64\n",
      " 86  secondary_cleaner.state.floatbank6_a_level          18834 non-null  float64\n",
      "dtypes: float64(86), object(1)\n",
      "memory usage: 12.6+ MB\n"
     ]
    }
   ],
   "source": [
    "gold_recovery_full.info()"
   ]
  },
  {
   "cell_type": "markdown",
   "metadata": {},
   "source": [
    "На подойдут столбцы, которые показывают концентрацию метеллов после флотации - `rougher.output.concentrate`, после первичной очистки - `primary_cleaner.output.concentrate` и после вторичной очистки - `final.output.concentrate`. Для каждого метала это свои столбцы. Строим график. Также посмотрим на исходное сырье, содержащие каждый метал - `rougher.input.feed`."
   ]
  },
  {
   "cell_type": "code",
   "execution_count": 39,
   "metadata": {
    "scrolled": true
   },
   "outputs": [
    {
     "data": {
      "image/png": "[encoded data removed]",
      "text/plain": [
       "<Figure size 773.125x360 with 1 Axes>"
      ]
     },
     "metadata": {
      "needs_background": "light"
     },
     "output_type": "display_data"
    },
    {
     "data": {
      "image/png": "[encoded data removed]",
      "text/plain": [
       "<Figure size 773.125x360 with 1 Axes>"
      ]
     },
     "metadata": {
      "needs_background": "light"
     },
     "output_type": "display_data"
    },
    {
     "data": {
      "image/png": "[encoded data removed]",
      "text/plain": [
       "<Figure size 773.125x360 with 1 Axes>"
      ]
     },
     "metadata": {
      "needs_background": "light"
     },
     "output_type": "display_data"
    }
   ],
   "source": [
    "sns.displot(data=[gold_recovery_full['rougher.input.feed_ag'], \\\n",
    "                  gold_recovery_full['rougher.output.concentrate_ag'], \\\n",
    "                  gold_recovery_full['primary_cleaner.output.concentrate_ag'], \\\n",
    "                  gold_recovery_full['final.output.concentrate_ag']], \\\n",
    "            kind='kde', aspect=1.5)\n",
    "sns.displot(data=[gold_recovery_full['rougher.input.feed_pb'], \\\n",
    "                  gold_recovery_full['rougher.output.concentrate_pb'], \\\n",
    "                  gold_recovery_full['primary_cleaner.output.concentrate_pb'], \\\n",
    "                  gold_recovery_full['final.output.concentrate_pb']], \\\n",
    "            kind='kde', aspect=1.5)\n",
    "sns.displot(data=[gold_recovery_full['rougher.input.feed_au'], \\\n",
    "                  gold_recovery_full['rougher.output.concentrate_au'], \\\n",
    "                  gold_recovery_full['primary_cleaner.output.concentrate_au'], \\\n",
    "                  gold_recovery_full['final.output.concentrate_au']], \\\n",
    "            kind='kde', aspect=1.5)\n",
    "plt.show()"
   ]
  },
  {
   "cell_type": "markdown",
   "metadata": {},
   "source": [
    "В трех металах картина очень разная. В серебре как ни странно концентрация уменьшается к финалу, хотя после первичной очистики она самая большая, при этом больше всего серебра именно в финале. У свинца концентрация в финале сильно больше чем у серебра, однако чуть меньше чем после первичной очистики, зато самого метала больше. Меньше всего концентрация в исходном сырье. Концентрация золота растет по ходу обработок, меньше всего в исходном сырье, увеличивается после флотации, далее первичная обработка и финальная концентрация самая большая."
   ]
  },
  {
   "cell_type": "markdown",
   "metadata": {},
   "source": [
    "###  Сравните распределения размеров гранул сырья на обучающей и тестовой выборках. \n",
    "\n",
    "Построим гистограммы для обучающей - красная, и тестовой - синяя, выборок по размерам гранул сырья - `rougher.input.feed_size`."
   ]
  },
  {
   "cell_type": "code",
   "execution_count": 40,
   "metadata": {
    "scrolled": false
   },
   "outputs": [
    {
     "data": {
      "image/png": "[encoded data removed]",
      "text/plain": [
       "<Figure size 936x504 with 1 Axes>"
      ]
     },
     "metadata": {
      "needs_background": "light"
     },
     "output_type": "display_data"
    }
   ],
   "source": [
    "plt.figure(figsize=(13,7))\n",
    "sns.kdeplot(gold_recovery_train_1['rougher.input.feed_size'], color='red')\n",
    "sns.kdeplot(gold_recovery_test['rougher.input.feed_size'])\n",
    "plt.show()"
   ]
  },
  {
   "cell_type": "markdown",
   "metadata": {},
   "source": [
    "Можно заметить что распределения очень похожи. Доля данного столбеца в тестовой выборке чуть больше чем тренеровочной, однако сам тестовый датасет меньше тренеровочного. Можно сказать, что обе выборки имеют почти одинаковое расрпделение с длинным левым хвостом."
   ]
  },
  {
   "cell_type": "markdown",
   "metadata": {},
   "source": [
    "### Исследуйте суммарную концентрацию всех веществ на разных стадиях: в сырье, в черновом и финальном концентратах. "
   ]
  },
  {
   "cell_type": "code",
   "execution_count": 41,
   "metadata": {},
   "outputs": [],
   "source": [
    "# сумма концентрации металлов после флотации\n",
    "sum_concentrate_rougher = sum(gold_recovery_full['rougher.output.concentrate_ag'] + \\\n",
    "                          gold_recovery_full['rougher.output.concentrate_pb'] + \\\n",
    "                          gold_recovery_full['rougher.output.concentrate_sol'] + \\\n",
    "                          gold_recovery_full['rougher.output.concentrate_au'])\n",
    "\n",
    "# сумма концентрации металлов после первичной обработки\n",
    "sum_concentrate_primary = sum(gold_recovery_full['primary_cleaner.output.concentrate_ag'] + \\\n",
    "                          gold_recovery_full['primary_cleaner.output.concentrate_pb'] + \\\n",
    "                          gold_recovery_full['primary_cleaner.output.concentrate_sol'] + \\\n",
    "                          gold_recovery_full['primary_cleaner.output.concentrate_au'])\n",
    "\n",
    "# сумма концентрации металлов после вторичной обработки\n",
    "sum_concentrate_final = sum(gold_recovery_full['final.output.concentrate_ag'] + \\\n",
    "                        gold_recovery_full['final.output.concentrate_pb'] + \\\n",
    "                        gold_recovery_full['final.output.concentrate_sol'] + \\\n",
    "                        gold_recovery_full['final.output.concentrate_au'])\n",
    "\n",
    "# сумма концентрации металлов исходного сырья\n",
    "sum_concentrate_input = sum(gold_recovery_full['rougher.input.feed_ag'] + \\\n",
    "                    gold_recovery_full['rougher.input.feed_pb'] + \\\n",
    "                    gold_recovery_full['rougher.input.feed_sol'] + \\\n",
    "                    gold_recovery_full['rougher.input.feed_au'])"
   ]
  },
  {
   "cell_type": "code",
   "execution_count": 42,
   "metadata": {},
   "outputs": [
    {
     "data": {
      "image/png": "[encoded data removed]",
      "text/plain": [
       "<Figure size 432x288 with 1 Axes>"
      ]
     },
     "metadata": {
      "needs_background": "light"
     },
     "output_type": "display_data"
    }
   ],
   "source": [
    "sns.barplot(x=['Флотация', 'Черновой', 'Финальный', 'Исходный'], \\\n",
    "            y=[sum_concentrate_rougher, sum_concentrate_primary, \\\n",
    "               sum_concentrate_final, sum_concentrate_input])\n",
    "plt.ylabel('Суммарная концентрация веществ')\n",
    "plt.show()"
   ]
  },
  {
   "cell_type": "markdown",
   "metadata": {},
   "source": [
    "Сумарная концентрация металлов после флотации и в финальном концентрате почти одинаковы, а вот в черновом и исходном становится заметно меньше. \n",
    "\n",
    "Так же построим гистограмы распределения сумарных концентраций на каждом этапе."
   ]
  },
  {
   "cell_type": "code",
   "execution_count": 43,
   "metadata": {},
   "outputs": [],
   "source": [
    "# концентрация металлов после флотации\n",
    "concentrate_rougher = gold_recovery_full['rougher.output.concentrate_ag'] + \\\n",
    "                      gold_recovery_full['rougher.output.concentrate_pb'] + \\\n",
    "                      gold_recovery_full['rougher.output.concentrate_sol'] + \\\n",
    "                      gold_recovery_full['rougher.output.concentrate_au']\n",
    "# концентрация металлов после первичной обработки\n",
    "concentrate_primary = gold_recovery_full['primary_cleaner.output.concentrate_ag'] + \\\n",
    "                      gold_recovery_full['primary_cleaner.output.concentrate_pb'] + \\\n",
    "                      gold_recovery_full['primary_cleaner.output.concentrate_sol'] + \\\n",
    "                      gold_recovery_full['primary_cleaner.output.concentrate_au']\n",
    "# концентрация металлов после вторичной обработки\n",
    "concentrate_final = gold_recovery_full['final.output.concentrate_ag'] + \\\n",
    "                    gold_recovery_full['final.output.concentrate_pb'] + \\\n",
    "                    gold_recovery_full['final.output.concentrate_sol'] + \\\n",
    "                    gold_recovery_full['final.output.concentrate_au']\n",
    "\n",
    "# концентрация металлов исходного сырья\n",
    "concentrate_input = gold_recovery_full['rougher.input.feed_ag'] + \\\n",
    "                    gold_recovery_full['rougher.input.feed_pb'] + \\\n",
    "                    gold_recovery_full['rougher.input.feed_sol'] + \\\n",
    "                    gold_recovery_full['rougher.input.feed_au']"
   ]
  },
  {
   "cell_type": "code",
   "execution_count": 44,
   "metadata": {},
   "outputs": [
    {
     "data": {
      "image/png": "[encoded data removed]",
      "text/plain": [
       "<Figure size 432x288 with 1 Axes>"
      ]
     },
     "metadata": {
      "needs_background": "light"
     },
     "output_type": "display_data"
    },
    {
     "data": {
      "image/png": "[encoded data removed]",
      "text/plain": [
       "<Figure size 432x288 with 1 Axes>"
      ]
     },
     "metadata": {
      "needs_background": "light"
     },
     "output_type": "display_data"
    },
    {
     "data": {
      "image/png": "[encoded data removed]",
      "text/plain": [
       "<Figure size 432x288 with 1 Axes>"
      ]
     },
     "metadata": {
      "needs_background": "light"
     },
     "output_type": "display_data"
    },
    {
     "data": {
      "image/png": "[encoded data removed]",
      "text/plain": [
       "<Figure size 432x288 with 1 Axes>"
      ]
     },
     "metadata": {
      "needs_background": "light"
     },
     "output_type": "display_data"
    }
   ],
   "source": [
    "sns.histplot(concentrate_rougher, bins=30)\n",
    "plt.title('Сумарная концентрация после флотации')\n",
    "plt.show()\n",
    "sns.histplot(concentrate_primary, bins=30)\n",
    "plt.title('Сумарная концентрация после первичной обработки')\n",
    "plt.show()\n",
    "sns.histplot(concentrate_final, bins=30)\n",
    "plt.title('Сумарная концентрация после вторичной обработки')\n",
    "plt.show()\n",
    "sns.histplot(concentrate_input, bins=30)\n",
    "plt.title('Сумарная концентрация маталлов исходного сырья')\n",
    "plt.show()"
   ]
  },
  {
   "cell_type": "markdown",
   "metadata": {},
   "source": [
    "Можно заметить что на двух этапах есть подозрительные нулевые значения, их надо удлаить, так как совсем в сумарной руде маталла не быть не может, на всякий слуай удалим на третьем и в исходном, возможно они есть но их количество очень мало и мы их не можем заметить. Удалим из общего датасета, построим распределния заново и возьмем в тренеровочном датасете только новые значения. Оставим значения больше 0.01, как сделали это на шаге 1.4, так как малая концентрация хоть чего-то быть может даже в исходном."
   ]
  },
  {
   "cell_type": "code",
   "execution_count": 45,
   "metadata": {},
   "outputs": [],
   "source": [
    "# флотация\n",
    "gold_recovery_full = gold_recovery_full.loc[\n",
    "                        gold_recovery_full['rougher.output.concentrate_ag'] > 0.01]\n",
    "gold_recovery_full = gold_recovery_full.loc[\n",
    "                        gold_recovery_full['rougher.output.concentrate_pb'] > 0.01]\n",
    "gold_recovery_full = gold_recovery_full.loc[\n",
    "                        gold_recovery_full['rougher.output.concentrate_sol'] > 0.01]\n",
    "gold_recovery_full = gold_recovery_full.loc[\n",
    "                        gold_recovery_full['rougher.output.concentrate_au'] > 0.01]\n",
    "\n",
    "# первичная очистка\n",
    "gold_recovery_full = gold_recovery_full.loc[\n",
    "                        gold_recovery_full['primary_cleaner.output.concentrate_ag'] > 0.01]\n",
    "gold_recovery_full = gold_recovery_full.loc[\n",
    "                        gold_recovery_full['primary_cleaner.output.concentrate_pb'] > 0.01]\n",
    "gold_recovery_full = gold_recovery_full.loc[\n",
    "                        gold_recovery_full['primary_cleaner.output.concentrate_sol'] > 0.01]\n",
    "gold_recovery_full = gold_recovery_full.loc[\n",
    "                        gold_recovery_full['primary_cleaner.output.concentrate_au'] > 0.01]\n",
    "\n",
    "# вторичная очистка\n",
    "gold_recovery_full = gold_recovery_full.loc[\n",
    "                        gold_recovery_full['final.output.concentrate_ag'] > 0.01]\n",
    "gold_recovery_full = gold_recovery_full.loc[\n",
    "                        gold_recovery_full['final.output.concentrate_pb'] > 0.01]\n",
    "gold_recovery_full = gold_recovery_full.loc[\n",
    "                        gold_recovery_full['final.output.concentrate_sol'] > 0.01]\n",
    "gold_recovery_full = gold_recovery_full.loc[\n",
    "                        gold_recovery_full['final.output.concentrate_au'] > 0.01]\n",
    "\n",
    "# исходное сырье\n",
    "gold_recovery_full = gold_recovery_full.loc[\n",
    "                        gold_recovery_full['rougher.input.feed_ag'] > 0.01]\n",
    "gold_recovery_full = gold_recovery_full.loc[\n",
    "                        gold_recovery_full['rougher.input.feed_pb'] > 0.01]\n",
    "gold_recovery_full = gold_recovery_full.loc[\n",
    "                        gold_recovery_full['rougher.input.feed_sol'] > 0.01]\n",
    "gold_recovery_full = gold_recovery_full.loc[\n",
    "                        gold_recovery_full['rougher.input.feed_au'] > 0.01]"
   ]
  },
  {
   "cell_type": "code",
   "execution_count": 46,
   "metadata": {},
   "outputs": [],
   "source": [
    "# концентрация металлов после флотации\n",
    "concentrate_rougher = gold_recovery_full['rougher.output.concentrate_ag'] + \\\n",
    "                      gold_recovery_full['rougher.output.concentrate_pb'] + \\\n",
    "                      gold_recovery_full['rougher.output.concentrate_sol'] + \\\n",
    "                      gold_recovery_full['rougher.output.concentrate_au']\n",
    "# концентрация металлов после первичной обработки\n",
    "concentrate_primary = gold_recovery_full['primary_cleaner.output.concentrate_ag'] + \\\n",
    "                      gold_recovery_full['primary_cleaner.output.concentrate_pb'] + \\\n",
    "                      gold_recovery_full['primary_cleaner.output.concentrate_sol'] + \\\n",
    "                      gold_recovery_full['primary_cleaner.output.concentrate_au']\n",
    "# концентрация металлов после вторичной обработки\n",
    "concentrate_final = gold_recovery_full['final.output.concentrate_ag'] + \\\n",
    "                    gold_recovery_full['final.output.concentrate_pb'] + \\\n",
    "                    gold_recovery_full['final.output.concentrate_sol'] + \\\n",
    "                    gold_recovery_full['final.output.concentrate_au']\n",
    "# концентрация металлов исходного сырья\n",
    "concentrate_input = gold_recovery_full['rougher.input.feed_ag'] + \\\n",
    "                    gold_recovery_full['rougher.input.feed_pb'] + \\\n",
    "                    gold_recovery_full['rougher.input.feed_sol'] + \\\n",
    "                    gold_recovery_full['rougher.input.feed_au']"
   ]
  },
  {
   "cell_type": "code",
   "execution_count": 47,
   "metadata": {},
   "outputs": [
    {
     "data": {
      "image/png": "[encoded data removed]",
      "text/plain": [
       "<Figure size 432x288 with 1 Axes>"
      ]
     },
     "metadata": {
      "needs_background": "light"
     },
     "output_type": "display_data"
    },
    {
     "data": {
      "image/png": "[encoded data removed]",
      "text/plain": [
       "<Figure size 432x288 with 1 Axes>"
      ]
     },
     "metadata": {
      "needs_background": "light"
     },
     "output_type": "display_data"
    },
    {
     "data": {
      "image/png": "[encoded data removed]",
      "text/plain": [
       "<Figure size 432x288 with 1 Axes>"
      ]
     },
     "metadata": {
      "needs_background": "light"
     },
     "output_type": "display_data"
    },
    {
     "data": {
      "image/png": "[encoded data removed]",
      "text/plain": [
       "<Figure size 432x288 with 1 Axes>"
      ]
     },
     "metadata": {
      "needs_background": "light"
     },
     "output_type": "display_data"
    }
   ],
   "source": [
    "sns.histplot(concentrate_rougher, bins=30)\n",
    "plt.title('Сумарная концентрация после флотации')\n",
    "plt.show()\n",
    "sns.histplot(concentrate_primary, bins=30)\n",
    "plt.title('Сумарная концентрация после первичной обработки')\n",
    "plt.show()\n",
    "sns.histplot(concentrate_final, bins=30)\n",
    "plt.title('Сумарная концентрация после вторичной обработки')\n",
    "plt.show()\n",
    "sns.histplot(concentrate_input, bins=30)\n",
    "plt.title('Сумарная концентрация маталлов исходного сырья')\n",
    "plt.show()"
   ]
  },
  {
   "cell_type": "markdown",
   "metadata": {},
   "source": [
    "Теперь исправим это в тренеровочном датасете."
   ]
  },
  {
   "cell_type": "code",
   "execution_count": 48,
   "metadata": {},
   "outputs": [],
   "source": [
    "gold_recovery_full.update(gold_recovery_train_1)"
   ]
  },
  {
   "cell_type": "markdown",
   "metadata": {},
   "source": [
    "## Модель"
   ]
  },
  {
   "cell_type": "markdown",
   "metadata": {},
   "source": [
    "### Напишите функцию для вычисления итоговой sMAPE\n"
   ]
  },
  {
   "cell_type": "code",
   "execution_count": 49,
   "metadata": {},
   "outputs": [],
   "source": [
    "# функция для расчета sMAPE\n",
    "def smape(pred, real):\n",
    "    smape = (100 / len(real)) * np.sum(2 * (np.abs(real - pred)) / (np.abs(real) + np.abs(pred)))\n",
    "    return smape\n",
    "\n",
    "# функция для расчета итогового sMAPE\n",
    "\n",
    "def smape_final(smape_r, smape_f):\n",
    "    return 0.25 * smape_r + 0.75 * smape_f"
   ]
  },
  {
   "cell_type": "markdown",
   "metadata": {},
   "source": [
    "###  Обучите разные модели и оцените их качество кросс-валидацией\n",
    "\n",
    "Обучим несколько моделей для регресии. Для начала еще раз посмотрим на данные тренеровочного и тестового датасетов. Проверим нет ли категриальных столбцов, также скорее всего необходимо скейлить данные, чтобы модели считали все признаки равными по важности.\n",
    "\n",
    "Однако сначала разделим на признаки и целевые признаки наши датасеты. У нас два целевых признака, поэтому будем строить модели для каждого по отдельности."
   ]
  },
  {
   "cell_type": "code",
   "execution_count": 50,
   "metadata": {},
   "outputs": [],
   "source": [
    "# тренеровочные датасет\n",
    "features_train = gold_recovery_train_1.drop(['rougher.output.recovery', 'final.output.recovery'], \\\n",
    "                                        axis=1)\n",
    "target_train_rougher = gold_recovery_train_1['rougher.output.recovery']\n",
    "target_train_final = gold_recovery_train_1['final.output.recovery']\n",
    "\n",
    "# тестовые датасет\n",
    "features_test = gold_recovery_test.drop(['rougher.output.recovery', 'final.output.recovery'], \\\n",
    "                                        axis=1)\n",
    "target_test_rougher = gold_recovery_test['rougher.output.recovery']\n",
    "target_test_final = gold_recovery_test['final.output.recovery']"
   ]
  },
  {
   "cell_type": "markdown",
   "metadata": {},
   "source": [
    "Посмотрим еще раз на информацию о столбцах в признаках."
   ]
  },
  {
   "cell_type": "code",
   "execution_count": 51,
   "metadata": {
    "scrolled": true
   },
   "outputs": [
    {
     "name": "stdout",
     "output_type": "stream",
     "text": [
      "<class 'pandas.core.frame.DataFrame'>\n",
      "RangeIndex: 14149 entries, 0 to 14148\n",
      "Data columns (total 53 columns):\n",
      " #   Column                                      Non-Null Count  Dtype  \n",
      "---  ------                                      --------------  -----  \n",
      " 0   date                                        14149 non-null  object \n",
      " 1   primary_cleaner.input.sulfate               14149 non-null  float64\n",
      " 2   primary_cleaner.input.depressant            14149 non-null  float64\n",
      " 3   primary_cleaner.input.feed_size             14149 non-null  float64\n",
      " 4   primary_cleaner.input.xanthate              14149 non-null  float64\n",
      " 5   primary_cleaner.state.floatbank8_a_air      14149 non-null  float64\n",
      " 6   primary_cleaner.state.floatbank8_a_level    14149 non-null  float64\n",
      " 7   primary_cleaner.state.floatbank8_b_air      14149 non-null  float64\n",
      " 8   primary_cleaner.state.floatbank8_b_level    14149 non-null  float64\n",
      " 9   primary_cleaner.state.floatbank8_c_air      14149 non-null  float64\n",
      " 10  primary_cleaner.state.floatbank8_c_level    14149 non-null  float64\n",
      " 11  primary_cleaner.state.floatbank8_d_air      14149 non-null  float64\n",
      " 12  primary_cleaner.state.floatbank8_d_level    14149 non-null  float64\n",
      " 13  rougher.input.feed_ag                       14149 non-null  float64\n",
      " 14  rougher.input.feed_pb                       14149 non-null  float64\n",
      " 15  rougher.input.feed_rate                     14149 non-null  float64\n",
      " 16  rougher.input.feed_size                     14149 non-null  float64\n",
      " 17  rougher.input.feed_sol                      14149 non-null  float64\n",
      " 18  rougher.input.feed_au                       14149 non-null  float64\n",
      " 19  rougher.input.floatbank10_sulfate           14149 non-null  float64\n",
      " 20  rougher.input.floatbank10_xanthate          14149 non-null  float64\n",
      " 21  rougher.input.floatbank11_sulfate           14149 non-null  float64\n",
      " 22  rougher.input.floatbank11_xanthate          14149 non-null  float64\n",
      " 23  rougher.state.floatbank10_a_air             14149 non-null  float64\n",
      " 24  rougher.state.floatbank10_a_level           14149 non-null  float64\n",
      " 25  rougher.state.floatbank10_b_air             14149 non-null  float64\n",
      " 26  rougher.state.floatbank10_b_level           14149 non-null  float64\n",
      " 27  rougher.state.floatbank10_c_air             14149 non-null  float64\n",
      " 28  rougher.state.floatbank10_c_level           14149 non-null  float64\n",
      " 29  rougher.state.floatbank10_d_air             14149 non-null  float64\n",
      " 30  rougher.state.floatbank10_d_level           14149 non-null  float64\n",
      " 31  rougher.state.floatbank10_e_air             14149 non-null  float64\n",
      " 32  rougher.state.floatbank10_e_level           14149 non-null  float64\n",
      " 33  rougher.state.floatbank10_f_air             14149 non-null  float64\n",
      " 34  rougher.state.floatbank10_f_level           14149 non-null  float64\n",
      " 35  secondary_cleaner.state.floatbank2_a_air    14149 non-null  float64\n",
      " 36  secondary_cleaner.state.floatbank2_a_level  14149 non-null  float64\n",
      " 37  secondary_cleaner.state.floatbank2_b_air    14149 non-null  float64\n",
      " 38  secondary_cleaner.state.floatbank2_b_level  14149 non-null  float64\n",
      " 39  secondary_cleaner.state.floatbank3_a_air    14149 non-null  float64\n",
      " 40  secondary_cleaner.state.floatbank3_a_level  14149 non-null  float64\n",
      " 41  secondary_cleaner.state.floatbank3_b_air    14149 non-null  float64\n",
      " 42  secondary_cleaner.state.floatbank3_b_level  14149 non-null  float64\n",
      " 43  secondary_cleaner.state.floatbank4_a_air    14149 non-null  float64\n",
      " 44  secondary_cleaner.state.floatbank4_a_level  14149 non-null  float64\n",
      " 45  secondary_cleaner.state.floatbank4_b_air    14149 non-null  float64\n",
      " 46  secondary_cleaner.state.floatbank4_b_level  14149 non-null  float64\n",
      " 47  secondary_cleaner.state.floatbank5_a_air    14149 non-null  float64\n",
      " 48  secondary_cleaner.state.floatbank5_a_level  14149 non-null  float64\n",
      " 49  secondary_cleaner.state.floatbank5_b_air    14149 non-null  float64\n",
      " 50  secondary_cleaner.state.floatbank5_b_level  14149 non-null  float64\n",
      " 51  secondary_cleaner.state.floatbank6_a_air    14149 non-null  float64\n",
      " 52  secondary_cleaner.state.floatbank6_a_level  14149 non-null  float64\n",
      "dtypes: float64(52), object(1)\n",
      "memory usage: 5.7+ MB\n"
     ]
    }
   ],
   "source": [
    "features_train.info()"
   ]
  },
  {
   "cell_type": "code",
   "execution_count": 52,
   "metadata": {},
   "outputs": [
    {
     "name": "stdout",
     "output_type": "stream",
     "text": [
      "<class 'pandas.core.frame.DataFrame'>\n",
      "Int64Index: 5290 entries, 0 to 5289\n",
      "Data columns (total 53 columns):\n",
      " #   Column                                      Non-Null Count  Dtype  \n",
      "---  ------                                      --------------  -----  \n",
      " 0   date                                        5290 non-null   object \n",
      " 1   primary_cleaner.input.sulfate               5290 non-null   float64\n",
      " 2   primary_cleaner.input.depressant            5290 non-null   float64\n",
      " 3   primary_cleaner.input.feed_size             5290 non-null   float64\n",
      " 4   primary_cleaner.input.xanthate              5290 non-null   float64\n",
      " 5   primary_cleaner.state.floatbank8_a_air      5290 non-null   float64\n",
      " 6   primary_cleaner.state.floatbank8_a_level    5290 non-null   float64\n",
      " 7   primary_cleaner.state.floatbank8_b_air      5290 non-null   float64\n",
      " 8   primary_cleaner.state.floatbank8_b_level    5290 non-null   float64\n",
      " 9   primary_cleaner.state.floatbank8_c_air      5290 non-null   float64\n",
      " 10  primary_cleaner.state.floatbank8_c_level    5290 non-null   float64\n",
      " 11  primary_cleaner.state.floatbank8_d_air      5290 non-null   float64\n",
      " 12  primary_cleaner.state.floatbank8_d_level    5290 non-null   float64\n",
      " 13  rougher.input.feed_ag                       5290 non-null   float64\n",
      " 14  rougher.input.feed_pb                       5290 non-null   float64\n",
      " 15  rougher.input.feed_rate                     5290 non-null   float64\n",
      " 16  rougher.input.feed_size                     5290 non-null   float64\n",
      " 17  rougher.input.feed_sol                      5290 non-null   float64\n",
      " 18  rougher.input.feed_au                       5290 non-null   float64\n",
      " 19  rougher.input.floatbank10_sulfate           5290 non-null   float64\n",
      " 20  rougher.input.floatbank10_xanthate          5290 non-null   float64\n",
      " 21  rougher.input.floatbank11_sulfate           5290 non-null   float64\n",
      " 22  rougher.input.floatbank11_xanthate          5290 non-null   float64\n",
      " 23  rougher.state.floatbank10_a_air             5290 non-null   float64\n",
      " 24  rougher.state.floatbank10_a_level           5290 non-null   float64\n",
      " 25  rougher.state.floatbank10_b_air             5290 non-null   float64\n",
      " 26  rougher.state.floatbank10_b_level           5290 non-null   float64\n",
      " 27  rougher.state.floatbank10_c_air             5290 non-null   float64\n",
      " 28  rougher.state.floatbank10_c_level           5290 non-null   float64\n",
      " 29  rougher.state.floatbank10_d_air             5290 non-null   float64\n",
      " 30  rougher.state.floatbank10_d_level           5290 non-null   float64\n",
      " 31  rougher.state.floatbank10_e_air             5290 non-null   float64\n",
      " 32  rougher.state.floatbank10_e_level           5290 non-null   float64\n",
      " 33  rougher.state.floatbank10_f_air             5290 non-null   float64\n",
      " 34  rougher.state.floatbank10_f_level           5290 non-null   float64\n",
      " 35  secondary_cleaner.state.floatbank2_a_air    5290 non-null   float64\n",
      " 36  secondary_cleaner.state.floatbank2_a_level  5290 non-null   float64\n",
      " 37  secondary_cleaner.state.floatbank2_b_air    5290 non-null   float64\n",
      " 38  secondary_cleaner.state.floatbank2_b_level  5290 non-null   float64\n",
      " 39  secondary_cleaner.state.floatbank3_a_air    5290 non-null   float64\n",
      " 40  secondary_cleaner.state.floatbank3_a_level  5290 non-null   float64\n",
      " 41  secondary_cleaner.state.floatbank3_b_air    5290 non-null   float64\n",
      " 42  secondary_cleaner.state.floatbank3_b_level  5290 non-null   float64\n",
      " 43  secondary_cleaner.state.floatbank4_a_air    5290 non-null   float64\n",
      " 44  secondary_cleaner.state.floatbank4_a_level  5290 non-null   float64\n",
      " 45  secondary_cleaner.state.floatbank4_b_air    5290 non-null   float64\n",
      " 46  secondary_cleaner.state.floatbank4_b_level  5290 non-null   float64\n",
      " 47  secondary_cleaner.state.floatbank5_a_air    5290 non-null   float64\n",
      " 48  secondary_cleaner.state.floatbank5_a_level  5290 non-null   float64\n",
      " 49  secondary_cleaner.state.floatbank5_b_air    5290 non-null   float64\n",
      " 50  secondary_cleaner.state.floatbank5_b_level  5290 non-null   float64\n",
      " 51  secondary_cleaner.state.floatbank6_a_air    5290 non-null   float64\n",
      " 52  secondary_cleaner.state.floatbank6_a_level  5290 non-null   float64\n",
      "dtypes: float64(52), object(1)\n",
      "memory usage: 2.2+ MB\n"
     ]
    }
   ],
   "source": [
    "features_test.info()"
   ]
  },
  {
   "cell_type": "markdown",
   "metadata": {},
   "source": [
    "У нас есть столбец с датой и он имеет текстовый тип. Однако скорее всего этот столбец никак не повлияет на обучение, так как его значение каждый раз разное и никогда таким же не будет, поэтому удалим его. Все остальные столбцы числовые."
   ]
  },
  {
   "cell_type": "code",
   "execution_count": 53,
   "metadata": {},
   "outputs": [],
   "source": [
    "features_train = features_train.drop('date', axis=1)\n",
    "features_test = features_test.drop('date', axis=1)"
   ]
  },
  {
   "cell_type": "markdown",
   "metadata": {},
   "source": [
    "Теперь применим структуру StandardScaler(). Чтобы сохранить вид датасета после стандартизации возьмем наш список столбцов по тестовому датасету, который создали на шаге 1.4, удалим три пропавших из датасетов столбца и передадим его как список столбцов для скейла."
   ]
  },
  {
   "cell_type": "code",
   "execution_count": 54,
   "metadata": {},
   "outputs": [],
   "source": [
    "# удаляем пропавшие столбцы\n",
    "\n",
    "lst.remove('rougher.output.recovery')\n",
    "lst.remove('date')\n",
    "lst.remove('final.output.recovery')"
   ]
  },
  {
   "cell_type": "code",
   "execution_count": 55,
   "metadata": {},
   "outputs": [],
   "source": [
    "scaler = StandardScaler() # создаем объект структуры для стандартизации данных\n",
    "scaler.fit(features_train[lst]) # настроем объект на обучающих данных\n",
    "features_train[lst] = scaler.transform(features_train[lst]) # преобразуем обущающую выборку\n",
    "features_test[lst] = scaler.transform(features_test[lst]) # преобразуем тестовую выборку"
   ]
  },
  {
   "cell_type": "markdown",
   "metadata": {},
   "source": [
    "Теперь будем обучать модели и смотреть на метрику sMAPE."
   ]
  },
  {
   "cell_type": "code",
   "execution_count": 56,
   "metadata": {},
   "outputs": [
    {
     "data": {
      "text/plain": [
       "'# LinearRegression rougher\\n\\nmodel_rline = LinearRegression() # создаем модель\\nmodel_rline.fit(features_train, target_train_rougher) # обучаем на тренеровочной выборке\\ntrain_pred_rline = model_rline.predict(features_train) # предсказываем на тренеровочной выборке\\n\\nsm_r = smape(train_pred_rline, target_train_rougher)\\nsm_r'"
      ]
     },
     "execution_count": 56,
     "metadata": {},
     "output_type": "execute_result"
    }
   ],
   "source": [
    "'''# LinearRegression rougher\n",
    "\n",
    "model_rline = LinearRegression() # создаем модель\n",
    "model_rline.fit(features_train, target_train_rougher) # обучаем на тренеровочной выборке\n",
    "train_pred_rline = model_rline.predict(features_train) # предсказываем на тренеровочной выборке\n",
    "\n",
    "sm_r = smape(train_pred_rline, target_train_rougher)\n",
    "sm_r'''"
   ]
  },
  {
   "cell_type": "markdown",
   "metadata": {},
   "source": [
    "Используем cross_val_score для обучения линейной регрессии и GridSearchCV для дерева решений и случайного леса. Найдем оптимальные гиперпараметры для моделей, в качестве метрики будем использовать sMAPE. "
   ]
  },
  {
   "cell_type": "code",
   "execution_count": 65,
   "metadata": {},
   "outputs": [],
   "source": [
    "# введем общие параметры для 4х моделей\n",
    "\n",
    "verbose = 1\n",
    "scoring = make_scorer(smape, greater_is_better=False)\n",
    "return_train_score = True\n",
    "cv = 4"
   ]
  },
  {
   "cell_type": "code",
   "execution_count": 66,
   "metadata": {},
   "outputs": [
    {
     "name": "stderr",
     "output_type": "stream",
     "text": [
      "[Parallel(n_jobs=1)]: Using backend SequentialBackend with 1 concurrent workers.\n"
     ]
    },
    {
     "name": "stdout",
     "output_type": "stream",
     "text": [
      "\n"
     ]
    },
    {
     "name": "stderr",
     "output_type": "stream",
     "text": [
      "[Parallel(n_jobs=1)]: Done   4 out of   4 | elapsed:    2.1s finished\n"
     ]
    },
    {
     "data": {
      "text/plain": [
       "13.199644872276595"
      ]
     },
     "execution_count": 66,
     "metadata": {},
     "output_type": "execute_result"
    }
   ],
   "source": [
    "# LinearRegression rougher CV\n",
    "\n",
    "model_rline = LinearRegression() # создаем модель\n",
    "\n",
    "model_rline_cv = cross_val_score(estimator=model_rline, cv=cv, scoring=scoring, \\\n",
    "                                 X=features_train, y=target_train_rougher, verbose=verbose)\n",
    "\n",
    "print()\n",
    "-(model_rline_cv.mean())"
   ]
  },
  {
   "cell_type": "code",
   "execution_count": 67,
   "metadata": {},
   "outputs": [
    {
     "name": "stderr",
     "output_type": "stream",
     "text": [
      "[Parallel(n_jobs=1)]: Using backend SequentialBackend with 1 concurrent workers.\n"
     ]
    },
    {
     "name": "stdout",
     "output_type": "stream",
     "text": [
      "\n"
     ]
    },
    {
     "name": "stderr",
     "output_type": "stream",
     "text": [
      "[Parallel(n_jobs=1)]: Done   4 out of   4 | elapsed:    2.7s finished\n"
     ]
    },
    {
     "data": {
      "text/plain": [
       "12.361612684362349"
      ]
     },
     "execution_count": 67,
     "metadata": {},
     "output_type": "execute_result"
    }
   ],
   "source": [
    "# LinearRegression final CV\n",
    "\n",
    "model_fline = LinearRegression() # создаем модель\n",
    "\n",
    "model_fline_cv = cross_val_score(estimator=model_rline, cv=cv, scoring=scoring, \\\n",
    "                                X=features_train, y=target_train_final, verbose=verbose)\n",
    "\n",
    "print()\n",
    "-(model_fline_cv.mean())"
   ]
  },
  {
   "cell_type": "code",
   "execution_count": 68,
   "metadata": {},
   "outputs": [
    {
     "name": "stdout",
     "output_type": "stream",
     "text": [
      "Итоговая sMAPE для линейной регрессии: -12.57112073134091\n"
     ]
    }
   ],
   "source": [
    "print(f'Итоговая sMAPE для линейной регрессии: {smape_final(model_rline_cv.mean(), model_fline_cv.mean())}')"
   ]
  },
  {
   "cell_type": "code",
   "execution_count": 69,
   "metadata": {},
   "outputs": [],
   "source": [
    "# перебор гиперпараметров для решающего дерева\n",
    "\n",
    "tree_param=dict()\n",
    "tree_param['max_depth'] = [1, 10, 15, 25, 35]\n",
    "tree_param['min_samples_split'] = [2, 3]\n",
    "tree_param['min_samples_leaf'] = [1, 2, 3]"
   ]
  },
  {
   "cell_type": "code",
   "execution_count": 70,
   "metadata": {},
   "outputs": [
    {
     "name": "stdout",
     "output_type": "stream",
     "text": [
      "Fitting 4 folds for each of 30 candidates, totalling 120 fits\n",
      "\n",
      "DecisionTreeRegressor(max_depth=1, random_state=12345)\n"
     ]
    },
    {
     "data": {
      "text/plain": [
       "12.772113790616071"
      ]
     },
     "execution_count": 70,
     "metadata": {},
     "output_type": "execute_result"
    }
   ],
   "source": [
    "# DecisionTreeRegressor rougher CV\n",
    "\n",
    "model_rtree_cv = DecisionTreeRegressor(random_state=12345)\n",
    "\n",
    "rtree_model_cv = GridSearchCV(estimator = model_rtree_cv,                         \n",
    "                        param_grid = tree_param, \n",
    "                        scoring=scoring, \n",
    "                        cv=cv, return_train_score=return_train_score,\n",
    "                        verbose=verbose)            \n",
    "\n",
    "rtree_model_cv.fit(features_train, target_train_rougher)\n",
    "\n",
    "print()\n",
    "print(rtree_model_cv.best_estimator_)\n",
    "-(rtree_model_cv.best_score_)"
   ]
  },
  {
   "cell_type": "code",
   "execution_count": 71,
   "metadata": {},
   "outputs": [
    {
     "name": "stdout",
     "output_type": "stream",
     "text": [
      "Fitting 4 folds for each of 30 candidates, totalling 120 fits\n",
      "\n",
      "DecisionTreeRegressor(max_depth=1, random_state=12345)\n"
     ]
    },
    {
     "data": {
      "text/plain": [
       "11.602159300681087"
      ]
     },
     "execution_count": 71,
     "metadata": {},
     "output_type": "execute_result"
    }
   ],
   "source": [
    "# DecisionTreeRegressor final CV\n",
    "\n",
    "model_ftree_cv = DecisionTreeRegressor(random_state=12345)\n",
    "\n",
    "ftree_model_cv = GridSearchCV(estimator = model_ftree_cv,                         \n",
    "                        param_grid = tree_param, \n",
    "                        scoring=scoring, \n",
    "                        cv=cv, return_train_score=return_train_score,\n",
    "                        verbose=verbose)            \n",
    "\n",
    "ftree_model_cv.fit(features_train, target_train_final)\n",
    "\n",
    "print()\n",
    "print(ftree_model_cv.best_estimator_)\n",
    "-(ftree_model_cv.best_score_)"
   ]
  },
  {
   "cell_type": "code",
   "execution_count": 72,
   "metadata": {},
   "outputs": [
    {
     "name": "stdout",
     "output_type": "stream",
     "text": [
      "Итоговая sMAPE для решающего дерева: 11.894647923164833\n"
     ]
    }
   ],
   "source": [
    "print(f'Итоговая sMAPE для решающего дерева: {smape_final(-(rtree_model_cv.best_score_), -(ftree_model_cv.best_score_))}')"
   ]
  },
  {
   "cell_type": "code",
   "execution_count": 73,
   "metadata": {},
   "outputs": [],
   "source": [
    "# перебор гиперпараметров для случайного леса\n",
    "\n",
    "forest_param=dict()\n",
    "forest_param['n_estimators'] = [10, 45, 60, 65]\n",
    "forest_param['max_depth'] = [1, 10, 15, 25]\n",
    "forest_param['min_samples_split'] = [2, 3]\n",
    "forest_param['min_samples_leaf'] = [1, 2, 3]"
   ]
  },
  {
   "cell_type": "code",
   "execution_count": 74,
   "metadata": {},
   "outputs": [
    {
     "name": "stdout",
     "output_type": "stream",
     "text": [
      "Fitting 4 folds for each of 96 candidates, totalling 384 fits\n",
      "\n",
      "RandomForestRegressor(max_depth=1, n_estimators=45, random_state=12345)\n"
     ]
    },
    {
     "data": {
      "text/plain": [
       "12.812195369917529"
      ]
     },
     "execution_count": 74,
     "metadata": {},
     "output_type": "execute_result"
    }
   ],
   "source": [
    "# RandomForestRegressor rougher CV\n",
    "\n",
    "model_rforest_cv = RandomForestRegressor(random_state=12345)\n",
    "\n",
    "rforest_model_cv = GridSearchCV(estimator = model_rforest_cv,                         \n",
    "                        param_grid = forest_param, \n",
    "                        scoring=scoring, \n",
    "                        cv=cv, return_train_score=return_train_score,\n",
    "                        verbose=verbose)            \n",
    "\n",
    "rforest_model_cv.fit(features_train, target_train_rougher)\n",
    "\n",
    "print()\n",
    "print(rforest_model_cv.best_estimator_)\n",
    "-(rforest_model_cv.best_score_)"
   ]
  },
  {
   "cell_type": "code",
   "execution_count": 75,
   "metadata": {},
   "outputs": [
    {
     "name": "stdout",
     "output_type": "stream",
     "text": [
      "Fitting 4 folds for each of 96 candidates, totalling 384 fits\n",
      "\n",
      "RandomForestRegressor(max_depth=1, n_estimators=10, random_state=12345)\n"
     ]
    },
    {
     "data": {
      "text/plain": [
       "11.001254722944076"
      ]
     },
     "execution_count": 75,
     "metadata": {},
     "output_type": "execute_result"
    }
   ],
   "source": [
    "# RandomForestRegressor final CV\n",
    "\n",
    "model_fforest_cv = RandomForestRegressor(random_state=12345)\n",
    "\n",
    "fforest_model_cv = GridSearchCV(estimator = model_fforest_cv,                         \n",
    "                        param_grid = forest_param, \n",
    "                        scoring=scoring, \n",
    "                        cv = cv, return_train_score=return_train_score,\n",
    "                        verbose=verbose)            \n",
    "\n",
    "fforest_model_cv.fit(features_train, target_train_final)\n",
    "\n",
    "print()\n",
    "print(fforest_model_cv.best_estimator_)\n",
    "-(fforest_model_cv.best_score_)"
   ]
  },
  {
   "cell_type": "code",
   "execution_count": 76,
   "metadata": {},
   "outputs": [
    {
     "name": "stdout",
     "output_type": "stream",
     "text": [
      "Итоговая sMAPE для случайного леса: 11.602159300681087\n"
     ]
    }
   ],
   "source": [
    "print(f'Итоговая sMAPE для случайного леса: {smape_final(-(ftree_model_cv.best_score_), -(ftree_model_cv.best_score_))}')"
   ]
  },
  {
   "cell_type": "markdown",
   "metadata": {},
   "source": [
    "По итогу лучшая модель по метрике sMAPE по обоим целвым признакам это модель случайного леса RandomForestRegressor. sMAPE наилучшей модели на тренеровочной выборке для чернового концентрата: 12.812195369917529; глубина наилучшей модели на тренеровочной выборке: 1; количество деревьев: 45. sMAPE наилучшей модели на тренеровочной выборке для финальной концентрата: 11.001254722944076; глубина наилучшей модели на тренеровочной выборке: 1; количество деревьев: 10. Итоговая sMAPE для случайного леса: 11.602159300681087. Это не на много, но меньше, чем для решающего дерева. \\\n",
    "Модели храняться в переменных `rforest_model_cv` и `fforest_model_cv`.\n",
    "\n",
    "Проверим показатели этой моделе на тестовой выборке."
   ]
  },
  {
   "cell_type": "code",
   "execution_count": 84,
   "metadata": {},
   "outputs": [
    {
     "name": "stdout",
     "output_type": "stream",
     "text": [
      "sMAPE на тестовой выборке: 11.085353696035556\n"
     ]
    }
   ],
   "source": [
    "# RandomForestRegressor rougher CV\n",
    "\n",
    "test_pred_rtree = rforest_model_cv.predict(features_test) # предсказываем на тестовой выборке\n",
    "smr = smape(test_pred_rtree, target_test_rougher) # проверка качества модели\n",
    "print(f'sMAPE на тестовой выборке: {smr}')"
   ]
  },
  {
   "cell_type": "code",
   "execution_count": 85,
   "metadata": {},
   "outputs": [
    {
     "name": "stdout",
     "output_type": "stream",
     "text": [
      "sMAPE на тестовой выборке: 9.222744792855224\n"
     ]
    }
   ],
   "source": [
    "# RandomForestRegressor final CV\n",
    "\n",
    "test_pred_ftree = fforest_model_cv.predict(features_test) # предсказываем на тестовой выборке\n",
    "smf = smape(test_pred_ftree, target_test_final) # проверка качества модели\n",
    "print(f'sMAPE на тестовой выборке: {smf}')"
   ]
  },
  {
   "cell_type": "code",
   "execution_count": 86,
   "metadata": {},
   "outputs": [
    {
     "name": "stdout",
     "output_type": "stream",
     "text": [
      "Итоговая sMAPE для тестовой выборки: 9.688397018650306\n"
     ]
    }
   ],
   "source": [
    "print(f'Итоговая sMAPE для тестовой выборки: {smape_final(smr, smf)}')"
   ]
  },
  {
   "cell_type": "markdown",
   "metadata": {},
   "source": [
    "На тестовой выборке результаты даже лучше чем на тренеровочной, что радует. sMAPE это процент ошибки, в целом результаты не такие плохие, у этой метрики границы от 0% до 200%, поэтому  процент ошибки в предсказание равный 9.6% можно принять.\n",
    "\n",
    "Построим дамми модель, которая предсказывает среднее по таргеты, расчитаем ее sMAPE и сравним с показателями нашей модели. "
   ]
  },
  {
   "cell_type": "code",
   "execution_count": 87,
   "metadata": {},
   "outputs": [
    {
     "data": {
      "text/plain": [
       "10.379799283438494"
      ]
     },
     "execution_count": 87,
     "metadata": {},
     "output_type": "execute_result"
    }
   ],
   "source": [
    "#  DummyRegressor rougher\n",
    "\n",
    "model_rdummy = DummyRegressor(strategy='mean')\n",
    "model_rdummy.fit(features_train, target_train_rougher)\n",
    "model_rpred = model_rdummy.predict(features_test)\n",
    "\n",
    "smrd = smape(model_rpred, target_test_rougher)\n",
    "smrd"
   ]
  },
  {
   "cell_type": "code",
   "execution_count": 88,
   "metadata": {},
   "outputs": [
    {
     "data": {
      "text/plain": [
       "10.25957407354855"
      ]
     },
     "execution_count": 88,
     "metadata": {},
     "output_type": "execute_result"
    }
   ],
   "source": [
    "# DummyRegressor final\n",
    "\n",
    "model_rdummy = DummyRegressor(strategy='mean')\n",
    "model_rdummy.fit(features_train, target_train_final)\n",
    "model_rpred = model_rdummy.predict(features_test)\n",
    "\n",
    "smfd = smape(model_rpred, target_test_final)\n",
    "smfd"
   ]
  },
  {
   "cell_type": "code",
   "execution_count": 89,
   "metadata": {},
   "outputs": [
    {
     "name": "stdout",
     "output_type": "stream",
     "text": [
      "Итоговая sMAPE для тестовой выборки: 10.289630376021035\n"
     ]
    }
   ],
   "source": [
    "print(f'Итоговая sMAPE для тестовой выборки: {smape_final(smrd, smfd)}')"
   ]
  },
  {
   "cell_type": "markdown",
   "metadata": {},
   "source": [
    "Наша модель дает показатель sMAPE лучше чем случайная. Случайный лес: 9.7; случайная модель: 10.3."
   ]
  },
  {
   "cell_type": "markdown",
   "metadata": {},
   "source": [
    "Рабочая модель для предсказания коэффициента восстановления золота из золотосодержащей руды с наилучшими метриками была найдена. Для этого сначала познакомились с данными, предоставлеными нам  компанией «Цифра». Данные оказались достаточно объемными и непростыми по содержанию. Золотодобывающая область не была знакома, достаточно много времени заняло понимание процесса очистки руды, а также терминов и содержания датафреймов. Далее было проверено, что эффективность обогащения проведена правильно, проанализированы признаки, недоступные в тестовой выборке и проведена предобработка данных. В ней мы заполнили пропуски и посмотрели интересующие нас столбцы на наличие аномалий. Далее проанализировали некоторые данные, например, изменение концентрации металлов на различных этапах очистки и распределение размеров гранул сырья в тестовой и тренеровочной выборках. После этого проверили несколько моделей с помощью кросс-валидации, заранее написав функцию расчета интересующей нас метрики. "
   ]
  }
 ],
 "metadata": {
  "ExecuteTimeLog": [
   {
    "duration": 1609,
    "start_time": "2023-04-04T21:02:28.734Z"
   },
   {
    "duration": 2138,
    "start_time": "2023-04-04T21:05:52.397Z"
   },
   {
    "duration": 25,
    "start_time": "2023-04-04T21:09:21.294Z"
   },
   {
    "duration": 30,
    "start_time": "2023-04-04T21:29:24.997Z"
   },
   {
    "duration": 23,
    "start_time": "2023-04-04T21:31:24.954Z"
   },
   {
    "duration": 31,
    "start_time": "2023-04-04T21:31:25.586Z"
   },
   {
    "duration": 24,
    "start_time": "2023-04-04T21:31:26.217Z"
   },
   {
    "duration": 14,
    "start_time": "2023-04-04T21:31:26.766Z"
   },
   {
    "duration": 5,
    "start_time": "2023-04-04T23:19:56.924Z"
   },
   {
    "duration": 825,
    "start_time": "2023-04-04T23:20:47.055Z"
   },
   {
    "duration": 6,
    "start_time": "2023-04-04T23:21:43.946Z"
   },
   {
    "duration": 5,
    "start_time": "2023-04-04T23:22:32.893Z"
   },
   {
    "duration": 7,
    "start_time": "2023-04-04T23:28:24.609Z"
   },
   {
    "duration": 1710,
    "start_time": "2023-04-06T20:28:16.144Z"
   },
   {
    "duration": 1887,
    "start_time": "2023-04-06T20:28:17.857Z"
   },
   {
    "duration": 30,
    "start_time": "2023-04-06T20:28:19.746Z"
   },
   {
    "duration": 22,
    "start_time": "2023-04-06T20:28:19.778Z"
   },
   {
    "duration": 35,
    "start_time": "2023-04-06T20:28:19.801Z"
   },
   {
    "duration": 23,
    "start_time": "2023-04-06T20:28:19.838Z"
   },
   {
    "duration": 24,
    "start_time": "2023-04-06T20:28:19.864Z"
   },
   {
    "duration": 40,
    "start_time": "2023-04-06T20:28:19.891Z"
   },
   {
    "duration": 8,
    "start_time": "2023-04-06T20:28:19.933Z"
   },
   {
    "duration": 109,
    "start_time": "2023-04-06T21:03:35.063Z"
   },
   {
    "duration": 3,
    "start_time": "2023-04-06T21:03:55.689Z"
   },
   {
    "duration": 5,
    "start_time": "2023-04-06T21:04:01.010Z"
   },
   {
    "duration": 73,
    "start_time": "2023-04-06T21:05:44.487Z"
   },
   {
    "duration": 4,
    "start_time": "2023-04-06T21:05:58.739Z"
   },
   {
    "duration": 43,
    "start_time": "2023-04-06T21:06:06.293Z"
   },
   {
    "duration": 4,
    "start_time": "2023-04-06T21:06:52.219Z"
   },
   {
    "duration": 13,
    "start_time": "2023-04-06T22:21:16.124Z"
   },
   {
    "duration": 6,
    "start_time": "2023-04-06T22:21:20.284Z"
   },
   {
    "duration": 8,
    "start_time": "2023-04-06T22:22:22.292Z"
   },
   {
    "duration": 1612,
    "start_time": "2023-04-08T11:58:47.765Z"
   },
   {
    "duration": 3062,
    "start_time": "2023-04-08T11:58:49.379Z"
   },
   {
    "duration": 34,
    "start_time": "2023-04-08T11:58:52.442Z"
   },
   {
    "duration": 23,
    "start_time": "2023-04-08T11:58:52.478Z"
   },
   {
    "duration": 31,
    "start_time": "2023-04-08T11:58:52.503Z"
   },
   {
    "duration": 17,
    "start_time": "2023-04-08T11:58:52.536Z"
   },
   {
    "duration": 21,
    "start_time": "2023-04-08T11:58:52.554Z"
   },
   {
    "duration": 34,
    "start_time": "2023-04-08T11:58:52.577Z"
   },
   {
    "duration": 29,
    "start_time": "2023-04-08T11:58:52.617Z"
   },
   {
    "duration": 12,
    "start_time": "2023-04-08T11:58:52.648Z"
   },
   {
    "duration": 20,
    "start_time": "2023-04-08T11:58:52.662Z"
   },
   {
    "duration": 20,
    "start_time": "2023-04-08T12:33:52.454Z"
   },
   {
    "duration": 2,
    "start_time": "2023-04-08T12:34:53.542Z"
   },
   {
    "duration": 12,
    "start_time": "2023-04-08T12:35:09.850Z"
   },
   {
    "duration": 3,
    "start_time": "2023-04-08T12:56:16.602Z"
   },
   {
    "duration": 115,
    "start_time": "2023-04-08T12:56:44.662Z"
   },
   {
    "duration": 4,
    "start_time": "2023-04-08T12:57:16.111Z"
   },
   {
    "duration": 13,
    "start_time": "2023-04-08T12:57:17.252Z"
   },
   {
    "duration": 4,
    "start_time": "2023-04-08T12:57:39.121Z"
   },
   {
    "duration": 4,
    "start_time": "2023-04-08T12:57:46.612Z"
   },
   {
    "duration": 14,
    "start_time": "2023-04-08T12:57:47.381Z"
   },
   {
    "duration": 8,
    "start_time": "2023-04-08T12:57:56.972Z"
   },
   {
    "duration": 6,
    "start_time": "2023-04-08T12:57:57.552Z"
   },
   {
    "duration": 20,
    "start_time": "2023-04-08T12:58:07.508Z"
   },
   {
    "duration": 12,
    "start_time": "2023-04-08T12:58:33.443Z"
   },
   {
    "duration": 11,
    "start_time": "2023-04-08T12:58:38.932Z"
   },
   {
    "duration": 14,
    "start_time": "2023-04-08T12:59:34.812Z"
   },
   {
    "duration": 29,
    "start_time": "2023-04-08T12:59:42.463Z"
   },
   {
    "duration": 8,
    "start_time": "2023-04-08T12:59:56.542Z"
   },
   {
    "duration": 12,
    "start_time": "2023-04-08T13:01:18.722Z"
   },
   {
    "duration": 13,
    "start_time": "2023-04-08T13:01:36.752Z"
   },
   {
    "duration": 3,
    "start_time": "2023-04-08T13:04:21.563Z"
   },
   {
    "duration": 3,
    "start_time": "2023-04-08T13:04:27.423Z"
   },
   {
    "duration": 4,
    "start_time": "2023-04-08T13:04:36.223Z"
   },
   {
    "duration": 10,
    "start_time": "2023-04-08T13:04:43.543Z"
   },
   {
    "duration": 15,
    "start_time": "2023-04-08T13:04:55.173Z"
   },
   {
    "duration": 7,
    "start_time": "2023-04-08T13:04:59.353Z"
   },
   {
    "duration": 1493,
    "start_time": "2023-04-10T09:11:06.264Z"
   },
   {
    "duration": 4,
    "start_time": "2023-04-10T09:11:20.207Z"
   },
   {
    "duration": 1827,
    "start_time": "2023-04-10T09:11:20.213Z"
   },
   {
    "duration": 27,
    "start_time": "2023-04-10T09:11:22.042Z"
   },
   {
    "duration": 18,
    "start_time": "2023-04-10T09:11:22.071Z"
   },
   {
    "duration": 21,
    "start_time": "2023-04-10T09:11:22.091Z"
   },
   {
    "duration": 17,
    "start_time": "2023-04-10T09:11:22.113Z"
   },
   {
    "duration": 22,
    "start_time": "2023-04-10T09:11:22.161Z"
   },
   {
    "duration": 14,
    "start_time": "2023-04-10T09:11:22.185Z"
   },
   {
    "duration": 7,
    "start_time": "2023-04-10T09:11:22.202Z"
   },
   {
    "duration": 6,
    "start_time": "2023-04-10T09:11:22.210Z"
   },
   {
    "duration": 47,
    "start_time": "2023-04-10T09:11:22.218Z"
   },
   {
    "duration": 18,
    "start_time": "2023-04-10T09:11:22.267Z"
   },
   {
    "duration": 4,
    "start_time": "2023-04-10T09:11:22.287Z"
   },
   {
    "duration": 7,
    "start_time": "2023-04-10T09:11:22.293Z"
   },
   {
    "duration": 20,
    "start_time": "2023-04-10T09:11:22.301Z"
   },
   {
    "duration": 48,
    "start_time": "2023-04-10T09:11:22.323Z"
   },
   {
    "duration": 18,
    "start_time": "2023-04-10T09:11:22.373Z"
   },
   {
    "duration": 19,
    "start_time": "2023-04-10T09:11:22.393Z"
   },
   {
    "duration": 13,
    "start_time": "2023-04-10T09:11:22.414Z"
   },
   {
    "duration": 45,
    "start_time": "2023-04-10T09:11:22.429Z"
   },
   {
    "duration": 3,
    "start_time": "2023-04-10T09:11:22.476Z"
   },
   {
    "duration": 6,
    "start_time": "2023-04-10T09:11:22.481Z"
   },
   {
    "duration": 12,
    "start_time": "2023-04-10T09:11:22.488Z"
   },
   {
    "duration": 7,
    "start_time": "2023-04-10T09:11:22.502Z"
   },
   {
    "duration": 114,
    "start_time": "2023-04-10T10:20:00.632Z"
   },
   {
    "duration": 25,
    "start_time": "2023-04-10T10:20:16.753Z"
   },
   {
    "duration": 8,
    "start_time": "2023-04-10T10:20:35.527Z"
   },
   {
    "duration": 5,
    "start_time": "2023-04-10T10:20:46.822Z"
   },
   {
    "duration": 7,
    "start_time": "2023-04-10T10:20:58.502Z"
   },
   {
    "duration": 8,
    "start_time": "2023-04-10T10:21:07.331Z"
   },
   {
    "duration": 4,
    "start_time": "2023-04-10T10:21:43.286Z"
   },
   {
    "duration": 7,
    "start_time": "2023-04-10T10:21:57.721Z"
   },
   {
    "duration": 4,
    "start_time": "2023-04-10T10:22:34.191Z"
   },
   {
    "duration": 6,
    "start_time": "2023-04-10T10:22:49.781Z"
   },
   {
    "duration": 16,
    "start_time": "2023-04-10T10:24:51.221Z"
   },
   {
    "duration": 20,
    "start_time": "2023-04-10T12:44:20.011Z"
   },
   {
    "duration": 66,
    "start_time": "2023-04-10T12:44:50.437Z"
   },
   {
    "duration": 14,
    "start_time": "2023-04-10T12:44:59.920Z"
   },
   {
    "duration": 317,
    "start_time": "2023-04-10T12:45:15.945Z"
   },
   {
    "duration": 180,
    "start_time": "2023-04-10T12:45:30.601Z"
   },
   {
    "duration": 151,
    "start_time": "2023-04-10T12:45:37.472Z"
   },
   {
    "duration": 252,
    "start_time": "2023-04-10T12:45:45.258Z"
   },
   {
    "duration": 154,
    "start_time": "2023-04-10T12:45:53.649Z"
   },
   {
    "duration": 208,
    "start_time": "2023-04-10T12:46:23.505Z"
   },
   {
    "duration": 192,
    "start_time": "2023-04-10T12:47:05.124Z"
   },
   {
    "duration": 1271,
    "start_time": "2023-04-10T12:48:54.330Z"
   },
   {
    "duration": 594,
    "start_time": "2023-04-10T12:49:16.968Z"
   },
   {
    "duration": 623,
    "start_time": "2023-04-10T12:53:15.585Z"
   },
   {
    "duration": 305,
    "start_time": "2023-04-10T12:53:35.281Z"
   },
   {
    "duration": 1012,
    "start_time": "2023-04-10T12:55:42.928Z"
   },
   {
    "duration": 1313,
    "start_time": "2023-04-10T12:55:56.206Z"
   },
   {
    "duration": 617,
    "start_time": "2023-04-10T12:56:11.888Z"
   },
   {
    "duration": 1108,
    "start_time": "2023-04-10T12:56:29.064Z"
   },
   {
    "duration": 3792,
    "start_time": "2023-04-10T12:57:33.278Z"
   },
   {
    "duration": 3387,
    "start_time": "2023-04-10T12:58:58.138Z"
   },
   {
    "duration": 2057,
    "start_time": "2023-04-10T12:59:35.901Z"
   },
   {
    "duration": 369,
    "start_time": "2023-04-10T13:15:19.548Z"
   },
   {
    "duration": 2000,
    "start_time": "2023-04-10T13:15:37.621Z"
   },
   {
    "duration": 2208,
    "start_time": "2023-04-10T13:15:59.459Z"
   },
   {
    "duration": 2077,
    "start_time": "2023-04-10T13:21:08.270Z"
   },
   {
    "duration": 2293,
    "start_time": "2023-04-10T13:21:26.352Z"
   },
   {
    "duration": 2563,
    "start_time": "2023-04-10T13:22:00.083Z"
   },
   {
    "duration": 2341,
    "start_time": "2023-04-10T13:23:32.499Z"
   },
   {
    "duration": 3489,
    "start_time": "2023-04-10T13:27:12.777Z"
   },
   {
    "duration": 3964,
    "start_time": "2023-04-10T13:27:37.141Z"
   },
   {
    "duration": 3692,
    "start_time": "2023-04-10T13:27:46.174Z"
   },
   {
    "duration": 3626,
    "start_time": "2023-04-10T13:29:53.247Z"
   },
   {
    "duration": 5986,
    "start_time": "2023-04-10T13:31:54.942Z"
   },
   {
    "duration": 3590,
    "start_time": "2023-04-10T13:32:24.281Z"
   },
   {
    "duration": 4335,
    "start_time": "2023-04-10T13:32:38.573Z"
   },
   {
    "duration": 3597,
    "start_time": "2023-04-10T13:33:28.022Z"
   },
   {
    "duration": 3976,
    "start_time": "2023-04-10T13:33:58.526Z"
   },
   {
    "duration": 3944,
    "start_time": "2023-04-10T13:34:47.620Z"
   },
   {
    "duration": 11,
    "start_time": "2023-04-10T13:34:57.870Z"
   },
   {
    "duration": 3639,
    "start_time": "2023-04-10T13:35:02.315Z"
   },
   {
    "duration": 3580,
    "start_time": "2023-04-10T13:35:14.080Z"
   },
   {
    "duration": 51,
    "start_time": "2023-04-10T13:36:12.129Z"
   },
   {
    "duration": 3861,
    "start_time": "2023-04-10T13:36:31.213Z"
   },
   {
    "duration": 3632,
    "start_time": "2023-04-10T13:36:44.877Z"
   },
   {
    "duration": 52,
    "start_time": "2023-04-11T11:08:55.354Z"
   },
   {
    "duration": 1629,
    "start_time": "2023-04-11T11:09:01.619Z"
   },
   {
    "duration": 2004,
    "start_time": "2023-04-11T11:09:03.250Z"
   },
   {
    "duration": 25,
    "start_time": "2023-04-11T11:09:05.256Z"
   },
   {
    "duration": 20,
    "start_time": "2023-04-11T11:09:05.283Z"
   },
   {
    "duration": 35,
    "start_time": "2023-04-11T11:09:05.305Z"
   },
   {
    "duration": 32,
    "start_time": "2023-04-11T11:09:05.341Z"
   },
   {
    "duration": 24,
    "start_time": "2023-04-11T11:09:05.375Z"
   },
   {
    "duration": 18,
    "start_time": "2023-04-11T11:09:05.400Z"
   },
   {
    "duration": 6,
    "start_time": "2023-04-11T11:09:05.420Z"
   },
   {
    "duration": 7,
    "start_time": "2023-04-11T11:09:05.429Z"
   },
   {
    "duration": 14,
    "start_time": "2023-04-11T11:09:05.438Z"
   },
   {
    "duration": 34,
    "start_time": "2023-04-11T11:09:05.453Z"
   },
   {
    "duration": 3,
    "start_time": "2023-04-11T11:09:05.488Z"
   },
   {
    "duration": 7,
    "start_time": "2023-04-11T11:09:05.492Z"
   },
   {
    "duration": 42,
    "start_time": "2023-04-11T11:09:05.501Z"
   },
   {
    "duration": 14,
    "start_time": "2023-04-11T11:09:05.545Z"
   },
   {
    "duration": 7,
    "start_time": "2023-04-11T11:09:05.560Z"
   },
   {
    "duration": 14,
    "start_time": "2023-04-11T11:09:05.569Z"
   },
   {
    "duration": 13,
    "start_time": "2023-04-11T11:09:05.584Z"
   },
   {
    "duration": 19,
    "start_time": "2023-04-11T11:09:05.599Z"
   },
   {
    "duration": 7,
    "start_time": "2023-04-11T11:09:05.619Z"
   },
   {
    "duration": 9,
    "start_time": "2023-04-11T11:09:05.628Z"
   },
   {
    "duration": 13,
    "start_time": "2023-04-11T11:09:05.639Z"
   },
   {
    "duration": 37,
    "start_time": "2023-04-11T11:09:05.653Z"
   },
   {
    "duration": 2,
    "start_time": "2023-04-11T11:09:05.692Z"
   },
   {
    "duration": 9,
    "start_time": "2023-04-11T11:09:05.696Z"
   },
   {
    "duration": 15,
    "start_time": "2023-04-11T11:09:05.707Z"
   },
   {
    "duration": 7,
    "start_time": "2023-04-11T11:09:05.726Z"
   },
   {
    "duration": 6,
    "start_time": "2023-04-11T11:09:05.735Z"
   },
   {
    "duration": 6,
    "start_time": "2023-04-11T11:09:05.742Z"
   },
   {
    "duration": 46,
    "start_time": "2023-04-11T11:09:05.750Z"
   },
   {
    "duration": 3553,
    "start_time": "2023-04-11T11:09:05.797Z"
   },
   {
    "duration": 849,
    "start_time": "2023-04-11T11:09:16.249Z"
   },
   {
    "duration": 850,
    "start_time": "2023-04-11T11:09:49.278Z"
   },
   {
    "duration": 862,
    "start_time": "2023-04-11T11:10:15.204Z"
   },
   {
    "duration": 780,
    "start_time": "2023-04-11T11:11:18.496Z"
   },
   {
    "duration": 815,
    "start_time": "2023-04-11T11:11:56.373Z"
   },
   {
    "duration": 898,
    "start_time": "2023-04-11T11:12:18.578Z"
   },
   {
    "duration": 798,
    "start_time": "2023-04-11T11:12:25.130Z"
   },
   {
    "duration": 1021,
    "start_time": "2023-04-11T11:12:36.905Z"
   },
   {
    "duration": 266,
    "start_time": "2023-04-11T11:13:09.312Z"
   },
   {
    "duration": 213,
    "start_time": "2023-04-11T11:13:17.068Z"
   },
   {
    "duration": 234,
    "start_time": "2023-04-11T11:13:30.971Z"
   },
   {
    "duration": 235,
    "start_time": "2023-04-11T11:13:36.126Z"
   },
   {
    "duration": 1606,
    "start_time": "2023-04-11T14:42:32.431Z"
   },
   {
    "duration": 1854,
    "start_time": "2023-04-11T14:42:34.039Z"
   },
   {
    "duration": 26,
    "start_time": "2023-04-11T14:42:35.894Z"
   },
   {
    "duration": 19,
    "start_time": "2023-04-11T14:42:35.922Z"
   },
   {
    "duration": 29,
    "start_time": "2023-04-11T14:42:35.943Z"
   },
   {
    "duration": 20,
    "start_time": "2023-04-11T14:42:35.974Z"
   },
   {
    "duration": 22,
    "start_time": "2023-04-11T14:42:35.996Z"
   },
   {
    "duration": 46,
    "start_time": "2023-04-11T14:42:36.021Z"
   },
   {
    "duration": 6,
    "start_time": "2023-04-11T14:42:36.069Z"
   },
   {
    "duration": 5,
    "start_time": "2023-04-11T14:42:36.077Z"
   },
   {
    "duration": 21,
    "start_time": "2023-04-11T14:42:36.083Z"
   },
   {
    "duration": 23,
    "start_time": "2023-04-11T14:42:36.106Z"
   },
   {
    "duration": 3,
    "start_time": "2023-04-11T14:42:36.131Z"
   },
   {
    "duration": 6,
    "start_time": "2023-04-11T14:42:36.156Z"
   },
   {
    "duration": 27,
    "start_time": "2023-04-11T14:42:36.164Z"
   },
   {
    "duration": 23,
    "start_time": "2023-04-11T14:42:36.193Z"
   },
   {
    "duration": 10,
    "start_time": "2023-04-11T14:42:36.218Z"
   },
   {
    "duration": 30,
    "start_time": "2023-04-11T14:42:36.229Z"
   },
   {
    "duration": 22,
    "start_time": "2023-04-11T14:42:36.261Z"
   },
   {
    "duration": 18,
    "start_time": "2023-04-11T14:42:36.284Z"
   },
   {
    "duration": 15,
    "start_time": "2023-04-11T14:42:36.303Z"
   },
   {
    "duration": 5,
    "start_time": "2023-04-11T14:42:36.320Z"
   },
   {
    "duration": 35,
    "start_time": "2023-04-11T14:42:36.326Z"
   },
   {
    "duration": 12,
    "start_time": "2023-04-11T14:42:36.362Z"
   },
   {
    "duration": 3,
    "start_time": "2023-04-11T14:42:36.376Z"
   },
   {
    "duration": 6,
    "start_time": "2023-04-11T14:42:36.380Z"
   },
   {
    "duration": 12,
    "start_time": "2023-04-11T14:42:36.387Z"
   },
   {
    "duration": 9,
    "start_time": "2023-04-11T14:42:36.400Z"
   },
   {
    "duration": 46,
    "start_time": "2023-04-11T14:42:36.411Z"
   },
   {
    "duration": 7,
    "start_time": "2023-04-11T14:42:36.459Z"
   },
   {
    "duration": 18,
    "start_time": "2023-04-11T14:42:36.468Z"
   },
   {
    "duration": 3838,
    "start_time": "2023-04-11T14:42:36.489Z"
   },
   {
    "duration": 332,
    "start_time": "2023-04-11T14:42:40.328Z"
   },
   {
    "duration": 227,
    "start_time": "2023-04-11T14:44:42.710Z"
   },
   {
    "duration": 245,
    "start_time": "2023-04-11T14:47:40.303Z"
   },
   {
    "duration": 284,
    "start_time": "2023-04-11T14:47:46.895Z"
   },
   {
    "duration": 267,
    "start_time": "2023-04-11T14:47:53.665Z"
   },
   {
    "duration": 255,
    "start_time": "2023-04-11T14:48:03.082Z"
   },
   {
    "duration": 1603,
    "start_time": "2023-04-12T10:35:32.707Z"
   },
   {
    "duration": 1852,
    "start_time": "2023-04-12T10:35:34.312Z"
   },
   {
    "duration": 27,
    "start_time": "2023-04-12T10:35:36.166Z"
   },
   {
    "duration": 21,
    "start_time": "2023-04-12T10:35:36.194Z"
   },
   {
    "duration": 23,
    "start_time": "2023-04-12T10:35:36.217Z"
   },
   {
    "duration": 17,
    "start_time": "2023-04-12T10:35:36.242Z"
   },
   {
    "duration": 52,
    "start_time": "2023-04-12T10:35:36.261Z"
   },
   {
    "duration": 31,
    "start_time": "2023-04-12T10:35:36.315Z"
   },
   {
    "duration": 9,
    "start_time": "2023-04-12T10:35:36.348Z"
   },
   {
    "duration": 34,
    "start_time": "2023-04-12T10:35:36.358Z"
   },
   {
    "duration": 37,
    "start_time": "2023-04-12T10:35:36.394Z"
   },
   {
    "duration": 34,
    "start_time": "2023-04-12T10:35:36.433Z"
   },
   {
    "duration": 3,
    "start_time": "2023-04-12T10:35:36.469Z"
   },
   {
    "duration": 6,
    "start_time": "2023-04-12T10:35:36.475Z"
   },
   {
    "duration": 24,
    "start_time": "2023-04-12T10:35:36.482Z"
   },
   {
    "duration": 8,
    "start_time": "2023-04-12T10:35:36.508Z"
   },
   {
    "duration": 7,
    "start_time": "2023-04-12T10:35:36.517Z"
   },
   {
    "duration": 8,
    "start_time": "2023-04-12T10:35:36.526Z"
   },
   {
    "duration": 16,
    "start_time": "2023-04-12T10:35:36.535Z"
   },
   {
    "duration": 45,
    "start_time": "2023-04-12T10:35:36.553Z"
   },
   {
    "duration": 7,
    "start_time": "2023-04-12T10:35:36.600Z"
   },
   {
    "duration": 5,
    "start_time": "2023-04-12T10:35:36.609Z"
   },
   {
    "duration": 7,
    "start_time": "2023-04-12T10:35:36.615Z"
   },
   {
    "duration": 15,
    "start_time": "2023-04-12T10:35:36.624Z"
   },
   {
    "duration": 3,
    "start_time": "2023-04-12T10:35:36.640Z"
   },
   {
    "duration": 6,
    "start_time": "2023-04-12T10:35:36.644Z"
   },
   {
    "duration": 45,
    "start_time": "2023-04-12T10:35:36.651Z"
   },
   {
    "duration": 16,
    "start_time": "2023-04-12T10:35:36.697Z"
   },
   {
    "duration": 5,
    "start_time": "2023-04-12T10:35:36.714Z"
   },
   {
    "duration": 7,
    "start_time": "2023-04-12T10:35:36.720Z"
   },
   {
    "duration": 20,
    "start_time": "2023-04-12T10:35:36.728Z"
   },
   {
    "duration": 3652,
    "start_time": "2023-04-12T10:35:36.750Z"
   },
   {
    "duration": 313,
    "start_time": "2023-04-12T10:35:40.404Z"
   },
   {
    "duration": 122,
    "start_time": "2023-04-12T10:35:40.719Z"
   },
   {
    "duration": 0,
    "start_time": "2023-04-12T10:35:40.843Z"
   },
   {
    "duration": 23,
    "start_time": "2023-04-12T10:35:47.259Z"
   },
   {
    "duration": 7,
    "start_time": "2023-04-12T10:41:54.016Z"
   },
   {
    "duration": 323,
    "start_time": "2023-04-12T10:42:35.325Z"
   },
   {
    "duration": 19,
    "start_time": "2023-04-12T10:42:51.622Z"
   },
   {
    "duration": 126,
    "start_time": "2023-04-12T10:44:01.676Z"
   },
   {
    "duration": 9,
    "start_time": "2023-04-12T10:44:18.353Z"
   },
   {
    "duration": 19,
    "start_time": "2023-04-12T10:44:27.827Z"
   },
   {
    "duration": 362,
    "start_time": "2023-04-12T10:44:43.150Z"
   },
   {
    "duration": 6,
    "start_time": "2023-04-12T10:48:01.776Z"
   },
   {
    "duration": 8,
    "start_time": "2023-04-12T10:48:31.911Z"
   },
   {
    "duration": 4,
    "start_time": "2023-04-12T10:48:35.484Z"
   },
   {
    "duration": 9,
    "start_time": "2023-04-12T10:49:04.529Z"
   },
   {
    "duration": 53,
    "start_time": "2023-04-13T09:50:29.316Z"
   },
   {
    "duration": 2418,
    "start_time": "2023-04-13T09:50:35.419Z"
   },
   {
    "duration": 3227,
    "start_time": "2023-04-13T09:50:37.839Z"
   },
   {
    "duration": 26,
    "start_time": "2023-04-13T09:50:41.069Z"
   },
   {
    "duration": 38,
    "start_time": "2023-04-13T09:50:41.096Z"
   },
   {
    "duration": 44,
    "start_time": "2023-04-13T09:50:41.137Z"
   },
   {
    "duration": 70,
    "start_time": "2023-04-13T09:50:41.183Z"
   },
   {
    "duration": 44,
    "start_time": "2023-04-13T09:50:41.255Z"
   },
   {
    "duration": 56,
    "start_time": "2023-04-13T09:50:41.300Z"
   },
   {
    "duration": 30,
    "start_time": "2023-04-13T09:50:41.358Z"
   },
   {
    "duration": 34,
    "start_time": "2023-04-13T09:50:41.389Z"
   },
   {
    "duration": 58,
    "start_time": "2023-04-13T09:50:41.425Z"
   },
   {
    "duration": 85,
    "start_time": "2023-04-13T09:50:41.485Z"
   },
   {
    "duration": 8,
    "start_time": "2023-04-13T09:50:47.082Z"
   },
   {
    "duration": 8,
    "start_time": "2023-04-13T09:51:16.816Z"
   },
   {
    "duration": 6,
    "start_time": "2023-04-13T09:51:17.357Z"
   },
   {
    "duration": 130,
    "start_time": "2023-04-13T09:53:37.515Z"
   },
   {
    "duration": 33,
    "start_time": "2023-04-13T09:54:16.320Z"
   },
   {
    "duration": 12,
    "start_time": "2023-04-13T09:54:55.783Z"
   },
   {
    "duration": 11,
    "start_time": "2023-04-13T09:54:56.240Z"
   },
   {
    "duration": 11,
    "start_time": "2023-04-13T09:54:56.612Z"
   },
   {
    "duration": 21,
    "start_time": "2023-04-13T10:00:34.709Z"
   },
   {
    "duration": 9,
    "start_time": "2023-04-13T10:22:56.601Z"
   },
   {
    "duration": 28,
    "start_time": "2023-04-13T10:23:04.304Z"
   },
   {
    "duration": 13,
    "start_time": "2023-04-13T10:25:22.021Z"
   },
   {
    "duration": 17,
    "start_time": "2023-04-13T10:25:54.314Z"
   },
   {
    "duration": 14,
    "start_time": "2023-04-13T10:32:45.301Z"
   },
   {
    "duration": 20,
    "start_time": "2023-04-13T10:34:18.750Z"
   },
   {
    "duration": 18,
    "start_time": "2023-04-13T10:35:20.441Z"
   },
   {
    "duration": 14,
    "start_time": "2023-04-13T10:35:30.424Z"
   },
   {
    "duration": 17,
    "start_time": "2023-04-13T10:35:49.031Z"
   },
   {
    "duration": 16,
    "start_time": "2023-04-13T10:37:07.409Z"
   },
   {
    "duration": 16,
    "start_time": "2023-04-13T10:37:24.225Z"
   },
   {
    "duration": 714,
    "start_time": "2023-04-13T10:39:33.408Z"
   },
   {
    "duration": 4,
    "start_time": "2023-04-13T10:39:45.709Z"
   },
   {
    "duration": 11,
    "start_time": "2023-04-13T10:39:48.747Z"
   },
   {
    "duration": 12,
    "start_time": "2023-04-13T10:40:20.401Z"
   },
   {
    "duration": 23,
    "start_time": "2023-04-13T10:40:33.332Z"
   },
   {
    "duration": 24,
    "start_time": "2023-04-13T10:41:03.712Z"
   },
   {
    "duration": 26,
    "start_time": "2023-04-13T10:41:17.542Z"
   },
   {
    "duration": 12,
    "start_time": "2023-04-13T10:42:51.597Z"
   },
   {
    "duration": 24,
    "start_time": "2023-04-13T10:42:52.351Z"
   },
   {
    "duration": 8,
    "start_time": "2023-04-13T11:38:20.502Z"
   },
   {
    "duration": 2676,
    "start_time": "2023-04-13T11:38:21.515Z"
   },
   {
    "duration": 5,
    "start_time": "2023-04-13T11:38:27.163Z"
   },
   {
    "duration": 10,
    "start_time": "2023-04-13T11:38:27.954Z"
   },
   {
    "duration": 11,
    "start_time": "2023-04-13T11:39:00.929Z"
   },
   {
    "duration": 126,
    "start_time": "2023-04-13T11:39:01.498Z"
   },
   {
    "duration": 129,
    "start_time": "2023-04-13T11:40:07.112Z"
   },
   {
    "duration": 3,
    "start_time": "2023-04-13T11:40:09.552Z"
   },
   {
    "duration": 110,
    "start_time": "2023-04-13T11:40:46.674Z"
   },
   {
    "duration": 229,
    "start_time": "2023-04-13T11:46:47.640Z"
   },
   {
    "duration": 157,
    "start_time": "2023-04-13T11:48:26.136Z"
   },
   {
    "duration": 120,
    "start_time": "2023-04-13T11:49:07.602Z"
   },
   {
    "duration": 3,
    "start_time": "2023-04-13T17:08:01.730Z"
   },
   {
    "duration": 4,
    "start_time": "2023-04-13T17:08:05.060Z"
   },
   {
    "duration": 5,
    "start_time": "2023-04-13T17:08:20.684Z"
   },
   {
    "duration": 3,
    "start_time": "2023-04-13T17:08:36.997Z"
   },
   {
    "duration": 5,
    "start_time": "2023-04-13T17:08:37.799Z"
   },
   {
    "duration": 4,
    "start_time": "2023-04-13T17:08:44.459Z"
   },
   {
    "duration": 42,
    "start_time": "2023-04-13T17:11:31.640Z"
   },
   {
    "duration": 7,
    "start_time": "2023-04-13T17:11:42.342Z"
   },
   {
    "duration": 15,
    "start_time": "2023-04-13T17:11:53.339Z"
   },
   {
    "duration": 10,
    "start_time": "2023-04-13T17:12:09.335Z"
   },
   {
    "duration": 3,
    "start_time": "2023-04-13T17:12:18.296Z"
   },
   {
    "duration": 5,
    "start_time": "2023-04-13T17:12:37.401Z"
   },
   {
    "duration": 14,
    "start_time": "2023-04-13T17:12:43.586Z"
   },
   {
    "duration": 3,
    "start_time": "2023-04-13T20:08:30.191Z"
   },
   {
    "duration": 847,
    "start_time": "2023-04-13T20:08:30.196Z"
   },
   {
    "duration": 25,
    "start_time": "2023-04-13T20:08:31.044Z"
   },
   {
    "duration": 66,
    "start_time": "2023-04-13T20:08:31.071Z"
   },
   {
    "duration": 56,
    "start_time": "2023-04-13T20:08:31.139Z"
   },
   {
    "duration": 77,
    "start_time": "2023-04-13T20:08:31.196Z"
   },
   {
    "duration": 51,
    "start_time": "2023-04-13T20:08:31.275Z"
   },
   {
    "duration": 38,
    "start_time": "2023-04-13T20:08:31.328Z"
   },
   {
    "duration": 21,
    "start_time": "2023-04-13T20:08:31.369Z"
   },
   {
    "duration": 47,
    "start_time": "2023-04-13T20:08:31.391Z"
   },
   {
    "duration": 32,
    "start_time": "2023-04-13T20:08:31.440Z"
   },
   {
    "duration": 29,
    "start_time": "2023-04-13T20:08:31.474Z"
   },
   {
    "duration": 16,
    "start_time": "2023-04-13T20:08:31.505Z"
   },
   {
    "duration": 23,
    "start_time": "2023-04-13T20:08:31.523Z"
   },
   {
    "duration": 34,
    "start_time": "2023-04-13T20:08:31.548Z"
   },
   {
    "duration": 11,
    "start_time": "2023-04-13T20:08:41.916Z"
   },
   {
    "duration": 81,
    "start_time": "2023-04-13T20:09:01.390Z"
   },
   {
    "duration": 34,
    "start_time": "2023-04-13T20:09:10.614Z"
   },
   {
    "duration": 22,
    "start_time": "2023-04-13T20:09:23.351Z"
   },
   {
    "duration": 32,
    "start_time": "2023-04-13T20:09:31.178Z"
   },
   {
    "duration": 11,
    "start_time": "2023-04-13T20:10:12.849Z"
   },
   {
    "duration": 22,
    "start_time": "2023-04-13T20:10:20.982Z"
   },
   {
    "duration": 11,
    "start_time": "2023-04-13T20:10:32.415Z"
   },
   {
    "duration": 9,
    "start_time": "2023-04-13T20:10:32.878Z"
   },
   {
    "duration": 7,
    "start_time": "2023-04-13T20:10:33.218Z"
   },
   {
    "duration": 3,
    "start_time": "2023-04-13T20:10:42.671Z"
   },
   {
    "duration": 768,
    "start_time": "2023-04-13T20:10:42.677Z"
   },
   {
    "duration": 23,
    "start_time": "2023-04-13T20:10:43.447Z"
   },
   {
    "duration": 23,
    "start_time": "2023-04-13T20:10:43.472Z"
   },
   {
    "duration": 39,
    "start_time": "2023-04-13T20:10:43.498Z"
   },
   {
    "duration": 97,
    "start_time": "2023-04-13T20:10:43.539Z"
   },
   {
    "duration": 42,
    "start_time": "2023-04-13T20:10:43.638Z"
   },
   {
    "duration": 68,
    "start_time": "2023-04-13T20:10:43.682Z"
   },
   {
    "duration": 17,
    "start_time": "2023-04-13T20:10:43.752Z"
   },
   {
    "duration": 17,
    "start_time": "2023-04-13T20:10:43.771Z"
   },
   {
    "duration": 10,
    "start_time": "2023-04-13T20:10:43.790Z"
   },
   {
    "duration": 16,
    "start_time": "2023-04-13T20:10:43.802Z"
   },
   {
    "duration": 21,
    "start_time": "2023-04-13T20:10:43.820Z"
   },
   {
    "duration": 40,
    "start_time": "2023-04-13T20:10:43.845Z"
   },
   {
    "duration": 19,
    "start_time": "2023-04-13T20:10:43.888Z"
   },
   {
    "duration": 64,
    "start_time": "2023-04-13T20:10:43.910Z"
   },
   {
    "duration": 23,
    "start_time": "2023-04-13T20:10:43.976Z"
   },
   {
    "duration": 25,
    "start_time": "2023-04-13T20:10:44.001Z"
   },
   {
    "duration": 24,
    "start_time": "2023-04-13T20:10:44.028Z"
   },
   {
    "duration": 22,
    "start_time": "2023-04-13T20:10:44.054Z"
   },
   {
    "duration": 9,
    "start_time": "2023-04-13T20:10:44.078Z"
   },
   {
    "duration": 31,
    "start_time": "2023-04-13T20:10:44.088Z"
   },
   {
    "duration": 16,
    "start_time": "2023-04-13T20:10:44.121Z"
   },
   {
    "duration": 23,
    "start_time": "2023-04-13T20:10:44.139Z"
   },
   {
    "duration": 11,
    "start_time": "2023-04-13T20:10:44.164Z"
   },
   {
    "duration": 17,
    "start_time": "2023-04-13T20:10:44.176Z"
   },
   {
    "duration": 27,
    "start_time": "2023-04-13T20:10:44.194Z"
   },
   {
    "duration": 28,
    "start_time": "2023-04-13T20:10:44.222Z"
   },
   {
    "duration": 19,
    "start_time": "2023-04-13T20:10:44.252Z"
   },
   {
    "duration": 3848,
    "start_time": "2023-04-13T20:10:44.273Z"
   },
   {
    "duration": 291,
    "start_time": "2023-04-13T20:10:48.123Z"
   },
   {
    "duration": 13,
    "start_time": "2023-04-13T20:10:48.417Z"
   },
   {
    "duration": 140,
    "start_time": "2023-04-13T20:10:48.431Z"
   },
   {
    "duration": 1929,
    "start_time": "2023-04-16T18:54:47.533Z"
   },
   {
    "duration": 3440,
    "start_time": "2023-04-16T18:54:49.464Z"
   },
   {
    "duration": 29,
    "start_time": "2023-04-16T18:54:52.906Z"
   },
   {
    "duration": 48,
    "start_time": "2023-04-16T18:54:52.936Z"
   },
   {
    "duration": 31,
    "start_time": "2023-04-16T18:54:52.988Z"
   },
   {
    "duration": 66,
    "start_time": "2023-04-16T18:54:53.021Z"
   },
   {
    "duration": 90,
    "start_time": "2023-04-16T18:54:53.089Z"
   },
   {
    "duration": 17,
    "start_time": "2023-04-16T18:54:53.182Z"
   },
   {
    "duration": 9,
    "start_time": "2023-04-16T18:54:53.201Z"
   },
   {
    "duration": 7,
    "start_time": "2023-04-16T18:54:53.213Z"
   },
   {
    "duration": 61,
    "start_time": "2023-04-16T18:54:53.222Z"
   },
   {
    "duration": 19,
    "start_time": "2023-04-16T18:54:53.285Z"
   },
   {
    "duration": 23,
    "start_time": "2023-04-16T18:54:53.306Z"
   },
   {
    "duration": 30,
    "start_time": "2023-04-16T18:54:53.332Z"
   },
   {
    "duration": 9,
    "start_time": "2023-04-16T18:55:54.620Z"
   },
   {
    "duration": 15,
    "start_time": "2023-04-16T18:55:55.746Z"
   },
   {
    "duration": 70,
    "start_time": "2023-04-16T18:55:56.169Z"
   },
   {
    "duration": 133,
    "start_time": "2023-04-16T18:55:56.959Z"
   },
   {
    "duration": 3,
    "start_time": "2023-04-16T18:56:11.168Z"
   },
   {
    "duration": 4,
    "start_time": "2023-04-16T18:56:13.401Z"
   },
   {
    "duration": 25,
    "start_time": "2023-04-16T18:56:27.237Z"
   },
   {
    "duration": 24,
    "start_time": "2023-04-16T18:56:27.767Z"
   },
   {
    "duration": 4,
    "start_time": "2023-04-16T18:56:35.034Z"
   },
   {
    "duration": 795,
    "start_time": "2023-04-16T18:56:35.041Z"
   },
   {
    "duration": 30,
    "start_time": "2023-04-16T18:56:35.838Z"
   },
   {
    "duration": 35,
    "start_time": "2023-04-16T18:56:35.870Z"
   },
   {
    "duration": 53,
    "start_time": "2023-04-16T18:56:35.909Z"
   },
   {
    "duration": 24,
    "start_time": "2023-04-16T18:56:35.965Z"
   },
   {
    "duration": 24,
    "start_time": "2023-04-16T18:56:35.991Z"
   },
   {
    "duration": 56,
    "start_time": "2023-04-16T18:56:36.017Z"
   },
   {
    "duration": 60,
    "start_time": "2023-04-16T18:56:36.076Z"
   },
   {
    "duration": 44,
    "start_time": "2023-04-16T18:56:36.138Z"
   },
   {
    "duration": 34,
    "start_time": "2023-04-16T18:56:36.185Z"
   },
   {
    "duration": 30,
    "start_time": "2023-04-16T18:56:36.222Z"
   },
   {
    "duration": 51,
    "start_time": "2023-04-16T18:56:36.254Z"
   },
   {
    "duration": 8,
    "start_time": "2023-04-16T18:56:36.309Z"
   },
   {
    "duration": 24,
    "start_time": "2023-04-16T18:56:36.319Z"
   },
   {
    "duration": 9,
    "start_time": "2023-04-16T18:56:37.833Z"
   },
   {
    "duration": 60,
    "start_time": "2023-04-16T18:56:38.231Z"
   },
   {
    "duration": 37,
    "start_time": "2023-04-16T18:56:38.648Z"
   },
   {
    "duration": 22,
    "start_time": "2023-04-16T18:56:47.994Z"
   },
   {
    "duration": 32,
    "start_time": "2023-04-16T18:56:55.158Z"
   },
   {
    "duration": 14,
    "start_time": "2023-04-16T18:57:02.170Z"
   },
   {
    "duration": 30,
    "start_time": "2023-04-16T18:57:05.382Z"
   },
   {
    "duration": 4,
    "start_time": "2023-04-16T18:57:56.301Z"
   },
   {
    "duration": 25,
    "start_time": "2023-04-16T18:58:08.879Z"
   },
   {
    "duration": 24,
    "start_time": "2023-04-16T18:59:02.373Z"
   },
   {
    "duration": 11,
    "start_time": "2023-04-16T19:00:27.579Z"
   },
   {
    "duration": 10,
    "start_time": "2023-04-16T19:00:30.646Z"
   },
   {
    "duration": 6,
    "start_time": "2023-04-16T19:00:31.026Z"
   },
   {
    "duration": 16,
    "start_time": "2023-04-16T19:00:31.880Z"
   },
   {
    "duration": 29,
    "start_time": "2023-04-16T19:02:15.928Z"
   },
   {
    "duration": 4106,
    "start_time": "2023-04-16T19:02:18.819Z"
   },
   {
    "duration": 7,
    "start_time": "2023-04-16T19:09:15.465Z"
   },
   {
    "duration": 175,
    "start_time": "2023-04-16T19:13:48.282Z"
   },
   {
    "duration": 302,
    "start_time": "2023-04-16T19:16:33.370Z"
   },
   {
    "duration": 177,
    "start_time": "2023-04-16T19:16:43.881Z"
   },
   {
    "duration": 125,
    "start_time": "2023-04-16T19:17:32.779Z"
   },
   {
    "duration": 155,
    "start_time": "2023-04-16T19:19:53.077Z"
   },
   {
    "duration": 147,
    "start_time": "2023-04-16T19:20:03.366Z"
   },
   {
    "duration": 125,
    "start_time": "2023-04-16T19:24:41.057Z"
   },
   {
    "duration": 1442,
    "start_time": "2023-04-16T19:25:08.278Z"
   },
   {
    "duration": 1353,
    "start_time": "2023-04-16T19:26:32.232Z"
   },
   {
    "duration": 1491,
    "start_time": "2023-04-16T19:27:31.720Z"
   },
   {
    "duration": 1305,
    "start_time": "2023-04-16T19:28:11.087Z"
   },
   {
    "duration": 1236,
    "start_time": "2023-04-16T19:28:39.022Z"
   },
   {
    "duration": 5,
    "start_time": "2023-04-16T19:29:00.738Z"
   },
   {
    "duration": 4,
    "start_time": "2023-04-16T19:29:04.638Z"
   },
   {
    "duration": 205,
    "start_time": "2023-04-16T19:29:06.882Z"
   },
   {
    "duration": 212,
    "start_time": "2023-04-16T19:29:17.642Z"
   },
   {
    "duration": 198,
    "start_time": "2023-04-16T19:29:26.449Z"
   },
   {
    "duration": 185,
    "start_time": "2023-04-16T19:34:41.442Z"
   },
   {
    "duration": 174,
    "start_time": "2023-04-16T19:35:34.129Z"
   },
   {
    "duration": 277,
    "start_time": "2023-04-16T19:38:37.676Z"
   },
   {
    "duration": 204,
    "start_time": "2023-04-16T19:39:19.588Z"
   },
   {
    "duration": 168,
    "start_time": "2023-04-16T19:39:34.646Z"
   },
   {
    "duration": 161,
    "start_time": "2023-04-16T19:39:51.953Z"
   },
   {
    "duration": 168,
    "start_time": "2023-04-16T19:41:27.132Z"
   },
   {
    "duration": 199,
    "start_time": "2023-04-16T19:41:32.350Z"
   },
   {
    "duration": 155,
    "start_time": "2023-04-16T19:42:37.258Z"
   },
   {
    "duration": 141,
    "start_time": "2023-04-16T19:43:40.188Z"
   },
   {
    "duration": 213,
    "start_time": "2023-04-16T19:43:58.667Z"
   },
   {
    "duration": 224,
    "start_time": "2023-04-16T19:44:07.644Z"
   },
   {
    "duration": 231,
    "start_time": "2023-04-16T19:45:30.640Z"
   },
   {
    "duration": 188,
    "start_time": "2023-04-16T19:46:19.780Z"
   },
   {
    "duration": 390,
    "start_time": "2023-04-16T19:46:52.744Z"
   },
   {
    "duration": 207,
    "start_time": "2023-04-16T19:47:48.426Z"
   },
   {
    "duration": 84,
    "start_time": "2023-04-16T19:51:08.980Z"
   },
   {
    "duration": 201,
    "start_time": "2023-04-16T20:17:46.117Z"
   },
   {
    "duration": 16,
    "start_time": "2023-04-16T20:18:31.961Z"
   },
   {
    "duration": 96,
    "start_time": "2023-04-16T20:18:59.873Z"
   },
   {
    "duration": 6,
    "start_time": "2023-04-16T20:19:12.021Z"
   },
   {
    "duration": 851,
    "start_time": "2023-04-16T20:19:12.029Z"
   },
   {
    "duration": 25,
    "start_time": "2023-04-16T20:19:12.882Z"
   },
   {
    "duration": 49,
    "start_time": "2023-04-16T20:19:12.909Z"
   },
   {
    "duration": 36,
    "start_time": "2023-04-16T20:19:12.965Z"
   },
   {
    "duration": 50,
    "start_time": "2023-04-16T20:19:13.003Z"
   },
   {
    "duration": 42,
    "start_time": "2023-04-16T20:19:13.055Z"
   },
   {
    "duration": 34,
    "start_time": "2023-04-16T20:19:13.100Z"
   },
   {
    "duration": 11,
    "start_time": "2023-04-16T20:19:13.142Z"
   },
   {
    "duration": 30,
    "start_time": "2023-04-16T20:19:13.167Z"
   },
   {
    "duration": 22,
    "start_time": "2023-04-16T20:19:13.199Z"
   },
   {
    "duration": 37,
    "start_time": "2023-04-16T20:19:13.224Z"
   },
   {
    "duration": 44,
    "start_time": "2023-04-16T20:19:13.272Z"
   },
   {
    "duration": 77,
    "start_time": "2023-04-16T20:19:13.321Z"
   },
   {
    "duration": 18,
    "start_time": "2023-04-16T20:19:13.400Z"
   },
   {
    "duration": 73,
    "start_time": "2023-04-16T20:19:13.420Z"
   },
   {
    "duration": 54,
    "start_time": "2023-04-16T20:19:13.495Z"
   },
   {
    "duration": 25,
    "start_time": "2023-04-16T20:19:13.554Z"
   },
   {
    "duration": 32,
    "start_time": "2023-04-16T20:19:13.582Z"
   },
   {
    "duration": 29,
    "start_time": "2023-04-16T20:19:13.616Z"
   },
   {
    "duration": 14,
    "start_time": "2023-04-16T20:19:13.648Z"
   },
   {
    "duration": 19,
    "start_time": "2023-04-16T20:19:13.669Z"
   },
   {
    "duration": 19,
    "start_time": "2023-04-16T20:19:13.691Z"
   },
   {
    "duration": 60,
    "start_time": "2023-04-16T20:19:13.712Z"
   },
   {
    "duration": 6,
    "start_time": "2023-04-16T20:19:13.774Z"
   },
   {
    "duration": 15,
    "start_time": "2023-04-16T20:19:13.783Z"
   },
   {
    "duration": 48,
    "start_time": "2023-04-16T20:19:13.801Z"
   },
   {
    "duration": 205,
    "start_time": "2023-04-16T20:19:13.851Z"
   },
   {
    "duration": 111,
    "start_time": "2023-04-16T20:19:16.776Z"
   },
   {
    "duration": 22,
    "start_time": "2023-04-16T20:19:25.002Z"
   },
   {
    "duration": 20,
    "start_time": "2023-04-16T20:20:48.711Z"
   },
   {
    "duration": 23,
    "start_time": "2023-04-16T20:20:58.135Z"
   },
   {
    "duration": 65,
    "start_time": "2023-04-16T20:27:17.261Z"
   },
   {
    "duration": 35,
    "start_time": "2023-04-16T20:28:52.727Z"
   },
   {
    "duration": 64,
    "start_time": "2023-04-16T20:29:04.317Z"
   },
   {
    "duration": 61,
    "start_time": "2023-04-16T20:31:54.699Z"
   },
   {
    "duration": 25,
    "start_time": "2023-04-16T20:32:34.270Z"
   },
   {
    "duration": 26,
    "start_time": "2023-04-16T20:32:50.126Z"
   },
   {
    "duration": 24,
    "start_time": "2023-04-16T20:35:34.773Z"
   },
   {
    "duration": 24,
    "start_time": "2023-04-16T20:35:48.815Z"
   },
   {
    "duration": 27,
    "start_time": "2023-04-16T20:36:01.925Z"
   },
   {
    "duration": 24,
    "start_time": "2023-04-16T20:36:02.441Z"
   },
   {
    "duration": 25,
    "start_time": "2023-04-16T20:36:44.420Z"
   },
   {
    "duration": 25,
    "start_time": "2023-04-16T20:36:45.628Z"
   },
   {
    "duration": 30,
    "start_time": "2023-04-16T20:39:41.668Z"
   },
   {
    "duration": 24,
    "start_time": "2023-04-16T20:39:41.700Z"
   },
   {
    "duration": 21,
    "start_time": "2023-04-16T20:40:29.815Z"
   },
   {
    "duration": 19,
    "start_time": "2023-04-16T20:40:30.213Z"
   },
   {
    "duration": 24,
    "start_time": "2023-04-16T20:40:36.859Z"
   },
   {
    "duration": 20,
    "start_time": "2023-04-16T20:40:37.646Z"
   },
   {
    "duration": 25,
    "start_time": "2023-04-16T20:40:51.532Z"
   },
   {
    "duration": 25,
    "start_time": "2023-04-16T20:40:51.933Z"
   },
   {
    "duration": 4,
    "start_time": "2023-04-16T20:41:00.812Z"
   },
   {
    "duration": 825,
    "start_time": "2023-04-16T20:41:00.819Z"
   },
   {
    "duration": 23,
    "start_time": "2023-04-16T20:41:01.646Z"
   },
   {
    "duration": 60,
    "start_time": "2023-04-16T20:41:01.671Z"
   },
   {
    "duration": 50,
    "start_time": "2023-04-16T20:41:01.733Z"
   },
   {
    "duration": 65,
    "start_time": "2023-04-16T20:41:01.785Z"
   },
   {
    "duration": 33,
    "start_time": "2023-04-16T20:41:01.852Z"
   },
   {
    "duration": 40,
    "start_time": "2023-04-16T20:41:01.887Z"
   },
   {
    "duration": 47,
    "start_time": "2023-04-16T20:41:01.929Z"
   },
   {
    "duration": 87,
    "start_time": "2023-04-16T20:41:01.978Z"
   },
   {
    "duration": 14,
    "start_time": "2023-04-16T20:41:02.069Z"
   },
   {
    "duration": 40,
    "start_time": "2023-04-16T20:41:02.085Z"
   },
   {
    "duration": 32,
    "start_time": "2023-04-16T20:41:02.127Z"
   },
   {
    "duration": 44,
    "start_time": "2023-04-16T20:41:02.162Z"
   },
   {
    "duration": 24,
    "start_time": "2023-04-16T20:41:02.208Z"
   },
   {
    "duration": 89,
    "start_time": "2023-04-16T20:41:02.234Z"
   },
   {
    "duration": 27,
    "start_time": "2023-04-16T20:41:02.325Z"
   },
   {
    "duration": 38,
    "start_time": "2023-04-16T20:41:02.354Z"
   },
   {
    "duration": 70,
    "start_time": "2023-04-16T20:41:02.394Z"
   },
   {
    "duration": 15,
    "start_time": "2023-04-16T20:41:02.466Z"
   },
   {
    "duration": 12,
    "start_time": "2023-04-16T20:41:02.483Z"
   },
   {
    "duration": 21,
    "start_time": "2023-04-16T20:41:02.496Z"
   },
   {
    "duration": 37,
    "start_time": "2023-04-16T20:41:02.520Z"
   },
   {
    "duration": 36,
    "start_time": "2023-04-16T20:41:02.560Z"
   },
   {
    "duration": 3,
    "start_time": "2023-04-16T20:41:02.598Z"
   },
   {
    "duration": 47,
    "start_time": "2023-04-16T20:41:02.603Z"
   },
   {
    "duration": 48,
    "start_time": "2023-04-16T20:41:02.652Z"
   },
   {
    "duration": 141,
    "start_time": "2023-04-16T20:41:02.702Z"
   },
   {
    "duration": 24,
    "start_time": "2023-04-16T20:41:02.846Z"
   },
   {
    "duration": 28,
    "start_time": "2023-04-16T20:41:02.872Z"
   },
   {
    "duration": 57,
    "start_time": "2023-04-16T20:41:02.902Z"
   },
   {
    "duration": 133,
    "start_time": "2023-04-16T20:41:43.511Z"
   },
   {
    "duration": 22,
    "start_time": "2023-04-16T20:42:32.727Z"
   },
   {
    "duration": 19,
    "start_time": "2023-04-16T20:44:54.907Z"
   },
   {
    "duration": 19,
    "start_time": "2023-04-16T20:45:01.805Z"
   },
   {
    "duration": 21,
    "start_time": "2023-04-16T20:45:30.296Z"
   },
   {
    "duration": 129,
    "start_time": "2023-04-16T20:45:40.079Z"
   },
   {
    "duration": 23,
    "start_time": "2023-04-16T20:48:48.698Z"
   },
   {
    "duration": 7,
    "start_time": "2023-04-16T20:51:45.577Z"
   },
   {
    "duration": 16,
    "start_time": "2023-04-16T20:52:00.545Z"
   },
   {
    "duration": 12,
    "start_time": "2023-04-16T20:52:45.430Z"
   },
   {
    "duration": 13,
    "start_time": "2023-04-16T20:52:56.040Z"
   },
   {
    "duration": 11,
    "start_time": "2023-04-16T20:53:09.204Z"
   },
   {
    "duration": 11,
    "start_time": "2023-04-16T20:53:19.241Z"
   },
   {
    "duration": 9,
    "start_time": "2023-04-16T20:53:24.100Z"
   },
   {
    "duration": 25,
    "start_time": "2023-04-16T20:53:40.848Z"
   },
   {
    "duration": 20,
    "start_time": "2023-04-16T20:54:20.681Z"
   },
   {
    "duration": 25,
    "start_time": "2023-04-16T20:55:15.813Z"
   },
   {
    "duration": 31,
    "start_time": "2023-04-16T20:55:58.621Z"
   },
   {
    "duration": 5,
    "start_time": "2023-04-16T20:56:04.906Z"
   },
   {
    "duration": 907,
    "start_time": "2023-04-16T20:56:04.916Z"
   },
   {
    "duration": 28,
    "start_time": "2023-04-16T20:56:05.826Z"
   },
   {
    "duration": 26,
    "start_time": "2023-04-16T20:56:05.856Z"
   },
   {
    "duration": 35,
    "start_time": "2023-04-16T20:56:05.884Z"
   },
   {
    "duration": 38,
    "start_time": "2023-04-16T20:56:05.943Z"
   },
   {
    "duration": 41,
    "start_time": "2023-04-16T20:56:05.984Z"
   },
   {
    "duration": 36,
    "start_time": "2023-04-16T20:56:06.028Z"
   },
   {
    "duration": 24,
    "start_time": "2023-04-16T20:56:06.066Z"
   },
   {
    "duration": 30,
    "start_time": "2023-04-16T20:56:06.093Z"
   },
   {
    "duration": 35,
    "start_time": "2023-04-16T20:56:06.125Z"
   },
   {
    "duration": 30,
    "start_time": "2023-04-16T20:56:06.163Z"
   },
   {
    "duration": 17,
    "start_time": "2023-04-16T20:56:06.195Z"
   },
   {
    "duration": 27,
    "start_time": "2023-04-16T20:56:06.215Z"
   },
   {
    "duration": 12,
    "start_time": "2023-04-16T20:56:06.247Z"
   },
   {
    "duration": 87,
    "start_time": "2023-04-16T20:56:06.261Z"
   },
   {
    "duration": 26,
    "start_time": "2023-04-16T20:56:06.350Z"
   },
   {
    "duration": 25,
    "start_time": "2023-04-16T20:56:06.379Z"
   },
   {
    "duration": 48,
    "start_time": "2023-04-16T20:56:06.407Z"
   },
   {
    "duration": 17,
    "start_time": "2023-04-16T20:56:06.458Z"
   },
   {
    "duration": 12,
    "start_time": "2023-04-16T20:56:06.478Z"
   },
   {
    "duration": 12,
    "start_time": "2023-04-16T20:56:06.493Z"
   },
   {
    "duration": 18,
    "start_time": "2023-04-16T20:56:06.543Z"
   },
   {
    "duration": 43,
    "start_time": "2023-04-16T20:56:06.564Z"
   },
   {
    "duration": 23,
    "start_time": "2023-04-16T20:56:06.609Z"
   },
   {
    "duration": 40,
    "start_time": "2023-04-16T20:56:06.635Z"
   },
   {
    "duration": 55,
    "start_time": "2023-04-16T20:56:06.678Z"
   },
   {
    "duration": 145,
    "start_time": "2023-04-16T20:56:06.736Z"
   },
   {
    "duration": 21,
    "start_time": "2023-04-16T20:56:06.884Z"
   },
   {
    "duration": 54,
    "start_time": "2023-04-16T20:56:06.907Z"
   },
   {
    "duration": 137,
    "start_time": "2023-04-16T20:56:06.963Z"
   },
   {
    "duration": 40,
    "start_time": "2023-04-16T20:56:07.102Z"
   },
   {
    "duration": 39,
    "start_time": "2023-04-16T20:56:07.144Z"
   },
   {
    "duration": 156,
    "start_time": "2023-04-16T20:56:07.185Z"
   },
   {
    "duration": 22,
    "start_time": "2023-04-16T20:56:07.344Z"
   },
   {
    "duration": 23,
    "start_time": "2023-04-16T20:56:07.368Z"
   },
   {
    "duration": 25,
    "start_time": "2023-04-16T20:56:30.036Z"
   },
   {
    "duration": 19,
    "start_time": "2023-04-16T20:56:37.677Z"
   },
   {
    "duration": 6,
    "start_time": "2023-04-16T20:57:15.217Z"
   },
   {
    "duration": 824,
    "start_time": "2023-04-16T20:57:15.226Z"
   },
   {
    "duration": 23,
    "start_time": "2023-04-16T20:57:16.052Z"
   },
   {
    "duration": 178,
    "start_time": "2023-04-16T20:57:16.076Z"
   },
   {
    "duration": 23,
    "start_time": "2023-04-16T20:57:16.258Z"
   },
   {
    "duration": 23,
    "start_time": "2023-04-16T20:57:16.284Z"
   },
   {
    "duration": 50,
    "start_time": "2023-04-16T20:57:16.310Z"
   },
   {
    "duration": 32,
    "start_time": "2023-04-16T20:57:16.363Z"
   },
   {
    "duration": 7,
    "start_time": "2023-04-16T20:57:16.397Z"
   },
   {
    "duration": 24,
    "start_time": "2023-04-16T20:57:16.406Z"
   },
   {
    "duration": 20,
    "start_time": "2023-04-16T20:57:16.433Z"
   },
   {
    "duration": 16,
    "start_time": "2023-04-16T20:57:16.455Z"
   },
   {
    "duration": 29,
    "start_time": "2023-04-16T20:57:16.475Z"
   },
   {
    "duration": 9,
    "start_time": "2023-04-16T20:57:16.505Z"
   },
   {
    "duration": 32,
    "start_time": "2023-04-16T20:57:16.516Z"
   },
   {
    "duration": 85,
    "start_time": "2023-04-16T20:57:16.550Z"
   },
   {
    "duration": 34,
    "start_time": "2023-04-16T20:57:16.638Z"
   },
   {
    "duration": 35,
    "start_time": "2023-04-16T20:57:16.674Z"
   },
   {
    "duration": 45,
    "start_time": "2023-04-16T20:57:16.711Z"
   },
   {
    "duration": 12,
    "start_time": "2023-04-16T20:57:16.758Z"
   },
   {
    "duration": 36,
    "start_time": "2023-04-16T20:57:16.774Z"
   },
   {
    "duration": 8,
    "start_time": "2023-04-16T20:57:16.812Z"
   },
   {
    "duration": 33,
    "start_time": "2023-04-16T20:57:16.822Z"
   },
   {
    "duration": 31,
    "start_time": "2023-04-16T20:57:16.857Z"
   },
   {
    "duration": 12,
    "start_time": "2023-04-16T20:57:16.890Z"
   },
   {
    "duration": 15,
    "start_time": "2023-04-16T20:57:16.904Z"
   },
   {
    "duration": 49,
    "start_time": "2023-04-16T20:57:16.921Z"
   },
   {
    "duration": 151,
    "start_time": "2023-04-16T20:57:16.972Z"
   },
   {
    "duration": 29,
    "start_time": "2023-04-16T20:57:17.124Z"
   },
   {
    "duration": 22,
    "start_time": "2023-04-16T20:57:17.155Z"
   },
   {
    "duration": 167,
    "start_time": "2023-04-16T20:57:17.179Z"
   },
   {
    "duration": 20,
    "start_time": "2023-04-16T20:57:17.348Z"
   },
   {
    "duration": 23,
    "start_time": "2023-04-16T20:57:17.370Z"
   },
   {
    "duration": 173,
    "start_time": "2023-04-16T20:57:17.396Z"
   },
   {
    "duration": 22,
    "start_time": "2023-04-16T20:57:17.571Z"
   },
   {
    "duration": 50,
    "start_time": "2023-04-16T20:57:17.594Z"
   },
   {
    "duration": 22,
    "start_time": "2023-04-16T20:57:17.649Z"
   },
   {
    "duration": 3744,
    "start_time": "2023-04-16T20:57:17.673Z"
   },
   {
    "duration": 18,
    "start_time": "2023-04-16T20:58:05.600Z"
   },
   {
    "duration": 297,
    "start_time": "2023-04-16T21:05:59.863Z"
   },
   {
    "duration": 11,
    "start_time": "2023-04-16T21:06:09.926Z"
   },
   {
    "duration": 122,
    "start_time": "2023-04-16T21:06:10.550Z"
   },
   {
    "duration": 5,
    "start_time": "2023-04-16T21:15:02.331Z"
   },
   {
    "duration": 4,
    "start_time": "2023-04-16T21:15:26.345Z"
   },
   {
    "duration": 1237,
    "start_time": "2023-04-16T21:29:22.013Z"
   },
   {
    "duration": 6,
    "start_time": "2023-04-16T21:32:06.917Z"
   },
   {
    "duration": 785,
    "start_time": "2023-04-16T21:32:06.925Z"
   },
   {
    "duration": 33,
    "start_time": "2023-04-16T21:32:07.712Z"
   },
   {
    "duration": 52,
    "start_time": "2023-04-16T21:32:07.748Z"
   },
   {
    "duration": 38,
    "start_time": "2023-04-16T21:32:07.804Z"
   },
   {
    "duration": 28,
    "start_time": "2023-04-16T21:32:07.845Z"
   },
   {
    "duration": 28,
    "start_time": "2023-04-16T21:32:07.876Z"
   },
   {
    "duration": 52,
    "start_time": "2023-04-16T21:32:07.906Z"
   },
   {
    "duration": 8,
    "start_time": "2023-04-16T21:32:07.961Z"
   },
   {
    "duration": 8,
    "start_time": "2023-04-16T21:32:07.971Z"
   },
   {
    "duration": 13,
    "start_time": "2023-04-16T21:32:07.981Z"
   },
   {
    "duration": 52,
    "start_time": "2023-04-16T21:32:07.996Z"
   },
   {
    "duration": 9,
    "start_time": "2023-04-16T21:32:08.050Z"
   },
   {
    "duration": 18,
    "start_time": "2023-04-16T21:32:08.063Z"
   },
   {
    "duration": 15,
    "start_time": "2023-04-16T21:32:08.084Z"
   },
   {
    "duration": 86,
    "start_time": "2023-04-16T21:32:08.102Z"
   },
   {
    "duration": 22,
    "start_time": "2023-04-16T21:32:08.190Z"
   },
   {
    "duration": 34,
    "start_time": "2023-04-16T21:32:08.214Z"
   },
   {
    "duration": 32,
    "start_time": "2023-04-16T21:32:08.250Z"
   },
   {
    "duration": 22,
    "start_time": "2023-04-16T21:32:08.283Z"
   },
   {
    "duration": 37,
    "start_time": "2023-04-16T21:32:08.307Z"
   },
   {
    "duration": 19,
    "start_time": "2023-04-16T21:32:08.346Z"
   },
   {
    "duration": 19,
    "start_time": "2023-04-16T21:32:08.367Z"
   },
   {
    "duration": 39,
    "start_time": "2023-04-16T21:32:08.388Z"
   },
   {
    "duration": 13,
    "start_time": "2023-04-16T21:32:08.429Z"
   },
   {
    "duration": 24,
    "start_time": "2023-04-16T21:32:08.444Z"
   },
   {
    "duration": 31,
    "start_time": "2023-04-16T21:32:08.470Z"
   },
   {
    "duration": 157,
    "start_time": "2023-04-16T21:32:08.503Z"
   },
   {
    "duration": 19,
    "start_time": "2023-04-16T21:32:08.662Z"
   },
   {
    "duration": 26,
    "start_time": "2023-04-16T21:32:08.683Z"
   },
   {
    "duration": 299,
    "start_time": "2023-04-16T21:32:08.711Z"
   },
   {
    "duration": 30,
    "start_time": "2023-04-16T21:32:09.013Z"
   },
   {
    "duration": 24,
    "start_time": "2023-04-16T21:32:09.045Z"
   },
   {
    "duration": 175,
    "start_time": "2023-04-16T21:32:09.072Z"
   },
   {
    "duration": 23,
    "start_time": "2023-04-16T21:32:09.249Z"
   },
   {
    "duration": 25,
    "start_time": "2023-04-16T21:32:09.275Z"
   },
   {
    "duration": 49,
    "start_time": "2023-04-16T21:32:09.301Z"
   },
   {
    "duration": 4232,
    "start_time": "2023-04-16T21:32:09.353Z"
   },
   {
    "duration": 409,
    "start_time": "2023-04-16T21:32:13.588Z"
   },
   {
    "duration": 12,
    "start_time": "2023-04-16T21:32:13.999Z"
   },
   {
    "duration": 152,
    "start_time": "2023-04-16T21:32:14.015Z"
   },
   {
    "duration": 4,
    "start_time": "2023-04-16T21:32:14.169Z"
   },
   {
    "duration": 12,
    "start_time": "2023-04-16T21:36:03.168Z"
   },
   {
    "duration": 7,
    "start_time": "2023-04-16T21:36:14.384Z"
   },
   {
    "duration": 31,
    "start_time": "2023-04-16T21:36:22.223Z"
   },
   {
    "duration": 10,
    "start_time": "2023-04-16T21:36:28.157Z"
   },
   {
    "duration": 47,
    "start_time": "2023-04-16T21:36:30.170Z"
   },
   {
    "duration": 20,
    "start_time": "2023-04-16T21:37:26.669Z"
   },
   {
    "duration": 11,
    "start_time": "2023-04-16T21:37:34.231Z"
   },
   {
    "duration": 11,
    "start_time": "2023-04-16T21:37:53.346Z"
   },
   {
    "duration": 27,
    "start_time": "2023-04-16T21:37:54.727Z"
   },
   {
    "duration": 19,
    "start_time": "2023-04-16T21:37:56.449Z"
   },
   {
    "duration": 11,
    "start_time": "2023-04-16T21:38:26.823Z"
   },
   {
    "duration": 46,
    "start_time": "2023-04-16T21:39:49.645Z"
   },
   {
    "duration": 12,
    "start_time": "2023-04-16T21:39:56.773Z"
   },
   {
    "duration": 4,
    "start_time": "2023-04-16T21:40:09.829Z"
   },
   {
    "duration": 825,
    "start_time": "2023-04-16T21:40:09.840Z"
   },
   {
    "duration": 25,
    "start_time": "2023-04-16T21:40:10.668Z"
   },
   {
    "duration": 34,
    "start_time": "2023-04-16T21:40:10.695Z"
   },
   {
    "duration": 27,
    "start_time": "2023-04-16T21:40:10.740Z"
   },
   {
    "duration": 33,
    "start_time": "2023-04-16T21:40:10.770Z"
   },
   {
    "duration": 38,
    "start_time": "2023-04-16T21:40:10.805Z"
   },
   {
    "duration": 15,
    "start_time": "2023-04-16T21:40:10.844Z"
   },
   {
    "duration": 21,
    "start_time": "2023-04-16T21:40:10.862Z"
   },
   {
    "duration": 22,
    "start_time": "2023-04-16T21:40:10.885Z"
   },
   {
    "duration": 18,
    "start_time": "2023-04-16T21:40:10.908Z"
   },
   {
    "duration": 8,
    "start_time": "2023-04-16T21:40:10.940Z"
   },
   {
    "duration": 27,
    "start_time": "2023-04-16T21:40:10.949Z"
   },
   {
    "duration": 8,
    "start_time": "2023-04-16T21:40:10.978Z"
   },
   {
    "duration": 8,
    "start_time": "2023-04-16T21:40:10.989Z"
   },
   {
    "duration": 50,
    "start_time": "2023-04-16T21:40:10.999Z"
   },
   {
    "duration": 35,
    "start_time": "2023-04-16T21:40:11.051Z"
   },
   {
    "duration": 25,
    "start_time": "2023-04-16T21:40:11.088Z"
   },
   {
    "duration": 14,
    "start_time": "2023-04-16T21:40:11.141Z"
   },
   {
    "duration": 25,
    "start_time": "2023-04-16T21:40:11.157Z"
   },
   {
    "duration": 63,
    "start_time": "2023-04-16T21:40:11.184Z"
   },
   {
    "duration": 11,
    "start_time": "2023-04-16T21:40:11.250Z"
   },
   {
    "duration": 18,
    "start_time": "2023-04-16T21:40:11.264Z"
   },
   {
    "duration": 19,
    "start_time": "2023-04-16T21:40:11.285Z"
   },
   {
    "duration": 49,
    "start_time": "2023-04-16T21:40:11.307Z"
   },
   {
    "duration": 3,
    "start_time": "2023-04-16T21:40:11.358Z"
   },
   {
    "duration": 14,
    "start_time": "2023-04-16T21:40:11.364Z"
   },
   {
    "duration": 45,
    "start_time": "2023-04-16T21:40:11.380Z"
   },
   {
    "duration": 148,
    "start_time": "2023-04-16T21:40:11.427Z"
   },
   {
    "duration": 19,
    "start_time": "2023-04-16T21:40:11.577Z"
   },
   {
    "duration": 65,
    "start_time": "2023-04-16T21:40:11.598Z"
   },
   {
    "duration": 143,
    "start_time": "2023-04-16T21:40:11.665Z"
   },
   {
    "duration": 36,
    "start_time": "2023-04-16T21:40:11.810Z"
   },
   {
    "duration": 29,
    "start_time": "2023-04-16T21:40:11.849Z"
   },
   {
    "duration": 172,
    "start_time": "2023-04-16T21:40:11.880Z"
   },
   {
    "duration": 24,
    "start_time": "2023-04-16T21:40:12.055Z"
   },
   {
    "duration": 22,
    "start_time": "2023-04-16T21:40:12.081Z"
   },
   {
    "duration": 199,
    "start_time": "2023-04-16T21:40:12.105Z"
   },
   {
    "duration": 3790,
    "start_time": "2023-04-16T21:40:12.306Z"
   },
   {
    "duration": 340,
    "start_time": "2023-04-16T21:40:16.098Z"
   },
   {
    "duration": 16,
    "start_time": "2023-04-16T21:40:16.442Z"
   },
   {
    "duration": 193,
    "start_time": "2023-04-16T21:40:16.463Z"
   },
   {
    "duration": 5,
    "start_time": "2023-04-16T21:40:16.659Z"
   },
   {
    "duration": 31,
    "start_time": "2023-04-16T21:40:16.666Z"
   },
   {
    "duration": 66,
    "start_time": "2023-04-16T21:40:16.700Z"
   },
   {
    "duration": 21,
    "start_time": "2023-04-16T21:40:16.768Z"
   },
   {
    "duration": 8,
    "start_time": "2023-04-16T21:43:44.921Z"
   },
   {
    "duration": 20,
    "start_time": "2023-04-16T21:43:53.201Z"
   },
   {
    "duration": 9,
    "start_time": "2023-04-16T21:44:20.808Z"
   },
   {
    "duration": 16,
    "start_time": "2023-04-16T21:44:22.929Z"
   },
   {
    "duration": 15,
    "start_time": "2023-04-16T21:44:27.636Z"
   },
   {
    "duration": 8,
    "start_time": "2023-04-16T21:44:29.796Z"
   },
   {
    "duration": 20,
    "start_time": "2023-04-16T21:44:30.295Z"
   },
   {
    "duration": 13,
    "start_time": "2023-04-16T21:44:44.269Z"
   },
   {
    "duration": 283,
    "start_time": "2023-04-16T21:45:34.196Z"
   },
   {
    "duration": 43,
    "start_time": "2023-04-16T21:51:37.267Z"
   },
   {
    "duration": 26,
    "start_time": "2023-04-16T21:52:12.143Z"
   },
   {
    "duration": 6,
    "start_time": "2023-04-16T21:52:16.419Z"
   },
   {
    "duration": 15,
    "start_time": "2023-04-16T21:52:52.105Z"
   },
   {
    "duration": 11,
    "start_time": "2023-04-16T21:52:56.135Z"
   },
   {
    "duration": 5,
    "start_time": "2023-04-16T21:53:04.744Z"
   },
   {
    "duration": 787,
    "start_time": "2023-04-16T21:53:04.753Z"
   },
   {
    "duration": 24,
    "start_time": "2023-04-16T21:53:05.542Z"
   },
   {
    "duration": 34,
    "start_time": "2023-04-16T21:53:05.569Z"
   },
   {
    "duration": 37,
    "start_time": "2023-04-16T21:53:05.606Z"
   },
   {
    "duration": 46,
    "start_time": "2023-04-16T21:53:05.645Z"
   },
   {
    "duration": 35,
    "start_time": "2023-04-16T21:53:05.693Z"
   },
   {
    "duration": 27,
    "start_time": "2023-04-16T21:53:05.730Z"
   },
   {
    "duration": 8,
    "start_time": "2023-04-16T21:53:05.759Z"
   },
   {
    "duration": 32,
    "start_time": "2023-04-16T21:53:05.769Z"
   },
   {
    "duration": 34,
    "start_time": "2023-04-16T21:53:05.803Z"
   },
   {
    "duration": 17,
    "start_time": "2023-04-16T21:53:05.840Z"
   },
   {
    "duration": 48,
    "start_time": "2023-04-16T21:53:05.861Z"
   },
   {
    "duration": 17,
    "start_time": "2023-04-16T21:53:05.912Z"
   },
   {
    "duration": 20,
    "start_time": "2023-04-16T21:53:05.931Z"
   },
   {
    "duration": 31,
    "start_time": "2023-04-16T21:53:05.953Z"
   },
   {
    "duration": 82,
    "start_time": "2023-04-16T21:53:05.987Z"
   },
   {
    "duration": 30,
    "start_time": "2023-04-16T21:53:06.071Z"
   },
   {
    "duration": 42,
    "start_time": "2023-04-16T21:53:06.104Z"
   },
   {
    "duration": 31,
    "start_time": "2023-04-16T21:53:06.149Z"
   },
   {
    "duration": 28,
    "start_time": "2023-04-16T21:53:06.182Z"
   },
   {
    "duration": 30,
    "start_time": "2023-04-16T21:53:06.212Z"
   },
   {
    "duration": 13,
    "start_time": "2023-04-16T21:53:06.244Z"
   },
   {
    "duration": 36,
    "start_time": "2023-04-16T21:53:06.259Z"
   },
   {
    "duration": 26,
    "start_time": "2023-04-16T21:53:06.297Z"
   },
   {
    "duration": 33,
    "start_time": "2023-04-16T21:53:06.325Z"
   },
   {
    "duration": 33,
    "start_time": "2023-04-16T21:53:06.360Z"
   },
   {
    "duration": 33,
    "start_time": "2023-04-16T21:53:06.395Z"
   },
   {
    "duration": 149,
    "start_time": "2023-04-16T21:53:06.431Z"
   },
   {
    "duration": 27,
    "start_time": "2023-04-16T21:53:06.581Z"
   },
   {
    "duration": 49,
    "start_time": "2023-04-16T21:53:06.610Z"
   },
   {
    "duration": 197,
    "start_time": "2023-04-16T21:53:06.665Z"
   },
   {
    "duration": 23,
    "start_time": "2023-04-16T21:53:06.863Z"
   },
   {
    "duration": 20,
    "start_time": "2023-04-16T21:53:06.888Z"
   },
   {
    "duration": 180,
    "start_time": "2023-04-16T21:53:06.911Z"
   },
   {
    "duration": 20,
    "start_time": "2023-04-16T21:53:07.094Z"
   },
   {
    "duration": 26,
    "start_time": "2023-04-16T21:53:07.140Z"
   },
   {
    "duration": 233,
    "start_time": "2023-04-16T21:53:07.169Z"
   },
   {
    "duration": 3751,
    "start_time": "2023-04-16T21:53:07.404Z"
   },
   {
    "duration": 303,
    "start_time": "2023-04-16T21:53:11.157Z"
   },
   {
    "duration": 11,
    "start_time": "2023-04-16T21:53:11.462Z"
   },
   {
    "duration": 158,
    "start_time": "2023-04-16T21:53:11.475Z"
   },
   {
    "duration": 5,
    "start_time": "2023-04-16T21:53:11.642Z"
   },
   {
    "duration": 33,
    "start_time": "2023-04-16T21:53:11.649Z"
   },
   {
    "duration": 30,
    "start_time": "2023-04-16T21:53:11.687Z"
   },
   {
    "duration": 19,
    "start_time": "2023-04-16T21:53:11.719Z"
   },
   {
    "duration": 24,
    "start_time": "2023-04-16T21:53:11.740Z"
   },
   {
    "duration": 3,
    "start_time": "2023-04-16T21:53:19.532Z"
   },
   {
    "duration": 6,
    "start_time": "2023-04-16T21:53:20.902Z"
   },
   {
    "duration": 4,
    "start_time": "2023-04-16T21:53:33.007Z"
   },
   {
    "duration": 6,
    "start_time": "2023-04-16T21:53:36.911Z"
   },
   {
    "duration": 19,
    "start_time": "2023-04-16T21:54:25.905Z"
   },
   {
    "duration": 12,
    "start_time": "2023-04-16T21:54:49.530Z"
   },
   {
    "duration": 11,
    "start_time": "2023-04-16T21:55:49.927Z"
   },
   {
    "duration": 13,
    "start_time": "2023-04-16T21:55:54.680Z"
   },
   {
    "duration": 3,
    "start_time": "2023-04-16T21:58:00.812Z"
   },
   {
    "duration": 11,
    "start_time": "2023-04-16T21:58:12.748Z"
   },
   {
    "duration": 4,
    "start_time": "2023-04-16T21:58:18.032Z"
   },
   {
    "duration": 761,
    "start_time": "2023-04-16T21:58:18.038Z"
   },
   {
    "duration": 22,
    "start_time": "2023-04-16T21:58:18.801Z"
   },
   {
    "duration": 29,
    "start_time": "2023-04-16T21:58:18.826Z"
   },
   {
    "duration": 23,
    "start_time": "2023-04-16T21:58:18.856Z"
   },
   {
    "duration": 60,
    "start_time": "2023-04-16T21:58:18.881Z"
   },
   {
    "duration": 22,
    "start_time": "2023-04-16T21:58:18.944Z"
   },
   {
    "duration": 16,
    "start_time": "2023-04-16T21:58:18.968Z"
   },
   {
    "duration": 5,
    "start_time": "2023-04-16T21:58:18.986Z"
   },
   {
    "duration": 17,
    "start_time": "2023-04-16T21:58:18.994Z"
   },
   {
    "duration": 43,
    "start_time": "2023-04-16T21:58:19.013Z"
   },
   {
    "duration": 6,
    "start_time": "2023-04-16T21:58:19.058Z"
   },
   {
    "duration": 17,
    "start_time": "2023-04-16T21:58:19.066Z"
   },
   {
    "duration": 9,
    "start_time": "2023-04-16T21:58:19.085Z"
   },
   {
    "duration": 51,
    "start_time": "2023-04-16T21:58:19.096Z"
   },
   {
    "duration": 10,
    "start_time": "2023-04-16T21:58:19.150Z"
   },
   {
    "duration": 48,
    "start_time": "2023-04-16T21:58:19.163Z"
   },
   {
    "duration": 44,
    "start_time": "2023-04-16T21:58:19.213Z"
   },
   {
    "duration": 27,
    "start_time": "2023-04-16T21:58:19.259Z"
   },
   {
    "duration": 28,
    "start_time": "2023-04-16T21:58:19.288Z"
   },
   {
    "duration": 36,
    "start_time": "2023-04-16T21:58:19.317Z"
   },
   {
    "duration": 10,
    "start_time": "2023-04-16T21:58:19.355Z"
   },
   {
    "duration": 7,
    "start_time": "2023-04-16T21:58:19.367Z"
   },
   {
    "duration": 20,
    "start_time": "2023-04-16T21:58:19.376Z"
   },
   {
    "duration": 60,
    "start_time": "2023-04-16T21:58:19.399Z"
   },
   {
    "duration": 15,
    "start_time": "2023-04-16T21:58:19.462Z"
   },
   {
    "duration": 19,
    "start_time": "2023-04-16T21:58:19.479Z"
   },
   {
    "duration": 22,
    "start_time": "2023-04-16T21:58:19.503Z"
   },
   {
    "duration": 145,
    "start_time": "2023-04-16T21:58:19.527Z"
   },
   {
    "duration": 21,
    "start_time": "2023-04-16T21:58:19.673Z"
   },
   {
    "duration": 53,
    "start_time": "2023-04-16T21:58:19.696Z"
   },
   {
    "duration": 142,
    "start_time": "2023-04-16T21:58:19.751Z"
   },
   {
    "duration": 19,
    "start_time": "2023-04-16T21:58:19.895Z"
   },
   {
    "duration": 40,
    "start_time": "2023-04-16T21:58:19.916Z"
   },
   {
    "duration": 154,
    "start_time": "2023-04-16T21:58:19.958Z"
   },
   {
    "duration": 32,
    "start_time": "2023-04-16T21:58:20.114Z"
   },
   {
    "duration": 26,
    "start_time": "2023-04-16T21:58:20.148Z"
   },
   {
    "duration": 23,
    "start_time": "2023-04-16T21:58:20.176Z"
   },
   {
    "duration": 4242,
    "start_time": "2023-04-16T21:58:20.202Z"
   },
   {
    "duration": 472,
    "start_time": "2023-04-16T21:58:24.446Z"
   },
   {
    "duration": 21,
    "start_time": "2023-04-16T21:58:24.920Z"
   },
   {
    "duration": 133,
    "start_time": "2023-04-16T21:58:24.943Z"
   },
   {
    "duration": 5,
    "start_time": "2023-04-16T21:58:25.078Z"
   },
   {
    "duration": 20,
    "start_time": "2023-04-16T21:58:25.084Z"
   },
   {
    "duration": 36,
    "start_time": "2023-04-16T21:58:25.106Z"
   },
   {
    "duration": 22,
    "start_time": "2023-04-16T21:58:25.144Z"
   },
   {
    "duration": 9,
    "start_time": "2023-04-16T21:58:25.169Z"
   },
   {
    "duration": 5,
    "start_time": "2023-04-16T21:58:38.859Z"
   },
   {
    "duration": 47,
    "start_time": "2023-04-16T21:58:40.339Z"
   },
   {
    "duration": 50,
    "start_time": "2023-04-16T21:58:41.508Z"
   },
   {
    "duration": 28,
    "start_time": "2023-04-16T21:58:53.758Z"
   },
   {
    "duration": 6,
    "start_time": "2023-04-16T22:05:56.054Z"
   },
   {
    "duration": 10,
    "start_time": "2023-04-16T22:07:20.496Z"
   },
   {
    "duration": 24,
    "start_time": "2023-04-16T22:07:23.336Z"
   },
   {
    "duration": 21,
    "start_time": "2023-04-16T22:07:27.678Z"
   },
   {
    "duration": 8,
    "start_time": "2023-04-16T22:07:36.815Z"
   },
   {
    "duration": 5,
    "start_time": "2023-04-16T22:07:56.282Z"
   },
   {
    "duration": 841,
    "start_time": "2023-04-16T22:07:56.289Z"
   },
   {
    "duration": 24,
    "start_time": "2023-04-16T22:07:57.133Z"
   },
   {
    "duration": 20,
    "start_time": "2023-04-16T22:07:57.159Z"
   },
   {
    "duration": 27,
    "start_time": "2023-04-16T22:07:57.182Z"
   },
   {
    "duration": 24,
    "start_time": "2023-04-16T22:07:57.242Z"
   },
   {
    "duration": 26,
    "start_time": "2023-04-16T22:07:57.268Z"
   },
   {
    "duration": 49,
    "start_time": "2023-04-16T22:07:57.297Z"
   },
   {
    "duration": 8,
    "start_time": "2023-04-16T22:07:57.349Z"
   },
   {
    "duration": 12,
    "start_time": "2023-04-16T22:07:57.359Z"
   },
   {
    "duration": 15,
    "start_time": "2023-04-16T22:07:57.376Z"
   },
   {
    "duration": 10,
    "start_time": "2023-04-16T22:07:57.393Z"
   },
   {
    "duration": 11,
    "start_time": "2023-04-16T22:07:57.442Z"
   },
   {
    "duration": 12,
    "start_time": "2023-04-16T22:07:57.455Z"
   },
   {
    "duration": 7,
    "start_time": "2023-04-16T22:07:57.469Z"
   },
   {
    "duration": 29,
    "start_time": "2023-04-16T22:07:57.478Z"
   },
   {
    "duration": 68,
    "start_time": "2023-04-16T22:07:57.509Z"
   },
   {
    "duration": 27,
    "start_time": "2023-04-16T22:07:57.579Z"
   },
   {
    "duration": 39,
    "start_time": "2023-04-16T22:07:57.609Z"
   },
   {
    "duration": 26,
    "start_time": "2023-04-16T22:07:57.650Z"
   },
   {
    "duration": 16,
    "start_time": "2023-04-16T22:07:57.678Z"
   },
   {
    "duration": 46,
    "start_time": "2023-04-16T22:07:57.697Z"
   },
   {
    "duration": 9,
    "start_time": "2023-04-16T22:07:57.745Z"
   },
   {
    "duration": 46,
    "start_time": "2023-04-16T22:07:57.757Z"
   },
   {
    "duration": 36,
    "start_time": "2023-04-16T22:07:57.806Z"
   },
   {
    "duration": 13,
    "start_time": "2023-04-16T22:07:57.844Z"
   },
   {
    "duration": 40,
    "start_time": "2023-04-16T22:07:57.859Z"
   },
   {
    "duration": 40,
    "start_time": "2023-04-16T22:07:57.901Z"
   },
   {
    "duration": 155,
    "start_time": "2023-04-16T22:07:57.946Z"
   },
   {
    "duration": 22,
    "start_time": "2023-04-16T22:07:58.103Z"
   },
   {
    "duration": 31,
    "start_time": "2023-04-16T22:07:58.142Z"
   },
   {
    "duration": 198,
    "start_time": "2023-04-16T22:07:58.175Z"
   },
   {
    "duration": 25,
    "start_time": "2023-04-16T22:07:58.375Z"
   },
   {
    "duration": 46,
    "start_time": "2023-04-16T22:07:58.402Z"
   },
   {
    "duration": 150,
    "start_time": "2023-04-16T22:07:58.450Z"
   },
   {
    "duration": 38,
    "start_time": "2023-04-16T22:07:58.603Z"
   },
   {
    "duration": 27,
    "start_time": "2023-04-16T22:07:58.644Z"
   },
   {
    "duration": 31,
    "start_time": "2023-04-16T22:07:58.674Z"
   },
   {
    "duration": 3928,
    "start_time": "2023-04-16T22:07:58.707Z"
   },
   {
    "duration": 308,
    "start_time": "2023-04-16T22:08:02.637Z"
   },
   {
    "duration": 18,
    "start_time": "2023-04-16T22:08:02.948Z"
   },
   {
    "duration": 302,
    "start_time": "2023-04-16T22:08:02.969Z"
   },
   {
    "duration": 5,
    "start_time": "2023-04-16T22:08:03.273Z"
   },
   {
    "duration": 19,
    "start_time": "2023-04-16T22:08:03.280Z"
   },
   {
    "duration": 50,
    "start_time": "2023-04-16T22:08:03.302Z"
   },
   {
    "duration": 15,
    "start_time": "2023-04-16T22:08:03.354Z"
   },
   {
    "duration": 12,
    "start_time": "2023-04-16T22:08:03.372Z"
   },
   {
    "duration": 11,
    "start_time": "2023-04-16T22:08:03.386Z"
   },
   {
    "duration": 79,
    "start_time": "2023-04-16T22:08:03.400Z"
   },
   {
    "duration": 317,
    "start_time": "2023-04-16T22:09:22.223Z"
   },
   {
    "duration": 242,
    "start_time": "2023-04-16T22:09:34.310Z"
   },
   {
    "duration": 277,
    "start_time": "2023-04-16T22:09:36.064Z"
   },
   {
    "duration": 37501,
    "start_time": "2023-04-16T22:26:45.734Z"
   },
   {
    "duration": 52403,
    "start_time": "2023-04-16T22:27:23.237Z"
   },
   {
    "duration": 1106,
    "start_time": "2023-04-16T22:29:24.640Z"
   },
   {
    "duration": 37619,
    "start_time": "2023-04-16T22:29:46.556Z"
   },
   {
    "duration": 55135,
    "start_time": "2023-04-16T22:30:24.178Z"
   },
   {
    "duration": 50999,
    "start_time": "2023-04-16T22:33:39.325Z"
   },
   {
    "duration": 38475,
    "start_time": "2023-04-16T22:38:30.075Z"
   },
   {
    "duration": 16,
    "start_time": "2023-04-16T22:39:30.674Z"
   },
   {
    "duration": 4,
    "start_time": "2023-04-16T22:39:54.083Z"
   },
   {
    "duration": 16,
    "start_time": "2023-04-16T22:40:30.875Z"
   },
   {
    "duration": 15,
    "start_time": "2023-04-16T22:40:43.323Z"
   },
   {
    "duration": 526,
    "start_time": "2023-04-16T22:41:01.216Z"
   },
   {
    "duration": 1877238,
    "start_time": "2023-04-16T22:41:10.210Z"
   },
   {
    "duration": 0,
    "start_time": "2023-04-16T23:12:27.450Z"
   },
   {
    "duration": 18705,
    "start_time": "2023-04-16T23:12:58.395Z"
   },
   {
    "duration": 0,
    "start_time": "2023-04-16T23:13:17.103Z"
   },
   {
    "duration": 3277043,
    "start_time": "2023-04-16T23:13:31.868Z"
   },
   {
    "duration": 0,
    "start_time": "2023-04-17T00:08:08.914Z"
   },
   {
    "duration": 9419,
    "start_time": "2023-04-17T00:08:30.038Z"
   },
   {
    "duration": 6373,
    "start_time": "2023-04-17T00:08:44.984Z"
   },
   {
    "duration": 18418,
    "start_time": "2023-04-17T00:08:55.005Z"
   },
   {
    "duration": 502501,
    "start_time": "2023-04-17T00:09:19.193Z"
   },
   {
    "duration": 524,
    "start_time": "2023-04-17T00:19:09.562Z"
   },
   {
    "duration": 497500,
    "start_time": "2023-04-17T00:19:33.244Z"
   },
   {
    "duration": 189,
    "start_time": "2023-04-17T00:29:01.610Z"
   },
   {
    "duration": 15,
    "start_time": "2023-04-17T00:29:16.776Z"
   },
   {
    "duration": 184,
    "start_time": "2023-04-17T00:29:20.668Z"
   },
   {
    "duration": 159,
    "start_time": "2023-04-17T00:29:21.387Z"
   },
   {
    "duration": 11,
    "start_time": "2023-04-17T00:29:22.934Z"
   },
   {
    "duration": 3,
    "start_time": "2023-04-17T00:29:32.322Z"
   },
   {
    "duration": 4,
    "start_time": "2023-04-17T00:29:38.579Z"
   },
   {
    "duration": 4,
    "start_time": "2023-04-17T00:29:47.544Z"
   },
   {
    "duration": 4,
    "start_time": "2023-04-17T00:29:50.891Z"
   },
   {
    "duration": 4,
    "start_time": "2023-04-17T00:30:49.174Z"
   },
   {
    "duration": 5,
    "start_time": "2023-04-17T00:30:58.144Z"
   },
   {
    "duration": 5,
    "start_time": "2023-04-17T00:31:02.600Z"
   },
   {
    "duration": 129,
    "start_time": "2023-04-17T00:31:08.069Z"
   },
   {
    "duration": 4,
    "start_time": "2023-04-17T00:31:14.482Z"
   },
   {
    "duration": 5,
    "start_time": "2023-04-17T00:31:23.832Z"
   },
   {
    "duration": 499808,
    "start_time": "2023-04-17T00:31:32.709Z"
   },
   {
    "duration": 3,
    "start_time": "2023-04-17T00:39:52.520Z"
   },
   {
    "duration": 24,
    "start_time": "2023-04-17T00:39:52.524Z"
   },
   {
    "duration": 17,
    "start_time": "2023-04-17T00:39:52.550Z"
   },
   {
    "duration": 0,
    "start_time": "2023-04-17T00:39:52.569Z"
   },
   {
    "duration": 0,
    "start_time": "2023-04-17T00:39:52.571Z"
   },
   {
    "duration": 0,
    "start_time": "2023-04-17T00:39:52.572Z"
   },
   {
    "duration": 0,
    "start_time": "2023-04-17T00:39:52.574Z"
   },
   {
    "duration": 4,
    "start_time": "2023-04-17T00:40:12.155Z"
   },
   {
    "duration": 4,
    "start_time": "2023-04-17T00:40:51.420Z"
   },
   {
    "duration": 4,
    "start_time": "2023-04-17T00:41:00.380Z"
   },
   {
    "duration": 3,
    "start_time": "2023-04-17T00:41:01.163Z"
   },
   {
    "duration": 13,
    "start_time": "2023-04-17T00:41:01.939Z"
   },
   {
    "duration": 3,
    "start_time": "2023-04-17T00:41:32.119Z"
   },
   {
    "duration": 99906,
    "start_time": "2023-04-17T00:41:32.780Z"
   },
   {
    "duration": 99865,
    "start_time": "2023-04-17T00:43:12.689Z"
   },
   {
    "duration": 5,
    "start_time": "2023-04-17T00:44:52.555Z"
   },
   {
    "duration": 667679,
    "start_time": "2023-04-17T00:44:52.563Z"
   },
   {
    "duration": 0,
    "start_time": "2023-04-17T00:56:00.244Z"
   },
   {
    "duration": 4,
    "start_time": "2023-04-17T00:56:17.319Z"
   },
   {
    "duration": 796103,
    "start_time": "2023-04-17T00:56:25.183Z"
   },
   {
    "duration": 0,
    "start_time": "2023-04-17T01:09:41.289Z"
   },
   {
    "duration": 4,
    "start_time": "2023-04-17T01:09:50.092Z"
   },
   {
    "duration": 5,
    "start_time": "2023-04-17T01:09:50.773Z"
   },
   {
    "duration": 16289,
    "start_time": "2023-04-17T01:09:52.436Z"
   },
   {
    "duration": 0,
    "start_time": "2023-04-17T01:10:08.727Z"
   },
   {
    "duration": 0,
    "start_time": "2023-04-17T01:10:08.729Z"
   },
   {
    "duration": 0,
    "start_time": "2023-04-17T01:10:08.741Z"
   },
   {
    "duration": 0,
    "start_time": "2023-04-17T01:10:08.743Z"
   },
   {
    "duration": 4,
    "start_time": "2023-04-17T01:10:17.534Z"
   },
   {
    "duration": 5,
    "start_time": "2023-04-17T01:10:17.941Z"
   },
   {
    "duration": 18807,
    "start_time": "2023-04-17T01:10:18.337Z"
   },
   {
    "duration": 0,
    "start_time": "2023-04-17T01:10:37.146Z"
   },
   {
    "duration": 0,
    "start_time": "2023-04-17T01:10:37.147Z"
   },
   {
    "duration": 0,
    "start_time": "2023-04-17T01:10:37.148Z"
   },
   {
    "duration": 0,
    "start_time": "2023-04-17T01:10:37.150Z"
   },
   {
    "duration": 1826,
    "start_time": "2023-04-17T09:07:57.012Z"
   },
   {
    "duration": 3732,
    "start_time": "2023-04-17T09:07:58.840Z"
   },
   {
    "duration": 31,
    "start_time": "2023-04-17T09:08:02.575Z"
   },
   {
    "duration": 30,
    "start_time": "2023-04-17T09:08:02.609Z"
   },
   {
    "duration": 31,
    "start_time": "2023-04-17T09:08:02.641Z"
   },
   {
    "duration": 40,
    "start_time": "2023-04-17T09:08:02.674Z"
   },
   {
    "duration": 52,
    "start_time": "2023-04-17T09:08:02.716Z"
   },
   {
    "duration": 37,
    "start_time": "2023-04-17T09:08:02.770Z"
   },
   {
    "duration": 10,
    "start_time": "2023-04-17T09:08:02.810Z"
   },
   {
    "duration": 55,
    "start_time": "2023-04-17T09:08:02.824Z"
   },
   {
    "duration": 57,
    "start_time": "2023-04-17T09:08:02.880Z"
   },
   {
    "duration": 66,
    "start_time": "2023-04-17T09:08:02.938Z"
   },
   {
    "duration": 41,
    "start_time": "2023-04-17T09:08:03.006Z"
   },
   {
    "duration": 80,
    "start_time": "2023-04-17T09:08:03.049Z"
   },
   {
    "duration": 16,
    "start_time": "2023-04-17T09:08:03.132Z"
   },
   {
    "duration": 29,
    "start_time": "2023-04-17T09:08:03.150Z"
   },
   {
    "duration": 51,
    "start_time": "2023-04-17T09:08:03.181Z"
   },
   {
    "duration": 23,
    "start_time": "2023-04-17T09:08:03.234Z"
   },
   {
    "duration": 27,
    "start_time": "2023-04-17T09:08:03.259Z"
   },
   {
    "duration": 27,
    "start_time": "2023-04-17T09:08:03.288Z"
   },
   {
    "duration": 14,
    "start_time": "2023-04-17T09:08:03.316Z"
   },
   {
    "duration": 28,
    "start_time": "2023-04-17T09:08:03.333Z"
   },
   {
    "duration": 8,
    "start_time": "2023-04-17T09:08:03.362Z"
   },
   {
    "duration": 40,
    "start_time": "2023-04-17T09:08:03.371Z"
   },
   {
    "duration": 30,
    "start_time": "2023-04-17T09:08:03.413Z"
   },
   {
    "duration": 7,
    "start_time": "2023-04-17T09:08:03.445Z"
   },
   {
    "duration": 23,
    "start_time": "2023-04-17T09:08:03.454Z"
   },
   {
    "duration": 22,
    "start_time": "2023-04-17T09:08:03.481Z"
   },
   {
    "duration": 153,
    "start_time": "2023-04-17T09:08:03.504Z"
   },
   {
    "duration": 15,
    "start_time": "2023-04-17T09:08:03.659Z"
   },
   {
    "duration": 28,
    "start_time": "2023-04-17T09:08:03.676Z"
   },
   {
    "duration": 134,
    "start_time": "2023-04-17T09:08:03.706Z"
   },
   {
    "duration": 16,
    "start_time": "2023-04-17T09:08:03.842Z"
   },
   {
    "duration": 21,
    "start_time": "2023-04-17T09:08:03.860Z"
   },
   {
    "duration": 151,
    "start_time": "2023-04-17T09:08:03.883Z"
   },
   {
    "duration": 17,
    "start_time": "2023-04-17T09:08:04.036Z"
   },
   {
    "duration": 15,
    "start_time": "2023-04-17T09:08:04.054Z"
   },
   {
    "duration": 119,
    "start_time": "2023-04-17T09:08:04.071Z"
   },
   {
    "duration": 3844,
    "start_time": "2023-04-17T09:08:04.192Z"
   },
   {
    "duration": 301,
    "start_time": "2023-04-17T09:08:08.038Z"
   },
   {
    "duration": 13,
    "start_time": "2023-04-17T09:08:08.341Z"
   },
   {
    "duration": 140,
    "start_time": "2023-04-17T09:08:08.355Z"
   },
   {
    "duration": 3,
    "start_time": "2023-04-17T09:08:08.497Z"
   },
   {
    "duration": 24,
    "start_time": "2023-04-17T09:08:08.502Z"
   },
   {
    "duration": 20,
    "start_time": "2023-04-17T09:08:08.528Z"
   },
   {
    "duration": 12,
    "start_time": "2023-04-17T09:08:08.549Z"
   },
   {
    "duration": 13,
    "start_time": "2023-04-17T09:08:08.562Z"
   },
   {
    "duration": 24,
    "start_time": "2023-04-17T09:08:08.576Z"
   },
   {
    "duration": 56,
    "start_time": "2023-04-17T09:08:08.602Z"
   },
   {
    "duration": 263,
    "start_time": "2023-04-17T09:08:08.660Z"
   },
   {
    "duration": 310,
    "start_time": "2023-04-17T09:08:08.926Z"
   },
   {
    "duration": 78,
    "start_time": "2023-04-17T09:08:09.238Z"
   },
   {
    "duration": 41559,
    "start_time": "2023-04-17T09:08:09.319Z"
   },
   {
    "duration": 42676,
    "start_time": "2023-04-17T09:08:50.879Z"
   },
   {
    "duration": 4,
    "start_time": "2023-04-17T09:09:33.556Z"
   },
   {
    "duration": 528187,
    "start_time": "2023-04-17T09:09:33.561Z"
   },
   {
    "duration": 512606,
    "start_time": "2023-04-17T09:18:21.750Z"
   },
   {
    "duration": 3,
    "start_time": "2023-04-17T09:26:54.358Z"
   },
   {
    "duration": 29,
    "start_time": "2023-04-17T09:26:54.362Z"
   },
   {
    "duration": 15,
    "start_time": "2023-04-17T09:26:54.392Z"
   },
   {
    "duration": 104927,
    "start_time": "2023-04-17T09:26:54.409Z"
   },
   {
    "duration": 0,
    "start_time": "2023-04-17T09:28:39.337Z"
   },
   {
    "duration": 0,
    "start_time": "2023-04-17T09:28:39.339Z"
   },
   {
    "duration": 0,
    "start_time": "2023-04-17T09:28:39.340Z"
   },
   {
    "duration": 0,
    "start_time": "2023-04-17T09:28:39.342Z"
   },
   {
    "duration": 3,
    "start_time": "2023-04-17T09:41:44.029Z"
   },
   {
    "duration": 4,
    "start_time": "2023-04-17T09:41:44.499Z"
   },
   {
    "duration": 104783,
    "start_time": "2023-04-17T09:41:44.999Z"
   },
   {
    "duration": 105270,
    "start_time": "2023-04-17T09:43:29.784Z"
   },
   {
    "duration": 3,
    "start_time": "2023-04-17T09:45:15.056Z"
   },
   {
    "duration": 824365,
    "start_time": "2023-04-17T09:45:15.061Z"
   },
   {
    "duration": 0,
    "start_time": "2023-04-17T09:58:59.428Z"
   },
   {
    "duration": 4,
    "start_time": "2023-04-17T09:59:12.456Z"
   },
   {
    "duration": 5,
    "start_time": "2023-04-17T09:59:12.940Z"
   },
   {
    "duration": 3,
    "start_time": "2023-04-17T09:59:44.840Z"
   },
   {
    "duration": 4,
    "start_time": "2023-04-17T09:59:45.171Z"
   },
   {
    "duration": 105950,
    "start_time": "2023-04-17T09:59:45.482Z"
   },
   {
    "duration": 104653,
    "start_time": "2023-04-17T10:01:31.435Z"
   },
   {
    "duration": 4,
    "start_time": "2023-04-17T10:03:16.091Z"
   },
   {
    "duration": 5478042,
    "start_time": "2023-04-17T10:03:16.099Z"
   },
   {
    "duration": 4117769,
    "start_time": "2023-04-17T11:34:34.142Z"
   },
   {
    "duration": 51080,
    "start_time": "2023-04-17T12:43:25.914Z"
   },
   {
    "duration": 5594754,
    "start_time": "2023-04-17T12:44:23.844Z"
   },
   {
    "duration": 1168,
    "start_time": "2023-04-17T14:28:43.989Z"
   },
   {
    "duration": 886,
    "start_time": "2023-04-17T14:28:45.159Z"
   },
   {
    "duration": 3,
    "start_time": "2023-04-17T14:28:46.047Z"
   },
   {
    "duration": 25578,
    "start_time": "2023-04-17T14:28:46.052Z"
   },
   {
    "duration": 27869,
    "start_time": "2023-04-17T14:29:11.632Z"
   },
   {
    "duration": 3,
    "start_time": "2023-04-17T14:29:39.503Z"
   },
   {
    "duration": 42624,
    "start_time": "2023-04-17T18:31:37.124Z"
   },
   {
    "duration": 8,
    "start_time": "2023-04-17T18:32:34.305Z"
   },
   {
    "duration": 8,
    "start_time": "2023-04-17T18:32:34.732Z"
   },
   {
    "duration": 4,
    "start_time": "2023-04-17T18:33:23.141Z"
   },
   {
    "duration": 4,
    "start_time": "2023-04-17T18:41:37.808Z"
   },
   {
    "duration": 52,
    "start_time": "2023-04-19T09:56:12.699Z"
   },
   {
    "duration": 1597,
    "start_time": "2023-04-19T09:56:20.788Z"
   },
   {
    "duration": 3380,
    "start_time": "2023-04-19T09:56:22.387Z"
   },
   {
    "duration": 23,
    "start_time": "2023-04-19T09:56:25.769Z"
   },
   {
    "duration": 40,
    "start_time": "2023-04-19T09:56:25.794Z"
   },
   {
    "duration": 16,
    "start_time": "2023-04-19T09:56:25.835Z"
   },
   {
    "duration": 16,
    "start_time": "2023-04-19T09:56:25.852Z"
   },
   {
    "duration": 16,
    "start_time": "2023-04-19T09:56:25.881Z"
   },
   {
    "duration": 18,
    "start_time": "2023-04-19T09:56:25.898Z"
   },
   {
    "duration": 6,
    "start_time": "2023-04-19T09:56:25.918Z"
   },
   {
    "duration": 12,
    "start_time": "2023-04-19T09:56:25.925Z"
   },
   {
    "duration": 18,
    "start_time": "2023-04-19T09:56:25.938Z"
   },
   {
    "duration": 6,
    "start_time": "2023-04-19T09:56:25.958Z"
   },
   {
    "duration": 28,
    "start_time": "2023-04-19T09:56:25.965Z"
   },
   {
    "duration": 8,
    "start_time": "2023-04-19T09:56:25.995Z"
   },
   {
    "duration": 8,
    "start_time": "2023-04-19T09:56:26.004Z"
   },
   {
    "duration": 9,
    "start_time": "2023-04-19T09:56:26.013Z"
   },
   {
    "duration": 32,
    "start_time": "2023-04-19T09:56:26.024Z"
   },
   {
    "duration": 28,
    "start_time": "2023-04-19T09:56:26.058Z"
   },
   {
    "duration": 10,
    "start_time": "2023-04-19T09:56:26.088Z"
   },
   {
    "duration": 21,
    "start_time": "2023-04-19T09:56:26.100Z"
   },
   {
    "duration": 21,
    "start_time": "2023-04-19T09:56:26.123Z"
   },
   {
    "duration": 54,
    "start_time": "2023-04-19T09:56:26.147Z"
   },
   {
    "duration": 9,
    "start_time": "2023-04-19T09:56:26.203Z"
   },
   {
    "duration": 12,
    "start_time": "2023-04-19T09:56:26.213Z"
   },
   {
    "duration": 30,
    "start_time": "2023-04-19T09:56:26.227Z"
   },
   {
    "duration": 6,
    "start_time": "2023-04-19T09:56:26.259Z"
   },
   {
    "duration": 31,
    "start_time": "2023-04-19T09:56:26.266Z"
   },
   {
    "duration": 17,
    "start_time": "2023-04-19T09:56:26.299Z"
   },
   {
    "duration": 129,
    "start_time": "2023-04-19T09:56:26.319Z"
   },
   {
    "duration": 35,
    "start_time": "2023-04-19T09:56:26.450Z"
   },
   {
    "duration": 16,
    "start_time": "2023-04-19T09:56:26.489Z"
   },
   {
    "duration": 123,
    "start_time": "2023-04-19T09:56:26.507Z"
   },
   {
    "duration": 13,
    "start_time": "2023-04-19T09:56:26.631Z"
   },
   {
    "duration": 20,
    "start_time": "2023-04-19T09:56:26.646Z"
   },
   {
    "duration": 122,
    "start_time": "2023-04-19T09:56:26.668Z"
   },
   {
    "duration": 13,
    "start_time": "2023-04-19T09:56:26.791Z"
   },
   {
    "duration": 13,
    "start_time": "2023-04-19T09:56:26.806Z"
   },
   {
    "duration": 95,
    "start_time": "2023-04-19T09:56:26.820Z"
   },
   {
    "duration": 4223,
    "start_time": "2023-04-19T09:56:30.404Z"
   },
   {
    "duration": 471,
    "start_time": "2023-04-19T11:00:03.304Z"
   },
   {
    "duration": 367,
    "start_time": "2023-04-19T11:00:26.171Z"
   },
   {
    "duration": 6,
    "start_time": "2023-04-19T11:53:29.447Z"
   },
   {
    "duration": 163,
    "start_time": "2023-04-19T11:53:43.132Z"
   },
   {
    "duration": 259,
    "start_time": "2023-04-19T11:54:04.514Z"
   },
   {
    "duration": 237,
    "start_time": "2023-04-19T11:54:07.795Z"
   },
   {
    "duration": 348,
    "start_time": "2023-04-19T11:54:25.526Z"
   },
   {
    "duration": 560,
    "start_time": "2023-04-19T11:54:32.903Z"
   },
   {
    "duration": 165,
    "start_time": "2023-04-19T11:57:09.998Z"
   },
   {
    "duration": 454,
    "start_time": "2023-04-19T11:57:20.155Z"
   },
   {
    "duration": 1834,
    "start_time": "2023-04-19T12:04:15.997Z"
   },
   {
    "duration": 60,
    "start_time": "2023-04-19T12:05:30.759Z"
   },
   {
    "duration": 6,
    "start_time": "2023-04-19T12:06:00.995Z"
   },
   {
    "duration": 463,
    "start_time": "2023-04-19T12:06:09.594Z"
   },
   {
    "duration": 45,
    "start_time": "2023-04-19T12:06:39.065Z"
   },
   {
    "duration": 7,
    "start_time": "2023-04-19T12:06:39.414Z"
   },
   {
    "duration": 526,
    "start_time": "2023-04-19T12:06:39.720Z"
   },
   {
    "duration": 65,
    "start_time": "2023-04-19T12:06:55.722Z"
   },
   {
    "duration": 8,
    "start_time": "2023-04-19T12:06:56.134Z"
   },
   {
    "duration": 457,
    "start_time": "2023-04-19T12:06:56.543Z"
   },
   {
    "duration": 46,
    "start_time": "2023-04-19T12:07:20.664Z"
   },
   {
    "duration": 7,
    "start_time": "2023-04-19T12:07:21.463Z"
   },
   {
    "duration": 458,
    "start_time": "2023-04-19T12:07:21.782Z"
   },
   {
    "duration": 490,
    "start_time": "2023-04-19T12:07:51.708Z"
   },
   {
    "duration": 8,
    "start_time": "2023-04-19T12:07:59.093Z"
   },
   {
    "duration": 693,
    "start_time": "2023-04-19T12:07:59.102Z"
   },
   {
    "duration": 17,
    "start_time": "2023-04-19T12:07:59.796Z"
   },
   {
    "duration": 128,
    "start_time": "2023-04-19T12:07:59.815Z"
   },
   {
    "duration": 16,
    "start_time": "2023-04-19T12:07:59.944Z"
   },
   {
    "duration": 56,
    "start_time": "2023-04-19T12:07:59.961Z"
   },
   {
    "duration": 67,
    "start_time": "2023-04-19T12:08:00.018Z"
   },
   {
    "duration": 44,
    "start_time": "2023-04-19T12:08:00.086Z"
   },
   {
    "duration": 22,
    "start_time": "2023-04-19T12:08:00.132Z"
   },
   {
    "duration": 87,
    "start_time": "2023-04-19T12:08:00.156Z"
   },
   {
    "duration": 69,
    "start_time": "2023-04-19T12:08:00.244Z"
   },
   {
    "duration": 33,
    "start_time": "2023-04-19T12:08:00.314Z"
   },
   {
    "duration": 55,
    "start_time": "2023-04-19T12:08:00.348Z"
   },
   {
    "duration": 19,
    "start_time": "2023-04-19T12:08:00.405Z"
   },
   {
    "duration": 23,
    "start_time": "2023-04-19T12:08:00.426Z"
   },
   {
    "duration": 65,
    "start_time": "2023-04-19T12:08:00.451Z"
   },
   {
    "duration": 85,
    "start_time": "2023-04-19T12:08:00.517Z"
   },
   {
    "duration": 39,
    "start_time": "2023-04-19T12:08:00.604Z"
   },
   {
    "duration": 69,
    "start_time": "2023-04-19T12:08:00.645Z"
   },
   {
    "duration": 68,
    "start_time": "2023-04-19T12:08:00.716Z"
   },
   {
    "duration": 57,
    "start_time": "2023-04-19T12:08:00.785Z"
   },
   {
    "duration": 60,
    "start_time": "2023-04-19T12:08:00.843Z"
   },
   {
    "duration": 28,
    "start_time": "2023-04-19T12:08:00.905Z"
   },
   {
    "duration": 32,
    "start_time": "2023-04-19T12:08:00.935Z"
   },
   {
    "duration": 63,
    "start_time": "2023-04-19T12:08:00.968Z"
   },
   {
    "duration": 71,
    "start_time": "2023-04-19T12:08:01.032Z"
   },
   {
    "duration": 53,
    "start_time": "2023-04-19T12:08:01.104Z"
   },
   {
    "duration": 78,
    "start_time": "2023-04-19T12:08:01.165Z"
   },
   {
    "duration": 136,
    "start_time": "2023-04-19T12:08:01.245Z"
   },
   {
    "duration": 22,
    "start_time": "2023-04-19T12:08:01.383Z"
   },
   {
    "duration": 44,
    "start_time": "2023-04-19T12:08:01.407Z"
   },
   {
    "duration": 148,
    "start_time": "2023-04-19T12:08:01.452Z"
   },
   {
    "duration": 12,
    "start_time": "2023-04-19T12:08:01.602Z"
   },
   {
    "duration": 98,
    "start_time": "2023-04-19T12:08:01.615Z"
   },
   {
    "duration": 206,
    "start_time": "2023-04-19T12:08:01.714Z"
   },
   {
    "duration": 46,
    "start_time": "2023-04-19T12:08:01.922Z"
   },
   {
    "duration": 242,
    "start_time": "2023-04-19T12:08:01.969Z"
   },
   {
    "duration": 121,
    "start_time": "2023-04-19T12:08:02.212Z"
   },
   {
    "duration": 4267,
    "start_time": "2023-04-19T12:08:02.335Z"
   },
   {
    "duration": 350,
    "start_time": "2023-04-19T12:08:06.604Z"
   },
   {
    "duration": 29,
    "start_time": "2023-04-19T12:08:06.956Z"
   },
   {
    "duration": 113,
    "start_time": "2023-04-19T12:08:06.994Z"
   },
   {
    "duration": 6,
    "start_time": "2023-04-19T12:08:07.109Z"
   },
   {
    "duration": 6,
    "start_time": "2023-04-19T12:08:10.805Z"
   },
   {
    "duration": 509,
    "start_time": "2023-04-19T12:08:11.127Z"
   },
   {
    "duration": 563,
    "start_time": "2023-04-19T12:09:32.137Z"
   },
   {
    "duration": 6,
    "start_time": "2023-04-19T12:09:38.828Z"
   },
   {
    "duration": 538,
    "start_time": "2023-04-19T12:09:39.463Z"
   },
   {
    "duration": 56,
    "start_time": "2023-04-19T12:09:41.913Z"
   },
   {
    "duration": 6,
    "start_time": "2023-04-19T12:09:42.339Z"
   },
   {
    "duration": 499,
    "start_time": "2023-04-19T12:09:42.736Z"
   },
   {
    "duration": 61,
    "start_time": "2023-04-19T12:09:59.144Z"
   },
   {
    "duration": 7,
    "start_time": "2023-04-19T12:10:00.195Z"
   },
   {
    "duration": 497,
    "start_time": "2023-04-19T12:10:00.795Z"
   },
   {
    "duration": 121,
    "start_time": "2023-04-19T12:15:35.130Z"
   },
   {
    "duration": 22,
    "start_time": "2023-04-19T12:35:32.489Z"
   },
   {
    "duration": 16,
    "start_time": "2023-04-19T12:35:47.303Z"
   },
   {
    "duration": 3,
    "start_time": "2023-04-19T12:45:11.203Z"
   },
   {
    "duration": 784,
    "start_time": "2023-04-19T12:45:11.208Z"
   },
   {
    "duration": 18,
    "start_time": "2023-04-19T12:45:11.994Z"
   },
   {
    "duration": 56,
    "start_time": "2023-04-19T12:45:12.013Z"
   },
   {
    "duration": 48,
    "start_time": "2023-04-19T12:45:12.070Z"
   },
   {
    "duration": 31,
    "start_time": "2023-04-19T12:45:12.119Z"
   },
   {
    "duration": 18,
    "start_time": "2023-04-19T12:45:12.152Z"
   },
   {
    "duration": 60,
    "start_time": "2023-04-19T12:45:12.178Z"
   },
   {
    "duration": 24,
    "start_time": "2023-04-19T12:45:12.240Z"
   },
   {
    "duration": 140,
    "start_time": "2023-04-19T12:45:12.265Z"
   },
   {
    "duration": 44,
    "start_time": "2023-04-19T12:45:12.407Z"
   },
   {
    "duration": 32,
    "start_time": "2023-04-19T12:45:12.452Z"
   },
   {
    "duration": 37,
    "start_time": "2023-04-19T12:45:12.487Z"
   },
   {
    "duration": 20,
    "start_time": "2023-04-19T12:45:12.525Z"
   },
   {
    "duration": 34,
    "start_time": "2023-04-19T12:45:12.547Z"
   },
   {
    "duration": 36,
    "start_time": "2023-04-19T12:45:12.582Z"
   },
   {
    "duration": 35,
    "start_time": "2023-04-19T12:45:12.620Z"
   },
   {
    "duration": 45,
    "start_time": "2023-04-19T12:45:12.656Z"
   },
   {
    "duration": 21,
    "start_time": "2023-04-19T12:45:12.703Z"
   },
   {
    "duration": 20,
    "start_time": "2023-04-19T12:45:12.726Z"
   },
   {
    "duration": 15,
    "start_time": "2023-04-19T12:45:12.748Z"
   },
   {
    "duration": 29,
    "start_time": "2023-04-19T12:45:12.765Z"
   },
   {
    "duration": 11,
    "start_time": "2023-04-19T12:45:12.803Z"
   },
   {
    "duration": 36,
    "start_time": "2023-04-19T12:45:12.815Z"
   },
   {
    "duration": 41,
    "start_time": "2023-04-19T12:45:12.853Z"
   },
   {
    "duration": 12,
    "start_time": "2023-04-19T12:45:12.898Z"
   },
   {
    "duration": 33,
    "start_time": "2023-04-19T12:45:12.912Z"
   },
   {
    "duration": 49,
    "start_time": "2023-04-19T12:45:12.947Z"
   },
   {
    "duration": 127,
    "start_time": "2023-04-19T12:45:13.014Z"
   },
   {
    "duration": 14,
    "start_time": "2023-04-19T12:45:13.142Z"
   },
   {
    "duration": 44,
    "start_time": "2023-04-19T12:45:13.157Z"
   },
   {
    "duration": 123,
    "start_time": "2023-04-19T12:45:13.203Z"
   },
   {
    "duration": 18,
    "start_time": "2023-04-19T12:45:13.328Z"
   },
   {
    "duration": 45,
    "start_time": "2023-04-19T12:45:13.348Z"
   },
   {
    "duration": 117,
    "start_time": "2023-04-19T12:45:13.397Z"
   },
   {
    "duration": 14,
    "start_time": "2023-04-19T12:45:13.515Z"
   },
   {
    "duration": 31,
    "start_time": "2023-04-19T12:45:13.532Z"
   },
   {
    "duration": 48,
    "start_time": "2023-04-19T12:45:13.565Z"
   },
   {
    "duration": 4429,
    "start_time": "2023-04-19T12:45:13.615Z"
   },
   {
    "duration": 417,
    "start_time": "2023-04-19T12:45:18.045Z"
   },
   {
    "duration": 2671,
    "start_time": "2023-04-19T12:45:18.464Z"
   },
   {
    "duration": 10,
    "start_time": "2023-04-19T12:45:41.107Z"
   },
   {
    "duration": 129,
    "start_time": "2023-04-19T12:45:42.094Z"
   },
   {
    "duration": 107,
    "start_time": "2023-04-19T12:46:28.692Z"
   },
   {
    "duration": 1945,
    "start_time": "2023-04-19T12:46:46.599Z"
   },
   {
    "duration": 7,
    "start_time": "2023-04-19T12:46:58.294Z"
   },
   {
    "duration": 59,
    "start_time": "2023-04-19T12:49:02.996Z"
   },
   {
    "duration": 7,
    "start_time": "2023-04-19T12:49:43.732Z"
   },
   {
    "duration": 537,
    "start_time": "2023-04-19T12:49:44.895Z"
   },
   {
    "duration": 635,
    "start_time": "2023-04-19T12:49:55.294Z"
   },
   {
    "duration": 25,
    "start_time": "2023-04-19T12:49:58.037Z"
   },
   {
    "duration": 5,
    "start_time": "2023-04-19T19:30:20.688Z"
   },
   {
    "duration": 3,
    "start_time": "2023-04-19T19:46:12.740Z"
   },
   {
    "duration": 17,
    "start_time": "2023-04-19T19:46:14.295Z"
   },
   {
    "duration": 28,
    "start_time": "2023-04-19T19:46:15.302Z"
   },
   {
    "duration": 17,
    "start_time": "2023-04-19T19:46:15.723Z"
   },
   {
    "duration": 7,
    "start_time": "2023-04-19T19:46:16.906Z"
   },
   {
    "duration": 3,
    "start_time": "2023-04-19T19:46:17.805Z"
   },
   {
    "duration": 40,
    "start_time": "2023-04-19T19:46:18.494Z"
   },
   {
    "duration": 9,
    "start_time": "2023-04-19T19:46:26.468Z"
   },
   {
    "duration": 9,
    "start_time": "2023-04-19T19:46:27.890Z"
   },
   {
    "duration": 10,
    "start_time": "2023-04-19T19:46:28.099Z"
   },
   {
    "duration": 9,
    "start_time": "2023-04-19T19:46:51.998Z"
   },
   {
    "duration": 5,
    "start_time": "2023-04-19T19:47:12.543Z"
   },
   {
    "duration": 3,
    "start_time": "2023-04-19T19:47:34.241Z"
   },
   {
    "duration": 11,
    "start_time": "2023-04-19T19:47:34.610Z"
   },
   {
    "duration": 124,
    "start_time": "2023-04-19T19:49:26.002Z"
   },
   {
    "duration": 3,
    "start_time": "2023-04-19T19:50:24.205Z"
   },
   {
    "duration": 119,
    "start_time": "2023-04-19T19:50:24.498Z"
   },
   {
    "duration": 148,
    "start_time": "2023-04-19T19:51:30.802Z"
   },
   {
    "duration": 107,
    "start_time": "2023-04-19T19:51:37.313Z"
   },
   {
    "duration": 2108,
    "start_time": "2023-04-19T19:51:55.073Z"
   },
   {
    "duration": 4946,
    "start_time": "2023-04-19T19:53:34.097Z"
   },
   {
    "duration": 2211,
    "start_time": "2023-04-19T19:53:50.504Z"
   },
   {
    "duration": 12,
    "start_time": "2023-04-19T19:54:33.034Z"
   },
   {
    "duration": 2805,
    "start_time": "2023-04-19T19:54:36.904Z"
   },
   {
    "duration": 98,
    "start_time": "2023-04-19T19:55:34.116Z"
   },
   {
    "duration": 76,
    "start_time": "2023-04-19T19:55:44.897Z"
   },
   {
    "duration": 5,
    "start_time": "2023-04-19T19:55:56.606Z"
   },
   {
    "duration": 3,
    "start_time": "2023-04-19T19:59:52.929Z"
   },
   {
    "duration": 117131,
    "start_time": "2023-04-19T19:59:53.567Z"
   },
   {
    "duration": 53087,
    "start_time": "2023-04-19T20:01:50.699Z"
   },
   {
    "duration": 3,
    "start_time": "2023-04-19T20:02:47.364Z"
   },
   {
    "duration": 2807,
    "start_time": "2023-04-19T20:02:49.602Z"
   },
   {
    "duration": 3496,
    "start_time": "2023-04-19T20:02:52.411Z"
   },
   {
    "duration": 22,
    "start_time": "2023-04-19T20:02:59.268Z"
   },
   {
    "duration": 114284,
    "start_time": "2023-04-19T20:03:17.524Z"
   },
   {
    "duration": 69195,
    "start_time": "2023-04-19T20:05:28.794Z"
   },
   {
    "duration": 0,
    "start_time": "2023-04-19T20:06:37.991Z"
   },
   {
    "duration": 0,
    "start_time": "2023-04-19T20:06:37.992Z"
   },
   {
    "duration": 14,
    "start_time": "2023-04-19T20:07:51.410Z"
   },
   {
    "duration": 40,
    "start_time": "2023-04-19T20:08:08.701Z"
   },
   {
    "duration": 2088,
    "start_time": "2023-04-19T20:09:17.297Z"
   },
   {
    "duration": 21,
    "start_time": "2023-04-19T20:09:41.998Z"
   },
   {
    "duration": 38,
    "start_time": "2023-04-19T20:09:54.912Z"
   },
   {
    "duration": 1674,
    "start_time": "2023-04-19T20:10:08.347Z"
   },
   {
    "duration": 18,
    "start_time": "2023-04-19T20:10:21.125Z"
   },
   {
    "duration": 57,
    "start_time": "2023-04-19T20:10:37.656Z"
   },
   {
    "duration": 13,
    "start_time": "2023-04-19T20:11:52.041Z"
   },
   {
    "duration": 43,
    "start_time": "2023-04-19T20:11:59.854Z"
   },
   {
    "duration": 4,
    "start_time": "2023-04-19T20:13:05.219Z"
   },
   {
    "duration": 103706,
    "start_time": "2023-04-19T20:13:06.122Z"
   },
   {
    "duration": 17,
    "start_time": "2023-04-19T20:14:49.831Z"
   },
   {
    "duration": 4,
    "start_time": "2023-04-19T20:15:10.702Z"
   },
   {
    "duration": 79120,
    "start_time": "2023-04-19T20:15:11.350Z"
   },
   {
    "duration": 36,
    "start_time": "2023-04-19T20:16:30.478Z"
   },
   {
    "duration": 78218,
    "start_time": "2023-04-19T20:19:50.325Z"
   },
   {
    "duration": 3,
    "start_time": "2023-04-19T20:21:08.545Z"
   },
   {
    "duration": 3,
    "start_time": "2023-04-19T20:23:43.092Z"
   },
   {
    "duration": 5711644,
    "start_time": "2023-04-19T20:23:43.541Z"
   },
   {
    "duration": 6162264,
    "start_time": "2023-04-19T21:58:55.189Z"
   },
   {
    "duration": 3,
    "start_time": "2023-04-19T23:41:37.454Z"
   },
   {
    "duration": 80,
    "start_time": "2023-04-19T23:41:37.460Z"
   },
   {
    "duration": 4,
    "start_time": "2023-04-19T23:49:44.723Z"
   },
   {
    "duration": 11,
    "start_time": "2023-04-19T23:54:49.131Z"
   },
   {
    "duration": 11,
    "start_time": "2023-04-19T23:55:00.958Z"
   },
   {
    "duration": 3,
    "start_time": "2023-04-19T23:55:03.209Z"
   },
   {
    "duration": 8,
    "start_time": "2023-04-19T23:56:05.292Z"
   },
   {
    "duration": 9,
    "start_time": "2023-04-19T23:56:05.989Z"
   },
   {
    "duration": 3,
    "start_time": "2023-04-19T23:56:07.516Z"
   },
   {
    "duration": 9,
    "start_time": "2023-04-19T23:58:00.109Z"
   },
   {
    "duration": 7,
    "start_time": "2023-04-19T23:58:01.133Z"
   },
   {
    "duration": 3,
    "start_time": "2023-04-19T23:58:02.227Z"
   },
   {
    "duration": 7,
    "start_time": "2023-04-19T23:58:05.200Z"
   },
   {
    "duration": 8,
    "start_time": "2023-04-19T23:58:05.597Z"
   },
   {
    "duration": 6,
    "start_time": "2023-04-19T23:58:30.549Z"
   },
   {
    "duration": 7,
    "start_time": "2023-04-19T23:58:31.316Z"
   },
   {
    "duration": 3,
    "start_time": "2023-04-19T23:58:31.925Z"
   },
   {
    "duration": 4,
    "start_time": "2023-04-20T00:00:59.443Z"
   },
   {
    "duration": 5,
    "start_time": "2023-04-20T00:01:12.895Z"
   },
   {
    "duration": 7,
    "start_time": "2023-04-20T00:01:48.618Z"
   },
   {
    "duration": 3056,
    "start_time": "2023-04-20T11:32:24.209Z"
   },
   {
    "duration": 813,
    "start_time": "2023-04-20T11:32:27.269Z"
   },
   {
    "duration": 27,
    "start_time": "2023-04-20T11:32:28.085Z"
   },
   {
    "duration": 30,
    "start_time": "2023-04-20T11:32:28.115Z"
   },
   {
    "duration": 34,
    "start_time": "2023-04-20T11:32:28.165Z"
   },
   {
    "duration": 26,
    "start_time": "2023-04-20T11:32:28.201Z"
   },
   {
    "duration": 53,
    "start_time": "2023-04-20T11:32:28.230Z"
   },
   {
    "duration": 21,
    "start_time": "2023-04-20T11:32:28.285Z"
   },
   {
    "duration": 10,
    "start_time": "2023-04-20T11:32:28.308Z"
   },
   {
    "duration": 175,
    "start_time": "2023-04-20T11:32:28.320Z"
   },
   {
    "duration": 0,
    "start_time": "2023-04-20T11:32:28.500Z"
   },
   {
    "duration": 0,
    "start_time": "2023-04-20T11:32:28.501Z"
   },
   {
    "duration": 0,
    "start_time": "2023-04-20T11:32:28.502Z"
   },
   {
    "duration": 0,
    "start_time": "2023-04-20T11:32:28.504Z"
   },
   {
    "duration": 0,
    "start_time": "2023-04-20T11:32:28.506Z"
   },
   {
    "duration": 0,
    "start_time": "2023-04-20T11:32:28.507Z"
   },
   {
    "duration": 0,
    "start_time": "2023-04-20T11:32:28.508Z"
   },
   {
    "duration": 0,
    "start_time": "2023-04-20T11:32:28.509Z"
   },
   {
    "duration": 0,
    "start_time": "2023-04-20T11:32:28.510Z"
   },
   {
    "duration": 0,
    "start_time": "2023-04-20T11:32:28.512Z"
   },
   {
    "duration": 0,
    "start_time": "2023-04-20T11:32:28.513Z"
   },
   {
    "duration": 0,
    "start_time": "2023-04-20T11:32:28.515Z"
   },
   {
    "duration": 0,
    "start_time": "2023-04-20T11:32:28.516Z"
   },
   {
    "duration": 0,
    "start_time": "2023-04-20T11:32:28.517Z"
   },
   {
    "duration": 0,
    "start_time": "2023-04-20T11:32:28.519Z"
   },
   {
    "duration": 0,
    "start_time": "2023-04-20T11:32:28.520Z"
   },
   {
    "duration": 0,
    "start_time": "2023-04-20T11:32:28.521Z"
   },
   {
    "duration": 0,
    "start_time": "2023-04-20T11:32:28.569Z"
   },
   {
    "duration": 0,
    "start_time": "2023-04-20T11:32:28.571Z"
   },
   {
    "duration": 0,
    "start_time": "2023-04-20T11:32:28.572Z"
   },
   {
    "duration": 0,
    "start_time": "2023-04-20T11:32:28.574Z"
   },
   {
    "duration": 0,
    "start_time": "2023-04-20T11:32:28.575Z"
   },
   {
    "duration": 0,
    "start_time": "2023-04-20T11:32:28.581Z"
   },
   {
    "duration": 0,
    "start_time": "2023-04-20T11:32:28.582Z"
   },
   {
    "duration": 0,
    "start_time": "2023-04-20T11:32:28.584Z"
   },
   {
    "duration": 0,
    "start_time": "2023-04-20T11:32:28.585Z"
   },
   {
    "duration": 0,
    "start_time": "2023-04-20T11:32:28.587Z"
   },
   {
    "duration": 0,
    "start_time": "2023-04-20T11:32:28.588Z"
   },
   {
    "duration": 1,
    "start_time": "2023-04-20T11:32:28.589Z"
   },
   {
    "duration": 0,
    "start_time": "2023-04-20T11:32:28.591Z"
   },
   {
    "duration": 0,
    "start_time": "2023-04-20T11:32:28.593Z"
   },
   {
    "duration": 0,
    "start_time": "2023-04-20T11:32:28.594Z"
   },
   {
    "duration": 0,
    "start_time": "2023-04-20T11:32:28.596Z"
   },
   {
    "duration": 0,
    "start_time": "2023-04-20T11:32:28.598Z"
   },
   {
    "duration": 0,
    "start_time": "2023-04-20T11:32:28.600Z"
   },
   {
    "duration": 0,
    "start_time": "2023-04-20T11:32:28.601Z"
   },
   {
    "duration": 0,
    "start_time": "2023-04-20T11:32:28.603Z"
   },
   {
    "duration": 0,
    "start_time": "2023-04-20T11:32:28.604Z"
   },
   {
    "duration": 0,
    "start_time": "2023-04-20T11:32:28.606Z"
   },
   {
    "duration": 0,
    "start_time": "2023-04-20T11:32:28.607Z"
   },
   {
    "duration": 0,
    "start_time": "2023-04-20T11:32:28.609Z"
   },
   {
    "duration": 0,
    "start_time": "2023-04-20T11:32:28.663Z"
   },
   {
    "duration": 0,
    "start_time": "2023-04-20T11:32:28.664Z"
   },
   {
    "duration": 0,
    "start_time": "2023-04-20T11:32:28.665Z"
   },
   {
    "duration": 0,
    "start_time": "2023-04-20T11:32:28.668Z"
   },
   {
    "duration": 0,
    "start_time": "2023-04-20T11:32:28.668Z"
   },
   {
    "duration": 0,
    "start_time": "2023-04-20T11:32:28.669Z"
   },
   {
    "duration": 0,
    "start_time": "2023-04-20T11:32:28.670Z"
   },
   {
    "duration": 0,
    "start_time": "2023-04-20T11:32:28.672Z"
   },
   {
    "duration": 0,
    "start_time": "2023-04-20T11:32:28.675Z"
   },
   {
    "duration": 0,
    "start_time": "2023-04-20T11:32:28.676Z"
   },
   {
    "duration": 0,
    "start_time": "2023-04-20T11:32:28.677Z"
   },
   {
    "duration": 0,
    "start_time": "2023-04-20T11:32:28.678Z"
   },
   {
    "duration": 0,
    "start_time": "2023-04-20T11:32:28.679Z"
   },
   {
    "duration": 0,
    "start_time": "2023-04-20T11:32:28.679Z"
   },
   {
    "duration": 0,
    "start_time": "2023-04-20T11:32:28.680Z"
   },
   {
    "duration": 0,
    "start_time": "2023-04-20T11:32:28.681Z"
   },
   {
    "duration": 0,
    "start_time": "2023-04-20T11:32:28.682Z"
   },
   {
    "duration": 0,
    "start_time": "2023-04-20T11:32:28.683Z"
   },
   {
    "duration": 0,
    "start_time": "2023-04-20T11:32:28.689Z"
   },
   {
    "duration": 0,
    "start_time": "2023-04-20T11:32:28.690Z"
   },
   {
    "duration": 0,
    "start_time": "2023-04-20T11:32:28.691Z"
   },
   {
    "duration": 0,
    "start_time": "2023-04-20T11:32:28.692Z"
   },
   {
    "duration": 0,
    "start_time": "2023-04-20T11:32:28.694Z"
   },
   {
    "duration": 0,
    "start_time": "2023-04-20T11:32:28.695Z"
   },
   {
    "duration": 0,
    "start_time": "2023-04-20T11:32:28.697Z"
   },
   {
    "duration": 0,
    "start_time": "2023-04-20T11:32:28.699Z"
   },
   {
    "duration": 0,
    "start_time": "2023-04-20T11:32:28.700Z"
   },
   {
    "duration": 0,
    "start_time": "2023-04-20T11:32:28.701Z"
   },
   {
    "duration": 0,
    "start_time": "2023-04-20T11:32:28.702Z"
   },
   {
    "duration": 0,
    "start_time": "2023-04-20T11:32:28.704Z"
   },
   {
    "duration": 0,
    "start_time": "2023-04-20T11:32:28.763Z"
   },
   {
    "duration": 0,
    "start_time": "2023-04-20T11:32:28.765Z"
   },
   {
    "duration": 0,
    "start_time": "2023-04-20T11:32:28.766Z"
   },
   {
    "duration": 0,
    "start_time": "2023-04-20T11:32:28.767Z"
   },
   {
    "duration": 0,
    "start_time": "2023-04-20T11:32:28.776Z"
   },
   {
    "duration": 0,
    "start_time": "2023-04-20T11:32:28.776Z"
   },
   {
    "duration": 0,
    "start_time": "2023-04-20T11:32:28.777Z"
   },
   {
    "duration": 0,
    "start_time": "2023-04-20T11:32:28.778Z"
   },
   {
    "duration": 2514,
    "start_time": "2023-04-20T11:46:51.893Z"
   },
   {
    "duration": 5,
    "start_time": "2023-04-20T11:47:13.806Z"
   },
   {
    "duration": 6477,
    "start_time": "2023-04-20T11:47:13.814Z"
   },
   {
    "duration": 25,
    "start_time": "2023-04-20T11:47:20.294Z"
   },
   {
    "duration": 38,
    "start_time": "2023-04-20T11:47:20.321Z"
   },
   {
    "duration": 55,
    "start_time": "2023-04-20T11:47:20.366Z"
   },
   {
    "duration": 74,
    "start_time": "2023-04-20T11:47:20.422Z"
   },
   {
    "duration": 32,
    "start_time": "2023-04-20T11:47:20.497Z"
   },
   {
    "duration": 84,
    "start_time": "2023-04-20T11:47:20.531Z"
   },
   {
    "duration": 11,
    "start_time": "2023-04-20T11:47:20.617Z"
   },
   {
    "duration": 15,
    "start_time": "2023-04-20T11:47:22.261Z"
   },
   {
    "duration": 5,
    "start_time": "2023-04-20T11:47:22.696Z"
   },
   {
    "duration": 1806,
    "start_time": "2023-05-01T21:11:47.411Z"
   },
   {
    "duration": 2375,
    "start_time": "2023-05-01T21:11:49.223Z"
   },
   {
    "duration": 35,
    "start_time": "2023-05-01T21:11:51.601Z"
   },
   {
    "duration": 19,
    "start_time": "2023-05-01T21:11:51.638Z"
   },
   {
    "duration": 22,
    "start_time": "2023-05-01T21:11:51.659Z"
   },
   {
    "duration": 36,
    "start_time": "2023-05-01T21:11:51.683Z"
   },
   {
    "duration": 27,
    "start_time": "2023-05-01T21:11:51.721Z"
   },
   {
    "duration": 59,
    "start_time": "2023-05-01T21:11:51.750Z"
   },
   {
    "duration": 11,
    "start_time": "2023-05-01T21:11:51.813Z"
   },
   {
    "duration": 21,
    "start_time": "2023-05-01T21:11:51.826Z"
   },
   {
    "duration": 52,
    "start_time": "2023-05-01T21:11:51.848Z"
   },
   {
    "duration": 14,
    "start_time": "2023-05-01T21:11:51.902Z"
   },
   {
    "duration": 27,
    "start_time": "2023-05-01T21:11:51.920Z"
   },
   {
    "duration": 15,
    "start_time": "2023-05-01T21:11:51.951Z"
   },
   {
    "duration": 18,
    "start_time": "2023-05-01T21:11:51.968Z"
   },
   {
    "duration": 10,
    "start_time": "2023-05-01T21:11:51.988Z"
   },
   {
    "duration": 41,
    "start_time": "2023-05-01T21:11:52.000Z"
   },
   {
    "duration": 22,
    "start_time": "2023-05-01T21:11:52.043Z"
   },
   {
    "duration": 35,
    "start_time": "2023-05-01T21:11:52.066Z"
   },
   {
    "duration": 25,
    "start_time": "2023-05-01T21:11:52.114Z"
   },
   {
    "duration": 21,
    "start_time": "2023-05-01T21:11:52.140Z"
   },
   {
    "duration": 10,
    "start_time": "2023-05-01T21:11:52.163Z"
   },
   {
    "duration": 29,
    "start_time": "2023-05-01T21:11:52.175Z"
   },
   {
    "duration": 24,
    "start_time": "2023-05-01T21:11:52.205Z"
   },
   {
    "duration": 40,
    "start_time": "2023-05-01T21:11:52.231Z"
   },
   {
    "duration": 9,
    "start_time": "2023-05-01T21:11:52.273Z"
   },
   {
    "duration": 9,
    "start_time": "2023-05-01T21:11:52.283Z"
   },
   {
    "duration": 33,
    "start_time": "2023-05-01T21:11:52.295Z"
   },
   {
    "duration": 148,
    "start_time": "2023-05-01T21:11:52.330Z"
   },
   {
    "duration": 22,
    "start_time": "2023-05-01T21:11:52.480Z"
   },
   {
    "duration": 17,
    "start_time": "2023-05-01T21:11:52.509Z"
   },
   {
    "duration": 140,
    "start_time": "2023-05-01T21:11:52.528Z"
   },
   {
    "duration": 30,
    "start_time": "2023-05-01T21:11:52.670Z"
   },
   {
    "duration": 23,
    "start_time": "2023-05-01T21:11:52.702Z"
   },
   {
    "duration": 143,
    "start_time": "2023-05-01T21:11:52.727Z"
   },
   {
    "duration": 24,
    "start_time": "2023-05-01T21:11:52.872Z"
   },
   {
    "duration": 23,
    "start_time": "2023-05-01T21:11:52.902Z"
   },
   {
    "duration": 99,
    "start_time": "2023-05-01T21:11:52.927Z"
   },
   {
    "duration": 4104,
    "start_time": "2023-05-01T21:11:53.027Z"
   },
   {
    "duration": 471,
    "start_time": "2023-05-01T21:11:57.133Z"
   },
   {
    "duration": 16,
    "start_time": "2023-05-01T21:11:57.609Z"
   },
   {
    "duration": 139,
    "start_time": "2023-05-01T21:11:57.627Z"
   },
   {
    "duration": 7,
    "start_time": "2023-05-01T21:11:57.768Z"
   },
   {
    "duration": 797,
    "start_time": "2023-05-01T21:11:57.777Z"
   },
   {
    "duration": 89,
    "start_time": "2023-05-01T21:11:58.575Z"
   },
   {
    "duration": 10,
    "start_time": "2023-05-01T21:11:58.666Z"
   },
   {
    "duration": 900,
    "start_time": "2023-05-01T21:11:58.678Z"
   },
   {
    "duration": 55,
    "start_time": "2023-05-01T21:11:59.581Z"
   },
   {
    "duration": 3,
    "start_time": "2023-05-01T21:11:59.638Z"
   },
   {
    "duration": 11,
    "start_time": "2023-05-01T21:11:59.643Z"
   },
   {
    "duration": 15,
    "start_time": "2023-05-01T21:11:59.656Z"
   },
   {
    "duration": 45,
    "start_time": "2023-05-01T21:11:59.673Z"
   },
   {
    "duration": 7,
    "start_time": "2023-05-01T21:11:59.721Z"
   },
   {
    "duration": 4,
    "start_time": "2023-05-01T21:11:59.730Z"
   },
   {
    "duration": 39,
    "start_time": "2023-05-01T21:11:59.735Z"
   },
   {
    "duration": 3,
    "start_time": "2023-05-01T21:11:59.776Z"
   },
   {
    "duration": 22,
    "start_time": "2023-05-01T21:11:59.780Z"
   },
   {
    "duration": 3,
    "start_time": "2023-05-01T21:11:59.804Z"
   },
   {
    "duration": 8,
    "start_time": "2023-05-01T21:11:59.809Z"
   },
   {
    "duration": 7,
    "start_time": "2023-05-01T21:11:59.820Z"
   },
   {
    "duration": 13,
    "start_time": "2023-05-01T21:11:59.829Z"
   },
   {
    "duration": 6,
    "start_time": "2023-05-01T21:11:59.844Z"
   },
   {
    "duration": 10,
    "start_time": "2023-05-01T21:11:59.851Z"
   },
   {
    "duration": 6,
    "start_time": "2023-05-01T21:11:59.863Z"
   },
   {
    "duration": 4,
    "start_time": "2023-05-01T21:11:59.871Z"
   },
   {
    "duration": 2444,
    "start_time": "2023-05-01T21:11:59.876Z"
   },
   {
    "duration": 2473,
    "start_time": "2023-05-01T21:12:02.322Z"
   },
   {
    "duration": 6,
    "start_time": "2023-05-01T21:12:04.801Z"
   },
   {
    "duration": 77,
    "start_time": "2023-05-01T21:12:04.819Z"
   },
   {
    "duration": 71314,
    "start_time": "2023-05-01T21:12:04.899Z"
   },
   {
    "duration": 71108,
    "start_time": "2023-05-01T21:13:16.215Z"
   },
   {
    "duration": 4,
    "start_time": "2023-05-01T21:14:27.324Z"
   },
   {
    "duration": 22,
    "start_time": "2023-05-01T21:14:27.330Z"
   },
   {
    "duration": 2824,
    "start_time": "2023-05-02T08:49:16.040Z"
   },
   {
    "duration": 4680,
    "start_time": "2023-05-02T08:49:18.868Z"
   },
   {
    "duration": 50,
    "start_time": "2023-05-02T08:49:23.555Z"
   },
   {
    "duration": 64,
    "start_time": "2023-05-02T08:49:23.609Z"
   },
   {
    "duration": 33,
    "start_time": "2023-05-02T08:49:23.676Z"
   },
   {
    "duration": 35,
    "start_time": "2023-05-02T08:49:23.711Z"
   },
   {
    "duration": 43,
    "start_time": "2023-05-02T08:49:23.748Z"
   },
   {
    "duration": 17,
    "start_time": "2023-05-02T08:49:23.794Z"
   },
   {
    "duration": 35,
    "start_time": "2023-05-02T08:49:23.813Z"
   },
   {
    "duration": 37,
    "start_time": "2023-05-02T08:49:23.853Z"
   },
   {
    "duration": 35,
    "start_time": "2023-05-02T08:49:23.892Z"
   },
   {
    "duration": 9,
    "start_time": "2023-05-02T08:49:23.930Z"
   },
   {
    "duration": 39,
    "start_time": "2023-05-02T08:49:23.944Z"
   },
   {
    "duration": 12,
    "start_time": "2023-05-02T08:49:23.985Z"
   },
   {
    "duration": 34,
    "start_time": "2023-05-02T08:49:23.999Z"
   },
   {
    "duration": 48,
    "start_time": "2023-05-02T08:49:24.036Z"
   },
   {
    "duration": 50,
    "start_time": "2023-05-02T08:49:24.086Z"
   },
   {
    "duration": 41,
    "start_time": "2023-05-02T08:49:24.139Z"
   },
   {
    "duration": 32,
    "start_time": "2023-05-02T08:49:24.184Z"
   },
   {
    "duration": 62,
    "start_time": "2023-05-02T08:49:24.218Z"
   },
   {
    "duration": 49,
    "start_time": "2023-05-02T08:49:24.283Z"
   },
   {
    "duration": 63,
    "start_time": "2023-05-02T08:49:24.334Z"
   },
   {
    "duration": 72,
    "start_time": "2023-05-02T08:49:24.399Z"
   },
   {
    "duration": 92,
    "start_time": "2023-05-02T08:49:24.474Z"
   },
   {
    "duration": 52,
    "start_time": "2023-05-02T08:49:24.569Z"
   },
   {
    "duration": 64,
    "start_time": "2023-05-02T08:49:24.624Z"
   },
   {
    "duration": 66,
    "start_time": "2023-05-02T08:49:24.694Z"
   },
   {
    "duration": 48,
    "start_time": "2023-05-02T08:49:24.768Z"
   },
   {
    "duration": 204,
    "start_time": "2023-05-02T08:49:24.818Z"
   },
   {
    "duration": 45,
    "start_time": "2023-05-02T08:49:25.024Z"
   },
   {
    "duration": 24,
    "start_time": "2023-05-02T08:49:25.073Z"
   },
   {
    "duration": 250,
    "start_time": "2023-05-02T08:49:25.099Z"
   },
   {
    "duration": 40,
    "start_time": "2023-05-02T08:49:25.353Z"
   },
   {
    "duration": 220,
    "start_time": "2023-05-02T08:49:25.395Z"
   },
   {
    "duration": 208,
    "start_time": "2023-05-02T08:49:25.618Z"
   },
   {
    "duration": 48,
    "start_time": "2023-05-02T08:49:25.828Z"
   },
   {
    "duration": 87,
    "start_time": "2023-05-02T08:49:25.879Z"
   },
   {
    "duration": 231,
    "start_time": "2023-05-02T08:49:25.968Z"
   },
   {
    "duration": 5576,
    "start_time": "2023-05-02T08:49:26.202Z"
   },
   {
    "duration": 584,
    "start_time": "2023-05-02T08:49:31.780Z"
   },
   {
    "duration": 20,
    "start_time": "2023-05-02T08:49:32.368Z"
   },
   {
    "duration": 291,
    "start_time": "2023-05-02T08:49:32.391Z"
   },
   {
    "duration": 15,
    "start_time": "2023-05-02T08:49:32.686Z"
   },
   {
    "duration": 1125,
    "start_time": "2023-05-02T08:49:32.704Z"
   },
   {
    "duration": 141,
    "start_time": "2023-05-02T08:49:33.832Z"
   },
   {
    "duration": 15,
    "start_time": "2023-05-02T08:49:33.976Z"
   },
   {
    "duration": 1284,
    "start_time": "2023-05-02T08:49:33.994Z"
   },
   {
    "duration": 43,
    "start_time": "2023-05-02T08:49:35.280Z"
   },
   {
    "duration": 137,
    "start_time": "2023-05-02T08:49:35.325Z"
   },
   {
    "duration": 263,
    "start_time": "2023-05-02T08:49:35.466Z"
   },
   {
    "duration": 159,
    "start_time": "2023-05-02T08:49:35.734Z"
   },
   {
    "duration": 44,
    "start_time": "2023-05-02T08:49:35.896Z"
   },
   {
    "duration": 80,
    "start_time": "2023-05-02T08:49:35.944Z"
   },
   {
    "duration": 481,
    "start_time": "2023-05-02T08:49:36.027Z"
   },
   {
    "duration": 104,
    "start_time": "2023-05-02T08:49:36.512Z"
   },
   {
    "duration": 7,
    "start_time": "2023-05-02T08:49:36.619Z"
   },
   {
    "duration": 49,
    "start_time": "2023-05-02T08:49:36.628Z"
   },
   {
    "duration": 20,
    "start_time": "2023-05-02T08:49:36.681Z"
   },
   {
    "duration": 14,
    "start_time": "2023-05-02T08:49:36.705Z"
   },
   {
    "duration": 67,
    "start_time": "2023-05-02T08:49:36.723Z"
   },
   {
    "duration": 28,
    "start_time": "2023-05-02T08:49:36.793Z"
   },
   {
    "duration": 14,
    "start_time": "2023-05-02T08:49:36.825Z"
   },
   {
    "duration": 55,
    "start_time": "2023-05-02T08:49:36.847Z"
   },
   {
    "duration": 19,
    "start_time": "2023-05-02T08:49:36.905Z"
   },
   {
    "duration": 13,
    "start_time": "2023-05-02T08:49:36.927Z"
   },
   {
    "duration": 2200,
    "start_time": "2023-05-02T08:49:36.943Z"
   },
   {
    "duration": 2808,
    "start_time": "2023-05-02T08:49:39.146Z"
   },
   {
    "duration": 79,
    "start_time": "2023-05-02T08:49:41.964Z"
   },
   {
    "duration": 30,
    "start_time": "2023-05-02T08:49:42.046Z"
   },
   {
    "duration": 83190,
    "start_time": "2023-05-02T08:49:42.078Z"
   },
   {
    "duration": 83516,
    "start_time": "2023-05-02T08:51:05.271Z"
   },
   {
    "duration": 5,
    "start_time": "2023-05-02T08:52:28.791Z"
   },
   {
    "duration": 31,
    "start_time": "2023-05-02T08:52:28.800Z"
   },
   {
    "duration": 5892796,
    "start_time": "2023-05-02T08:52:28.834Z"
   },
   {
    "duration": 5898113,
    "start_time": "2023-05-02T10:30:41.632Z"
   },
   {
    "duration": 13,
    "start_time": "2023-05-02T12:08:59.747Z"
   },
   {
    "duration": 73,
    "start_time": "2023-05-02T12:08:59.763Z"
   },
   {
    "duration": 79,
    "start_time": "2023-05-02T12:08:59.839Z"
   },
   {
    "duration": 286,
    "start_time": "2023-05-02T12:08:59.920Z"
   },
   {
    "duration": 0,
    "start_time": "2023-05-02T12:09:00.210Z"
   },
   {
    "duration": 0,
    "start_time": "2023-05-02T12:09:00.211Z"
   },
   {
    "duration": 0,
    "start_time": "2023-05-02T12:09:00.214Z"
   },
   {
    "duration": 0,
    "start_time": "2023-05-02T12:09:00.215Z"
   },
   {
    "duration": 0,
    "start_time": "2023-05-02T12:09:00.217Z"
   },
   {
    "duration": 0,
    "start_time": "2023-05-02T12:09:00.218Z"
   },
   {
    "duration": 0,
    "start_time": "2023-05-02T12:09:00.220Z"
   },
   {
    "duration": 0,
    "start_time": "2023-05-02T12:09:00.222Z"
   },
   {
    "duration": 0,
    "start_time": "2023-05-02T12:09:00.223Z"
   },
   {
    "duration": 0,
    "start_time": "2023-05-02T12:09:00.224Z"
   },
   {
    "duration": 5,
    "start_time": "2023-05-02T14:52:33.181Z"
   },
   {
    "duration": 5,
    "start_time": "2023-05-02T14:52:33.812Z"
   },
   {
    "duration": 4,
    "start_time": "2023-05-02T14:52:34.612Z"
   },
   {
    "duration": 11,
    "start_time": "2023-05-02T14:52:35.264Z"
   },
   {
    "duration": 17,
    "start_time": "2023-05-02T14:52:37.672Z"
   },
   {
    "duration": 13,
    "start_time": "2023-05-02T14:52:38.980Z"
   },
   {
    "duration": 9,
    "start_time": "2023-05-02T14:52:39.960Z"
   },
   {
    "duration": 8,
    "start_time": "2023-05-02T14:52:41.377Z"
   },
   {
    "duration": 9,
    "start_time": "2023-05-02T14:52:42.214Z"
   },
   {
    "duration": 4,
    "start_time": "2023-05-02T14:52:42.727Z"
   },
   {
    "duration": 11,
    "start_time": "2023-05-02T14:52:44.771Z"
   }
  ],
  "kernelspec": {
   "display_name": "Python 3",
   "language": "python",
   "name": "python3"
  },
  "language_info": {
   "codemirror_mode": {
    "name": "ipython",
    "version": 3
   },
   "file_extension": ".py",
   "mimetype": "text/x-python",
   "name": "python",
   "nbconvert_exporter": "python",
   "pygments_lexer": "ipython3",
   "version": "3.8.8"
  },
  "toc": {
   "base_numbering": 1,
   "nav_menu": {},
   "number_sections": true,
   "sideBar": true,
   "skip_h1_title": true,
   "title_cell": "Содержание",
   "title_sidebar": "Contents",
   "toc_cell": true,
   "toc_position": {
    "height": "calc(100% - 180px)",
    "left": "10px",
    "top": "150px",
    "width": "175.243px"
   },
   "toc_section_display": true,
   "toc_window_display": true
  }
 },
 "nbformat": 4,
 "nbformat_minor": 2
}
