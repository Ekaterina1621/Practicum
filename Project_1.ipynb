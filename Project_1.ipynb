{
 "cells": [
  {
   "cell_type": "markdown",
   "metadata": {},
   "source": [
    "# Исследование данных о продаже компьютерных игр\n",
    "\n",
    " Из открытых источников доступны исторические данные о продажах игр, оценки пользователей и экспертов, жанры и платформы (например, Xbox или PlayStation). Необходимо выявить определяющие успешность игры закономерности. Это позволит сделать ставку на потенциально популярный продукт и спланировать рекламные кампании.\n",
    "\n",
    "В наборе данных попадается аббревиатура ESRB (Entertainment Software Rating Board) — это ассоциация, определяющая возрастной рейтинг компьютерных игр. ESRB оценивает игровой контент и присваивает ему подходящую возрастную категорию, например, «Для взрослых», «Для детей младшего возраста» или «Для подростков»."
   ]
  },
  {
   "cell_type": "markdown",
   "metadata": {},
   "source": [
    "**Цель исследования** — найти закономерности, которые определяют успешность компьютерной игры.\n",
    "\n",
    "**Ход исследования**\n",
    "\n",
    "Данные архива были взяты из файла `games.csv`. \n",
    "Перед исследованием данных необходимо прочитать файл, просмотреть информацию о нем. Для начала исправим все пропущенные значения, либо заполним их предполагаемыми, наиболее достоверными значениями, либо уберем строки, в которых такие значения невозможно подобрать, исправим типы столбцов при необходимости, уберем дубликаты. Далее проведем исселдовательский анализ данных, определим за какой период стоит рассматривать данные, чтобы в дальнейшим можно было построить прогноз на следующий год. Рассмотрим пользователей из трех регионов (NA, EU, JP), чем они различаются. \n",
    "А также проверим две гипотезы: \n",
    "- Средние пользовательские рейтинги платформ Xbox One и PC одинаковые;\n",
    "- Средние пользовательские рейтинги жанров Action (англ. «действие», экшен-игры) и Sports (англ. «спортивные соревнования») разные.\n",
    " \n",
    "Таким образом, исследование пройдёт в пять этапов:\n",
    " 1. Обзор данных.\n",
    " 2. Предобработка данных.\n",
    " 3. Исследовательский анализ данных.\n",
    " 4. Портрет пользователя каждого региона.\n",
    " 5. Проверка гипотез.\n",
    " \n",
    "**Описание данных** \n",
    "- `Name` — название игры \n",
    "- `Platform` — платформа \n",
    "- `Year_of_Release` — год выпуска \n",
    "- `Genre` — жанр игры \n",
    "- `NA_sales` — продажи в Северной Америке (миллионы проданных копий) \n",
    "- `EU_sales` — продажи в Европе (миллионы проданных копий) \n",
    "- `JP_sales` — продажи в Японии (миллионы проданных копий) \n",
    "- `Other_sales` — продажи в других странах (миллионы проданных копий) \n",
    "- `Critic_Score` — оценка критиков (максимум 100) \n",
    "- `User_Score` — оценка пользователей (максимум 10) \n",
    "- `Rating` — рейтинг от организации ESRB (англ. Entertainment Software Rating Board). Эта ассоциация определяет рейтинг компьютерных игр и присваивает им подходящую возрастную категорию. \n",
    "\n",
    "Данные за 2016 год могут быть неполными."
   ]
  },
  {
   "cell_type": "markdown",
   "metadata": {},
   "source": [
    "## Шаг 1. Откройте файл с данными и изучите общую информацию"
   ]
  },
  {
   "cell_type": "markdown",
   "metadata": {},
   "source": [
    "Импортируем все необходимые для исследования библиотеки."
   ]
  },
  {
   "cell_type": "code",
   "execution_count": 2,
   "metadata": {},
   "outputs": [],
   "source": [
    "import pandas as pd # импортируем библиотеку для работы с данными\n",
    "import matplotlib.pyplot as plt # импортируем библиотеку для работы со стилем графиков\n",
    "import numpy as np # импортируем библиотеку с математическими функциями\n",
    "import seaborn as sns # импортируем библиотеку для посторения графиков\n",
    "from scipy import stats as st # импортируем библиотеку для статистического анализа"
   ]
  },
  {
   "cell_type": "markdown",
   "metadata": {},
   "source": [
    "Откроем файл `/datasets/games.csv` и сохраним в переменную `data`."
   ]
  },
  {
   "cell_type": "code",
   "execution_count": 3,
   "metadata": {},
   "outputs": [],
   "source": [
    "data = pd.read_csv('/datasets/games.csv')"
   ]
  },
  {
   "cell_type": "markdown",
   "metadata": {},
   "source": [
    "Выведем первые 5 строк датафрейма методом `head()`."
   ]
  },
  {
   "cell_type": "code",
   "execution_count": 4,
   "metadata": {},
   "outputs": [
    {
     "data": {
      "text/html": [
       "<div>\n",
       "<style scoped>\n",
       "    .dataframe tbody tr th:only-of-type {\n",
       "        vertical-align: middle;\n",
       "    }\n",
       "\n",
       "    .dataframe tbody tr th {\n",
       "        vertical-align: top;\n",
       "    }\n",
       "\n",
       "    .dataframe thead th {\n",
       "        text-align: right;\n",
       "    }\n",
       "</style>\n",
       "<table border=\"1\" class=\"dataframe\">\n",
       "  <thead>\n",
       "    <tr style=\"text-align: right;\">\n",
       "      <th></th>\n",
       "      <th>Name</th>\n",
       "      <th>Platform</th>\n",
       "      <th>Year_of_Release</th>\n",
       "      <th>Genre</th>\n",
       "      <th>NA_sales</th>\n",
       "      <th>EU_sales</th>\n",
       "      <th>JP_sales</th>\n",
       "      <th>Other_sales</th>\n",
       "      <th>Critic_Score</th>\n",
       "      <th>User_Score</th>\n",
       "      <th>Rating</th>\n",
       "    </tr>\n",
       "  </thead>\n",
       "  <tbody>\n",
       "    <tr>\n",
       "      <th>0</th>\n",
       "      <td>Wii Sports</td>\n",
       "      <td>Wii</td>\n",
       "      <td>2006.0</td>\n",
       "      <td>Sports</td>\n",
       "      <td>41.36</td>\n",
       "      <td>28.96</td>\n",
       "      <td>3.77</td>\n",
       "      <td>8.45</td>\n",
       "      <td>76.0</td>\n",
       "      <td>8</td>\n",
       "      <td>E</td>\n",
       "    </tr>\n",
       "    <tr>\n",
       "      <th>1</th>\n",
       "      <td>Super Mario Bros.</td>\n",
       "      <td>NES</td>\n",
       "      <td>1985.0</td>\n",
       "      <td>Platform</td>\n",
       "      <td>29.08</td>\n",
       "      <td>3.58</td>\n",
       "      <td>6.81</td>\n",
       "      <td>0.77</td>\n",
       "      <td>NaN</td>\n",
       "      <td>NaN</td>\n",
       "      <td>NaN</td>\n",
       "    </tr>\n",
       "    <tr>\n",
       "      <th>2</th>\n",
       "      <td>Mario Kart Wii</td>\n",
       "      <td>Wii</td>\n",
       "      <td>2008.0</td>\n",
       "      <td>Racing</td>\n",
       "      <td>15.68</td>\n",
       "      <td>12.76</td>\n",
       "      <td>3.79</td>\n",
       "      <td>3.29</td>\n",
       "      <td>82.0</td>\n",
       "      <td>8.3</td>\n",
       "      <td>E</td>\n",
       "    </tr>\n",
       "    <tr>\n",
       "      <th>3</th>\n",
       "      <td>Wii Sports Resort</td>\n",
       "      <td>Wii</td>\n",
       "      <td>2009.0</td>\n",
       "      <td>Sports</td>\n",
       "      <td>15.61</td>\n",
       "      <td>10.93</td>\n",
       "      <td>3.28</td>\n",
       "      <td>2.95</td>\n",
       "      <td>80.0</td>\n",
       "      <td>8</td>\n",
       "      <td>E</td>\n",
       "    </tr>\n",
       "    <tr>\n",
       "      <th>4</th>\n",
       "      <td>Pokemon Red/Pokemon Blue</td>\n",
       "      <td>GB</td>\n",
       "      <td>1996.0</td>\n",
       "      <td>Role-Playing</td>\n",
       "      <td>11.27</td>\n",
       "      <td>8.89</td>\n",
       "      <td>10.22</td>\n",
       "      <td>1.00</td>\n",
       "      <td>NaN</td>\n",
       "      <td>NaN</td>\n",
       "      <td>NaN</td>\n",
       "    </tr>\n",
       "  </tbody>\n",
       "</table>\n",
       "</div>"
      ],
      "text/plain": [
       "                       Name Platform  Year_of_Release         Genre  NA_sales  \\\n",
       "0                Wii Sports      Wii           2006.0        Sports     41.36   \n",
       "1         Super Mario Bros.      NES           1985.0      Platform     29.08   \n",
       "2            Mario Kart Wii      Wii           2008.0        Racing     15.68   \n",
       "3         Wii Sports Resort      Wii           2009.0        Sports     15.61   \n",
       "4  Pokemon Red/Pokemon Blue       GB           1996.0  Role-Playing     11.27   \n",
       "\n",
       "   EU_sales  JP_sales  Other_sales  Critic_Score User_Score Rating  \n",
       "0     28.96      3.77         8.45          76.0          8      E  \n",
       "1      3.58      6.81         0.77           NaN        NaN    NaN  \n",
       "2     12.76      3.79         3.29          82.0        8.3      E  \n",
       "3     10.93      3.28         2.95          80.0          8      E  \n",
       "4      8.89     10.22         1.00           NaN        NaN    NaN  "
      ]
     },
     "execution_count": 4,
     "metadata": {},
     "output_type": "execute_result"
    }
   ],
   "source": [
    "data.head()"
   ]
  },
  {
   "cell_type": "markdown",
   "metadata": {},
   "source": [
    "Также посмотрим общую информацию о нем методом `info()`."
   ]
  },
  {
   "cell_type": "code",
   "execution_count": 5,
   "metadata": {},
   "outputs": [
    {
     "name": "stdout",
     "output_type": "stream",
     "text": [
      "<class 'pandas.core.frame.DataFrame'>\n",
      "RangeIndex: 16715 entries, 0 to 16714\n",
      "Data columns (total 11 columns):\n",
      " #   Column           Non-Null Count  Dtype  \n",
      "---  ------           --------------  -----  \n",
      " 0   Name             16713 non-null  object \n",
      " 1   Platform         16715 non-null  object \n",
      " 2   Year_of_Release  16446 non-null  float64\n",
      " 3   Genre            16713 non-null  object \n",
      " 4   NA_sales         16715 non-null  float64\n",
      " 5   EU_sales         16715 non-null  float64\n",
      " 6   JP_sales         16715 non-null  float64\n",
      " 7   Other_sales      16715 non-null  float64\n",
      " 8   Critic_Score     8137 non-null   float64\n",
      " 9   User_Score       10014 non-null  object \n",
      " 10  Rating           9949 non-null   object \n",
      "dtypes: float64(6), object(5)\n",
      "memory usage: 1.4+ MB\n"
     ]
    }
   ],
   "source": [
    "data.info()"
   ]
  },
  {
   "cell_type": "markdown",
   "metadata": {},
   "source": [
    "В некоторых столбцах пропущены значения (`Name`, `Year_of_Release`, `Genre`, `Critic_Score`, `User_Score`, `Rating`). Необходимо будет просмотреть все такие столбцы и либо заполнить пропуски либо удалить такие строки. Стоит проверить столбцы на выбросы и удалить аномалии. Надо перевести название столбцов в нижний регистр и проверить что ни в одном названии нет пробелов в начале или в конце. Также проверим типы данных в каждом столбце, например год выхода (`Year_of_Release`) скорее всего стоит перевести к типу дата."
   ]
  },
  {
   "cell_type": "markdown",
   "metadata": {},
   "source": [
    "## Шаг 2. Подготовьте данные"
   ]
  },
  {
   "cell_type": "markdown",
   "metadata": {},
   "source": [
    "### Замените названия столбцов (приведите к нижнему регистру)"
   ]
  },
  {
   "cell_type": "markdown",
   "metadata": {},
   "source": [
    "Переведем название столбцов к нижнему регистру."
   ]
  },
  {
   "cell_type": "code",
   "execution_count": 6,
   "metadata": {},
   "outputs": [],
   "source": [
    "data.columns = data.columns.str.lower()"
   ]
  },
  {
   "cell_type": "markdown",
   "metadata": {},
   "source": [
    "Проверим, что лишних отступов в названиях столбцов нет."
   ]
  },
  {
   "cell_type": "code",
   "execution_count": 7,
   "metadata": {},
   "outputs": [
    {
     "data": {
      "text/plain": [
       "Index(['name', 'platform', 'year_of_release', 'genre', 'na_sales', 'eu_sales',\n",
       "       'jp_sales', 'other_sales', 'critic_score', 'user_score', 'rating'],\n",
       "      dtype='object')"
      ]
     },
     "execution_count": 7,
     "metadata": {},
     "output_type": "execute_result"
    }
   ],
   "source": [
    "data.columns"
   ]
  },
  {
   "cell_type": "markdown",
   "metadata": {},
   "source": [
    "Лишних отступов не видно, значит все хорошо."
   ]
  },
  {
   "cell_type": "markdown",
   "metadata": {},
   "source": [
    "Из общей информации по датафрейму мы уже нашли столбцы, которые надо проверить на причины появления пропусков, заменить их на логичные значения (например медиана или логичная замена NaN) либо удалить строки, где пропущенные значения невозможно востановить или предположить."
   ]
  },
  {
   "cell_type": "code",
   "execution_count": 8,
   "metadata": {
    "scrolled": true
   },
   "outputs": [
    {
     "data": {
      "text/plain": [
       "name                  2\n",
       "platform              0\n",
       "year_of_release     269\n",
       "genre                 2\n",
       "na_sales              0\n",
       "eu_sales              0\n",
       "jp_sales              0\n",
       "other_sales           0\n",
       "critic_score       8578\n",
       "user_score         6701\n",
       "rating             6766\n",
       "dtype: int64"
      ]
     },
     "execution_count": 8,
     "metadata": {},
     "output_type": "execute_result"
    }
   ],
   "source": [
    "# Найдем количесвто пропусков по столбцам\n",
    "\n",
    "data.isna().sum()"
   ]
  },
  {
   "cell_type": "markdown",
   "metadata": {},
   "source": [
    "Также посмотрим долю пропусков, и на основании этого приним решение о удалении либо замене пропусков. В случае если доля пропусков мала (менее 5%), для экономии времени такие пропуски можно удалить."
   ]
  },
  {
   "cell_type": "code",
   "execution_count": 9,
   "metadata": {},
   "outputs": [
    {
     "data": {
      "text/html": [
       "<style  type=\"text/css\" >\n",
       "#T_a71cb_row0_col0,#T_a71cb_row1_col0,#T_a71cb_row3_col0,#T_a71cb_row4_col0,#T_a71cb_row5_col0,#T_a71cb_row6_col0,#T_a71cb_row7_col0{\n",
       "            background-color:  #3b4cc0;\n",
       "            color:  #f1f1f1;\n",
       "        }#T_a71cb_row2_col0{\n",
       "            background-color:  #4358cb;\n",
       "            color:  #f1f1f1;\n",
       "        }#T_a71cb_row8_col0{\n",
       "            background-color:  #b40426;\n",
       "            color:  #f1f1f1;\n",
       "        }#T_a71cb_row9_col0{\n",
       "            background-color:  #f08b6e;\n",
       "            color:  #000000;\n",
       "        }#T_a71cb_row10_col0{\n",
       "            background-color:  #ef886b;\n",
       "            color:  #000000;\n",
       "        }</style><table id=\"T_a71cb_\" ><thead>    <tr>        <th class=\"blank level0\" ></th>        <th class=\"col_heading level0 col0\" >0</th>    </tr></thead><tbody>\n",
       "                <tr>\n",
       "                        <th id=\"T_a71cb_level0_row0\" class=\"row_heading level0 row0\" >name</th>\n",
       "                        <td id=\"T_a71cb_row0_col0\" class=\"data row0 col0\" >0.000000</td>\n",
       "            </tr>\n",
       "            <tr>\n",
       "                        <th id=\"T_a71cb_level0_row1\" class=\"row_heading level0 row1\" >platform</th>\n",
       "                        <td id=\"T_a71cb_row1_col0\" class=\"data row1 col0\" >0.000000</td>\n",
       "            </tr>\n",
       "            <tr>\n",
       "                        <th id=\"T_a71cb_level0_row2\" class=\"row_heading level0 row2\" >year_of_release</th>\n",
       "                        <td id=\"T_a71cb_row2_col0\" class=\"data row2 col0\" >1.600000</td>\n",
       "            </tr>\n",
       "            <tr>\n",
       "                        <th id=\"T_a71cb_level0_row3\" class=\"row_heading level0 row3\" >genre</th>\n",
       "                        <td id=\"T_a71cb_row3_col0\" class=\"data row3 col0\" >0.000000</td>\n",
       "            </tr>\n",
       "            <tr>\n",
       "                        <th id=\"T_a71cb_level0_row4\" class=\"row_heading level0 row4\" >na_sales</th>\n",
       "                        <td id=\"T_a71cb_row4_col0\" class=\"data row4 col0\" >0.000000</td>\n",
       "            </tr>\n",
       "            <tr>\n",
       "                        <th id=\"T_a71cb_level0_row5\" class=\"row_heading level0 row5\" >eu_sales</th>\n",
       "                        <td id=\"T_a71cb_row5_col0\" class=\"data row5 col0\" >0.000000</td>\n",
       "            </tr>\n",
       "            <tr>\n",
       "                        <th id=\"T_a71cb_level0_row6\" class=\"row_heading level0 row6\" >jp_sales</th>\n",
       "                        <td id=\"T_a71cb_row6_col0\" class=\"data row6 col0\" >0.000000</td>\n",
       "            </tr>\n",
       "            <tr>\n",
       "                        <th id=\"T_a71cb_level0_row7\" class=\"row_heading level0 row7\" >other_sales</th>\n",
       "                        <td id=\"T_a71cb_row7_col0\" class=\"data row7 col0\" >0.000000</td>\n",
       "            </tr>\n",
       "            <tr>\n",
       "                        <th id=\"T_a71cb_level0_row8\" class=\"row_heading level0 row8\" >critic_score</th>\n",
       "                        <td id=\"T_a71cb_row8_col0\" class=\"data row8 col0\" >51.300000</td>\n",
       "            </tr>\n",
       "            <tr>\n",
       "                        <th id=\"T_a71cb_level0_row9\" class=\"row_heading level0 row9\" >user_score</th>\n",
       "                        <td id=\"T_a71cb_row9_col0\" class=\"data row9 col0\" >40.100000</td>\n",
       "            </tr>\n",
       "            <tr>\n",
       "                        <th id=\"T_a71cb_level0_row10\" class=\"row_heading level0 row10\" >rating</th>\n",
       "                        <td id=\"T_a71cb_row10_col0\" class=\"data row10 col0\" >40.500000</td>\n",
       "            </tr>\n",
       "    </tbody></table>"
      ],
      "text/plain": [
       "<pandas.io.formats.style.Styler at 0x7f62935fa070>"
      ]
     },
     "execution_count": 9,
     "metadata": {},
     "output_type": "execute_result"
    }
   ],
   "source": [
    "# Найдем долю пропусков по столбцам\n",
    "\n",
    "pd.DataFrame(round(data.isna().mean()*100,1)).style.background_gradient('coolwarm')"
   ]
  },
  {
   "cell_type": "markdown",
   "metadata": {},
   "source": [
    "По первой таблице видно что есть пропуски в столбцах `name` и `genre`, но их доля так мала (всего 2 пропуска), что вторая таблица их не выделяет. Такие пропуски точно можно удлаить. Также в столбце `year_of_release` менее 2% пропусков, тоже можно удалить, учитывая, что год релиза не предположить.\n",
    "А вот в последних трех столбцах `critic_score`, `user_score`, `rating` более 40% пропусков и просто удалить их нельзя, потеряется много важных данных. Рассмотрим их подробней."
   ]
  },
  {
   "cell_type": "code",
   "execution_count": 10,
   "metadata": {},
   "outputs": [],
   "source": [
    "# Удалим пропуски в трех столбцах: Name, Year_of_Release, Genre\n",
    "\n",
    "data = data.dropna(subset=['name','year_of_release','genre'])"
   ]
  },
  {
   "cell_type": "markdown",
   "metadata": {},
   "source": [
    "Пропуски в `critic_score` составляют более 50%. Но оставим их пропусками, так как остается вероятность что критики либо не успели либо просто не стали оценивать некоторые игры, например это локальные игры, которые не выходили на мировой рынок, либо млишком плохие и оценивать их нет смылса. Некоторые пропуски также могли появится из-за сбоя при выгрузке данных."
   ]
  },
  {
   "cell_type": "markdown",
   "metadata": {},
   "source": [
    "### Преобразуйте данные в нужные типы"
   ]
  },
  {
   "cell_type": "markdown",
   "metadata": {},
   "source": [
    "Заменим в `user_score` все неопределенный значения рейтинга на `NaN`. Если значения рейтинга неопределено, высока вероятность что пользователи еще не поставил оценку платформе."
   ]
  },
  {
   "cell_type": "code",
   "execution_count": 11,
   "metadata": {},
   "outputs": [],
   "source": [
    "data['user_score'] = data['user_score'].replace('tbd', np.NaN)"
   ]
  },
  {
   "cell_type": "markdown",
   "metadata": {},
   "source": [
    "Переведем его в тип `float`, чтобы в дальнейшем исследовании было легче работать."
   ]
  },
  {
   "cell_type": "code",
   "execution_count": 12,
   "metadata": {},
   "outputs": [],
   "source": [
    "data['user_score'] = data['user_score'].astype('float')"
   ]
  },
  {
   "cell_type": "markdown",
   "metadata": {},
   "source": [
    "В столбце `rating` указан возрастной рейтинг ESRB. Для 40% игр он не определен, заменим его на `No rating`, так как определить его может только специальная организация, заполнить пропуски сами мы не можем. Ассоциация могла еще не оценить некоторые игры, либо произошел сбой при выгрузке данных."
   ]
  },
  {
   "cell_type": "code",
   "execution_count": 13,
   "metadata": {},
   "outputs": [],
   "source": [
    "data['rating'] = data['rating'].fillna('RP')"
   ]
  },
  {
   "cell_type": "markdown",
   "metadata": {},
   "source": [
    "Теперь проверим столбцы `year_of_release`, `genre`,\t`na_sales`,\t`eu_sales`,\t`jp_sales`,\t`other_sales`,\t`critic_score`,\t`user_score`,\t`rating` на аномалии, дубликаты, выбросы и при необхлдимости исправим типа данных столбца."
   ]
  },
  {
   "cell_type": "markdown",
   "metadata": {},
   "source": [
    "Столбец `year_of_release` содержит в себе информацию о годе выхода игры на платформе. Столбец должен иметь тип `datetime`, а не `float64`, который имеет сейчас."
   ]
  },
  {
   "cell_type": "code",
   "execution_count": 14,
   "metadata": {},
   "outputs": [],
   "source": [
    "# Изменим тип данных столбца year_of_release\n",
    "\n",
    "data['year_of_release'] = pd.to_datetime(data['year_of_release'], format='%Y')\n",
    "data['year_of_release'] = data['year_of_release'].dt.year # возьмем только год выпуска, так как точная дата неизвестна"
   ]
  },
  {
   "cell_type": "markdown",
   "metadata": {},
   "source": [
    "Теперь посмотрим на уникальные значения столбеца `genre`."
   ]
  },
  {
   "cell_type": "code",
   "execution_count": 15,
   "metadata": {},
   "outputs": [
    {
     "data": {
      "text/plain": [
       "array(['Sports', 'Platform', 'Racing', 'Role-Playing', 'Puzzle', 'Misc',\n",
       "       'Shooter', 'Simulation', 'Action', 'Fighting', 'Adventure',\n",
       "       'Strategy'], dtype=object)"
      ]
     },
     "execution_count": 15,
     "metadata": {},
     "output_type": "execute_result"
    }
   ],
   "source": [
    "data['genre'].unique()"
   ]
  },
  {
   "cell_type": "markdown",
   "metadata": {},
   "source": [
    "Каждый жанр записан только 1 способом, неявных дубликатов нет. "
   ]
  },
  {
   "cell_type": "markdown",
   "metadata": {},
   "source": [
    "В столбце `na_sales` хранится информация о продажах в Северной Америке (миллионы проданных копий). Отсортируем датафрейм по этому столбцу, а также посмотрим на диаграмму рассеяния для выяаления выбрасов. "
   ]
  },
  {
   "cell_type": "code",
   "execution_count": 16,
   "metadata": {},
   "outputs": [
    {
     "data": {
      "text/html": [
       "<div>\n",
       "<style scoped>\n",
       "    .dataframe tbody tr th:only-of-type {\n",
       "        vertical-align: middle;\n",
       "    }\n",
       "\n",
       "    .dataframe tbody tr th {\n",
       "        vertical-align: top;\n",
       "    }\n",
       "\n",
       "    .dataframe thead th {\n",
       "        text-align: right;\n",
       "    }\n",
       "</style>\n",
       "<table border=\"1\" class=\"dataframe\">\n",
       "  <thead>\n",
       "    <tr style=\"text-align: right;\">\n",
       "      <th></th>\n",
       "      <th>name</th>\n",
       "      <th>platform</th>\n",
       "      <th>year_of_release</th>\n",
       "      <th>genre</th>\n",
       "      <th>na_sales</th>\n",
       "      <th>eu_sales</th>\n",
       "      <th>jp_sales</th>\n",
       "      <th>other_sales</th>\n",
       "      <th>critic_score</th>\n",
       "      <th>user_score</th>\n",
       "      <th>rating</th>\n",
       "    </tr>\n",
       "  </thead>\n",
       "  <tbody>\n",
       "    <tr>\n",
       "      <th>16714</th>\n",
       "      <td>Winning Post 8 2016</td>\n",
       "      <td>PSV</td>\n",
       "      <td>2016</td>\n",
       "      <td>Simulation</td>\n",
       "      <td>0.00</td>\n",
       "      <td>0.00</td>\n",
       "      <td>0.01</td>\n",
       "      <td>0.00</td>\n",
       "      <td>NaN</td>\n",
       "      <td>NaN</td>\n",
       "      <td>RP</td>\n",
       "    </tr>\n",
       "    <tr>\n",
       "      <th>12497</th>\n",
       "      <td>Nazotoki Battle Tore! Densetsu no Makyuu o Fuk...</td>\n",
       "      <td>3DS</td>\n",
       "      <td>2014</td>\n",
       "      <td>Action</td>\n",
       "      <td>0.00</td>\n",
       "      <td>0.00</td>\n",
       "      <td>0.06</td>\n",
       "      <td>0.00</td>\n",
       "      <td>NaN</td>\n",
       "      <td>NaN</td>\n",
       "      <td>RP</td>\n",
       "    </tr>\n",
       "    <tr>\n",
       "      <th>12498</th>\n",
       "      <td>Theme Park</td>\n",
       "      <td>DS</td>\n",
       "      <td>2007</td>\n",
       "      <td>Simulation</td>\n",
       "      <td>0.00</td>\n",
       "      <td>0.02</td>\n",
       "      <td>0.03</td>\n",
       "      <td>0.00</td>\n",
       "      <td>72.0</td>\n",
       "      <td>7.6</td>\n",
       "      <td>E</td>\n",
       "    </tr>\n",
       "    <tr>\n",
       "      <th>12502</th>\n",
       "      <td>Super Robot Wars OG Saga Masou Kishin F: Coffi...</td>\n",
       "      <td>PS3</td>\n",
       "      <td>2014</td>\n",
       "      <td>Strategy</td>\n",
       "      <td>0.00</td>\n",
       "      <td>0.00</td>\n",
       "      <td>0.06</td>\n",
       "      <td>0.00</td>\n",
       "      <td>NaN</td>\n",
       "      <td>NaN</td>\n",
       "      <td>RP</td>\n",
       "    </tr>\n",
       "    <tr>\n",
       "      <th>12503</th>\n",
       "      <td>The Next BIG Thing</td>\n",
       "      <td>PC</td>\n",
       "      <td>2011</td>\n",
       "      <td>Adventure</td>\n",
       "      <td>0.00</td>\n",
       "      <td>0.05</td>\n",
       "      <td>0.00</td>\n",
       "      <td>0.01</td>\n",
       "      <td>75.0</td>\n",
       "      <td>7.9</td>\n",
       "      <td>E10+</td>\n",
       "    </tr>\n",
       "    <tr>\n",
       "      <th>...</th>\n",
       "      <td>...</td>\n",
       "      <td>...</td>\n",
       "      <td>...</td>\n",
       "      <td>...</td>\n",
       "      <td>...</td>\n",
       "      <td>...</td>\n",
       "      <td>...</td>\n",
       "      <td>...</td>\n",
       "      <td>...</td>\n",
       "      <td>...</td>\n",
       "      <td>...</td>\n",
       "    </tr>\n",
       "    <tr>\n",
       "      <th>2</th>\n",
       "      <td>Mario Kart Wii</td>\n",
       "      <td>Wii</td>\n",
       "      <td>2008</td>\n",
       "      <td>Racing</td>\n",
       "      <td>15.68</td>\n",
       "      <td>12.76</td>\n",
       "      <td>3.79</td>\n",
       "      <td>3.29</td>\n",
       "      <td>82.0</td>\n",
       "      <td>8.3</td>\n",
       "      <td>E</td>\n",
       "    </tr>\n",
       "    <tr>\n",
       "      <th>5</th>\n",
       "      <td>Tetris</td>\n",
       "      <td>GB</td>\n",
       "      <td>1989</td>\n",
       "      <td>Puzzle</td>\n",
       "      <td>23.20</td>\n",
       "      <td>2.26</td>\n",
       "      <td>4.22</td>\n",
       "      <td>0.58</td>\n",
       "      <td>NaN</td>\n",
       "      <td>NaN</td>\n",
       "      <td>RP</td>\n",
       "    </tr>\n",
       "    <tr>\n",
       "      <th>9</th>\n",
       "      <td>Duck Hunt</td>\n",
       "      <td>NES</td>\n",
       "      <td>1984</td>\n",
       "      <td>Shooter</td>\n",
       "      <td>26.93</td>\n",
       "      <td>0.63</td>\n",
       "      <td>0.28</td>\n",
       "      <td>0.47</td>\n",
       "      <td>NaN</td>\n",
       "      <td>NaN</td>\n",
       "      <td>RP</td>\n",
       "    </tr>\n",
       "    <tr>\n",
       "      <th>1</th>\n",
       "      <td>Super Mario Bros.</td>\n",
       "      <td>NES</td>\n",
       "      <td>1985</td>\n",
       "      <td>Platform</td>\n",
       "      <td>29.08</td>\n",
       "      <td>3.58</td>\n",
       "      <td>6.81</td>\n",
       "      <td>0.77</td>\n",
       "      <td>NaN</td>\n",
       "      <td>NaN</td>\n",
       "      <td>RP</td>\n",
       "    </tr>\n",
       "    <tr>\n",
       "      <th>0</th>\n",
       "      <td>Wii Sports</td>\n",
       "      <td>Wii</td>\n",
       "      <td>2006</td>\n",
       "      <td>Sports</td>\n",
       "      <td>41.36</td>\n",
       "      <td>28.96</td>\n",
       "      <td>3.77</td>\n",
       "      <td>8.45</td>\n",
       "      <td>76.0</td>\n",
       "      <td>8.0</td>\n",
       "      <td>E</td>\n",
       "    </tr>\n",
       "  </tbody>\n",
       "</table>\n",
       "<p>16444 rows × 11 columns</p>\n",
       "</div>"
      ],
      "text/plain": [
       "                                                    name platform  \\\n",
       "16714                                Winning Post 8 2016      PSV   \n",
       "12497  Nazotoki Battle Tore! Densetsu no Makyuu o Fuk...      3DS   \n",
       "12498                                         Theme Park       DS   \n",
       "12502  Super Robot Wars OG Saga Masou Kishin F: Coffi...      PS3   \n",
       "12503                                 The Next BIG Thing       PC   \n",
       "...                                                  ...      ...   \n",
       "2                                         Mario Kart Wii      Wii   \n",
       "5                                                 Tetris       GB   \n",
       "9                                              Duck Hunt      NES   \n",
       "1                                      Super Mario Bros.      NES   \n",
       "0                                             Wii Sports      Wii   \n",
       "\n",
       "       year_of_release       genre  na_sales  eu_sales  jp_sales  other_sales  \\\n",
       "16714             2016  Simulation      0.00      0.00      0.01         0.00   \n",
       "12497             2014      Action      0.00      0.00      0.06         0.00   \n",
       "12498             2007  Simulation      0.00      0.02      0.03         0.00   \n",
       "12502             2014    Strategy      0.00      0.00      0.06         0.00   \n",
       "12503             2011   Adventure      0.00      0.05      0.00         0.01   \n",
       "...                ...         ...       ...       ...       ...          ...   \n",
       "2                 2008      Racing     15.68     12.76      3.79         3.29   \n",
       "5                 1989      Puzzle     23.20      2.26      4.22         0.58   \n",
       "9                 1984     Shooter     26.93      0.63      0.28         0.47   \n",
       "1                 1985    Platform     29.08      3.58      6.81         0.77   \n",
       "0                 2006      Sports     41.36     28.96      3.77         8.45   \n",
       "\n",
       "       critic_score  user_score rating  \n",
       "16714           NaN         NaN     RP  \n",
       "12497           NaN         NaN     RP  \n",
       "12498          72.0         7.6      E  \n",
       "12502           NaN         NaN     RP  \n",
       "12503          75.0         7.9   E10+  \n",
       "...             ...         ...    ...  \n",
       "2              82.0         8.3      E  \n",
       "5               NaN         NaN     RP  \n",
       "9               NaN         NaN     RP  \n",
       "1               NaN         NaN     RP  \n",
       "0              76.0         8.0      E  \n",
       "\n",
       "[16444 rows x 11 columns]"
      ]
     },
     "execution_count": 16,
     "metadata": {},
     "output_type": "execute_result"
    }
   ],
   "source": [
    "# Сортируем по столбцу na_sales\n",
    "\n",
    "data.sort_values(by='na_sales')"
   ]
  },
  {
   "cell_type": "code",
   "execution_count": 17,
   "metadata": {},
   "outputs": [
    {
     "data": {
      "image/png": "[encoded data removed]",
      "text/plain": [
       "<Figure size 432x288 with 1 Axes>"
      ]
     },
     "metadata": {
      "needs_background": "light"
     },
     "output_type": "display_data"
    }
   ],
   "source": [
    "# Строим диаграмму размаха\n",
    "\n",
    "data.boxplot('na_sales')\n",
    "plt.show()"
   ]
  },
  {
   "cell_type": "markdown",
   "metadata": {},
   "source": [
    "Из таблицы видно, что есть много игр, которые вообще не продавали в Америке, а на диаграмме показано много выбрасов, при этом нельзя вообще различить медиану. Однако выбросы убирать не будем, такое количество проданных копий вполне могло быть. Но ближе рассмотрим начало таблицы, так как медиана по диаграмме почти равна 0, а это подозрительно. Также построим диаграмму размаха с ограничением на ось \"у\", чтобы посмотреть на медиану и квантили."
   ]
  },
  {
   "cell_type": "code",
   "execution_count": 18,
   "metadata": {},
   "outputs": [
    {
     "data": {
      "text/html": [
       "<div>\n",
       "<style scoped>\n",
       "    .dataframe tbody tr th:only-of-type {\n",
       "        vertical-align: middle;\n",
       "    }\n",
       "\n",
       "    .dataframe tbody tr th {\n",
       "        vertical-align: top;\n",
       "    }\n",
       "\n",
       "    .dataframe thead th {\n",
       "        text-align: right;\n",
       "    }\n",
       "</style>\n",
       "<table border=\"1\" class=\"dataframe\">\n",
       "  <thead>\n",
       "    <tr style=\"text-align: right;\">\n",
       "      <th></th>\n",
       "      <th>name</th>\n",
       "      <th>platform</th>\n",
       "      <th>year_of_release</th>\n",
       "      <th>genre</th>\n",
       "      <th>na_sales</th>\n",
       "      <th>eu_sales</th>\n",
       "      <th>jp_sales</th>\n",
       "      <th>other_sales</th>\n",
       "      <th>critic_score</th>\n",
       "      <th>user_score</th>\n",
       "      <th>rating</th>\n",
       "    </tr>\n",
       "  </thead>\n",
       "  <tbody>\n",
       "    <tr>\n",
       "      <th>16714</th>\n",
       "      <td>Winning Post 8 2016</td>\n",
       "      <td>PSV</td>\n",
       "      <td>2016</td>\n",
       "      <td>Simulation</td>\n",
       "      <td>0.0</td>\n",
       "      <td>0.00</td>\n",
       "      <td>0.01</td>\n",
       "      <td>0.00</td>\n",
       "      <td>NaN</td>\n",
       "      <td>NaN</td>\n",
       "      <td>RP</td>\n",
       "    </tr>\n",
       "    <tr>\n",
       "      <th>12497</th>\n",
       "      <td>Nazotoki Battle Tore! Densetsu no Makyuu o Fuk...</td>\n",
       "      <td>3DS</td>\n",
       "      <td>2014</td>\n",
       "      <td>Action</td>\n",
       "      <td>0.0</td>\n",
       "      <td>0.00</td>\n",
       "      <td>0.06</td>\n",
       "      <td>0.00</td>\n",
       "      <td>NaN</td>\n",
       "      <td>NaN</td>\n",
       "      <td>RP</td>\n",
       "    </tr>\n",
       "    <tr>\n",
       "      <th>12498</th>\n",
       "      <td>Theme Park</td>\n",
       "      <td>DS</td>\n",
       "      <td>2007</td>\n",
       "      <td>Simulation</td>\n",
       "      <td>0.0</td>\n",
       "      <td>0.02</td>\n",
       "      <td>0.03</td>\n",
       "      <td>0.00</td>\n",
       "      <td>72.0</td>\n",
       "      <td>7.6</td>\n",
       "      <td>E</td>\n",
       "    </tr>\n",
       "    <tr>\n",
       "      <th>12502</th>\n",
       "      <td>Super Robot Wars OG Saga Masou Kishin F: Coffi...</td>\n",
       "      <td>PS3</td>\n",
       "      <td>2014</td>\n",
       "      <td>Strategy</td>\n",
       "      <td>0.0</td>\n",
       "      <td>0.00</td>\n",
       "      <td>0.06</td>\n",
       "      <td>0.00</td>\n",
       "      <td>NaN</td>\n",
       "      <td>NaN</td>\n",
       "      <td>RP</td>\n",
       "    </tr>\n",
       "    <tr>\n",
       "      <th>12503</th>\n",
       "      <td>The Next BIG Thing</td>\n",
       "      <td>PC</td>\n",
       "      <td>2011</td>\n",
       "      <td>Adventure</td>\n",
       "      <td>0.0</td>\n",
       "      <td>0.05</td>\n",
       "      <td>0.00</td>\n",
       "      <td>0.01</td>\n",
       "      <td>75.0</td>\n",
       "      <td>7.9</td>\n",
       "      <td>E10+</td>\n",
       "    </tr>\n",
       "    <tr>\n",
       "      <th>4547</th>\n",
       "      <td>Neon Genesis Evangelion 2nd Impression</td>\n",
       "      <td>SAT</td>\n",
       "      <td>1997</td>\n",
       "      <td>Role-Playing</td>\n",
       "      <td>0.0</td>\n",
       "      <td>0.00</td>\n",
       "      <td>0.42</td>\n",
       "      <td>0.00</td>\n",
       "      <td>NaN</td>\n",
       "      <td>NaN</td>\n",
       "      <td>RP</td>\n",
       "    </tr>\n",
       "    <tr>\n",
       "      <th>4546</th>\n",
       "      <td>Dai-2-Ji Super Robot Taisen Z: Hakai-hen</td>\n",
       "      <td>PSP</td>\n",
       "      <td>2011</td>\n",
       "      <td>Strategy</td>\n",
       "      <td>0.0</td>\n",
       "      <td>0.00</td>\n",
       "      <td>0.42</td>\n",
       "      <td>0.00</td>\n",
       "      <td>NaN</td>\n",
       "      <td>NaN</td>\n",
       "      <td>RP</td>\n",
       "    </tr>\n",
       "    <tr>\n",
       "      <th>12505</th>\n",
       "      <td>Minna no DS Seminar: Kanpeki Eitango Ryoku</td>\n",
       "      <td>DS</td>\n",
       "      <td>2006</td>\n",
       "      <td>Misc</td>\n",
       "      <td>0.0</td>\n",
       "      <td>0.00</td>\n",
       "      <td>0.06</td>\n",
       "      <td>0.00</td>\n",
       "      <td>NaN</td>\n",
       "      <td>NaN</td>\n",
       "      <td>RP</td>\n",
       "    </tr>\n",
       "    <tr>\n",
       "      <th>12495</th>\n",
       "      <td>Mobile Suit Gundam 00: Gundam Meisters</td>\n",
       "      <td>PS2</td>\n",
       "      <td>2008</td>\n",
       "      <td>Action</td>\n",
       "      <td>0.0</td>\n",
       "      <td>0.00</td>\n",
       "      <td>0.06</td>\n",
       "      <td>0.00</td>\n",
       "      <td>NaN</td>\n",
       "      <td>NaN</td>\n",
       "      <td>RP</td>\n",
       "    </tr>\n",
       "    <tr>\n",
       "      <th>12506</th>\n",
       "      <td>Kirarin * Revolution: Minna de Odorou Furi Fur...</td>\n",
       "      <td>DS</td>\n",
       "      <td>2008</td>\n",
       "      <td>Simulation</td>\n",
       "      <td>0.0</td>\n",
       "      <td>0.00</td>\n",
       "      <td>0.06</td>\n",
       "      <td>0.00</td>\n",
       "      <td>NaN</td>\n",
       "      <td>NaN</td>\n",
       "      <td>RP</td>\n",
       "    </tr>\n",
       "  </tbody>\n",
       "</table>\n",
       "</div>"
      ],
      "text/plain": [
       "                                                    name platform  \\\n",
       "16714                                Winning Post 8 2016      PSV   \n",
       "12497  Nazotoki Battle Tore! Densetsu no Makyuu o Fuk...      3DS   \n",
       "12498                                         Theme Park       DS   \n",
       "12502  Super Robot Wars OG Saga Masou Kishin F: Coffi...      PS3   \n",
       "12503                                 The Next BIG Thing       PC   \n",
       "4547              Neon Genesis Evangelion 2nd Impression      SAT   \n",
       "4546            Dai-2-Ji Super Robot Taisen Z: Hakai-hen      PSP   \n",
       "12505         Minna no DS Seminar: Kanpeki Eitango Ryoku       DS   \n",
       "12495             Mobile Suit Gundam 00: Gundam Meisters      PS2   \n",
       "12506  Kirarin * Revolution: Minna de Odorou Furi Fur...       DS   \n",
       "\n",
       "       year_of_release         genre  na_sales  eu_sales  jp_sales  \\\n",
       "16714             2016    Simulation       0.0      0.00      0.01   \n",
       "12497             2014        Action       0.0      0.00      0.06   \n",
       "12498             2007    Simulation       0.0      0.02      0.03   \n",
       "12502             2014      Strategy       0.0      0.00      0.06   \n",
       "12503             2011     Adventure       0.0      0.05      0.00   \n",
       "4547              1997  Role-Playing       0.0      0.00      0.42   \n",
       "4546              2011      Strategy       0.0      0.00      0.42   \n",
       "12505             2006          Misc       0.0      0.00      0.06   \n",
       "12495             2008        Action       0.0      0.00      0.06   \n",
       "12506             2008    Simulation       0.0      0.00      0.06   \n",
       "\n",
       "       other_sales  critic_score  user_score rating  \n",
       "16714         0.00           NaN         NaN     RP  \n",
       "12497         0.00           NaN         NaN     RP  \n",
       "12498         0.00          72.0         7.6      E  \n",
       "12502         0.00           NaN         NaN     RP  \n",
       "12503         0.01          75.0         7.9   E10+  \n",
       "4547          0.00           NaN         NaN     RP  \n",
       "4546          0.00           NaN         NaN     RP  \n",
       "12505         0.00           NaN         NaN     RP  \n",
       "12495         0.00           NaN         NaN     RP  \n",
       "12506         0.00           NaN         NaN     RP  "
      ]
     },
     "execution_count": 18,
     "metadata": {},
     "output_type": "execute_result"
    }
   ],
   "source": [
    "# Выводим первые 10 значений отсортированного датафрейма по столбцу na_sales\n",
    "\n",
    "data.sort_values(by='na_sales').head(10)"
   ]
  },
  {
   "cell_type": "markdown",
   "metadata": {},
   "source": [
    "Все 10 значений равны 0 проданных игр, выглядит подозрительно."
   ]
  },
  {
   "cell_type": "code",
   "execution_count": 19,
   "metadata": {},
   "outputs": [
    {
     "data": {
      "image/png": "[encoded data removed]",
      "text/plain": [
       "<Figure size 432x288 with 1 Axes>"
      ]
     },
     "metadata": {
      "needs_background": "light"
     },
     "output_type": "display_data"
    }
   ],
   "source": [
    "# Диаграмма размаха с ограничением на ось 'y'\n",
    "\n",
    "data.boxplot('na_sales')\n",
    "plt.ylim(-0.25, 0.7)\n",
    "plt.show()"
   ]
  },
  {
   "cell_type": "code",
   "execution_count": 20,
   "metadata": {},
   "outputs": [
    {
     "data": {
      "text/plain": [
       "count    16444.000000\n",
       "mean         0.264012\n",
       "std          0.818378\n",
       "min          0.000000\n",
       "25%          0.000000\n",
       "50%          0.080000\n",
       "75%          0.240000\n",
       "max         41.360000\n",
       "Name: na_sales, dtype: float64"
      ]
     },
     "execution_count": 20,
     "metadata": {},
     "output_type": "execute_result"
    }
   ],
   "source": [
    "# Выведем инмормацию о столбце методом describe()\n",
    "\n",
    "data['na_sales'].describe()"
   ]
  },
  {
   "cell_type": "markdown",
   "metadata": {},
   "source": [
    "Ящик с усами и а описание столбца показывают, что 25% - первый квартиль - всех игр представленных в датафрейме не были проданы вообще в Северной Америке, что выглядит очень подозрительно, однако исключать такую возможность нельзя. Все таки не каждая игра выходит за рамки даже определенной страны, не то что одного из рассматриваемых регионов. Посмотрим сколько игр не продавалось ишр в Северной Америке."
   ]
  },
  {
   "cell_type": "code",
   "execution_count": 21,
   "metadata": {},
   "outputs": [
    {
     "data": {
      "text/plain": [
       "name               4449\n",
       "platform           4449\n",
       "year_of_release    4449\n",
       "genre              4449\n",
       "na_sales           4449\n",
       "eu_sales           4449\n",
       "jp_sales           4449\n",
       "other_sales        4449\n",
       "critic_score        617\n",
       "user_score          679\n",
       "rating             4449\n",
       "dtype: int64"
      ]
     },
     "execution_count": 21,
     "metadata": {},
     "output_type": "execute_result"
    }
   ],
   "source": [
    "# Количество значений каждого столбца, где значение na_sales равно 0\n",
    "\n",
    "data.loc[data['na_sales'] == 0.0].count()"
   ]
  },
  {
   "cell_type": "markdown",
   "metadata": {},
   "source": [
    "Значений равных 0 в столбце na_sales целых 4449. Это и правда выглядит странно, но удалить столько значений нельзя, при этом остается вероятность что действительно много малоизвестных игр, которые продаются только локально, например в стране производства. Хоть у 679 из 4449 игр и есть оценки пользователей, не станем заполнять эти пропуски. Возможно в Америке продано лишь 679 людям, например на каждую игру по 1 человеку, а в столбце данные измеряются милионами копий."
   ]
  },
  {
   "cell_type": "markdown",
   "metadata": {},
   "source": [
    "Также рассмотрим столбцы `eu_sales`, `jp_sales` и `other_sales`. Скорее всего мы ожидаем видеть похожую картину, немало игры выпускаемых локально на территории страны, либо просто непопулярных в определенных регионов, так как рынок компьютерных игр огромен и далеко не все имеют мировую известность."
   ]
  },
  {
   "cell_type": "code",
   "execution_count": 22,
   "metadata": {},
   "outputs": [
    {
     "data": {
      "text/html": [
       "<div>\n",
       "<style scoped>\n",
       "    .dataframe tbody tr th:only-of-type {\n",
       "        vertical-align: middle;\n",
       "    }\n",
       "\n",
       "    .dataframe tbody tr th {\n",
       "        vertical-align: top;\n",
       "    }\n",
       "\n",
       "    .dataframe thead th {\n",
       "        text-align: right;\n",
       "    }\n",
       "</style>\n",
       "<table border=\"1\" class=\"dataframe\">\n",
       "  <thead>\n",
       "    <tr style=\"text-align: right;\">\n",
       "      <th></th>\n",
       "      <th>name</th>\n",
       "      <th>platform</th>\n",
       "      <th>year_of_release</th>\n",
       "      <th>genre</th>\n",
       "      <th>na_sales</th>\n",
       "      <th>eu_sales</th>\n",
       "      <th>jp_sales</th>\n",
       "      <th>other_sales</th>\n",
       "      <th>critic_score</th>\n",
       "      <th>user_score</th>\n",
       "      <th>rating</th>\n",
       "    </tr>\n",
       "  </thead>\n",
       "  <tbody>\n",
       "    <tr>\n",
       "      <th>16714</th>\n",
       "      <td>Winning Post 8 2016</td>\n",
       "      <td>PSV</td>\n",
       "      <td>2016</td>\n",
       "      <td>Simulation</td>\n",
       "      <td>0.00</td>\n",
       "      <td>0.00</td>\n",
       "      <td>0.01</td>\n",
       "      <td>0.00</td>\n",
       "      <td>NaN</td>\n",
       "      <td>NaN</td>\n",
       "      <td>RP</td>\n",
       "    </tr>\n",
       "    <tr>\n",
       "      <th>12239</th>\n",
       "      <td>Bleach: Hanatareshi Yabou</td>\n",
       "      <td>PS2</td>\n",
       "      <td>2006</td>\n",
       "      <td>Role-Playing</td>\n",
       "      <td>0.00</td>\n",
       "      <td>0.00</td>\n",
       "      <td>0.07</td>\n",
       "      <td>0.00</td>\n",
       "      <td>NaN</td>\n",
       "      <td>NaN</td>\n",
       "      <td>RP</td>\n",
       "    </tr>\n",
       "    <tr>\n",
       "      <th>12242</th>\n",
       "      <td>Yoake Yori Ruriiro na: Brighter than Dawning Blue</td>\n",
       "      <td>PS2</td>\n",
       "      <td>2006</td>\n",
       "      <td>Adventure</td>\n",
       "      <td>0.00</td>\n",
       "      <td>0.00</td>\n",
       "      <td>0.07</td>\n",
       "      <td>0.00</td>\n",
       "      <td>NaN</td>\n",
       "      <td>NaN</td>\n",
       "      <td>RP</td>\n",
       "    </tr>\n",
       "    <tr>\n",
       "      <th>5887</th>\n",
       "      <td>Madden NFL 13</td>\n",
       "      <td>PSV</td>\n",
       "      <td>2012</td>\n",
       "      <td>Sports</td>\n",
       "      <td>0.28</td>\n",
       "      <td>0.00</td>\n",
       "      <td>0.00</td>\n",
       "      <td>0.02</td>\n",
       "      <td>63.0</td>\n",
       "      <td>7.3</td>\n",
       "      <td>E</td>\n",
       "    </tr>\n",
       "    <tr>\n",
       "      <th>5886</th>\n",
       "      <td>One Piece Unlimited Cruise SP</td>\n",
       "      <td>3DS</td>\n",
       "      <td>2011</td>\n",
       "      <td>Action</td>\n",
       "      <td>0.00</td>\n",
       "      <td>0.00</td>\n",
       "      <td>0.30</td>\n",
       "      <td>0.00</td>\n",
       "      <td>46.0</td>\n",
       "      <td>7.3</td>\n",
       "      <td>RP</td>\n",
       "    </tr>\n",
       "    <tr>\n",
       "      <th>...</th>\n",
       "      <td>...</td>\n",
       "      <td>...</td>\n",
       "      <td>...</td>\n",
       "      <td>...</td>\n",
       "      <td>...</td>\n",
       "      <td>...</td>\n",
       "      <td>...</td>\n",
       "      <td>...</td>\n",
       "      <td>...</td>\n",
       "      <td>...</td>\n",
       "      <td>...</td>\n",
       "    </tr>\n",
       "    <tr>\n",
       "      <th>19</th>\n",
       "      <td>Brain Age: Train Your Brain in Minutes a Day</td>\n",
       "      <td>DS</td>\n",
       "      <td>2005</td>\n",
       "      <td>Misc</td>\n",
       "      <td>4.74</td>\n",
       "      <td>9.20</td>\n",
       "      <td>4.16</td>\n",
       "      <td>2.04</td>\n",
       "      <td>77.0</td>\n",
       "      <td>7.9</td>\n",
       "      <td>E</td>\n",
       "    </tr>\n",
       "    <tr>\n",
       "      <th>3</th>\n",
       "      <td>Wii Sports Resort</td>\n",
       "      <td>Wii</td>\n",
       "      <td>2009</td>\n",
       "      <td>Sports</td>\n",
       "      <td>15.61</td>\n",
       "      <td>10.93</td>\n",
       "      <td>3.28</td>\n",
       "      <td>2.95</td>\n",
       "      <td>80.0</td>\n",
       "      <td>8.0</td>\n",
       "      <td>E</td>\n",
       "    </tr>\n",
       "    <tr>\n",
       "      <th>10</th>\n",
       "      <td>Nintendogs</td>\n",
       "      <td>DS</td>\n",
       "      <td>2005</td>\n",
       "      <td>Simulation</td>\n",
       "      <td>9.05</td>\n",
       "      <td>10.95</td>\n",
       "      <td>1.93</td>\n",
       "      <td>2.74</td>\n",
       "      <td>NaN</td>\n",
       "      <td>NaN</td>\n",
       "      <td>RP</td>\n",
       "    </tr>\n",
       "    <tr>\n",
       "      <th>2</th>\n",
       "      <td>Mario Kart Wii</td>\n",
       "      <td>Wii</td>\n",
       "      <td>2008</td>\n",
       "      <td>Racing</td>\n",
       "      <td>15.68</td>\n",
       "      <td>12.76</td>\n",
       "      <td>3.79</td>\n",
       "      <td>3.29</td>\n",
       "      <td>82.0</td>\n",
       "      <td>8.3</td>\n",
       "      <td>E</td>\n",
       "    </tr>\n",
       "    <tr>\n",
       "      <th>0</th>\n",
       "      <td>Wii Sports</td>\n",
       "      <td>Wii</td>\n",
       "      <td>2006</td>\n",
       "      <td>Sports</td>\n",
       "      <td>41.36</td>\n",
       "      <td>28.96</td>\n",
       "      <td>3.77</td>\n",
       "      <td>8.45</td>\n",
       "      <td>76.0</td>\n",
       "      <td>8.0</td>\n",
       "      <td>E</td>\n",
       "    </tr>\n",
       "  </tbody>\n",
       "</table>\n",
       "<p>16444 rows × 11 columns</p>\n",
       "</div>"
      ],
      "text/plain": [
       "                                                    name platform  \\\n",
       "16714                                Winning Post 8 2016      PSV   \n",
       "12239                          Bleach: Hanatareshi Yabou      PS2   \n",
       "12242  Yoake Yori Ruriiro na: Brighter than Dawning Blue      PS2   \n",
       "5887                                       Madden NFL 13      PSV   \n",
       "5886                       One Piece Unlimited Cruise SP      3DS   \n",
       "...                                                  ...      ...   \n",
       "19          Brain Age: Train Your Brain in Minutes a Day       DS   \n",
       "3                                      Wii Sports Resort      Wii   \n",
       "10                                            Nintendogs       DS   \n",
       "2                                         Mario Kart Wii      Wii   \n",
       "0                                             Wii Sports      Wii   \n",
       "\n",
       "       year_of_release         genre  na_sales  eu_sales  jp_sales  \\\n",
       "16714             2016    Simulation      0.00      0.00      0.01   \n",
       "12239             2006  Role-Playing      0.00      0.00      0.07   \n",
       "12242             2006     Adventure      0.00      0.00      0.07   \n",
       "5887              2012        Sports      0.28      0.00      0.00   \n",
       "5886              2011        Action      0.00      0.00      0.30   \n",
       "...                ...           ...       ...       ...       ...   \n",
       "19                2005          Misc      4.74      9.20      4.16   \n",
       "3                 2009        Sports     15.61     10.93      3.28   \n",
       "10                2005    Simulation      9.05     10.95      1.93   \n",
       "2                 2008        Racing     15.68     12.76      3.79   \n",
       "0                 2006        Sports     41.36     28.96      3.77   \n",
       "\n",
       "       other_sales  critic_score  user_score rating  \n",
       "16714         0.00           NaN         NaN     RP  \n",
       "12239         0.00           NaN         NaN     RP  \n",
       "12242         0.00           NaN         NaN     RP  \n",
       "5887          0.02          63.0         7.3      E  \n",
       "5886          0.00          46.0         7.3     RP  \n",
       "...            ...           ...         ...    ...  \n",
       "19            2.04          77.0         7.9      E  \n",
       "3             2.95          80.0         8.0      E  \n",
       "10            2.74           NaN         NaN     RP  \n",
       "2             3.29          82.0         8.3      E  \n",
       "0             8.45          76.0         8.0      E  \n",
       "\n",
       "[16444 rows x 11 columns]"
      ]
     },
     "execution_count": 22,
     "metadata": {},
     "output_type": "execute_result"
    }
   ],
   "source": [
    "# Сортируем по столбцу eu_sales\n",
    "\n",
    "data.sort_values(by='eu_sales')"
   ]
  },
  {
   "cell_type": "code",
   "execution_count": 23,
   "metadata": {
    "scrolled": true
   },
   "outputs": [
    {
     "data": {
      "image/png": "[encoded data removed]",
      "text/plain": [
       "<Figure size 432x288 with 1 Axes>"
      ]
     },
     "metadata": {
      "needs_background": "light"
     },
     "output_type": "display_data"
    }
   ],
   "source": [
    "# Строим диаграмму размаха\n",
    "\n",
    "data.boxplot('eu_sales')\n",
    "plt.show()"
   ]
  },
  {
   "cell_type": "markdown",
   "metadata": {},
   "source": [
    "Опять медиана не видна, как и сам ящик."
   ]
  },
  {
   "cell_type": "code",
   "execution_count": 24,
   "metadata": {},
   "outputs": [
    {
     "data": {
      "text/html": [
       "<div>\n",
       "<style scoped>\n",
       "    .dataframe tbody tr th:only-of-type {\n",
       "        vertical-align: middle;\n",
       "    }\n",
       "\n",
       "    .dataframe tbody tr th {\n",
       "        vertical-align: top;\n",
       "    }\n",
       "\n",
       "    .dataframe thead th {\n",
       "        text-align: right;\n",
       "    }\n",
       "</style>\n",
       "<table border=\"1\" class=\"dataframe\">\n",
       "  <thead>\n",
       "    <tr style=\"text-align: right;\">\n",
       "      <th></th>\n",
       "      <th>name</th>\n",
       "      <th>platform</th>\n",
       "      <th>year_of_release</th>\n",
       "      <th>genre</th>\n",
       "      <th>na_sales</th>\n",
       "      <th>eu_sales</th>\n",
       "      <th>jp_sales</th>\n",
       "      <th>other_sales</th>\n",
       "      <th>critic_score</th>\n",
       "      <th>user_score</th>\n",
       "      <th>rating</th>\n",
       "    </tr>\n",
       "  </thead>\n",
       "  <tbody>\n",
       "    <tr>\n",
       "      <th>16714</th>\n",
       "      <td>Winning Post 8 2016</td>\n",
       "      <td>PSV</td>\n",
       "      <td>2016</td>\n",
       "      <td>Simulation</td>\n",
       "      <td>0.00</td>\n",
       "      <td>0.0</td>\n",
       "      <td>0.01</td>\n",
       "      <td>0.00</td>\n",
       "      <td>NaN</td>\n",
       "      <td>NaN</td>\n",
       "      <td>RP</td>\n",
       "    </tr>\n",
       "    <tr>\n",
       "      <th>12239</th>\n",
       "      <td>Bleach: Hanatareshi Yabou</td>\n",
       "      <td>PS2</td>\n",
       "      <td>2006</td>\n",
       "      <td>Role-Playing</td>\n",
       "      <td>0.00</td>\n",
       "      <td>0.0</td>\n",
       "      <td>0.07</td>\n",
       "      <td>0.00</td>\n",
       "      <td>NaN</td>\n",
       "      <td>NaN</td>\n",
       "      <td>RP</td>\n",
       "    </tr>\n",
       "    <tr>\n",
       "      <th>12242</th>\n",
       "      <td>Yoake Yori Ruriiro na: Brighter than Dawning Blue</td>\n",
       "      <td>PS2</td>\n",
       "      <td>2006</td>\n",
       "      <td>Adventure</td>\n",
       "      <td>0.00</td>\n",
       "      <td>0.0</td>\n",
       "      <td>0.07</td>\n",
       "      <td>0.00</td>\n",
       "      <td>NaN</td>\n",
       "      <td>NaN</td>\n",
       "      <td>RP</td>\n",
       "    </tr>\n",
       "    <tr>\n",
       "      <th>5887</th>\n",
       "      <td>Madden NFL 13</td>\n",
       "      <td>PSV</td>\n",
       "      <td>2012</td>\n",
       "      <td>Sports</td>\n",
       "      <td>0.28</td>\n",
       "      <td>0.0</td>\n",
       "      <td>0.00</td>\n",
       "      <td>0.02</td>\n",
       "      <td>63.0</td>\n",
       "      <td>7.3</td>\n",
       "      <td>E</td>\n",
       "    </tr>\n",
       "    <tr>\n",
       "      <th>5886</th>\n",
       "      <td>One Piece Unlimited Cruise SP</td>\n",
       "      <td>3DS</td>\n",
       "      <td>2011</td>\n",
       "      <td>Action</td>\n",
       "      <td>0.00</td>\n",
       "      <td>0.0</td>\n",
       "      <td>0.30</td>\n",
       "      <td>0.00</td>\n",
       "      <td>46.0</td>\n",
       "      <td>7.3</td>\n",
       "      <td>RP</td>\n",
       "    </tr>\n",
       "    <tr>\n",
       "      <th>5885</th>\n",
       "      <td>Super Bomberman 5</td>\n",
       "      <td>SNES</td>\n",
       "      <td>1997</td>\n",
       "      <td>Puzzle</td>\n",
       "      <td>0.00</td>\n",
       "      <td>0.0</td>\n",
       "      <td>0.30</td>\n",
       "      <td>0.00</td>\n",
       "      <td>NaN</td>\n",
       "      <td>NaN</td>\n",
       "      <td>RP</td>\n",
       "    </tr>\n",
       "    <tr>\n",
       "      <th>12243</th>\n",
       "      <td>Carol Vorderman's Sudoku</td>\n",
       "      <td>PSP</td>\n",
       "      <td>2006</td>\n",
       "      <td>Puzzle</td>\n",
       "      <td>0.05</td>\n",
       "      <td>0.0</td>\n",
       "      <td>0.00</td>\n",
       "      <td>0.01</td>\n",
       "      <td>72.0</td>\n",
       "      <td>NaN</td>\n",
       "      <td>E</td>\n",
       "    </tr>\n",
       "    <tr>\n",
       "      <th>5882</th>\n",
       "      <td>Macross Digital Mission VF-X</td>\n",
       "      <td>PS</td>\n",
       "      <td>1997</td>\n",
       "      <td>Simulation</td>\n",
       "      <td>0.00</td>\n",
       "      <td>0.0</td>\n",
       "      <td>0.28</td>\n",
       "      <td>0.02</td>\n",
       "      <td>NaN</td>\n",
       "      <td>NaN</td>\n",
       "      <td>RP</td>\n",
       "    </tr>\n",
       "    <tr>\n",
       "      <th>5881</th>\n",
       "      <td>Jonas</td>\n",
       "      <td>DS</td>\n",
       "      <td>2009</td>\n",
       "      <td>Adventure</td>\n",
       "      <td>0.27</td>\n",
       "      <td>0.0</td>\n",
       "      <td>0.00</td>\n",
       "      <td>0.02</td>\n",
       "      <td>45.0</td>\n",
       "      <td>NaN</td>\n",
       "      <td>E</td>\n",
       "    </tr>\n",
       "    <tr>\n",
       "      <th>12245</th>\n",
       "      <td>Gundam Try Age SP</td>\n",
       "      <td>3DS</td>\n",
       "      <td>2014</td>\n",
       "      <td>Strategy</td>\n",
       "      <td>0.00</td>\n",
       "      <td>0.0</td>\n",
       "      <td>0.07</td>\n",
       "      <td>0.00</td>\n",
       "      <td>NaN</td>\n",
       "      <td>NaN</td>\n",
       "      <td>RP</td>\n",
       "    </tr>\n",
       "  </tbody>\n",
       "</table>\n",
       "</div>"
      ],
      "text/plain": [
       "                                                    name platform  \\\n",
       "16714                                Winning Post 8 2016      PSV   \n",
       "12239                          Bleach: Hanatareshi Yabou      PS2   \n",
       "12242  Yoake Yori Ruriiro na: Brighter than Dawning Blue      PS2   \n",
       "5887                                       Madden NFL 13      PSV   \n",
       "5886                       One Piece Unlimited Cruise SP      3DS   \n",
       "5885                                   Super Bomberman 5     SNES   \n",
       "12243                           Carol Vorderman's Sudoku      PSP   \n",
       "5882                        Macross Digital Mission VF-X       PS   \n",
       "5881                                               Jonas       DS   \n",
       "12245                                  Gundam Try Age SP      3DS   \n",
       "\n",
       "       year_of_release         genre  na_sales  eu_sales  jp_sales  \\\n",
       "16714             2016    Simulation      0.00       0.0      0.01   \n",
       "12239             2006  Role-Playing      0.00       0.0      0.07   \n",
       "12242             2006     Adventure      0.00       0.0      0.07   \n",
       "5887              2012        Sports      0.28       0.0      0.00   \n",
       "5886              2011        Action      0.00       0.0      0.30   \n",
       "5885              1997        Puzzle      0.00       0.0      0.30   \n",
       "12243             2006        Puzzle      0.05       0.0      0.00   \n",
       "5882              1997    Simulation      0.00       0.0      0.28   \n",
       "5881              2009     Adventure      0.27       0.0      0.00   \n",
       "12245             2014      Strategy      0.00       0.0      0.07   \n",
       "\n",
       "       other_sales  critic_score  user_score rating  \n",
       "16714         0.00           NaN         NaN     RP  \n",
       "12239         0.00           NaN         NaN     RP  \n",
       "12242         0.00           NaN         NaN     RP  \n",
       "5887          0.02          63.0         7.3      E  \n",
       "5886          0.00          46.0         7.3     RP  \n",
       "5885          0.00           NaN         NaN     RP  \n",
       "12243         0.01          72.0         NaN      E  \n",
       "5882          0.02           NaN         NaN     RP  \n",
       "5881          0.02          45.0         NaN      E  \n",
       "12245         0.00           NaN         NaN     RP  "
      ]
     },
     "execution_count": 24,
     "metadata": {},
     "output_type": "execute_result"
    }
   ],
   "source": [
    "# Выводим первые 10 значений отсортированного датафрейма по столбцу eu_sales\n",
    "\n",
    "data.sort_values(by='eu_sales').head(10)"
   ]
  },
  {
   "cell_type": "code",
   "execution_count": 25,
   "metadata": {},
   "outputs": [
    {
     "data": {
      "image/png": "[encoded data removed]",
      "text/plain": [
       "<Figure size 432x288 with 1 Axes>"
      ]
     },
     "metadata": {
      "needs_background": "light"
     },
     "output_type": "display_data"
    }
   ],
   "source": [
    "# Диаграмма размаха с ограничением на ось 'y'\n",
    "\n",
    "data.boxplot('eu_sales')\n",
    "plt.ylim(-0.25, 0.3)\n",
    "plt.show()"
   ]
  },
  {
   "cell_type": "code",
   "execution_count": 26,
   "metadata": {},
   "outputs": [
    {
     "data": {
      "text/plain": [
       "count    16444.000000\n",
       "mean         0.145930\n",
       "std          0.506716\n",
       "min          0.000000\n",
       "25%          0.000000\n",
       "50%          0.020000\n",
       "75%          0.110000\n",
       "max         28.960000\n",
       "Name: eu_sales, dtype: float64"
      ]
     },
     "execution_count": 26,
     "metadata": {},
     "output_type": "execute_result"
    }
   ],
   "source": [
    "# Выведем инмормацию о столбце методом describe()\n",
    "\n",
    "data['eu_sales'].describe()"
   ]
  },
  {
   "cell_type": "code",
   "execution_count": 27,
   "metadata": {},
   "outputs": [
    {
     "data": {
      "text/plain": [
       "name               5766\n",
       "platform           5766\n",
       "year_of_release    5766\n",
       "genre              5766\n",
       "na_sales           5766\n",
       "eu_sales           5766\n",
       "jp_sales           5766\n",
       "other_sales        5766\n",
       "critic_score       1257\n",
       "user_score         1069\n",
       "rating             5766\n",
       "dtype: int64"
      ]
     },
     "execution_count": 27,
     "metadata": {},
     "output_type": "execute_result"
    }
   ],
   "source": [
    "# Количество значений каждого столбца, где значение eu_sales равно 0\n",
    "\n",
    "data.loc[data['eu_sales'] == 0.0].count()"
   ]
  },
  {
   "cell_type": "markdown",
   "metadata": {},
   "source": [
    "Картина похожая, как и ожидалось, только 0 значений еще больше - 5766. Также есть 1069 оценненых игр, однако не станем их трогать и убирать. Вероятно, если игры и были куплены, то их купило слишком мало людей."
   ]
  },
  {
   "cell_type": "markdown",
   "metadata": {},
   "source": [
    "Теперь проверим столбец `jp_sales`, где ожидается такая же картина как и в предыдущих двух."
   ]
  },
  {
   "cell_type": "code",
   "execution_count": 28,
   "metadata": {},
   "outputs": [
    {
     "data": {
      "text/html": [
       "<div>\n",
       "<style scoped>\n",
       "    .dataframe tbody tr th:only-of-type {\n",
       "        vertical-align: middle;\n",
       "    }\n",
       "\n",
       "    .dataframe tbody tr th {\n",
       "        vertical-align: top;\n",
       "    }\n",
       "\n",
       "    .dataframe thead th {\n",
       "        text-align: right;\n",
       "    }\n",
       "</style>\n",
       "<table border=\"1\" class=\"dataframe\">\n",
       "  <thead>\n",
       "    <tr style=\"text-align: right;\">\n",
       "      <th></th>\n",
       "      <th>name</th>\n",
       "      <th>platform</th>\n",
       "      <th>year_of_release</th>\n",
       "      <th>genre</th>\n",
       "      <th>na_sales</th>\n",
       "      <th>eu_sales</th>\n",
       "      <th>jp_sales</th>\n",
       "      <th>other_sales</th>\n",
       "      <th>critic_score</th>\n",
       "      <th>user_score</th>\n",
       "      <th>rating</th>\n",
       "    </tr>\n",
       "  </thead>\n",
       "  <tbody>\n",
       "    <tr>\n",
       "      <th>6347</th>\n",
       "      <td>Wipeout 2</td>\n",
       "      <td>X360</td>\n",
       "      <td>2011</td>\n",
       "      <td>Misc</td>\n",
       "      <td>0.25</td>\n",
       "      <td>0.00</td>\n",
       "      <td>0.00</td>\n",
       "      <td>0.02</td>\n",
       "      <td>NaN</td>\n",
       "      <td>NaN</td>\n",
       "      <td>E10+</td>\n",
       "    </tr>\n",
       "    <tr>\n",
       "      <th>14099</th>\n",
       "      <td>World in Conflict: Complete Edition</td>\n",
       "      <td>PC</td>\n",
       "      <td>2009</td>\n",
       "      <td>Strategy</td>\n",
       "      <td>0.00</td>\n",
       "      <td>0.03</td>\n",
       "      <td>0.00</td>\n",
       "      <td>0.01</td>\n",
       "      <td>NaN</td>\n",
       "      <td>NaN</td>\n",
       "      <td>T</td>\n",
       "    </tr>\n",
       "    <tr>\n",
       "      <th>8295</th>\n",
       "      <td>Looney Tunes: Back in Action</td>\n",
       "      <td>GC</td>\n",
       "      <td>2003</td>\n",
       "      <td>Platform</td>\n",
       "      <td>0.13</td>\n",
       "      <td>0.03</td>\n",
       "      <td>0.00</td>\n",
       "      <td>0.00</td>\n",
       "      <td>64.0</td>\n",
       "      <td>5.0</td>\n",
       "      <td>E</td>\n",
       "    </tr>\n",
       "    <tr>\n",
       "      <th>8296</th>\n",
       "      <td>Marvel Super Hero Squad: The Infinity Gauntlet</td>\n",
       "      <td>PS3</td>\n",
       "      <td>2010</td>\n",
       "      <td>Action</td>\n",
       "      <td>0.12</td>\n",
       "      <td>0.03</td>\n",
       "      <td>0.00</td>\n",
       "      <td>0.02</td>\n",
       "      <td>54.0</td>\n",
       "      <td>NaN</td>\n",
       "      <td>E10+</td>\n",
       "    </tr>\n",
       "    <tr>\n",
       "      <th>8297</th>\n",
       "      <td>The Chronicles of Narnia: Prince Caspian</td>\n",
       "      <td>PS3</td>\n",
       "      <td>2008</td>\n",
       "      <td>Action</td>\n",
       "      <td>0.14</td>\n",
       "      <td>0.01</td>\n",
       "      <td>0.00</td>\n",
       "      <td>0.02</td>\n",
       "      <td>56.0</td>\n",
       "      <td>5.6</td>\n",
       "      <td>T</td>\n",
       "    </tr>\n",
       "    <tr>\n",
       "      <th>...</th>\n",
       "      <td>...</td>\n",
       "      <td>...</td>\n",
       "      <td>...</td>\n",
       "      <td>...</td>\n",
       "      <td>...</td>\n",
       "      <td>...</td>\n",
       "      <td>...</td>\n",
       "      <td>...</td>\n",
       "      <td>...</td>\n",
       "      <td>...</td>\n",
       "      <td>...</td>\n",
       "    </tr>\n",
       "    <tr>\n",
       "      <th>20</th>\n",
       "      <td>Pokemon Diamond/Pokemon Pearl</td>\n",
       "      <td>DS</td>\n",
       "      <td>2006</td>\n",
       "      <td>Role-Playing</td>\n",
       "      <td>6.38</td>\n",
       "      <td>4.46</td>\n",
       "      <td>6.04</td>\n",
       "      <td>1.36</td>\n",
       "      <td>NaN</td>\n",
       "      <td>NaN</td>\n",
       "      <td>RP</td>\n",
       "    </tr>\n",
       "    <tr>\n",
       "      <th>6</th>\n",
       "      <td>New Super Mario Bros.</td>\n",
       "      <td>DS</td>\n",
       "      <td>2006</td>\n",
       "      <td>Platform</td>\n",
       "      <td>11.28</td>\n",
       "      <td>9.14</td>\n",
       "      <td>6.50</td>\n",
       "      <td>2.88</td>\n",
       "      <td>89.0</td>\n",
       "      <td>8.5</td>\n",
       "      <td>E</td>\n",
       "    </tr>\n",
       "    <tr>\n",
       "      <th>1</th>\n",
       "      <td>Super Mario Bros.</td>\n",
       "      <td>NES</td>\n",
       "      <td>1985</td>\n",
       "      <td>Platform</td>\n",
       "      <td>29.08</td>\n",
       "      <td>3.58</td>\n",
       "      <td>6.81</td>\n",
       "      <td>0.77</td>\n",
       "      <td>NaN</td>\n",
       "      <td>NaN</td>\n",
       "      <td>RP</td>\n",
       "    </tr>\n",
       "    <tr>\n",
       "      <th>12</th>\n",
       "      <td>Pokemon Gold/Pokemon Silver</td>\n",
       "      <td>GB</td>\n",
       "      <td>1999</td>\n",
       "      <td>Role-Playing</td>\n",
       "      <td>9.00</td>\n",
       "      <td>6.18</td>\n",
       "      <td>7.20</td>\n",
       "      <td>0.71</td>\n",
       "      <td>NaN</td>\n",
       "      <td>NaN</td>\n",
       "      <td>RP</td>\n",
       "    </tr>\n",
       "    <tr>\n",
       "      <th>4</th>\n",
       "      <td>Pokemon Red/Pokemon Blue</td>\n",
       "      <td>GB</td>\n",
       "      <td>1996</td>\n",
       "      <td>Role-Playing</td>\n",
       "      <td>11.27</td>\n",
       "      <td>8.89</td>\n",
       "      <td>10.22</td>\n",
       "      <td>1.00</td>\n",
       "      <td>NaN</td>\n",
       "      <td>NaN</td>\n",
       "      <td>RP</td>\n",
       "    </tr>\n",
       "  </tbody>\n",
       "</table>\n",
       "<p>16444 rows × 11 columns</p>\n",
       "</div>"
      ],
      "text/plain": [
       "                                                 name platform  \\\n",
       "6347                                        Wipeout 2     X360   \n",
       "14099             World in Conflict: Complete Edition       PC   \n",
       "8295                     Looney Tunes: Back in Action       GC   \n",
       "8296   Marvel Super Hero Squad: The Infinity Gauntlet      PS3   \n",
       "8297         The Chronicles of Narnia: Prince Caspian      PS3   \n",
       "...                                               ...      ...   \n",
       "20                      Pokemon Diamond/Pokemon Pearl       DS   \n",
       "6                               New Super Mario Bros.       DS   \n",
       "1                                   Super Mario Bros.      NES   \n",
       "12                        Pokemon Gold/Pokemon Silver       GB   \n",
       "4                            Pokemon Red/Pokemon Blue       GB   \n",
       "\n",
       "       year_of_release         genre  na_sales  eu_sales  jp_sales  \\\n",
       "6347              2011          Misc      0.25      0.00      0.00   \n",
       "14099             2009      Strategy      0.00      0.03      0.00   \n",
       "8295              2003      Platform      0.13      0.03      0.00   \n",
       "8296              2010        Action      0.12      0.03      0.00   \n",
       "8297              2008        Action      0.14      0.01      0.00   \n",
       "...                ...           ...       ...       ...       ...   \n",
       "20                2006  Role-Playing      6.38      4.46      6.04   \n",
       "6                 2006      Platform     11.28      9.14      6.50   \n",
       "1                 1985      Platform     29.08      3.58      6.81   \n",
       "12                1999  Role-Playing      9.00      6.18      7.20   \n",
       "4                 1996  Role-Playing     11.27      8.89     10.22   \n",
       "\n",
       "       other_sales  critic_score  user_score rating  \n",
       "6347          0.02           NaN         NaN   E10+  \n",
       "14099         0.01           NaN         NaN      T  \n",
       "8295          0.00          64.0         5.0      E  \n",
       "8296          0.02          54.0         NaN   E10+  \n",
       "8297          0.02          56.0         5.6      T  \n",
       "...            ...           ...         ...    ...  \n",
       "20            1.36           NaN         NaN     RP  \n",
       "6             2.88          89.0         8.5      E  \n",
       "1             0.77           NaN         NaN     RP  \n",
       "12            0.71           NaN         NaN     RP  \n",
       "4             1.00           NaN         NaN     RP  \n",
       "\n",
       "[16444 rows x 11 columns]"
      ]
     },
     "execution_count": 28,
     "metadata": {},
     "output_type": "execute_result"
    }
   ],
   "source": [
    "# Сортируем по столбцу jp_sales\n",
    "\n",
    "data.sort_values(by='jp_sales')"
   ]
  },
  {
   "cell_type": "code",
   "execution_count": 29,
   "metadata": {},
   "outputs": [
    {
     "data": {
      "image/png": "[encoded data removed]",
      "text/plain": [
       "<Figure size 432x288 with 1 Axes>"
      ]
     },
     "metadata": {
      "needs_background": "light"
     },
     "output_type": "display_data"
    }
   ],
   "source": [
    "# Строим диаграмму размаха\n",
    "\n",
    "data.boxplot('jp_sales')\n",
    "plt.show()"
   ]
  },
  {
   "cell_type": "markdown",
   "metadata": {},
   "source": [
    "Большинство значений опять же находяться почти у 0."
   ]
  },
  {
   "cell_type": "code",
   "execution_count": 30,
   "metadata": {
    "scrolled": true
   },
   "outputs": [
    {
     "data": {
      "text/html": [
       "<div>\n",
       "<style scoped>\n",
       "    .dataframe tbody tr th:only-of-type {\n",
       "        vertical-align: middle;\n",
       "    }\n",
       "\n",
       "    .dataframe tbody tr th {\n",
       "        vertical-align: top;\n",
       "    }\n",
       "\n",
       "    .dataframe thead th {\n",
       "        text-align: right;\n",
       "    }\n",
       "</style>\n",
       "<table border=\"1\" class=\"dataframe\">\n",
       "  <thead>\n",
       "    <tr style=\"text-align: right;\">\n",
       "      <th></th>\n",
       "      <th>name</th>\n",
       "      <th>platform</th>\n",
       "      <th>year_of_release</th>\n",
       "      <th>genre</th>\n",
       "      <th>na_sales</th>\n",
       "      <th>eu_sales</th>\n",
       "      <th>jp_sales</th>\n",
       "      <th>other_sales</th>\n",
       "      <th>critic_score</th>\n",
       "      <th>user_score</th>\n",
       "      <th>rating</th>\n",
       "    </tr>\n",
       "  </thead>\n",
       "  <tbody>\n",
       "    <tr>\n",
       "      <th>6347</th>\n",
       "      <td>Wipeout 2</td>\n",
       "      <td>X360</td>\n",
       "      <td>2011</td>\n",
       "      <td>Misc</td>\n",
       "      <td>0.25</td>\n",
       "      <td>0.00</td>\n",
       "      <td>0.0</td>\n",
       "      <td>0.02</td>\n",
       "      <td>NaN</td>\n",
       "      <td>NaN</td>\n",
       "      <td>E10+</td>\n",
       "    </tr>\n",
       "    <tr>\n",
       "      <th>14099</th>\n",
       "      <td>World in Conflict: Complete Edition</td>\n",
       "      <td>PC</td>\n",
       "      <td>2009</td>\n",
       "      <td>Strategy</td>\n",
       "      <td>0.00</td>\n",
       "      <td>0.03</td>\n",
       "      <td>0.0</td>\n",
       "      <td>0.01</td>\n",
       "      <td>NaN</td>\n",
       "      <td>NaN</td>\n",
       "      <td>T</td>\n",
       "    </tr>\n",
       "    <tr>\n",
       "      <th>8295</th>\n",
       "      <td>Looney Tunes: Back in Action</td>\n",
       "      <td>GC</td>\n",
       "      <td>2003</td>\n",
       "      <td>Platform</td>\n",
       "      <td>0.13</td>\n",
       "      <td>0.03</td>\n",
       "      <td>0.0</td>\n",
       "      <td>0.00</td>\n",
       "      <td>64.0</td>\n",
       "      <td>5.0</td>\n",
       "      <td>E</td>\n",
       "    </tr>\n",
       "    <tr>\n",
       "      <th>8296</th>\n",
       "      <td>Marvel Super Hero Squad: The Infinity Gauntlet</td>\n",
       "      <td>PS3</td>\n",
       "      <td>2010</td>\n",
       "      <td>Action</td>\n",
       "      <td>0.12</td>\n",
       "      <td>0.03</td>\n",
       "      <td>0.0</td>\n",
       "      <td>0.02</td>\n",
       "      <td>54.0</td>\n",
       "      <td>NaN</td>\n",
       "      <td>E10+</td>\n",
       "    </tr>\n",
       "    <tr>\n",
       "      <th>8297</th>\n",
       "      <td>The Chronicles of Narnia: Prince Caspian</td>\n",
       "      <td>PS3</td>\n",
       "      <td>2008</td>\n",
       "      <td>Action</td>\n",
       "      <td>0.14</td>\n",
       "      <td>0.01</td>\n",
       "      <td>0.0</td>\n",
       "      <td>0.02</td>\n",
       "      <td>56.0</td>\n",
       "      <td>5.6</td>\n",
       "      <td>T</td>\n",
       "    </tr>\n",
       "    <tr>\n",
       "      <th>8298</th>\n",
       "      <td>Tak: The Great Juju Challenge</td>\n",
       "      <td>GBA</td>\n",
       "      <td>2005</td>\n",
       "      <td>Platform</td>\n",
       "      <td>0.12</td>\n",
       "      <td>0.05</td>\n",
       "      <td>0.0</td>\n",
       "      <td>0.00</td>\n",
       "      <td>52.0</td>\n",
       "      <td>NaN</td>\n",
       "      <td>E</td>\n",
       "    </tr>\n",
       "    <tr>\n",
       "      <th>14098</th>\n",
       "      <td>Pro Evolution Soccer 2017</td>\n",
       "      <td>X360</td>\n",
       "      <td>2016</td>\n",
       "      <td>Sports</td>\n",
       "      <td>0.01</td>\n",
       "      <td>0.02</td>\n",
       "      <td>0.0</td>\n",
       "      <td>0.00</td>\n",
       "      <td>NaN</td>\n",
       "      <td>6.5</td>\n",
       "      <td>E</td>\n",
       "    </tr>\n",
       "    <tr>\n",
       "      <th>8300</th>\n",
       "      <td>SingStar Motown</td>\n",
       "      <td>PS3</td>\n",
       "      <td>2009</td>\n",
       "      <td>Misc</td>\n",
       "      <td>0.00</td>\n",
       "      <td>0.15</td>\n",
       "      <td>0.0</td>\n",
       "      <td>0.02</td>\n",
       "      <td>NaN</td>\n",
       "      <td>NaN</td>\n",
       "      <td>RP</td>\n",
       "    </tr>\n",
       "    <tr>\n",
       "      <th>8302</th>\n",
       "      <td>Top Spin 2</td>\n",
       "      <td>X360</td>\n",
       "      <td>2006</td>\n",
       "      <td>Sports</td>\n",
       "      <td>0.15</td>\n",
       "      <td>0.00</td>\n",
       "      <td>0.0</td>\n",
       "      <td>0.01</td>\n",
       "      <td>75.0</td>\n",
       "      <td>6.8</td>\n",
       "      <td>E</td>\n",
       "    </tr>\n",
       "    <tr>\n",
       "      <th>14100</th>\n",
       "      <td>Deception III: Dark Delusion</td>\n",
       "      <td>PS</td>\n",
       "      <td>1999</td>\n",
       "      <td>Role-Playing</td>\n",
       "      <td>0.02</td>\n",
       "      <td>0.01</td>\n",
       "      <td>0.0</td>\n",
       "      <td>0.00</td>\n",
       "      <td>NaN</td>\n",
       "      <td>NaN</td>\n",
       "      <td>RP</td>\n",
       "    </tr>\n",
       "  </tbody>\n",
       "</table>\n",
       "</div>"
      ],
      "text/plain": [
       "                                                 name platform  \\\n",
       "6347                                        Wipeout 2     X360   \n",
       "14099             World in Conflict: Complete Edition       PC   \n",
       "8295                     Looney Tunes: Back in Action       GC   \n",
       "8296   Marvel Super Hero Squad: The Infinity Gauntlet      PS3   \n",
       "8297         The Chronicles of Narnia: Prince Caspian      PS3   \n",
       "8298                    Tak: The Great Juju Challenge      GBA   \n",
       "14098                       Pro Evolution Soccer 2017     X360   \n",
       "8300                                  SingStar Motown      PS3   \n",
       "8302                                       Top Spin 2     X360   \n",
       "14100                    Deception III: Dark Delusion       PS   \n",
       "\n",
       "       year_of_release         genre  na_sales  eu_sales  jp_sales  \\\n",
       "6347              2011          Misc      0.25      0.00       0.0   \n",
       "14099             2009      Strategy      0.00      0.03       0.0   \n",
       "8295              2003      Platform      0.13      0.03       0.0   \n",
       "8296              2010        Action      0.12      0.03       0.0   \n",
       "8297              2008        Action      0.14      0.01       0.0   \n",
       "8298              2005      Platform      0.12      0.05       0.0   \n",
       "14098             2016        Sports      0.01      0.02       0.0   \n",
       "8300              2009          Misc      0.00      0.15       0.0   \n",
       "8302              2006        Sports      0.15      0.00       0.0   \n",
       "14100             1999  Role-Playing      0.02      0.01       0.0   \n",
       "\n",
       "       other_sales  critic_score  user_score rating  \n",
       "6347          0.02           NaN         NaN   E10+  \n",
       "14099         0.01           NaN         NaN      T  \n",
       "8295          0.00          64.0         5.0      E  \n",
       "8296          0.02          54.0         NaN   E10+  \n",
       "8297          0.02          56.0         5.6      T  \n",
       "8298          0.00          52.0         NaN      E  \n",
       "14098         0.00           NaN         6.5      E  \n",
       "8300          0.02           NaN         NaN     RP  \n",
       "8302          0.01          75.0         6.8      E  \n",
       "14100         0.00           NaN         NaN     RP  "
      ]
     },
     "execution_count": 30,
     "metadata": {},
     "output_type": "execute_result"
    }
   ],
   "source": [
    "# Выводим первые 10 значений отсортированного датафрейма по столбцу jp_sales\n",
    "\n",
    "data.sort_values(by='jp_sales').head(10)"
   ]
  },
  {
   "cell_type": "code",
   "execution_count": 31,
   "metadata": {},
   "outputs": [
    {
     "data": {
      "image/png": "[encoded data removed]",
      "text/plain": [
       "<Figure size 432x288 with 1 Axes>"
      ]
     },
     "metadata": {
      "needs_background": "light"
     },
     "output_type": "display_data"
    }
   ],
   "source": [
    "# Диаграмма размаха с ограничением на ось 'y'\n",
    "\n",
    "data.boxplot('jp_sales')\n",
    "plt.ylim(-0.05, 0.15)\n",
    "plt.show()"
   ]
  },
  {
   "cell_type": "code",
   "execution_count": 32,
   "metadata": {},
   "outputs": [
    {
     "data": {
      "text/plain": [
       "count    16444.000000\n",
       "mean         0.078487\n",
       "std          0.311100\n",
       "min          0.000000\n",
       "25%          0.000000\n",
       "50%          0.000000\n",
       "75%          0.040000\n",
       "max         10.220000\n",
       "Name: jp_sales, dtype: float64"
      ]
     },
     "execution_count": 32,
     "metadata": {},
     "output_type": "execute_result"
    }
   ],
   "source": [
    "# Выведем инмормацию о столбце методом describe()\n",
    "\n",
    "data['jp_sales'].describe()"
   ]
  },
  {
   "cell_type": "code",
   "execution_count": 33,
   "metadata": {},
   "outputs": [
    {
     "data": {
      "text/plain": [
       "name               10300\n",
       "platform           10300\n",
       "year_of_release    10300\n",
       "genre              10300\n",
       "na_sales           10300\n",
       "eu_sales           10300\n",
       "jp_sales           10300\n",
       "other_sales        10300\n",
       "critic_score        5904\n",
       "user_score          5359\n",
       "rating             10300\n",
       "dtype: int64"
      ]
     },
     "execution_count": 33,
     "metadata": {},
     "output_type": "execute_result"
    }
   ],
   "source": [
    "# Количество значений каждого столбца, где значение jp_sales равно 0\n",
    "\n",
    "data.loc[data['jp_sales'] == 0.0].count()"
   ]
  },
  {
   "cell_type": "markdown",
   "metadata": {},
   "source": [
    "Здесь и медиана равна 0, скорее всего большинство игр не доходит до Японии, либо не принимается там публикой. Хоть и половина игр из тех, что не были куплены оценена, также оставим пропуски. "
   ]
  },
  {
   "cell_type": "markdown",
   "metadata": {},
   "source": [
    "Сделаем тоже самое для столбца `other_sales`."
   ]
  },
  {
   "cell_type": "code",
   "execution_count": 34,
   "metadata": {},
   "outputs": [
    {
     "data": {
      "text/html": [
       "<div>\n",
       "<style scoped>\n",
       "    .dataframe tbody tr th:only-of-type {\n",
       "        vertical-align: middle;\n",
       "    }\n",
       "\n",
       "    .dataframe tbody tr th {\n",
       "        vertical-align: top;\n",
       "    }\n",
       "\n",
       "    .dataframe thead th {\n",
       "        text-align: right;\n",
       "    }\n",
       "</style>\n",
       "<table border=\"1\" class=\"dataframe\">\n",
       "  <thead>\n",
       "    <tr style=\"text-align: right;\">\n",
       "      <th></th>\n",
       "      <th>name</th>\n",
       "      <th>platform</th>\n",
       "      <th>year_of_release</th>\n",
       "      <th>genre</th>\n",
       "      <th>na_sales</th>\n",
       "      <th>eu_sales</th>\n",
       "      <th>jp_sales</th>\n",
       "      <th>other_sales</th>\n",
       "      <th>critic_score</th>\n",
       "      <th>user_score</th>\n",
       "      <th>rating</th>\n",
       "    </tr>\n",
       "  </thead>\n",
       "  <tbody>\n",
       "    <tr>\n",
       "      <th>16714</th>\n",
       "      <td>Winning Post 8 2016</td>\n",
       "      <td>PSV</td>\n",
       "      <td>2016</td>\n",
       "      <td>Simulation</td>\n",
       "      <td>0.00</td>\n",
       "      <td>0.00</td>\n",
       "      <td>0.01</td>\n",
       "      <td>0.00</td>\n",
       "      <td>NaN</td>\n",
       "      <td>NaN</td>\n",
       "      <td>RP</td>\n",
       "    </tr>\n",
       "    <tr>\n",
       "      <th>4737</th>\n",
       "      <td>Mario no Super Picross</td>\n",
       "      <td>SNES</td>\n",
       "      <td>1995</td>\n",
       "      <td>Puzzle</td>\n",
       "      <td>0.00</td>\n",
       "      <td>0.00</td>\n",
       "      <td>0.41</td>\n",
       "      <td>0.00</td>\n",
       "      <td>NaN</td>\n",
       "      <td>NaN</td>\n",
       "      <td>RP</td>\n",
       "    </tr>\n",
       "    <tr>\n",
       "      <th>12238</th>\n",
       "      <td>Mayhem 3D</td>\n",
       "      <td>X360</td>\n",
       "      <td>2011</td>\n",
       "      <td>Racing</td>\n",
       "      <td>0.06</td>\n",
       "      <td>0.00</td>\n",
       "      <td>0.00</td>\n",
       "      <td>0.00</td>\n",
       "      <td>47.0</td>\n",
       "      <td>8.6</td>\n",
       "      <td>E10+</td>\n",
       "    </tr>\n",
       "    <tr>\n",
       "      <th>12239</th>\n",
       "      <td>Bleach: Hanatareshi Yabou</td>\n",
       "      <td>PS2</td>\n",
       "      <td>2006</td>\n",
       "      <td>Role-Playing</td>\n",
       "      <td>0.00</td>\n",
       "      <td>0.00</td>\n",
       "      <td>0.07</td>\n",
       "      <td>0.00</td>\n",
       "      <td>NaN</td>\n",
       "      <td>NaN</td>\n",
       "      <td>RP</td>\n",
       "    </tr>\n",
       "    <tr>\n",
       "      <th>12240</th>\n",
       "      <td>Karaoke Revolution Party</td>\n",
       "      <td>XB</td>\n",
       "      <td>2005</td>\n",
       "      <td>Misc</td>\n",
       "      <td>0.05</td>\n",
       "      <td>0.01</td>\n",
       "      <td>0.00</td>\n",
       "      <td>0.00</td>\n",
       "      <td>80.0</td>\n",
       "      <td>NaN</td>\n",
       "      <td>E10+</td>\n",
       "    </tr>\n",
       "    <tr>\n",
       "      <th>...</th>\n",
       "      <td>...</td>\n",
       "      <td>...</td>\n",
       "      <td>...</td>\n",
       "      <td>...</td>\n",
       "      <td>...</td>\n",
       "      <td>...</td>\n",
       "      <td>...</td>\n",
       "      <td>...</td>\n",
       "      <td>...</td>\n",
       "      <td>...</td>\n",
       "      <td>...</td>\n",
       "    </tr>\n",
       "    <tr>\n",
       "      <th>2</th>\n",
       "      <td>Mario Kart Wii</td>\n",
       "      <td>Wii</td>\n",
       "      <td>2008</td>\n",
       "      <td>Racing</td>\n",
       "      <td>15.68</td>\n",
       "      <td>12.76</td>\n",
       "      <td>3.79</td>\n",
       "      <td>3.29</td>\n",
       "      <td>82.0</td>\n",
       "      <td>8.3</td>\n",
       "      <td>E</td>\n",
       "    </tr>\n",
       "    <tr>\n",
       "      <th>16</th>\n",
       "      <td>Grand Theft Auto V</td>\n",
       "      <td>PS3</td>\n",
       "      <td>2013</td>\n",
       "      <td>Action</td>\n",
       "      <td>7.02</td>\n",
       "      <td>9.09</td>\n",
       "      <td>0.98</td>\n",
       "      <td>3.96</td>\n",
       "      <td>97.0</td>\n",
       "      <td>8.2</td>\n",
       "      <td>M</td>\n",
       "    </tr>\n",
       "    <tr>\n",
       "      <th>48</th>\n",
       "      <td>Gran Turismo 4</td>\n",
       "      <td>PS2</td>\n",
       "      <td>2004</td>\n",
       "      <td>Racing</td>\n",
       "      <td>3.01</td>\n",
       "      <td>0.01</td>\n",
       "      <td>1.10</td>\n",
       "      <td>7.53</td>\n",
       "      <td>89.0</td>\n",
       "      <td>8.5</td>\n",
       "      <td>E</td>\n",
       "    </tr>\n",
       "    <tr>\n",
       "      <th>0</th>\n",
       "      <td>Wii Sports</td>\n",
       "      <td>Wii</td>\n",
       "      <td>2006</td>\n",
       "      <td>Sports</td>\n",
       "      <td>41.36</td>\n",
       "      <td>28.96</td>\n",
       "      <td>3.77</td>\n",
       "      <td>8.45</td>\n",
       "      <td>76.0</td>\n",
       "      <td>8.0</td>\n",
       "      <td>E</td>\n",
       "    </tr>\n",
       "    <tr>\n",
       "      <th>17</th>\n",
       "      <td>Grand Theft Auto: San Andreas</td>\n",
       "      <td>PS2</td>\n",
       "      <td>2004</td>\n",
       "      <td>Action</td>\n",
       "      <td>9.43</td>\n",
       "      <td>0.40</td>\n",
       "      <td>0.41</td>\n",
       "      <td>10.57</td>\n",
       "      <td>95.0</td>\n",
       "      <td>9.0</td>\n",
       "      <td>M</td>\n",
       "    </tr>\n",
       "  </tbody>\n",
       "</table>\n",
       "<p>16444 rows × 11 columns</p>\n",
       "</div>"
      ],
      "text/plain": [
       "                                name platform  year_of_release         genre  \\\n",
       "16714            Winning Post 8 2016      PSV             2016    Simulation   \n",
       "4737          Mario no Super Picross     SNES             1995        Puzzle   \n",
       "12238                      Mayhem 3D     X360             2011        Racing   \n",
       "12239      Bleach: Hanatareshi Yabou      PS2             2006  Role-Playing   \n",
       "12240       Karaoke Revolution Party       XB             2005          Misc   \n",
       "...                              ...      ...              ...           ...   \n",
       "2                     Mario Kart Wii      Wii             2008        Racing   \n",
       "16                Grand Theft Auto V      PS3             2013        Action   \n",
       "48                    Gran Turismo 4      PS2             2004        Racing   \n",
       "0                         Wii Sports      Wii             2006        Sports   \n",
       "17     Grand Theft Auto: San Andreas      PS2             2004        Action   \n",
       "\n",
       "       na_sales  eu_sales  jp_sales  other_sales  critic_score  user_score  \\\n",
       "16714      0.00      0.00      0.01         0.00           NaN         NaN   \n",
       "4737       0.00      0.00      0.41         0.00           NaN         NaN   \n",
       "12238      0.06      0.00      0.00         0.00          47.0         8.6   \n",
       "12239      0.00      0.00      0.07         0.00           NaN         NaN   \n",
       "12240      0.05      0.01      0.00         0.00          80.0         NaN   \n",
       "...         ...       ...       ...          ...           ...         ...   \n",
       "2         15.68     12.76      3.79         3.29          82.0         8.3   \n",
       "16         7.02      9.09      0.98         3.96          97.0         8.2   \n",
       "48         3.01      0.01      1.10         7.53          89.0         8.5   \n",
       "0         41.36     28.96      3.77         8.45          76.0         8.0   \n",
       "17         9.43      0.40      0.41        10.57          95.0         9.0   \n",
       "\n",
       "      rating  \n",
       "16714     RP  \n",
       "4737      RP  \n",
       "12238   E10+  \n",
       "12239     RP  \n",
       "12240   E10+  \n",
       "...      ...  \n",
       "2          E  \n",
       "16         M  \n",
       "48         E  \n",
       "0          E  \n",
       "17         M  \n",
       "\n",
       "[16444 rows x 11 columns]"
      ]
     },
     "execution_count": 34,
     "metadata": {},
     "output_type": "execute_result"
    }
   ],
   "source": [
    "# Сортируем по столбцу other_sales\n",
    "\n",
    "data.sort_values(by='other_sales')"
   ]
  },
  {
   "cell_type": "code",
   "execution_count": 35,
   "metadata": {},
   "outputs": [
    {
     "data": {
      "image/png": "[encoded data removed]",
      "text/plain": [
       "<Figure size 432x288 with 1 Axes>"
      ]
     },
     "metadata": {
      "needs_background": "light"
     },
     "output_type": "display_data"
    }
   ],
   "source": [
    "# Строим диаграмму размаха\n",
    "\n",
    "data.boxplot('other_sales')\n",
    "plt.show()"
   ]
  },
  {
   "cell_type": "code",
   "execution_count": 36,
   "metadata": {
    "scrolled": true
   },
   "outputs": [
    {
     "data": {
      "text/html": [
       "<div>\n",
       "<style scoped>\n",
       "    .dataframe tbody tr th:only-of-type {\n",
       "        vertical-align: middle;\n",
       "    }\n",
       "\n",
       "    .dataframe tbody tr th {\n",
       "        vertical-align: top;\n",
       "    }\n",
       "\n",
       "    .dataframe thead th {\n",
       "        text-align: right;\n",
       "    }\n",
       "</style>\n",
       "<table border=\"1\" class=\"dataframe\">\n",
       "  <thead>\n",
       "    <tr style=\"text-align: right;\">\n",
       "      <th></th>\n",
       "      <th>name</th>\n",
       "      <th>platform</th>\n",
       "      <th>year_of_release</th>\n",
       "      <th>genre</th>\n",
       "      <th>na_sales</th>\n",
       "      <th>eu_sales</th>\n",
       "      <th>jp_sales</th>\n",
       "      <th>other_sales</th>\n",
       "      <th>critic_score</th>\n",
       "      <th>user_score</th>\n",
       "      <th>rating</th>\n",
       "    </tr>\n",
       "  </thead>\n",
       "  <tbody>\n",
       "    <tr>\n",
       "      <th>16714</th>\n",
       "      <td>Winning Post 8 2016</td>\n",
       "      <td>PSV</td>\n",
       "      <td>2016</td>\n",
       "      <td>Simulation</td>\n",
       "      <td>0.00</td>\n",
       "      <td>0.00</td>\n",
       "      <td>0.01</td>\n",
       "      <td>0.0</td>\n",
       "      <td>NaN</td>\n",
       "      <td>NaN</td>\n",
       "      <td>RP</td>\n",
       "    </tr>\n",
       "    <tr>\n",
       "      <th>4737</th>\n",
       "      <td>Mario no Super Picross</td>\n",
       "      <td>SNES</td>\n",
       "      <td>1995</td>\n",
       "      <td>Puzzle</td>\n",
       "      <td>0.00</td>\n",
       "      <td>0.00</td>\n",
       "      <td>0.41</td>\n",
       "      <td>0.0</td>\n",
       "      <td>NaN</td>\n",
       "      <td>NaN</td>\n",
       "      <td>RP</td>\n",
       "    </tr>\n",
       "    <tr>\n",
       "      <th>12238</th>\n",
       "      <td>Mayhem 3D</td>\n",
       "      <td>X360</td>\n",
       "      <td>2011</td>\n",
       "      <td>Racing</td>\n",
       "      <td>0.06</td>\n",
       "      <td>0.00</td>\n",
       "      <td>0.00</td>\n",
       "      <td>0.0</td>\n",
       "      <td>47.0</td>\n",
       "      <td>8.6</td>\n",
       "      <td>E10+</td>\n",
       "    </tr>\n",
       "    <tr>\n",
       "      <th>12239</th>\n",
       "      <td>Bleach: Hanatareshi Yabou</td>\n",
       "      <td>PS2</td>\n",
       "      <td>2006</td>\n",
       "      <td>Role-Playing</td>\n",
       "      <td>0.00</td>\n",
       "      <td>0.00</td>\n",
       "      <td>0.07</td>\n",
       "      <td>0.0</td>\n",
       "      <td>NaN</td>\n",
       "      <td>NaN</td>\n",
       "      <td>RP</td>\n",
       "    </tr>\n",
       "    <tr>\n",
       "      <th>12240</th>\n",
       "      <td>Karaoke Revolution Party</td>\n",
       "      <td>XB</td>\n",
       "      <td>2005</td>\n",
       "      <td>Misc</td>\n",
       "      <td>0.05</td>\n",
       "      <td>0.01</td>\n",
       "      <td>0.00</td>\n",
       "      <td>0.0</td>\n",
       "      <td>80.0</td>\n",
       "      <td>NaN</td>\n",
       "      <td>E10+</td>\n",
       "    </tr>\n",
       "    <tr>\n",
       "      <th>4733</th>\n",
       "      <td>Hatsune Miku: Project Diva 2nd</td>\n",
       "      <td>PSP</td>\n",
       "      <td>2010</td>\n",
       "      <td>Misc</td>\n",
       "      <td>0.00</td>\n",
       "      <td>0.00</td>\n",
       "      <td>0.41</td>\n",
       "      <td>0.0</td>\n",
       "      <td>NaN</td>\n",
       "      <td>NaN</td>\n",
       "      <td>RP</td>\n",
       "    </tr>\n",
       "    <tr>\n",
       "      <th>12242</th>\n",
       "      <td>Yoake Yori Ruriiro na: Brighter than Dawning Blue</td>\n",
       "      <td>PS2</td>\n",
       "      <td>2006</td>\n",
       "      <td>Adventure</td>\n",
       "      <td>0.00</td>\n",
       "      <td>0.00</td>\n",
       "      <td>0.07</td>\n",
       "      <td>0.0</td>\n",
       "      <td>NaN</td>\n",
       "      <td>NaN</td>\n",
       "      <td>RP</td>\n",
       "    </tr>\n",
       "    <tr>\n",
       "      <th>12244</th>\n",
       "      <td>Pandemonium 2</td>\n",
       "      <td>PS</td>\n",
       "      <td>1997</td>\n",
       "      <td>Platform</td>\n",
       "      <td>0.04</td>\n",
       "      <td>0.02</td>\n",
       "      <td>0.00</td>\n",
       "      <td>0.0</td>\n",
       "      <td>NaN</td>\n",
       "      <td>NaN</td>\n",
       "      <td>RP</td>\n",
       "    </tr>\n",
       "    <tr>\n",
       "      <th>12245</th>\n",
       "      <td>Gundam Try Age SP</td>\n",
       "      <td>3DS</td>\n",
       "      <td>2014</td>\n",
       "      <td>Strategy</td>\n",
       "      <td>0.00</td>\n",
       "      <td>0.00</td>\n",
       "      <td>0.07</td>\n",
       "      <td>0.0</td>\n",
       "      <td>NaN</td>\n",
       "      <td>NaN</td>\n",
       "      <td>RP</td>\n",
       "    </tr>\n",
       "    <tr>\n",
       "      <th>4725</th>\n",
       "      <td>AKB1/48: Idol to Koishitara...</td>\n",
       "      <td>PSP</td>\n",
       "      <td>2010</td>\n",
       "      <td>Misc</td>\n",
       "      <td>0.00</td>\n",
       "      <td>0.00</td>\n",
       "      <td>0.41</td>\n",
       "      <td>0.0</td>\n",
       "      <td>NaN</td>\n",
       "      <td>NaN</td>\n",
       "      <td>RP</td>\n",
       "    </tr>\n",
       "  </tbody>\n",
       "</table>\n",
       "</div>"
      ],
      "text/plain": [
       "                                                    name platform  \\\n",
       "16714                                Winning Post 8 2016      PSV   \n",
       "4737                              Mario no Super Picross     SNES   \n",
       "12238                                          Mayhem 3D     X360   \n",
       "12239                          Bleach: Hanatareshi Yabou      PS2   \n",
       "12240                           Karaoke Revolution Party       XB   \n",
       "4733                      Hatsune Miku: Project Diva 2nd      PSP   \n",
       "12242  Yoake Yori Ruriiro na: Brighter than Dawning Blue      PS2   \n",
       "12244                                      Pandemonium 2       PS   \n",
       "12245                                  Gundam Try Age SP      3DS   \n",
       "4725                      AKB1/48: Idol to Koishitara...      PSP   \n",
       "\n",
       "       year_of_release         genre  na_sales  eu_sales  jp_sales  \\\n",
       "16714             2016    Simulation      0.00      0.00      0.01   \n",
       "4737              1995        Puzzle      0.00      0.00      0.41   \n",
       "12238             2011        Racing      0.06      0.00      0.00   \n",
       "12239             2006  Role-Playing      0.00      0.00      0.07   \n",
       "12240             2005          Misc      0.05      0.01      0.00   \n",
       "4733              2010          Misc      0.00      0.00      0.41   \n",
       "12242             2006     Adventure      0.00      0.00      0.07   \n",
       "12244             1997      Platform      0.04      0.02      0.00   \n",
       "12245             2014      Strategy      0.00      0.00      0.07   \n",
       "4725              2010          Misc      0.00      0.00      0.41   \n",
       "\n",
       "       other_sales  critic_score  user_score rating  \n",
       "16714          0.0           NaN         NaN     RP  \n",
       "4737           0.0           NaN         NaN     RP  \n",
       "12238          0.0          47.0         8.6   E10+  \n",
       "12239          0.0           NaN         NaN     RP  \n",
       "12240          0.0          80.0         NaN   E10+  \n",
       "4733           0.0           NaN         NaN     RP  \n",
       "12242          0.0           NaN         NaN     RP  \n",
       "12244          0.0           NaN         NaN     RP  \n",
       "12245          0.0           NaN         NaN     RP  \n",
       "4725           0.0           NaN         NaN     RP  "
      ]
     },
     "execution_count": 36,
     "metadata": {},
     "output_type": "execute_result"
    }
   ],
   "source": [
    "# Выводим первые 10 значений отсортированного датафрейма по столбцу other_sales\n",
    "\n",
    "data.sort_values(by='other_sales').head(10)"
   ]
  },
  {
   "cell_type": "code",
   "execution_count": 37,
   "metadata": {},
   "outputs": [
    {
     "data": {
      "image/png": "[encoded data removed]",
      "text/plain": [
       "<Figure size 432x288 with 1 Axes>"
      ]
     },
     "metadata": {
      "needs_background": "light"
     },
     "output_type": "display_data"
    }
   ],
   "source": [
    "# Диаграмма размаха с ограничением на ось 'y'\n",
    "\n",
    "data.boxplot('other_sales')\n",
    "plt.ylim(-0.05, 0.10)\n",
    "plt.show()"
   ]
  },
  {
   "cell_type": "code",
   "execution_count": 38,
   "metadata": {},
   "outputs": [
    {
     "data": {
      "text/plain": [
       "count    16444.000000\n",
       "mean         0.047594\n",
       "std          0.188005\n",
       "min          0.000000\n",
       "25%          0.000000\n",
       "50%          0.010000\n",
       "75%          0.030000\n",
       "max         10.570000\n",
       "Name: other_sales, dtype: float64"
      ]
     },
     "execution_count": 38,
     "metadata": {},
     "output_type": "execute_result"
    }
   ],
   "source": [
    "# Выведем инмормацию о столбце методом describe()\n",
    "\n",
    "data['other_sales'].describe()"
   ]
  },
  {
   "cell_type": "code",
   "execution_count": 39,
   "metadata": {},
   "outputs": [
    {
     "data": {
      "text/plain": [
       "name               6492\n",
       "platform           6492\n",
       "year_of_release    6492\n",
       "genre              6492\n",
       "na_sales           6492\n",
       "eu_sales           6492\n",
       "jp_sales           6492\n",
       "other_sales        6492\n",
       "critic_score       1786\n",
       "user_score         1400\n",
       "rating             6492\n",
       "dtype: int64"
      ]
     },
     "execution_count": 39,
     "metadata": {},
     "output_type": "execute_result"
    }
   ],
   "source": [
    "# Количество значений каждого столбца, где значение other_sales равно 0\n",
    "\n",
    "data.loc[data['other_sales'] == 0.0].count()"
   ]
  },
  {
   "cell_type": "markdown",
   "metadata": {},
   "source": [
    "Много пропусков, но их нельзя не заполнить, ни удалить. Либо исказим данные, либо потеряем важную информацию."
   ]
  },
  {
   "cell_type": "markdown",
   "metadata": {},
   "source": [
    "Перейдем к столбцу `critic_score`. Отсортируем датафрейм по этому столбцу."
   ]
  },
  {
   "cell_type": "code",
   "execution_count": 40,
   "metadata": {},
   "outputs": [
    {
     "data": {
      "text/html": [
       "<div>\n",
       "<style scoped>\n",
       "    .dataframe tbody tr th:only-of-type {\n",
       "        vertical-align: middle;\n",
       "    }\n",
       "\n",
       "    .dataframe tbody tr th {\n",
       "        vertical-align: top;\n",
       "    }\n",
       "\n",
       "    .dataframe thead th {\n",
       "        text-align: right;\n",
       "    }\n",
       "</style>\n",
       "<table border=\"1\" class=\"dataframe\">\n",
       "  <thead>\n",
       "    <tr style=\"text-align: right;\">\n",
       "      <th></th>\n",
       "      <th>name</th>\n",
       "      <th>platform</th>\n",
       "      <th>year_of_release</th>\n",
       "      <th>genre</th>\n",
       "      <th>na_sales</th>\n",
       "      <th>eu_sales</th>\n",
       "      <th>jp_sales</th>\n",
       "      <th>other_sales</th>\n",
       "      <th>critic_score</th>\n",
       "      <th>user_score</th>\n",
       "      <th>rating</th>\n",
       "    </tr>\n",
       "  </thead>\n",
       "  <tbody>\n",
       "    <tr>\n",
       "      <th>13689</th>\n",
       "      <td>Ride to Hell</td>\n",
       "      <td>PS3</td>\n",
       "      <td>2013</td>\n",
       "      <td>Racing</td>\n",
       "      <td>0.02</td>\n",
       "      <td>0.01</td>\n",
       "      <td>0.00</td>\n",
       "      <td>0.01</td>\n",
       "      <td>13.0</td>\n",
       "      <td>1.0</td>\n",
       "      <td>M</td>\n",
       "    </tr>\n",
       "    <tr>\n",
       "      <th>10662</th>\n",
       "      <td>Leisure Suit Larry: Box Office Bust</td>\n",
       "      <td>PS3</td>\n",
       "      <td>2009</td>\n",
       "      <td>Adventure</td>\n",
       "      <td>0.06</td>\n",
       "      <td>0.03</td>\n",
       "      <td>0.00</td>\n",
       "      <td>0.01</td>\n",
       "      <td>17.0</td>\n",
       "      <td>1.7</td>\n",
       "      <td>M</td>\n",
       "    </tr>\n",
       "    <tr>\n",
       "      <th>10015</th>\n",
       "      <td>Rugby 15</td>\n",
       "      <td>PS4</td>\n",
       "      <td>2015</td>\n",
       "      <td>Sports</td>\n",
       "      <td>0.04</td>\n",
       "      <td>0.06</td>\n",
       "      <td>0.00</td>\n",
       "      <td>0.02</td>\n",
       "      <td>19.0</td>\n",
       "      <td>3.4</td>\n",
       "      <td>E</td>\n",
       "    </tr>\n",
       "    <tr>\n",
       "      <th>15343</th>\n",
       "      <td>Balls of Fury</td>\n",
       "      <td>Wii</td>\n",
       "      <td>2007</td>\n",
       "      <td>Sports</td>\n",
       "      <td>0.02</td>\n",
       "      <td>0.00</td>\n",
       "      <td>0.00</td>\n",
       "      <td>0.00</td>\n",
       "      <td>19.0</td>\n",
       "      <td>2.8</td>\n",
       "      <td>E10+</td>\n",
       "    </tr>\n",
       "    <tr>\n",
       "      <th>12131</th>\n",
       "      <td>Anubis II</td>\n",
       "      <td>Wii</td>\n",
       "      <td>2007</td>\n",
       "      <td>Platform</td>\n",
       "      <td>0.06</td>\n",
       "      <td>0.00</td>\n",
       "      <td>0.00</td>\n",
       "      <td>0.00</td>\n",
       "      <td>19.0</td>\n",
       "      <td>2.7</td>\n",
       "      <td>E</td>\n",
       "    </tr>\n",
       "    <tr>\n",
       "      <th>...</th>\n",
       "      <td>...</td>\n",
       "      <td>...</td>\n",
       "      <td>...</td>\n",
       "      <td>...</td>\n",
       "      <td>...</td>\n",
       "      <td>...</td>\n",
       "      <td>...</td>\n",
       "      <td>...</td>\n",
       "      <td>...</td>\n",
       "      <td>...</td>\n",
       "      <td>...</td>\n",
       "    </tr>\n",
       "    <tr>\n",
       "      <th>16710</th>\n",
       "      <td>Samurai Warriors: Sanada Maru</td>\n",
       "      <td>PS3</td>\n",
       "      <td>2016</td>\n",
       "      <td>Action</td>\n",
       "      <td>0.00</td>\n",
       "      <td>0.00</td>\n",
       "      <td>0.01</td>\n",
       "      <td>0.00</td>\n",
       "      <td>NaN</td>\n",
       "      <td>NaN</td>\n",
       "      <td>RP</td>\n",
       "    </tr>\n",
       "    <tr>\n",
       "      <th>16711</th>\n",
       "      <td>LMA Manager 2007</td>\n",
       "      <td>X360</td>\n",
       "      <td>2006</td>\n",
       "      <td>Sports</td>\n",
       "      <td>0.00</td>\n",
       "      <td>0.01</td>\n",
       "      <td>0.00</td>\n",
       "      <td>0.00</td>\n",
       "      <td>NaN</td>\n",
       "      <td>NaN</td>\n",
       "      <td>RP</td>\n",
       "    </tr>\n",
       "    <tr>\n",
       "      <th>16712</th>\n",
       "      <td>Haitaka no Psychedelica</td>\n",
       "      <td>PSV</td>\n",
       "      <td>2016</td>\n",
       "      <td>Adventure</td>\n",
       "      <td>0.00</td>\n",
       "      <td>0.00</td>\n",
       "      <td>0.01</td>\n",
       "      <td>0.00</td>\n",
       "      <td>NaN</td>\n",
       "      <td>NaN</td>\n",
       "      <td>RP</td>\n",
       "    </tr>\n",
       "    <tr>\n",
       "      <th>16713</th>\n",
       "      <td>Spirits &amp; Spells</td>\n",
       "      <td>GBA</td>\n",
       "      <td>2003</td>\n",
       "      <td>Platform</td>\n",
       "      <td>0.01</td>\n",
       "      <td>0.00</td>\n",
       "      <td>0.00</td>\n",
       "      <td>0.00</td>\n",
       "      <td>NaN</td>\n",
       "      <td>NaN</td>\n",
       "      <td>RP</td>\n",
       "    </tr>\n",
       "    <tr>\n",
       "      <th>16714</th>\n",
       "      <td>Winning Post 8 2016</td>\n",
       "      <td>PSV</td>\n",
       "      <td>2016</td>\n",
       "      <td>Simulation</td>\n",
       "      <td>0.00</td>\n",
       "      <td>0.00</td>\n",
       "      <td>0.01</td>\n",
       "      <td>0.00</td>\n",
       "      <td>NaN</td>\n",
       "      <td>NaN</td>\n",
       "      <td>RP</td>\n",
       "    </tr>\n",
       "  </tbody>\n",
       "</table>\n",
       "<p>16444 rows × 11 columns</p>\n",
       "</div>"
      ],
      "text/plain": [
       "                                      name platform  year_of_release  \\\n",
       "13689                         Ride to Hell      PS3             2013   \n",
       "10662  Leisure Suit Larry: Box Office Bust      PS3             2009   \n",
       "10015                             Rugby 15      PS4             2015   \n",
       "15343                        Balls of Fury      Wii             2007   \n",
       "12131                            Anubis II      Wii             2007   \n",
       "...                                    ...      ...              ...   \n",
       "16710        Samurai Warriors: Sanada Maru      PS3             2016   \n",
       "16711                     LMA Manager 2007     X360             2006   \n",
       "16712              Haitaka no Psychedelica      PSV             2016   \n",
       "16713                     Spirits & Spells      GBA             2003   \n",
       "16714                  Winning Post 8 2016      PSV             2016   \n",
       "\n",
       "            genre  na_sales  eu_sales  jp_sales  other_sales  critic_score  \\\n",
       "13689      Racing      0.02      0.01      0.00         0.01          13.0   \n",
       "10662   Adventure      0.06      0.03      0.00         0.01          17.0   \n",
       "10015      Sports      0.04      0.06      0.00         0.02          19.0   \n",
       "15343      Sports      0.02      0.00      0.00         0.00          19.0   \n",
       "12131    Platform      0.06      0.00      0.00         0.00          19.0   \n",
       "...           ...       ...       ...       ...          ...           ...   \n",
       "16710      Action      0.00      0.00      0.01         0.00           NaN   \n",
       "16711      Sports      0.00      0.01      0.00         0.00           NaN   \n",
       "16712   Adventure      0.00      0.00      0.01         0.00           NaN   \n",
       "16713    Platform      0.01      0.00      0.00         0.00           NaN   \n",
       "16714  Simulation      0.00      0.00      0.01         0.00           NaN   \n",
       "\n",
       "       user_score rating  \n",
       "13689         1.0      M  \n",
       "10662         1.7      M  \n",
       "10015         3.4      E  \n",
       "15343         2.8   E10+  \n",
       "12131         2.7      E  \n",
       "...           ...    ...  \n",
       "16710         NaN     RP  \n",
       "16711         NaN     RP  \n",
       "16712         NaN     RP  \n",
       "16713         NaN     RP  \n",
       "16714         NaN     RP  \n",
       "\n",
       "[16444 rows x 11 columns]"
      ]
     },
     "execution_count": 40,
     "metadata": {},
     "output_type": "execute_result"
    }
   ],
   "source": [
    "# Сортируем по столбцу critic_score\n",
    "\n",
    "data.sort_values(by='critic_score')"
   ]
  },
  {
   "cell_type": "markdown",
   "metadata": {},
   "source": [
    "Из таблицы можо сделать вывод что оценивание критиками осуществляется по стобалльной шкале. Самая мальнекая оценка критиков это 13 пунктов, а самая высокая - 98. Выглядит вполне реалистично, всегда есть неудачные платформы и игры и наоборот, хорошо проработанные, качественные, интересные."
   ]
  },
  {
   "cell_type": "markdown",
   "metadata": {},
   "source": [
    "Посмотрим на уникальные значения столбца `rating`, чтобы убедиться что одно и тоже значение рейтинга не записано по разному, например разным регистром."
   ]
  },
  {
   "cell_type": "code",
   "execution_count": 41,
   "metadata": {},
   "outputs": [
    {
     "data": {
      "text/plain": [
       "array(['E', 'RP', 'M', 'T', 'E10+', 'K-A', 'AO', 'EC'], dtype=object)"
      ]
     },
     "execution_count": 41,
     "metadata": {},
     "output_type": "execute_result"
    }
   ],
   "source": [
    "data['rating'].unique()"
   ]
  },
  {
   "cell_type": "markdown",
   "metadata": {},
   "source": [
    "Все значения имеют только  форму записи."
   ]
  },
  {
   "cell_type": "markdown",
   "metadata": {},
   "source": [
    "### Посчитайте суммарные продажи во всех регионах и запишите их в отдельный столбец"
   ]
  },
  {
   "cell_type": "markdown",
   "metadata": {},
   "source": [
    "Добавим в датафрейм столбец `total_sales` с сумарными продажими по всем регионам (NA, EU, JP)."
   ]
  },
  {
   "cell_type": "code",
   "execution_count": 42,
   "metadata": {},
   "outputs": [],
   "source": [
    "data['total_sales'] = data['na_sales'] + data['eu_sales'] + data['jp_sales']"
   ]
  },
  {
   "cell_type": "code",
   "execution_count": 43,
   "metadata": {
    "scrolled": true
   },
   "outputs": [
    {
     "data": {
      "text/html": [
       "<div>\n",
       "<style scoped>\n",
       "    .dataframe tbody tr th:only-of-type {\n",
       "        vertical-align: middle;\n",
       "    }\n",
       "\n",
       "    .dataframe tbody tr th {\n",
       "        vertical-align: top;\n",
       "    }\n",
       "\n",
       "    .dataframe thead th {\n",
       "        text-align: right;\n",
       "    }\n",
       "</style>\n",
       "<table border=\"1\" class=\"dataframe\">\n",
       "  <thead>\n",
       "    <tr style=\"text-align: right;\">\n",
       "      <th></th>\n",
       "      <th>name</th>\n",
       "      <th>platform</th>\n",
       "      <th>year_of_release</th>\n",
       "      <th>genre</th>\n",
       "      <th>na_sales</th>\n",
       "      <th>eu_sales</th>\n",
       "      <th>jp_sales</th>\n",
       "      <th>other_sales</th>\n",
       "      <th>critic_score</th>\n",
       "      <th>user_score</th>\n",
       "      <th>rating</th>\n",
       "      <th>total_sales</th>\n",
       "    </tr>\n",
       "  </thead>\n",
       "  <tbody>\n",
       "    <tr>\n",
       "      <th>0</th>\n",
       "      <td>Wii Sports</td>\n",
       "      <td>Wii</td>\n",
       "      <td>2006</td>\n",
       "      <td>Sports</td>\n",
       "      <td>41.36</td>\n",
       "      <td>28.96</td>\n",
       "      <td>3.77</td>\n",
       "      <td>8.45</td>\n",
       "      <td>76.0</td>\n",
       "      <td>8.0</td>\n",
       "      <td>E</td>\n",
       "      <td>74.09</td>\n",
       "    </tr>\n",
       "    <tr>\n",
       "      <th>1</th>\n",
       "      <td>Super Mario Bros.</td>\n",
       "      <td>NES</td>\n",
       "      <td>1985</td>\n",
       "      <td>Platform</td>\n",
       "      <td>29.08</td>\n",
       "      <td>3.58</td>\n",
       "      <td>6.81</td>\n",
       "      <td>0.77</td>\n",
       "      <td>NaN</td>\n",
       "      <td>NaN</td>\n",
       "      <td>RP</td>\n",
       "      <td>39.47</td>\n",
       "    </tr>\n",
       "    <tr>\n",
       "      <th>2</th>\n",
       "      <td>Mario Kart Wii</td>\n",
       "      <td>Wii</td>\n",
       "      <td>2008</td>\n",
       "      <td>Racing</td>\n",
       "      <td>15.68</td>\n",
       "      <td>12.76</td>\n",
       "      <td>3.79</td>\n",
       "      <td>3.29</td>\n",
       "      <td>82.0</td>\n",
       "      <td>8.3</td>\n",
       "      <td>E</td>\n",
       "      <td>32.23</td>\n",
       "    </tr>\n",
       "    <tr>\n",
       "      <th>3</th>\n",
       "      <td>Wii Sports Resort</td>\n",
       "      <td>Wii</td>\n",
       "      <td>2009</td>\n",
       "      <td>Sports</td>\n",
       "      <td>15.61</td>\n",
       "      <td>10.93</td>\n",
       "      <td>3.28</td>\n",
       "      <td>2.95</td>\n",
       "      <td>80.0</td>\n",
       "      <td>8.0</td>\n",
       "      <td>E</td>\n",
       "      <td>29.82</td>\n",
       "    </tr>\n",
       "    <tr>\n",
       "      <th>4</th>\n",
       "      <td>Pokemon Red/Pokemon Blue</td>\n",
       "      <td>GB</td>\n",
       "      <td>1996</td>\n",
       "      <td>Role-Playing</td>\n",
       "      <td>11.27</td>\n",
       "      <td>8.89</td>\n",
       "      <td>10.22</td>\n",
       "      <td>1.00</td>\n",
       "      <td>NaN</td>\n",
       "      <td>NaN</td>\n",
       "      <td>RP</td>\n",
       "      <td>30.38</td>\n",
       "    </tr>\n",
       "  </tbody>\n",
       "</table>\n",
       "</div>"
      ],
      "text/plain": [
       "                       name platform  year_of_release         genre  na_sales  \\\n",
       "0                Wii Sports      Wii             2006        Sports     41.36   \n",
       "1         Super Mario Bros.      NES             1985      Platform     29.08   \n",
       "2            Mario Kart Wii      Wii             2008        Racing     15.68   \n",
       "3         Wii Sports Resort      Wii             2009        Sports     15.61   \n",
       "4  Pokemon Red/Pokemon Blue       GB             1996  Role-Playing     11.27   \n",
       "\n",
       "   eu_sales  jp_sales  other_sales  critic_score  user_score rating  \\\n",
       "0     28.96      3.77         8.45          76.0         8.0      E   \n",
       "1      3.58      6.81         0.77           NaN         NaN     RP   \n",
       "2     12.76      3.79         3.29          82.0         8.3      E   \n",
       "3     10.93      3.28         2.95          80.0         8.0      E   \n",
       "4      8.89     10.22         1.00           NaN         NaN     RP   \n",
       "\n",
       "   total_sales  \n",
       "0        74.09  \n",
       "1        39.47  \n",
       "2        32.23  \n",
       "3        29.82  \n",
       "4        30.38  "
      ]
     },
     "execution_count": 43,
     "metadata": {},
     "output_type": "execute_result"
    }
   ],
   "source": [
    "# Выведем первые 5 строк датафрейма\n",
    "\n",
    "data.head()"
   ]
  },
  {
   "cell_type": "code",
   "execution_count": 44,
   "metadata": {},
   "outputs": [
    {
     "name": "stdout",
     "output_type": "stream",
     "text": [
      "<class 'pandas.core.frame.DataFrame'>\n",
      "Int64Index: 16444 entries, 0 to 16714\n",
      "Data columns (total 12 columns):\n",
      " #   Column           Non-Null Count  Dtype  \n",
      "---  ------           --------------  -----  \n",
      " 0   name             16444 non-null  object \n",
      " 1   platform         16444 non-null  object \n",
      " 2   year_of_release  16444 non-null  int64  \n",
      " 3   genre            16444 non-null  object \n",
      " 4   na_sales         16444 non-null  float64\n",
      " 5   eu_sales         16444 non-null  float64\n",
      " 6   jp_sales         16444 non-null  float64\n",
      " 7   other_sales      16444 non-null  float64\n",
      " 8   critic_score     7983 non-null   float64\n",
      " 9   user_score       7463 non-null   float64\n",
      " 10  rating           16444 non-null  object \n",
      " 11  total_sales      16444 non-null  float64\n",
      "dtypes: float64(7), int64(1), object(4)\n",
      "memory usage: 1.6+ MB\n"
     ]
    }
   ],
   "source": [
    "# Информация о датафрейме после предобработки\n",
    "\n",
    "data.info()"
   ]
  },
  {
   "cell_type": "markdown",
   "metadata": {},
   "source": [
    "После предобработки данных все названия колонок были переведены в нижний регистр, некоторые столбцы были переведены в удобный тип данных, а также добавлен столбцец с суммой продаж копий по трем регионам."
   ]
  },
  {
   "cell_type": "markdown",
   "metadata": {},
   "source": [
    "## Шаг 3. Проведите исследовательский анализ данных"
   ]
  },
  {
   "cell_type": "markdown",
   "metadata": {},
   "source": [
    "### Посмотрите, сколько игр выпускалось в разные годы"
   ]
  },
  {
   "cell_type": "markdown",
   "metadata": {},
   "source": [
    "Найдем сколько игр выпускалось в каждый год. В датафрейме информация об играх за последние 30 лет, вряд ли они все нужны для прогноза на следующий год."
   ]
  },
  {
   "cell_type": "code",
   "execution_count": 45,
   "metadata": {},
   "outputs": [
    {
     "data": {
      "text/plain": [
       "2016     502\n",
       "2015     606\n",
       "2014     581\n",
       "2013     544\n",
       "2012     653\n",
       "2011    1136\n",
       "2010    1255\n",
       "2009    1426\n",
       "2008    1427\n",
       "2007    1197\n",
       "2006    1006\n",
       "2005     939\n",
       "2004     762\n",
       "2003     775\n",
       "2002     829\n",
       "2001     482\n",
       "2000     350\n",
       "1999     338\n",
       "1998     379\n",
       "1997     289\n",
       "1996     263\n",
       "1995     219\n",
       "1994     121\n",
       "1993      60\n",
       "1992      43\n",
       "1991      41\n",
       "1990      16\n",
       "1989      17\n",
       "1988      15\n",
       "1987      16\n",
       "1986      21\n",
       "1985      14\n",
       "1984      14\n",
       "1983      17\n",
       "1982      36\n",
       "1981      46\n",
       "1980       9\n",
       "Name: year_of_release, dtype: int64"
      ]
     },
     "execution_count": 45,
     "metadata": {},
     "output_type": "execute_result"
    }
   ],
   "source": [
    "data['year_of_release'].value_counts().sort_index(ascending=False)"
   ]
  },
  {
   "cell_type": "code",
   "execution_count": 46,
   "metadata": {
    "scrolled": true
   },
   "outputs": [
    {
     "data": {
      "image/png": "[encoded data removed]",
      "text/plain": [
       "<Figure size 720x288 with 1 Axes>"
      ]
     },
     "metadata": {
      "needs_background": "light"
     },
     "output_type": "display_data"
    }
   ],
   "source": [
    "# Визуализируем данные, полученые выше\n",
    "# За 2016 год данные могут быть неполные\n",
    "\n",
    "plt.figure(figsize=(10, 4))\n",
    "data['year_of_release'].value_counts().sort_index(ascending=False).plot(kind='bar')\n",
    "plt.show()"
   ]
  },
  {
   "cell_type": "markdown",
   "metadata": {},
   "source": [
    "Наибольшее число продаж приходится на 2008 и 2009 года, а самые менее продаваемые годы это ожидаемо 1980-1993, компьютеры тогда были дорогие, использовались в большинстве для работы. Между 1993 и 1994 виден относительно резкий скачок, в два раз."
   ]
  },
  {
   "cell_type": "markdown",
   "metadata": {},
   "source": [
    "### Важны ли данные за все периоды?"
   ]
  },
  {
   "cell_type": "markdown",
   "metadata": {},
   "source": [
    "Данные за весь период нам не нужны, слишком большой срок за который произошло много перемен. Скорее всего возьмем 2-3 близжайших года."
   ]
  },
  {
   "cell_type": "markdown",
   "metadata": {},
   "source": [
    "### Посмотрите, как менялись продажи по платформам. Выберите платформы с наибольшими суммарными продажами и постройте распределение по годам. "
   ]
  },
  {
   "cell_type": "markdown",
   "metadata": {},
   "source": [
    "Посмотрим как менялись продажи по платформам. Найдем платформы с наибольшими сумарными продажими с помощью сводной таблицы, возьмем топ-10 платформ и посмотрим на распределение по годам, чтобы понять за какой примерно срок популярность платформ меняется."
   ]
  },
  {
   "cell_type": "code",
   "execution_count": 47,
   "metadata": {},
   "outputs": [],
   "source": [
    "platform_pivot = data.pivot_table(index='platform', \n",
    "                                  values='total_sales', \n",
    "                                  aggfunc='sum'\n",
    "                                 ).sort_values('total_sales', ascending=False).head(10)"
   ]
  },
  {
   "cell_type": "code",
   "execution_count": 48,
   "metadata": {},
   "outputs": [
    {
     "data": {
      "text/html": [
       "<div>\n",
       "<style scoped>\n",
       "    .dataframe tbody tr th:only-of-type {\n",
       "        vertical-align: middle;\n",
       "    }\n",
       "\n",
       "    .dataframe tbody tr th {\n",
       "        vertical-align: top;\n",
       "    }\n",
       "\n",
       "    .dataframe thead th {\n",
       "        text-align: right;\n",
       "    }\n",
       "</style>\n",
       "<table border=\"1\" class=\"dataframe\">\n",
       "  <thead>\n",
       "    <tr style=\"text-align: right;\">\n",
       "      <th></th>\n",
       "      <th>total_sales</th>\n",
       "    </tr>\n",
       "    <tr>\n",
       "      <th>platform</th>\n",
       "      <th></th>\n",
       "    </tr>\n",
       "  </thead>\n",
       "  <tbody>\n",
       "    <tr>\n",
       "      <th>PS2</th>\n",
       "      <td>1043.09</td>\n",
       "    </tr>\n",
       "    <tr>\n",
       "      <th>X360</th>\n",
       "      <td>876.36</td>\n",
       "    </tr>\n",
       "    <tr>\n",
       "      <th>Wii</th>\n",
       "      <td>813.47</td>\n",
       "    </tr>\n",
       "    <tr>\n",
       "      <th>PS3</th>\n",
       "      <td>796.75</td>\n",
       "    </tr>\n",
       "    <tr>\n",
       "      <th>DS</th>\n",
       "      <td>743.74</td>\n",
       "    </tr>\n",
       "    <tr>\n",
       "      <th>PS</th>\n",
       "      <td>686.89</td>\n",
       "    </tr>\n",
       "    <tr>\n",
       "      <th>GBA</th>\n",
       "      <td>305.27</td>\n",
       "    </tr>\n",
       "    <tr>\n",
       "      <th>PS4</th>\n",
       "      <td>265.79</td>\n",
       "    </tr>\n",
       "    <tr>\n",
       "      <th>PSP</th>\n",
       "      <td>248.77</td>\n",
       "    </tr>\n",
       "    <tr>\n",
       "      <th>GB</th>\n",
       "      <td>246.27</td>\n",
       "    </tr>\n",
       "  </tbody>\n",
       "</table>\n",
       "</div>"
      ],
      "text/plain": [
       "          total_sales\n",
       "platform             \n",
       "PS2           1043.09\n",
       "X360           876.36\n",
       "Wii            813.47\n",
       "PS3            796.75\n",
       "DS             743.74\n",
       "PS             686.89\n",
       "GBA            305.27\n",
       "PS4            265.79\n",
       "PSP            248.77\n",
       "GB             246.27"
      ]
     },
     "execution_count": 48,
     "metadata": {},
     "output_type": "execute_result"
    }
   ],
   "source": [
    "# Выводим сводную таблицу\n",
    "\n",
    "platform_pivot"
   ]
  },
  {
   "cell_type": "code",
   "execution_count": 49,
   "metadata": {},
   "outputs": [],
   "source": [
    "# Индексы в сводной таблице записываем в список\n",
    "\n",
    "platform_top_5 = platform_pivot.index"
   ]
  },
  {
   "cell_type": "markdown",
   "metadata": {},
   "source": [
    "Создадим сводную таблицу с информацией о 5 платформах и ежегодных общих продажах по ним."
   ]
  },
  {
   "cell_type": "code",
   "execution_count": 50,
   "metadata": {},
   "outputs": [],
   "source": [
    "# Создаем сводную таблицу\n",
    "\n",
    "stats_platform = data.query('platform in @platform_top_5'\n",
    "                           ).pivot_table(index=['year_of_release', 'platform'], \n",
    "                                         values='total_sales', aggfunc='sum').round(2).reset_index()"
   ]
  },
  {
   "cell_type": "code",
   "execution_count": 51,
   "metadata": {},
   "outputs": [
    {
     "data": {
      "text/html": [
       "<div>\n",
       "<style scoped>\n",
       "    .dataframe tbody tr th:only-of-type {\n",
       "        vertical-align: middle;\n",
       "    }\n",
       "\n",
       "    .dataframe tbody tr th {\n",
       "        vertical-align: top;\n",
       "    }\n",
       "\n",
       "    .dataframe thead th {\n",
       "        text-align: right;\n",
       "    }\n",
       "</style>\n",
       "<table border=\"1\" class=\"dataframe\">\n",
       "  <thead>\n",
       "    <tr style=\"text-align: right;\">\n",
       "      <th></th>\n",
       "      <th>year_of_release</th>\n",
       "      <th>platform</th>\n",
       "      <th>total_sales</th>\n",
       "    </tr>\n",
       "  </thead>\n",
       "  <tbody>\n",
       "    <tr>\n",
       "      <th>0</th>\n",
       "      <td>1985</td>\n",
       "      <td>DS</td>\n",
       "      <td>0.02</td>\n",
       "    </tr>\n",
       "    <tr>\n",
       "      <th>1</th>\n",
       "      <td>1988</td>\n",
       "      <td>GB</td>\n",
       "      <td>1.40</td>\n",
       "    </tr>\n",
       "    <tr>\n",
       "      <th>2</th>\n",
       "      <td>1989</td>\n",
       "      <td>GB</td>\n",
       "      <td>63.57</td>\n",
       "    </tr>\n",
       "    <tr>\n",
       "      <th>3</th>\n",
       "      <td>1990</td>\n",
       "      <td>GB</td>\n",
       "      <td>4.46</td>\n",
       "    </tr>\n",
       "    <tr>\n",
       "      <th>4</th>\n",
       "      <td>1991</td>\n",
       "      <td>GB</td>\n",
       "      <td>5.49</td>\n",
       "    </tr>\n",
       "    <tr>\n",
       "      <th>...</th>\n",
       "      <td>...</td>\n",
       "      <td>...</td>\n",
       "      <td>...</td>\n",
       "    </tr>\n",
       "    <tr>\n",
       "      <th>99</th>\n",
       "      <td>2015</td>\n",
       "      <td>X360</td>\n",
       "      <td>10.86</td>\n",
       "    </tr>\n",
       "    <tr>\n",
       "      <th>100</th>\n",
       "      <td>2016</td>\n",
       "      <td>PS3</td>\n",
       "      <td>3.23</td>\n",
       "    </tr>\n",
       "    <tr>\n",
       "      <th>101</th>\n",
       "      <td>2016</td>\n",
       "      <td>PS4</td>\n",
       "      <td>59.01</td>\n",
       "    </tr>\n",
       "    <tr>\n",
       "      <th>102</th>\n",
       "      <td>2016</td>\n",
       "      <td>Wii</td>\n",
       "      <td>0.17</td>\n",
       "    </tr>\n",
       "    <tr>\n",
       "      <th>103</th>\n",
       "      <td>2016</td>\n",
       "      <td>X360</td>\n",
       "      <td>1.40</td>\n",
       "    </tr>\n",
       "  </tbody>\n",
       "</table>\n",
       "<p>104 rows × 3 columns</p>\n",
       "</div>"
      ],
      "text/plain": [
       "     year_of_release platform  total_sales\n",
       "0               1985       DS         0.02\n",
       "1               1988       GB         1.40\n",
       "2               1989       GB        63.57\n",
       "3               1990       GB         4.46\n",
       "4               1991       GB         5.49\n",
       "..               ...      ...          ...\n",
       "99              2015     X360        10.86\n",
       "100             2016      PS3         3.23\n",
       "101             2016      PS4        59.01\n",
       "102             2016      Wii         0.17\n",
       "103             2016     X360         1.40\n",
       "\n",
       "[104 rows x 3 columns]"
      ]
     },
     "execution_count": 51,
     "metadata": {},
     "output_type": "execute_result"
    }
   ],
   "source": [
    "# Выводим первые и последние 5 строк таблицы\n",
    "\n",
    "stats_platform"
   ]
  },
  {
   "cell_type": "markdown",
   "metadata": {},
   "source": [
    "Теперь построим столбчатую диаграмму, на которой посмотрим как распределяется общие продажи игр на платформах по годам."
   ]
  },
  {
   "cell_type": "code",
   "execution_count": 52,
   "metadata": {},
   "outputs": [
    {
     "data": {
      "image/png": "[encoded data removed]",
      "text/plain": [
       "<Figure size 1440x432 with 1 Axes>"
      ]
     },
     "metadata": {
      "needs_background": "light"
     },
     "output_type": "display_data"
    }
   ],
   "source": [
    "# Строим столбчатую диаграмму, задаем размер\n",
    "\n",
    "plt.figure(figsize=(20, 6))\n",
    "ax = sns.barplot(x='year_of_release',\n",
    "            y='total_sales',\n",
    "            hue=\"platform\",\n",
    "            data=stats_platform)\n",
    "\n",
    "ax.set_title('Распределение продаж игр на платформах по годам')\n",
    "ax.set(xlabel='Год', ylabel='Общее кол-во проданных игр')\n",
    "\n",
    "plt.show()"
   ]
  },
  {
   "cell_type": "markdown",
   "metadata": {},
   "source": [
    "### За какой характерный срок появляются новые и исчезают старые платформы?"
   ]
  },
  {
   "cell_type": "markdown",
   "metadata": {},
   "source": [
    "На диаграмме видно, что платформы набирают и теряют популярность. В 1985 начала развиваться платформа DS, однако ее продажи были слишком малы, чтобы отобразить их на диаграмме - 0.02 млн. Далее она набирала популярность и наибольшее число продаж имела в 2007-2008 года. Между 1985 и 2008 появлялось и пропадало несколько платформ, такие как GB и PS, которые к 2002 году пропали из топ-10 совсем. В 2000 появилась платформа PS2 и следующие 5 лет была самой продаваемой. С 2006 по 2009 наибольшую больше всего продаж было у платформу Wii, которую на 1 год вменила Х360, а следующие три года с небольшим отрывом от Х360 лидировала  PS2. Однако в последние три года (2014-2016) лидирует платформа  PS4, которая появилась в топ-10 в 2013 году. Все платформы имеют срок жизни примерно  9-10 лет, далее их продажи быстро идут на спад. Единственная платформа, которая продержалась в топ-10 дольше это PS2."
   ]
  },
  {
   "cell_type": "markdown",
   "metadata": {},
   "source": [
    "### Возьмите данные за соответствующий актуальный период. Актуальный период определите самостоятельно в результате исследования предыдущих вопросов. Основной фактор — эти данные помогут построить прогноз на 2017 год. **Не учитывайте в работе данные за предыдущие годы.**"
   ]
  },
  {
   "cell_type": "markdown",
   "metadata": {},
   "source": [
    "Для дальнейшего исследования возьмем данные из датафрейма относящиеся к 2014-2016 годам. Если брать период больше в исследовании будут неактуальные данные. Сохраним в переменной `data_21` срез данных по датафрейму."
   ]
  },
  {
   "cell_type": "code",
   "execution_count": 53,
   "metadata": {},
   "outputs": [],
   "source": [
    "data_21 = data.query('year_of_release > 2013')"
   ]
  },
  {
   "cell_type": "code",
   "execution_count": 54,
   "metadata": {
    "scrolled": true
   },
   "outputs": [
    {
     "data": {
      "text/html": [
       "<div>\n",
       "<style scoped>\n",
       "    .dataframe tbody tr th:only-of-type {\n",
       "        vertical-align: middle;\n",
       "    }\n",
       "\n",
       "    .dataframe tbody tr th {\n",
       "        vertical-align: top;\n",
       "    }\n",
       "\n",
       "    .dataframe thead th {\n",
       "        text-align: right;\n",
       "    }\n",
       "</style>\n",
       "<table border=\"1\" class=\"dataframe\">\n",
       "  <thead>\n",
       "    <tr style=\"text-align: right;\">\n",
       "      <th></th>\n",
       "      <th>name</th>\n",
       "      <th>platform</th>\n",
       "      <th>year_of_release</th>\n",
       "      <th>genre</th>\n",
       "      <th>na_sales</th>\n",
       "      <th>eu_sales</th>\n",
       "      <th>jp_sales</th>\n",
       "      <th>other_sales</th>\n",
       "      <th>critic_score</th>\n",
       "      <th>user_score</th>\n",
       "      <th>rating</th>\n",
       "      <th>total_sales</th>\n",
       "    </tr>\n",
       "  </thead>\n",
       "  <tbody>\n",
       "    <tr>\n",
       "      <th>31</th>\n",
       "      <td>Call of Duty: Black Ops 3</td>\n",
       "      <td>PS4</td>\n",
       "      <td>2015</td>\n",
       "      <td>Shooter</td>\n",
       "      <td>6.03</td>\n",
       "      <td>5.86</td>\n",
       "      <td>0.36</td>\n",
       "      <td>2.38</td>\n",
       "      <td>NaN</td>\n",
       "      <td>NaN</td>\n",
       "      <td>RP</td>\n",
       "      <td>12.25</td>\n",
       "    </tr>\n",
       "    <tr>\n",
       "      <th>42</th>\n",
       "      <td>Grand Theft Auto V</td>\n",
       "      <td>PS4</td>\n",
       "      <td>2014</td>\n",
       "      <td>Action</td>\n",
       "      <td>3.96</td>\n",
       "      <td>6.31</td>\n",
       "      <td>0.38</td>\n",
       "      <td>1.97</td>\n",
       "      <td>97.0</td>\n",
       "      <td>8.3</td>\n",
       "      <td>M</td>\n",
       "      <td>10.65</td>\n",
       "    </tr>\n",
       "    <tr>\n",
       "      <th>47</th>\n",
       "      <td>Pokemon Omega Ruby/Pokemon Alpha Sapphire</td>\n",
       "      <td>3DS</td>\n",
       "      <td>2014</td>\n",
       "      <td>Role-Playing</td>\n",
       "      <td>4.35</td>\n",
       "      <td>3.49</td>\n",
       "      <td>3.10</td>\n",
       "      <td>0.74</td>\n",
       "      <td>NaN</td>\n",
       "      <td>NaN</td>\n",
       "      <td>RP</td>\n",
       "      <td>10.94</td>\n",
       "    </tr>\n",
       "    <tr>\n",
       "      <th>77</th>\n",
       "      <td>FIFA 16</td>\n",
       "      <td>PS4</td>\n",
       "      <td>2015</td>\n",
       "      <td>Sports</td>\n",
       "      <td>1.12</td>\n",
       "      <td>6.12</td>\n",
       "      <td>0.06</td>\n",
       "      <td>1.28</td>\n",
       "      <td>82.0</td>\n",
       "      <td>4.3</td>\n",
       "      <td>E</td>\n",
       "      <td>7.30</td>\n",
       "    </tr>\n",
       "    <tr>\n",
       "      <th>87</th>\n",
       "      <td>Star Wars Battlefront (2015)</td>\n",
       "      <td>PS4</td>\n",
       "      <td>2015</td>\n",
       "      <td>Shooter</td>\n",
       "      <td>2.99</td>\n",
       "      <td>3.49</td>\n",
       "      <td>0.22</td>\n",
       "      <td>1.28</td>\n",
       "      <td>NaN</td>\n",
       "      <td>NaN</td>\n",
       "      <td>RP</td>\n",
       "      <td>6.70</td>\n",
       "    </tr>\n",
       "  </tbody>\n",
       "</table>\n",
       "</div>"
      ],
      "text/plain": [
       "                                         name platform  year_of_release  \\\n",
       "31                  Call of Duty: Black Ops 3      PS4             2015   \n",
       "42                         Grand Theft Auto V      PS4             2014   \n",
       "47  Pokemon Omega Ruby/Pokemon Alpha Sapphire      3DS             2014   \n",
       "77                                    FIFA 16      PS4             2015   \n",
       "87               Star Wars Battlefront (2015)      PS4             2015   \n",
       "\n",
       "           genre  na_sales  eu_sales  jp_sales  other_sales  critic_score  \\\n",
       "31       Shooter      6.03      5.86      0.36         2.38           NaN   \n",
       "42        Action      3.96      6.31      0.38         1.97          97.0   \n",
       "47  Role-Playing      4.35      3.49      3.10         0.74           NaN   \n",
       "77        Sports      1.12      6.12      0.06         1.28          82.0   \n",
       "87       Shooter      2.99      3.49      0.22         1.28           NaN   \n",
       "\n",
       "    user_score rating  total_sales  \n",
       "31         NaN     RP        12.25  \n",
       "42         8.3      M        10.65  \n",
       "47         NaN     RP        10.94  \n",
       "77         4.3      E         7.30  \n",
       "87         NaN     RP         6.70  "
      ]
     },
     "execution_count": 54,
     "metadata": {},
     "output_type": "execute_result"
    }
   ],
   "source": [
    "# Выведем первые 5 строк data_21\n",
    "\n",
    "data_21.head()"
   ]
  },
  {
   "cell_type": "markdown",
   "metadata": {},
   "source": [
    "### Какие платформы лидируют по продажам, растут или падают? Выберите несколько потенциально прибыльных платформ."
   ]
  },
  {
   "cell_type": "markdown",
   "metadata": {},
   "source": [
    "Построим еще раз сводную таблицу `platform_21_pivot` по общим продажам платформ. Посмотрим платформы в по новому датафрейму."
   ]
  },
  {
   "cell_type": "code",
   "execution_count": 55,
   "metadata": {},
   "outputs": [],
   "source": [
    "platform_21_pivot = data_21.pivot_table(index='platform', \n",
    "                                        values='total_sales', \n",
    "                                        aggfunc='sum').sort_values('total_sales', ascending=False)"
   ]
  },
  {
   "cell_type": "code",
   "execution_count": 56,
   "metadata": {},
   "outputs": [
    {
     "data": {
      "text/html": [
       "<div>\n",
       "<style scoped>\n",
       "    .dataframe tbody tr th:only-of-type {\n",
       "        vertical-align: middle;\n",
       "    }\n",
       "\n",
       "    .dataframe tbody tr th {\n",
       "        vertical-align: top;\n",
       "    }\n",
       "\n",
       "    .dataframe thead th {\n",
       "        text-align: right;\n",
       "    }\n",
       "</style>\n",
       "<table border=\"1\" class=\"dataframe\">\n",
       "  <thead>\n",
       "    <tr style=\"text-align: right;\">\n",
       "      <th></th>\n",
       "      <th>total_sales</th>\n",
       "    </tr>\n",
       "    <tr>\n",
       "      <th>platform</th>\n",
       "      <th></th>\n",
       "    </tr>\n",
       "  </thead>\n",
       "  <tbody>\n",
       "    <tr>\n",
       "      <th>PS4</th>\n",
       "      <td>243.67</td>\n",
       "    </tr>\n",
       "    <tr>\n",
       "      <th>XOne</th>\n",
       "      <td>127.84</td>\n",
       "    </tr>\n",
       "    <tr>\n",
       "      <th>3DS</th>\n",
       "      <td>83.00</td>\n",
       "    </tr>\n",
       "    <tr>\n",
       "      <th>PS3</th>\n",
       "      <td>58.81</td>\n",
       "    </tr>\n",
       "    <tr>\n",
       "      <th>X360</th>\n",
       "      <td>43.87</td>\n",
       "    </tr>\n",
       "    <tr>\n",
       "      <th>WiiU</th>\n",
       "      <td>39.82</td>\n",
       "    </tr>\n",
       "    <tr>\n",
       "      <th>PC</th>\n",
       "      <td>25.20</td>\n",
       "    </tr>\n",
       "    <tr>\n",
       "      <th>PSV</th>\n",
       "      <td>20.59</td>\n",
       "    </tr>\n",
       "    <tr>\n",
       "      <th>Wii</th>\n",
       "      <td>4.67</td>\n",
       "    </tr>\n",
       "    <tr>\n",
       "      <th>PSP</th>\n",
       "      <td>0.36</td>\n",
       "    </tr>\n",
       "  </tbody>\n",
       "</table>\n",
       "</div>"
      ],
      "text/plain": [
       "          total_sales\n",
       "platform             \n",
       "PS4            243.67\n",
       "XOne           127.84\n",
       "3DS             83.00\n",
       "PS3             58.81\n",
       "X360            43.87\n",
       "WiiU            39.82\n",
       "PC              25.20\n",
       "PSV             20.59\n",
       "Wii              4.67\n",
       "PSP              0.36"
      ]
     },
     "execution_count": 56,
     "metadata": {},
     "output_type": "execute_result"
    }
   ],
   "source": [
    "# Выводим сводную таблицу\n",
    "\n",
    "platform_21_pivot"
   ]
  },
  {
   "cell_type": "code",
   "execution_count": 57,
   "metadata": {},
   "outputs": [
    {
     "data": {
      "text/plain": [
       "Index(['PS2', 'X360', 'Wii', 'PS3', 'DS', 'PS', 'GBA', 'PS4', 'PSP', 'GB'], dtype='object', name='platform')"
      ]
     },
     "execution_count": 57,
     "metadata": {},
     "output_type": "execute_result"
    }
   ],
   "source": [
    "platform_pivot.index"
   ]
  },
  {
   "cell_type": "markdown",
   "metadata": {},
   "source": [
    "По сравнению с топ-10 всего датафремйа, топ-10 последних 3х лет отличается. PS4 самая популярная платформа последних лет, хотя по всему периоду является одной из последних в топ-10, также появляется XOne, которая стоит на втором месте, 3DS, WiiU, PC и PSV. Из топ-10 платформ за все время, рассматриваемое в датафрейме остается только PS3, Х360, Wii и PSP.\t"
   ]
  },
  {
   "cell_type": "markdown",
   "metadata": {},
   "source": [
    "### Постройте график «ящик с усами» по глобальным продажам игр в разбивке по платформам. Опишите результат."
   ]
  },
  {
   "cell_type": "markdown",
   "metadata": {},
   "source": [
    "Построим ящик с усами по каждой платформе."
   ]
  },
  {
   "cell_type": "code",
   "execution_count": 58,
   "metadata": {},
   "outputs": [
    {
     "data": {
      "text/html": [
       "<div>\n",
       "<style scoped>\n",
       "    .dataframe tbody tr th:only-of-type {\n",
       "        vertical-align: middle;\n",
       "    }\n",
       "\n",
       "    .dataframe tbody tr th {\n",
       "        vertical-align: top;\n",
       "    }\n",
       "\n",
       "    .dataframe thead th {\n",
       "        text-align: right;\n",
       "    }\n",
       "</style>\n",
       "<table border=\"1\" class=\"dataframe\">\n",
       "  <thead>\n",
       "    <tr style=\"text-align: right;\">\n",
       "      <th></th>\n",
       "      <th>count</th>\n",
       "      <th>mean</th>\n",
       "      <th>std</th>\n",
       "      <th>min</th>\n",
       "      <th>25%</th>\n",
       "      <th>50%</th>\n",
       "      <th>75%</th>\n",
       "      <th>max</th>\n",
       "    </tr>\n",
       "    <tr>\n",
       "      <th>platform</th>\n",
       "      <th></th>\n",
       "      <th></th>\n",
       "      <th></th>\n",
       "      <th></th>\n",
       "      <th></th>\n",
       "      <th></th>\n",
       "      <th></th>\n",
       "      <th></th>\n",
       "    </tr>\n",
       "  </thead>\n",
       "  <tbody>\n",
       "    <tr>\n",
       "      <th>3DS</th>\n",
       "      <td>212.0</td>\n",
       "      <td>0.391509</td>\n",
       "      <td>1.122935</td>\n",
       "      <td>0.01</td>\n",
       "      <td>0.030</td>\n",
       "      <td>0.080</td>\n",
       "      <td>0.230</td>\n",
       "      <td>10.94</td>\n",
       "    </tr>\n",
       "    <tr>\n",
       "      <th>PC</th>\n",
       "      <td>151.0</td>\n",
       "      <td>0.166887</td>\n",
       "      <td>0.304553</td>\n",
       "      <td>0.01</td>\n",
       "      <td>0.020</td>\n",
       "      <td>0.060</td>\n",
       "      <td>0.185</td>\n",
       "      <td>2.82</td>\n",
       "    </tr>\n",
       "    <tr>\n",
       "      <th>PS3</th>\n",
       "      <td>219.0</td>\n",
       "      <td>0.268539</td>\n",
       "      <td>0.532896</td>\n",
       "      <td>0.01</td>\n",
       "      <td>0.030</td>\n",
       "      <td>0.090</td>\n",
       "      <td>0.285</td>\n",
       "      <td>4.40</td>\n",
       "    </tr>\n",
       "    <tr>\n",
       "      <th>PS4</th>\n",
       "      <td>376.0</td>\n",
       "      <td>0.648059</td>\n",
       "      <td>1.358995</td>\n",
       "      <td>0.01</td>\n",
       "      <td>0.050</td>\n",
       "      <td>0.160</td>\n",
       "      <td>0.580</td>\n",
       "      <td>12.25</td>\n",
       "    </tr>\n",
       "    <tr>\n",
       "      <th>PSP</th>\n",
       "      <td>13.0</td>\n",
       "      <td>0.027692</td>\n",
       "      <td>0.027735</td>\n",
       "      <td>0.01</td>\n",
       "      <td>0.010</td>\n",
       "      <td>0.020</td>\n",
       "      <td>0.020</td>\n",
       "      <td>0.09</td>\n",
       "    </tr>\n",
       "    <tr>\n",
       "      <th>PSV</th>\n",
       "      <td>295.0</td>\n",
       "      <td>0.069797</td>\n",
       "      <td>0.123748</td>\n",
       "      <td>0.01</td>\n",
       "      <td>0.020</td>\n",
       "      <td>0.030</td>\n",
       "      <td>0.080</td>\n",
       "      <td>1.72</td>\n",
       "    </tr>\n",
       "    <tr>\n",
       "      <th>Wii</th>\n",
       "      <td>11.0</td>\n",
       "      <td>0.424545</td>\n",
       "      <td>0.571601</td>\n",
       "      <td>0.01</td>\n",
       "      <td>0.035</td>\n",
       "      <td>0.170</td>\n",
       "      <td>0.695</td>\n",
       "      <td>1.84</td>\n",
       "    </tr>\n",
       "    <tr>\n",
       "      <th>WiiU</th>\n",
       "      <td>73.0</td>\n",
       "      <td>0.545479</td>\n",
       "      <td>1.079585</td>\n",
       "      <td>0.01</td>\n",
       "      <td>0.050</td>\n",
       "      <td>0.170</td>\n",
       "      <td>0.520</td>\n",
       "      <td>6.58</td>\n",
       "    </tr>\n",
       "    <tr>\n",
       "      <th>X360</th>\n",
       "      <td>111.0</td>\n",
       "      <td>0.395225</td>\n",
       "      <td>0.571941</td>\n",
       "      <td>0.01</td>\n",
       "      <td>0.060</td>\n",
       "      <td>0.160</td>\n",
       "      <td>0.460</td>\n",
       "      <td>3.88</td>\n",
       "    </tr>\n",
       "    <tr>\n",
       "      <th>XOne</th>\n",
       "      <td>228.0</td>\n",
       "      <td>0.560702</td>\n",
       "      <td>0.951956</td>\n",
       "      <td>0.01</td>\n",
       "      <td>0.050</td>\n",
       "      <td>0.185</td>\n",
       "      <td>0.575</td>\n",
       "      <td>6.71</td>\n",
       "    </tr>\n",
       "  </tbody>\n",
       "</table>\n",
       "</div>"
      ],
      "text/plain": [
       "          count      mean       std   min    25%    50%    75%    max\n",
       "platform                                                             \n",
       "3DS       212.0  0.391509  1.122935  0.01  0.030  0.080  0.230  10.94\n",
       "PC        151.0  0.166887  0.304553  0.01  0.020  0.060  0.185   2.82\n",
       "PS3       219.0  0.268539  0.532896  0.01  0.030  0.090  0.285   4.40\n",
       "PS4       376.0  0.648059  1.358995  0.01  0.050  0.160  0.580  12.25\n",
       "PSP        13.0  0.027692  0.027735  0.01  0.010  0.020  0.020   0.09\n",
       "PSV       295.0  0.069797  0.123748  0.01  0.020  0.030  0.080   1.72\n",
       "Wii        11.0  0.424545  0.571601  0.01  0.035  0.170  0.695   1.84\n",
       "WiiU       73.0  0.545479  1.079585  0.01  0.050  0.170  0.520   6.58\n",
       "X360      111.0  0.395225  0.571941  0.01  0.060  0.160  0.460   3.88\n",
       "XOne      228.0  0.560702  0.951956  0.01  0.050  0.185  0.575   6.71"
      ]
     },
     "execution_count": 58,
     "metadata": {},
     "output_type": "execute_result"
    }
   ],
   "source": [
    "# Выведем таблицу с описанием столбца total_sales по каждой платформе\n",
    "\n",
    "data_21.groupby('platform')['total_sales'].describe()"
   ]
  },
  {
   "cell_type": "code",
   "execution_count": 59,
   "metadata": {},
   "outputs": [
    {
     "data": {
      "image/png": "[encoded data removed]",
      "text/plain": [
       "<Figure size 864x432 with 1 Axes>"
      ]
     },
     "metadata": {
      "needs_background": "light"
     },
     "output_type": "display_data"
    }
   ],
   "source": [
    "data_21.boxplot(column='total_sales', by='platform', figsize=(12, 6))\n",
    "plt.show()"
   ]
  },
  {
   "cell_type": "markdown",
   "metadata": {},
   "source": [
    "На диаграмме видно достаточно много выбросов по каждой платформе, также у 3DS и PS4 Есть самые большие выбросы, заметно больше общих продаж остальных платформ. Однако из-за этих выбросов не видно некоторых платформ совсем, таких как PSP. Построим эту же диаграмму, только с ограничениями на ось у, чтобы посмотреть на сами ящики."
   ]
  },
  {
   "cell_type": "code",
   "execution_count": 60,
   "metadata": {},
   "outputs": [
    {
     "data": {
      "image/png": "[encoded data removed]",
      "text/plain": [
       "<Figure size 864x432 with 1 Axes>"
      ]
     },
     "metadata": {
      "needs_background": "light"
     },
     "output_type": "display_data"
    }
   ],
   "source": [
    "data_21.boxplot(column='total_sales', by='platform', figsize=(12, 6))\n",
    "plt.ylim(-0.05, 1.4)\n",
    "plt.show()"
   ]
  },
  {
   "cell_type": "markdown",
   "metadata": {},
   "source": [
    "У всех платформ медиана находится в промежутке от 0 до 0.2, однако 75%-квантили сильно различаются. Продажи PSP и PSV все еще очень малы."
   ]
  },
  {
   "cell_type": "code",
   "execution_count": 61,
   "metadata": {},
   "outputs": [
    {
     "data": {
      "text/plain": [
       "Index(['PS4', 'XOne', '3DS', 'PS3', 'X360', 'WiiU', 'PC', 'PSV', 'Wii', 'PSP'], dtype='object', name='platform')"
      ]
     },
     "execution_count": 61,
     "metadata": {},
     "output_type": "execute_result"
    }
   ],
   "source": [
    "platform_21_pivot.index"
   ]
  },
  {
   "cell_type": "markdown",
   "metadata": {},
   "source": [
    "На диаграмме виден лишь 1 выброс - это продажи платформы PS4 с продажами 243.67 млн. Медиана находится на уровне чуть ниже 50 млн. "
   ]
  },
  {
   "cell_type": "markdown",
   "metadata": {},
   "source": [
    "### Посмотрите, как влияют на продажи внутри одной популярной платформы отзывы пользователей и критиков. Постройте диаграмму рассеяния и посчитайте корреляцию между отзывами и продажами. Сформулируйте выводы."
   ]
  },
  {
   "cell_type": "markdown",
   "metadata": {},
   "source": [
    "Возьмем срез `data_PS4` датафрейма где платформа это PS4 и проверим как на продажи влияют оценки критиков и пользователей. "
   ]
  },
  {
   "cell_type": "code",
   "execution_count": 62,
   "metadata": {},
   "outputs": [],
   "source": [
    "data_PS4 = data_21.query('platform == \"PS4\"')"
   ]
  },
  {
   "cell_type": "code",
   "execution_count": 63,
   "metadata": {},
   "outputs": [
    {
     "data": {
      "text/plain": [
       "0.4021203477635433"
      ]
     },
     "execution_count": 63,
     "metadata": {},
     "output_type": "execute_result"
    }
   ],
   "source": [
    "# Корреляция между общими продажами и оценкой критиков\n",
    "\n",
    "data_PS4['total_sales'].corr(data_PS4['critic_score'])"
   ]
  },
  {
   "cell_type": "code",
   "execution_count": 64,
   "metadata": {},
   "outputs": [
    {
     "data": {
      "text/plain": [
       "-0.039364345213287334"
      ]
     },
     "execution_count": 64,
     "metadata": {},
     "output_type": "execute_result"
    }
   ],
   "source": [
    "# Корреляция между общими продажами и оценкой пользователей\n",
    "\n",
    "data_PS4['total_sales'].corr(data_PS4['user_score'])"
   ]
  },
  {
   "cell_type": "markdown",
   "metadata": {},
   "source": [
    "Корреляция между общими продажами и оценками каждой категории различается. Общие продажи достаточно сильно зависят от оценок критиков, вероятно на профессиональое мнение больше опираются при покупке, а вот на мнение пользователей либо не смотрят совсем либо принимают обратное мнение (в очень редких случаях). Критики обычно оченивают новые товары по определенным критериям и имеют более независимые мнения, а пользователи опираются на свои эмоции при оценивании, например в игре может быть замечательная графика, но какой-то ее этап раздражает пользователя тем, что он не может его пройти и ставит на эмоциях плохую оценку."
   ]
  },
  {
   "cell_type": "markdown",
   "metadata": {},
   "source": [
    "Построим диаграмму рассеяния."
   ]
  },
  {
   "cell_type": "code",
   "execution_count": 65,
   "metadata": {},
   "outputs": [
    {
     "data": {
      "image/png": "[encoded data removed]",
      "text/plain": [
       "<Figure size 432x288 with 1 Axes>"
      ]
     },
     "metadata": {
      "needs_background": "light"
     },
     "output_type": "display_data"
    }
   ],
   "source": [
    "# Диаграмма рассеяния между общими продажами и оценкой критиков\n",
    "\n",
    "data_PS4.plot(x='critic_score', y='total_sales', kind='scatter', alpha=0.5)\n",
    "plt.show()"
   ]
  },
  {
   "cell_type": "markdown",
   "metadata": {},
   "source": [
    "Диаграмма поддтверждает что связь между продажами и оценкой критиков есть и относительно сильная. При самых высоких оценках (от 70) пользователи больше обращают внимания на оценки критиков, тем не менее немало и тех, кто не обращает на них внимания."
   ]
  },
  {
   "cell_type": "code",
   "execution_count": 66,
   "metadata": {},
   "outputs": [
    {
     "data": {
      "image/png": "[encoded data removed]",
      "text/plain": [
       "<Figure size 432x288 with 1 Axes>"
      ]
     },
     "metadata": {
      "needs_background": "light"
     },
     "output_type": "display_data"
    }
   ],
   "source": [
    "# Диаграмма рассеяния между общими продажами и оценкой пользователей\n",
    "\n",
    "data_PS4.plot(x='user_score', y='total_sales', kind='scatter', alpha=0.4)\n",
    "plt.show()"
   ]
  },
  {
   "cell_type": "markdown",
   "metadata": {},
   "source": [
    "Связи между оценкой пользователей и продажами нет, есть отдельные пользователи, которые на это смотрят, но все же почти никто не опирается на мнение других пользователей."
   ]
  },
  {
   "cell_type": "markdown",
   "metadata": {},
   "source": [
    "Мы рассмотрели зависимость продаж игр от отзывов пользователей и критиков на примере платформы PS4 - самой продаваемой на данный момент. Выяснилось, что зависимость между продажами и оценкой критиков есть, особенно при очень хороших отзывах. А вот между продажами и оценкой пользователей даже отрицательная, хотя и стремится к 0. \n",
    "\n",
    "### Соотнесите выводы с продажами игр на других платформах.\n",
    "\n",
    "Можно сделать вывод, что скорее всего та же зависимость будет видна и на других платформах. У каждого пользователя свой вкус на который он опирается больше чем на мнение других пользователей, но все таки более менее доверяет критикам. Это похоже на то как мы выбираем фильмы: несмотря на реакции и оценки, конкретному человеку может фильм очень понравится, вызывая нужные ему эмоции. \n",
    "\n",
    "Построим матрицу корреляции по данным актуального периода."
   ]
  },
  {
   "cell_type": "code",
   "execution_count": 67,
   "metadata": {},
   "outputs": [
    {
     "data": {
      "text/html": [
       "<style  type=\"text/css\" >\n",
       "#T_2d87a_row0_col0,#T_2d87a_row1_col1,#T_2d87a_row2_col2,#T_2d87a_row3_col3,#T_2d87a_row4_col4,#T_2d87a_row5_col5,#T_2d87a_row6_col6,#T_2d87a_row7_col7{\n",
       "            background-color:  #003c30;\n",
       "            color:  #f1f1f1;\n",
       "        }#T_2d87a_row0_col1,#T_2d87a_row0_col2,#T_2d87a_row0_col3,#T_2d87a_row0_col4,#T_2d87a_row0_col5,#T_2d87a_row0_col7,#T_2d87a_row1_col0,#T_2d87a_row2_col6,#T_2d87a_row7_col0{\n",
       "            background-color:  #543005;\n",
       "            color:  #f1f1f1;\n",
       "        }#T_2d87a_row0_col6{\n",
       "            background-color:  #714108;\n",
       "            color:  #f1f1f1;\n",
       "        }#T_2d87a_row1_col2{\n",
       "            background-color:  #52aca3;\n",
       "            color:  #000000;\n",
       "        }#T_2d87a_row1_col3{\n",
       "            background-color:  #dfc37e;\n",
       "            color:  #000000;\n",
       "        }#T_2d87a_row1_col4,#T_2d87a_row4_col1{\n",
       "            background-color:  #167a72;\n",
       "            color:  #f1f1f1;\n",
       "        }#T_2d87a_row1_col5{\n",
       "            background-color:  #d9b76f;\n",
       "            color:  #000000;\n",
       "        }#T_2d87a_row1_col6{\n",
       "            background-color:  #5b3406;\n",
       "            color:  #f1f1f1;\n",
       "        }#T_2d87a_row1_col7,#T_2d87a_row4_col7,#T_2d87a_row7_col1,#T_2d87a_row7_col4{\n",
       "            background-color:  #015b52;\n",
       "            color:  #f1f1f1;\n",
       "        }#T_2d87a_row2_col0{\n",
       "            background-color:  #613806;\n",
       "            color:  #f1f1f1;\n",
       "        }#T_2d87a_row2_col1{\n",
       "            background-color:  #4faaa1;\n",
       "            color:  #000000;\n",
       "        }#T_2d87a_row2_col3{\n",
       "            background-color:  #c99546;\n",
       "            color:  #000000;\n",
       "        }#T_2d87a_row2_col4,#T_2d87a_row4_col2{\n",
       "            background-color:  #01564d;\n",
       "            color:  #f1f1f1;\n",
       "        }#T_2d87a_row2_col5{\n",
       "            background-color:  #c38936;\n",
       "            color:  #000000;\n",
       "        }#T_2d87a_row2_col7,#T_2d87a_row7_col2{\n",
       "            background-color:  #016058;\n",
       "            color:  #f1f1f1;\n",
       "        }#T_2d87a_row3_col0,#T_2d87a_row6_col4{\n",
       "            background-color:  #754308;\n",
       "            color:  #f1f1f1;\n",
       "        }#T_2d87a_row3_col1{\n",
       "            background-color:  #e9d39d;\n",
       "            color:  #000000;\n",
       "        }#T_2d87a_row3_col2{\n",
       "            background-color:  #d2a75c;\n",
       "            color:  #000000;\n",
       "        }#T_2d87a_row3_col4{\n",
       "            background-color:  #cd9d50;\n",
       "            color:  #000000;\n",
       "        }#T_2d87a_row3_col5{\n",
       "            background-color:  #774508;\n",
       "            color:  #f1f1f1;\n",
       "        }#T_2d87a_row3_col6,#T_2d87a_row4_col3{\n",
       "            background-color:  #c48b3a;\n",
       "            color:  #000000;\n",
       "        }#T_2d87a_row3_col7{\n",
       "            background-color:  #f0f4f3;\n",
       "            color:  #000000;\n",
       "        }#T_2d87a_row4_col0{\n",
       "            background-color:  #5f3606;\n",
       "            color:  #f1f1f1;\n",
       "        }#T_2d87a_row4_col5{\n",
       "            background-color:  #ca9849;\n",
       "            color:  #000000;\n",
       "        }#T_2d87a_row4_col6{\n",
       "            background-color:  #583305;\n",
       "            color:  #f1f1f1;\n",
       "        }#T_2d87a_row5_col0{\n",
       "            background-color:  #b17423;\n",
       "            color:  #000000;\n",
       "        }#T_2d87a_row5_col1{\n",
       "            background-color:  #f6e9c7;\n",
       "            color:  #000000;\n",
       "        }#T_2d87a_row5_col2{\n",
       "            background-color:  #e7cf94;\n",
       "            color:  #000000;\n",
       "        }#T_2d87a_row5_col3{\n",
       "            background-color:  #b37625;\n",
       "            color:  #000000;\n",
       "        }#T_2d87a_row5_col4{\n",
       "            background-color:  #ebd6a2;\n",
       "            color:  #000000;\n",
       "        }#T_2d87a_row5_col6{\n",
       "            background-color:  #e9f2f1;\n",
       "            color:  #000000;\n",
       "        }#T_2d87a_row5_col7{\n",
       "            background-color:  #f6e9c5;\n",
       "            color:  #000000;\n",
       "        }#T_2d87a_row6_col0{\n",
       "            background-color:  #975b12;\n",
       "            color:  #f1f1f1;\n",
       "        }#T_2d87a_row6_col1{\n",
       "            background-color:  #824b09;\n",
       "            color:  #f1f1f1;\n",
       "        }#T_2d87a_row6_col2{\n",
       "            background-color:  #6e4007;\n",
       "            color:  #f1f1f1;\n",
       "        }#T_2d87a_row6_col3{\n",
       "            background-color:  #c89343;\n",
       "            color:  #000000;\n",
       "        }#T_2d87a_row6_col5{\n",
       "            background-color:  #f5f1e4;\n",
       "            color:  #000000;\n",
       "        }#T_2d87a_row6_col7{\n",
       "            background-color:  #894f0a;\n",
       "            color:  #f1f1f1;\n",
       "        }#T_2d87a_row7_col3{\n",
       "            background-color:  #f5f3ec;\n",
       "            color:  #000000;\n",
       "        }#T_2d87a_row7_col5{\n",
       "            background-color:  #d8b46c;\n",
       "            color:  #000000;\n",
       "        }#T_2d87a_row7_col6{\n",
       "            background-color:  #633906;\n",
       "            color:  #f1f1f1;\n",
       "        }</style><table id=\"T_2d87a_\" ><thead>    <tr>        <th class=\"blank level0\" ></th>        <th class=\"col_heading level0 col0\" >year_of_release</th>        <th class=\"col_heading level0 col1\" >na_sales</th>        <th class=\"col_heading level0 col2\" >eu_sales</th>        <th class=\"col_heading level0 col3\" >jp_sales</th>        <th class=\"col_heading level0 col4\" >other_sales</th>        <th class=\"col_heading level0 col5\" >critic_score</th>        <th class=\"col_heading level0 col6\" >user_score</th>        <th class=\"col_heading level0 col7\" >total_sales</th>    </tr></thead><tbody>\n",
       "                <tr>\n",
       "                        <th id=\"T_2d87a_level0_row0\" class=\"row_heading level0 row0\" >year_of_release</th>\n",
       "                        <td id=\"T_2d87a_row0_col0\" class=\"data row0 col0\" >1.000000</td>\n",
       "                        <td id=\"T_2d87a_row0_col1\" class=\"data row0 col1\" >-0.122977</td>\n",
       "                        <td id=\"T_2d87a_row0_col2\" class=\"data row0 col2\" >-0.093408</td>\n",
       "                        <td id=\"T_2d87a_row0_col3\" class=\"data row0 col3\" >-0.056134</td>\n",
       "                        <td id=\"T_2d87a_row0_col4\" class=\"data row0 col4\" >-0.096834</td>\n",
       "                        <td id=\"T_2d87a_row0_col5\" class=\"data row0 col5\" >0.071818</td>\n",
       "                        <td id=\"T_2d87a_row0_col6\" class=\"data row0 col6\" >0.013853</td>\n",
       "                        <td id=\"T_2d87a_row0_col7\" class=\"data row0 col7\" >-0.119305</td>\n",
       "            </tr>\n",
       "            <tr>\n",
       "                        <th id=\"T_2d87a_level0_row1\" class=\"row_heading level0 row1\" >na_sales</th>\n",
       "                        <td id=\"T_2d87a_row1_col0\" class=\"data row1 col0\" >-0.122977</td>\n",
       "                        <td id=\"T_2d87a_row1_col1\" class=\"data row1 col1\" >1.000000</td>\n",
       "                        <td id=\"T_2d87a_row1_col2\" class=\"data row1 col2\" >0.735920</td>\n",
       "                        <td id=\"T_2d87a_row1_col3\" class=\"data row1 col3\" >0.264362</td>\n",
       "                        <td id=\"T_2d87a_row1_col4\" class=\"data row1 col4\" >0.841484</td>\n",
       "                        <td id=\"T_2d87a_row1_col5\" class=\"data row1 col5\" >0.333306</td>\n",
       "                        <td id=\"T_2d87a_row1_col6\" class=\"data row1 col6\" >-0.028258</td>\n",
       "                        <td id=\"T_2d87a_row1_col7\" class=\"data row1 col7\" >0.914284</td>\n",
       "            </tr>\n",
       "            <tr>\n",
       "                        <th id=\"T_2d87a_level0_row2\" class=\"row_heading level0 row2\" >eu_sales</th>\n",
       "                        <td id=\"T_2d87a_row2_col0\" class=\"data row2 col0\" >-0.093408</td>\n",
       "                        <td id=\"T_2d87a_row2_col1\" class=\"data row2 col1\" >0.735920</td>\n",
       "                        <td id=\"T_2d87a_row2_col2\" class=\"data row2 col2\" >1.000000</td>\n",
       "                        <td id=\"T_2d87a_row2_col3\" class=\"data row2 col3\" >0.188675</td>\n",
       "                        <td id=\"T_2d87a_row2_col4\" class=\"data row2 col4\" >0.930140</td>\n",
       "                        <td id=\"T_2d87a_row2_col5\" class=\"data row2 col5\" >0.270826</td>\n",
       "                        <td id=\"T_2d87a_row2_col6\" class=\"data row2 col6\" >-0.040985</td>\n",
       "                        <td id=\"T_2d87a_row2_col7\" class=\"data row2 col7\" >0.902889</td>\n",
       "            </tr>\n",
       "            <tr>\n",
       "                        <th id=\"T_2d87a_level0_row3\" class=\"row_heading level0 row3\" >jp_sales</th>\n",
       "                        <td id=\"T_2d87a_row3_col0\" class=\"data row3 col0\" >-0.056134</td>\n",
       "                        <td id=\"T_2d87a_row3_col1\" class=\"data row3 col1\" >0.264362</td>\n",
       "                        <td id=\"T_2d87a_row3_col2\" class=\"data row3 col2\" >0.188675</td>\n",
       "                        <td id=\"T_2d87a_row3_col3\" class=\"data row3 col3\" >1.000000</td>\n",
       "                        <td id=\"T_2d87a_row3_col4\" class=\"data row3 col4\" >0.170780</td>\n",
       "                        <td id=\"T_2d87a_row3_col5\" class=\"data row3 col5\" >0.130316</td>\n",
       "                        <td id=\"T_2d87a_row3_col6\" class=\"data row3 col6\" >0.184141</td>\n",
       "                        <td id=\"T_2d87a_row3_col7\" class=\"data row3 col7\" >0.451444</td>\n",
       "            </tr>\n",
       "            <tr>\n",
       "                        <th id=\"T_2d87a_level0_row4\" class=\"row_heading level0 row4\" >other_sales</th>\n",
       "                        <td id=\"T_2d87a_row4_col0\" class=\"data row4 col0\" >-0.096834</td>\n",
       "                        <td id=\"T_2d87a_row4_col1\" class=\"data row4 col1\" >0.841484</td>\n",
       "                        <td id=\"T_2d87a_row4_col2\" class=\"data row4 col2\" >0.930140</td>\n",
       "                        <td id=\"T_2d87a_row4_col3\" class=\"data row4 col3\" >0.170780</td>\n",
       "                        <td id=\"T_2d87a_row4_col4\" class=\"data row4 col4\" >1.000000</td>\n",
       "                        <td id=\"T_2d87a_row4_col5\" class=\"data row4 col5\" >0.289985</td>\n",
       "                        <td id=\"T_2d87a_row4_col6\" class=\"data row4 col6\" >-0.030056</td>\n",
       "                        <td id=\"T_2d87a_row4_col7\" class=\"data row4 col7\" >0.914454</td>\n",
       "            </tr>\n",
       "            <tr>\n",
       "                        <th id=\"T_2d87a_level0_row5\" class=\"row_heading level0 row5\" >critic_score</th>\n",
       "                        <td id=\"T_2d87a_row5_col0\" class=\"data row5 col0\" >0.071818</td>\n",
       "                        <td id=\"T_2d87a_row5_col1\" class=\"data row5 col1\" >0.333306</td>\n",
       "                        <td id=\"T_2d87a_row5_col2\" class=\"data row5 col2\" >0.270826</td>\n",
       "                        <td id=\"T_2d87a_row5_col3\" class=\"data row5 col3\" >0.130316</td>\n",
       "                        <td id=\"T_2d87a_row5_col4\" class=\"data row5 col4\" >0.289985</td>\n",
       "                        <td id=\"T_2d87a_row5_col5\" class=\"data row5 col5\" >1.000000</td>\n",
       "                        <td id=\"T_2d87a_row5_col6\" class=\"data row5 col6\" >0.504460</td>\n",
       "                        <td id=\"T_2d87a_row5_col7\" class=\"data row5 col7\" >0.331425</td>\n",
       "            </tr>\n",
       "            <tr>\n",
       "                        <th id=\"T_2d87a_level0_row6\" class=\"row_heading level0 row6\" >user_score</th>\n",
       "                        <td id=\"T_2d87a_row6_col0\" class=\"data row6 col0\" >0.013853</td>\n",
       "                        <td id=\"T_2d87a_row6_col1\" class=\"data row6 col1\" >-0.028258</td>\n",
       "                        <td id=\"T_2d87a_row6_col2\" class=\"data row6 col2\" >-0.040985</td>\n",
       "                        <td id=\"T_2d87a_row6_col3\" class=\"data row6 col3\" >0.184141</td>\n",
       "                        <td id=\"T_2d87a_row6_col4\" class=\"data row6 col4\" >-0.030056</td>\n",
       "                        <td id=\"T_2d87a_row6_col5\" class=\"data row6 col5\" >0.504460</td>\n",
       "                        <td id=\"T_2d87a_row6_col6\" class=\"data row6 col6\" >1.000000</td>\n",
       "                        <td id=\"T_2d87a_row6_col7\" class=\"data row6 col7\" >-0.010211</td>\n",
       "            </tr>\n",
       "            <tr>\n",
       "                        <th id=\"T_2d87a_level0_row7\" class=\"row_heading level0 row7\" >total_sales</th>\n",
       "                        <td id=\"T_2d87a_row7_col0\" class=\"data row7 col0\" >-0.119305</td>\n",
       "                        <td id=\"T_2d87a_row7_col1\" class=\"data row7 col1\" >0.914284</td>\n",
       "                        <td id=\"T_2d87a_row7_col2\" class=\"data row7 col2\" >0.902889</td>\n",
       "                        <td id=\"T_2d87a_row7_col3\" class=\"data row7 col3\" >0.451444</td>\n",
       "                        <td id=\"T_2d87a_row7_col4\" class=\"data row7 col4\" >0.914454</td>\n",
       "                        <td id=\"T_2d87a_row7_col5\" class=\"data row7 col5\" >0.331425</td>\n",
       "                        <td id=\"T_2d87a_row7_col6\" class=\"data row7 col6\" >-0.010211</td>\n",
       "                        <td id=\"T_2d87a_row7_col7\" class=\"data row7 col7\" >1.000000</td>\n",
       "            </tr>\n",
       "    </tbody></table>"
      ],
      "text/plain": [
       "<pandas.io.formats.style.Styler at 0x7f628a9fc880>"
      ]
     },
     "execution_count": 67,
     "metadata": {},
     "output_type": "execute_result"
    }
   ],
   "source": [
    "data_21.corr().style.background_gradient(cmap='BrBG')"
   ]
  },
  {
   "cell_type": "markdown",
   "metadata": {},
   "source": [
    "Обратим внимание на пересечение сторок `critic_score`, `user_score` и столбца `total_sales`. Корреляция между общими продажами и оценкой критиков также выражена слабо, а между общими продажами и оценкой пользователй ее нет, как и при исследовании корреляций для одной платформы."
   ]
  },
  {
   "cell_type": "markdown",
   "metadata": {},
   "source": [
    "### Посмотрите на общее распределение игр по жанрам. Что можно сказать о самых прибыльных жанрах? Выделяются ли жанры с высокими и низкими продажами?"
   ]
  },
  {
   "cell_type": "markdown",
   "metadata": {},
   "source": [
    "Рассмотрим жанры игр, какие жанры наиболее частые, а какие не так популярны."
   ]
  },
  {
   "cell_type": "code",
   "execution_count": 68,
   "metadata": {},
   "outputs": [
    {
     "data": {
      "text/plain": [
       "Action          619\n",
       "Role-Playing    221\n",
       "Adventure       185\n",
       "Sports          161\n",
       "Shooter         128\n",
       "Misc            113\n",
       "Racing           69\n",
       "Fighting         60\n",
       "Simulation       44\n",
       "Platform         38\n",
       "Strategy         37\n",
       "Puzzle           14\n",
       "Name: genre, dtype: int64"
      ]
     },
     "execution_count": 68,
     "metadata": {},
     "output_type": "execute_result"
    }
   ],
   "source": [
    "data_21['genre'].value_counts()"
   ]
  },
  {
   "cell_type": "markdown",
   "metadata": {},
   "source": [
    "Также построим сводную таблицу `data_genre` по жанрам и медианой общих продаж по каждому и отсортируем ее."
   ]
  },
  {
   "cell_type": "code",
   "execution_count": 69,
   "metadata": {},
   "outputs": [],
   "source": [
    "data_genre = data_21.pivot_table(index='genre', values='total_sales', aggfunc='median'\n",
    "                   ).sort_values(by='total_sales', ascending=False)"
   ]
  },
  {
   "cell_type": "code",
   "execution_count": 70,
   "metadata": {},
   "outputs": [
    {
     "data": {
      "text/html": [
       "<div>\n",
       "<style scoped>\n",
       "    .dataframe tbody tr th:only-of-type {\n",
       "        vertical-align: middle;\n",
       "    }\n",
       "\n",
       "    .dataframe tbody tr th {\n",
       "        vertical-align: top;\n",
       "    }\n",
       "\n",
       "    .dataframe thead th {\n",
       "        text-align: right;\n",
       "    }\n",
       "</style>\n",
       "<table border=\"1\" class=\"dataframe\">\n",
       "  <thead>\n",
       "    <tr style=\"text-align: right;\">\n",
       "      <th></th>\n",
       "      <th>total_sales</th>\n",
       "    </tr>\n",
       "    <tr>\n",
       "      <th>genre</th>\n",
       "      <th></th>\n",
       "    </tr>\n",
       "  </thead>\n",
       "  <tbody>\n",
       "    <tr>\n",
       "      <th>Shooter</th>\n",
       "      <td>0.475</td>\n",
       "    </tr>\n",
       "    <tr>\n",
       "      <th>Sports</th>\n",
       "      <td>0.170</td>\n",
       "    </tr>\n",
       "    <tr>\n",
       "      <th>Fighting</th>\n",
       "      <td>0.115</td>\n",
       "    </tr>\n",
       "    <tr>\n",
       "      <th>Platform</th>\n",
       "      <td>0.115</td>\n",
       "    </tr>\n",
       "    <tr>\n",
       "      <th>Role-Playing</th>\n",
       "      <td>0.100</td>\n",
       "    </tr>\n",
       "    <tr>\n",
       "      <th>Simulation</th>\n",
       "      <td>0.095</td>\n",
       "    </tr>\n",
       "    <tr>\n",
       "      <th>Misc</th>\n",
       "      <td>0.090</td>\n",
       "    </tr>\n",
       "    <tr>\n",
       "      <th>Action</th>\n",
       "      <td>0.080</td>\n",
       "    </tr>\n",
       "    <tr>\n",
       "      <th>Racing</th>\n",
       "      <td>0.080</td>\n",
       "    </tr>\n",
       "    <tr>\n",
       "      <th>Strategy</th>\n",
       "      <td>0.060</td>\n",
       "    </tr>\n",
       "    <tr>\n",
       "      <th>Puzzle</th>\n",
       "      <td>0.045</td>\n",
       "    </tr>\n",
       "    <tr>\n",
       "      <th>Adventure</th>\n",
       "      <td>0.030</td>\n",
       "    </tr>\n",
       "  </tbody>\n",
       "</table>\n",
       "</div>"
      ],
      "text/plain": [
       "              total_sales\n",
       "genre                    \n",
       "Shooter             0.475\n",
       "Sports              0.170\n",
       "Fighting            0.115\n",
       "Platform            0.115\n",
       "Role-Playing        0.100\n",
       "Simulation          0.095\n",
       "Misc                0.090\n",
       "Action              0.080\n",
       "Racing              0.080\n",
       "Strategy            0.060\n",
       "Puzzle              0.045\n",
       "Adventure           0.030"
      ]
     },
     "execution_count": 70,
     "metadata": {},
     "output_type": "execute_result"
    }
   ],
   "source": [
    "data_genre"
   ]
  },
  {
   "cell_type": "markdown",
   "metadata": {},
   "source": [
    "Для наглядности построим столбчатую диаграмму."
   ]
  },
  {
   "cell_type": "code",
   "execution_count": 71,
   "metadata": {},
   "outputs": [
    {
     "data": {
      "image/png": "[encoded data removed]",
      "text/plain": [
       "<Figure size 432x288 with 1 Axes>"
      ]
     },
     "metadata": {
      "needs_background": "light"
     },
     "output_type": "display_data"
    }
   ],
   "source": [
    "data_genre.plot(kind='bar', title='Общие продажи каждого жанра', xlabel='Жанр', ylabel='Общие продажи')\n",
    "plt.show()"
   ]
  },
  {
   "cell_type": "markdown",
   "metadata": {},
   "source": [
    "Наиболее популярные жанры это Shooter. Самые популярные игры это динамичные, должно быть много различных действий, функция и интересная графика. На втором месте стоит Sports, чья медиана по продажам почти в три раза меньше чем у Shooter. А вот Puzzle, Strategy и Adventure наименее популярны, вероятно они довольно однообразные и скучные."
   ]
  },
  {
   "cell_type": "markdown",
   "metadata": {},
   "source": [
    "## Шаг 4. Составьте портрет пользователя каждого региона"
   ]
  },
  {
   "cell_type": "markdown",
   "metadata": {},
   "source": [
    "Чтобы составить портрет пользователя каждого региона (NA, EU, JP) найдем следующие значения:\n",
    "- топ-5 платформ;\n",
    "- топ-5 жанров;\n",
    "- проверим влияет ли рейтинг ESRB на продажи в каждом регионе."
   ]
  },
  {
   "cell_type": "markdown",
   "metadata": {},
   "source": [
    "### Самые популярные платформы (топ-5). Опишите различия в долях продаж."
   ]
  },
  {
   "cell_type": "markdown",
   "metadata": {},
   "source": [
    "Для каждого из трех регионов составим сводную таблицу с информацией о локальных продажах каждой из топ-5 платформ, общими продажами платформ и долей локальных продаж от общих."
   ]
  },
  {
   "cell_type": "code",
   "execution_count": 72,
   "metadata": {},
   "outputs": [],
   "source": [
    "# Создаем отсортированную сводную таблицу dt_21_na с топ-5 платформами по Северной Америке\n",
    "\n",
    "dt_21_na = data_21.pivot_table(index='platform', \n",
    "                               values=['na_sales', 'total_sales'], \n",
    "                               aggfunc='sum'\n",
    "                              ).sort_values(by='na_sales', ascending=False).head().reset_index()\n",
    "\n",
    "# Добавляем столбец с долями\n",
    "\n",
    "dt_21_na['share'] = dt_21_na['na_sales'] / dt_21_na['total_sales']"
   ]
  },
  {
   "cell_type": "code",
   "execution_count": 73,
   "metadata": {},
   "outputs": [
    {
     "data": {
      "text/html": [
       "<div>\n",
       "<style scoped>\n",
       "    .dataframe tbody tr th:only-of-type {\n",
       "        vertical-align: middle;\n",
       "    }\n",
       "\n",
       "    .dataframe tbody tr th {\n",
       "        vertical-align: top;\n",
       "    }\n",
       "\n",
       "    .dataframe thead th {\n",
       "        text-align: right;\n",
       "    }\n",
       "</style>\n",
       "<table border=\"1\" class=\"dataframe\">\n",
       "  <thead>\n",
       "    <tr style=\"text-align: right;\">\n",
       "      <th></th>\n",
       "      <th>platform</th>\n",
       "      <th>na_sales</th>\n",
       "      <th>total_sales</th>\n",
       "      <th>share</th>\n",
       "    </tr>\n",
       "  </thead>\n",
       "  <tbody>\n",
       "    <tr>\n",
       "      <th>0</th>\n",
       "      <td>PS4</td>\n",
       "      <td>98.61</td>\n",
       "      <td>243.67</td>\n",
       "      <td>0.404687</td>\n",
       "    </tr>\n",
       "    <tr>\n",
       "      <th>1</th>\n",
       "      <td>XOne</td>\n",
       "      <td>81.27</td>\n",
       "      <td>127.84</td>\n",
       "      <td>0.635717</td>\n",
       "    </tr>\n",
       "    <tr>\n",
       "      <th>2</th>\n",
       "      <td>X360</td>\n",
       "      <td>28.30</td>\n",
       "      <td>43.87</td>\n",
       "      <td>0.645088</td>\n",
       "    </tr>\n",
       "    <tr>\n",
       "      <th>3</th>\n",
       "      <td>3DS</td>\n",
       "      <td>22.64</td>\n",
       "      <td>83.00</td>\n",
       "      <td>0.272771</td>\n",
       "    </tr>\n",
       "    <tr>\n",
       "      <th>4</th>\n",
       "      <td>PS3</td>\n",
       "      <td>22.05</td>\n",
       "      <td>58.81</td>\n",
       "      <td>0.374936</td>\n",
       "    </tr>\n",
       "  </tbody>\n",
       "</table>\n",
       "</div>"
      ],
      "text/plain": [
       "  platform  na_sales  total_sales     share\n",
       "0      PS4     98.61       243.67  0.404687\n",
       "1     XOne     81.27       127.84  0.635717\n",
       "2     X360     28.30        43.87  0.645088\n",
       "3      3DS     22.64        83.00  0.272771\n",
       "4      PS3     22.05        58.81  0.374936"
      ]
     },
     "execution_count": 73,
     "metadata": {},
     "output_type": "execute_result"
    }
   ],
   "source": [
    "# Вывод сводной таблицы\n",
    "\n",
    "dt_21_na"
   ]
  },
  {
   "cell_type": "markdown",
   "metadata": {},
   "source": [
    "Таблица отсортирована по столбцу `na_sales`, самая популярная платформа для покупки игр в Северной Америке это PS4. Посмотрим на доли продаж в регионе относительно общих продаж. Для этого построим столбчатую диаграмму."
   ]
  },
  {
   "cell_type": "code",
   "execution_count": 74,
   "metadata": {},
   "outputs": [
    {
     "data": {
      "image/png": "[encoded data removed]",
      "text/plain": [
       "<Figure size 360x504 with 1 Axes>"
      ]
     },
     "metadata": {
      "needs_background": "light"
     },
     "output_type": "display_data"
    }
   ],
   "source": [
    "# Строим столбчатую диаграмму с информацией полученной в сводной таблице\n",
    "\n",
    "plt.figure(figsize=(5, 7))\n",
    "\n",
    "ax = sns.barplot(data=dt_21_na, x='platform', y='share', hue='platform')\n",
    "ax.set_title('Распределение долей продаж игр каждой платформы в Северной Америке')\n",
    "ax.set(xlabel='Платформа', ylabel='Доля продаж');\n",
    "\n",
    "plt.show()"
   ]
  },
  {
   "cell_type": "markdown",
   "metadata": {},
   "source": [
    "Х360 лидирует по проценту от всех продаваемых в мире игр на этой платформе - почти 65% продаж приходится на Северную Америку. На втором месте по продажам в регионе и по проценту продаж от общего по миру стоит XOne - более 63%, на третьем, четвертом и пятом стоят PS4, PS3 и 3DS соответственно."
   ]
  },
  {
   "cell_type": "code",
   "execution_count": 75,
   "metadata": {},
   "outputs": [],
   "source": [
    "# Создаем отсортированную сводную таблицу dt_21_eu с топ-5 платформами по Европе\n",
    "\n",
    "dt_21_eu = data_21.pivot_table(index='platform', \n",
    "                               values=['eu_sales', 'total_sales'], \n",
    "                               aggfunc='sum'\n",
    "                              ).sort_values(by='eu_sales', ascending=False).head().reset_index()\n",
    "\n",
    "# Добавляем столбец с долями\n",
    "\n",
    "dt_21_eu['share'] = dt_21_eu['eu_sales'] / dt_21_eu['total_sales']"
   ]
  },
  {
   "cell_type": "code",
   "execution_count": 76,
   "metadata": {},
   "outputs": [
    {
     "data": {
      "text/html": [
       "<div>\n",
       "<style scoped>\n",
       "    .dataframe tbody tr th:only-of-type {\n",
       "        vertical-align: middle;\n",
       "    }\n",
       "\n",
       "    .dataframe tbody tr th {\n",
       "        vertical-align: top;\n",
       "    }\n",
       "\n",
       "    .dataframe thead th {\n",
       "        text-align: right;\n",
       "    }\n",
       "</style>\n",
       "<table border=\"1\" class=\"dataframe\">\n",
       "  <thead>\n",
       "    <tr style=\"text-align: right;\">\n",
       "      <th></th>\n",
       "      <th>platform</th>\n",
       "      <th>eu_sales</th>\n",
       "      <th>total_sales</th>\n",
       "      <th>share</th>\n",
       "    </tr>\n",
       "  </thead>\n",
       "  <tbody>\n",
       "    <tr>\n",
       "      <th>0</th>\n",
       "      <td>PS4</td>\n",
       "      <td>130.04</td>\n",
       "      <td>243.67</td>\n",
       "      <td>0.533673</td>\n",
       "    </tr>\n",
       "    <tr>\n",
       "      <th>1</th>\n",
       "      <td>XOne</td>\n",
       "      <td>46.25</td>\n",
       "      <td>127.84</td>\n",
       "      <td>0.361780</td>\n",
       "    </tr>\n",
       "    <tr>\n",
       "      <th>2</th>\n",
       "      <td>PS3</td>\n",
       "      <td>25.54</td>\n",
       "      <td>58.81</td>\n",
       "      <td>0.434280</td>\n",
       "    </tr>\n",
       "    <tr>\n",
       "      <th>3</th>\n",
       "      <td>PC</td>\n",
       "      <td>17.97</td>\n",
       "      <td>25.20</td>\n",
       "      <td>0.713095</td>\n",
       "    </tr>\n",
       "    <tr>\n",
       "      <th>4</th>\n",
       "      <td>3DS</td>\n",
       "      <td>16.12</td>\n",
       "      <td>83.00</td>\n",
       "      <td>0.194217</td>\n",
       "    </tr>\n",
       "  </tbody>\n",
       "</table>\n",
       "</div>"
      ],
      "text/plain": [
       "  platform  eu_sales  total_sales     share\n",
       "0      PS4    130.04       243.67  0.533673\n",
       "1     XOne     46.25       127.84  0.361780\n",
       "2      PS3     25.54        58.81  0.434280\n",
       "3       PC     17.97        25.20  0.713095\n",
       "4      3DS     16.12        83.00  0.194217"
      ]
     },
     "execution_count": 76,
     "metadata": {},
     "output_type": "execute_result"
    }
   ],
   "source": [
    "# Вывод сводной таблицы\n",
    "\n",
    "dt_21_eu"
   ]
  },
  {
   "cell_type": "markdown",
   "metadata": {},
   "source": [
    "В Европе также как и в Северной Америке, по продажам лидирует PS4, и XOne занимает второе место. Также пояаляется платформа PC, а Х360 в топ-5 по этому региону не входит."
   ]
  },
  {
   "cell_type": "code",
   "execution_count": 77,
   "metadata": {},
   "outputs": [
    {
     "data": {
      "image/png": "[encoded data removed]",
      "text/plain": [
       "<Figure size 360x504 with 1 Axes>"
      ]
     },
     "metadata": {
      "needs_background": "light"
     },
     "output_type": "display_data"
    }
   ],
   "source": [
    "# Строим столбчатую диаграмму с информацией полученной в сводной таблице\n",
    "\n",
    "plt.figure(figsize=(5, 7))\n",
    "\n",
    "ax = sns.barplot(data=dt_21_eu, x='platform', y='share', hue='platform')\n",
    "ax.set_title('Распределение долей продаж игр каждой платформы в Европе')\n",
    "ax.set(xlabel='Платформа', ylabel='Доля продаж');\n",
    "\n",
    "plt.show()"
   ]
  },
  {
   "cell_type": "markdown",
   "metadata": {},
   "source": [
    "Продажи игр на платформе PС в Европе занимают более 70%. PS4 занимает больший процент чем в Америке от общих продаж по миру - более 50%. Меньше всего процентов и по продажам в регионе и по доли продаваемых игр от общих продаж занимает платформа 3DS - менее 20%."
   ]
  },
  {
   "cell_type": "code",
   "execution_count": 78,
   "metadata": {},
   "outputs": [],
   "source": [
    "# Создаем отсортированную сводную таблицу dt_21_jp с топ-5 платформами по Японии\n",
    "\n",
    "dt_21_jp = data_21.pivot_table(index='platform', \n",
    "                               values=['jp_sales', 'total_sales'], \n",
    "                               aggfunc='sum'\n",
    "                              ).sort_values(by='jp_sales', ascending=False).head().reset_index()\n",
    "\n",
    "# Добавляем столбец с долями\n",
    "\n",
    "dt_21_jp['share'] = dt_21_jp['jp_sales'] / dt_21_jp['total_sales']"
   ]
  },
  {
   "cell_type": "code",
   "execution_count": 79,
   "metadata": {},
   "outputs": [
    {
     "data": {
      "text/html": [
       "<div>\n",
       "<style scoped>\n",
       "    .dataframe tbody tr th:only-of-type {\n",
       "        vertical-align: middle;\n",
       "    }\n",
       "\n",
       "    .dataframe tbody tr th {\n",
       "        vertical-align: top;\n",
       "    }\n",
       "\n",
       "    .dataframe thead th {\n",
       "        text-align: right;\n",
       "    }\n",
       "</style>\n",
       "<table border=\"1\" class=\"dataframe\">\n",
       "  <thead>\n",
       "    <tr style=\"text-align: right;\">\n",
       "      <th></th>\n",
       "      <th>platform</th>\n",
       "      <th>jp_sales</th>\n",
       "      <th>total_sales</th>\n",
       "      <th>share</th>\n",
       "    </tr>\n",
       "  </thead>\n",
       "  <tbody>\n",
       "    <tr>\n",
       "      <th>0</th>\n",
       "      <td>3DS</td>\n",
       "      <td>44.24</td>\n",
       "      <td>83.00</td>\n",
       "      <td>0.533012</td>\n",
       "    </tr>\n",
       "    <tr>\n",
       "      <th>1</th>\n",
       "      <td>PS4</td>\n",
       "      <td>15.02</td>\n",
       "      <td>243.67</td>\n",
       "      <td>0.061641</td>\n",
       "    </tr>\n",
       "    <tr>\n",
       "      <th>2</th>\n",
       "      <td>PSV</td>\n",
       "      <td>14.54</td>\n",
       "      <td>20.59</td>\n",
       "      <td>0.706168</td>\n",
       "    </tr>\n",
       "    <tr>\n",
       "      <th>3</th>\n",
       "      <td>PS3</td>\n",
       "      <td>11.22</td>\n",
       "      <td>58.81</td>\n",
       "      <td>0.190784</td>\n",
       "    </tr>\n",
       "    <tr>\n",
       "      <th>4</th>\n",
       "      <td>WiiU</td>\n",
       "      <td>7.31</td>\n",
       "      <td>39.82</td>\n",
       "      <td>0.183576</td>\n",
       "    </tr>\n",
       "  </tbody>\n",
       "</table>\n",
       "</div>"
      ],
      "text/plain": [
       "  platform  jp_sales  total_sales     share\n",
       "0      3DS     44.24        83.00  0.533012\n",
       "1      PS4     15.02       243.67  0.061641\n",
       "2      PSV     14.54        20.59  0.706168\n",
       "3      PS3     11.22        58.81  0.190784\n",
       "4     WiiU      7.31        39.82  0.183576"
      ]
     },
     "execution_count": 79,
     "metadata": {},
     "output_type": "execute_result"
    }
   ],
   "source": [
    "# Вывод сводной таблицы\n",
    "\n",
    "dt_21_jp"
   ]
  },
  {
   "cell_type": "markdown",
   "metadata": {},
   "source": [
    "Данные сводной таблицы по Японии заметно отличаются от Европы и Северной Америки. Наиболее популярная платформа тут - это 3DS, когда в остальных регионах она стоит на 4 и 5 месте в топ-5. Также присутсвуют новые платформы - PSV, WiiU, и нет таких платформ как XOne, X360 и PC, которые есть в рассмотреных выше регионах. Можно предположить, что из-за отдаленности от Америки и Европы, а также внутренней, сильно отличающейся, культуры страны, пользователи заинтересованы немного в другой графике, темах компьютерных игр, а также имеют влияние соседних стран - Китая и Кореи."
   ]
  },
  {
   "cell_type": "code",
   "execution_count": 80,
   "metadata": {},
   "outputs": [
    {
     "data": {
      "image/png": "[encoded data removed]",
      "text/plain": [
       "<Figure size 360x504 with 1 Axes>"
      ]
     },
     "metadata": {
      "needs_background": "light"
     },
     "output_type": "display_data"
    }
   ],
   "source": [
    "# Строим столбчатую диаграмму с информацией полученной в сводной таблице\n",
    "\n",
    "plt.figure(figsize=(5, 7))\n",
    "\n",
    "ax = sns.barplot(data=dt_21_jp, x='platform', y='share', hue='platform')\n",
    "ax.set_title('Распределение долей продаж игр каждой платформы в Японии')\n",
    "ax.set(xlabel='Платформа', ylabel='Доля продаж');\n",
    "\n",
    "\n",
    "plt.show()"
   ]
  },
  {
   "cell_type": "markdown",
   "metadata": {},
   "source": [
    "Скорее всего, так как PSV входит в топ-5 платформ только в Японии, именно в этом региона продают более 70% всех игр выпущенных на ней. Также большой процент от общих продаж имеет 3DS - 53%. Остальные не превышают 20% продаж, а PS4, наиболее популярная в Европе и Америке имеет лишь 6% от общих продаж."
   ]
  },
  {
   "cell_type": "markdown",
   "metadata": {},
   "source": [
    "### Самые популярные жанры (топ-5). Поясните разницу."
   ]
  },
  {
   "cell_type": "markdown",
   "metadata": {},
   "source": [
    "Теперь посмотрим самые популярные топ-5 жанров по каждому региону. Построим три столбчатые диаграммы с информацией о жанре и продажах для каждого из регионов."
   ]
  },
  {
   "cell_type": "code",
   "execution_count": 81,
   "metadata": {},
   "outputs": [
    {
     "data": {
      "image/png": "[encoded data removed]",
      "text/plain": [
       "<Figure size 432x288 with 1 Axes>"
      ]
     },
     "metadata": {
      "needs_background": "light"
     },
     "output_type": "display_data"
    }
   ],
   "source": [
    "# Создаем столбчатую диаграмму по отсортированной сводной таблице (data_21.pivot_table())\n",
    "# с топ-5 жфнрами по Северной Америке\n",
    "\n",
    "sns.barplot(data = data_21.pivot_table(index='genre', \n",
    "                    values='na_sales', \n",
    "                    aggfunc='sum'\n",
    "                   ).sort_values(by='na_sales', ascending=False).head().reset_index(), x='genre', y='na_sales')\n",
    "plt.show()"
   ]
  },
  {
   "cell_type": "code",
   "execution_count": 82,
   "metadata": {},
   "outputs": [
    {
     "data": {
      "image/png": "[encoded data removed]",
      "text/plain": [
       "<Figure size 432x288 with 1 Axes>"
      ]
     },
     "metadata": {
      "needs_background": "light"
     },
     "output_type": "display_data"
    }
   ],
   "source": [
    "# Создаем столбчатую диаграмму по отсортированной сводной таблице (data_21.pivot_table())\n",
    "# с топ-5 жфнрами по Европе\n",
    "\n",
    "sns.barplot(data = data_21.pivot_table(index='genre', \n",
    "                    values='eu_sales', \n",
    "                    aggfunc='sum'\n",
    "                   ).sort_values(by='eu_sales', ascending=False).head().reset_index(), x='genre', y='eu_sales')\n",
    "plt.show()"
   ]
  },
  {
   "cell_type": "code",
   "execution_count": 83,
   "metadata": {},
   "outputs": [
    {
     "data": {
      "image/png": "[encoded data removed]",
      "text/plain": [
       "<Figure size 432x288 with 1 Axes>"
      ]
     },
     "metadata": {
      "needs_background": "light"
     },
     "output_type": "display_data"
    }
   ],
   "source": [
    "# Создаем столбчатую диаграмму по отсортированной сводной таблице (data_21.pivot_table())\n",
    "# с топ-5 жфнрами по Японии\n",
    "\n",
    "sns.barplot(data = data_21.pivot_table(index='genre', \n",
    "                    values='jp_sales', \n",
    "                    aggfunc='sum'\n",
    "                   ).sort_values(by='jp_sales', ascending=False).head().reset_index(), x='genre', y='jp_sales')\n",
    "plt.show()"
   ]
  },
  {
   "cell_type": "markdown",
   "metadata": {},
   "source": [
    "В каждом регионе набор и популярность жанров различается. В Америке самый продаваемый жанр это Shooter, тогда как в Японии этот жанр стоит на 5 месте, а в Европе стоит на втором месте. Первое место там занимает жанр Action, в Амрике и в Японии он занимает наоборот второе место. Самый популярны жанр в Японии - Role-Playing, также присутсвует жанр Fighting, которого нет ни в америке, ни в Европе. Топ-5 жанров в Америке и Европе относительно похажи, различаются продажами одинаковых жанров и самым последним - Misc (Америка)/Racing (Европа). Набор топ-5 Японии сильнее отличается от двух других регионов, скорее всего из-за сильных различий культур, а также там более отрицательно относятся к играм со стрельбой в целях сохранения психического здоровья."
   ]
  },
  {
   "cell_type": "markdown",
   "metadata": {},
   "source": [
    "### Влияет ли рейтинг ESRB на продажи в отдельном регионе?"
   ]
  },
  {
   "cell_type": "markdown",
   "metadata": {},
   "source": [
    "Проверим влияет ли рейтинг ESRB  на продажи в каждом регионе. \\\n",
    "Рейтинг  ESRB:\n",
    "- «EC» — «Для детей младшего возраста»\n",
    "- «E» — «Для всех»\n",
    "- «E10+» — «Для всех от 10 лет и старше»\n",
    "- «T» — «Подросткам»\n",
    "- «M» — «Для взрослых»\n",
    "- «AO» — «Только для взрослых»\n",
    "- «RP» — «Рейтинг ожидается»"
   ]
  },
  {
   "cell_type": "code",
   "execution_count": 84,
   "metadata": {},
   "outputs": [],
   "source": [
    "# Создаем сводную таблицу по рейтингу, сумме продаж по каждому региону,\n",
    "# общей сумме по миру, а также долях, которые занимает продаваемый рейтинг по каждому региону\n",
    "\n",
    "dt_21_rating = data_21.pivot_table(index='rating', \n",
    "                    values=['na_sales', 'eu_sales', 'jp_sales'], \n",
    "                    aggfunc='sum'\n",
    "                   ).reset_index()"
   ]
  },
  {
   "cell_type": "code",
   "execution_count": 85,
   "metadata": {},
   "outputs": [
    {
     "data": {
      "text/html": [
       "<div>\n",
       "<style scoped>\n",
       "    .dataframe tbody tr th:only-of-type {\n",
       "        vertical-align: middle;\n",
       "    }\n",
       "\n",
       "    .dataframe tbody tr th {\n",
       "        vertical-align: top;\n",
       "    }\n",
       "\n",
       "    .dataframe thead th {\n",
       "        text-align: right;\n",
       "    }\n",
       "</style>\n",
       "<table border=\"1\" class=\"dataframe\">\n",
       "  <thead>\n",
       "    <tr style=\"text-align: right;\">\n",
       "      <th></th>\n",
       "      <th>rating</th>\n",
       "      <th>eu_sales</th>\n",
       "      <th>jp_sales</th>\n",
       "      <th>na_sales</th>\n",
       "    </tr>\n",
       "  </thead>\n",
       "  <tbody>\n",
       "    <tr>\n",
       "      <th>0</th>\n",
       "      <td>E</td>\n",
       "      <td>58.06</td>\n",
       "      <td>8.94</td>\n",
       "      <td>50.74</td>\n",
       "    </tr>\n",
       "    <tr>\n",
       "      <th>1</th>\n",
       "      <td>E10+</td>\n",
       "      <td>26.16</td>\n",
       "      <td>4.46</td>\n",
       "      <td>33.23</td>\n",
       "    </tr>\n",
       "    <tr>\n",
       "      <th>2</th>\n",
       "      <td>M</td>\n",
       "      <td>93.44</td>\n",
       "      <td>8.01</td>\n",
       "      <td>96.42</td>\n",
       "    </tr>\n",
       "    <tr>\n",
       "      <th>3</th>\n",
       "      <td>RP</td>\n",
       "      <td>58.95</td>\n",
       "      <td>56.90</td>\n",
       "      <td>64.72</td>\n",
       "    </tr>\n",
       "    <tr>\n",
       "      <th>4</th>\n",
       "      <td>T</td>\n",
       "      <td>34.07</td>\n",
       "      <td>14.78</td>\n",
       "      <td>38.95</td>\n",
       "    </tr>\n",
       "  </tbody>\n",
       "</table>\n",
       "</div>"
      ],
      "text/plain": [
       "  rating  eu_sales  jp_sales  na_sales\n",
       "0      E     58.06      8.94     50.74\n",
       "1   E10+     26.16      4.46     33.23\n",
       "2      M     93.44      8.01     96.42\n",
       "3     RP     58.95     56.90     64.72\n",
       "4      T     34.07     14.78     38.95"
      ]
     },
     "execution_count": 85,
     "metadata": {},
     "output_type": "execute_result"
    }
   ],
   "source": [
    "# Выводим сводную таблицу\n",
    "\n",
    "dt_21_rating"
   ]
  },
  {
   "cell_type": "code",
   "execution_count": 86,
   "metadata": {},
   "outputs": [
    {
     "data": {
      "image/png": "[encoded data removed]",
      "text/plain": [
       "<Figure size 360x504 with 1 Axes>"
      ]
     },
     "metadata": {
      "needs_background": "light"
     },
     "output_type": "display_data"
    },
    {
     "data": {
      "image/png": "[encoded data removed]",
      "text/plain": [
       "<Figure size 432x288 with 1 Axes>"
      ]
     },
     "metadata": {
      "needs_background": "light"
     },
     "output_type": "display_data"
    },
    {
     "data": {
      "image/png": "[encoded data removed]",
      "text/plain": [
       "<Figure size 432x288 with 1 Axes>"
      ]
     },
     "metadata": {
      "needs_background": "light"
     },
     "output_type": "display_data"
    }
   ],
   "source": [
    "# Строим три столбчатые диаграммы с информацией от рейтинге и доли продаваемых игр данного \n",
    "# рейтинга по каждому региону\n",
    "\n",
    "plt.figure(figsize=(5, 7))\n",
    "\n",
    "nax = sns.barplot(data=dt_21_rating, x='rating', y='na_sales', hue='rating') # строим диаграмму по NA\n",
    "nax.set_title('Распределение долей продаж игр каждого рейтинга в Северной Америке') # даем название диаграмме\n",
    "nax.set(xlabel='Рейтинг', ylabel='Доля продаж'); # даем название осям\n",
    "plt.legend(bbox_to_anchor=(1.3, 1), loc='upper right') # перемещаем легенду в правый верхний угол за график\n",
    "plt.show()\n",
    "\n",
    "euax = sns.barplot(data=dt_21_rating, x='rating', y='eu_sales', hue='rating') # строим диаграмму по EU\n",
    "euax.set_title('Распределение долей продаж игр каждого рейтинга в Европе') # даем название диаграмме\n",
    "euax.set(xlabel='Рейтинг', ylabel='Доля продаж'); # даем название осям\n",
    "plt.legend(bbox_to_anchor=(1.3, 1), loc='upper right') # перемещаем легенду в правый верхний угол за график\n",
    "plt.show()\n",
    "\n",
    "jpax = sns.barplot(data=dt_21_rating, x='rating', y='jp_sales', hue='rating') # строим диаграмму по JP\n",
    "jpax.set_title('Распределение долей продаж игр каждого рейтинга в Японии') # даем название диаграмме\n",
    "jpax.set(xlabel='Рейтинг', ylabel='Доля продаж'); # даем название осям\n",
    "plt.legend(bbox_to_anchor=(1.3, 1), loc='upper right') # перемещаем легенду в правый верхний угол за график\n",
    "plt.show()"
   ]
  },
  {
   "cell_type": "markdown",
   "metadata": {},
   "source": [
    "Диаграммы Америки и Европы не раздичаются, в Японии есть небольшое отличие, и можно сказать что рейтинг игры влияет на продажи. Чаще всего в Европе и Америке покупают игры рейтинг M, то есть \"Для взрослых\", на втором месте во всех трех регионах стоит RP — \"Рейтинг ожидается\", далее идут E — \"Для всех\", Т - \"Подросткам\" и E10+ — \"Для всех от 10 лет и старше\" . В Японии немного другая картина: самый популярный рейтинг RP, причем он сильно выделяется на фоне остальных рейтингов. На втором месте Т - \"Подросткам\", в двух других регионах он четвертый. Игры с рейтингом Е - в Японии стоят на третьем месте, а М на четвертом. Детям от 10 лет - Е10+ - не так часто покупают компьютерные игры во всех трех регионах. Также АО и ЕС во всех трех регионах не покупают."
   ]
  },
  {
   "cell_type": "markdown",
   "metadata": {},
   "source": [
    "В результате исследования можно составить такой портрет пользователя по каждому региону.\n",
    "- Северная Америка (NA):\n",
    "       Пользователи предпочитают компьютерные игры на платформах PS4, XOne, X360, 3DS, PS3, одного из жанров Shooter, Action, Sports, Role-Playing, Misc с рейтингом М, RP, Е, T, Е10+. Наиболее вероятно что пользователь захочет купить игру на платформе PS4, жанра Shooter рейтинга М.\n",
    "- Европа (EU):\n",
    "        Европейские пользователи похожи на пользователей из Северной Америки. Они предпочитают PS4, XOne, PS3, PC, 3DS, жанров: Action, Shooter, Sports, Role-Playing, Racing, рейтингов - М, RP, Е, T, Е10+. И наиболее вероятная покупка у европейского пользователя - это игра на платформе PS4, жанра Action, рейтинга М. То есть отличается лишь более предпочтительный жанр.\n",
    "- Япония (JP):\n",
    "        Этот региона сильнее отличется от предыдущих двух, вероятно из-за культурных различий, а также занятости взрослого поколения. Самые популярные платформы - 3DS, PS4, PSV, PS3, WiiU, жанры - Role-Playing, Action, Fighting, Misc, Shooter, жанров RP, Т, Е, М, Е10+. Самый популяр-ный выбор платформы 3DS, жанра Role-Playing с рейтингом RP."
   ]
  },
  {
   "cell_type": "markdown",
   "metadata": {},
   "source": [
    "## Шаг 5. Проверьте гипотезы"
   ]
  },
  {
   "cell_type": "markdown",
   "metadata": {},
   "source": [
    "Проверим две гипотезы:\n",
    "- Средние пользовательские рейтинги платформ Xbox One и PC одинаковые;\n",
    "- Средние пользовательские рейтинги жанров Action и Sports разные.\n",
    "\n",
    "### Средние пользовательские рейтинги платформ Xbox One и PC одинаковые\n",
    "\n",
    "Сформулируем нулевую и альтернативную гипотезу для первого пункта: \\\n",
    "Н0 - средний пользовательский рейтинг платформы Xbox One = среднему пользовательскому рейнигу РС \\\n",
    "Н1 - средний пользовательский рейтинг платформы Xbox One != среднему пользовательскому рейнигу РС"
   ]
  },
  {
   "cell_type": "code",
   "execution_count": 87,
   "metadata": {},
   "outputs": [],
   "source": [
    "# создаем датасет с значениями пользовательского рейтинга по Xbox One, убираем NaN\n",
    "\n",
    "dt_xone = data_21.query('platform == \"XOne\"')['user_score'].dropna()"
   ]
  },
  {
   "cell_type": "code",
   "execution_count": 88,
   "metadata": {},
   "outputs": [],
   "source": [
    "# создаем датасет с значениями пользовательского рейтинга по РС, убираем NaN\n",
    "\n",
    "dt_pc = data_21.query('platform == \"PC\"')['user_score'].dropna()"
   ]
  },
  {
   "cell_type": "code",
   "execution_count": 89,
   "metadata": {},
   "outputs": [
    {
     "name": "stdout",
     "output_type": "stream",
     "text": [
      "p-значение: 0.11601398086668832\n",
      "Не получилось отвергнуть нулевую гипотезу\n"
     ]
    }
   ],
   "source": [
    "# критический уровень статистической значимости, если p-value окажется меньше него - отвергнем гипотезу\n",
    "\n",
    "alpha = .05\n",
    "\n",
    "results = st.ttest_ind(dt_xone, dt_pc, equal_var = False)\n",
    "\n",
    "print('p-значение:', results.pvalue)\n",
    "\n",
    "if results.pvalue < alpha:\n",
    "    print(\"Отвергаем нулевую гипотезу\")\n",
    "else:\n",
    "    print(\"Не получилось отвергнуть нулевую гипотезу\")"
   ]
  },
  {
   "cell_type": "markdown",
   "metadata": {},
   "source": [
    "Проверили двустороннюю гипотузу. Нулевую гипотеза отвергнуть не поулилось, следовательно два показателя средних пользовательких рейтингов платформ  Xbox One и PC не противоречат нашей нулевой гипотезе."
   ]
  },
  {
   "cell_type": "markdown",
   "metadata": {},
   "source": [
    "### Средние пользовательские рейтинги жанров Action (англ. «действие», экшен-игры) и Sports (англ. «спортивные соревнования») разные"
   ]
  },
  {
   "cell_type": "markdown",
   "metadata": {},
   "source": [
    "Теперь составим нулевую и альтернативну гипотезы для второго пункта: \\\n",
    "Н0 - средний пользовательский рейтинг жанра Action = среднему пользовательскому рейтингу жанра Sports\\\n",
    "Н1 - средний пользовательский рейтинг жанра Action != среднему пользовательскому рейтингу жанра Sports"
   ]
  },
  {
   "cell_type": "code",
   "execution_count": 90,
   "metadata": {},
   "outputs": [],
   "source": [
    "# создаем датасет с значениями пользовательского рейтинга по Action, убираем NaN\n",
    "\n",
    "dt_action = data_21.query('genre == \"Action\"')['user_score'].dropna()"
   ]
  },
  {
   "cell_type": "code",
   "execution_count": 91,
   "metadata": {},
   "outputs": [],
   "source": [
    "# создаем датасет с значениями пользовательского рейтинга по Sports, убираем NaN\n",
    "\n",
    "dt_sports = data_21.query('genre == \"Sports\"')['user_score'].dropna()"
   ]
  },
  {
   "cell_type": "code",
   "execution_count": 92,
   "metadata": {},
   "outputs": [
    {
     "name": "stdout",
     "output_type": "stream",
     "text": [
      "p-значение: 1.1825550382644557e-14\n",
      "Отвергаем нулевую гипотезу\n"
     ]
    }
   ],
   "source": [
    "# критический уровень статистической значимости, если p-value окажется меньше него - отвергнем гипотезу\n",
    "\n",
    "alpha = .05\n",
    "\n",
    "results = st.ttest_ind(dt_action, dt_sports, equal_var = False)\n",
    "\n",
    "print('p-значение:', results.pvalue)\n",
    "\n",
    "if results.pvalue < alpha:\n",
    "    print(\"Отвергаем нулевую гипотезу\")\n",
    "else:\n",
    "    print(\"Не получилось отвергнуть нулевую гипотезу\")"
   ]
  },
  {
   "cell_type": "markdown",
   "metadata": {},
   "source": [
    "Здесь также была проверена двусторонняя гипотеза, о том что средние пользователские рейтинги по двум жанрам Action и Sports разные. Так как нулевую гипотезу получилось отвергнуть, следовательно данные противоречат выдвинутой гипотезе."
   ]
  },
  {
   "cell_type": "markdown",
   "metadata": {},
   "source": [
    "## Шаг 6. Напишите общий вывод"
   ]
  },
  {
   "cell_type": "markdown",
   "metadata": {},
   "source": [
    "Данный анализ был проведем с целью выявить определяющие успешность игры закономерности, что позволит сделать ставку на потенциально популярный продукт и спланировать рекламные кампании. \\\n",
    "Были выявлены следующие особенности:\n",
    "- все платформы имеют срок жизни примерно 9-10 лет, далее их продажи быстро идут на спад:\n",
    "        Была построена столбчатая диаграмма, содержащая информацию о распределении общих продаж компьютерных игр топ-10 платформами по годам. \n",
    "- было проведено исследование о том, как оценки критиков и пользователей влияют на продажи:\n",
    "        Корреляция между общими продажами и оценками критиков показала, что связь между значениями достаточно сильная, а у продаж и оценкой пользователй ее почти нет. Также диаграмма рассеяния показала что связь больше при хороших оценках - от 70 у критиков.\n",
    "- составлен портрет наиболее частого пользователя:\n",
    "        Были построены различные гистограмы, которые показали что для Северной Америки это покупка игры на платформе PS4 жанра Shooter рейтинга М, для Европы все кроме жанра - Action - такое же, а для Японии ничего не сходится с двумя предыдущими регионами, платформа 3DS, жанр Role-Playing с рейтингом RP.\n",
    "- были проверены две гипотезы:\n",
    "        Выяснилось, что средние пользовательские рейтинги платформ Xbox One и PC вполне могут быть равными, либо находится близко друг другу; средние пользовательские рейтинги жанров Action и Sports не разные.\n",
    "\n",
    "Из проведенного исследования можно сдлеалть вывод, что стоит обратить внимания на платформы: PS4, PS3, 3DS (пересечение топ-5 платформ по трем регионам). Если смотреть по регионам, то в Северной Америке следует также обратить внимние на платформы  XOne и X360, в Европе на XOne и РС, в Японии - PSV и WiiU. Также стоит обратить внимание на жанры:   Action, Shooter, Role-Playing, (пересечние топ-5 жанров по регионам), также можно отметить Sports (Америка, Европа),  Misc (Америка, Япония), Racing (Европа) и Fighting (Япония) и рейтинг: RP, Е, М, Т, Е10+ во всех регионах. Если нет возможности брать для каждого региона платформы отдельно, то скорее всего выигрышным вариантом будет PS4, которая стоит на первом месте в Америке и Европе и на втором в Японии, также она относительно новая и ее срок жизни в топе рейтинга не должен закончится еще несколько лет."
   ]
  }
 ],
 "metadata": {
  "ExecuteTimeLog": [
   {
    "duration": 1336,
    "start_time": "2023-01-16T13:16:14.727Z"
   },
   {
    "duration": 3,
    "start_time": "2023-01-16T13:16:18.435Z"
   },
   {
    "duration": 3,
    "start_time": "2023-01-16T13:46:52.306Z"
   },
   {
    "duration": 129,
    "start_time": "2023-01-16T13:48:41.486Z"
   },
   {
    "duration": 95,
    "start_time": "2023-01-16T13:49:07.813Z"
   },
   {
    "duration": 21,
    "start_time": "2023-01-16T13:49:34.104Z"
   },
   {
    "duration": 15,
    "start_time": "2023-01-16T13:49:36.752Z"
   },
   {
    "duration": 66,
    "start_time": "2023-01-16T13:50:13.471Z"
   },
   {
    "duration": 14,
    "start_time": "2023-01-16T13:50:43.358Z"
   },
   {
    "duration": 9,
    "start_time": "2023-01-16T14:07:02.149Z"
   },
   {
    "duration": 52,
    "start_time": "2023-01-16T14:07:59.785Z"
   },
   {
    "duration": 15,
    "start_time": "2023-01-16T15:03:47.710Z"
   },
   {
    "duration": 9,
    "start_time": "2023-01-16T15:07:53.505Z"
   },
   {
    "duration": 10,
    "start_time": "2023-01-16T15:08:02.698Z"
   },
   {
    "duration": 8,
    "start_time": "2023-01-16T15:09:04.841Z"
   },
   {
    "duration": 111,
    "start_time": "2023-01-16T15:11:15.774Z"
   },
   {
    "duration": 88,
    "start_time": "2023-01-16T15:11:25.761Z"
   },
   {
    "duration": 125,
    "start_time": "2023-01-16T15:11:54.690Z"
   },
   {
    "duration": 140,
    "start_time": "2023-01-16T15:12:14.072Z"
   },
   {
    "duration": 5,
    "start_time": "2023-01-16T16:03:28.903Z"
   },
   {
    "duration": 14,
    "start_time": "2023-01-16T16:15:55.246Z"
   },
   {
    "duration": 3,
    "start_time": "2023-01-16T16:16:07.925Z"
   },
   {
    "duration": 50,
    "start_time": "2023-01-16T16:16:07.932Z"
   },
   {
    "duration": 12,
    "start_time": "2023-01-16T16:16:07.984Z"
   },
   {
    "duration": 14,
    "start_time": "2023-01-16T16:16:07.998Z"
   },
   {
    "duration": 7,
    "start_time": "2023-01-16T16:16:08.013Z"
   },
   {
    "duration": 13,
    "start_time": "2023-01-16T16:16:08.022Z"
   },
   {
    "duration": 7,
    "start_time": "2023-01-16T16:16:08.036Z"
   },
   {
    "duration": 11,
    "start_time": "2023-01-16T16:16:13.231Z"
   },
   {
    "duration": 6,
    "start_time": "2023-01-16T16:18:46.013Z"
   },
   {
    "duration": 3,
    "start_time": "2023-01-16T16:27:21.760Z"
   },
   {
    "duration": 4,
    "start_time": "2023-01-16T16:28:03.356Z"
   },
   {
    "duration": 4,
    "start_time": "2023-01-16T16:28:09.437Z"
   },
   {
    "duration": 3,
    "start_time": "2023-01-16T16:28:21.594Z"
   },
   {
    "duration": 54,
    "start_time": "2023-01-16T16:28:21.598Z"
   },
   {
    "duration": 13,
    "start_time": "2023-01-16T16:28:21.653Z"
   },
   {
    "duration": 21,
    "start_time": "2023-01-16T16:28:21.668Z"
   },
   {
    "duration": 21,
    "start_time": "2023-01-16T16:28:30.466Z"
   },
   {
    "duration": 4,
    "start_time": "2023-01-16T16:28:41.819Z"
   },
   {
    "duration": 3,
    "start_time": "2023-01-16T16:29:04.219Z"
   },
   {
    "duration": 25,
    "start_time": "2023-01-16T16:29:07.026Z"
   },
   {
    "duration": 3,
    "start_time": "2023-01-16T16:29:12.206Z"
   },
   {
    "duration": 20,
    "start_time": "2023-01-16T16:29:13.044Z"
   },
   {
    "duration": 4,
    "start_time": "2023-01-16T16:29:19.630Z"
   },
   {
    "duration": 9,
    "start_time": "2023-01-16T16:31:48.515Z"
   },
   {
    "duration": 14,
    "start_time": "2023-01-16T16:31:51.954Z"
   },
   {
    "duration": 9,
    "start_time": "2023-01-16T16:32:44.353Z"
   },
   {
    "duration": 8,
    "start_time": "2023-01-16T16:33:17.533Z"
   },
   {
    "duration": 3,
    "start_time": "2023-01-16T16:33:28.602Z"
   },
   {
    "duration": 63,
    "start_time": "2023-01-16T16:33:28.608Z"
   },
   {
    "duration": 13,
    "start_time": "2023-01-16T16:33:28.672Z"
   },
   {
    "duration": 34,
    "start_time": "2023-01-16T16:33:28.687Z"
   },
   {
    "duration": 23,
    "start_time": "2023-01-16T16:33:28.723Z"
   },
   {
    "duration": 25,
    "start_time": "2023-01-16T16:33:28.747Z"
   },
   {
    "duration": 30,
    "start_time": "2023-01-16T16:33:28.773Z"
   },
   {
    "duration": 33,
    "start_time": "2023-01-16T16:33:28.804Z"
   },
   {
    "duration": 39,
    "start_time": "2023-01-16T16:33:28.839Z"
   },
   {
    "duration": 10,
    "start_time": "2023-01-16T16:33:30.962Z"
   },
   {
    "duration": 6,
    "start_time": "2023-01-16T16:33:32.176Z"
   },
   {
    "duration": 21,
    "start_time": "2023-01-16T16:33:37.193Z"
   },
   {
    "duration": 17,
    "start_time": "2023-01-16T16:35:03.447Z"
   },
   {
    "duration": 5,
    "start_time": "2023-01-16T16:35:35.194Z"
   },
   {
    "duration": 20,
    "start_time": "2023-01-16T16:36:06.653Z"
   },
   {
    "duration": 14,
    "start_time": "2023-01-16T16:40:38.216Z"
   },
   {
    "duration": 70,
    "start_time": "2023-01-16T16:48:23.249Z"
   },
   {
    "duration": 72,
    "start_time": "2023-01-16T16:49:36.856Z"
   },
   {
    "duration": 8,
    "start_time": "2023-01-16T16:51:14.388Z"
   },
   {
    "duration": 8,
    "start_time": "2023-01-16T16:51:20.549Z"
   },
   {
    "duration": 4,
    "start_time": "2023-01-16T16:51:31.724Z"
   },
   {
    "duration": 16,
    "start_time": "2023-01-16T16:51:38.971Z"
   },
   {
    "duration": 20,
    "start_time": "2023-01-16T16:51:58.149Z"
   },
   {
    "duration": 4,
    "start_time": "2023-01-16T16:52:11.788Z"
   },
   {
    "duration": 5,
    "start_time": "2023-01-16T16:54:39.181Z"
   },
   {
    "duration": 23,
    "start_time": "2023-01-16T16:54:45.558Z"
   },
   {
    "duration": 3,
    "start_time": "2023-01-16T16:55:02.611Z"
   },
   {
    "duration": 87,
    "start_time": "2023-01-16T16:55:02.616Z"
   },
   {
    "duration": 14,
    "start_time": "2023-01-16T16:55:02.704Z"
   },
   {
    "duration": 64,
    "start_time": "2023-01-16T16:55:02.719Z"
   },
   {
    "duration": 65,
    "start_time": "2023-01-16T16:55:02.785Z"
   },
   {
    "duration": 42,
    "start_time": "2023-01-16T16:55:02.852Z"
   },
   {
    "duration": 32,
    "start_time": "2023-01-16T16:55:02.896Z"
   },
   {
    "duration": 16,
    "start_time": "2023-01-16T16:55:02.930Z"
   },
   {
    "duration": 44,
    "start_time": "2023-01-16T16:55:02.947Z"
   },
   {
    "duration": 43,
    "start_time": "2023-01-16T16:55:02.992Z"
   },
   {
    "duration": 7,
    "start_time": "2023-01-16T16:55:05.753Z"
   },
   {
    "duration": 22,
    "start_time": "2023-01-16T16:55:07.978Z"
   },
   {
    "duration": 3,
    "start_time": "2023-01-16T16:55:22.058Z"
   },
   {
    "duration": 63,
    "start_time": "2023-01-16T16:55:22.063Z"
   },
   {
    "duration": 14,
    "start_time": "2023-01-16T16:55:22.128Z"
   },
   {
    "duration": 30,
    "start_time": "2023-01-16T16:55:22.143Z"
   },
   {
    "duration": 12,
    "start_time": "2023-01-16T16:55:22.174Z"
   },
   {
    "duration": 15,
    "start_time": "2023-01-16T16:55:22.187Z"
   },
   {
    "duration": 33,
    "start_time": "2023-01-16T16:55:22.204Z"
   },
   {
    "duration": 19,
    "start_time": "2023-01-16T16:55:22.239Z"
   },
   {
    "duration": 23,
    "start_time": "2023-01-16T16:55:22.259Z"
   },
   {
    "duration": 16,
    "start_time": "2023-01-16T16:55:22.284Z"
   },
   {
    "duration": 26,
    "start_time": "2023-01-16T16:55:25.017Z"
   },
   {
    "duration": 21,
    "start_time": "2023-01-16T16:55:33.240Z"
   },
   {
    "duration": 3,
    "start_time": "2023-01-16T16:55:39.479Z"
   },
   {
    "duration": 56,
    "start_time": "2023-01-16T16:55:39.485Z"
   },
   {
    "duration": 12,
    "start_time": "2023-01-16T16:55:39.543Z"
   },
   {
    "duration": 24,
    "start_time": "2023-01-16T16:55:39.556Z"
   },
   {
    "duration": 13,
    "start_time": "2023-01-16T16:55:39.582Z"
   },
   {
    "duration": 9,
    "start_time": "2023-01-16T16:55:39.598Z"
   },
   {
    "duration": 29,
    "start_time": "2023-01-16T16:55:39.609Z"
   },
   {
    "duration": 27,
    "start_time": "2023-01-16T16:55:39.640Z"
   },
   {
    "duration": 24,
    "start_time": "2023-01-16T16:55:39.668Z"
   },
   {
    "duration": 5,
    "start_time": "2023-01-16T16:55:39.694Z"
   },
   {
    "duration": 6,
    "start_time": "2023-01-16T16:55:40.871Z"
   },
   {
    "duration": 22,
    "start_time": "2023-01-16T16:55:42.445Z"
   },
   {
    "duration": 5,
    "start_time": "2023-01-16T17:05:26.628Z"
   },
   {
    "duration": 4,
    "start_time": "2023-01-16T17:07:44.340Z"
   },
   {
    "duration": 5,
    "start_time": "2023-01-16T17:20:46.378Z"
   },
   {
    "duration": 5,
    "start_time": "2023-01-16T17:28:08.972Z"
   },
   {
    "duration": 4,
    "start_time": "2023-01-16T17:29:42.202Z"
   },
   {
    "duration": 4,
    "start_time": "2023-01-16T17:29:54.078Z"
   },
   {
    "duration": 56,
    "start_time": "2023-01-16T17:29:54.085Z"
   },
   {
    "duration": 13,
    "start_time": "2023-01-16T17:29:54.143Z"
   },
   {
    "duration": 15,
    "start_time": "2023-01-16T17:29:54.158Z"
   },
   {
    "duration": 5,
    "start_time": "2023-01-16T17:29:54.175Z"
   },
   {
    "duration": 19,
    "start_time": "2023-01-16T17:29:54.181Z"
   },
   {
    "duration": 22,
    "start_time": "2023-01-16T17:29:54.202Z"
   },
   {
    "duration": 18,
    "start_time": "2023-01-16T17:29:54.225Z"
   },
   {
    "duration": 8,
    "start_time": "2023-01-16T17:29:54.245Z"
   },
   {
    "duration": 10,
    "start_time": "2023-01-16T17:29:54.254Z"
   },
   {
    "duration": 18,
    "start_time": "2023-01-16T17:29:54.265Z"
   },
   {
    "duration": 7,
    "start_time": "2023-01-16T17:29:54.285Z"
   },
   {
    "duration": 4,
    "start_time": "2023-01-16T17:29:56.254Z"
   },
   {
    "duration": 4,
    "start_time": "2023-01-16T17:30:15.082Z"
   },
   {
    "duration": 3,
    "start_time": "2023-01-16T17:30:27.692Z"
   },
   {
    "duration": 64,
    "start_time": "2023-01-16T17:30:27.698Z"
   },
   {
    "duration": 14,
    "start_time": "2023-01-16T17:30:27.764Z"
   },
   {
    "duration": 14,
    "start_time": "2023-01-16T17:30:27.780Z"
   },
   {
    "duration": 3,
    "start_time": "2023-01-16T17:30:27.796Z"
   },
   {
    "duration": 6,
    "start_time": "2023-01-16T17:30:27.801Z"
   },
   {
    "duration": 10,
    "start_time": "2023-01-16T17:30:27.809Z"
   },
   {
    "duration": 14,
    "start_time": "2023-01-16T17:30:27.820Z"
   },
   {
    "duration": 42,
    "start_time": "2023-01-16T17:30:27.836Z"
   },
   {
    "duration": 7,
    "start_time": "2023-01-16T17:30:27.880Z"
   },
   {
    "duration": 10,
    "start_time": "2023-01-16T17:30:27.889Z"
   },
   {
    "duration": 21,
    "start_time": "2023-01-16T17:30:27.901Z"
   },
   {
    "duration": 3,
    "start_time": "2023-01-16T17:30:31.681Z"
   },
   {
    "duration": 6,
    "start_time": "2023-01-16T17:30:32.294Z"
   },
   {
    "duration": 22,
    "start_time": "2023-01-16T19:20:32.042Z"
   },
   {
    "duration": 26,
    "start_time": "2023-01-16T19:23:03.864Z"
   },
   {
    "duration": 58,
    "start_time": "2023-01-17T10:32:16.609Z"
   },
   {
    "duration": 1317,
    "start_time": "2023-01-17T10:32:24.480Z"
   },
   {
    "duration": 197,
    "start_time": "2023-01-17T10:32:25.800Z"
   },
   {
    "duration": 18,
    "start_time": "2023-01-17T10:32:25.998Z"
   },
   {
    "duration": 15,
    "start_time": "2023-01-17T10:32:26.018Z"
   },
   {
    "duration": 16,
    "start_time": "2023-01-17T10:32:26.035Z"
   },
   {
    "duration": 23,
    "start_time": "2023-01-17T10:32:26.053Z"
   },
   {
    "duration": 20,
    "start_time": "2023-01-17T10:32:26.078Z"
   },
   {
    "duration": 71,
    "start_time": "2023-01-17T10:32:26.100Z"
   },
   {
    "duration": 11,
    "start_time": "2023-01-17T10:32:26.173Z"
   },
   {
    "duration": 34,
    "start_time": "2023-01-17T10:32:26.187Z"
   },
   {
    "duration": 35,
    "start_time": "2023-01-17T10:32:26.222Z"
   },
   {
    "duration": 13,
    "start_time": "2023-01-17T10:32:26.259Z"
   },
   {
    "duration": 27,
    "start_time": "2023-01-17T10:32:26.274Z"
   },
   {
    "duration": 23,
    "start_time": "2023-01-17T10:32:26.303Z"
   },
   {
    "duration": 14,
    "start_time": "2023-01-17T10:32:29.634Z"
   },
   {
    "duration": 14,
    "start_time": "2023-01-17T10:32:35.312Z"
   },
   {
    "duration": 22,
    "start_time": "2023-01-17T10:32:40.741Z"
   },
   {
    "duration": 74,
    "start_time": "2023-01-17T10:47:30.123Z"
   },
   {
    "duration": 20,
    "start_time": "2023-01-17T10:48:01.277Z"
   },
   {
    "duration": 4,
    "start_time": "2023-01-17T10:50:17.630Z"
   },
   {
    "duration": 21,
    "start_time": "2023-01-17T10:50:18.550Z"
   },
   {
    "duration": 8,
    "start_time": "2023-01-17T10:50:43.121Z"
   },
   {
    "duration": 21,
    "start_time": "2023-01-17T10:50:44.251Z"
   },
   {
    "duration": 3,
    "start_time": "2023-01-17T10:50:48.939Z"
   },
   {
    "duration": 55,
    "start_time": "2023-01-17T10:50:48.946Z"
   },
   {
    "duration": 15,
    "start_time": "2023-01-17T10:50:49.003Z"
   },
   {
    "duration": 20,
    "start_time": "2023-01-17T10:50:49.020Z"
   },
   {
    "duration": 3,
    "start_time": "2023-01-17T10:50:49.042Z"
   },
   {
    "duration": 29,
    "start_time": "2023-01-17T10:50:49.047Z"
   },
   {
    "duration": 12,
    "start_time": "2023-01-17T10:50:49.078Z"
   },
   {
    "duration": 18,
    "start_time": "2023-01-17T10:50:49.092Z"
   },
   {
    "duration": 11,
    "start_time": "2023-01-17T10:50:49.112Z"
   },
   {
    "duration": 12,
    "start_time": "2023-01-17T10:50:49.125Z"
   },
   {
    "duration": 5,
    "start_time": "2023-01-17T10:50:49.140Z"
   },
   {
    "duration": 11,
    "start_time": "2023-01-17T10:50:49.147Z"
   },
   {
    "duration": 28,
    "start_time": "2023-01-17T10:50:49.159Z"
   },
   {
    "duration": 18,
    "start_time": "2023-01-17T10:50:50.877Z"
   },
   {
    "duration": 8,
    "start_time": "2023-01-17T10:51:07.996Z"
   },
   {
    "duration": 21,
    "start_time": "2023-01-17T10:51:09.224Z"
   },
   {
    "duration": 8,
    "start_time": "2023-01-17T10:51:40.688Z"
   },
   {
    "duration": 21,
    "start_time": "2023-01-17T10:51:41.389Z"
   },
   {
    "duration": 5,
    "start_time": "2023-01-17T10:56:24.104Z"
   },
   {
    "duration": 13,
    "start_time": "2023-01-17T10:57:19.772Z"
   },
   {
    "duration": 22,
    "start_time": "2023-01-17T11:03:47.452Z"
   },
   {
    "duration": 24,
    "start_time": "2023-01-17T11:05:02.457Z"
   },
   {
    "duration": 111,
    "start_time": "2023-01-17T11:10:31.418Z"
   },
   {
    "duration": 40,
    "start_time": "2023-01-17T11:20:57.227Z"
   },
   {
    "duration": 51,
    "start_time": "2023-01-17T11:21:46.583Z"
   },
   {
    "duration": 136,
    "start_time": "2023-01-17T11:24:12.686Z"
   },
   {
    "duration": 104,
    "start_time": "2023-01-17T11:24:23.359Z"
   },
   {
    "duration": 107,
    "start_time": "2023-01-17T11:24:29.784Z"
   },
   {
    "duration": 9,
    "start_time": "2023-01-17T11:25:02.030Z"
   },
   {
    "duration": 11,
    "start_time": "2023-01-17T11:32:27.710Z"
   },
   {
    "duration": 24,
    "start_time": "2023-01-17T11:54:04.458Z"
   },
   {
    "duration": 183,
    "start_time": "2023-01-17T11:54:32.400Z"
   },
   {
    "duration": 39,
    "start_time": "2023-01-17T11:54:45.741Z"
   },
   {
    "duration": 111,
    "start_time": "2023-01-17T11:54:57.908Z"
   },
   {
    "duration": 10,
    "start_time": "2023-01-17T11:55:06.392Z"
   },
   {
    "duration": 9,
    "start_time": "2023-01-17T11:55:34.788Z"
   },
   {
    "duration": 8,
    "start_time": "2023-01-17T12:05:33.124Z"
   },
   {
    "duration": 17,
    "start_time": "2023-01-17T12:07:24.388Z"
   },
   {
    "duration": 14,
    "start_time": "2023-01-17T12:07:32.864Z"
   },
   {
    "duration": 7,
    "start_time": "2023-01-17T12:07:47.468Z"
   },
   {
    "duration": 3,
    "start_time": "2023-01-17T12:08:07.313Z"
   },
   {
    "duration": 73,
    "start_time": "2023-01-17T12:08:07.318Z"
   },
   {
    "duration": 23,
    "start_time": "2023-01-17T12:08:07.394Z"
   },
   {
    "duration": 23,
    "start_time": "2023-01-17T12:08:07.419Z"
   },
   {
    "duration": 3,
    "start_time": "2023-01-17T12:08:07.445Z"
   },
   {
    "duration": 31,
    "start_time": "2023-01-17T12:08:07.450Z"
   },
   {
    "duration": 16,
    "start_time": "2023-01-17T12:08:07.483Z"
   },
   {
    "duration": 33,
    "start_time": "2023-01-17T12:08:07.501Z"
   },
   {
    "duration": 10,
    "start_time": "2023-01-17T12:08:07.536Z"
   },
   {
    "duration": 12,
    "start_time": "2023-01-17T12:08:07.548Z"
   },
   {
    "duration": 13,
    "start_time": "2023-01-17T12:08:07.562Z"
   },
   {
    "duration": 22,
    "start_time": "2023-01-17T12:08:07.577Z"
   },
   {
    "duration": 20,
    "start_time": "2023-01-17T12:08:07.600Z"
   },
   {
    "duration": 12,
    "start_time": "2023-01-17T12:08:07.623Z"
   },
   {
    "duration": 6,
    "start_time": "2023-01-17T12:08:07.636Z"
   },
   {
    "duration": 30,
    "start_time": "2023-01-17T12:08:07.645Z"
   },
   {
    "duration": 146,
    "start_time": "2023-01-17T12:08:07.680Z"
   },
   {
    "duration": 41,
    "start_time": "2023-01-17T12:08:07.828Z"
   },
   {
    "duration": 126,
    "start_time": "2023-01-17T12:08:07.882Z"
   },
   {
    "duration": 10,
    "start_time": "2023-01-17T12:08:08.010Z"
   },
   {
    "duration": 13,
    "start_time": "2023-01-17T12:08:08.022Z"
   },
   {
    "duration": 10,
    "start_time": "2023-01-17T12:08:09.694Z"
   },
   {
    "duration": 6,
    "start_time": "2023-01-17T12:08:50.323Z"
   },
   {
    "duration": 10,
    "start_time": "2023-01-17T12:08:51.210Z"
   },
   {
    "duration": 3,
    "start_time": "2023-01-17T12:09:20.380Z"
   },
   {
    "duration": 59,
    "start_time": "2023-01-17T12:09:20.385Z"
   },
   {
    "duration": 15,
    "start_time": "2023-01-17T12:09:20.446Z"
   },
   {
    "duration": 18,
    "start_time": "2023-01-17T12:09:20.463Z"
   },
   {
    "duration": 11,
    "start_time": "2023-01-17T12:09:20.483Z"
   },
   {
    "duration": 16,
    "start_time": "2023-01-17T12:09:20.495Z"
   },
   {
    "duration": 13,
    "start_time": "2023-01-17T12:09:20.513Z"
   },
   {
    "duration": 16,
    "start_time": "2023-01-17T12:09:20.528Z"
   },
   {
    "duration": 10,
    "start_time": "2023-01-17T12:09:20.546Z"
   },
   {
    "duration": 23,
    "start_time": "2023-01-17T12:09:20.559Z"
   },
   {
    "duration": 5,
    "start_time": "2023-01-17T12:09:20.584Z"
   },
   {
    "duration": 8,
    "start_time": "2023-01-17T12:09:20.591Z"
   },
   {
    "duration": 14,
    "start_time": "2023-01-17T12:09:20.600Z"
   },
   {
    "duration": 13,
    "start_time": "2023-01-17T12:09:20.616Z"
   },
   {
    "duration": 9,
    "start_time": "2023-01-17T12:09:20.631Z"
   },
   {
    "duration": 44,
    "start_time": "2023-01-17T12:09:20.642Z"
   },
   {
    "duration": 121,
    "start_time": "2023-01-17T12:09:20.688Z"
   },
   {
    "duration": 50,
    "start_time": "2023-01-17T12:09:20.811Z"
   },
   {
    "duration": 128,
    "start_time": "2023-01-17T12:09:20.864Z"
   },
   {
    "duration": 12,
    "start_time": "2023-01-17T12:09:20.995Z"
   },
   {
    "duration": 18,
    "start_time": "2023-01-17T12:09:21.009Z"
   },
   {
    "duration": 7,
    "start_time": "2023-01-17T12:09:21.030Z"
   },
   {
    "duration": 62,
    "start_time": "2023-01-17T12:09:21.040Z"
   },
   {
    "duration": 140,
    "start_time": "2023-01-17T12:09:21.105Z"
   },
   {
    "duration": 50,
    "start_time": "2023-01-17T12:09:21.246Z"
   },
   {
    "duration": 127,
    "start_time": "2023-01-17T12:09:21.298Z"
   },
   {
    "duration": 10,
    "start_time": "2023-01-17T12:09:21.428Z"
   },
   {
    "duration": 15,
    "start_time": "2023-01-17T12:09:21.441Z"
   },
   {
    "duration": 10,
    "start_time": "2023-01-17T12:09:27.653Z"
   },
   {
    "duration": 5,
    "start_time": "2023-01-17T12:10:12.527Z"
   },
   {
    "duration": 69,
    "start_time": "2023-01-17T12:10:12.534Z"
   },
   {
    "duration": 16,
    "start_time": "2023-01-17T12:10:12.605Z"
   },
   {
    "duration": 21,
    "start_time": "2023-01-17T12:10:12.622Z"
   },
   {
    "duration": 3,
    "start_time": "2023-01-17T12:10:12.646Z"
   },
   {
    "duration": 7,
    "start_time": "2023-01-17T12:10:12.651Z"
   },
   {
    "duration": 25,
    "start_time": "2023-01-17T12:10:12.660Z"
   },
   {
    "duration": 17,
    "start_time": "2023-01-17T12:10:12.687Z"
   },
   {
    "duration": 11,
    "start_time": "2023-01-17T12:10:12.706Z"
   },
   {
    "duration": 10,
    "start_time": "2023-01-17T12:10:12.719Z"
   },
   {
    "duration": 4,
    "start_time": "2023-01-17T12:10:12.732Z"
   },
   {
    "duration": 43,
    "start_time": "2023-01-17T12:10:12.738Z"
   },
   {
    "duration": 6,
    "start_time": "2023-01-17T12:10:12.783Z"
   },
   {
    "duration": 13,
    "start_time": "2023-01-17T12:10:12.790Z"
   },
   {
    "duration": 8,
    "start_time": "2023-01-17T12:10:12.805Z"
   },
   {
    "duration": 28,
    "start_time": "2023-01-17T12:10:12.815Z"
   },
   {
    "duration": 130,
    "start_time": "2023-01-17T12:10:12.845Z"
   },
   {
    "duration": 38,
    "start_time": "2023-01-17T12:10:12.981Z"
   },
   {
    "duration": 133,
    "start_time": "2023-01-17T12:10:13.021Z"
   },
   {
    "duration": 9,
    "start_time": "2023-01-17T12:10:13.155Z"
   },
   {
    "duration": 23,
    "start_time": "2023-01-17T12:10:13.166Z"
   },
   {
    "duration": 6,
    "start_time": "2023-01-17T12:10:14.970Z"
   },
   {
    "duration": 22,
    "start_time": "2023-01-17T12:10:20.269Z"
   },
   {
    "duration": 3,
    "start_time": "2023-01-17T12:11:12.448Z"
   },
   {
    "duration": 68,
    "start_time": "2023-01-17T12:11:12.456Z"
   },
   {
    "duration": 15,
    "start_time": "2023-01-17T12:11:12.526Z"
   },
   {
    "duration": 38,
    "start_time": "2023-01-17T12:11:12.543Z"
   },
   {
    "duration": 25,
    "start_time": "2023-01-17T12:11:12.583Z"
   },
   {
    "duration": 22,
    "start_time": "2023-01-17T12:11:12.612Z"
   },
   {
    "duration": 36,
    "start_time": "2023-01-17T12:11:12.636Z"
   },
   {
    "duration": 33,
    "start_time": "2023-01-17T12:11:12.674Z"
   },
   {
    "duration": 9,
    "start_time": "2023-01-17T12:11:12.709Z"
   },
   {
    "duration": 21,
    "start_time": "2023-01-17T12:11:12.720Z"
   },
   {
    "duration": 12,
    "start_time": "2023-01-17T12:11:12.742Z"
   },
   {
    "duration": 28,
    "start_time": "2023-01-17T12:11:12.756Z"
   },
   {
    "duration": 20,
    "start_time": "2023-01-17T12:11:12.786Z"
   },
   {
    "duration": 17,
    "start_time": "2023-01-17T12:11:12.808Z"
   },
   {
    "duration": 19,
    "start_time": "2023-01-17T12:11:12.827Z"
   },
   {
    "duration": 45,
    "start_time": "2023-01-17T12:11:12.847Z"
   },
   {
    "duration": 110,
    "start_time": "2023-01-17T12:11:12.893Z"
   },
   {
    "duration": 38,
    "start_time": "2023-01-17T12:11:13.005Z"
   },
   {
    "duration": 218,
    "start_time": "2023-01-17T12:11:13.045Z"
   },
   {
    "duration": 23,
    "start_time": "2023-01-17T12:11:13.266Z"
   },
   {
    "duration": 14,
    "start_time": "2023-01-17T12:11:13.291Z"
   },
   {
    "duration": 8,
    "start_time": "2023-01-17T12:12:00.469Z"
   },
   {
    "duration": 24,
    "start_time": "2023-01-17T12:12:08.844Z"
   },
   {
    "duration": 9,
    "start_time": "2023-01-17T12:12:18.552Z"
   },
   {
    "duration": 23,
    "start_time": "2023-01-17T12:12:28.392Z"
   },
   {
    "duration": 50,
    "start_time": "2023-01-17T12:13:20.799Z"
   },
   {
    "duration": 33,
    "start_time": "2023-01-17T12:13:33.697Z"
   },
   {
    "duration": 24,
    "start_time": "2023-01-17T12:14:55.522Z"
   },
   {
    "duration": 24,
    "start_time": "2023-01-17T12:15:04.841Z"
   },
   {
    "duration": 10,
    "start_time": "2023-01-17T12:15:39.040Z"
   },
   {
    "duration": 21,
    "start_time": "2023-01-17T12:15:43.796Z"
   },
   {
    "duration": 4,
    "start_time": "2023-01-17T12:17:10.700Z"
   },
   {
    "duration": 59,
    "start_time": "2023-01-17T12:17:10.707Z"
   },
   {
    "duration": 15,
    "start_time": "2023-01-17T12:17:10.768Z"
   },
   {
    "duration": 20,
    "start_time": "2023-01-17T12:17:10.786Z"
   },
   {
    "duration": 31,
    "start_time": "2023-01-17T12:17:10.808Z"
   },
   {
    "duration": 12,
    "start_time": "2023-01-17T12:17:10.841Z"
   },
   {
    "duration": 18,
    "start_time": "2023-01-17T12:17:10.855Z"
   },
   {
    "duration": 16,
    "start_time": "2023-01-17T12:17:10.875Z"
   },
   {
    "duration": 10,
    "start_time": "2023-01-17T12:17:10.893Z"
   },
   {
    "duration": 11,
    "start_time": "2023-01-17T12:17:10.905Z"
   },
   {
    "duration": 5,
    "start_time": "2023-01-17T12:17:10.918Z"
   },
   {
    "duration": 19,
    "start_time": "2023-01-17T12:17:10.925Z"
   },
   {
    "duration": 10,
    "start_time": "2023-01-17T12:17:10.946Z"
   },
   {
    "duration": 29,
    "start_time": "2023-01-17T12:17:10.958Z"
   },
   {
    "duration": 7,
    "start_time": "2023-01-17T12:17:10.989Z"
   },
   {
    "duration": 25,
    "start_time": "2023-01-17T12:17:10.998Z"
   },
   {
    "duration": 128,
    "start_time": "2023-01-17T12:17:11.025Z"
   },
   {
    "duration": 51,
    "start_time": "2023-01-17T12:17:11.154Z"
   },
   {
    "duration": 119,
    "start_time": "2023-01-17T12:17:11.206Z"
   },
   {
    "duration": 9,
    "start_time": "2023-01-17T12:17:11.327Z"
   },
   {
    "duration": 12,
    "start_time": "2023-01-17T12:17:11.338Z"
   },
   {
    "duration": 13,
    "start_time": "2023-01-17T12:17:12.042Z"
   },
   {
    "duration": 33,
    "start_time": "2023-01-17T12:17:15.301Z"
   },
   {
    "duration": 9,
    "start_time": "2023-01-17T12:18:41.640Z"
   },
   {
    "duration": 14,
    "start_time": "2023-01-17T12:19:18.252Z"
   },
   {
    "duration": 10,
    "start_time": "2023-01-17T12:19:27.073Z"
   },
   {
    "duration": 6,
    "start_time": "2023-01-17T12:19:46.673Z"
   },
   {
    "duration": 14,
    "start_time": "2023-01-17T12:19:54.667Z"
   },
   {
    "duration": 10,
    "start_time": "2023-01-17T12:20:00.120Z"
   },
   {
    "duration": 16,
    "start_time": "2023-01-17T12:20:20.296Z"
   },
   {
    "duration": 22,
    "start_time": "2023-01-17T12:20:40.997Z"
   },
   {
    "duration": 32,
    "start_time": "2023-01-17T12:20:48.364Z"
   },
   {
    "duration": 16,
    "start_time": "2023-01-17T12:23:56.575Z"
   },
   {
    "duration": 25,
    "start_time": "2023-01-17T12:29:51.765Z"
   },
   {
    "duration": 7,
    "start_time": "2023-01-17T12:30:17.061Z"
   },
   {
    "duration": 16,
    "start_time": "2023-01-17T12:30:20.106Z"
   },
   {
    "duration": 10,
    "start_time": "2023-01-17T12:30:35.035Z"
   },
   {
    "duration": 20,
    "start_time": "2023-01-17T12:30:44.906Z"
   },
   {
    "duration": 11,
    "start_time": "2023-01-17T12:31:13.625Z"
   },
   {
    "duration": 32,
    "start_time": "2023-01-17T12:31:18.675Z"
   },
   {
    "duration": 14,
    "start_time": "2023-01-17T12:32:13.782Z"
   },
   {
    "duration": 11,
    "start_time": "2023-01-17T12:32:43.622Z"
   },
   {
    "duration": 38,
    "start_time": "2023-01-17T12:33:17.587Z"
   },
   {
    "duration": 22,
    "start_time": "2023-01-17T12:33:42.461Z"
   },
   {
    "duration": 4,
    "start_time": "2023-01-17T12:34:53.604Z"
   },
   {
    "duration": 60,
    "start_time": "2023-01-17T12:34:53.610Z"
   },
   {
    "duration": 14,
    "start_time": "2023-01-17T12:34:53.672Z"
   },
   {
    "duration": 19,
    "start_time": "2023-01-17T12:34:53.688Z"
   },
   {
    "duration": 3,
    "start_time": "2023-01-17T12:34:53.710Z"
   },
   {
    "duration": 7,
    "start_time": "2023-01-17T12:34:53.715Z"
   },
   {
    "duration": 16,
    "start_time": "2023-01-17T12:34:53.723Z"
   },
   {
    "duration": 46,
    "start_time": "2023-01-17T12:34:53.741Z"
   },
   {
    "duration": 11,
    "start_time": "2023-01-17T12:34:53.789Z"
   },
   {
    "duration": 13,
    "start_time": "2023-01-17T12:34:53.801Z"
   },
   {
    "duration": 5,
    "start_time": "2023-01-17T12:34:53.817Z"
   },
   {
    "duration": 18,
    "start_time": "2023-01-17T12:34:53.824Z"
   },
   {
    "duration": 10,
    "start_time": "2023-01-17T12:34:53.844Z"
   },
   {
    "duration": 32,
    "start_time": "2023-01-17T12:34:53.856Z"
   },
   {
    "duration": 6,
    "start_time": "2023-01-17T12:34:53.890Z"
   },
   {
    "duration": 38,
    "start_time": "2023-01-17T12:34:53.898Z"
   },
   {
    "duration": 122,
    "start_time": "2023-01-17T12:34:53.938Z"
   },
   {
    "duration": 48,
    "start_time": "2023-01-17T12:34:54.062Z"
   },
   {
    "duration": 136,
    "start_time": "2023-01-17T12:34:54.112Z"
   },
   {
    "duration": 12,
    "start_time": "2023-01-17T12:34:54.250Z"
   },
   {
    "duration": 28,
    "start_time": "2023-01-17T12:34:54.264Z"
   },
   {
    "duration": 7,
    "start_time": "2023-01-17T12:34:54.294Z"
   },
   {
    "duration": 25,
    "start_time": "2023-01-17T12:34:54.304Z"
   },
   {
    "duration": 189,
    "start_time": "2023-01-17T12:34:54.331Z"
   },
   {
    "duration": 39,
    "start_time": "2023-01-17T12:34:54.522Z"
   },
   {
    "duration": 136,
    "start_time": "2023-01-17T12:34:54.563Z"
   },
   {
    "duration": 8,
    "start_time": "2023-01-17T12:34:54.701Z"
   },
   {
    "duration": 17,
    "start_time": "2023-01-17T12:34:54.711Z"
   },
   {
    "duration": 11,
    "start_time": "2023-01-17T12:34:57.905Z"
   },
   {
    "duration": 6,
    "start_time": "2023-01-17T12:35:36.989Z"
   },
   {
    "duration": 23,
    "start_time": "2023-01-17T12:36:34.351Z"
   },
   {
    "duration": 23,
    "start_time": "2023-01-17T12:36:43.225Z"
   },
   {
    "duration": 112,
    "start_time": "2023-01-17T12:36:59.325Z"
   },
   {
    "duration": 61,
    "start_time": "2023-01-17T12:37:15.942Z"
   },
   {
    "duration": 120,
    "start_time": "2023-01-17T12:37:33.751Z"
   },
   {
    "duration": 12,
    "start_time": "2023-01-17T12:37:52.150Z"
   },
   {
    "duration": 12,
    "start_time": "2023-01-17T12:39:30.165Z"
   },
   {
    "duration": 12,
    "start_time": "2023-01-17T12:40:40.402Z"
   },
   {
    "duration": 6,
    "start_time": "2023-01-17T12:43:53.811Z"
   },
   {
    "duration": 14,
    "start_time": "2023-01-17T12:44:52.244Z"
   },
   {
    "duration": 36,
    "start_time": "2023-01-17T12:46:32.504Z"
   },
   {
    "duration": 135,
    "start_time": "2023-01-17T12:46:52.185Z"
   },
   {
    "duration": 37,
    "start_time": "2023-01-17T12:47:13.204Z"
   },
   {
    "duration": 140,
    "start_time": "2023-01-17T12:47:38.176Z"
   },
   {
    "duration": 12,
    "start_time": "2023-01-17T12:47:47.088Z"
   },
   {
    "duration": 13,
    "start_time": "2023-01-17T12:48:44.061Z"
   },
   {
    "duration": 9,
    "start_time": "2023-01-17T12:49:26.459Z"
   },
   {
    "duration": 115,
    "start_time": "2023-01-17T12:52:38.340Z"
   },
   {
    "duration": 23,
    "start_time": "2023-01-17T12:52:53.342Z"
   },
   {
    "duration": 191,
    "start_time": "2023-01-17T12:53:02.151Z"
   },
   {
    "duration": 131,
    "start_time": "2023-01-17T12:53:18.980Z"
   },
   {
    "duration": 4,
    "start_time": "2023-01-17T14:46:04.753Z"
   },
   {
    "duration": 83,
    "start_time": "2023-01-17T14:46:04.767Z"
   },
   {
    "duration": 19,
    "start_time": "2023-01-17T14:46:04.852Z"
   },
   {
    "duration": 24,
    "start_time": "2023-01-17T14:46:04.873Z"
   },
   {
    "duration": 15,
    "start_time": "2023-01-17T14:46:04.900Z"
   },
   {
    "duration": 29,
    "start_time": "2023-01-17T14:46:04.919Z"
   },
   {
    "duration": 23,
    "start_time": "2023-01-17T14:46:04.950Z"
   },
   {
    "duration": 28,
    "start_time": "2023-01-17T14:46:04.975Z"
   },
   {
    "duration": 17,
    "start_time": "2023-01-17T14:46:05.005Z"
   },
   {
    "duration": 38,
    "start_time": "2023-01-17T14:46:05.024Z"
   },
   {
    "duration": 28,
    "start_time": "2023-01-17T14:46:05.065Z"
   },
   {
    "duration": 14,
    "start_time": "2023-01-17T14:46:05.096Z"
   },
   {
    "duration": 7,
    "start_time": "2023-01-17T14:46:05.112Z"
   },
   {
    "duration": 28,
    "start_time": "2023-01-17T14:46:05.121Z"
   },
   {
    "duration": 28,
    "start_time": "2023-01-17T14:46:05.154Z"
   },
   {
    "duration": 37,
    "start_time": "2023-01-17T14:46:05.185Z"
   },
   {
    "duration": 166,
    "start_time": "2023-01-17T14:46:05.224Z"
   },
   {
    "duration": 65,
    "start_time": "2023-01-17T14:46:05.393Z"
   },
   {
    "duration": 184,
    "start_time": "2023-01-17T14:46:05.460Z"
   },
   {
    "duration": 10,
    "start_time": "2023-01-17T14:46:05.646Z"
   },
   {
    "duration": 26,
    "start_time": "2023-01-17T14:46:05.657Z"
   },
   {
    "duration": 8,
    "start_time": "2023-01-17T14:46:05.685Z"
   },
   {
    "duration": 49,
    "start_time": "2023-01-17T14:46:05.695Z"
   },
   {
    "duration": 179,
    "start_time": "2023-01-17T14:46:05.746Z"
   },
   {
    "duration": 42,
    "start_time": "2023-01-17T14:46:05.928Z"
   },
   {
    "duration": 136,
    "start_time": "2023-01-17T14:46:05.982Z"
   },
   {
    "duration": 11,
    "start_time": "2023-01-17T14:46:06.120Z"
   },
   {
    "duration": 17,
    "start_time": "2023-01-17T14:46:06.132Z"
   },
   {
    "duration": 18,
    "start_time": "2023-01-17T14:46:06.150Z"
   },
   {
    "duration": 62,
    "start_time": "2023-01-17T14:46:06.171Z"
   },
   {
    "duration": 138,
    "start_time": "2023-01-17T14:46:06.235Z"
   },
   {
    "duration": 53,
    "start_time": "2023-01-17T14:46:06.376Z"
   },
   {
    "duration": 178,
    "start_time": "2023-01-17T14:46:06.431Z"
   },
   {
    "duration": 12,
    "start_time": "2023-01-17T14:46:06.612Z"
   },
   {
    "duration": 16,
    "start_time": "2023-01-17T14:46:06.626Z"
   },
   {
    "duration": 7,
    "start_time": "2023-01-17T14:46:06.644Z"
   },
   {
    "duration": 67,
    "start_time": "2023-01-17T14:46:06.653Z"
   },
   {
    "duration": 124,
    "start_time": "2023-01-17T14:46:06.723Z"
   },
   {
    "duration": 68,
    "start_time": "2023-01-17T14:46:06.849Z"
   },
   {
    "duration": 141,
    "start_time": "2023-01-17T14:46:06.920Z"
   },
   {
    "duration": 20,
    "start_time": "2023-01-17T14:46:07.063Z"
   },
   {
    "duration": 14,
    "start_time": "2023-01-17T14:46:07.088Z"
   },
   {
    "duration": 17,
    "start_time": "2023-01-17T14:46:07.105Z"
   },
   {
    "duration": 25,
    "start_time": "2023-01-17T14:46:55.750Z"
   },
   {
    "duration": 34,
    "start_time": "2023-01-17T14:47:11.269Z"
   },
   {
    "duration": 186,
    "start_time": "2023-01-17T14:51:13.229Z"
   },
   {
    "duration": 216,
    "start_time": "2023-01-17T14:51:27.458Z"
   },
   {
    "duration": 243,
    "start_time": "2023-01-17T14:52:04.174Z"
   },
   {
    "duration": 129,
    "start_time": "2023-01-17T14:56:09.652Z"
   },
   {
    "duration": 65,
    "start_time": "2023-01-17T18:11:43.975Z"
   },
   {
    "duration": 1129,
    "start_time": "2023-01-17T18:11:50.102Z"
   },
   {
    "duration": 187,
    "start_time": "2023-01-17T18:11:51.232Z"
   },
   {
    "duration": 17,
    "start_time": "2023-01-17T18:11:51.420Z"
   },
   {
    "duration": 15,
    "start_time": "2023-01-17T18:11:51.439Z"
   },
   {
    "duration": 2,
    "start_time": "2023-01-17T18:11:51.457Z"
   },
   {
    "duration": 6,
    "start_time": "2023-01-17T18:11:51.461Z"
   },
   {
    "duration": 13,
    "start_time": "2023-01-17T18:11:51.468Z"
   },
   {
    "duration": 62,
    "start_time": "2023-01-17T18:11:51.482Z"
   },
   {
    "duration": 8,
    "start_time": "2023-01-17T18:11:51.546Z"
   },
   {
    "duration": 7,
    "start_time": "2023-01-17T18:11:51.556Z"
   },
   {
    "duration": 11,
    "start_time": "2023-01-17T18:11:51.564Z"
   },
   {
    "duration": 8,
    "start_time": "2023-01-17T18:11:51.576Z"
   },
   {
    "duration": 10,
    "start_time": "2023-01-17T18:11:51.586Z"
   },
   {
    "duration": 16,
    "start_time": "2023-01-17T18:11:51.599Z"
   },
   {
    "duration": 7,
    "start_time": "2023-01-17T18:11:51.617Z"
   },
   {
    "duration": 33,
    "start_time": "2023-01-17T18:11:51.625Z"
   },
   {
    "duration": 128,
    "start_time": "2023-01-17T18:11:51.659Z"
   },
   {
    "duration": 36,
    "start_time": "2023-01-17T18:11:51.789Z"
   },
   {
    "duration": 105,
    "start_time": "2023-01-17T18:11:51.827Z"
   },
   {
    "duration": 16,
    "start_time": "2023-01-17T18:11:51.934Z"
   },
   {
    "duration": 11,
    "start_time": "2023-01-17T18:11:51.951Z"
   },
   {
    "duration": 4,
    "start_time": "2023-01-17T18:11:51.964Z"
   },
   {
    "duration": 23,
    "start_time": "2023-01-17T18:11:51.970Z"
   },
   {
    "duration": 125,
    "start_time": "2023-01-17T18:11:51.994Z"
   },
   {
    "duration": 42,
    "start_time": "2023-01-17T18:11:52.121Z"
   },
   {
    "duration": 109,
    "start_time": "2023-01-17T18:11:52.165Z"
   },
   {
    "duration": 9,
    "start_time": "2023-01-17T18:11:52.275Z"
   },
   {
    "duration": 9,
    "start_time": "2023-01-17T18:11:52.286Z"
   },
   {
    "duration": 5,
    "start_time": "2023-01-17T18:11:52.296Z"
   },
   {
    "duration": 43,
    "start_time": "2023-01-17T18:11:52.302Z"
   },
   {
    "duration": 108,
    "start_time": "2023-01-17T18:11:52.347Z"
   },
   {
    "duration": 37,
    "start_time": "2023-01-17T18:11:52.457Z"
   },
   {
    "duration": 120,
    "start_time": "2023-01-17T18:11:52.496Z"
   },
   {
    "duration": 7,
    "start_time": "2023-01-17T18:11:52.618Z"
   },
   {
    "duration": 25,
    "start_time": "2023-01-17T18:11:52.627Z"
   },
   {
    "duration": 6,
    "start_time": "2023-01-17T18:11:52.653Z"
   },
   {
    "duration": 24,
    "start_time": "2023-01-17T18:11:52.661Z"
   },
   {
    "duration": 108,
    "start_time": "2023-01-17T18:11:52.687Z"
   },
   {
    "duration": 50,
    "start_time": "2023-01-17T18:11:52.797Z"
   },
   {
    "duration": 188,
    "start_time": "2023-01-17T18:11:52.849Z"
   },
   {
    "duration": 8,
    "start_time": "2023-01-17T18:11:53.043Z"
   },
   {
    "duration": 12,
    "start_time": "2023-01-17T18:11:53.052Z"
   },
   {
    "duration": 4,
    "start_time": "2023-01-17T18:11:53.066Z"
   },
   {
    "duration": 29,
    "start_time": "2023-01-17T18:11:53.071Z"
   },
   {
    "duration": 5,
    "start_time": "2023-01-17T18:12:09.617Z"
   },
   {
    "duration": 4,
    "start_time": "2023-01-17T18:25:27.830Z"
   },
   {
    "duration": 14,
    "start_time": "2023-01-17T18:25:41.938Z"
   },
   {
    "duration": 13,
    "start_time": "2023-01-17T18:25:59.118Z"
   },
   {
    "duration": 13,
    "start_time": "2023-01-17T18:33:23.627Z"
   },
   {
    "duration": 1441,
    "start_time": "2023-01-18T09:54:45.427Z"
   },
   {
    "duration": 108,
    "start_time": "2023-01-18T09:54:46.870Z"
   },
   {
    "duration": 20,
    "start_time": "2023-01-18T09:54:46.980Z"
   },
   {
    "duration": 16,
    "start_time": "2023-01-18T09:54:47.002Z"
   },
   {
    "duration": 4,
    "start_time": "2023-01-18T09:54:47.020Z"
   },
   {
    "duration": 13,
    "start_time": "2023-01-18T09:54:47.025Z"
   },
   {
    "duration": 12,
    "start_time": "2023-01-18T09:54:47.040Z"
   },
   {
    "duration": 56,
    "start_time": "2023-01-18T09:54:47.054Z"
   },
   {
    "duration": 27,
    "start_time": "2023-01-18T09:54:47.112Z"
   },
   {
    "duration": 7,
    "start_time": "2023-01-18T09:54:47.142Z"
   },
   {
    "duration": 9,
    "start_time": "2023-01-18T09:54:47.151Z"
   },
   {
    "duration": 12,
    "start_time": "2023-01-18T09:54:47.161Z"
   },
   {
    "duration": 8,
    "start_time": "2023-01-18T09:54:47.175Z"
   },
   {
    "duration": 10,
    "start_time": "2023-01-18T09:54:47.185Z"
   },
   {
    "duration": 5,
    "start_time": "2023-01-18T09:54:47.197Z"
   },
   {
    "duration": 48,
    "start_time": "2023-01-18T09:54:47.203Z"
   },
   {
    "duration": 124,
    "start_time": "2023-01-18T09:54:47.253Z"
   },
   {
    "duration": 37,
    "start_time": "2023-01-18T09:54:47.379Z"
   },
   {
    "duration": 122,
    "start_time": "2023-01-18T09:54:47.417Z"
   },
   {
    "duration": 9,
    "start_time": "2023-01-18T09:54:47.540Z"
   },
   {
    "duration": 9,
    "start_time": "2023-01-18T09:54:47.550Z"
   },
   {
    "duration": 5,
    "start_time": "2023-01-18T09:54:47.560Z"
   },
   {
    "duration": 22,
    "start_time": "2023-01-18T09:54:47.567Z"
   },
   {
    "duration": 139,
    "start_time": "2023-01-18T09:54:47.590Z"
   },
   {
    "duration": 41,
    "start_time": "2023-01-18T09:54:47.731Z"
   },
   {
    "duration": 125,
    "start_time": "2023-01-18T09:54:47.773Z"
   },
   {
    "duration": 8,
    "start_time": "2023-01-18T09:54:47.900Z"
   },
   {
    "duration": 8,
    "start_time": "2023-01-18T09:54:47.912Z"
   },
   {
    "duration": 6,
    "start_time": "2023-01-18T09:54:47.938Z"
   },
   {
    "duration": 25,
    "start_time": "2023-01-18T09:54:47.945Z"
   },
   {
    "duration": 123,
    "start_time": "2023-01-18T09:54:47.972Z"
   },
   {
    "duration": 45,
    "start_time": "2023-01-18T09:54:48.096Z"
   },
   {
    "duration": 109,
    "start_time": "2023-01-18T09:54:48.142Z"
   },
   {
    "duration": 9,
    "start_time": "2023-01-18T09:54:48.252Z"
   },
   {
    "duration": 10,
    "start_time": "2023-01-18T09:54:48.262Z"
   },
   {
    "duration": 4,
    "start_time": "2023-01-18T09:54:48.273Z"
   },
   {
    "duration": 22,
    "start_time": "2023-01-18T09:54:48.279Z"
   },
   {
    "duration": 126,
    "start_time": "2023-01-18T09:54:48.302Z"
   },
   {
    "duration": 35,
    "start_time": "2023-01-18T09:54:48.437Z"
   },
   {
    "duration": 211,
    "start_time": "2023-01-18T09:54:48.473Z"
   },
   {
    "duration": 9,
    "start_time": "2023-01-18T09:54:48.685Z"
   },
   {
    "duration": 10,
    "start_time": "2023-01-18T09:54:48.696Z"
   },
   {
    "duration": 5,
    "start_time": "2023-01-18T09:54:48.708Z"
   },
   {
    "duration": 41,
    "start_time": "2023-01-18T09:54:48.714Z"
   },
   {
    "duration": 9,
    "start_time": "2023-01-18T09:54:48.757Z"
   },
   {
    "duration": 8,
    "start_time": "2023-01-18T09:54:48.767Z"
   },
   {
    "duration": 18,
    "start_time": "2023-01-18T09:54:48.776Z"
   },
   {
    "duration": 42,
    "start_time": "2023-01-18T09:54:48.796Z"
   },
   {
    "duration": 5,
    "start_time": "2023-01-18T09:57:52.335Z"
   },
   {
    "duration": 6,
    "start_time": "2023-01-18T09:58:11.297Z"
   },
   {
    "duration": 9,
    "start_time": "2023-01-18T10:10:19.454Z"
   },
   {
    "duration": 22,
    "start_time": "2023-01-18T10:10:34.484Z"
   },
   {
    "duration": 25,
    "start_time": "2023-01-18T10:17:22.163Z"
   },
   {
    "duration": 17,
    "start_time": "2023-01-18T10:18:01.105Z"
   },
   {
    "duration": 11,
    "start_time": "2023-01-18T10:18:54.877Z"
   },
   {
    "duration": 8,
    "start_time": "2023-01-18T10:19:06.103Z"
   },
   {
    "duration": 12,
    "start_time": "2023-01-18T10:19:24.865Z"
   },
   {
    "duration": 10,
    "start_time": "2023-01-18T10:19:25.614Z"
   },
   {
    "duration": 112,
    "start_time": "2023-01-18T10:41:41.528Z"
   },
   {
    "duration": 8,
    "start_time": "2023-01-18T10:41:47.370Z"
   },
   {
    "duration": 8,
    "start_time": "2023-01-18T10:41:56.222Z"
   },
   {
    "duration": 8,
    "start_time": "2023-01-18T10:42:00.612Z"
   },
   {
    "duration": 12,
    "start_time": "2023-01-18T10:43:24.555Z"
   },
   {
    "duration": 7,
    "start_time": "2023-01-18T10:43:25.972Z"
   },
   {
    "duration": 9,
    "start_time": "2023-01-18T10:52:16.670Z"
   },
   {
    "duration": 3,
    "start_time": "2023-01-18T10:52:23.201Z"
   },
   {
    "duration": 4,
    "start_time": "2023-01-18T10:52:29.414Z"
   },
   {
    "duration": 318,
    "start_time": "2023-01-18T11:00:52.593Z"
   },
   {
    "duration": 13,
    "start_time": "2023-01-18T11:00:53.350Z"
   },
   {
    "duration": 18,
    "start_time": "2023-01-18T11:02:04.027Z"
   },
   {
    "duration": 13,
    "start_time": "2023-01-18T11:02:05.229Z"
   },
   {
    "duration": 186,
    "start_time": "2023-01-18T11:14:44.168Z"
   },
   {
    "duration": 751,
    "start_time": "2023-01-18T11:14:55.650Z"
   },
   {
    "duration": 736,
    "start_time": "2023-01-18T11:15:34.078Z"
   },
   {
    "duration": 703,
    "start_time": "2023-01-18T11:15:51.869Z"
   },
   {
    "duration": 779,
    "start_time": "2023-01-18T11:15:59.435Z"
   },
   {
    "duration": 733,
    "start_time": "2023-01-18T11:16:07.522Z"
   },
   {
    "duration": 761,
    "start_time": "2023-01-18T11:17:25.608Z"
   },
   {
    "duration": 849,
    "start_time": "2023-01-18T11:18:17.170Z"
   },
   {
    "duration": 751,
    "start_time": "2023-01-18T11:18:25.421Z"
   },
   {
    "duration": 8,
    "start_time": "2023-01-18T11:18:38.120Z"
   },
   {
    "duration": 805,
    "start_time": "2023-01-18T11:18:42.055Z"
   },
   {
    "duration": 715,
    "start_time": "2023-01-18T11:18:52.154Z"
   },
   {
    "duration": 857,
    "start_time": "2023-01-18T11:19:01.695Z"
   },
   {
    "duration": 720,
    "start_time": "2023-01-18T11:19:16.721Z"
   },
   {
    "duration": 751,
    "start_time": "2023-01-18T11:19:34.892Z"
   },
   {
    "duration": 843,
    "start_time": "2023-01-18T11:19:40.354Z"
   },
   {
    "duration": 902,
    "start_time": "2023-01-18T11:19:49.329Z"
   },
   {
    "duration": 18,
    "start_time": "2023-01-18T11:44:34.547Z"
   },
   {
    "duration": 17,
    "start_time": "2023-01-18T11:44:48.291Z"
   },
   {
    "duration": 9,
    "start_time": "2023-01-18T11:45:02.468Z"
   },
   {
    "duration": 769,
    "start_time": "2023-01-18T11:45:03.298Z"
   },
   {
    "duration": 796,
    "start_time": "2023-01-18T11:51:17.597Z"
   },
   {
    "duration": 877,
    "start_time": "2023-01-18T11:51:35.975Z"
   },
   {
    "duration": 749,
    "start_time": "2023-01-18T11:51:46.243Z"
   },
   {
    "duration": 3,
    "start_time": "2023-01-18T12:25:26.441Z"
   },
   {
    "duration": 62,
    "start_time": "2023-01-18T12:25:26.448Z"
   },
   {
    "duration": 16,
    "start_time": "2023-01-18T12:25:26.513Z"
   },
   {
    "duration": 39,
    "start_time": "2023-01-18T12:25:26.531Z"
   },
   {
    "duration": 18,
    "start_time": "2023-01-18T12:25:26.572Z"
   },
   {
    "duration": 19,
    "start_time": "2023-01-18T12:25:26.593Z"
   },
   {
    "duration": 25,
    "start_time": "2023-01-18T12:25:26.614Z"
   },
   {
    "duration": 18,
    "start_time": "2023-01-18T12:25:26.641Z"
   },
   {
    "duration": 28,
    "start_time": "2023-01-18T12:25:26.661Z"
   },
   {
    "duration": 24,
    "start_time": "2023-01-18T12:25:26.690Z"
   },
   {
    "duration": 16,
    "start_time": "2023-01-18T12:25:26.716Z"
   },
   {
    "duration": 32,
    "start_time": "2023-01-18T12:25:26.734Z"
   },
   {
    "duration": 24,
    "start_time": "2023-01-18T12:25:26.768Z"
   },
   {
    "duration": 26,
    "start_time": "2023-01-18T12:25:26.794Z"
   },
   {
    "duration": 11,
    "start_time": "2023-01-18T12:25:26.823Z"
   },
   {
    "duration": 29,
    "start_time": "2023-01-18T12:25:26.836Z"
   },
   {
    "duration": 101,
    "start_time": "2023-01-18T12:25:26.867Z"
   },
   {
    "duration": 39,
    "start_time": "2023-01-18T12:25:26.970Z"
   },
   {
    "duration": 138,
    "start_time": "2023-01-18T12:25:27.012Z"
   },
   {
    "duration": 9,
    "start_time": "2023-01-18T12:25:27.151Z"
   },
   {
    "duration": 23,
    "start_time": "2023-01-18T12:25:27.162Z"
   },
   {
    "duration": 26,
    "start_time": "2023-01-18T12:25:27.187Z"
   },
   {
    "duration": 29,
    "start_time": "2023-01-18T12:25:27.214Z"
   },
   {
    "duration": 121,
    "start_time": "2023-01-18T12:25:27.245Z"
   },
   {
    "duration": 38,
    "start_time": "2023-01-18T12:25:27.368Z"
   },
   {
    "duration": 124,
    "start_time": "2023-01-18T12:25:27.408Z"
   },
   {
    "duration": 8,
    "start_time": "2023-01-18T12:25:27.537Z"
   },
   {
    "duration": 20,
    "start_time": "2023-01-18T12:25:27.547Z"
   },
   {
    "duration": 13,
    "start_time": "2023-01-18T12:25:27.570Z"
   },
   {
    "duration": 35,
    "start_time": "2023-01-18T12:25:27.584Z"
   },
   {
    "duration": 116,
    "start_time": "2023-01-18T12:25:27.621Z"
   },
   {
    "duration": 51,
    "start_time": "2023-01-18T12:25:27.739Z"
   },
   {
    "duration": 128,
    "start_time": "2023-01-18T12:25:27.792Z"
   },
   {
    "duration": 17,
    "start_time": "2023-01-18T12:25:27.922Z"
   },
   {
    "duration": 21,
    "start_time": "2023-01-18T12:25:27.941Z"
   },
   {
    "duration": 5,
    "start_time": "2023-01-18T12:25:27.964Z"
   },
   {
    "duration": 31,
    "start_time": "2023-01-18T12:25:27.971Z"
   },
   {
    "duration": 116,
    "start_time": "2023-01-18T12:25:28.004Z"
   },
   {
    "duration": 46,
    "start_time": "2023-01-18T12:25:28.121Z"
   },
   {
    "duration": 255,
    "start_time": "2023-01-18T12:25:28.169Z"
   },
   {
    "duration": 17,
    "start_time": "2023-01-18T12:25:28.425Z"
   },
   {
    "duration": 10,
    "start_time": "2023-01-18T12:25:28.446Z"
   },
   {
    "duration": 6,
    "start_time": "2023-01-18T12:25:28.457Z"
   },
   {
    "duration": 29,
    "start_time": "2023-01-18T12:25:28.464Z"
   },
   {
    "duration": 5,
    "start_time": "2023-01-18T12:25:28.495Z"
   },
   {
    "duration": 10,
    "start_time": "2023-01-18T12:25:28.501Z"
   },
   {
    "duration": 40,
    "start_time": "2023-01-18T12:25:28.512Z"
   },
   {
    "duration": 21,
    "start_time": "2023-01-18T12:25:28.554Z"
   },
   {
    "duration": 7,
    "start_time": "2023-01-18T12:25:28.577Z"
   },
   {
    "duration": 23,
    "start_time": "2023-01-18T12:25:28.586Z"
   },
   {
    "duration": 14,
    "start_time": "2023-01-18T12:25:28.611Z"
   },
   {
    "duration": 3,
    "start_time": "2023-01-18T12:25:28.637Z"
   },
   {
    "duration": 30,
    "start_time": "2023-01-18T12:25:28.641Z"
   },
   {
    "duration": 7,
    "start_time": "2023-01-18T12:25:28.673Z"
   },
   {
    "duration": 849,
    "start_time": "2023-01-18T12:25:28.682Z"
   },
   {
    "duration": 8,
    "start_time": "2023-01-18T12:25:29.534Z"
   },
   {
    "duration": 33,
    "start_time": "2023-01-18T12:25:35.804Z"
   },
   {
    "duration": 16,
    "start_time": "2023-01-18T12:25:54.118Z"
   },
   {
    "duration": 16,
    "start_time": "2023-01-18T12:26:37.836Z"
   },
   {
    "duration": 1197,
    "start_time": "2023-01-18T12:34:43.580Z"
   },
   {
    "duration": 53,
    "start_time": "2023-01-18T12:34:44.780Z"
   },
   {
    "duration": 20,
    "start_time": "2023-01-18T12:34:44.835Z"
   },
   {
    "duration": 14,
    "start_time": "2023-01-18T12:34:44.857Z"
   },
   {
    "duration": 3,
    "start_time": "2023-01-18T12:34:44.873Z"
   },
   {
    "duration": 7,
    "start_time": "2023-01-18T12:34:44.878Z"
   },
   {
    "duration": 12,
    "start_time": "2023-01-18T12:34:44.886Z"
   },
   {
    "duration": 84,
    "start_time": "2023-01-18T12:34:44.900Z"
   },
   {
    "duration": 9,
    "start_time": "2023-01-18T12:34:44.986Z"
   },
   {
    "duration": 7,
    "start_time": "2023-01-18T12:34:44.997Z"
   },
   {
    "duration": 17,
    "start_time": "2023-01-18T12:34:45.005Z"
   },
   {
    "duration": 27,
    "start_time": "2023-01-18T12:34:45.023Z"
   },
   {
    "duration": 7,
    "start_time": "2023-01-18T12:34:45.052Z"
   },
   {
    "duration": 17,
    "start_time": "2023-01-18T12:34:45.062Z"
   },
   {
    "duration": 7,
    "start_time": "2023-01-18T12:34:45.081Z"
   },
   {
    "duration": 24,
    "start_time": "2023-01-18T12:34:45.090Z"
   },
   {
    "duration": 128,
    "start_time": "2023-01-18T12:34:45.116Z"
   },
   {
    "duration": 40,
    "start_time": "2023-01-18T12:34:45.247Z"
   },
   {
    "duration": 133,
    "start_time": "2023-01-18T12:34:45.289Z"
   },
   {
    "duration": 18,
    "start_time": "2023-01-18T12:34:45.424Z"
   },
   {
    "duration": 23,
    "start_time": "2023-01-18T12:34:45.443Z"
   },
   {
    "duration": 17,
    "start_time": "2023-01-18T12:34:45.468Z"
   },
   {
    "duration": 47,
    "start_time": "2023-01-18T12:34:45.488Z"
   },
   {
    "duration": 123,
    "start_time": "2023-01-18T12:34:45.536Z"
   },
   {
    "duration": 39,
    "start_time": "2023-01-18T12:34:45.660Z"
   },
   {
    "duration": 146,
    "start_time": "2023-01-18T12:34:45.701Z"
   },
   {
    "duration": 11,
    "start_time": "2023-01-18T12:34:45.849Z"
   },
   {
    "duration": 27,
    "start_time": "2023-01-18T12:34:45.862Z"
   },
   {
    "duration": 20,
    "start_time": "2023-01-18T12:34:45.891Z"
   },
   {
    "duration": 36,
    "start_time": "2023-01-18T12:34:45.913Z"
   },
   {
    "duration": 116,
    "start_time": "2023-01-18T12:34:45.951Z"
   },
   {
    "duration": 39,
    "start_time": "2023-01-18T12:34:46.069Z"
   },
   {
    "duration": 132,
    "start_time": "2023-01-18T12:34:46.110Z"
   },
   {
    "duration": 9,
    "start_time": "2023-01-18T12:34:46.244Z"
   },
   {
    "duration": 15,
    "start_time": "2023-01-18T12:34:46.255Z"
   },
   {
    "duration": 6,
    "start_time": "2023-01-18T12:34:46.272Z"
   },
   {
    "duration": 25,
    "start_time": "2023-01-18T12:34:46.280Z"
   },
   {
    "duration": 137,
    "start_time": "2023-01-18T12:34:46.306Z"
   },
   {
    "duration": 37,
    "start_time": "2023-01-18T12:34:46.445Z"
   },
   {
    "duration": 218,
    "start_time": "2023-01-18T12:34:46.484Z"
   },
   {
    "duration": 8,
    "start_time": "2023-01-18T12:34:46.707Z"
   },
   {
    "duration": 21,
    "start_time": "2023-01-18T12:34:46.717Z"
   },
   {
    "duration": 7,
    "start_time": "2023-01-18T12:34:46.740Z"
   },
   {
    "duration": 29,
    "start_time": "2023-01-18T12:34:46.749Z"
   },
   {
    "duration": 5,
    "start_time": "2023-01-18T12:34:46.779Z"
   },
   {
    "duration": 7,
    "start_time": "2023-01-18T12:34:46.786Z"
   },
   {
    "duration": 21,
    "start_time": "2023-01-18T12:34:46.794Z"
   },
   {
    "duration": 29,
    "start_time": "2023-01-18T12:34:46.817Z"
   },
   {
    "duration": 6,
    "start_time": "2023-01-18T12:34:46.848Z"
   },
   {
    "duration": 27,
    "start_time": "2023-01-18T12:34:46.856Z"
   },
   {
    "duration": 8,
    "start_time": "2023-01-18T12:34:46.885Z"
   },
   {
    "duration": 5,
    "start_time": "2023-01-18T12:34:46.895Z"
   },
   {
    "duration": 44,
    "start_time": "2023-01-18T12:34:46.902Z"
   },
   {
    "duration": 7,
    "start_time": "2023-01-18T12:34:46.947Z"
   },
   {
    "duration": 749,
    "start_time": "2023-01-18T12:34:46.956Z"
   },
   {
    "duration": 6,
    "start_time": "2023-01-18T12:34:47.706Z"
   },
   {
    "duration": 40,
    "start_time": "2023-01-18T12:34:47.714Z"
   },
   {
    "duration": 1242,
    "start_time": "2023-01-18T12:39:08.325Z"
   },
   {
    "duration": 73,
    "start_time": "2023-01-18T12:39:09.570Z"
   },
   {
    "duration": 18,
    "start_time": "2023-01-18T12:39:09.645Z"
   },
   {
    "duration": 25,
    "start_time": "2023-01-18T12:39:09.665Z"
   },
   {
    "duration": 11,
    "start_time": "2023-01-18T12:39:09.694Z"
   },
   {
    "duration": 8,
    "start_time": "2023-01-18T12:39:09.707Z"
   },
   {
    "duration": 28,
    "start_time": "2023-01-18T12:39:09.716Z"
   },
   {
    "duration": 73,
    "start_time": "2023-01-18T12:39:09.746Z"
   },
   {
    "duration": 25,
    "start_time": "2023-01-18T12:39:09.821Z"
   },
   {
    "duration": 16,
    "start_time": "2023-01-18T12:39:09.848Z"
   },
   {
    "duration": 21,
    "start_time": "2023-01-18T12:39:09.866Z"
   },
   {
    "duration": 10,
    "start_time": "2023-01-18T12:39:09.889Z"
   },
   {
    "duration": 7,
    "start_time": "2023-01-18T12:39:09.901Z"
   },
   {
    "duration": 10,
    "start_time": "2023-01-18T12:39:09.912Z"
   },
   {
    "duration": 19,
    "start_time": "2023-01-18T12:39:09.923Z"
   },
   {
    "duration": 34,
    "start_time": "2023-01-18T12:39:09.944Z"
   },
   {
    "duration": 125,
    "start_time": "2023-01-18T12:39:09.980Z"
   },
   {
    "duration": 48,
    "start_time": "2023-01-18T12:39:10.107Z"
   },
   {
    "duration": 116,
    "start_time": "2023-01-18T12:39:10.156Z"
   },
   {
    "duration": 9,
    "start_time": "2023-01-18T12:39:10.273Z"
   },
   {
    "duration": 9,
    "start_time": "2023-01-18T12:39:10.284Z"
   },
   {
    "duration": 5,
    "start_time": "2023-01-18T12:39:10.295Z"
   },
   {
    "duration": 46,
    "start_time": "2023-01-18T12:39:10.301Z"
   },
   {
    "duration": 120,
    "start_time": "2023-01-18T12:39:10.348Z"
   },
   {
    "duration": 40,
    "start_time": "2023-01-18T12:39:10.469Z"
   },
   {
    "duration": 128,
    "start_time": "2023-01-18T12:39:10.511Z"
   },
   {
    "duration": 9,
    "start_time": "2023-01-18T12:39:10.641Z"
   },
   {
    "duration": 70,
    "start_time": "2023-01-18T12:39:10.652Z"
   },
   {
    "duration": 27,
    "start_time": "2023-01-18T12:39:10.723Z"
   },
   {
    "duration": 55,
    "start_time": "2023-01-18T12:39:10.752Z"
   },
   {
    "duration": 108,
    "start_time": "2023-01-18T12:39:10.809Z"
   },
   {
    "duration": 37,
    "start_time": "2023-01-18T12:39:10.919Z"
   },
   {
    "duration": 116,
    "start_time": "2023-01-18T12:39:10.958Z"
   },
   {
    "duration": 8,
    "start_time": "2023-01-18T12:39:11.076Z"
   },
   {
    "duration": 47,
    "start_time": "2023-01-18T12:39:11.085Z"
   },
   {
    "duration": 9,
    "start_time": "2023-01-18T12:39:11.135Z"
   },
   {
    "duration": 33,
    "start_time": "2023-01-18T12:39:11.146Z"
   },
   {
    "duration": 124,
    "start_time": "2023-01-18T12:39:11.181Z"
   },
   {
    "duration": 48,
    "start_time": "2023-01-18T12:39:11.307Z"
   },
   {
    "duration": 200,
    "start_time": "2023-01-18T12:39:11.357Z"
   },
   {
    "duration": 8,
    "start_time": "2023-01-18T12:39:11.561Z"
   },
   {
    "duration": 32,
    "start_time": "2023-01-18T12:39:11.570Z"
   },
   {
    "duration": 9,
    "start_time": "2023-01-18T12:39:11.604Z"
   },
   {
    "duration": 25,
    "start_time": "2023-01-18T12:39:11.614Z"
   },
   {
    "duration": 5,
    "start_time": "2023-01-18T12:39:11.641Z"
   },
   {
    "duration": 9,
    "start_time": "2023-01-18T12:39:11.648Z"
   },
   {
    "duration": 18,
    "start_time": "2023-01-18T12:39:11.658Z"
   },
   {
    "duration": 17,
    "start_time": "2023-01-18T12:39:11.678Z"
   },
   {
    "duration": 6,
    "start_time": "2023-01-18T12:39:11.696Z"
   },
   {
    "duration": 46,
    "start_time": "2023-01-18T12:39:11.703Z"
   },
   {
    "duration": 8,
    "start_time": "2023-01-18T12:39:11.751Z"
   },
   {
    "duration": 5,
    "start_time": "2023-01-18T12:39:11.761Z"
   },
   {
    "duration": 20,
    "start_time": "2023-01-18T12:39:11.768Z"
   },
   {
    "duration": 8,
    "start_time": "2023-01-18T12:39:11.789Z"
   },
   {
    "duration": 760,
    "start_time": "2023-01-18T12:39:11.799Z"
   },
   {
    "duration": 8,
    "start_time": "2023-01-18T12:39:12.561Z"
   },
   {
    "duration": 18,
    "start_time": "2023-01-18T12:39:12.570Z"
   },
   {
    "duration": 13,
    "start_time": "2023-01-18T12:39:12.590Z"
   },
   {
    "duration": 6,
    "start_time": "2023-01-18T12:39:12.605Z"
   },
   {
    "duration": 8,
    "start_time": "2023-01-18T12:41:29.110Z"
   },
   {
    "duration": 11,
    "start_time": "2023-01-18T12:42:54.090Z"
   },
   {
    "duration": 9,
    "start_time": "2023-01-18T12:42:54.642Z"
   },
   {
    "duration": 128,
    "start_time": "2023-01-18T12:46:10.011Z"
   },
   {
    "duration": 105,
    "start_time": "2023-01-18T12:47:10.745Z"
   },
   {
    "duration": 97,
    "start_time": "2023-01-18T12:47:18.108Z"
   },
   {
    "duration": 9,
    "start_time": "2023-01-18T13:29:01.455Z"
   },
   {
    "duration": 24,
    "start_time": "2023-01-18T13:29:08.738Z"
   },
   {
    "duration": 15,
    "start_time": "2023-01-18T13:30:11.776Z"
   },
   {
    "duration": 6,
    "start_time": "2023-01-18T13:31:07.414Z"
   },
   {
    "duration": 6,
    "start_time": "2023-01-18T13:31:25.245Z"
   },
   {
    "duration": 151,
    "start_time": "2023-01-18T14:41:33.565Z"
   },
   {
    "duration": 147,
    "start_time": "2023-01-18T14:41:43.771Z"
   },
   {
    "duration": 140,
    "start_time": "2023-01-18T14:42:00.329Z"
   },
   {
    "duration": 147,
    "start_time": "2023-01-18T14:50:22.717Z"
   },
   {
    "duration": 296,
    "start_time": "2023-01-18T14:50:28.884Z"
   },
   {
    "duration": 154,
    "start_time": "2023-01-18T14:50:34.237Z"
   },
   {
    "duration": 153,
    "start_time": "2023-01-18T14:50:46.594Z"
   },
   {
    "duration": 7,
    "start_time": "2023-01-18T15:54:02.803Z"
   },
   {
    "duration": 15,
    "start_time": "2023-01-18T15:56:39.573Z"
   },
   {
    "duration": 19,
    "start_time": "2023-01-18T15:57:15.512Z"
   },
   {
    "duration": 58,
    "start_time": "2023-01-19T13:15:45.968Z"
   },
   {
    "duration": 1528,
    "start_time": "2023-01-19T13:15:51.574Z"
   },
   {
    "duration": 125,
    "start_time": "2023-01-19T13:15:53.104Z"
   },
   {
    "duration": 20,
    "start_time": "2023-01-19T13:15:53.231Z"
   },
   {
    "duration": 17,
    "start_time": "2023-01-19T13:15:53.253Z"
   },
   {
    "duration": 6,
    "start_time": "2023-01-19T13:15:53.273Z"
   },
   {
    "duration": 17,
    "start_time": "2023-01-19T13:15:53.282Z"
   },
   {
    "duration": 18,
    "start_time": "2023-01-19T13:15:53.301Z"
   },
   {
    "duration": 79,
    "start_time": "2023-01-19T13:15:53.321Z"
   },
   {
    "duration": 12,
    "start_time": "2023-01-19T13:15:53.401Z"
   },
   {
    "duration": 13,
    "start_time": "2023-01-19T13:15:53.414Z"
   },
   {
    "duration": 9,
    "start_time": "2023-01-19T13:15:53.429Z"
   },
   {
    "duration": 27,
    "start_time": "2023-01-19T13:15:53.439Z"
   },
   {
    "duration": 42,
    "start_time": "2023-01-19T13:15:53.468Z"
   },
   {
    "duration": 15,
    "start_time": "2023-01-19T13:15:53.515Z"
   },
   {
    "duration": 9,
    "start_time": "2023-01-19T13:15:53.532Z"
   },
   {
    "duration": 28,
    "start_time": "2023-01-19T13:15:53.542Z"
   },
   {
    "duration": 123,
    "start_time": "2023-01-19T13:15:53.571Z"
   },
   {
    "duration": 38,
    "start_time": "2023-01-19T13:15:53.696Z"
   },
   {
    "duration": 124,
    "start_time": "2023-01-19T13:15:53.735Z"
   },
   {
    "duration": 9,
    "start_time": "2023-01-19T13:15:53.860Z"
   },
   {
    "duration": 10,
    "start_time": "2023-01-19T13:15:53.871Z"
   },
   {
    "duration": 6,
    "start_time": "2023-01-19T13:15:53.883Z"
   },
   {
    "duration": 26,
    "start_time": "2023-01-19T13:15:53.890Z"
   },
   {
    "duration": 169,
    "start_time": "2023-01-19T13:15:53.917Z"
   },
   {
    "duration": 67,
    "start_time": "2023-01-19T13:15:54.088Z"
   },
   {
    "duration": 136,
    "start_time": "2023-01-19T13:15:54.158Z"
   },
   {
    "duration": 13,
    "start_time": "2023-01-19T13:15:54.296Z"
   },
   {
    "duration": 18,
    "start_time": "2023-01-19T13:15:54.311Z"
   },
   {
    "duration": 17,
    "start_time": "2023-01-19T13:15:54.331Z"
   },
   {
    "duration": 32,
    "start_time": "2023-01-19T13:15:54.350Z"
   },
   {
    "duration": 120,
    "start_time": "2023-01-19T13:15:54.384Z"
   },
   {
    "duration": 63,
    "start_time": "2023-01-19T13:15:54.506Z"
   },
   {
    "duration": 122,
    "start_time": "2023-01-19T13:15:54.571Z"
   },
   {
    "duration": 8,
    "start_time": "2023-01-19T13:15:54.694Z"
   },
   {
    "duration": 14,
    "start_time": "2023-01-19T13:15:54.704Z"
   },
   {
    "duration": 5,
    "start_time": "2023-01-19T13:15:54.720Z"
   },
   {
    "duration": 52,
    "start_time": "2023-01-19T13:15:54.726Z"
   },
   {
    "duration": 147,
    "start_time": "2023-01-19T13:15:54.781Z"
   },
   {
    "duration": 46,
    "start_time": "2023-01-19T13:15:54.930Z"
   },
   {
    "duration": 218,
    "start_time": "2023-01-19T13:15:54.978Z"
   },
   {
    "duration": 12,
    "start_time": "2023-01-19T13:15:55.202Z"
   },
   {
    "duration": 18,
    "start_time": "2023-01-19T13:15:55.216Z"
   },
   {
    "duration": 22,
    "start_time": "2023-01-19T13:15:55.236Z"
   },
   {
    "duration": 56,
    "start_time": "2023-01-19T13:15:55.260Z"
   },
   {
    "duration": 5,
    "start_time": "2023-01-19T13:15:55.318Z"
   },
   {
    "duration": 8,
    "start_time": "2023-01-19T13:15:55.325Z"
   },
   {
    "duration": 16,
    "start_time": "2023-01-19T13:15:55.335Z"
   },
   {
    "duration": 43,
    "start_time": "2023-01-19T13:15:55.353Z"
   },
   {
    "duration": 5,
    "start_time": "2023-01-19T13:15:55.398Z"
   },
   {
    "duration": 26,
    "start_time": "2023-01-19T13:15:55.405Z"
   },
   {
    "duration": 9,
    "start_time": "2023-01-19T13:15:55.433Z"
   },
   {
    "duration": 10,
    "start_time": "2023-01-19T13:15:55.444Z"
   },
   {
    "duration": 29,
    "start_time": "2023-01-19T13:15:55.457Z"
   },
   {
    "duration": 11,
    "start_time": "2023-01-19T13:15:55.489Z"
   },
   {
    "duration": 828,
    "start_time": "2023-01-19T13:15:55.503Z"
   },
   {
    "duration": 20,
    "start_time": "2023-01-19T13:15:56.333Z"
   },
   {
    "duration": 27,
    "start_time": "2023-01-19T13:15:56.356Z"
   },
   {
    "duration": 20,
    "start_time": "2023-01-19T13:15:56.385Z"
   },
   {
    "duration": 8,
    "start_time": "2023-01-19T13:15:56.407Z"
   },
   {
    "duration": 138,
    "start_time": "2023-01-19T13:15:56.417Z"
   },
   {
    "duration": 7,
    "start_time": "2023-01-19T13:15:56.557Z"
   },
   {
    "duration": 13,
    "start_time": "2023-01-19T13:15:56.565Z"
   },
   {
    "duration": 14,
    "start_time": "2023-01-19T13:15:56.580Z"
   },
   {
    "duration": 162,
    "start_time": "2023-01-19T13:15:56.596Z"
   },
   {
    "duration": 163,
    "start_time": "2023-01-19T13:15:56.760Z"
   },
   {
    "duration": 6,
    "start_time": "2023-01-19T13:15:56.925Z"
   },
   {
    "duration": 36,
    "start_time": "2023-01-19T13:15:56.934Z"
   },
   {
    "duration": 19,
    "start_time": "2023-01-19T13:15:56.974Z"
   },
   {
    "duration": 15,
    "start_time": "2023-01-19T13:16:38.053Z"
   },
   {
    "duration": 10,
    "start_time": "2023-01-19T13:16:56.259Z"
   },
   {
    "duration": 7,
    "start_time": "2023-01-19T13:17:10.691Z"
   },
   {
    "duration": 16,
    "start_time": "2023-01-19T13:33:06.683Z"
   },
   {
    "duration": 8,
    "start_time": "2023-01-19T13:33:07.337Z"
   },
   {
    "duration": 20,
    "start_time": "2023-01-19T13:33:23.809Z"
   },
   {
    "duration": 14,
    "start_time": "2023-01-19T13:34:08.566Z"
   },
   {
    "duration": 11,
    "start_time": "2023-01-19T13:36:31.284Z"
   },
   {
    "duration": 14,
    "start_time": "2023-01-19T13:36:33.110Z"
   },
   {
    "duration": 8,
    "start_time": "2023-01-19T13:36:34.369Z"
   },
   {
    "duration": 3,
    "start_time": "2023-01-19T13:36:46.615Z"
   },
   {
    "duration": 9,
    "start_time": "2023-01-19T13:36:49.589Z"
   },
   {
    "duration": 1233,
    "start_time": "2023-01-19T13:46:01.315Z"
   },
   {
    "duration": 17,
    "start_time": "2023-01-19T13:47:37.439Z"
   },
   {
    "duration": 8,
    "start_time": "2023-01-19T13:47:38.295Z"
   },
   {
    "duration": 15,
    "start_time": "2023-01-19T13:47:43.037Z"
   },
   {
    "duration": 16,
    "start_time": "2023-01-19T13:48:03.358Z"
   },
   {
    "duration": 138,
    "start_time": "2023-01-19T13:48:24.142Z"
   },
   {
    "duration": 132,
    "start_time": "2023-01-19T13:48:35.673Z"
   },
   {
    "duration": 121,
    "start_time": "2023-01-19T13:48:40.880Z"
   },
   {
    "duration": 122,
    "start_time": "2023-01-19T13:49:01.009Z"
   },
   {
    "duration": 13,
    "start_time": "2023-01-19T14:19:23.679Z"
   },
   {
    "duration": 19,
    "start_time": "2023-01-19T14:20:34.986Z"
   },
   {
    "duration": 22,
    "start_time": "2023-01-19T14:20:41.642Z"
   },
   {
    "duration": 16,
    "start_time": "2023-01-19T14:20:56.839Z"
   },
   {
    "duration": 18,
    "start_time": "2023-01-19T14:21:08.474Z"
   },
   {
    "duration": 240,
    "start_time": "2023-01-19T14:22:03.635Z"
   },
   {
    "duration": 170,
    "start_time": "2023-01-19T14:22:34.236Z"
   },
   {
    "duration": 160,
    "start_time": "2023-01-19T14:22:42.973Z"
   },
   {
    "duration": 145,
    "start_time": "2023-01-19T14:22:49.473Z"
   },
   {
    "duration": 130,
    "start_time": "2023-01-19T14:37:46.544Z"
   },
   {
    "duration": 13,
    "start_time": "2023-01-19T14:38:33.971Z"
   },
   {
    "duration": 14,
    "start_time": "2023-01-19T14:38:58.797Z"
   },
   {
    "duration": 13,
    "start_time": "2023-01-19T14:39:36.459Z"
   },
   {
    "duration": 121,
    "start_time": "2023-01-19T14:40:07.791Z"
   },
   {
    "duration": 286,
    "start_time": "2023-01-19T14:40:21.635Z"
   },
   {
    "duration": 9,
    "start_time": "2023-01-19T14:40:52.375Z"
   },
   {
    "duration": 350,
    "start_time": "2023-01-19T14:41:26.665Z"
   },
   {
    "duration": 317,
    "start_time": "2023-01-19T14:41:33.413Z"
   },
   {
    "duration": 383,
    "start_time": "2023-01-19T14:41:42.936Z"
   },
   {
    "duration": 301,
    "start_time": "2023-01-19T14:41:54.878Z"
   },
   {
    "duration": 265,
    "start_time": "2023-01-19T14:42:03.778Z"
   },
   {
    "duration": 52,
    "start_time": "2023-01-19T15:30:47.132Z"
   },
   {
    "duration": 1370,
    "start_time": "2023-01-19T15:30:55.433Z"
   },
   {
    "duration": 96,
    "start_time": "2023-01-19T15:30:56.805Z"
   },
   {
    "duration": 19,
    "start_time": "2023-01-19T15:30:56.903Z"
   },
   {
    "duration": 15,
    "start_time": "2023-01-19T15:30:56.924Z"
   },
   {
    "duration": 17,
    "start_time": "2023-01-19T15:30:56.941Z"
   },
   {
    "duration": 24,
    "start_time": "2023-01-19T15:30:56.960Z"
   },
   {
    "duration": 39,
    "start_time": "2023-01-19T15:30:56.986Z"
   },
   {
    "duration": 56,
    "start_time": "2023-01-19T15:30:57.027Z"
   },
   {
    "duration": 11,
    "start_time": "2023-01-19T15:30:57.084Z"
   },
   {
    "duration": 16,
    "start_time": "2023-01-19T15:30:57.097Z"
   },
   {
    "duration": 5,
    "start_time": "2023-01-19T15:30:57.115Z"
   },
   {
    "duration": 10,
    "start_time": "2023-01-19T15:30:57.122Z"
   },
   {
    "duration": 8,
    "start_time": "2023-01-19T15:30:57.134Z"
   },
   {
    "duration": 15,
    "start_time": "2023-01-19T15:30:57.144Z"
   },
   {
    "duration": 10,
    "start_time": "2023-01-19T15:30:57.161Z"
   },
   {
    "duration": 56,
    "start_time": "2023-01-19T15:30:57.173Z"
   },
   {
    "duration": 139,
    "start_time": "2023-01-19T15:30:57.231Z"
   },
   {
    "duration": 68,
    "start_time": "2023-01-19T15:30:57.372Z"
   },
   {
    "duration": 119,
    "start_time": "2023-01-19T15:30:57.443Z"
   },
   {
    "duration": 9,
    "start_time": "2023-01-19T15:30:57.565Z"
   },
   {
    "duration": 28,
    "start_time": "2023-01-19T15:30:57.576Z"
   },
   {
    "duration": 5,
    "start_time": "2023-01-19T15:30:57.606Z"
   },
   {
    "duration": 27,
    "start_time": "2023-01-19T15:30:57.613Z"
   },
   {
    "duration": 133,
    "start_time": "2023-01-19T15:30:57.641Z"
   },
   {
    "duration": 50,
    "start_time": "2023-01-19T15:30:57.776Z"
   },
   {
    "duration": 120,
    "start_time": "2023-01-19T15:30:57.828Z"
   },
   {
    "duration": 9,
    "start_time": "2023-01-19T15:30:57.950Z"
   },
   {
    "duration": 10,
    "start_time": "2023-01-19T15:30:57.963Z"
   },
   {
    "duration": 30,
    "start_time": "2023-01-19T15:30:57.975Z"
   },
   {
    "duration": 22,
    "start_time": "2023-01-19T15:30:58.007Z"
   },
   {
    "duration": 124,
    "start_time": "2023-01-19T15:30:58.031Z"
   },
   {
    "duration": 51,
    "start_time": "2023-01-19T15:30:58.157Z"
   },
   {
    "duration": 122,
    "start_time": "2023-01-19T15:30:58.210Z"
   },
   {
    "duration": 11,
    "start_time": "2023-01-19T15:30:58.334Z"
   },
   {
    "duration": 13,
    "start_time": "2023-01-19T15:30:58.347Z"
   },
   {
    "duration": 6,
    "start_time": "2023-01-19T15:30:58.362Z"
   },
   {
    "duration": 49,
    "start_time": "2023-01-19T15:30:58.370Z"
   },
   {
    "duration": 124,
    "start_time": "2023-01-19T15:30:58.421Z"
   },
   {
    "duration": 37,
    "start_time": "2023-01-19T15:30:58.547Z"
   },
   {
    "duration": 216,
    "start_time": "2023-01-19T15:30:58.586Z"
   },
   {
    "duration": 9,
    "start_time": "2023-01-19T15:30:58.804Z"
   },
   {
    "duration": 10,
    "start_time": "2023-01-19T15:30:58.815Z"
   },
   {
    "duration": 6,
    "start_time": "2023-01-19T15:30:58.827Z"
   },
   {
    "duration": 24,
    "start_time": "2023-01-19T15:30:58.835Z"
   },
   {
    "duration": 5,
    "start_time": "2023-01-19T15:30:58.861Z"
   },
   {
    "duration": 38,
    "start_time": "2023-01-19T15:30:58.867Z"
   },
   {
    "duration": 25,
    "start_time": "2023-01-19T15:30:58.907Z"
   },
   {
    "duration": 24,
    "start_time": "2023-01-19T15:30:58.934Z"
   },
   {
    "duration": 10,
    "start_time": "2023-01-19T15:30:58.960Z"
   },
   {
    "duration": 16,
    "start_time": "2023-01-19T15:30:58.972Z"
   },
   {
    "duration": 18,
    "start_time": "2023-01-19T15:30:58.990Z"
   },
   {
    "duration": 11,
    "start_time": "2023-01-19T15:30:59.010Z"
   },
   {
    "duration": 32,
    "start_time": "2023-01-19T15:30:59.023Z"
   },
   {
    "duration": 10,
    "start_time": "2023-01-19T15:30:59.057Z"
   },
   {
    "duration": 765,
    "start_time": "2023-01-19T15:30:59.069Z"
   },
   {
    "duration": 7,
    "start_time": "2023-01-19T15:30:59.836Z"
   },
   {
    "duration": 20,
    "start_time": "2023-01-19T15:30:59.844Z"
   },
   {
    "duration": 17,
    "start_time": "2023-01-19T15:30:59.865Z"
   },
   {
    "duration": 19,
    "start_time": "2023-01-19T15:30:59.884Z"
   },
   {
    "duration": 104,
    "start_time": "2023-01-19T15:30:59.905Z"
   },
   {
    "duration": 6,
    "start_time": "2023-01-19T15:31:00.011Z"
   },
   {
    "duration": 19,
    "start_time": "2023-01-19T15:31:00.019Z"
   },
   {
    "duration": 18,
    "start_time": "2023-01-19T15:31:00.040Z"
   },
   {
    "duration": 169,
    "start_time": "2023-01-19T15:31:00.061Z"
   },
   {
    "duration": 156,
    "start_time": "2023-01-19T15:31:00.232Z"
   },
   {
    "duration": 15,
    "start_time": "2023-01-19T15:31:00.390Z"
   },
   {
    "duration": 33,
    "start_time": "2023-01-19T15:31:00.406Z"
   },
   {
    "duration": 33,
    "start_time": "2023-01-19T15:31:00.441Z"
   },
   {
    "duration": 28,
    "start_time": "2023-01-19T15:31:00.476Z"
   },
   {
    "duration": 318,
    "start_time": "2023-01-19T15:31:00.506Z"
   },
   {
    "duration": 14,
    "start_time": "2023-01-19T15:31:00.826Z"
   },
   {
    "duration": 34,
    "start_time": "2023-01-19T15:31:00.842Z"
   },
   {
    "duration": 350,
    "start_time": "2023-01-19T15:31:00.878Z"
   },
   {
    "duration": 16,
    "start_time": "2023-01-19T15:31:01.230Z"
   },
   {
    "duration": 55,
    "start_time": "2023-01-19T15:31:01.251Z"
   },
   {
    "duration": 413,
    "start_time": "2023-01-19T15:31:01.308Z"
   },
   {
    "duration": 18,
    "start_time": "2023-01-19T15:36:16.542Z"
   },
   {
    "duration": 92,
    "start_time": "2023-01-19T15:36:55.894Z"
   },
   {
    "duration": 18,
    "start_time": "2023-01-19T15:37:03.490Z"
   },
   {
    "duration": 12,
    "start_time": "2023-01-19T15:37:42.581Z"
   },
   {
    "duration": 8,
    "start_time": "2023-01-19T15:37:51.807Z"
   },
   {
    "duration": 13,
    "start_time": "2023-01-19T15:38:18.916Z"
   },
   {
    "duration": 9,
    "start_time": "2023-01-19T15:38:19.682Z"
   },
   {
    "duration": 14,
    "start_time": "2023-01-19T15:39:02.854Z"
   },
   {
    "duration": 11,
    "start_time": "2023-01-19T15:39:05.600Z"
   },
   {
    "duration": 21,
    "start_time": "2023-01-19T15:40:19.140Z"
   },
   {
    "duration": 16,
    "start_time": "2023-01-19T15:40:19.858Z"
   },
   {
    "duration": 16,
    "start_time": "2023-01-19T15:40:25.541Z"
   },
   {
    "duration": 13,
    "start_time": "2023-01-19T15:40:31.798Z"
   },
   {
    "duration": 78,
    "start_time": "2023-01-19T15:44:24.476Z"
   },
   {
    "duration": 29,
    "start_time": "2023-01-19T15:44:40.299Z"
   },
   {
    "duration": 430,
    "start_time": "2023-01-19T15:46:57.784Z"
   },
   {
    "duration": 729,
    "start_time": "2023-01-19T15:47:16.584Z"
   },
   {
    "duration": 454,
    "start_time": "2023-01-19T15:47:35.295Z"
   },
   {
    "duration": 1026,
    "start_time": "2023-01-19T15:48:02.409Z"
   },
   {
    "duration": 1326,
    "start_time": "2023-01-19T15:48:15.582Z"
   },
   {
    "duration": 9,
    "start_time": "2023-01-19T16:56:18.683Z"
   },
   {
    "duration": 7,
    "start_time": "2023-01-19T16:56:38.682Z"
   },
   {
    "duration": 9,
    "start_time": "2023-01-19T16:56:51.297Z"
   },
   {
    "duration": 13,
    "start_time": "2023-01-19T16:58:03.550Z"
   },
   {
    "duration": 12,
    "start_time": "2023-01-19T16:58:13.423Z"
   },
   {
    "duration": 15,
    "start_time": "2023-01-19T16:58:22.002Z"
   },
   {
    "duration": 17,
    "start_time": "2023-01-19T16:58:34.299Z"
   },
   {
    "duration": 19,
    "start_time": "2023-01-19T16:59:24.109Z"
   },
   {
    "duration": 20,
    "start_time": "2023-01-19T16:59:54.282Z"
   },
   {
    "duration": 18,
    "start_time": "2023-01-19T17:00:04.556Z"
   },
   {
    "duration": 16,
    "start_time": "2023-01-19T17:02:26.546Z"
   },
   {
    "duration": 18,
    "start_time": "2023-01-19T17:03:00.419Z"
   },
   {
    "duration": 17,
    "start_time": "2023-01-19T17:03:01.439Z"
   },
   {
    "duration": 5,
    "start_time": "2023-01-19T17:47:17.237Z"
   },
   {
    "duration": 5,
    "start_time": "2023-01-19T17:47:23.932Z"
   },
   {
    "duration": 89,
    "start_time": "2023-01-19T17:52:39.402Z"
   },
   {
    "duration": 17,
    "start_time": "2023-01-19T17:58:07.195Z"
   },
   {
    "duration": 12,
    "start_time": "2023-01-19T17:58:07.828Z"
   },
   {
    "duration": 16,
    "start_time": "2023-01-19T17:58:25.205Z"
   },
   {
    "duration": 11,
    "start_time": "2023-01-19T17:58:29.812Z"
   },
   {
    "duration": 346,
    "start_time": "2023-01-19T18:01:07.117Z"
   },
   {
    "duration": 385,
    "start_time": "2023-01-19T18:01:30.509Z"
   },
   {
    "duration": 367,
    "start_time": "2023-01-19T18:03:24.183Z"
   },
   {
    "duration": 294,
    "start_time": "2023-01-19T18:04:08.129Z"
   },
   {
    "duration": 314,
    "start_time": "2023-01-19T18:04:44.696Z"
   },
   {
    "duration": 1545,
    "start_time": "2023-01-19T18:07:43.742Z"
   },
   {
    "duration": 3,
    "start_time": "2023-01-19T18:09:14.107Z"
   },
   {
    "duration": 96,
    "start_time": "2023-01-19T18:09:14.113Z"
   },
   {
    "duration": 16,
    "start_time": "2023-01-19T18:09:14.212Z"
   },
   {
    "duration": 38,
    "start_time": "2023-01-19T18:09:14.229Z"
   },
   {
    "duration": 17,
    "start_time": "2023-01-19T18:09:14.270Z"
   },
   {
    "duration": 32,
    "start_time": "2023-01-19T18:09:14.290Z"
   },
   {
    "duration": 27,
    "start_time": "2023-01-19T18:09:14.323Z"
   },
   {
    "duration": 30,
    "start_time": "2023-01-19T18:09:14.351Z"
   },
   {
    "duration": 31,
    "start_time": "2023-01-19T18:09:14.383Z"
   },
   {
    "duration": 16,
    "start_time": "2023-01-19T18:09:14.415Z"
   },
   {
    "duration": 20,
    "start_time": "2023-01-19T18:09:14.434Z"
   },
   {
    "duration": 30,
    "start_time": "2023-01-19T18:09:14.456Z"
   },
   {
    "duration": 24,
    "start_time": "2023-01-19T18:09:14.488Z"
   },
   {
    "duration": 20,
    "start_time": "2023-01-19T18:09:14.513Z"
   },
   {
    "duration": 19,
    "start_time": "2023-01-19T18:09:14.534Z"
   },
   {
    "duration": 44,
    "start_time": "2023-01-19T18:09:14.555Z"
   },
   {
    "duration": 106,
    "start_time": "2023-01-19T18:09:14.600Z"
   },
   {
    "duration": 35,
    "start_time": "2023-01-19T18:09:14.707Z"
   },
   {
    "duration": 121,
    "start_time": "2023-01-19T18:09:14.744Z"
   },
   {
    "duration": 8,
    "start_time": "2023-01-19T18:09:14.867Z"
   },
   {
    "duration": 16,
    "start_time": "2023-01-19T18:09:14.876Z"
   },
   {
    "duration": 17,
    "start_time": "2023-01-19T18:09:14.893Z"
   },
   {
    "duration": 61,
    "start_time": "2023-01-19T18:09:14.911Z"
   },
   {
    "duration": 136,
    "start_time": "2023-01-19T18:09:14.974Z"
   },
   {
    "duration": 39,
    "start_time": "2023-01-19T18:09:15.111Z"
   },
   {
    "duration": 127,
    "start_time": "2023-01-19T18:09:15.152Z"
   },
   {
    "duration": 9,
    "start_time": "2023-01-19T18:09:15.281Z"
   },
   {
    "duration": 40,
    "start_time": "2023-01-19T18:09:15.292Z"
   },
   {
    "duration": 12,
    "start_time": "2023-01-19T18:09:15.336Z"
   },
   {
    "duration": 43,
    "start_time": "2023-01-19T18:09:15.350Z"
   },
   {
    "duration": 102,
    "start_time": "2023-01-19T18:09:15.395Z"
   },
   {
    "duration": 36,
    "start_time": "2023-01-19T18:09:15.502Z"
   },
   {
    "duration": 119,
    "start_time": "2023-01-19T18:09:15.539Z"
   },
   {
    "duration": 9,
    "start_time": "2023-01-19T18:09:15.660Z"
   },
   {
    "duration": 22,
    "start_time": "2023-01-19T18:09:15.670Z"
   },
   {
    "duration": 27,
    "start_time": "2023-01-19T18:09:15.693Z"
   },
   {
    "duration": 31,
    "start_time": "2023-01-19T18:09:15.721Z"
   },
   {
    "duration": 108,
    "start_time": "2023-01-19T18:09:15.754Z"
   },
   {
    "duration": 41,
    "start_time": "2023-01-19T18:09:15.864Z"
   },
   {
    "duration": 124,
    "start_time": "2023-01-19T18:09:15.906Z"
   },
   {
    "duration": 9,
    "start_time": "2023-01-19T18:09:16.031Z"
   },
   {
    "duration": 41,
    "start_time": "2023-01-19T18:09:16.041Z"
   },
   {
    "duration": 24,
    "start_time": "2023-01-19T18:09:16.084Z"
   },
   {
    "duration": 29,
    "start_time": "2023-01-19T18:09:16.110Z"
   },
   {
    "duration": 11,
    "start_time": "2023-01-19T18:09:16.140Z"
   },
   {
    "duration": 17,
    "start_time": "2023-01-19T18:09:16.153Z"
   },
   {
    "duration": 22,
    "start_time": "2023-01-19T18:09:16.171Z"
   },
   {
    "duration": 26,
    "start_time": "2023-01-19T18:09:16.194Z"
   },
   {
    "duration": 5,
    "start_time": "2023-01-19T18:09:16.222Z"
   },
   {
    "duration": 15,
    "start_time": "2023-01-19T18:09:16.228Z"
   },
   {
    "duration": 6,
    "start_time": "2023-01-19T18:09:16.245Z"
   },
   {
    "duration": 9,
    "start_time": "2023-01-19T18:09:16.253Z"
   },
   {
    "duration": 20,
    "start_time": "2023-01-19T18:09:16.263Z"
   },
   {
    "duration": 20,
    "start_time": "2023-01-19T18:09:16.284Z"
   },
   {
    "duration": 805,
    "start_time": "2023-01-19T18:09:16.305Z"
   },
   {
    "duration": 6,
    "start_time": "2023-01-19T18:09:17.112Z"
   },
   {
    "duration": 17,
    "start_time": "2023-01-19T18:09:17.120Z"
   },
   {
    "duration": 13,
    "start_time": "2023-01-19T18:09:17.139Z"
   },
   {
    "duration": 7,
    "start_time": "2023-01-19T18:09:17.154Z"
   },
   {
    "duration": 122,
    "start_time": "2023-01-19T18:09:17.163Z"
   },
   {
    "duration": 16,
    "start_time": "2023-01-19T18:09:17.287Z"
   },
   {
    "duration": 5,
    "start_time": "2023-01-19T18:09:17.304Z"
   },
   {
    "duration": 6,
    "start_time": "2023-01-19T18:09:17.311Z"
   },
   {
    "duration": 156,
    "start_time": "2023-01-19T18:09:17.318Z"
   },
   {
    "duration": 151,
    "start_time": "2023-01-19T18:09:17.476Z"
   },
   {
    "duration": 6,
    "start_time": "2023-01-19T18:09:17.629Z"
   },
   {
    "duration": 16,
    "start_time": "2023-01-19T18:09:17.636Z"
   },
   {
    "duration": 12,
    "start_time": "2023-01-19T18:09:17.653Z"
   },
   {
    "duration": 8,
    "start_time": "2023-01-19T18:09:17.667Z"
   },
   {
    "duration": 303,
    "start_time": "2023-01-19T18:09:17.704Z"
   },
   {
    "duration": 11,
    "start_time": "2023-01-19T18:09:18.009Z"
   },
   {
    "duration": 9,
    "start_time": "2023-01-19T18:09:18.022Z"
   },
   {
    "duration": 321,
    "start_time": "2023-01-19T18:09:18.032Z"
   },
   {
    "duration": 12,
    "start_time": "2023-01-19T18:09:18.354Z"
   },
   {
    "duration": 7,
    "start_time": "2023-01-19T18:09:18.367Z"
   },
   {
    "duration": 305,
    "start_time": "2023-01-19T18:09:18.376Z"
   },
   {
    "duration": 23,
    "start_time": "2023-01-19T18:09:18.682Z"
   },
   {
    "duration": 15,
    "start_time": "2023-01-19T18:09:18.707Z"
   },
   {
    "duration": 16,
    "start_time": "2023-01-19T18:09:18.724Z"
   },
   {
    "duration": 20,
    "start_time": "2023-01-19T18:09:18.742Z"
   },
   {
    "duration": 11,
    "start_time": "2023-01-19T18:09:18.764Z"
   },
   {
    "duration": 1410,
    "start_time": "2023-01-19T18:09:18.776Z"
   },
   {
    "duration": 15,
    "start_time": "2023-01-19T18:10:22.637Z"
   },
   {
    "duration": 15,
    "start_time": "2023-01-19T18:10:23.260Z"
   },
   {
    "duration": 14,
    "start_time": "2023-01-19T18:10:42.278Z"
   },
   {
    "duration": 13,
    "start_time": "2023-01-19T18:10:48.569Z"
   },
   {
    "duration": 162,
    "start_time": "2023-01-19T18:13:04.158Z"
   },
   {
    "duration": 117,
    "start_time": "2023-01-19T18:14:04.230Z"
   },
   {
    "duration": 115,
    "start_time": "2023-01-19T18:14:59.039Z"
   },
   {
    "duration": 135,
    "start_time": "2023-01-19T18:15:22.085Z"
   },
   {
    "duration": 129,
    "start_time": "2023-01-19T18:15:37.718Z"
   },
   {
    "duration": 140,
    "start_time": "2023-01-19T18:15:44.070Z"
   },
   {
    "duration": 121,
    "start_time": "2023-01-19T18:15:50.832Z"
   },
   {
    "duration": 12,
    "start_time": "2023-01-19T19:19:48.980Z"
   },
   {
    "duration": 10,
    "start_time": "2023-01-19T19:19:49.672Z"
   },
   {
    "duration": 1405,
    "start_time": "2023-01-19T19:20:12.019Z"
   },
   {
    "duration": 1430,
    "start_time": "2023-01-19T19:20:41.257Z"
   },
   {
    "duration": 462,
    "start_time": "2023-01-19T19:22:32.288Z"
   },
   {
    "duration": 1263,
    "start_time": "2023-01-19T19:24:16.361Z"
   },
   {
    "duration": 1331,
    "start_time": "2023-01-19T19:24:27.174Z"
   },
   {
    "duration": 939,
    "start_time": "2023-01-19T19:25:26.836Z"
   },
   {
    "duration": 1059,
    "start_time": "2023-01-19T19:26:49.984Z"
   },
   {
    "duration": 1034,
    "start_time": "2023-01-19T19:27:14.104Z"
   },
   {
    "duration": 1070,
    "start_time": "2023-01-19T19:27:20.271Z"
   },
   {
    "duration": 444,
    "start_time": "2023-01-19T19:27:33.459Z"
   },
   {
    "duration": 1048,
    "start_time": "2023-01-19T19:27:45.046Z"
   },
   {
    "duration": 908,
    "start_time": "2023-01-19T19:27:52.021Z"
   },
   {
    "duration": 1043,
    "start_time": "2023-01-19T19:27:57.932Z"
   },
   {
    "duration": 908,
    "start_time": "2023-01-19T19:28:02.954Z"
   },
   {
    "duration": 1046,
    "start_time": "2023-01-19T19:28:09.405Z"
   },
   {
    "duration": 910,
    "start_time": "2023-01-19T19:28:27.447Z"
   },
   {
    "duration": 1066,
    "start_time": "2023-01-19T19:29:04.732Z"
   },
   {
    "duration": 45,
    "start_time": "2023-01-20T11:35:12.028Z"
   },
   {
    "duration": 1308,
    "start_time": "2023-01-20T11:35:19.802Z"
   },
   {
    "duration": 92,
    "start_time": "2023-01-20T11:35:21.111Z"
   },
   {
    "duration": 17,
    "start_time": "2023-01-20T11:35:21.205Z"
   },
   {
    "duration": 46,
    "start_time": "2023-01-20T11:35:21.223Z"
   },
   {
    "duration": 49,
    "start_time": "2023-01-20T11:35:21.272Z"
   },
   {
    "duration": 61,
    "start_time": "2023-01-20T11:35:21.322Z"
   },
   {
    "duration": 48,
    "start_time": "2023-01-20T11:35:21.384Z"
   },
   {
    "duration": 99,
    "start_time": "2023-01-20T11:35:21.434Z"
   },
   {
    "duration": 9,
    "start_time": "2023-01-20T11:35:21.534Z"
   },
   {
    "duration": 46,
    "start_time": "2023-01-20T11:35:21.545Z"
   },
   {
    "duration": 54,
    "start_time": "2023-01-20T11:35:21.593Z"
   },
   {
    "duration": 43,
    "start_time": "2023-01-20T11:35:21.649Z"
   },
   {
    "duration": 39,
    "start_time": "2023-01-20T11:35:21.693Z"
   },
   {
    "duration": 54,
    "start_time": "2023-01-20T11:35:21.736Z"
   },
   {
    "duration": 33,
    "start_time": "2023-01-20T11:35:21.791Z"
   },
   {
    "duration": 74,
    "start_time": "2023-01-20T11:35:21.826Z"
   },
   {
    "duration": 155,
    "start_time": "2023-01-20T11:35:21.901Z"
   },
   {
    "duration": 40,
    "start_time": "2023-01-20T11:35:22.058Z"
   },
   {
    "duration": 122,
    "start_time": "2023-01-20T11:35:22.100Z"
   },
   {
    "duration": 8,
    "start_time": "2023-01-20T11:35:22.224Z"
   },
   {
    "duration": 88,
    "start_time": "2023-01-20T11:35:22.234Z"
   },
   {
    "duration": 55,
    "start_time": "2023-01-20T11:35:22.324Z"
   },
   {
    "duration": 95,
    "start_time": "2023-01-20T11:35:22.381Z"
   },
   {
    "duration": 152,
    "start_time": "2023-01-20T11:35:22.478Z"
   },
   {
    "duration": 34,
    "start_time": "2023-01-20T11:35:22.632Z"
   },
   {
    "duration": 111,
    "start_time": "2023-01-20T11:35:22.669Z"
   },
   {
    "duration": 13,
    "start_time": "2023-01-20T11:35:22.781Z"
   },
   {
    "duration": 31,
    "start_time": "2023-01-20T11:35:22.795Z"
   },
   {
    "duration": 42,
    "start_time": "2023-01-20T11:35:22.827Z"
   },
   {
    "duration": 44,
    "start_time": "2023-01-20T11:35:22.870Z"
   },
   {
    "duration": 148,
    "start_time": "2023-01-20T11:35:22.916Z"
   },
   {
    "duration": 41,
    "start_time": "2023-01-20T11:35:23.066Z"
   },
   {
    "duration": 111,
    "start_time": "2023-01-20T11:35:23.109Z"
   },
   {
    "duration": 10,
    "start_time": "2023-01-20T11:35:23.222Z"
   },
   {
    "duration": 36,
    "start_time": "2023-01-20T11:35:23.234Z"
   },
   {
    "duration": 11,
    "start_time": "2023-01-20T11:35:23.272Z"
   },
   {
    "duration": 45,
    "start_time": "2023-01-20T11:35:23.284Z"
   },
   {
    "duration": 100,
    "start_time": "2023-01-20T11:35:23.330Z"
   },
   {
    "duration": 33,
    "start_time": "2023-01-20T11:35:23.431Z"
   },
   {
    "duration": 191,
    "start_time": "2023-01-20T11:35:23.465Z"
   },
   {
    "duration": 8,
    "start_time": "2023-01-20T11:35:23.660Z"
   },
   {
    "duration": 31,
    "start_time": "2023-01-20T11:35:23.669Z"
   },
   {
    "duration": 7,
    "start_time": "2023-01-20T11:35:23.701Z"
   },
   {
    "duration": 46,
    "start_time": "2023-01-20T11:35:23.709Z"
   },
   {
    "duration": 5,
    "start_time": "2023-01-20T11:35:23.757Z"
   },
   {
    "duration": 26,
    "start_time": "2023-01-20T11:35:23.763Z"
   },
   {
    "duration": 43,
    "start_time": "2023-01-20T11:35:23.790Z"
   },
   {
    "duration": 48,
    "start_time": "2023-01-20T11:35:23.835Z"
   },
   {
    "duration": 30,
    "start_time": "2023-01-20T11:35:23.885Z"
   },
   {
    "duration": 34,
    "start_time": "2023-01-20T11:35:23.916Z"
   },
   {
    "duration": 37,
    "start_time": "2023-01-20T11:35:23.952Z"
   },
   {
    "duration": 40,
    "start_time": "2023-01-20T11:35:23.991Z"
   },
   {
    "duration": 49,
    "start_time": "2023-01-20T11:35:24.033Z"
   },
   {
    "duration": 42,
    "start_time": "2023-01-20T11:35:24.084Z"
   },
   {
    "duration": 763,
    "start_time": "2023-01-20T11:35:24.128Z"
   },
   {
    "duration": 6,
    "start_time": "2023-01-20T11:35:24.893Z"
   },
   {
    "duration": 47,
    "start_time": "2023-01-20T11:35:24.900Z"
   },
   {
    "duration": 41,
    "start_time": "2023-01-20T11:35:24.948Z"
   },
   {
    "duration": 56,
    "start_time": "2023-01-20T11:35:24.990Z"
   },
   {
    "duration": 132,
    "start_time": "2023-01-20T11:35:25.048Z"
   },
   {
    "duration": 6,
    "start_time": "2023-01-20T11:35:25.182Z"
   },
   {
    "duration": 47,
    "start_time": "2023-01-20T11:35:25.193Z"
   },
   {
    "duration": 40,
    "start_time": "2023-01-20T11:35:25.242Z"
   },
   {
    "duration": 164,
    "start_time": "2023-01-20T11:35:25.284Z"
   },
   {
    "duration": 143,
    "start_time": "2023-01-20T11:35:25.449Z"
   },
   {
    "duration": 6,
    "start_time": "2023-01-20T11:35:25.594Z"
   },
   {
    "duration": 52,
    "start_time": "2023-01-20T11:35:25.602Z"
   },
   {
    "duration": 60,
    "start_time": "2023-01-20T11:35:25.656Z"
   },
   {
    "duration": 24,
    "start_time": "2023-01-20T11:35:25.718Z"
   },
   {
    "duration": 299,
    "start_time": "2023-01-20T11:35:25.744Z"
   },
   {
    "duration": 12,
    "start_time": "2023-01-20T11:35:26.045Z"
   },
   {
    "duration": 34,
    "start_time": "2023-01-20T11:35:26.059Z"
   },
   {
    "duration": 322,
    "start_time": "2023-01-20T11:35:26.095Z"
   },
   {
    "duration": 11,
    "start_time": "2023-01-20T11:35:26.418Z"
   },
   {
    "duration": 65,
    "start_time": "2023-01-20T11:35:26.431Z"
   },
   {
    "duration": 410,
    "start_time": "2023-01-20T11:35:26.497Z"
   },
   {
    "duration": 127,
    "start_time": "2023-01-20T11:35:26.909Z"
   },
   {
    "duration": 124,
    "start_time": "2023-01-20T11:35:27.038Z"
   },
   {
    "duration": 149,
    "start_time": "2023-01-20T11:35:27.164Z"
   },
   {
    "duration": 13,
    "start_time": "2023-01-20T11:35:27.314Z"
   },
   {
    "duration": 70,
    "start_time": "2023-01-20T11:35:27.328Z"
   },
   {
    "duration": 934,
    "start_time": "2023-01-20T11:35:27.400Z"
   },
   {
    "duration": 14,
    "start_time": "2023-01-20T11:35:28.336Z"
   },
   {
    "duration": 21,
    "start_time": "2023-01-20T11:35:49.846Z"
   },
   {
    "duration": 6,
    "start_time": "2023-01-20T11:36:16.139Z"
   },
   {
    "duration": 10,
    "start_time": "2023-01-20T11:39:41.732Z"
   },
   {
    "duration": 20,
    "start_time": "2023-01-20T11:39:48.560Z"
   },
   {
    "duration": 8,
    "start_time": "2023-01-20T11:40:10.029Z"
   },
   {
    "duration": 8,
    "start_time": "2023-01-20T11:40:21.847Z"
   },
   {
    "duration": 10,
    "start_time": "2023-01-20T11:40:34.094Z"
   },
   {
    "duration": 6,
    "start_time": "2023-01-20T11:40:46.195Z"
   },
   {
    "duration": 7,
    "start_time": "2023-01-20T11:40:59.823Z"
   },
   {
    "duration": 10,
    "start_time": "2023-01-20T11:41:05.281Z"
   },
   {
    "duration": 7,
    "start_time": "2023-01-20T11:41:09.814Z"
   },
   {
    "duration": 6,
    "start_time": "2023-01-20T11:48:07.590Z"
   },
   {
    "duration": 6,
    "start_time": "2023-01-20T11:48:08.214Z"
   },
   {
    "duration": 5,
    "start_time": "2023-01-20T11:48:08.826Z"
   },
   {
    "duration": 7,
    "start_time": "2023-01-20T11:49:06.815Z"
   },
   {
    "duration": 8,
    "start_time": "2023-01-20T11:49:07.373Z"
   },
   {
    "duration": 4,
    "start_time": "2023-01-20T11:49:19.620Z"
   },
   {
    "duration": 4,
    "start_time": "2023-01-20T11:49:31.264Z"
   },
   {
    "duration": 5,
    "start_time": "2023-01-20T11:50:00.342Z"
   },
   {
    "duration": 61,
    "start_time": "2023-01-20T11:50:12.957Z"
   },
   {
    "duration": 4,
    "start_time": "2023-01-20T11:50:20.131Z"
   },
   {
    "duration": 6,
    "start_time": "2023-01-20T11:51:51.865Z"
   },
   {
    "duration": 6,
    "start_time": "2023-01-20T11:51:52.573Z"
   },
   {
    "duration": 5,
    "start_time": "2023-01-20T11:51:53.595Z"
   },
   {
    "duration": 6,
    "start_time": "2023-01-20T11:59:41.794Z"
   },
   {
    "duration": 6,
    "start_time": "2023-01-20T11:59:47.206Z"
   },
   {
    "duration": 9,
    "start_time": "2023-01-20T11:59:47.853Z"
   },
   {
    "duration": 6,
    "start_time": "2023-01-20T12:00:04.044Z"
   },
   {
    "duration": 8,
    "start_time": "2023-01-20T12:00:40.115Z"
   },
   {
    "duration": 7,
    "start_time": "2023-01-20T12:00:51.869Z"
   },
   {
    "duration": 1528,
    "start_time": "2023-01-20T19:44:46.039Z"
   },
   {
    "duration": 107,
    "start_time": "2023-01-20T19:44:47.570Z"
   },
   {
    "duration": 20,
    "start_time": "2023-01-20T19:44:47.679Z"
   },
   {
    "duration": 23,
    "start_time": "2023-01-20T19:44:47.702Z"
   },
   {
    "duration": 3,
    "start_time": "2023-01-20T19:44:47.727Z"
   },
   {
    "duration": 13,
    "start_time": "2023-01-20T19:44:47.732Z"
   },
   {
    "duration": 14,
    "start_time": "2023-01-20T19:44:47.747Z"
   },
   {
    "duration": 60,
    "start_time": "2023-01-20T19:44:47.785Z"
   },
   {
    "duration": 11,
    "start_time": "2023-01-20T19:44:47.847Z"
   },
   {
    "duration": 28,
    "start_time": "2023-01-20T19:44:47.861Z"
   },
   {
    "duration": 6,
    "start_time": "2023-01-20T19:44:47.891Z"
   },
   {
    "duration": 11,
    "start_time": "2023-01-20T19:44:47.899Z"
   },
   {
    "duration": 6,
    "start_time": "2023-01-20T19:44:47.912Z"
   },
   {
    "duration": 11,
    "start_time": "2023-01-20T19:44:47.920Z"
   },
   {
    "duration": 6,
    "start_time": "2023-01-20T19:44:47.933Z"
   },
   {
    "duration": 62,
    "start_time": "2023-01-20T19:44:47.940Z"
   },
   {
    "duration": 135,
    "start_time": "2023-01-20T19:44:48.003Z"
   },
   {
    "duration": 49,
    "start_time": "2023-01-20T19:44:48.139Z"
   },
   {
    "duration": 127,
    "start_time": "2023-01-20T19:44:48.190Z"
   },
   {
    "duration": 10,
    "start_time": "2023-01-20T19:44:48.319Z"
   },
   {
    "duration": 13,
    "start_time": "2023-01-20T19:44:48.331Z"
   },
   {
    "duration": 8,
    "start_time": "2023-01-20T19:44:48.346Z"
   },
   {
    "duration": 50,
    "start_time": "2023-01-20T19:44:48.356Z"
   },
   {
    "duration": 138,
    "start_time": "2023-01-20T19:44:48.408Z"
   },
   {
    "duration": 58,
    "start_time": "2023-01-20T19:44:48.549Z"
   },
   {
    "duration": 130,
    "start_time": "2023-01-20T19:44:48.609Z"
   },
   {
    "duration": 11,
    "start_time": "2023-01-20T19:44:48.741Z"
   },
   {
    "duration": 31,
    "start_time": "2023-01-20T19:44:48.757Z"
   },
   {
    "duration": 6,
    "start_time": "2023-01-20T19:44:48.790Z"
   },
   {
    "duration": 23,
    "start_time": "2023-01-20T19:44:48.798Z"
   },
   {
    "duration": 136,
    "start_time": "2023-01-20T19:44:48.823Z"
   },
   {
    "duration": 52,
    "start_time": "2023-01-20T19:44:48.961Z"
   },
   {
    "duration": 127,
    "start_time": "2023-01-20T19:44:49.015Z"
   },
   {
    "duration": 10,
    "start_time": "2023-01-20T19:44:49.144Z"
   },
   {
    "duration": 29,
    "start_time": "2023-01-20T19:44:49.156Z"
   },
   {
    "duration": 7,
    "start_time": "2023-01-20T19:44:49.187Z"
   },
   {
    "duration": 54,
    "start_time": "2023-01-20T19:44:49.195Z"
   },
   {
    "duration": 123,
    "start_time": "2023-01-20T19:44:49.250Z"
   },
   {
    "duration": 39,
    "start_time": "2023-01-20T19:44:49.375Z"
   },
   {
    "duration": 254,
    "start_time": "2023-01-20T19:44:49.416Z"
   },
   {
    "duration": 16,
    "start_time": "2023-01-20T19:44:49.673Z"
   },
   {
    "duration": 18,
    "start_time": "2023-01-20T19:44:49.691Z"
   },
   {
    "duration": 7,
    "start_time": "2023-01-20T19:44:49.711Z"
   },
   {
    "duration": 40,
    "start_time": "2023-01-20T19:44:49.720Z"
   },
   {
    "duration": 27,
    "start_time": "2023-01-20T19:44:49.761Z"
   },
   {
    "duration": 19,
    "start_time": "2023-01-20T19:44:49.790Z"
   },
   {
    "duration": 26,
    "start_time": "2023-01-20T19:44:49.811Z"
   },
   {
    "duration": 29,
    "start_time": "2023-01-20T19:44:49.840Z"
   },
   {
    "duration": 21,
    "start_time": "2023-01-20T19:44:49.872Z"
   },
   {
    "duration": 21,
    "start_time": "2023-01-20T19:44:49.895Z"
   },
   {
    "duration": 9,
    "start_time": "2023-01-20T19:44:49.918Z"
   },
   {
    "duration": 22,
    "start_time": "2023-01-20T19:44:49.930Z"
   },
   {
    "duration": 27,
    "start_time": "2023-01-20T19:44:49.954Z"
   },
   {
    "duration": 10,
    "start_time": "2023-01-20T19:44:49.983Z"
   },
   {
    "duration": 836,
    "start_time": "2023-01-20T19:44:49.995Z"
   },
   {
    "duration": 7,
    "start_time": "2023-01-20T19:44:50.833Z"
   },
   {
    "duration": 16,
    "start_time": "2023-01-20T19:44:50.842Z"
   },
   {
    "duration": 33,
    "start_time": "2023-01-20T19:44:50.860Z"
   },
   {
    "duration": 8,
    "start_time": "2023-01-20T19:44:50.895Z"
   },
   {
    "duration": 136,
    "start_time": "2023-01-20T19:44:50.905Z"
   },
   {
    "duration": 8,
    "start_time": "2023-01-20T19:44:51.043Z"
   },
   {
    "duration": 9,
    "start_time": "2023-01-20T19:44:51.053Z"
   },
   {
    "duration": 23,
    "start_time": "2023-01-20T19:44:51.064Z"
   },
   {
    "duration": 211,
    "start_time": "2023-01-20T19:44:51.090Z"
   },
   {
    "duration": 174,
    "start_time": "2023-01-20T19:44:51.303Z"
   },
   {
    "duration": 11,
    "start_time": "2023-01-20T19:44:51.479Z"
   },
   {
    "duration": 23,
    "start_time": "2023-01-20T19:44:51.492Z"
   },
   {
    "duration": 15,
    "start_time": "2023-01-20T19:44:51.517Z"
   },
   {
    "duration": 16,
    "start_time": "2023-01-20T19:44:51.534Z"
   },
   {
    "duration": 384,
    "start_time": "2023-01-20T19:44:51.552Z"
   },
   {
    "duration": 14,
    "start_time": "2023-01-20T19:44:51.939Z"
   },
   {
    "duration": 46,
    "start_time": "2023-01-20T19:44:51.955Z"
   },
   {
    "duration": 386,
    "start_time": "2023-01-20T19:44:52.003Z"
   },
   {
    "duration": 14,
    "start_time": "2023-01-20T19:44:52.391Z"
   },
   {
    "duration": 15,
    "start_time": "2023-01-20T19:44:52.407Z"
   },
   {
    "duration": 454,
    "start_time": "2023-01-20T19:44:52.425Z"
   },
   {
    "duration": 160,
    "start_time": "2023-01-20T19:44:52.881Z"
   },
   {
    "duration": 144,
    "start_time": "2023-01-20T19:44:53.043Z"
   },
   {
    "duration": 142,
    "start_time": "2023-01-20T19:44:53.189Z"
   },
   {
    "duration": 13,
    "start_time": "2023-01-20T19:44:53.333Z"
   },
   {
    "duration": 13,
    "start_time": "2023-01-20T19:44:53.349Z"
   },
   {
    "duration": 1029,
    "start_time": "2023-01-20T19:44:53.385Z"
   },
   {
    "duration": 8,
    "start_time": "2023-01-20T19:44:54.416Z"
   },
   {
    "duration": 21,
    "start_time": "2023-01-20T19:44:54.426Z"
   },
   {
    "duration": 14,
    "start_time": "2023-01-20T19:44:54.450Z"
   },
   {
    "duration": 19,
    "start_time": "2023-01-20T19:44:54.467Z"
   },
   {
    "duration": 8,
    "start_time": "2023-01-20T19:44:54.489Z"
   },
   {
    "duration": 18,
    "start_time": "2023-01-20T19:44:54.499Z"
   },
   {
    "duration": 13,
    "start_time": "2023-01-20T19:54:15.882Z"
   },
   {
    "duration": 10,
    "start_time": "2023-01-20T19:54:16.499Z"
   },
   {
    "duration": 1199,
    "start_time": "2023-01-20T19:54:30.685Z"
   },
   {
    "duration": 1201,
    "start_time": "2023-01-21T13:26:16.279Z"
   },
   {
    "duration": 53,
    "start_time": "2023-01-21T13:26:17.482Z"
   },
   {
    "duration": 18,
    "start_time": "2023-01-21T13:26:17.536Z"
   },
   {
    "duration": 33,
    "start_time": "2023-01-21T13:26:17.556Z"
   },
   {
    "duration": 10,
    "start_time": "2023-01-21T13:26:17.591Z"
   },
   {
    "duration": 18,
    "start_time": "2023-01-21T13:26:17.603Z"
   },
   {
    "duration": 28,
    "start_time": "2023-01-21T13:26:17.623Z"
   },
   {
    "duration": 66,
    "start_time": "2023-01-21T13:26:17.653Z"
   },
   {
    "duration": 10,
    "start_time": "2023-01-21T13:26:17.721Z"
   },
   {
    "duration": 22,
    "start_time": "2023-01-21T13:26:17.739Z"
   },
   {
    "duration": 12,
    "start_time": "2023-01-21T13:26:17.763Z"
   },
   {
    "duration": 22,
    "start_time": "2023-01-21T13:26:17.777Z"
   },
   {
    "duration": 11,
    "start_time": "2023-01-21T13:26:17.801Z"
   },
   {
    "duration": 14,
    "start_time": "2023-01-21T13:26:17.813Z"
   },
   {
    "duration": 7,
    "start_time": "2023-01-21T13:26:17.829Z"
   },
   {
    "duration": 23,
    "start_time": "2023-01-21T13:26:17.837Z"
   },
   {
    "duration": 123,
    "start_time": "2023-01-21T13:26:17.862Z"
   },
   {
    "duration": 37,
    "start_time": "2023-01-21T13:26:17.987Z"
   },
   {
    "duration": 140,
    "start_time": "2023-01-21T13:26:18.026Z"
   },
   {
    "duration": 10,
    "start_time": "2023-01-21T13:26:18.170Z"
   },
   {
    "duration": 20,
    "start_time": "2023-01-21T13:26:18.182Z"
   },
   {
    "duration": 6,
    "start_time": "2023-01-21T13:26:18.204Z"
   },
   {
    "duration": 40,
    "start_time": "2023-01-21T13:26:18.212Z"
   },
   {
    "duration": 127,
    "start_time": "2023-01-21T13:26:18.254Z"
   },
   {
    "duration": 37,
    "start_time": "2023-01-21T13:26:18.383Z"
   },
   {
    "duration": 131,
    "start_time": "2023-01-21T13:26:18.422Z"
   },
   {
    "duration": 9,
    "start_time": "2023-01-21T13:26:18.554Z"
   },
   {
    "duration": 9,
    "start_time": "2023-01-21T13:26:18.568Z"
   },
   {
    "duration": 18,
    "start_time": "2023-01-21T13:26:18.578Z"
   },
   {
    "duration": 25,
    "start_time": "2023-01-21T13:26:18.597Z"
   },
   {
    "duration": 117,
    "start_time": "2023-01-21T13:26:18.638Z"
   },
   {
    "duration": 41,
    "start_time": "2023-01-21T13:26:18.757Z"
   },
   {
    "duration": 134,
    "start_time": "2023-01-21T13:26:18.799Z"
   },
   {
    "duration": 11,
    "start_time": "2023-01-21T13:26:18.934Z"
   },
   {
    "duration": 29,
    "start_time": "2023-01-21T13:26:18.946Z"
   },
   {
    "duration": 16,
    "start_time": "2023-01-21T13:26:18.976Z"
   },
   {
    "duration": 39,
    "start_time": "2023-01-21T13:26:18.994Z"
   },
   {
    "duration": 115,
    "start_time": "2023-01-21T13:26:19.035Z"
   },
   {
    "duration": 36,
    "start_time": "2023-01-21T13:26:19.151Z"
   },
   {
    "duration": 221,
    "start_time": "2023-01-21T13:26:19.189Z"
   },
   {
    "duration": 10,
    "start_time": "2023-01-21T13:26:19.412Z"
   },
   {
    "duration": 27,
    "start_time": "2023-01-21T13:26:19.424Z"
   },
   {
    "duration": 8,
    "start_time": "2023-01-21T13:26:19.453Z"
   },
   {
    "duration": 32,
    "start_time": "2023-01-21T13:26:19.463Z"
   },
   {
    "duration": 6,
    "start_time": "2023-01-21T13:26:19.496Z"
   },
   {
    "duration": 20,
    "start_time": "2023-01-21T13:26:19.503Z"
   },
   {
    "duration": 26,
    "start_time": "2023-01-21T13:26:19.526Z"
   },
   {
    "duration": 24,
    "start_time": "2023-01-21T13:26:19.553Z"
   },
   {
    "duration": 18,
    "start_time": "2023-01-21T13:26:19.579Z"
   },
   {
    "duration": 25,
    "start_time": "2023-01-21T13:26:19.598Z"
   },
   {
    "duration": 7,
    "start_time": "2023-01-21T13:26:19.625Z"
   },
   {
    "duration": 14,
    "start_time": "2023-01-21T13:26:19.634Z"
   },
   {
    "duration": 38,
    "start_time": "2023-01-21T13:26:19.650Z"
   },
   {
    "duration": 24,
    "start_time": "2023-01-21T13:26:19.690Z"
   },
   {
    "duration": 857,
    "start_time": "2023-01-21T13:26:19.715Z"
   },
   {
    "duration": 7,
    "start_time": "2023-01-21T13:26:20.574Z"
   },
   {
    "duration": 45,
    "start_time": "2023-01-21T13:26:20.583Z"
   },
   {
    "duration": 25,
    "start_time": "2023-01-21T13:26:20.630Z"
   },
   {
    "duration": 8,
    "start_time": "2023-01-21T13:26:20.657Z"
   },
   {
    "duration": 106,
    "start_time": "2023-01-21T13:26:20.667Z"
   },
   {
    "duration": 6,
    "start_time": "2023-01-21T13:26:20.775Z"
   },
   {
    "duration": 15,
    "start_time": "2023-01-21T13:26:20.783Z"
   },
   {
    "duration": 19,
    "start_time": "2023-01-21T13:26:20.800Z"
   },
   {
    "duration": 168,
    "start_time": "2023-01-21T13:26:20.821Z"
   },
   {
    "duration": 168,
    "start_time": "2023-01-21T13:26:20.991Z"
   },
   {
    "duration": 6,
    "start_time": "2023-01-21T13:26:21.161Z"
   },
   {
    "duration": 21,
    "start_time": "2023-01-21T13:26:21.169Z"
   },
   {
    "duration": 19,
    "start_time": "2023-01-21T13:26:21.192Z"
   },
   {
    "duration": 14,
    "start_time": "2023-01-21T13:26:21.212Z"
   },
   {
    "duration": 357,
    "start_time": "2023-01-21T13:26:21.238Z"
   },
   {
    "duration": 12,
    "start_time": "2023-01-21T13:26:21.596Z"
   },
   {
    "duration": 12,
    "start_time": "2023-01-21T13:26:21.610Z"
   },
   {
    "duration": 334,
    "start_time": "2023-01-21T13:26:21.623Z"
   },
   {
    "duration": 13,
    "start_time": "2023-01-21T13:26:21.959Z"
   },
   {
    "duration": 26,
    "start_time": "2023-01-21T13:26:21.973Z"
   },
   {
    "duration": 442,
    "start_time": "2023-01-21T13:26:22.001Z"
   },
   {
    "duration": 172,
    "start_time": "2023-01-21T13:26:22.444Z"
   },
   {
    "duration": 135,
    "start_time": "2023-01-21T13:26:22.618Z"
   },
   {
    "duration": 140,
    "start_time": "2023-01-21T13:26:22.755Z"
   },
   {
    "duration": 12,
    "start_time": "2023-01-21T13:26:22.897Z"
   },
   {
    "duration": 16,
    "start_time": "2023-01-21T13:26:22.911Z"
   },
   {
    "duration": 969,
    "start_time": "2023-01-21T13:26:22.939Z"
   },
   {
    "duration": 6,
    "start_time": "2023-01-21T13:26:23.910Z"
   },
   {
    "duration": 20,
    "start_time": "2023-01-21T13:26:23.918Z"
   },
   {
    "duration": 10,
    "start_time": "2023-01-21T13:26:23.940Z"
   },
   {
    "duration": 12,
    "start_time": "2023-01-21T13:26:23.951Z"
   },
   {
    "duration": 11,
    "start_time": "2023-01-21T13:26:23.965Z"
   },
   {
    "duration": 13,
    "start_time": "2023-01-21T13:26:23.978Z"
   },
   {
    "duration": 1250,
    "start_time": "2023-01-21T13:46:00.002Z"
   },
   {
    "duration": 55,
    "start_time": "2023-01-21T13:46:01.254Z"
   },
   {
    "duration": 18,
    "start_time": "2023-01-21T13:46:01.311Z"
   },
   {
    "duration": 35,
    "start_time": "2023-01-21T13:46:01.332Z"
   },
   {
    "duration": 108,
    "start_time": "2023-01-21T13:46:01.368Z"
   },
   {
    "duration": 54,
    "start_time": "2023-01-21T13:46:01.478Z"
   },
   {
    "duration": 46,
    "start_time": "2023-01-21T13:46:01.534Z"
   },
   {
    "duration": 93,
    "start_time": "2023-01-21T13:46:01.581Z"
   },
   {
    "duration": 10,
    "start_time": "2023-01-21T13:46:01.675Z"
   },
   {
    "duration": 36,
    "start_time": "2023-01-21T13:46:01.688Z"
   },
   {
    "duration": 37,
    "start_time": "2023-01-21T13:46:01.726Z"
   },
   {
    "duration": 47,
    "start_time": "2023-01-21T13:46:01.764Z"
   },
   {
    "duration": 57,
    "start_time": "2023-01-21T13:46:01.813Z"
   },
   {
    "duration": 37,
    "start_time": "2023-01-21T13:46:01.871Z"
   },
   {
    "duration": 41,
    "start_time": "2023-01-21T13:46:01.909Z"
   },
   {
    "duration": 65,
    "start_time": "2023-01-21T13:46:01.951Z"
   },
   {
    "duration": 125,
    "start_time": "2023-01-21T13:46:02.018Z"
   },
   {
    "duration": 36,
    "start_time": "2023-01-21T13:46:02.145Z"
   },
   {
    "duration": 126,
    "start_time": "2023-01-21T13:46:02.183Z"
   },
   {
    "duration": 9,
    "start_time": "2023-01-21T13:46:02.311Z"
   },
   {
    "duration": 20,
    "start_time": "2023-01-21T13:46:02.321Z"
   },
   {
    "duration": 13,
    "start_time": "2023-01-21T13:46:02.343Z"
   },
   {
    "duration": 38,
    "start_time": "2023-01-21T13:46:02.357Z"
   },
   {
    "duration": 169,
    "start_time": "2023-01-21T13:46:02.400Z"
   },
   {
    "duration": 74,
    "start_time": "2023-01-21T13:46:02.571Z"
   },
   {
    "duration": 132,
    "start_time": "2023-01-21T13:46:02.648Z"
   },
   {
    "duration": 8,
    "start_time": "2023-01-21T13:46:02.782Z"
   },
   {
    "duration": 15,
    "start_time": "2023-01-21T13:46:02.795Z"
   },
   {
    "duration": 7,
    "start_time": "2023-01-21T13:46:02.812Z"
   },
   {
    "duration": 39,
    "start_time": "2023-01-21T13:46:02.820Z"
   },
   {
    "duration": 120,
    "start_time": "2023-01-21T13:46:02.860Z"
   },
   {
    "duration": 37,
    "start_time": "2023-01-21T13:46:02.982Z"
   },
   {
    "duration": 128,
    "start_time": "2023-01-21T13:46:03.021Z"
   },
   {
    "duration": 10,
    "start_time": "2023-01-21T13:46:03.151Z"
   },
   {
    "duration": 11,
    "start_time": "2023-01-21T13:46:03.162Z"
   },
   {
    "duration": 5,
    "start_time": "2023-01-21T13:46:03.175Z"
   },
   {
    "duration": 24,
    "start_time": "2023-01-21T13:46:03.182Z"
   },
   {
    "duration": 147,
    "start_time": "2023-01-21T13:46:03.207Z"
   },
   {
    "duration": 38,
    "start_time": "2023-01-21T13:46:03.355Z"
   },
   {
    "duration": 218,
    "start_time": "2023-01-21T13:46:03.395Z"
   },
   {
    "duration": 8,
    "start_time": "2023-01-21T13:46:03.615Z"
   },
   {
    "duration": 10,
    "start_time": "2023-01-21T13:46:03.637Z"
   },
   {
    "duration": 11,
    "start_time": "2023-01-21T13:46:03.649Z"
   },
   {
    "duration": 25,
    "start_time": "2023-01-21T13:46:03.662Z"
   },
   {
    "duration": 5,
    "start_time": "2023-01-21T13:46:03.689Z"
   },
   {
    "duration": 9,
    "start_time": "2023-01-21T13:46:03.696Z"
   },
   {
    "duration": 35,
    "start_time": "2023-01-21T13:46:03.707Z"
   },
   {
    "duration": 22,
    "start_time": "2023-01-21T13:46:03.744Z"
   },
   {
    "duration": 6,
    "start_time": "2023-01-21T13:46:03.768Z"
   },
   {
    "duration": 15,
    "start_time": "2023-01-21T13:46:03.776Z"
   },
   {
    "duration": 7,
    "start_time": "2023-01-21T13:46:03.794Z"
   },
   {
    "duration": 12,
    "start_time": "2023-01-21T13:46:03.803Z"
   },
   {
    "duration": 38,
    "start_time": "2023-01-21T13:46:03.817Z"
   },
   {
    "duration": 12,
    "start_time": "2023-01-21T13:46:03.857Z"
   },
   {
    "duration": 821,
    "start_time": "2023-01-21T13:46:03.871Z"
   },
   {
    "duration": 6,
    "start_time": "2023-01-21T13:46:04.694Z"
   },
   {
    "duration": 22,
    "start_time": "2023-01-21T13:46:04.702Z"
   },
   {
    "duration": 11,
    "start_time": "2023-01-21T13:46:04.738Z"
   },
   {
    "duration": 16,
    "start_time": "2023-01-21T13:46:04.750Z"
   },
   {
    "duration": 107,
    "start_time": "2023-01-21T13:46:04.767Z"
   },
   {
    "duration": 7,
    "start_time": "2023-01-21T13:46:04.876Z"
   },
   {
    "duration": 19,
    "start_time": "2023-01-21T13:46:04.884Z"
   },
   {
    "duration": 8,
    "start_time": "2023-01-21T13:46:04.905Z"
   },
   {
    "duration": 157,
    "start_time": "2023-01-21T13:46:04.914Z"
   },
   {
    "duration": 156,
    "start_time": "2023-01-21T13:46:05.072Z"
   },
   {
    "duration": 11,
    "start_time": "2023-01-21T13:46:05.230Z"
   },
   {
    "duration": 21,
    "start_time": "2023-01-21T13:46:05.243Z"
   },
   {
    "duration": 13,
    "start_time": "2023-01-21T13:46:05.265Z"
   },
   {
    "duration": 17,
    "start_time": "2023-01-21T13:46:05.279Z"
   },
   {
    "duration": 360,
    "start_time": "2023-01-21T13:46:05.298Z"
   },
   {
    "duration": 13,
    "start_time": "2023-01-21T13:46:05.659Z"
   },
   {
    "duration": 21,
    "start_time": "2023-01-21T13:46:05.673Z"
   },
   {
    "duration": 341,
    "start_time": "2023-01-21T13:46:05.696Z"
   },
   {
    "duration": 13,
    "start_time": "2023-01-21T13:46:06.040Z"
   },
   {
    "duration": 22,
    "start_time": "2023-01-21T13:46:06.055Z"
   },
   {
    "duration": 440,
    "start_time": "2023-01-21T13:46:06.079Z"
   },
   {
    "duration": 148,
    "start_time": "2023-01-21T13:46:06.521Z"
   },
   {
    "duration": 131,
    "start_time": "2023-01-21T13:46:06.670Z"
   },
   {
    "duration": 154,
    "start_time": "2023-01-21T13:46:06.802Z"
   },
   {
    "duration": 14,
    "start_time": "2023-01-21T13:46:06.958Z"
   },
   {
    "duration": 14,
    "start_time": "2023-01-21T13:46:06.974Z"
   },
   {
    "duration": 995,
    "start_time": "2023-01-21T13:46:06.995Z"
   },
   {
    "duration": 6,
    "start_time": "2023-01-21T13:46:07.991Z"
   },
   {
    "duration": 12,
    "start_time": "2023-01-21T13:46:07.999Z"
   },
   {
    "duration": 12,
    "start_time": "2023-01-21T13:46:08.013Z"
   },
   {
    "duration": 14,
    "start_time": "2023-01-21T13:46:08.027Z"
   },
   {
    "duration": 10,
    "start_time": "2023-01-21T13:46:08.043Z"
   },
   {
    "duration": 8,
    "start_time": "2023-01-21T13:46:08.055Z"
   },
   {
    "duration": 56,
    "start_time": "2023-01-22T16:40:47.223Z"
   },
   {
    "duration": 1327,
    "start_time": "2023-01-22T16:42:26.505Z"
   },
   {
    "duration": 187,
    "start_time": "2023-01-22T16:42:27.834Z"
   },
   {
    "duration": 21,
    "start_time": "2023-01-22T16:42:28.023Z"
   },
   {
    "duration": 22,
    "start_time": "2023-01-22T16:42:28.045Z"
   },
   {
    "duration": 11,
    "start_time": "2023-01-22T16:42:28.070Z"
   },
   {
    "duration": 13,
    "start_time": "2023-01-22T16:42:28.083Z"
   },
   {
    "duration": 15,
    "start_time": "2023-01-22T16:42:28.098Z"
   },
   {
    "duration": 66,
    "start_time": "2023-01-22T16:42:28.115Z"
   },
   {
    "duration": 11,
    "start_time": "2023-01-22T16:42:28.183Z"
   },
   {
    "duration": 8,
    "start_time": "2023-01-22T16:42:28.196Z"
   },
   {
    "duration": 12,
    "start_time": "2023-01-22T16:42:28.206Z"
   },
   {
    "duration": 32,
    "start_time": "2023-01-22T16:42:28.219Z"
   },
   {
    "duration": 7,
    "start_time": "2023-01-22T16:42:28.253Z"
   },
   {
    "duration": 11,
    "start_time": "2023-01-22T16:42:28.265Z"
   },
   {
    "duration": 10,
    "start_time": "2023-01-22T16:42:28.278Z"
   },
   {
    "duration": 61,
    "start_time": "2023-01-22T16:42:28.289Z"
   },
   {
    "duration": 117,
    "start_time": "2023-01-22T16:42:28.352Z"
   },
   {
    "duration": 58,
    "start_time": "2023-01-22T16:42:28.471Z"
   },
   {
    "duration": 115,
    "start_time": "2023-01-22T16:42:28.548Z"
   },
   {
    "duration": 8,
    "start_time": "2023-01-22T16:42:28.665Z"
   },
   {
    "duration": 9,
    "start_time": "2023-01-22T16:42:28.675Z"
   },
   {
    "duration": 7,
    "start_time": "2023-01-22T16:42:28.686Z"
   },
   {
    "duration": 73,
    "start_time": "2023-01-22T16:42:28.695Z"
   },
   {
    "duration": 178,
    "start_time": "2023-01-22T16:42:28.770Z"
   },
   {
    "duration": 58,
    "start_time": "2023-01-22T16:42:28.950Z"
   },
   {
    "duration": 179,
    "start_time": "2023-01-22T16:42:29.010Z"
   },
   {
    "duration": 9,
    "start_time": "2023-01-22T16:42:29.190Z"
   },
   {
    "duration": 10,
    "start_time": "2023-01-22T16:42:29.201Z"
   },
   {
    "duration": 37,
    "start_time": "2023-01-22T16:42:29.213Z"
   },
   {
    "duration": 31,
    "start_time": "2023-01-22T16:42:29.252Z"
   },
   {
    "duration": 142,
    "start_time": "2023-01-22T16:42:29.285Z"
   },
   {
    "duration": 58,
    "start_time": "2023-01-22T16:42:29.429Z"
   },
   {
    "duration": 121,
    "start_time": "2023-01-22T16:42:29.488Z"
   },
   {
    "duration": 11,
    "start_time": "2023-01-22T16:42:29.613Z"
   },
   {
    "duration": 31,
    "start_time": "2023-01-22T16:42:29.626Z"
   },
   {
    "duration": 5,
    "start_time": "2023-01-22T16:42:29.660Z"
   },
   {
    "duration": 20,
    "start_time": "2023-01-22T16:42:29.666Z"
   },
   {
    "duration": 198,
    "start_time": "2023-01-22T16:42:29.688Z"
   },
   {
    "duration": 64,
    "start_time": "2023-01-22T16:42:29.888Z"
   },
   {
    "duration": 129,
    "start_time": "2023-01-22T16:42:29.954Z"
   },
   {
    "duration": 9,
    "start_time": "2023-01-22T16:42:30.087Z"
   },
   {
    "duration": 33,
    "start_time": "2023-01-22T16:42:30.098Z"
   },
   {
    "duration": 5,
    "start_time": "2023-01-22T16:42:30.133Z"
   },
   {
    "duration": 26,
    "start_time": "2023-01-22T16:42:30.148Z"
   },
   {
    "duration": 6,
    "start_time": "2023-01-22T16:42:30.176Z"
   },
   {
    "duration": 11,
    "start_time": "2023-01-22T16:42:30.183Z"
   },
   {
    "duration": 28,
    "start_time": "2023-01-22T16:42:30.195Z"
   },
   {
    "duration": 30,
    "start_time": "2023-01-22T16:42:30.225Z"
   },
   {
    "duration": 9,
    "start_time": "2023-01-22T16:42:30.257Z"
   },
   {
    "duration": 25,
    "start_time": "2023-01-22T16:42:30.268Z"
   },
   {
    "duration": 30,
    "start_time": "2023-01-22T16:42:30.294Z"
   },
   {
    "duration": 30,
    "start_time": "2023-01-22T16:42:30.326Z"
   },
   {
    "duration": 58,
    "start_time": "2023-01-22T16:42:30.358Z"
   },
   {
    "duration": 23,
    "start_time": "2023-01-22T16:42:30.418Z"
   },
   {
    "duration": 790,
    "start_time": "2023-01-22T16:42:30.443Z"
   },
   {
    "duration": 15,
    "start_time": "2023-01-22T16:42:31.235Z"
   },
   {
    "duration": 24,
    "start_time": "2023-01-22T16:42:31.252Z"
   },
   {
    "duration": 16,
    "start_time": "2023-01-22T16:42:31.278Z"
   },
   {
    "duration": 9,
    "start_time": "2023-01-22T16:42:31.296Z"
   },
   {
    "duration": 128,
    "start_time": "2023-01-22T16:42:31.307Z"
   },
   {
    "duration": 15,
    "start_time": "2023-01-22T16:42:31.437Z"
   },
   {
    "duration": 10,
    "start_time": "2023-01-22T16:42:31.454Z"
   },
   {
    "duration": 23,
    "start_time": "2023-01-22T16:42:31.465Z"
   },
   {
    "duration": 179,
    "start_time": "2023-01-22T16:42:31.490Z"
   },
   {
    "duration": 160,
    "start_time": "2023-01-22T16:42:31.670Z"
   },
   {
    "duration": 16,
    "start_time": "2023-01-22T16:42:31.832Z"
   },
   {
    "duration": 15,
    "start_time": "2023-01-22T16:42:31.850Z"
   },
   {
    "duration": 12,
    "start_time": "2023-01-22T16:42:31.867Z"
   },
   {
    "duration": 7,
    "start_time": "2023-01-22T16:42:31.881Z"
   },
   {
    "duration": 444,
    "start_time": "2023-01-22T16:42:31.890Z"
   },
   {
    "duration": 23,
    "start_time": "2023-01-22T16:42:32.336Z"
   },
   {
    "duration": 15,
    "start_time": "2023-01-22T16:42:32.361Z"
   },
   {
    "duration": 298,
    "start_time": "2023-01-22T16:42:32.377Z"
   },
   {
    "duration": 14,
    "start_time": "2023-01-22T16:42:32.677Z"
   },
   {
    "duration": 10,
    "start_time": "2023-01-22T16:42:32.693Z"
   },
   {
    "duration": 430,
    "start_time": "2023-01-22T16:42:32.705Z"
   },
   {
    "duration": 134,
    "start_time": "2023-01-22T16:42:33.137Z"
   },
   {
    "duration": 164,
    "start_time": "2023-01-22T16:42:33.273Z"
   },
   {
    "duration": 123,
    "start_time": "2023-01-22T16:42:33.448Z"
   },
   {
    "duration": 25,
    "start_time": "2023-01-22T16:42:33.573Z"
   },
   {
    "duration": 26,
    "start_time": "2023-01-22T16:42:33.601Z"
   },
   {
    "duration": 943,
    "start_time": "2023-01-22T16:42:33.629Z"
   },
   {
    "duration": 6,
    "start_time": "2023-01-22T16:42:34.573Z"
   },
   {
    "duration": 11,
    "start_time": "2023-01-22T16:42:34.581Z"
   },
   {
    "duration": 7,
    "start_time": "2023-01-22T16:42:34.594Z"
   },
   {
    "duration": 8,
    "start_time": "2023-01-22T16:42:34.603Z"
   },
   {
    "duration": 37,
    "start_time": "2023-01-22T16:42:34.612Z"
   },
   {
    "duration": 7,
    "start_time": "2023-01-22T16:42:34.651Z"
   },
   {
    "duration": 4,
    "start_time": "2023-01-22T16:43:37.783Z"
   },
   {
    "duration": 67,
    "start_time": "2023-01-22T16:43:37.789Z"
   },
   {
    "duration": 13,
    "start_time": "2023-01-22T16:43:37.858Z"
   },
   {
    "duration": 19,
    "start_time": "2023-01-22T16:43:37.872Z"
   },
   {
    "duration": 3,
    "start_time": "2023-01-22T16:43:37.894Z"
   },
   {
    "duration": 11,
    "start_time": "2023-01-22T16:43:37.899Z"
   },
   {
    "duration": 37,
    "start_time": "2023-01-22T16:43:37.912Z"
   },
   {
    "duration": 19,
    "start_time": "2023-01-22T16:43:37.951Z"
   },
   {
    "duration": 10,
    "start_time": "2023-01-22T16:43:37.972Z"
   },
   {
    "duration": 4,
    "start_time": "2023-01-22T16:50:54.245Z"
   },
   {
    "duration": 74,
    "start_time": "2023-01-22T16:50:54.250Z"
   },
   {
    "duration": 20,
    "start_time": "2023-01-22T16:50:54.326Z"
   },
   {
    "duration": 27,
    "start_time": "2023-01-22T16:50:54.347Z"
   },
   {
    "duration": 4,
    "start_time": "2023-01-22T16:50:54.376Z"
   },
   {
    "duration": 8,
    "start_time": "2023-01-22T16:50:54.382Z"
   },
   {
    "duration": 15,
    "start_time": "2023-01-22T16:50:54.392Z"
   },
   {
    "duration": 144,
    "start_time": "2023-01-22T16:50:54.409Z"
   },
   {
    "duration": 10,
    "start_time": "2023-01-22T16:50:54.556Z"
   },
   {
    "duration": 135,
    "start_time": "2023-01-22T16:51:02.493Z"
   },
   {
    "duration": 29,
    "start_time": "2023-01-22T16:54:56.513Z"
   },
   {
    "duration": 4,
    "start_time": "2023-01-22T16:55:33.426Z"
   },
   {
    "duration": 70,
    "start_time": "2023-01-22T16:55:33.433Z"
   },
   {
    "duration": 17,
    "start_time": "2023-01-22T16:55:33.505Z"
   },
   {
    "duration": 30,
    "start_time": "2023-01-22T16:55:33.524Z"
   },
   {
    "duration": 4,
    "start_time": "2023-01-22T16:55:33.556Z"
   },
   {
    "duration": 18,
    "start_time": "2023-01-22T16:55:33.562Z"
   },
   {
    "duration": 18,
    "start_time": "2023-01-22T16:55:33.582Z"
   },
   {
    "duration": 29,
    "start_time": "2023-01-22T16:55:33.602Z"
   },
   {
    "duration": 19,
    "start_time": "2023-01-22T16:55:33.633Z"
   },
   {
    "duration": 13,
    "start_time": "2023-01-22T16:55:33.654Z"
   },
   {
    "duration": 12,
    "start_time": "2023-01-22T16:55:33.671Z"
   },
   {
    "duration": 20,
    "start_time": "2023-01-22T17:00:40.906Z"
   },
   {
    "duration": 142,
    "start_time": "2023-01-22T17:06:06.571Z"
   },
   {
    "duration": 4,
    "start_time": "2023-01-22T17:06:11.260Z"
   },
   {
    "duration": 63,
    "start_time": "2023-01-22T17:06:11.270Z"
   },
   {
    "duration": 14,
    "start_time": "2023-01-22T17:06:11.335Z"
   },
   {
    "duration": 16,
    "start_time": "2023-01-22T17:06:11.350Z"
   },
   {
    "duration": 3,
    "start_time": "2023-01-22T17:06:11.369Z"
   },
   {
    "duration": 7,
    "start_time": "2023-01-22T17:06:11.374Z"
   },
   {
    "duration": 14,
    "start_time": "2023-01-22T17:06:11.382Z"
   },
   {
    "duration": 51,
    "start_time": "2023-01-22T17:06:11.398Z"
   },
   {
    "duration": 10,
    "start_time": "2023-01-22T17:06:11.450Z"
   },
   {
    "duration": 10,
    "start_time": "2023-01-22T17:06:11.461Z"
   },
   {
    "duration": 10,
    "start_time": "2023-01-22T17:06:11.474Z"
   },
   {
    "duration": 6,
    "start_time": "2023-01-22T17:06:11.486Z"
   },
   {
    "duration": 11,
    "start_time": "2023-01-22T17:06:11.493Z"
   },
   {
    "duration": 7,
    "start_time": "2023-01-22T17:06:11.506Z"
   },
   {
    "duration": 54,
    "start_time": "2023-01-22T17:06:11.515Z"
   },
   {
    "duration": 113,
    "start_time": "2023-01-22T17:06:11.571Z"
   },
   {
    "duration": 19,
    "start_time": "2023-01-22T17:06:11.685Z"
   },
   {
    "duration": 128,
    "start_time": "2023-01-22T17:06:14.999Z"
   },
   {
    "duration": 119,
    "start_time": "2023-01-22T17:06:29.002Z"
   },
   {
    "duration": 133,
    "start_time": "2023-01-22T17:06:37.429Z"
   },
   {
    "duration": 9,
    "start_time": "2023-01-22T17:06:46.931Z"
   },
   {
    "duration": 121,
    "start_time": "2023-01-22T17:06:51.075Z"
   },
   {
    "duration": 109,
    "start_time": "2023-01-22T17:07:00.105Z"
   },
   {
    "duration": 103,
    "start_time": "2023-01-22T17:07:05.840Z"
   },
   {
    "duration": 97,
    "start_time": "2023-01-22T17:07:10.730Z"
   },
   {
    "duration": 9,
    "start_time": "2023-01-22T17:07:16.805Z"
   },
   {
    "duration": 91,
    "start_time": "2023-01-22T17:13:11.117Z"
   },
   {
    "duration": 2,
    "start_time": "2023-01-22T17:21:43.990Z"
   },
   {
    "duration": 64,
    "start_time": "2023-01-22T17:21:43.994Z"
   },
   {
    "duration": 13,
    "start_time": "2023-01-22T17:21:44.062Z"
   },
   {
    "duration": 15,
    "start_time": "2023-01-22T17:21:44.076Z"
   },
   {
    "duration": 3,
    "start_time": "2023-01-22T17:21:44.093Z"
   },
   {
    "duration": 10,
    "start_time": "2023-01-22T17:21:44.097Z"
   },
   {
    "duration": 10,
    "start_time": "2023-01-22T17:21:44.110Z"
   },
   {
    "duration": 46,
    "start_time": "2023-01-22T17:21:44.122Z"
   },
   {
    "duration": 8,
    "start_time": "2023-01-22T17:21:44.171Z"
   },
   {
    "duration": 6,
    "start_time": "2023-01-22T17:21:44.181Z"
   },
   {
    "duration": 11,
    "start_time": "2023-01-22T17:21:44.190Z"
   },
   {
    "duration": 11,
    "start_time": "2023-01-22T17:21:44.202Z"
   },
   {
    "duration": 34,
    "start_time": "2023-01-22T17:21:44.215Z"
   },
   {
    "duration": 6,
    "start_time": "2023-01-22T17:21:44.260Z"
   },
   {
    "duration": 24,
    "start_time": "2023-01-22T17:21:44.267Z"
   },
   {
    "duration": 120,
    "start_time": "2023-01-22T17:21:44.293Z"
   },
   {
    "duration": 18,
    "start_time": "2023-01-22T17:21:44.415Z"
   },
   {
    "duration": 114,
    "start_time": "2023-01-22T17:21:44.435Z"
   },
   {
    "duration": 15,
    "start_time": "2023-01-22T17:21:44.550Z"
   },
   {
    "duration": 19,
    "start_time": "2023-01-22T17:21:44.567Z"
   },
   {
    "duration": 20,
    "start_time": "2023-01-22T17:22:11.619Z"
   },
   {
    "duration": 19,
    "start_time": "2023-01-22T17:23:17.152Z"
   },
   {
    "duration": 112,
    "start_time": "2023-01-22T17:23:32.156Z"
   },
   {
    "duration": 97,
    "start_time": "2023-01-22T17:23:38.002Z"
   },
   {
    "duration": 105,
    "start_time": "2023-01-22T17:23:42.758Z"
   },
   {
    "duration": 200,
    "start_time": "2023-01-22T17:23:50.987Z"
   },
   {
    "duration": 48,
    "start_time": "2023-01-22T17:28:01.228Z"
   },
   {
    "duration": 17,
    "start_time": "2023-01-22T17:28:27.502Z"
   },
   {
    "duration": 107,
    "start_time": "2023-01-22T17:28:53.799Z"
   },
   {
    "duration": 109,
    "start_time": "2023-01-22T17:28:58.824Z"
   },
   {
    "duration": 116,
    "start_time": "2023-01-22T17:29:15.411Z"
   },
   {
    "duration": 115,
    "start_time": "2023-01-22T17:29:24.072Z"
   },
   {
    "duration": 16,
    "start_time": "2023-01-22T17:32:05.988Z"
   },
   {
    "duration": 144,
    "start_time": "2023-01-22T17:32:25.608Z"
   },
   {
    "duration": 98,
    "start_time": "2023-01-22T17:32:38.177Z"
   },
   {
    "duration": 4,
    "start_time": "2023-01-22T17:34:46.284Z"
   },
   {
    "duration": 57,
    "start_time": "2023-01-22T17:34:46.290Z"
   },
   {
    "duration": 15,
    "start_time": "2023-01-22T17:34:46.349Z"
   },
   {
    "duration": 16,
    "start_time": "2023-01-22T17:34:46.365Z"
   },
   {
    "duration": 3,
    "start_time": "2023-01-22T17:34:46.383Z"
   },
   {
    "duration": 6,
    "start_time": "2023-01-22T17:34:46.387Z"
   },
   {
    "duration": 10,
    "start_time": "2023-01-22T17:34:46.395Z"
   },
   {
    "duration": 53,
    "start_time": "2023-01-22T17:34:46.406Z"
   },
   {
    "duration": 8,
    "start_time": "2023-01-22T17:34:46.460Z"
   },
   {
    "duration": 8,
    "start_time": "2023-01-22T17:34:46.469Z"
   },
   {
    "duration": 6,
    "start_time": "2023-01-22T17:34:46.480Z"
   },
   {
    "duration": 6,
    "start_time": "2023-01-22T17:34:46.488Z"
   },
   {
    "duration": 9,
    "start_time": "2023-01-22T17:34:46.496Z"
   },
   {
    "duration": 9,
    "start_time": "2023-01-22T17:34:46.506Z"
   },
   {
    "duration": 42,
    "start_time": "2023-01-22T17:34:46.516Z"
   },
   {
    "duration": 99,
    "start_time": "2023-01-22T17:34:46.559Z"
   },
   {
    "duration": 17,
    "start_time": "2023-01-22T17:34:46.660Z"
   },
   {
    "duration": 104,
    "start_time": "2023-01-22T17:34:46.679Z"
   },
   {
    "duration": 7,
    "start_time": "2023-01-22T17:34:46.785Z"
   },
   {
    "duration": 17,
    "start_time": "2023-01-22T17:34:46.793Z"
   },
   {
    "duration": 26,
    "start_time": "2023-01-22T17:34:46.811Z"
   },
   {
    "duration": 104,
    "start_time": "2023-01-22T17:34:46.847Z"
   },
   {
    "duration": 18,
    "start_time": "2023-01-22T17:34:46.952Z"
   },
   {
    "duration": 110,
    "start_time": "2023-01-22T17:34:46.971Z"
   },
   {
    "duration": 8,
    "start_time": "2023-01-22T17:34:47.083Z"
   },
   {
    "duration": 11,
    "start_time": "2023-01-22T17:34:47.092Z"
   },
   {
    "duration": 43,
    "start_time": "2023-01-22T17:34:47.105Z"
   },
   {
    "duration": 112,
    "start_time": "2023-01-22T17:34:47.149Z"
   },
   {
    "duration": 16,
    "start_time": "2023-01-22T17:34:47.264Z"
   },
   {
    "duration": 118,
    "start_time": "2023-01-22T17:34:47.282Z"
   },
   {
    "duration": 7,
    "start_time": "2023-01-22T17:34:47.402Z"
   },
   {
    "duration": 13,
    "start_time": "2023-01-22T17:34:47.411Z"
   },
   {
    "duration": 37,
    "start_time": "2023-01-22T17:34:47.426Z"
   },
   {
    "duration": 104,
    "start_time": "2023-01-22T17:34:47.465Z"
   },
   {
    "duration": 16,
    "start_time": "2023-01-22T17:34:47.571Z"
   },
   {
    "duration": 135,
    "start_time": "2023-01-22T17:34:47.588Z"
   },
   {
    "duration": 23,
    "start_time": "2023-01-22T17:34:47.725Z"
   },
   {
    "duration": 11,
    "start_time": "2023-01-22T17:34:47.749Z"
   },
   {
    "duration": 20,
    "start_time": "2023-01-22T17:34:47.761Z"
   },
   {
    "duration": 5,
    "start_time": "2023-01-22T17:34:47.782Z"
   },
   {
    "duration": 10,
    "start_time": "2023-01-22T17:34:47.789Z"
   },
   {
    "duration": 23,
    "start_time": "2023-01-22T17:34:47.801Z"
   },
   {
    "duration": 13,
    "start_time": "2023-01-22T17:34:47.849Z"
   },
   {
    "duration": 13,
    "start_time": "2023-01-22T17:34:49.647Z"
   },
   {
    "duration": 248,
    "start_time": "2023-01-22T19:18:41.928Z"
   },
   {
    "duration": 152,
    "start_time": "2023-01-22T19:19:16.634Z"
   },
   {
    "duration": 285,
    "start_time": "2023-01-22T19:19:33.660Z"
   },
   {
    "duration": 306,
    "start_time": "2023-01-22T19:20:13.826Z"
   },
   {
    "duration": 298,
    "start_time": "2023-01-22T19:20:23.699Z"
   },
   {
    "duration": 287,
    "start_time": "2023-01-22T19:20:32.895Z"
   },
   {
    "duration": 418,
    "start_time": "2023-01-22T19:21:27.323Z"
   },
   {
    "duration": 5,
    "start_time": "2023-01-22T19:26:02.077Z"
   },
   {
    "duration": 56,
    "start_time": "2023-01-22T19:26:02.084Z"
   },
   {
    "duration": 24,
    "start_time": "2023-01-22T19:26:02.143Z"
   },
   {
    "duration": 41,
    "start_time": "2023-01-22T19:26:02.171Z"
   },
   {
    "duration": 10,
    "start_time": "2023-01-22T19:26:02.214Z"
   },
   {
    "duration": 14,
    "start_time": "2023-01-22T19:26:02.225Z"
   },
   {
    "duration": 47,
    "start_time": "2023-01-22T19:26:02.241Z"
   },
   {
    "duration": 27,
    "start_time": "2023-01-22T19:26:02.290Z"
   },
   {
    "duration": 18,
    "start_time": "2023-01-22T19:26:02.319Z"
   },
   {
    "duration": 12,
    "start_time": "2023-01-22T19:26:02.339Z"
   },
   {
    "duration": 38,
    "start_time": "2023-01-22T19:26:02.353Z"
   },
   {
    "duration": 21,
    "start_time": "2023-01-22T19:26:02.392Z"
   },
   {
    "duration": 10,
    "start_time": "2023-01-22T19:26:02.415Z"
   },
   {
    "duration": 10,
    "start_time": "2023-01-22T19:26:02.426Z"
   },
   {
    "duration": 42,
    "start_time": "2023-01-22T19:26:02.438Z"
   },
   {
    "duration": 108,
    "start_time": "2023-01-22T19:26:02.482Z"
   },
   {
    "duration": 22,
    "start_time": "2023-01-22T19:26:02.592Z"
   },
   {
    "duration": 122,
    "start_time": "2023-01-22T19:26:02.616Z"
   },
   {
    "duration": 18,
    "start_time": "2023-01-22T19:26:02.739Z"
   },
   {
    "duration": 28,
    "start_time": "2023-01-22T19:26:02.758Z"
   },
   {
    "duration": 38,
    "start_time": "2023-01-22T19:26:02.787Z"
   },
   {
    "duration": 161,
    "start_time": "2023-01-22T19:26:02.827Z"
   },
   {
    "duration": 18,
    "start_time": "2023-01-22T19:26:02.990Z"
   },
   {
    "duration": 111,
    "start_time": "2023-01-22T19:26:03.010Z"
   },
   {
    "duration": 8,
    "start_time": "2023-01-22T19:26:03.123Z"
   },
   {
    "duration": 30,
    "start_time": "2023-01-22T19:26:03.133Z"
   },
   {
    "duration": 36,
    "start_time": "2023-01-22T19:26:03.169Z"
   },
   {
    "duration": 114,
    "start_time": "2023-01-22T19:26:03.207Z"
   },
   {
    "duration": 26,
    "start_time": "2023-01-22T19:26:03.323Z"
   },
   {
    "duration": 132,
    "start_time": "2023-01-22T19:26:03.353Z"
   },
   {
    "duration": 8,
    "start_time": "2023-01-22T19:26:03.487Z"
   },
   {
    "duration": 45,
    "start_time": "2023-01-22T19:26:03.496Z"
   },
   {
    "duration": 36,
    "start_time": "2023-01-22T19:26:03.542Z"
   },
   {
    "duration": 103,
    "start_time": "2023-01-22T19:26:03.582Z"
   },
   {
    "duration": 17,
    "start_time": "2023-01-22T19:26:03.686Z"
   },
   {
    "duration": 127,
    "start_time": "2023-01-22T19:26:03.705Z"
   },
   {
    "duration": 16,
    "start_time": "2023-01-22T19:26:03.836Z"
   },
   {
    "duration": 25,
    "start_time": "2023-01-22T19:26:03.855Z"
   },
   {
    "duration": 28,
    "start_time": "2023-01-22T19:26:03.882Z"
   },
   {
    "duration": 5,
    "start_time": "2023-01-22T19:26:03.912Z"
   },
   {
    "duration": 7,
    "start_time": "2023-01-22T19:26:03.919Z"
   },
   {
    "duration": 27,
    "start_time": "2023-01-22T19:26:03.927Z"
   },
   {
    "duration": 54,
    "start_time": "2023-01-22T19:26:03.957Z"
   },
   {
    "duration": 5,
    "start_time": "2023-01-22T19:26:04.013Z"
   },
   {
    "duration": 310,
    "start_time": "2023-01-22T19:26:04.020Z"
   },
   {
    "duration": 19,
    "start_time": "2023-01-22T19:27:42.638Z"
   },
   {
    "duration": 11,
    "start_time": "2023-01-22T19:27:58.781Z"
   },
   {
    "duration": 7,
    "start_time": "2023-01-22T19:28:00.875Z"
   },
   {
    "duration": 2,
    "start_time": "2023-01-22T19:28:13.710Z"
   },
   {
    "duration": 16,
    "start_time": "2023-01-22T19:28:15.179Z"
   },
   {
    "duration": 8,
    "start_time": "2023-01-22T19:28:15.975Z"
   },
   {
    "duration": 3,
    "start_time": "2023-01-22T19:28:24.837Z"
   },
   {
    "duration": 29,
    "start_time": "2023-01-22T19:28:54.974Z"
   },
   {
    "duration": 11,
    "start_time": "2023-01-22T19:29:00.425Z"
   },
   {
    "duration": 14,
    "start_time": "2023-01-22T19:29:13.186Z"
   },
   {
    "duration": 7,
    "start_time": "2023-01-22T19:30:19.483Z"
   },
   {
    "duration": 13,
    "start_time": "2023-01-22T19:30:31.103Z"
   },
   {
    "duration": 2274,
    "start_time": "2023-01-22T19:31:01.124Z"
   },
   {
    "duration": 2191,
    "start_time": "2023-01-22T19:31:22.189Z"
   },
   {
    "duration": 2226,
    "start_time": "2023-01-22T19:31:30.285Z"
   },
   {
    "duration": 2304,
    "start_time": "2023-01-22T19:31:44.308Z"
   },
   {
    "duration": 1963,
    "start_time": "2023-01-22T19:36:01.822Z"
   },
   {
    "duration": 2010,
    "start_time": "2023-01-22T19:36:15.886Z"
   },
   {
    "duration": 2104,
    "start_time": "2023-01-22T19:36:24.914Z"
   },
   {
    "duration": 11,
    "start_time": "2023-01-22T19:38:50.074Z"
   },
   {
    "duration": 7,
    "start_time": "2023-01-22T19:38:51.508Z"
   },
   {
    "duration": 3,
    "start_time": "2023-01-22T19:38:52.474Z"
   },
   {
    "duration": 17,
    "start_time": "2023-01-22T19:38:55.088Z"
   },
   {
    "duration": 17,
    "start_time": "2023-01-22T19:38:55.743Z"
   },
   {
    "duration": 3230,
    "start_time": "2023-01-22T19:39:01.888Z"
   },
   {
    "duration": 12,
    "start_time": "2023-01-22T19:39:22.331Z"
   },
   {
    "duration": 5,
    "start_time": "2023-01-22T19:39:31.144Z"
   },
   {
    "duration": 74,
    "start_time": "2023-01-22T19:39:31.161Z"
   },
   {
    "duration": 15,
    "start_time": "2023-01-22T19:39:31.237Z"
   },
   {
    "duration": 24,
    "start_time": "2023-01-22T19:39:31.254Z"
   },
   {
    "duration": 6,
    "start_time": "2023-01-22T19:39:31.279Z"
   },
   {
    "duration": 16,
    "start_time": "2023-01-22T19:39:31.287Z"
   },
   {
    "duration": 12,
    "start_time": "2023-01-22T19:39:31.304Z"
   },
   {
    "duration": 40,
    "start_time": "2023-01-22T19:39:31.318Z"
   },
   {
    "duration": 14,
    "start_time": "2023-01-22T19:39:31.362Z"
   },
   {
    "duration": 9,
    "start_time": "2023-01-22T19:39:31.377Z"
   },
   {
    "duration": 8,
    "start_time": "2023-01-22T19:39:31.388Z"
   },
   {
    "duration": 9,
    "start_time": "2023-01-22T19:39:31.397Z"
   },
   {
    "duration": 9,
    "start_time": "2023-01-22T19:39:31.408Z"
   },
   {
    "duration": 7,
    "start_time": "2023-01-22T19:39:31.418Z"
   },
   {
    "duration": 42,
    "start_time": "2023-01-22T19:39:31.427Z"
   },
   {
    "duration": 104,
    "start_time": "2023-01-22T19:39:31.473Z"
   },
   {
    "duration": 18,
    "start_time": "2023-01-22T19:39:31.579Z"
   },
   {
    "duration": 106,
    "start_time": "2023-01-22T19:39:31.598Z"
   },
   {
    "duration": 7,
    "start_time": "2023-01-22T19:39:31.706Z"
   },
   {
    "duration": 9,
    "start_time": "2023-01-22T19:39:31.714Z"
   },
   {
    "duration": 46,
    "start_time": "2023-01-22T19:39:31.724Z"
   },
   {
    "duration": 263,
    "start_time": "2023-01-22T19:39:31.773Z"
   },
   {
    "duration": 37,
    "start_time": "2023-01-22T19:39:32.038Z"
   },
   {
    "duration": 103,
    "start_time": "2023-01-22T19:39:32.077Z"
   },
   {
    "duration": 7,
    "start_time": "2023-01-22T19:39:32.182Z"
   },
   {
    "duration": 8,
    "start_time": "2023-01-22T19:39:32.191Z"
   },
   {
    "duration": 19,
    "start_time": "2023-01-22T19:39:32.200Z"
   },
   {
    "duration": 144,
    "start_time": "2023-01-22T19:39:32.220Z"
   },
   {
    "duration": 19,
    "start_time": "2023-01-22T19:39:32.368Z"
   },
   {
    "duration": 123,
    "start_time": "2023-01-22T19:39:32.388Z"
   },
   {
    "duration": 8,
    "start_time": "2023-01-22T19:39:32.512Z"
   },
   {
    "duration": 9,
    "start_time": "2023-01-22T19:39:32.522Z"
   },
   {
    "duration": 26,
    "start_time": "2023-01-22T19:39:32.550Z"
   },
   {
    "duration": 112,
    "start_time": "2023-01-22T19:39:32.578Z"
   },
   {
    "duration": 16,
    "start_time": "2023-01-22T19:39:32.692Z"
   },
   {
    "duration": 149,
    "start_time": "2023-01-22T19:39:32.710Z"
   },
   {
    "duration": 15,
    "start_time": "2023-01-22T19:39:32.866Z"
   },
   {
    "duration": 15,
    "start_time": "2023-01-22T19:39:32.883Z"
   },
   {
    "duration": 20,
    "start_time": "2023-01-22T19:39:32.900Z"
   },
   {
    "duration": 4,
    "start_time": "2023-01-22T19:39:32.922Z"
   },
   {
    "duration": 5,
    "start_time": "2023-01-22T19:39:32.928Z"
   },
   {
    "duration": 22,
    "start_time": "2023-01-22T19:39:32.955Z"
   },
   {
    "duration": 14,
    "start_time": "2023-01-22T19:39:32.979Z"
   },
   {
    "duration": 6,
    "start_time": "2023-01-22T19:39:32.994Z"
   },
   {
    "duration": 300,
    "start_time": "2023-01-22T19:39:33.002Z"
   },
   {
    "duration": 10,
    "start_time": "2023-01-22T19:39:33.303Z"
   },
   {
    "duration": 7,
    "start_time": "2023-01-22T19:39:33.314Z"
   },
   {
    "duration": 36,
    "start_time": "2023-01-22T19:39:33.323Z"
   },
   {
    "duration": 19,
    "start_time": "2023-01-22T19:39:33.364Z"
   },
   {
    "duration": 9,
    "start_time": "2023-01-22T19:39:33.384Z"
   },
   {
    "duration": 2033,
    "start_time": "2023-01-22T19:39:33.394Z"
   },
   {
    "duration": 12,
    "start_time": "2023-01-22T19:41:00.680Z"
   },
   {
    "duration": 2024,
    "start_time": "2023-01-22T19:44:30.340Z"
   },
   {
    "duration": 6,
    "start_time": "2023-01-22T19:56:27.531Z"
   },
   {
    "duration": 16,
    "start_time": "2023-01-22T19:56:28.991Z"
   },
   {
    "duration": 4,
    "start_time": "2023-01-22T19:57:07.709Z"
   },
   {
    "duration": 57,
    "start_time": "2023-01-22T19:57:07.718Z"
   },
   {
    "duration": 17,
    "start_time": "2023-01-22T19:57:07.776Z"
   },
   {
    "duration": 20,
    "start_time": "2023-01-22T19:57:07.795Z"
   },
   {
    "duration": 32,
    "start_time": "2023-01-22T19:57:07.817Z"
   },
   {
    "duration": 8,
    "start_time": "2023-01-22T19:57:07.851Z"
   },
   {
    "duration": 16,
    "start_time": "2023-01-22T19:57:07.861Z"
   },
   {
    "duration": 19,
    "start_time": "2023-01-22T19:57:07.879Z"
   },
   {
    "duration": 10,
    "start_time": "2023-01-22T19:57:07.900Z"
   },
   {
    "duration": 36,
    "start_time": "2023-01-22T19:57:07.914Z"
   },
   {
    "duration": 6,
    "start_time": "2023-01-22T19:57:07.951Z"
   },
   {
    "duration": 8,
    "start_time": "2023-01-22T19:57:07.958Z"
   },
   {
    "duration": 10,
    "start_time": "2023-01-22T19:57:07.967Z"
   },
   {
    "duration": 11,
    "start_time": "2023-01-22T19:57:07.979Z"
   },
   {
    "duration": 57,
    "start_time": "2023-01-22T19:57:07.992Z"
   },
   {
    "duration": 155,
    "start_time": "2023-01-22T19:57:08.052Z"
   },
   {
    "duration": 24,
    "start_time": "2023-01-22T19:57:08.208Z"
   },
   {
    "duration": 131,
    "start_time": "2023-01-22T19:57:08.234Z"
   },
   {
    "duration": 11,
    "start_time": "2023-01-22T19:57:08.367Z"
   },
   {
    "duration": 12,
    "start_time": "2023-01-22T19:57:08.380Z"
   },
   {
    "duration": 67,
    "start_time": "2023-01-22T19:57:08.394Z"
   },
   {
    "duration": 151,
    "start_time": "2023-01-22T19:57:08.463Z"
   },
   {
    "duration": 34,
    "start_time": "2023-01-22T19:57:08.617Z"
   },
   {
    "duration": 149,
    "start_time": "2023-01-22T19:57:08.652Z"
   },
   {
    "duration": 10,
    "start_time": "2023-01-22T19:57:08.803Z"
   },
   {
    "duration": 34,
    "start_time": "2023-01-22T19:57:08.815Z"
   },
   {
    "duration": 23,
    "start_time": "2023-01-22T19:57:08.852Z"
   },
   {
    "duration": 134,
    "start_time": "2023-01-22T19:57:08.880Z"
   },
   {
    "duration": 19,
    "start_time": "2023-01-22T19:57:09.015Z"
   },
   {
    "duration": 175,
    "start_time": "2023-01-22T19:57:09.048Z"
   },
   {
    "duration": 9,
    "start_time": "2023-01-22T19:57:09.225Z"
   },
   {
    "duration": 21,
    "start_time": "2023-01-22T19:57:09.236Z"
   },
   {
    "duration": 31,
    "start_time": "2023-01-22T19:57:09.259Z"
   },
   {
    "duration": 173,
    "start_time": "2023-01-22T19:57:09.292Z"
   },
   {
    "duration": 28,
    "start_time": "2023-01-22T19:57:09.467Z"
   },
   {
    "duration": 180,
    "start_time": "2023-01-22T19:57:09.497Z"
   },
   {
    "duration": 11,
    "start_time": "2023-01-22T19:57:09.681Z"
   },
   {
    "duration": 52,
    "start_time": "2023-01-22T19:57:09.694Z"
   },
   {
    "duration": 36,
    "start_time": "2023-01-22T19:57:09.748Z"
   },
   {
    "duration": 6,
    "start_time": "2023-01-22T19:57:09.786Z"
   },
   {
    "duration": 18,
    "start_time": "2023-01-22T19:57:09.794Z"
   },
   {
    "duration": 37,
    "start_time": "2023-01-22T19:57:09.814Z"
   },
   {
    "duration": 22,
    "start_time": "2023-01-22T19:57:09.853Z"
   },
   {
    "duration": 11,
    "start_time": "2023-01-22T19:57:09.877Z"
   },
   {
    "duration": 402,
    "start_time": "2023-01-22T19:57:09.890Z"
   },
   {
    "duration": 12,
    "start_time": "2023-01-22T19:57:10.294Z"
   },
   {
    "duration": 6,
    "start_time": "2023-01-22T19:57:10.308Z"
   },
   {
    "duration": 7,
    "start_time": "2023-01-22T19:57:10.316Z"
   },
   {
    "duration": 16,
    "start_time": "2023-01-22T19:57:10.348Z"
   },
   {
    "duration": 16,
    "start_time": "2023-01-22T19:57:10.366Z"
   },
   {
    "duration": 1907,
    "start_time": "2023-01-22T19:57:10.384Z"
   },
   {
    "duration": 8,
    "start_time": "2023-01-22T19:57:12.293Z"
   },
   {
    "duration": 24,
    "start_time": "2023-01-22T19:57:12.303Z"
   },
   {
    "duration": 8,
    "start_time": "2023-01-22T21:24:35.716Z"
   },
   {
    "duration": 15,
    "start_time": "2023-01-22T21:24:36.344Z"
   },
   {
    "duration": 12,
    "start_time": "2023-01-22T21:24:44.178Z"
   },
   {
    "duration": 11,
    "start_time": "2023-01-22T21:24:44.971Z"
   },
   {
    "duration": 5,
    "start_time": "2023-01-22T21:25:53.222Z"
   },
   {
    "duration": 147,
    "start_time": "2023-01-22T21:31:18.325Z"
   },
   {
    "duration": 5,
    "start_time": "2023-01-22T21:32:33.786Z"
   },
   {
    "duration": 8,
    "start_time": "2023-01-22T21:32:39.743Z"
   },
   {
    "duration": 7,
    "start_time": "2023-01-22T21:32:45.734Z"
   },
   {
    "duration": 168,
    "start_time": "2023-01-22T21:35:19.711Z"
   },
   {
    "duration": 185,
    "start_time": "2023-01-22T21:37:06.773Z"
   },
   {
    "duration": 152,
    "start_time": "2023-01-22T21:37:49.325Z"
   },
   {
    "duration": 178,
    "start_time": "2023-01-22T21:37:54.109Z"
   },
   {
    "duration": 7,
    "start_time": "2023-01-22T21:41:47.284Z"
   },
   {
    "duration": 5,
    "start_time": "2023-01-22T21:52:08.472Z"
   },
   {
    "duration": 19,
    "start_time": "2023-01-22T21:52:14.371Z"
   },
   {
    "duration": 13,
    "start_time": "2023-01-22T21:52:46.070Z"
   },
   {
    "duration": 6,
    "start_time": "2023-01-22T21:52:59.481Z"
   },
   {
    "duration": 7,
    "start_time": "2023-01-22T21:53:04.381Z"
   },
   {
    "duration": 211,
    "start_time": "2023-01-22T21:53:27.739Z"
   },
   {
    "duration": 175,
    "start_time": "2023-01-22T21:53:43.227Z"
   },
   {
    "duration": 176,
    "start_time": "2023-01-22T21:55:04.459Z"
   },
   {
    "duration": 185,
    "start_time": "2023-01-22T21:55:12.675Z"
   },
   {
    "duration": 356,
    "start_time": "2023-01-22T21:55:22.304Z"
   },
   {
    "duration": 13,
    "start_time": "2023-01-22T21:57:51.294Z"
   },
   {
    "duration": 11,
    "start_time": "2023-01-22T21:57:51.977Z"
   },
   {
    "duration": 331,
    "start_time": "2023-01-22T21:57:56.293Z"
   },
   {
    "duration": 13,
    "start_time": "2023-01-22T22:01:31.263Z"
   },
   {
    "duration": 10,
    "start_time": "2023-01-22T22:01:32.133Z"
   },
   {
    "duration": 322,
    "start_time": "2023-01-22T22:01:35.985Z"
   },
   {
    "duration": 436,
    "start_time": "2023-01-22T22:03:46.809Z"
   },
   {
    "duration": 13,
    "start_time": "2023-01-22T22:07:48.068Z"
   },
   {
    "duration": 9,
    "start_time": "2023-01-22T22:07:48.767Z"
   },
   {
    "duration": 317,
    "start_time": "2023-01-22T22:07:52.026Z"
   },
   {
    "duration": 352,
    "start_time": "2023-01-22T22:11:17.770Z"
   },
   {
    "duration": 130,
    "start_time": "2023-01-22T22:15:03.660Z"
   },
   {
    "duration": 136,
    "start_time": "2023-01-22T22:15:04.984Z"
   },
   {
    "duration": 115,
    "start_time": "2023-01-22T22:15:06.402Z"
   },
   {
    "duration": 126,
    "start_time": "2023-01-22T22:15:15.609Z"
   },
   {
    "duration": 141,
    "start_time": "2023-01-22T22:15:18.085Z"
   },
   {
    "duration": 273,
    "start_time": "2023-01-22T22:15:21.836Z"
   },
   {
    "duration": 1266,
    "start_time": "2023-01-23T12:50:09.703Z"
   },
   {
    "duration": 89,
    "start_time": "2023-01-23T12:50:10.971Z"
   },
   {
    "duration": 16,
    "start_time": "2023-01-23T12:50:11.061Z"
   },
   {
    "duration": 27,
    "start_time": "2023-01-23T12:50:11.079Z"
   },
   {
    "duration": 11,
    "start_time": "2023-01-23T12:50:11.107Z"
   },
   {
    "duration": 19,
    "start_time": "2023-01-23T12:50:11.119Z"
   },
   {
    "duration": 24,
    "start_time": "2023-01-23T12:50:11.139Z"
   },
   {
    "duration": 61,
    "start_time": "2023-01-23T12:50:11.164Z"
   },
   {
    "duration": 8,
    "start_time": "2023-01-23T12:50:11.226Z"
   },
   {
    "duration": 10,
    "start_time": "2023-01-23T12:50:11.237Z"
   },
   {
    "duration": 21,
    "start_time": "2023-01-23T12:50:11.249Z"
   },
   {
    "duration": 16,
    "start_time": "2023-01-23T12:50:11.272Z"
   },
   {
    "duration": 32,
    "start_time": "2023-01-23T12:50:11.290Z"
   },
   {
    "duration": 14,
    "start_time": "2023-01-23T12:50:11.323Z"
   },
   {
    "duration": 40,
    "start_time": "2023-01-23T12:50:11.338Z"
   },
   {
    "duration": 99,
    "start_time": "2023-01-23T12:50:11.380Z"
   },
   {
    "duration": 25,
    "start_time": "2023-01-23T12:50:11.480Z"
   },
   {
    "duration": 99,
    "start_time": "2023-01-23T12:50:11.507Z"
   },
   {
    "duration": 8,
    "start_time": "2023-01-23T12:50:11.608Z"
   },
   {
    "duration": 13,
    "start_time": "2023-01-23T12:50:11.618Z"
   },
   {
    "duration": 24,
    "start_time": "2023-01-23T12:50:11.632Z"
   },
   {
    "duration": 113,
    "start_time": "2023-01-23T12:50:11.658Z"
   },
   {
    "duration": 24,
    "start_time": "2023-01-23T12:50:11.773Z"
   },
   {
    "duration": 103,
    "start_time": "2023-01-23T12:50:11.798Z"
   },
   {
    "duration": 9,
    "start_time": "2023-01-23T12:50:11.903Z"
   },
   {
    "duration": 14,
    "start_time": "2023-01-23T12:50:11.914Z"
   },
   {
    "duration": 29,
    "start_time": "2023-01-23T12:50:11.930Z"
   },
   {
    "duration": 100,
    "start_time": "2023-01-23T12:50:11.962Z"
   },
   {
    "duration": 26,
    "start_time": "2023-01-23T12:50:12.063Z"
   },
   {
    "duration": 113,
    "start_time": "2023-01-23T12:50:12.091Z"
   },
   {
    "duration": 8,
    "start_time": "2023-01-23T12:50:12.206Z"
   },
   {
    "duration": 25,
    "start_time": "2023-01-23T12:50:12.215Z"
   },
   {
    "duration": 29,
    "start_time": "2023-01-23T12:50:12.242Z"
   },
   {
    "duration": 94,
    "start_time": "2023-01-23T12:50:12.273Z"
   },
   {
    "duration": 29,
    "start_time": "2023-01-23T12:50:12.368Z"
   },
   {
    "duration": 179,
    "start_time": "2023-01-23T12:50:12.399Z"
   },
   {
    "duration": 10,
    "start_time": "2023-01-23T12:50:12.580Z"
   },
   {
    "duration": 9,
    "start_time": "2023-01-23T12:50:12.591Z"
   },
   {
    "duration": 21,
    "start_time": "2023-01-23T12:50:12.602Z"
   },
   {
    "duration": 6,
    "start_time": "2023-01-23T12:50:12.625Z"
   },
   {
    "duration": 14,
    "start_time": "2023-01-23T12:50:12.633Z"
   },
   {
    "duration": 29,
    "start_time": "2023-01-23T12:50:12.649Z"
   },
   {
    "duration": 18,
    "start_time": "2023-01-23T12:50:12.686Z"
   },
   {
    "duration": 18,
    "start_time": "2023-01-23T12:50:12.706Z"
   },
   {
    "duration": 297,
    "start_time": "2023-01-23T12:50:12.725Z"
   },
   {
    "duration": 10,
    "start_time": "2023-01-23T12:50:13.023Z"
   },
   {
    "duration": 16,
    "start_time": "2023-01-23T12:50:13.035Z"
   },
   {
    "duration": 13,
    "start_time": "2023-01-23T12:50:13.053Z"
   },
   {
    "duration": 35,
    "start_time": "2023-01-23T12:50:13.068Z"
   },
   {
    "duration": 22,
    "start_time": "2023-01-23T12:50:13.104Z"
   },
   {
    "duration": 1818,
    "start_time": "2023-01-23T12:50:13.127Z"
   },
   {
    "duration": 6,
    "start_time": "2023-01-23T12:50:14.946Z"
   },
   {
    "duration": 27,
    "start_time": "2023-01-23T12:50:14.954Z"
   },
   {
    "duration": 15,
    "start_time": "2023-01-23T12:50:14.983Z"
   },
   {
    "duration": 33,
    "start_time": "2023-01-23T12:50:14.999Z"
   },
   {
    "duration": 21,
    "start_time": "2023-01-23T12:50:15.033Z"
   },
   {
    "duration": 90,
    "start_time": "2023-01-23T12:50:15.055Z"
   },
   {
    "duration": 5,
    "start_time": "2023-01-23T12:50:15.147Z"
   },
   {
    "duration": 39,
    "start_time": "2023-01-23T12:50:15.154Z"
   },
   {
    "duration": 31,
    "start_time": "2023-01-23T12:50:15.195Z"
   },
   {
    "duration": 171,
    "start_time": "2023-01-23T12:50:15.227Z"
   },
   {
    "duration": 105,
    "start_time": "2023-01-23T12:50:15.400Z"
   },
   {
    "duration": 0,
    "start_time": "2023-01-23T12:50:15.507Z"
   },
   {
    "duration": 0,
    "start_time": "2023-01-23T12:50:15.509Z"
   },
   {
    "duration": 0,
    "start_time": "2023-01-23T12:50:15.510Z"
   },
   {
    "duration": 0,
    "start_time": "2023-01-23T12:50:15.512Z"
   },
   {
    "duration": 0,
    "start_time": "2023-01-23T12:50:15.513Z"
   },
   {
    "duration": 0,
    "start_time": "2023-01-23T12:50:15.514Z"
   },
   {
    "duration": 0,
    "start_time": "2023-01-23T12:50:15.516Z"
   },
   {
    "duration": 0,
    "start_time": "2023-01-23T12:50:15.517Z"
   },
   {
    "duration": 0,
    "start_time": "2023-01-23T12:50:15.519Z"
   },
   {
    "duration": 0,
    "start_time": "2023-01-23T12:50:15.520Z"
   },
   {
    "duration": 0,
    "start_time": "2023-01-23T12:50:15.522Z"
   },
   {
    "duration": 0,
    "start_time": "2023-01-23T12:50:15.523Z"
   },
   {
    "duration": 0,
    "start_time": "2023-01-23T12:50:15.524Z"
   },
   {
    "duration": 0,
    "start_time": "2023-01-23T12:50:15.525Z"
   },
   {
    "duration": 0,
    "start_time": "2023-01-23T12:50:15.526Z"
   },
   {
    "duration": 0,
    "start_time": "2023-01-23T12:50:15.528Z"
   },
   {
    "duration": 133,
    "start_time": "2023-01-23T12:50:31.561Z"
   },
   {
    "duration": 116,
    "start_time": "2023-01-23T12:50:32.640Z"
   },
   {
    "duration": 4,
    "start_time": "2023-01-23T12:50:43.258Z"
   },
   {
    "duration": 52,
    "start_time": "2023-01-23T12:50:43.264Z"
   },
   {
    "duration": 14,
    "start_time": "2023-01-23T12:50:43.318Z"
   },
   {
    "duration": 19,
    "start_time": "2023-01-23T12:50:43.333Z"
   },
   {
    "duration": 8,
    "start_time": "2023-01-23T12:50:43.355Z"
   },
   {
    "duration": 22,
    "start_time": "2023-01-23T12:50:43.365Z"
   },
   {
    "duration": 17,
    "start_time": "2023-01-23T12:50:43.389Z"
   },
   {
    "duration": 22,
    "start_time": "2023-01-23T12:50:43.408Z"
   },
   {
    "duration": 9,
    "start_time": "2023-01-23T12:50:43.432Z"
   },
   {
    "duration": 8,
    "start_time": "2023-01-23T12:50:43.442Z"
   },
   {
    "duration": 34,
    "start_time": "2023-01-23T12:50:43.452Z"
   },
   {
    "duration": 5,
    "start_time": "2023-01-23T12:50:43.488Z"
   },
   {
    "duration": 11,
    "start_time": "2023-01-23T12:50:43.494Z"
   },
   {
    "duration": 15,
    "start_time": "2023-01-23T12:50:43.506Z"
   },
   {
    "duration": 22,
    "start_time": "2023-01-23T12:50:43.522Z"
   },
   {
    "duration": 116,
    "start_time": "2023-01-23T12:50:43.546Z"
   },
   {
    "duration": 29,
    "start_time": "2023-01-23T12:50:43.664Z"
   },
   {
    "duration": 116,
    "start_time": "2023-01-23T12:50:43.695Z"
   },
   {
    "duration": 11,
    "start_time": "2023-01-23T12:50:43.813Z"
   },
   {
    "duration": 12,
    "start_time": "2023-01-23T12:50:43.826Z"
   },
   {
    "duration": 56,
    "start_time": "2023-01-23T12:50:43.840Z"
   },
   {
    "duration": 119,
    "start_time": "2023-01-23T12:50:43.898Z"
   },
   {
    "duration": 19,
    "start_time": "2023-01-23T12:50:44.018Z"
   },
   {
    "duration": 123,
    "start_time": "2023-01-23T12:50:44.039Z"
   },
   {
    "duration": 10,
    "start_time": "2023-01-23T12:50:44.165Z"
   },
   {
    "duration": 20,
    "start_time": "2023-01-23T12:50:44.177Z"
   },
   {
    "duration": 23,
    "start_time": "2023-01-23T12:50:44.199Z"
   },
   {
    "duration": 135,
    "start_time": "2023-01-23T12:50:44.225Z"
   },
   {
    "duration": 30,
    "start_time": "2023-01-23T12:50:44.364Z"
   },
   {
    "duration": 129,
    "start_time": "2023-01-23T12:50:44.395Z"
   },
   {
    "duration": 8,
    "start_time": "2023-01-23T12:50:44.526Z"
   },
   {
    "duration": 21,
    "start_time": "2023-01-23T12:50:44.536Z"
   },
   {
    "duration": 33,
    "start_time": "2023-01-23T12:50:44.559Z"
   },
   {
    "duration": 127,
    "start_time": "2023-01-23T12:50:44.593Z"
   },
   {
    "duration": 18,
    "start_time": "2023-01-23T12:50:44.722Z"
   },
   {
    "duration": 123,
    "start_time": "2023-01-23T12:50:44.741Z"
   },
   {
    "duration": 8,
    "start_time": "2023-01-23T12:50:44.866Z"
   },
   {
    "duration": 10,
    "start_time": "2023-01-23T12:50:44.885Z"
   },
   {
    "duration": 30,
    "start_time": "2023-01-23T12:50:44.896Z"
   },
   {
    "duration": 5,
    "start_time": "2023-01-23T12:50:44.927Z"
   },
   {
    "duration": 16,
    "start_time": "2023-01-23T12:50:44.933Z"
   },
   {
    "duration": 19,
    "start_time": "2023-01-23T12:50:44.951Z"
   },
   {
    "duration": 25,
    "start_time": "2023-01-23T12:50:44.971Z"
   },
   {
    "duration": 48,
    "start_time": "2023-01-23T12:50:44.997Z"
   },
   {
    "duration": 374,
    "start_time": "2023-01-23T12:50:45.046Z"
   },
   {
    "duration": 11,
    "start_time": "2023-01-23T12:50:45.421Z"
   },
   {
    "duration": 19,
    "start_time": "2023-01-23T12:50:45.433Z"
   },
   {
    "duration": 13,
    "start_time": "2023-01-23T12:50:45.455Z"
   },
   {
    "duration": 51,
    "start_time": "2023-01-23T12:50:45.470Z"
   },
   {
    "duration": 29,
    "start_time": "2023-01-23T12:50:45.523Z"
   },
   {
    "duration": 1785,
    "start_time": "2023-01-23T12:50:45.554Z"
   },
   {
    "duration": 5,
    "start_time": "2023-01-23T12:50:47.341Z"
   },
   {
    "duration": 26,
    "start_time": "2023-01-23T12:50:47.348Z"
   },
   {
    "duration": 16,
    "start_time": "2023-01-23T12:50:47.376Z"
   },
   {
    "duration": 15,
    "start_time": "2023-01-23T12:50:47.394Z"
   },
   {
    "duration": 9,
    "start_time": "2023-01-23T12:50:47.411Z"
   },
   {
    "duration": 95,
    "start_time": "2023-01-23T12:50:47.422Z"
   },
   {
    "duration": 5,
    "start_time": "2023-01-23T12:50:47.519Z"
   },
   {
    "duration": 13,
    "start_time": "2023-01-23T12:50:47.526Z"
   },
   {
    "duration": 8,
    "start_time": "2023-01-23T12:50:47.541Z"
   },
   {
    "duration": 247,
    "start_time": "2023-01-23T12:50:47.550Z"
   },
   {
    "duration": 11,
    "start_time": "2023-01-23T12:50:47.799Z"
   },
   {
    "duration": 0,
    "start_time": "2023-01-23T12:50:47.812Z"
   },
   {
    "duration": 0,
    "start_time": "2023-01-23T12:50:47.813Z"
   },
   {
    "duration": 0,
    "start_time": "2023-01-23T12:50:47.815Z"
   },
   {
    "duration": 0,
    "start_time": "2023-01-23T12:50:47.816Z"
   },
   {
    "duration": 0,
    "start_time": "2023-01-23T12:50:47.817Z"
   },
   {
    "duration": 0,
    "start_time": "2023-01-23T12:50:47.819Z"
   },
   {
    "duration": 0,
    "start_time": "2023-01-23T12:50:47.820Z"
   },
   {
    "duration": 0,
    "start_time": "2023-01-23T12:50:47.821Z"
   },
   {
    "duration": 0,
    "start_time": "2023-01-23T12:50:47.822Z"
   },
   {
    "duration": 0,
    "start_time": "2023-01-23T12:50:47.823Z"
   },
   {
    "duration": 0,
    "start_time": "2023-01-23T12:50:47.824Z"
   },
   {
    "duration": 0,
    "start_time": "2023-01-23T12:50:47.825Z"
   },
   {
    "duration": 0,
    "start_time": "2023-01-23T12:50:47.826Z"
   },
   {
    "duration": 0,
    "start_time": "2023-01-23T12:50:47.826Z"
   },
   {
    "duration": 0,
    "start_time": "2023-01-23T12:50:47.827Z"
   },
   {
    "duration": 0,
    "start_time": "2023-01-23T12:50:47.828Z"
   },
   {
    "duration": 1116,
    "start_time": "2023-01-23T12:51:10.151Z"
   },
   {
    "duration": 46,
    "start_time": "2023-01-23T12:51:11.269Z"
   },
   {
    "duration": 17,
    "start_time": "2023-01-23T12:51:11.316Z"
   },
   {
    "duration": 12,
    "start_time": "2023-01-23T12:51:11.335Z"
   },
   {
    "duration": 9,
    "start_time": "2023-01-23T12:51:11.349Z"
   },
   {
    "duration": 9,
    "start_time": "2023-01-23T12:51:11.360Z"
   },
   {
    "duration": 18,
    "start_time": "2023-01-23T12:51:11.371Z"
   },
   {
    "duration": 50,
    "start_time": "2023-01-23T12:51:11.390Z"
   },
   {
    "duration": 8,
    "start_time": "2023-01-23T12:51:11.441Z"
   },
   {
    "duration": 10,
    "start_time": "2023-01-23T12:51:11.452Z"
   },
   {
    "duration": 8,
    "start_time": "2023-01-23T12:51:11.463Z"
   },
   {
    "duration": 3,
    "start_time": "2023-01-23T12:51:11.487Z"
   },
   {
    "duration": 19,
    "start_time": "2023-01-23T12:51:11.492Z"
   },
   {
    "duration": 6,
    "start_time": "2023-01-23T12:51:11.512Z"
   },
   {
    "duration": 27,
    "start_time": "2023-01-23T12:51:11.520Z"
   },
   {
    "duration": 139,
    "start_time": "2023-01-23T12:51:11.548Z"
   },
   {
    "duration": 19,
    "start_time": "2023-01-23T12:51:11.689Z"
   },
   {
    "duration": 150,
    "start_time": "2023-01-23T12:51:11.710Z"
   },
   {
    "duration": 9,
    "start_time": "2023-01-23T12:51:11.862Z"
   },
   {
    "duration": 21,
    "start_time": "2023-01-23T12:51:11.873Z"
   },
   {
    "duration": 28,
    "start_time": "2023-01-23T12:51:11.896Z"
   },
   {
    "duration": 119,
    "start_time": "2023-01-23T12:51:11.926Z"
   },
   {
    "duration": 18,
    "start_time": "2023-01-23T12:51:12.047Z"
   },
   {
    "duration": 102,
    "start_time": "2023-01-23T12:51:12.067Z"
   },
   {
    "duration": 18,
    "start_time": "2023-01-23T12:51:12.171Z"
   },
   {
    "duration": 9,
    "start_time": "2023-01-23T12:51:12.190Z"
   },
   {
    "duration": 23,
    "start_time": "2023-01-23T12:51:12.201Z"
   },
   {
    "duration": 110,
    "start_time": "2023-01-23T12:51:12.228Z"
   },
   {
    "duration": 18,
    "start_time": "2023-01-23T12:51:12.340Z"
   },
   {
    "duration": 122,
    "start_time": "2023-01-23T12:51:12.359Z"
   },
   {
    "duration": 10,
    "start_time": "2023-01-23T12:51:12.482Z"
   },
   {
    "duration": 17,
    "start_time": "2023-01-23T12:51:12.493Z"
   },
   {
    "duration": 19,
    "start_time": "2023-01-23T12:51:12.511Z"
   },
   {
    "duration": 110,
    "start_time": "2023-01-23T12:51:12.531Z"
   },
   {
    "duration": 24,
    "start_time": "2023-01-23T12:51:12.643Z"
   },
   {
    "duration": 179,
    "start_time": "2023-01-23T12:51:12.669Z"
   },
   {
    "duration": 8,
    "start_time": "2023-01-23T12:51:12.850Z"
   },
   {
    "duration": 13,
    "start_time": "2023-01-23T12:51:12.859Z"
   },
   {
    "duration": 32,
    "start_time": "2023-01-23T12:51:12.873Z"
   },
   {
    "duration": 5,
    "start_time": "2023-01-23T12:51:12.907Z"
   },
   {
    "duration": 13,
    "start_time": "2023-01-23T12:51:12.914Z"
   },
   {
    "duration": 21,
    "start_time": "2023-01-23T12:51:12.928Z"
   },
   {
    "duration": 32,
    "start_time": "2023-01-23T12:51:12.951Z"
   },
   {
    "duration": 16,
    "start_time": "2023-01-23T12:51:12.986Z"
   },
   {
    "duration": 264,
    "start_time": "2023-01-23T12:51:13.004Z"
   },
   {
    "duration": 17,
    "start_time": "2023-01-23T12:51:13.269Z"
   },
   {
    "duration": 7,
    "start_time": "2023-01-23T12:51:13.287Z"
   },
   {
    "duration": 6,
    "start_time": "2023-01-23T12:51:13.295Z"
   },
   {
    "duration": 20,
    "start_time": "2023-01-23T12:51:13.302Z"
   },
   {
    "duration": 9,
    "start_time": "2023-01-23T12:51:13.324Z"
   },
   {
    "duration": 1782,
    "start_time": "2023-01-23T12:51:13.335Z"
   },
   {
    "duration": 5,
    "start_time": "2023-01-23T12:51:15.119Z"
   },
   {
    "duration": 32,
    "start_time": "2023-01-23T12:51:15.126Z"
   },
   {
    "duration": 20,
    "start_time": "2023-01-23T12:51:15.160Z"
   },
   {
    "duration": 30,
    "start_time": "2023-01-23T12:51:15.182Z"
   },
   {
    "duration": 24,
    "start_time": "2023-01-23T12:51:15.214Z"
   },
   {
    "duration": 1031,
    "start_time": "2023-01-23T12:51:15.240Z"
   },
   {
    "duration": 816,
    "start_time": "2023-01-23T12:51:16.273Z"
   },
   {
    "duration": 83,
    "start_time": "2023-01-23T12:51:17.090Z"
   },
   {
    "duration": 24,
    "start_time": "2023-01-23T12:51:17.175Z"
   },
   {
    "duration": 176,
    "start_time": "2023-01-23T12:51:17.201Z"
   },
   {
    "duration": 94,
    "start_time": "2023-01-23T12:51:17.379Z"
   },
   {
    "duration": 0,
    "start_time": "2023-01-23T12:51:17.475Z"
   },
   {
    "duration": 0,
    "start_time": "2023-01-23T12:51:17.476Z"
   },
   {
    "duration": 0,
    "start_time": "2023-01-23T12:51:17.486Z"
   },
   {
    "duration": 0,
    "start_time": "2023-01-23T12:51:17.489Z"
   },
   {
    "duration": 0,
    "start_time": "2023-01-23T12:51:17.490Z"
   },
   {
    "duration": 0,
    "start_time": "2023-01-23T12:51:17.492Z"
   },
   {
    "duration": 0,
    "start_time": "2023-01-23T12:51:17.494Z"
   },
   {
    "duration": 0,
    "start_time": "2023-01-23T12:51:17.495Z"
   },
   {
    "duration": 0,
    "start_time": "2023-01-23T12:51:17.497Z"
   },
   {
    "duration": 0,
    "start_time": "2023-01-23T12:51:17.498Z"
   },
   {
    "duration": 0,
    "start_time": "2023-01-23T12:51:17.499Z"
   },
   {
    "duration": 0,
    "start_time": "2023-01-23T12:51:17.501Z"
   },
   {
    "duration": 0,
    "start_time": "2023-01-23T12:51:17.502Z"
   },
   {
    "duration": 0,
    "start_time": "2023-01-23T12:51:17.504Z"
   },
   {
    "duration": 0,
    "start_time": "2023-01-23T12:51:17.506Z"
   },
   {
    "duration": 0,
    "start_time": "2023-01-23T12:51:17.507Z"
   },
   {
    "duration": 0,
    "start_time": "2023-01-23T12:51:17.509Z"
   },
   {
    "duration": 0,
    "start_time": "2023-01-23T12:51:17.510Z"
   },
   {
    "duration": 0,
    "start_time": "2023-01-23T12:51:17.512Z"
   },
   {
    "duration": 0,
    "start_time": "2023-01-23T12:51:17.514Z"
   },
   {
    "duration": 0,
    "start_time": "2023-01-23T12:51:17.515Z"
   },
   {
    "duration": 0,
    "start_time": "2023-01-23T12:51:17.517Z"
   },
   {
    "duration": 0,
    "start_time": "2023-01-23T12:51:17.518Z"
   },
   {
    "duration": 0,
    "start_time": "2023-01-23T12:51:17.520Z"
   },
   {
    "duration": 0,
    "start_time": "2023-01-23T12:51:17.521Z"
   },
   {
    "duration": 4,
    "start_time": "2023-01-23T12:52:07.372Z"
   },
   {
    "duration": 66,
    "start_time": "2023-01-23T12:52:07.378Z"
   },
   {
    "duration": 18,
    "start_time": "2023-01-23T12:52:07.447Z"
   },
   {
    "duration": 16,
    "start_time": "2023-01-23T12:52:07.466Z"
   },
   {
    "duration": 5,
    "start_time": "2023-01-23T12:52:07.486Z"
   },
   {
    "duration": 11,
    "start_time": "2023-01-23T12:52:07.493Z"
   },
   {
    "duration": 10,
    "start_time": "2023-01-23T12:52:07.505Z"
   },
   {
    "duration": 20,
    "start_time": "2023-01-23T12:52:07.517Z"
   },
   {
    "duration": 9,
    "start_time": "2023-01-23T12:52:07.538Z"
   },
   {
    "duration": 9,
    "start_time": "2023-01-23T12:52:07.548Z"
   },
   {
    "duration": 27,
    "start_time": "2023-01-23T12:52:07.560Z"
   },
   {
    "duration": 19,
    "start_time": "2023-01-23T12:52:07.589Z"
   },
   {
    "duration": 11,
    "start_time": "2023-01-23T12:52:07.610Z"
   },
   {
    "duration": 12,
    "start_time": "2023-01-23T12:52:07.623Z"
   },
   {
    "duration": 27,
    "start_time": "2023-01-23T12:52:07.637Z"
   },
   {
    "duration": 168,
    "start_time": "2023-01-23T12:52:07.666Z"
   },
   {
    "duration": 19,
    "start_time": "2023-01-23T12:52:07.836Z"
   },
   {
    "duration": 115,
    "start_time": "2023-01-23T12:52:07.856Z"
   },
   {
    "duration": 17,
    "start_time": "2023-01-23T12:52:07.973Z"
   },
   {
    "duration": 11,
    "start_time": "2023-01-23T12:52:07.992Z"
   },
   {
    "duration": 21,
    "start_time": "2023-01-23T12:52:08.005Z"
   },
   {
    "duration": 147,
    "start_time": "2023-01-23T12:52:08.028Z"
   },
   {
    "duration": 20,
    "start_time": "2023-01-23T12:52:08.178Z"
   },
   {
    "duration": 114,
    "start_time": "2023-01-23T12:52:08.200Z"
   },
   {
    "duration": 9,
    "start_time": "2023-01-23T12:52:08.315Z"
   },
   {
    "duration": 9,
    "start_time": "2023-01-23T12:52:08.325Z"
   },
   {
    "duration": 19,
    "start_time": "2023-01-23T12:52:08.335Z"
   },
   {
    "duration": 137,
    "start_time": "2023-01-23T12:52:08.356Z"
   },
   {
    "duration": 17,
    "start_time": "2023-01-23T12:52:08.497Z"
   },
   {
    "duration": 121,
    "start_time": "2023-01-23T12:52:08.515Z"
   },
   {
    "duration": 8,
    "start_time": "2023-01-23T12:52:08.638Z"
   },
   {
    "duration": 10,
    "start_time": "2023-01-23T12:52:08.648Z"
   },
   {
    "duration": 37,
    "start_time": "2023-01-23T12:52:08.660Z"
   },
   {
    "duration": 107,
    "start_time": "2023-01-23T12:52:08.698Z"
   },
   {
    "duration": 17,
    "start_time": "2023-01-23T12:52:08.806Z"
   },
   {
    "duration": 116,
    "start_time": "2023-01-23T12:52:08.825Z"
   },
   {
    "duration": 10,
    "start_time": "2023-01-23T12:52:08.942Z"
   },
   {
    "duration": 13,
    "start_time": "2023-01-23T12:52:08.953Z"
   },
   {
    "duration": 32,
    "start_time": "2023-01-23T12:52:08.968Z"
   },
   {
    "duration": 4,
    "start_time": "2023-01-23T12:52:09.001Z"
   },
   {
    "duration": 13,
    "start_time": "2023-01-23T12:52:09.007Z"
   },
   {
    "duration": 16,
    "start_time": "2023-01-23T12:52:09.022Z"
   },
   {
    "duration": 15,
    "start_time": "2023-01-23T12:52:09.040Z"
   },
   {
    "duration": 4,
    "start_time": "2023-01-23T12:52:09.057Z"
   },
   {
    "duration": 282,
    "start_time": "2023-01-23T12:52:09.063Z"
   },
   {
    "duration": 11,
    "start_time": "2023-01-23T12:52:09.346Z"
   },
   {
    "duration": 6,
    "start_time": "2023-01-23T12:52:09.358Z"
   },
   {
    "duration": 21,
    "start_time": "2023-01-23T12:52:09.366Z"
   },
   {
    "duration": 26,
    "start_time": "2023-01-23T12:52:09.388Z"
   },
   {
    "duration": 10,
    "start_time": "2023-01-23T12:52:09.416Z"
   },
   {
    "duration": 1696,
    "start_time": "2023-01-23T12:52:09.428Z"
   },
   {
    "duration": 6,
    "start_time": "2023-01-23T12:52:11.126Z"
   },
   {
    "duration": 41,
    "start_time": "2023-01-23T12:52:11.133Z"
   },
   {
    "duration": 28,
    "start_time": "2023-01-23T12:52:11.176Z"
   },
   {
    "duration": 42,
    "start_time": "2023-01-23T12:52:11.206Z"
   },
   {
    "duration": 30,
    "start_time": "2023-01-23T12:52:11.250Z"
   },
   {
    "duration": 105,
    "start_time": "2023-01-23T12:52:11.282Z"
   },
   {
    "duration": 6,
    "start_time": "2023-01-23T12:52:11.389Z"
   },
   {
    "duration": 11,
    "start_time": "2023-01-23T12:52:11.396Z"
   },
   {
    "duration": 7,
    "start_time": "2023-01-23T12:52:11.409Z"
   },
   {
    "duration": 138,
    "start_time": "2023-01-23T12:52:11.418Z"
   },
   {
    "duration": 9,
    "start_time": "2023-01-23T12:52:11.558Z"
   },
   {
    "duration": 0,
    "start_time": "2023-01-23T12:52:11.569Z"
   },
   {
    "duration": 0,
    "start_time": "2023-01-23T12:52:11.570Z"
   },
   {
    "duration": 0,
    "start_time": "2023-01-23T12:52:11.571Z"
   },
   {
    "duration": 0,
    "start_time": "2023-01-23T12:52:11.586Z"
   },
   {
    "duration": 0,
    "start_time": "2023-01-23T12:52:11.587Z"
   },
   {
    "duration": 0,
    "start_time": "2023-01-23T12:52:11.588Z"
   },
   {
    "duration": 0,
    "start_time": "2023-01-23T12:52:11.590Z"
   },
   {
    "duration": 0,
    "start_time": "2023-01-23T12:52:11.591Z"
   },
   {
    "duration": 0,
    "start_time": "2023-01-23T12:52:11.593Z"
   },
   {
    "duration": 0,
    "start_time": "2023-01-23T12:52:11.594Z"
   },
   {
    "duration": 0,
    "start_time": "2023-01-23T12:52:11.595Z"
   },
   {
    "duration": 0,
    "start_time": "2023-01-23T12:52:11.597Z"
   },
   {
    "duration": 0,
    "start_time": "2023-01-23T12:52:11.598Z"
   },
   {
    "duration": 0,
    "start_time": "2023-01-23T12:52:11.600Z"
   },
   {
    "duration": 0,
    "start_time": "2023-01-23T12:52:11.602Z"
   },
   {
    "duration": 0,
    "start_time": "2023-01-23T12:52:11.603Z"
   },
   {
    "duration": 224,
    "start_time": "2023-01-23T12:52:51.422Z"
   },
   {
    "duration": 6,
    "start_time": "2023-01-23T12:53:57.360Z"
   },
   {
    "duration": 10,
    "start_time": "2023-01-23T12:54:00.960Z"
   },
   {
    "duration": 9,
    "start_time": "2023-01-23T12:54:04.202Z"
   },
   {
    "duration": 185,
    "start_time": "2023-01-23T12:54:24.988Z"
   },
   {
    "duration": 172,
    "start_time": "2023-01-23T12:56:27.883Z"
   },
   {
    "duration": 11,
    "start_time": "2023-01-23T12:56:41.872Z"
   },
   {
    "duration": 9,
    "start_time": "2023-01-23T12:56:42.536Z"
   },
   {
    "duration": 294,
    "start_time": "2023-01-23T12:56:45.798Z"
   },
   {
    "duration": 11,
    "start_time": "2023-01-23T12:56:57.006Z"
   },
   {
    "duration": 9,
    "start_time": "2023-01-23T12:56:58.818Z"
   },
   {
    "duration": 274,
    "start_time": "2023-01-23T12:57:01.032Z"
   },
   {
    "duration": 11,
    "start_time": "2023-01-23T12:57:04.540Z"
   },
   {
    "duration": 8,
    "start_time": "2023-01-23T12:57:07.287Z"
   },
   {
    "duration": 271,
    "start_time": "2023-01-23T12:57:11.021Z"
   },
   {
    "duration": 122,
    "start_time": "2023-01-23T12:57:37.565Z"
   },
   {
    "duration": 112,
    "start_time": "2023-01-23T12:57:39.516Z"
   },
   {
    "duration": 116,
    "start_time": "2023-01-23T12:57:41.285Z"
   },
   {
    "duration": 10,
    "start_time": "2023-01-23T13:20:39.596Z"
   },
   {
    "duration": 8,
    "start_time": "2023-01-23T13:20:41.433Z"
   },
   {
    "duration": 605,
    "start_time": "2023-01-23T13:20:42.084Z"
   },
   {
    "duration": 1228,
    "start_time": "2023-01-23T19:31:40.189Z"
   },
   {
    "duration": 198,
    "start_time": "2023-01-23T19:31:41.418Z"
   },
   {
    "duration": 21,
    "start_time": "2023-01-23T19:31:41.618Z"
   },
   {
    "duration": 31,
    "start_time": "2023-01-23T19:31:41.642Z"
   },
   {
    "duration": 3,
    "start_time": "2023-01-23T19:31:41.676Z"
   },
   {
    "duration": 7,
    "start_time": "2023-01-23T19:31:41.680Z"
   },
   {
    "duration": 16,
    "start_time": "2023-01-23T19:31:41.688Z"
   },
   {
    "duration": 56,
    "start_time": "2023-01-23T19:31:41.706Z"
   },
   {
    "duration": 9,
    "start_time": "2023-01-23T19:31:41.764Z"
   },
   {
    "duration": 5,
    "start_time": "2023-01-23T19:31:41.776Z"
   },
   {
    "duration": 11,
    "start_time": "2023-01-23T19:31:41.782Z"
   },
   {
    "duration": 13,
    "start_time": "2023-01-23T19:31:41.794Z"
   },
   {
    "duration": 14,
    "start_time": "2023-01-23T19:31:41.808Z"
   },
   {
    "duration": 20,
    "start_time": "2023-01-23T19:31:41.824Z"
   },
   {
    "duration": 19,
    "start_time": "2023-01-23T19:31:41.846Z"
   },
   {
    "duration": 117,
    "start_time": "2023-01-23T19:31:41.867Z"
   },
   {
    "duration": 17,
    "start_time": "2023-01-23T19:31:41.986Z"
   },
   {
    "duration": 96,
    "start_time": "2023-01-23T19:31:42.004Z"
   },
   {
    "duration": 8,
    "start_time": "2023-01-23T19:31:42.101Z"
   },
   {
    "duration": 13,
    "start_time": "2023-01-23T19:31:42.110Z"
   },
   {
    "duration": 38,
    "start_time": "2023-01-23T19:31:42.124Z"
   },
   {
    "duration": 97,
    "start_time": "2023-01-23T19:31:42.164Z"
   },
   {
    "duration": 17,
    "start_time": "2023-01-23T19:31:42.262Z"
   },
   {
    "duration": 105,
    "start_time": "2023-01-23T19:31:42.281Z"
   },
   {
    "duration": 8,
    "start_time": "2023-01-23T19:31:42.387Z"
   },
   {
    "duration": 8,
    "start_time": "2023-01-23T19:31:42.396Z"
   },
   {
    "duration": 39,
    "start_time": "2023-01-23T19:31:42.406Z"
   },
   {
    "duration": 117,
    "start_time": "2023-01-23T19:31:42.451Z"
   },
   {
    "duration": 17,
    "start_time": "2023-01-23T19:31:42.569Z"
   },
   {
    "duration": 123,
    "start_time": "2023-01-23T19:31:42.588Z"
   },
   {
    "duration": 8,
    "start_time": "2023-01-23T19:31:42.713Z"
   },
   {
    "duration": 22,
    "start_time": "2023-01-23T19:31:42.723Z"
   },
   {
    "duration": 20,
    "start_time": "2023-01-23T19:31:42.746Z"
   },
   {
    "duration": 115,
    "start_time": "2023-01-23T19:31:42.768Z"
   },
   {
    "duration": 17,
    "start_time": "2023-01-23T19:31:42.884Z"
   },
   {
    "duration": 170,
    "start_time": "2023-01-23T19:31:42.902Z"
   },
   {
    "duration": 7,
    "start_time": "2023-01-23T19:31:43.074Z"
   },
   {
    "duration": 16,
    "start_time": "2023-01-23T19:31:43.082Z"
   },
   {
    "duration": 19,
    "start_time": "2023-01-23T19:31:43.099Z"
   },
   {
    "duration": 4,
    "start_time": "2023-01-23T19:31:43.119Z"
   },
   {
    "duration": 23,
    "start_time": "2023-01-23T19:31:43.124Z"
   },
   {
    "duration": 17,
    "start_time": "2023-01-23T19:31:43.148Z"
   },
   {
    "duration": 14,
    "start_time": "2023-01-23T19:31:43.166Z"
   },
   {
    "duration": 5,
    "start_time": "2023-01-23T19:31:43.181Z"
   },
   {
    "duration": 289,
    "start_time": "2023-01-23T19:31:43.187Z"
   },
   {
    "duration": 11,
    "start_time": "2023-01-23T19:31:43.478Z"
   },
   {
    "duration": 6,
    "start_time": "2023-01-23T19:31:43.491Z"
   },
   {
    "duration": 10,
    "start_time": "2023-01-23T19:31:43.498Z"
   },
   {
    "duration": 20,
    "start_time": "2023-01-23T19:31:43.510Z"
   },
   {
    "duration": 16,
    "start_time": "2023-01-23T19:31:43.532Z"
   },
   {
    "duration": 1845,
    "start_time": "2023-01-23T19:31:43.549Z"
   },
   {
    "duration": 5,
    "start_time": "2023-01-23T19:31:45.396Z"
   },
   {
    "duration": 42,
    "start_time": "2023-01-23T19:31:45.403Z"
   },
   {
    "duration": 25,
    "start_time": "2023-01-23T19:31:45.447Z"
   },
   {
    "duration": 11,
    "start_time": "2023-01-23T19:31:45.473Z"
   },
   {
    "duration": 15,
    "start_time": "2023-01-23T19:31:45.486Z"
   },
   {
    "duration": 121,
    "start_time": "2023-01-23T19:31:45.502Z"
   },
   {
    "duration": 5,
    "start_time": "2023-01-23T19:31:45.625Z"
   },
   {
    "duration": 26,
    "start_time": "2023-01-23T19:31:45.631Z"
   },
   {
    "duration": 23,
    "start_time": "2023-01-23T19:31:45.658Z"
   },
   {
    "duration": 124,
    "start_time": "2023-01-23T19:31:45.683Z"
   },
   {
    "duration": 120,
    "start_time": "2023-01-23T19:31:45.808Z"
   },
   {
    "duration": 6,
    "start_time": "2023-01-23T19:31:45.929Z"
   },
   {
    "duration": 23,
    "start_time": "2023-01-23T19:31:45.944Z"
   },
   {
    "duration": 32,
    "start_time": "2023-01-23T19:31:45.968Z"
   },
   {
    "duration": 167,
    "start_time": "2023-01-23T19:31:46.001Z"
   },
   {
    "duration": 9,
    "start_time": "2023-01-23T19:31:46.170Z"
   },
   {
    "duration": 17,
    "start_time": "2023-01-23T19:31:46.181Z"
   },
   {
    "duration": 268,
    "start_time": "2023-01-23T19:31:46.199Z"
   },
   {
    "duration": 11,
    "start_time": "2023-01-23T19:31:46.468Z"
   },
   {
    "duration": 14,
    "start_time": "2023-01-23T19:31:46.481Z"
   },
   {
    "duration": 288,
    "start_time": "2023-01-23T19:31:46.496Z"
   },
   {
    "duration": 11,
    "start_time": "2023-01-23T19:31:46.786Z"
   },
   {
    "duration": 11,
    "start_time": "2023-01-23T19:31:46.798Z"
   },
   {
    "duration": 286,
    "start_time": "2023-01-23T19:31:46.810Z"
   },
   {
    "duration": 123,
    "start_time": "2023-01-23T19:31:47.098Z"
   },
   {
    "duration": 239,
    "start_time": "2023-01-23T19:31:47.223Z"
   },
   {
    "duration": 130,
    "start_time": "2023-01-23T19:31:47.464Z"
   },
   {
    "duration": 11,
    "start_time": "2023-01-23T19:31:47.595Z"
   },
   {
    "duration": 34,
    "start_time": "2023-01-23T19:31:47.607Z"
   },
   {
    "duration": 511,
    "start_time": "2023-01-23T19:31:47.643Z"
   },
   {
    "duration": 5,
    "start_time": "2023-01-23T19:52:49.843Z"
   },
   {
    "duration": 7,
    "start_time": "2023-01-23T19:52:50.461Z"
   },
   {
    "duration": 7,
    "start_time": "2023-01-23T19:52:52.684Z"
   },
   {
    "duration": 6,
    "start_time": "2023-01-23T20:02:19.072Z"
   },
   {
    "duration": 5,
    "start_time": "2023-01-23T20:02:19.674Z"
   },
   {
    "duration": 6,
    "start_time": "2023-01-23T20:02:20.519Z"
   },
   {
    "duration": 1210,
    "start_time": "2023-01-24T15:53:07.999Z"
   },
   {
    "duration": 199,
    "start_time": "2023-01-24T15:53:09.212Z"
   },
   {
    "duration": 19,
    "start_time": "2023-01-24T15:53:09.413Z"
   },
   {
    "duration": 19,
    "start_time": "2023-01-24T15:53:09.434Z"
   },
   {
    "duration": 4,
    "start_time": "2023-01-24T15:53:09.455Z"
   },
   {
    "duration": 6,
    "start_time": "2023-01-24T15:53:09.460Z"
   },
   {
    "duration": 10,
    "start_time": "2023-01-24T15:53:09.468Z"
   },
   {
    "duration": 53,
    "start_time": "2023-01-24T15:53:09.492Z"
   },
   {
    "duration": 10,
    "start_time": "2023-01-24T15:53:09.547Z"
   },
   {
    "duration": 5,
    "start_time": "2023-01-24T15:53:09.560Z"
   },
   {
    "duration": 6,
    "start_time": "2023-01-24T15:53:09.591Z"
   },
   {
    "duration": 10,
    "start_time": "2023-01-24T15:53:09.599Z"
   },
   {
    "duration": 10,
    "start_time": "2023-01-24T15:53:09.610Z"
   },
   {
    "duration": 8,
    "start_time": "2023-01-24T15:53:09.621Z"
   },
   {
    "duration": 33,
    "start_time": "2023-01-24T15:53:09.631Z"
   },
   {
    "duration": 130,
    "start_time": "2023-01-24T15:53:09.665Z"
   },
   {
    "duration": 20,
    "start_time": "2023-01-24T15:53:09.797Z"
   },
   {
    "duration": 131,
    "start_time": "2023-01-24T15:53:09.819Z"
   },
   {
    "duration": 12,
    "start_time": "2023-01-24T15:53:09.952Z"
   },
   {
    "duration": 26,
    "start_time": "2023-01-24T15:53:09.967Z"
   },
   {
    "duration": 35,
    "start_time": "2023-01-24T15:53:09.995Z"
   },
   {
    "duration": 140,
    "start_time": "2023-01-24T15:53:10.032Z"
   },
   {
    "duration": 28,
    "start_time": "2023-01-24T15:53:10.174Z"
   },
   {
    "duration": 109,
    "start_time": "2023-01-24T15:53:10.203Z"
   },
   {
    "duration": 12,
    "start_time": "2023-01-24T15:53:10.315Z"
   },
   {
    "duration": 12,
    "start_time": "2023-01-24T15:53:10.329Z"
   },
   {
    "duration": 22,
    "start_time": "2023-01-24T15:53:10.343Z"
   },
   {
    "duration": 114,
    "start_time": "2023-01-24T15:53:10.393Z"
   },
   {
    "duration": 19,
    "start_time": "2023-01-24T15:53:10.508Z"
   },
   {
    "duration": 127,
    "start_time": "2023-01-24T15:53:10.529Z"
   },
   {
    "duration": 11,
    "start_time": "2023-01-24T15:53:10.658Z"
   },
   {
    "duration": 24,
    "start_time": "2023-01-24T15:53:10.671Z"
   },
   {
    "duration": 21,
    "start_time": "2023-01-24T15:53:10.697Z"
   },
   {
    "duration": 127,
    "start_time": "2023-01-24T15:53:10.720Z"
   },
   {
    "duration": 20,
    "start_time": "2023-01-24T15:53:10.848Z"
   },
   {
    "duration": 201,
    "start_time": "2023-01-24T15:53:10.869Z"
   },
   {
    "duration": 20,
    "start_time": "2023-01-24T15:53:11.072Z"
   },
   {
    "duration": 13,
    "start_time": "2023-01-24T15:53:11.094Z"
   },
   {
    "duration": 22,
    "start_time": "2023-01-24T15:53:11.109Z"
   },
   {
    "duration": 5,
    "start_time": "2023-01-24T15:53:11.133Z"
   },
   {
    "duration": 6,
    "start_time": "2023-01-24T15:53:11.139Z"
   },
   {
    "duration": 47,
    "start_time": "2023-01-24T15:53:11.146Z"
   },
   {
    "duration": 17,
    "start_time": "2023-01-24T15:53:11.195Z"
   },
   {
    "duration": 7,
    "start_time": "2023-01-24T15:53:11.214Z"
   },
   {
    "duration": 330,
    "start_time": "2023-01-24T15:53:11.223Z"
   },
   {
    "duration": 13,
    "start_time": "2023-01-24T15:53:11.554Z"
   },
   {
    "duration": 7,
    "start_time": "2023-01-24T15:53:11.570Z"
   },
   {
    "duration": 3,
    "start_time": "2023-01-24T15:53:11.593Z"
   },
   {
    "duration": 35,
    "start_time": "2023-01-24T15:53:11.598Z"
   },
   {
    "duration": 16,
    "start_time": "2023-01-24T15:53:11.635Z"
   },
   {
    "duration": 1959,
    "start_time": "2023-01-24T15:53:11.653Z"
   },
   {
    "duration": 6,
    "start_time": "2023-01-24T15:53:13.614Z"
   },
   {
    "duration": 19,
    "start_time": "2023-01-24T15:53:13.622Z"
   },
   {
    "duration": 11,
    "start_time": "2023-01-24T15:53:13.643Z"
   },
   {
    "duration": 11,
    "start_time": "2023-01-24T15:53:13.655Z"
   },
   {
    "duration": 26,
    "start_time": "2023-01-24T15:53:13.667Z"
   },
   {
    "duration": 120,
    "start_time": "2023-01-24T15:53:13.694Z"
   },
   {
    "duration": 6,
    "start_time": "2023-01-24T15:53:13.816Z"
   },
   {
    "duration": 8,
    "start_time": "2023-01-24T15:53:13.823Z"
   },
   {
    "duration": 6,
    "start_time": "2023-01-24T15:53:13.833Z"
   },
   {
    "duration": 155,
    "start_time": "2023-01-24T15:53:13.840Z"
   },
   {
    "duration": 136,
    "start_time": "2023-01-24T15:53:13.997Z"
   },
   {
    "duration": 7,
    "start_time": "2023-01-24T15:53:14.134Z"
   },
   {
    "duration": 19,
    "start_time": "2023-01-24T15:53:14.142Z"
   },
   {
    "duration": 7,
    "start_time": "2023-01-24T15:53:14.163Z"
   },
   {
    "duration": 203,
    "start_time": "2023-01-24T15:53:14.172Z"
   },
   {
    "duration": 19,
    "start_time": "2023-01-24T15:53:14.376Z"
   },
   {
    "duration": 8,
    "start_time": "2023-01-24T15:53:14.397Z"
   },
   {
    "duration": 317,
    "start_time": "2023-01-24T15:53:14.408Z"
   },
   {
    "duration": 13,
    "start_time": "2023-01-24T15:53:14.726Z"
   },
   {
    "duration": 12,
    "start_time": "2023-01-24T15:53:14.740Z"
   },
   {
    "duration": 333,
    "start_time": "2023-01-24T15:53:14.753Z"
   },
   {
    "duration": 16,
    "start_time": "2023-01-24T15:53:15.087Z"
   },
   {
    "duration": 14,
    "start_time": "2023-01-24T15:53:15.105Z"
   },
   {
    "duration": 332,
    "start_time": "2023-01-24T15:53:15.121Z"
   },
   {
    "duration": 144,
    "start_time": "2023-01-24T15:53:15.455Z"
   },
   {
    "duration": 268,
    "start_time": "2023-01-24T15:53:15.600Z"
   },
   {
    "duration": 148,
    "start_time": "2023-01-24T15:53:15.871Z"
   },
   {
    "duration": 14,
    "start_time": "2023-01-24T15:53:16.021Z"
   },
   {
    "duration": 50,
    "start_time": "2023-01-24T15:53:16.037Z"
   },
   {
    "duration": 659,
    "start_time": "2023-01-24T15:53:16.091Z"
   },
   {
    "duration": 6,
    "start_time": "2023-01-24T15:53:16.755Z"
   },
   {
    "duration": 11,
    "start_time": "2023-01-24T15:53:16.762Z"
   },
   {
    "duration": 17,
    "start_time": "2023-01-24T15:53:16.775Z"
   },
   {
    "duration": 9,
    "start_time": "2023-01-24T15:53:16.794Z"
   },
   {
    "duration": 7,
    "start_time": "2023-01-24T15:53:16.804Z"
   },
   {
    "duration": 14,
    "start_time": "2023-01-24T15:53:16.813Z"
   },
   {
    "duration": 1217,
    "start_time": "2023-01-24T15:53:51.784Z"
   },
   {
    "duration": 58,
    "start_time": "2023-01-24T15:53:53.003Z"
   },
   {
    "duration": 19,
    "start_time": "2023-01-24T15:53:53.062Z"
   },
   {
    "duration": 15,
    "start_time": "2023-01-24T15:53:53.083Z"
   },
   {
    "duration": 4,
    "start_time": "2023-01-24T15:53:53.100Z"
   },
   {
    "duration": 7,
    "start_time": "2023-01-24T15:53:53.105Z"
   },
   {
    "duration": 11,
    "start_time": "2023-01-24T15:53:53.114Z"
   },
   {
    "duration": 76,
    "start_time": "2023-01-24T15:53:53.126Z"
   },
   {
    "duration": 10,
    "start_time": "2023-01-24T15:53:53.204Z"
   },
   {
    "duration": 11,
    "start_time": "2023-01-24T15:53:53.217Z"
   },
   {
    "duration": 12,
    "start_time": "2023-01-24T15:53:53.230Z"
   },
   {
    "duration": 6,
    "start_time": "2023-01-24T15:53:53.244Z"
   },
   {
    "duration": 11,
    "start_time": "2023-01-24T15:53:53.252Z"
   },
   {
    "duration": 7,
    "start_time": "2023-01-24T15:53:53.264Z"
   },
   {
    "duration": 27,
    "start_time": "2023-01-24T15:53:53.291Z"
   },
   {
    "duration": 132,
    "start_time": "2023-01-24T15:53:53.320Z"
   },
   {
    "duration": 19,
    "start_time": "2023-01-24T15:53:53.454Z"
   },
   {
    "duration": 118,
    "start_time": "2023-01-24T15:53:53.475Z"
   },
   {
    "duration": 9,
    "start_time": "2023-01-24T15:53:53.595Z"
   },
   {
    "duration": 9,
    "start_time": "2023-01-24T15:53:53.606Z"
   },
   {
    "duration": 22,
    "start_time": "2023-01-24T15:53:53.617Z"
   },
   {
    "duration": 139,
    "start_time": "2023-01-24T15:53:53.641Z"
   },
   {
    "duration": 23,
    "start_time": "2023-01-24T15:53:53.781Z"
   },
   {
    "duration": 151,
    "start_time": "2023-01-24T15:53:53.806Z"
   },
   {
    "duration": 9,
    "start_time": "2023-01-24T15:53:53.959Z"
   },
   {
    "duration": 22,
    "start_time": "2023-01-24T15:53:53.970Z"
   },
   {
    "duration": 21,
    "start_time": "2023-01-24T15:53:53.994Z"
   },
   {
    "duration": 128,
    "start_time": "2023-01-24T15:53:54.019Z"
   },
   {
    "duration": 20,
    "start_time": "2023-01-24T15:53:54.149Z"
   },
   {
    "duration": 146,
    "start_time": "2023-01-24T15:53:54.171Z"
   },
   {
    "duration": 9,
    "start_time": "2023-01-24T15:53:54.319Z"
   },
   {
    "duration": 11,
    "start_time": "2023-01-24T15:53:54.330Z"
   },
   {
    "duration": 30,
    "start_time": "2023-01-24T15:53:54.343Z"
   },
   {
    "duration": 116,
    "start_time": "2023-01-24T15:53:54.393Z"
   },
   {
    "duration": 18,
    "start_time": "2023-01-24T15:53:54.512Z"
   },
   {
    "duration": 212,
    "start_time": "2023-01-24T15:53:54.532Z"
   },
   {
    "duration": 8,
    "start_time": "2023-01-24T15:53:54.746Z"
   },
   {
    "duration": 29,
    "start_time": "2023-01-24T15:53:54.756Z"
   },
   {
    "duration": 33,
    "start_time": "2023-01-24T15:53:54.786Z"
   },
   {
    "duration": 5,
    "start_time": "2023-01-24T15:53:54.821Z"
   },
   {
    "duration": 18,
    "start_time": "2023-01-24T15:53:54.828Z"
   },
   {
    "duration": 19,
    "start_time": "2023-01-24T15:53:54.848Z"
   },
   {
    "duration": 26,
    "start_time": "2023-01-24T15:53:54.869Z"
   },
   {
    "duration": 7,
    "start_time": "2023-01-24T15:53:54.897Z"
   },
   {
    "duration": 317,
    "start_time": "2023-01-24T15:53:54.906Z"
   },
   {
    "duration": 14,
    "start_time": "2023-01-24T15:53:55.225Z"
   },
   {
    "duration": 8,
    "start_time": "2023-01-24T15:53:55.241Z"
   },
   {
    "duration": 16,
    "start_time": "2023-01-24T15:53:55.251Z"
   },
   {
    "duration": 29,
    "start_time": "2023-01-24T15:53:55.269Z"
   },
   {
    "duration": 11,
    "start_time": "2023-01-24T15:53:55.299Z"
   },
   {
    "duration": 2033,
    "start_time": "2023-01-24T15:53:55.311Z"
   },
   {
    "duration": 6,
    "start_time": "2023-01-24T15:53:57.346Z"
   },
   {
    "duration": 21,
    "start_time": "2023-01-24T15:53:57.354Z"
   },
   {
    "duration": 20,
    "start_time": "2023-01-24T15:53:57.377Z"
   },
   {
    "duration": 7,
    "start_time": "2023-01-24T15:53:57.398Z"
   },
   {
    "duration": 7,
    "start_time": "2023-01-24T15:53:57.407Z"
   },
   {
    "duration": 114,
    "start_time": "2023-01-24T15:53:57.415Z"
   },
   {
    "duration": 6,
    "start_time": "2023-01-24T15:53:57.530Z"
   },
   {
    "duration": 14,
    "start_time": "2023-01-24T15:53:57.537Z"
   },
   {
    "duration": 12,
    "start_time": "2023-01-24T15:53:57.552Z"
   },
   {
    "duration": 155,
    "start_time": "2023-01-24T15:53:57.566Z"
   },
   {
    "duration": 157,
    "start_time": "2023-01-24T15:53:57.722Z"
   },
   {
    "duration": 6,
    "start_time": "2023-01-24T15:53:57.880Z"
   },
   {
    "duration": 13,
    "start_time": "2023-01-24T15:53:57.892Z"
   },
   {
    "duration": 24,
    "start_time": "2023-01-24T15:53:57.907Z"
   },
   {
    "duration": 202,
    "start_time": "2023-01-24T15:53:57.933Z"
   },
   {
    "duration": 14,
    "start_time": "2023-01-24T15:53:58.137Z"
   },
   {
    "duration": 14,
    "start_time": "2023-01-24T15:53:58.152Z"
   },
   {
    "duration": 309,
    "start_time": "2023-01-24T15:53:58.168Z"
   },
   {
    "duration": 18,
    "start_time": "2023-01-24T15:53:58.479Z"
   },
   {
    "duration": 16,
    "start_time": "2023-01-24T15:53:58.499Z"
   },
   {
    "duration": 303,
    "start_time": "2023-01-24T15:53:58.517Z"
   },
   {
    "duration": 11,
    "start_time": "2023-01-24T15:53:58.821Z"
   },
   {
    "duration": 19,
    "start_time": "2023-01-24T15:53:58.834Z"
   },
   {
    "duration": 311,
    "start_time": "2023-01-24T15:53:58.855Z"
   },
   {
    "duration": 153,
    "start_time": "2023-01-24T15:53:59.168Z"
   },
   {
    "duration": 259,
    "start_time": "2023-01-24T15:53:59.323Z"
   },
   {
    "duration": 139,
    "start_time": "2023-01-24T15:53:59.584Z"
   },
   {
    "duration": 12,
    "start_time": "2023-01-24T15:53:59.725Z"
   },
   {
    "duration": 77,
    "start_time": "2023-01-24T15:53:59.739Z"
   },
   {
    "duration": 576,
    "start_time": "2023-01-24T15:53:59.818Z"
   },
   {
    "duration": 5,
    "start_time": "2023-01-24T15:54:00.401Z"
   },
   {
    "duration": 53,
    "start_time": "2023-01-24T15:54:00.408Z"
   },
   {
    "duration": 32,
    "start_time": "2023-01-24T15:54:00.463Z"
   },
   {
    "duration": 23,
    "start_time": "2023-01-24T15:54:00.497Z"
   },
   {
    "duration": 34,
    "start_time": "2023-01-24T15:54:00.523Z"
   },
   {
    "duration": 41,
    "start_time": "2023-01-24T15:54:00.558Z"
   },
   {
    "duration": 80,
    "start_time": "2023-01-24T15:54:17.632Z"
   },
   {
    "duration": 1215,
    "start_time": "2023-01-24T16:53:40.171Z"
   },
   {
    "duration": 51,
    "start_time": "2023-01-24T16:53:41.388Z"
   },
   {
    "duration": 16,
    "start_time": "2023-01-24T16:53:41.441Z"
   },
   {
    "duration": 14,
    "start_time": "2023-01-24T16:53:41.460Z"
   },
   {
    "duration": 4,
    "start_time": "2023-01-24T16:53:41.476Z"
   },
   {
    "duration": 11,
    "start_time": "2023-01-24T16:53:41.481Z"
   },
   {
    "duration": 10,
    "start_time": "2023-01-24T16:53:41.494Z"
   },
   {
    "duration": 51,
    "start_time": "2023-01-24T16:53:41.506Z"
   },
   {
    "duration": 38,
    "start_time": "2023-01-24T16:53:41.559Z"
   },
   {
    "duration": 5,
    "start_time": "2023-01-24T16:53:41.600Z"
   },
   {
    "duration": 12,
    "start_time": "2023-01-24T16:53:41.607Z"
   },
   {
    "duration": 8,
    "start_time": "2023-01-24T16:53:41.621Z"
   },
   {
    "duration": 16,
    "start_time": "2023-01-24T16:53:41.632Z"
   },
   {
    "duration": 9,
    "start_time": "2023-01-24T16:53:41.650Z"
   },
   {
    "duration": 40,
    "start_time": "2023-01-24T16:53:41.661Z"
   },
   {
    "duration": 170,
    "start_time": "2023-01-24T16:53:41.703Z"
   },
   {
    "duration": 28,
    "start_time": "2023-01-24T16:53:41.875Z"
   },
   {
    "duration": 115,
    "start_time": "2023-01-24T16:53:41.905Z"
   },
   {
    "duration": 11,
    "start_time": "2023-01-24T16:53:42.021Z"
   },
   {
    "duration": 18,
    "start_time": "2023-01-24T16:53:42.034Z"
   },
   {
    "duration": 24,
    "start_time": "2023-01-24T16:53:42.053Z"
   },
   {
    "duration": 137,
    "start_time": "2023-01-24T16:53:42.078Z"
   },
   {
    "duration": 20,
    "start_time": "2023-01-24T16:53:42.216Z"
   },
   {
    "duration": 127,
    "start_time": "2023-01-24T16:53:42.237Z"
   },
   {
    "duration": 9,
    "start_time": "2023-01-24T16:53:42.366Z"
   },
   {
    "duration": 29,
    "start_time": "2023-01-24T16:53:42.377Z"
   },
   {
    "duration": 25,
    "start_time": "2023-01-24T16:53:42.408Z"
   },
   {
    "duration": 140,
    "start_time": "2023-01-24T16:53:42.438Z"
   },
   {
    "duration": 22,
    "start_time": "2023-01-24T16:53:42.579Z"
   },
   {
    "duration": 132,
    "start_time": "2023-01-24T16:53:42.603Z"
   },
   {
    "duration": 9,
    "start_time": "2023-01-24T16:53:42.736Z"
   },
   {
    "duration": 27,
    "start_time": "2023-01-24T16:53:42.746Z"
   },
   {
    "duration": 46,
    "start_time": "2023-01-24T16:53:42.775Z"
   },
   {
    "duration": 110,
    "start_time": "2023-01-24T16:53:42.822Z"
   },
   {
    "duration": 18,
    "start_time": "2023-01-24T16:53:42.934Z"
   },
   {
    "duration": 205,
    "start_time": "2023-01-24T16:53:42.953Z"
   },
   {
    "duration": 9,
    "start_time": "2023-01-24T16:53:43.160Z"
   },
   {
    "duration": 24,
    "start_time": "2023-01-24T16:53:43.171Z"
   },
   {
    "duration": 24,
    "start_time": "2023-01-24T16:53:43.197Z"
   },
   {
    "duration": 5,
    "start_time": "2023-01-24T16:53:43.222Z"
   },
   {
    "duration": 8,
    "start_time": "2023-01-24T16:53:43.230Z"
   },
   {
    "duration": 17,
    "start_time": "2023-01-24T16:53:43.240Z"
   },
   {
    "duration": 43,
    "start_time": "2023-01-24T16:53:43.259Z"
   },
   {
    "duration": 6,
    "start_time": "2023-01-24T16:53:43.304Z"
   },
   {
    "duration": 330,
    "start_time": "2023-01-24T16:53:43.312Z"
   },
   {
    "duration": 13,
    "start_time": "2023-01-24T16:53:43.644Z"
   },
   {
    "duration": 45,
    "start_time": "2023-01-24T16:53:43.659Z"
   },
   {
    "duration": 44,
    "start_time": "2023-01-24T16:53:43.706Z"
   },
   {
    "duration": 24,
    "start_time": "2023-01-24T16:53:43.753Z"
   },
   {
    "duration": 13,
    "start_time": "2023-01-24T16:53:43.779Z"
   },
   {
    "duration": 2023,
    "start_time": "2023-01-24T16:53:43.794Z"
   },
   {
    "duration": 6,
    "start_time": "2023-01-24T16:53:45.819Z"
   },
   {
    "duration": 18,
    "start_time": "2023-01-24T16:53:45.828Z"
   },
   {
    "duration": 13,
    "start_time": "2023-01-24T16:53:45.850Z"
   },
   {
    "duration": 28,
    "start_time": "2023-01-24T16:53:45.865Z"
   },
   {
    "duration": 18,
    "start_time": "2023-01-24T16:53:45.896Z"
   },
   {
    "duration": 194,
    "start_time": "2023-01-24T16:53:45.916Z"
   },
   {
    "duration": 7,
    "start_time": "2023-01-24T16:53:46.113Z"
   },
   {
    "duration": 83,
    "start_time": "2023-01-24T16:53:46.123Z"
   },
   {
    "duration": 14,
    "start_time": "2023-01-24T16:53:46.209Z"
   },
   {
    "duration": 226,
    "start_time": "2023-01-24T16:53:46.225Z"
   },
   {
    "duration": 159,
    "start_time": "2023-01-24T16:53:46.454Z"
   },
   {
    "duration": 5,
    "start_time": "2023-01-24T16:53:46.615Z"
   },
   {
    "duration": 12,
    "start_time": "2023-01-24T16:53:46.622Z"
   },
   {
    "duration": 16,
    "start_time": "2023-01-24T16:53:46.636Z"
   },
   {
    "duration": 210,
    "start_time": "2023-01-24T16:53:46.654Z"
   },
   {
    "duration": 26,
    "start_time": "2023-01-24T16:53:46.866Z"
   },
   {
    "duration": 10,
    "start_time": "2023-01-24T16:53:46.894Z"
   },
   {
    "duration": 346,
    "start_time": "2023-01-24T16:53:46.906Z"
   },
   {
    "duration": 13,
    "start_time": "2023-01-24T16:53:47.254Z"
   },
   {
    "duration": 28,
    "start_time": "2023-01-24T16:53:47.268Z"
   },
   {
    "duration": 322,
    "start_time": "2023-01-24T16:53:47.298Z"
   },
   {
    "duration": 12,
    "start_time": "2023-01-24T16:53:47.622Z"
   },
   {
    "duration": 12,
    "start_time": "2023-01-24T16:53:47.636Z"
   },
   {
    "duration": 373,
    "start_time": "2023-01-24T16:53:47.649Z"
   },
   {
    "duration": 167,
    "start_time": "2023-01-24T16:53:48.025Z"
   },
   {
    "duration": 250,
    "start_time": "2023-01-24T16:53:48.194Z"
   },
   {
    "duration": 137,
    "start_time": "2023-01-24T16:53:48.445Z"
   },
   {
    "duration": 12,
    "start_time": "2023-01-24T16:53:48.592Z"
   },
   {
    "duration": 14,
    "start_time": "2023-01-24T16:53:48.607Z"
   },
   {
    "duration": 696,
    "start_time": "2023-01-24T16:53:48.624Z"
   },
   {
    "duration": 7,
    "start_time": "2023-01-24T16:53:49.328Z"
   },
   {
    "duration": 28,
    "start_time": "2023-01-24T16:53:49.337Z"
   },
   {
    "duration": 22,
    "start_time": "2023-01-24T16:53:49.368Z"
   },
   {
    "duration": 20,
    "start_time": "2023-01-24T16:53:49.391Z"
   },
   {
    "duration": 25,
    "start_time": "2023-01-24T16:53:49.413Z"
   },
   {
    "duration": 11,
    "start_time": "2023-01-24T16:53:49.440Z"
   },
   {
    "duration": 82,
    "start_time": "2023-01-24T17:39:36.405Z"
   },
   {
    "duration": 395,
    "start_time": "2023-01-24T17:40:14.176Z"
   },
   {
    "duration": 75,
    "start_time": "2023-01-24T17:43:16.340Z"
   },
   {
    "duration": 0,
    "start_time": "2023-01-24T17:43:16.418Z"
   },
   {
    "duration": 0,
    "start_time": "2023-01-24T17:43:16.419Z"
   },
   {
    "duration": 0,
    "start_time": "2023-01-24T17:43:16.420Z"
   },
   {
    "duration": 0,
    "start_time": "2023-01-24T17:43:16.421Z"
   },
   {
    "duration": 0,
    "start_time": "2023-01-24T17:43:16.423Z"
   },
   {
    "duration": 0,
    "start_time": "2023-01-24T17:43:16.423Z"
   },
   {
    "duration": 0,
    "start_time": "2023-01-24T17:43:16.425Z"
   },
   {
    "duration": 0,
    "start_time": "2023-01-24T17:43:16.426Z"
   },
   {
    "duration": 0,
    "start_time": "2023-01-24T17:43:16.427Z"
   },
   {
    "duration": 0,
    "start_time": "2023-01-24T17:43:16.428Z"
   },
   {
    "duration": 0,
    "start_time": "2023-01-24T17:43:16.429Z"
   },
   {
    "duration": 0,
    "start_time": "2023-01-24T17:43:16.430Z"
   },
   {
    "duration": 0,
    "start_time": "2023-01-24T17:43:16.431Z"
   },
   {
    "duration": 0,
    "start_time": "2023-01-24T17:43:16.433Z"
   },
   {
    "duration": 0,
    "start_time": "2023-01-24T17:43:16.434Z"
   },
   {
    "duration": 0,
    "start_time": "2023-01-24T17:43:16.435Z"
   },
   {
    "duration": 95,
    "start_time": "2023-01-24T17:43:16.438Z"
   },
   {
    "duration": 0,
    "start_time": "2023-01-24T17:43:16.535Z"
   },
   {
    "duration": 0,
    "start_time": "2023-01-24T17:43:16.536Z"
   },
   {
    "duration": 0,
    "start_time": "2023-01-24T17:43:16.537Z"
   },
   {
    "duration": 0,
    "start_time": "2023-01-24T17:43:16.537Z"
   },
   {
    "duration": 0,
    "start_time": "2023-01-24T17:43:16.538Z"
   },
   {
    "duration": 0,
    "start_time": "2023-01-24T17:43:16.539Z"
   },
   {
    "duration": 0,
    "start_time": "2023-01-24T17:43:16.540Z"
   },
   {
    "duration": 0,
    "start_time": "2023-01-24T17:43:16.541Z"
   },
   {
    "duration": 0,
    "start_time": "2023-01-24T17:43:16.542Z"
   },
   {
    "duration": 0,
    "start_time": "2023-01-24T17:43:16.543Z"
   },
   {
    "duration": 0,
    "start_time": "2023-01-24T17:43:16.545Z"
   },
   {
    "duration": 0,
    "start_time": "2023-01-24T17:43:16.546Z"
   },
   {
    "duration": 0,
    "start_time": "2023-01-24T17:43:16.547Z"
   },
   {
    "duration": 0,
    "start_time": "2023-01-24T17:43:16.548Z"
   },
   {
    "duration": 0,
    "start_time": "2023-01-24T17:43:16.549Z"
   },
   {
    "duration": 0,
    "start_time": "2023-01-24T17:43:16.551Z"
   },
   {
    "duration": 0,
    "start_time": "2023-01-24T17:43:16.552Z"
   },
   {
    "duration": 0,
    "start_time": "2023-01-24T17:43:16.553Z"
   },
   {
    "duration": 0,
    "start_time": "2023-01-24T17:43:16.554Z"
   },
   {
    "duration": 0,
    "start_time": "2023-01-24T17:43:16.555Z"
   },
   {
    "duration": 0,
    "start_time": "2023-01-24T17:43:16.556Z"
   },
   {
    "duration": 0,
    "start_time": "2023-01-24T17:43:16.557Z"
   },
   {
    "duration": 0,
    "start_time": "2023-01-24T17:43:16.558Z"
   },
   {
    "duration": 0,
    "start_time": "2023-01-24T17:43:16.559Z"
   },
   {
    "duration": 0,
    "start_time": "2023-01-24T17:43:16.560Z"
   },
   {
    "duration": 0,
    "start_time": "2023-01-24T17:43:16.561Z"
   },
   {
    "duration": 5,
    "start_time": "2023-01-24T17:43:19.536Z"
   },
   {
    "duration": 66,
    "start_time": "2023-01-24T17:43:27.928Z"
   },
   {
    "duration": 0,
    "start_time": "2023-01-24T17:43:27.996Z"
   },
   {
    "duration": 0,
    "start_time": "2023-01-24T17:43:27.997Z"
   },
   {
    "duration": 0,
    "start_time": "2023-01-24T17:43:27.998Z"
   },
   {
    "duration": 0,
    "start_time": "2023-01-24T17:43:28.000Z"
   },
   {
    "duration": 0,
    "start_time": "2023-01-24T17:43:28.001Z"
   },
   {
    "duration": 0,
    "start_time": "2023-01-24T17:43:28.002Z"
   },
   {
    "duration": 0,
    "start_time": "2023-01-24T17:43:28.003Z"
   },
   {
    "duration": 0,
    "start_time": "2023-01-24T17:43:28.005Z"
   },
   {
    "duration": 0,
    "start_time": "2023-01-24T17:43:28.006Z"
   },
   {
    "duration": 0,
    "start_time": "2023-01-24T17:43:28.007Z"
   },
   {
    "duration": 0,
    "start_time": "2023-01-24T17:43:28.008Z"
   },
   {
    "duration": 1,
    "start_time": "2023-01-24T17:43:28.008Z"
   },
   {
    "duration": 0,
    "start_time": "2023-01-24T17:43:28.010Z"
   },
   {
    "duration": 0,
    "start_time": "2023-01-24T17:43:28.011Z"
   },
   {
    "duration": 0,
    "start_time": "2023-01-24T17:43:28.013Z"
   },
   {
    "duration": 0,
    "start_time": "2023-01-24T17:43:28.014Z"
   },
   {
    "duration": 0,
    "start_time": "2023-01-24T17:43:28.017Z"
   },
   {
    "duration": 0,
    "start_time": "2023-01-24T17:43:28.018Z"
   },
   {
    "duration": 19,
    "start_time": "2023-01-24T17:43:28.020Z"
   },
   {
    "duration": 0,
    "start_time": "2023-01-24T17:43:28.040Z"
   },
   {
    "duration": 0,
    "start_time": "2023-01-24T17:43:28.041Z"
   },
   {
    "duration": 0,
    "start_time": "2023-01-24T17:43:28.042Z"
   },
   {
    "duration": 0,
    "start_time": "2023-01-24T17:43:28.043Z"
   },
   {
    "duration": 0,
    "start_time": "2023-01-24T17:43:28.044Z"
   },
   {
    "duration": 0,
    "start_time": "2023-01-24T17:43:28.045Z"
   },
   {
    "duration": 0,
    "start_time": "2023-01-24T17:43:28.046Z"
   },
   {
    "duration": 0,
    "start_time": "2023-01-24T17:43:28.047Z"
   },
   {
    "duration": 0,
    "start_time": "2023-01-24T17:43:28.048Z"
   },
   {
    "duration": 29,
    "start_time": "2023-01-24T17:43:28.050Z"
   },
   {
    "duration": 0,
    "start_time": "2023-01-24T17:43:28.110Z"
   },
   {
    "duration": 0,
    "start_time": "2023-01-24T17:43:28.111Z"
   },
   {
    "duration": 0,
    "start_time": "2023-01-24T17:43:28.112Z"
   },
   {
    "duration": 0,
    "start_time": "2023-01-24T17:43:28.113Z"
   },
   {
    "duration": 0,
    "start_time": "2023-01-24T17:43:28.114Z"
   },
   {
    "duration": 0,
    "start_time": "2023-01-24T17:43:28.115Z"
   },
   {
    "duration": 0,
    "start_time": "2023-01-24T17:43:28.116Z"
   },
   {
    "duration": 0,
    "start_time": "2023-01-24T17:43:28.117Z"
   },
   {
    "duration": 0,
    "start_time": "2023-01-24T17:43:28.118Z"
   },
   {
    "duration": 0,
    "start_time": "2023-01-24T17:43:28.119Z"
   },
   {
    "duration": 0,
    "start_time": "2023-01-24T17:43:28.120Z"
   },
   {
    "duration": 7,
    "start_time": "2023-01-24T17:43:28.122Z"
   },
   {
    "duration": 0,
    "start_time": "2023-01-24T17:43:28.130Z"
   },
   {
    "duration": 0,
    "start_time": "2023-01-24T17:43:28.131Z"
   },
   {
    "duration": 5,
    "start_time": "2023-01-24T17:43:37.200Z"
   },
   {
    "duration": 1277,
    "start_time": "2023-01-24T17:43:58.124Z"
   },
   {
    "duration": 92,
    "start_time": "2023-01-24T17:43:59.430Z"
   },
   {
    "duration": 17,
    "start_time": "2023-01-24T17:44:02.472Z"
   },
   {
    "duration": 15,
    "start_time": "2023-01-24T17:44:02.799Z"
   },
   {
    "duration": 3,
    "start_time": "2023-01-24T17:44:03.813Z"
   },
   {
    "duration": 4,
    "start_time": "2023-01-24T17:44:04.301Z"
   },
   {
    "duration": 10,
    "start_time": "2023-01-24T17:44:04.987Z"
   },
   {
    "duration": 53,
    "start_time": "2023-01-24T17:44:05.334Z"
   },
   {
    "duration": 8,
    "start_time": "2023-01-24T17:44:06.068Z"
   },
   {
    "duration": 4,
    "start_time": "2023-01-24T17:44:07.500Z"
   },
   {
    "duration": 6,
    "start_time": "2023-01-24T17:44:08.444Z"
   },
   {
    "duration": 4,
    "start_time": "2023-01-24T17:44:09.002Z"
   },
   {
    "duration": 6,
    "start_time": "2023-01-24T17:44:09.778Z"
   },
   {
    "duration": 5,
    "start_time": "2023-01-24T17:44:10.125Z"
   },
   {
    "duration": 21,
    "start_time": "2023-01-24T17:44:10.720Z"
   },
   {
    "duration": 105,
    "start_time": "2023-01-24T17:44:10.901Z"
   },
   {
    "duration": 19,
    "start_time": "2023-01-24T17:44:11.963Z"
   },
   {
    "duration": 99,
    "start_time": "2023-01-24T17:44:12.825Z"
   },
   {
    "duration": 7,
    "start_time": "2023-01-24T17:44:13.361Z"
   },
   {
    "duration": 8,
    "start_time": "2023-01-24T17:44:13.775Z"
   },
   {
    "duration": 69,
    "start_time": "2023-01-24T17:44:29.586Z"
   },
   {
    "duration": 0,
    "start_time": "2023-01-24T17:44:29.656Z"
   },
   {
    "duration": 0,
    "start_time": "2023-01-24T17:44:29.657Z"
   },
   {
    "duration": 0,
    "start_time": "2023-01-24T17:44:29.658Z"
   },
   {
    "duration": 0,
    "start_time": "2023-01-24T17:44:29.659Z"
   },
   {
    "duration": 0,
    "start_time": "2023-01-24T17:44:29.660Z"
   },
   {
    "duration": 0,
    "start_time": "2023-01-24T17:44:29.661Z"
   },
   {
    "duration": 0,
    "start_time": "2023-01-24T17:44:29.662Z"
   },
   {
    "duration": 0,
    "start_time": "2023-01-24T17:44:29.663Z"
   },
   {
    "duration": 0,
    "start_time": "2023-01-24T17:44:29.664Z"
   },
   {
    "duration": 0,
    "start_time": "2023-01-24T17:44:29.665Z"
   },
   {
    "duration": 0,
    "start_time": "2023-01-24T17:44:29.665Z"
   },
   {
    "duration": 0,
    "start_time": "2023-01-24T17:44:29.666Z"
   },
   {
    "duration": 0,
    "start_time": "2023-01-24T17:44:29.667Z"
   },
   {
    "duration": 1,
    "start_time": "2023-01-24T17:44:29.667Z"
   },
   {
    "duration": 0,
    "start_time": "2023-01-24T17:44:29.668Z"
   },
   {
    "duration": 100,
    "start_time": "2023-01-24T17:44:29.670Z"
   },
   {
    "duration": 17,
    "start_time": "2023-01-24T17:44:29.771Z"
   },
   {
    "duration": 91,
    "start_time": "2023-01-24T17:44:29.809Z"
   },
   {
    "duration": 7,
    "start_time": "2023-01-24T17:44:29.909Z"
   },
   {
    "duration": 8,
    "start_time": "2023-01-24T17:44:29.918Z"
   },
   {
    "duration": 19,
    "start_time": "2023-01-24T17:44:29.927Z"
   },
   {
    "duration": 121,
    "start_time": "2023-01-24T17:44:29.948Z"
   },
   {
    "duration": 17,
    "start_time": "2023-01-24T17:44:30.071Z"
   },
   {
    "duration": 74,
    "start_time": "2023-01-24T17:44:40.858Z"
   },
   {
    "duration": 1,
    "start_time": "2023-01-24T17:44:40.934Z"
   },
   {
    "duration": 0,
    "start_time": "2023-01-24T17:44:40.935Z"
   },
   {
    "duration": 0,
    "start_time": "2023-01-24T17:44:40.937Z"
   },
   {
    "duration": 0,
    "start_time": "2023-01-24T17:44:40.938Z"
   },
   {
    "duration": 0,
    "start_time": "2023-01-24T17:44:40.939Z"
   },
   {
    "duration": 0,
    "start_time": "2023-01-24T17:44:40.940Z"
   },
   {
    "duration": 0,
    "start_time": "2023-01-24T17:44:40.941Z"
   },
   {
    "duration": 0,
    "start_time": "2023-01-24T17:44:40.942Z"
   },
   {
    "duration": 0,
    "start_time": "2023-01-24T17:44:40.943Z"
   },
   {
    "duration": 0,
    "start_time": "2023-01-24T17:44:40.945Z"
   },
   {
    "duration": 0,
    "start_time": "2023-01-24T17:44:40.945Z"
   },
   {
    "duration": 0,
    "start_time": "2023-01-24T17:44:40.946Z"
   },
   {
    "duration": 0,
    "start_time": "2023-01-24T17:44:40.947Z"
   },
   {
    "duration": 0,
    "start_time": "2023-01-24T17:44:40.948Z"
   },
   {
    "duration": 0,
    "start_time": "2023-01-24T17:44:40.949Z"
   },
   {
    "duration": 0,
    "start_time": "2023-01-24T17:44:40.950Z"
   },
   {
    "duration": 0,
    "start_time": "2023-01-24T17:44:40.951Z"
   },
   {
    "duration": 124,
    "start_time": "2023-01-24T17:44:40.953Z"
   },
   {
    "duration": 7,
    "start_time": "2023-01-24T17:44:41.078Z"
   },
   {
    "duration": 24,
    "start_time": "2023-01-24T17:44:41.087Z"
   },
   {
    "duration": 38,
    "start_time": "2023-01-24T17:44:41.112Z"
   },
   {
    "duration": 150,
    "start_time": "2023-01-24T17:44:41.151Z"
   },
   {
    "duration": 22,
    "start_time": "2023-01-24T17:44:41.302Z"
   },
   {
    "duration": 113,
    "start_time": "2023-01-24T17:44:41.325Z"
   },
   {
    "duration": 8,
    "start_time": "2023-01-24T17:44:41.440Z"
   },
   {
    "duration": 8,
    "start_time": "2023-01-24T17:44:41.450Z"
   },
   {
    "duration": 28,
    "start_time": "2023-01-24T17:44:41.459Z"
   },
   {
    "duration": 107,
    "start_time": "2023-01-24T17:44:41.489Z"
   },
   {
    "duration": 23,
    "start_time": "2023-01-24T17:44:41.599Z"
   },
   {
    "duration": 116,
    "start_time": "2023-01-24T17:44:41.623Z"
   },
   {
    "duration": 7,
    "start_time": "2023-01-24T17:44:41.741Z"
   },
   {
    "duration": 11,
    "start_time": "2023-01-24T17:44:41.749Z"
   },
   {
    "duration": 19,
    "start_time": "2023-01-24T17:44:41.761Z"
   },
   {
    "duration": 111,
    "start_time": "2023-01-24T17:44:41.781Z"
   },
   {
    "duration": 27,
    "start_time": "2023-01-24T17:44:41.893Z"
   },
   {
    "duration": 114,
    "start_time": "2023-01-24T17:44:41.921Z"
   },
   {
    "duration": 7,
    "start_time": "2023-01-24T17:44:42.036Z"
   },
   {
    "duration": 8,
    "start_time": "2023-01-24T17:44:42.044Z"
   },
   {
    "duration": 19,
    "start_time": "2023-01-24T17:44:42.053Z"
   },
   {
    "duration": 4,
    "start_time": "2023-01-24T17:44:42.073Z"
   },
   {
    "duration": 5,
    "start_time": "2023-01-24T17:44:42.078Z"
   },
   {
    "duration": 36,
    "start_time": "2023-01-24T17:44:42.084Z"
   },
   {
    "duration": 12,
    "start_time": "2023-01-24T17:44:42.122Z"
   },
   {
    "duration": 72,
    "start_time": "2023-01-24T17:44:49.568Z"
   },
   {
    "duration": 8,
    "start_time": "2023-01-24T17:44:57.647Z"
   },
   {
    "duration": 8,
    "start_time": "2023-01-24T17:45:22.645Z"
   },
   {
    "duration": 10,
    "start_time": "2023-01-24T17:45:31.503Z"
   },
   {
    "duration": 6,
    "start_time": "2023-01-24T17:45:41.276Z"
   },
   {
    "duration": 9,
    "start_time": "2023-01-24T17:46:05.535Z"
   },
   {
    "duration": 7,
    "start_time": "2023-01-24T17:46:13.990Z"
   },
   {
    "duration": 6,
    "start_time": "2023-01-24T17:47:40.701Z"
   },
   {
    "duration": 6,
    "start_time": "2023-01-24T17:48:04.315Z"
   },
   {
    "duration": 250,
    "start_time": "2023-01-24T17:48:18.625Z"
   },
   {
    "duration": 8,
    "start_time": "2023-01-24T17:53:46.077Z"
   },
   {
    "duration": 85,
    "start_time": "2023-01-24T17:53:50.369Z"
   },
   {
    "duration": 0,
    "start_time": "2023-01-24T17:53:50.455Z"
   },
   {
    "duration": 0,
    "start_time": "2023-01-24T17:53:50.456Z"
   },
   {
    "duration": 0,
    "start_time": "2023-01-24T17:53:50.458Z"
   },
   {
    "duration": 0,
    "start_time": "2023-01-24T17:53:50.459Z"
   },
   {
    "duration": 0,
    "start_time": "2023-01-24T17:53:50.461Z"
   },
   {
    "duration": 0,
    "start_time": "2023-01-24T17:53:50.462Z"
   },
   {
    "duration": 0,
    "start_time": "2023-01-24T17:53:50.462Z"
   },
   {
    "duration": 0,
    "start_time": "2023-01-24T17:53:50.463Z"
   },
   {
    "duration": 0,
    "start_time": "2023-01-24T17:53:50.464Z"
   },
   {
    "duration": 0,
    "start_time": "2023-01-24T17:53:50.466Z"
   },
   {
    "duration": 0,
    "start_time": "2023-01-24T17:53:50.467Z"
   },
   {
    "duration": 0,
    "start_time": "2023-01-24T17:53:50.468Z"
   },
   {
    "duration": 0,
    "start_time": "2023-01-24T17:53:50.469Z"
   },
   {
    "duration": 0,
    "start_time": "2023-01-24T17:53:50.470Z"
   },
   {
    "duration": 0,
    "start_time": "2023-01-24T17:53:50.471Z"
   },
   {
    "duration": 0,
    "start_time": "2023-01-24T17:53:50.473Z"
   },
   {
    "duration": 0,
    "start_time": "2023-01-24T17:53:50.473Z"
   },
   {
    "duration": 154,
    "start_time": "2023-01-24T17:53:50.476Z"
   },
   {
    "duration": 8,
    "start_time": "2023-01-24T17:53:50.632Z"
   },
   {
    "duration": 10,
    "start_time": "2023-01-24T17:53:50.641Z"
   },
   {
    "duration": 24,
    "start_time": "2023-01-24T17:53:50.653Z"
   },
   {
    "duration": 111,
    "start_time": "2023-01-24T17:53:50.679Z"
   },
   {
    "duration": 33,
    "start_time": "2023-01-24T17:53:50.791Z"
   },
   {
    "duration": 102,
    "start_time": "2023-01-24T17:53:50.825Z"
   },
   {
    "duration": 8,
    "start_time": "2023-01-24T17:53:50.928Z"
   },
   {
    "duration": 22,
    "start_time": "2023-01-24T17:53:50.937Z"
   },
   {
    "duration": 25,
    "start_time": "2023-01-24T17:53:50.960Z"
   },
   {
    "duration": 151,
    "start_time": "2023-01-24T17:53:50.987Z"
   },
   {
    "duration": 17,
    "start_time": "2023-01-24T17:53:51.140Z"
   },
   {
    "duration": 118,
    "start_time": "2023-01-24T17:53:51.158Z"
   },
   {
    "duration": 9,
    "start_time": "2023-01-24T17:53:51.277Z"
   },
   {
    "duration": 25,
    "start_time": "2023-01-24T17:53:51.288Z"
   },
   {
    "duration": 21,
    "start_time": "2023-01-24T17:53:51.314Z"
   },
   {
    "duration": 107,
    "start_time": "2023-01-24T17:53:51.336Z"
   },
   {
    "duration": 17,
    "start_time": "2023-01-24T17:53:51.444Z"
   },
   {
    "duration": 109,
    "start_time": "2023-01-24T17:53:51.462Z"
   },
   {
    "duration": 7,
    "start_time": "2023-01-24T17:53:51.573Z"
   },
   {
    "duration": 11,
    "start_time": "2023-01-24T17:53:51.581Z"
   },
   {
    "duration": 34,
    "start_time": "2023-01-24T17:53:51.593Z"
   },
   {
    "duration": 4,
    "start_time": "2023-01-24T17:53:51.629Z"
   },
   {
    "duration": 7,
    "start_time": "2023-01-24T17:53:51.634Z"
   },
   {
    "duration": 22,
    "start_time": "2023-01-24T17:53:51.643Z"
   },
   {
    "duration": 14,
    "start_time": "2023-01-24T17:53:51.667Z"
   },
   {
    "duration": 5,
    "start_time": "2023-01-24T17:53:51.682Z"
   },
   {
    "duration": 260,
    "start_time": "2023-01-24T17:53:51.689Z"
   },
   {
    "duration": 9,
    "start_time": "2023-01-24T17:53:51.950Z"
   },
   {
    "duration": 7,
    "start_time": "2023-01-24T17:53:51.961Z"
   },
   {
    "duration": 6,
    "start_time": "2023-01-24T17:53:51.970Z"
   },
   {
    "duration": 16,
    "start_time": "2023-01-24T17:53:51.978Z"
   },
   {
    "duration": 9,
    "start_time": "2023-01-24T17:53:52.009Z"
   },
   {
    "duration": 1693,
    "start_time": "2023-01-24T17:53:52.019Z"
   },
   {
    "duration": 5,
    "start_time": "2023-01-24T17:53:53.713Z"
   },
   {
    "duration": 17,
    "start_time": "2023-01-24T17:53:53.721Z"
   },
   {
    "duration": 11,
    "start_time": "2023-01-24T17:53:53.740Z"
   },
   {
    "duration": 6,
    "start_time": "2023-01-24T17:53:53.752Z"
   },
   {
    "duration": 11,
    "start_time": "2023-01-24T17:53:53.759Z"
   },
   {
    "duration": 98,
    "start_time": "2023-01-24T17:53:53.771Z"
   },
   {
    "duration": 89,
    "start_time": "2023-01-24T17:53:53.871Z"
   },
   {
    "duration": 7,
    "start_time": "2023-01-24T17:53:53.962Z"
   },
   {
    "duration": 7,
    "start_time": "2023-01-24T17:53:57.031Z"
   },
   {
    "duration": 7,
    "start_time": "2023-01-24T17:53:59.464Z"
   },
   {
    "duration": 1165,
    "start_time": "2023-01-24T17:54:15.743Z"
   },
   {
    "duration": 3,
    "start_time": "2023-01-24T17:54:28.801Z"
   },
   {
    "duration": 7,
    "start_time": "2023-01-24T17:55:04.749Z"
   },
   {
    "duration": 9,
    "start_time": "2023-01-24T17:55:16.603Z"
   },
   {
    "duration": 104,
    "start_time": "2023-01-24T17:58:06.229Z"
   },
   {
    "duration": 96,
    "start_time": "2023-01-24T18:02:12.627Z"
   },
   {
    "duration": 97,
    "start_time": "2023-01-24T18:02:27.665Z"
   },
   {
    "duration": 381,
    "start_time": "2023-01-24T18:03:00.706Z"
   },
   {
    "duration": 333,
    "start_time": "2023-01-24T18:03:13.870Z"
   },
   {
    "duration": 87,
    "start_time": "2023-01-24T18:08:10.606Z"
   },
   {
    "duration": 749,
    "start_time": "2023-01-24T18:08:18.843Z"
   },
   {
    "duration": 11,
    "start_time": "2023-01-24T19:40:18.864Z"
   },
   {
    "duration": 22,
    "start_time": "2023-01-24T19:40:53.451Z"
   },
   {
    "duration": 19,
    "start_time": "2023-01-24T19:53:28.329Z"
   },
   {
    "duration": 87,
    "start_time": "2023-01-24T19:53:33.330Z"
   },
   {
    "duration": 0,
    "start_time": "2023-01-24T19:53:33.420Z"
   },
   {
    "duration": 0,
    "start_time": "2023-01-24T19:53:33.420Z"
   },
   {
    "duration": 0,
    "start_time": "2023-01-24T19:53:33.422Z"
   },
   {
    "duration": 0,
    "start_time": "2023-01-24T19:53:33.423Z"
   },
   {
    "duration": 0,
    "start_time": "2023-01-24T19:53:33.424Z"
   },
   {
    "duration": 0,
    "start_time": "2023-01-24T19:53:33.425Z"
   },
   {
    "duration": 0,
    "start_time": "2023-01-24T19:53:33.426Z"
   },
   {
    "duration": 0,
    "start_time": "2023-01-24T19:53:33.427Z"
   },
   {
    "duration": 0,
    "start_time": "2023-01-24T19:53:33.428Z"
   },
   {
    "duration": 0,
    "start_time": "2023-01-24T19:53:33.429Z"
   },
   {
    "duration": 0,
    "start_time": "2023-01-24T19:53:33.430Z"
   },
   {
    "duration": 0,
    "start_time": "2023-01-24T19:53:33.431Z"
   },
   {
    "duration": 0,
    "start_time": "2023-01-24T19:53:33.432Z"
   },
   {
    "duration": 0,
    "start_time": "2023-01-24T19:53:33.433Z"
   },
   {
    "duration": 0,
    "start_time": "2023-01-24T19:53:33.434Z"
   },
   {
    "duration": 0,
    "start_time": "2023-01-24T19:53:33.435Z"
   },
   {
    "duration": 0,
    "start_time": "2023-01-24T19:53:33.435Z"
   },
   {
    "duration": 0,
    "start_time": "2023-01-24T19:53:33.436Z"
   },
   {
    "duration": 0,
    "start_time": "2023-01-24T19:53:33.437Z"
   },
   {
    "duration": 8,
    "start_time": "2023-01-24T19:53:33.440Z"
   },
   {
    "duration": 71,
    "start_time": "2023-01-24T19:53:33.449Z"
   },
   {
    "duration": 134,
    "start_time": "2023-01-24T19:53:33.522Z"
   },
   {
    "duration": 17,
    "start_time": "2023-01-24T19:53:33.658Z"
   },
   {
    "duration": 115,
    "start_time": "2023-01-24T19:53:33.676Z"
   },
   {
    "duration": 7,
    "start_time": "2023-01-24T19:53:33.793Z"
   },
   {
    "duration": 29,
    "start_time": "2023-01-24T19:53:33.801Z"
   },
   {
    "duration": 20,
    "start_time": "2023-01-24T19:53:33.832Z"
   },
   {
    "duration": 100,
    "start_time": "2023-01-24T19:53:33.853Z"
   },
   {
    "duration": 18,
    "start_time": "2023-01-24T19:53:33.954Z"
   },
   {
    "duration": 118,
    "start_time": "2023-01-24T19:53:33.973Z"
   },
   {
    "duration": 7,
    "start_time": "2023-01-24T19:53:34.092Z"
   },
   {
    "duration": 9,
    "start_time": "2023-01-24T19:53:34.109Z"
   },
   {
    "duration": 20,
    "start_time": "2023-01-24T19:53:34.119Z"
   },
   {
    "duration": 118,
    "start_time": "2023-01-24T19:53:34.140Z"
   },
   {
    "duration": 19,
    "start_time": "2023-01-24T19:53:34.259Z"
   },
   {
    "duration": 120,
    "start_time": "2023-01-24T19:53:34.280Z"
   },
   {
    "duration": 13,
    "start_time": "2023-01-24T19:53:34.402Z"
   },
   {
    "duration": 8,
    "start_time": "2023-01-24T19:53:34.416Z"
   },
   {
    "duration": 38,
    "start_time": "2023-01-24T19:53:34.425Z"
   },
   {
    "duration": 5,
    "start_time": "2023-01-24T19:53:34.464Z"
   },
   {
    "duration": 4,
    "start_time": "2023-01-24T19:53:34.470Z"
   },
   {
    "duration": 14,
    "start_time": "2023-01-24T19:53:34.476Z"
   },
   {
    "duration": 28,
    "start_time": "2023-01-24T19:53:34.492Z"
   },
   {
    "duration": 5,
    "start_time": "2023-01-24T19:53:34.521Z"
   },
   {
    "duration": 346,
    "start_time": "2023-01-24T19:53:34.527Z"
   },
   {
    "duration": 9,
    "start_time": "2023-01-24T19:53:34.874Z"
   },
   {
    "duration": 7,
    "start_time": "2023-01-24T19:53:34.886Z"
   },
   {
    "duration": 16,
    "start_time": "2023-01-24T19:53:34.894Z"
   },
   {
    "duration": 15,
    "start_time": "2023-01-24T19:53:34.911Z"
   },
   {
    "duration": 9,
    "start_time": "2023-01-24T19:53:34.927Z"
   },
   {
    "duration": 1713,
    "start_time": "2023-01-24T19:53:34.937Z"
   },
   {
    "duration": 6,
    "start_time": "2023-01-24T19:53:36.651Z"
   },
   {
    "duration": 16,
    "start_time": "2023-01-24T19:53:36.658Z"
   },
   {
    "duration": 11,
    "start_time": "2023-01-24T19:53:36.676Z"
   },
   {
    "duration": 22,
    "start_time": "2023-01-24T19:53:36.688Z"
   },
   {
    "duration": 3,
    "start_time": "2023-01-24T19:53:36.711Z"
   },
   {
    "duration": 186,
    "start_time": "2023-01-24T19:53:36.716Z"
   },
   {
    "duration": 3,
    "start_time": "2023-01-24T19:53:36.910Z"
   },
   {
    "duration": 25,
    "start_time": "2023-01-24T19:53:36.914Z"
   },
   {
    "duration": 19,
    "start_time": "2023-01-24T19:53:36.940Z"
   },
   {
    "duration": 22,
    "start_time": "2023-01-24T19:53:36.961Z"
   },
   {
    "duration": 133,
    "start_time": "2023-01-24T19:53:36.984Z"
   },
   {
    "duration": 125,
    "start_time": "2023-01-24T19:53:37.118Z"
   },
   {
    "duration": 19,
    "start_time": "2023-01-24T19:53:37.245Z"
   },
   {
    "duration": 5,
    "start_time": "2023-01-24T19:53:37.265Z"
   },
   {
    "duration": 18,
    "start_time": "2023-01-24T19:53:39.928Z"
   },
   {
    "duration": 18,
    "start_time": "2023-01-24T19:53:45.979Z"
   },
   {
    "duration": 86,
    "start_time": "2023-01-24T19:53:50.734Z"
   },
   {
    "duration": 0,
    "start_time": "2023-01-24T19:53:50.822Z"
   },
   {
    "duration": 0,
    "start_time": "2023-01-24T19:53:50.824Z"
   },
   {
    "duration": 0,
    "start_time": "2023-01-24T19:53:50.825Z"
   },
   {
    "duration": 0,
    "start_time": "2023-01-24T19:53:50.825Z"
   },
   {
    "duration": 0,
    "start_time": "2023-01-24T19:53:50.826Z"
   },
   {
    "duration": 0,
    "start_time": "2023-01-24T19:53:50.827Z"
   },
   {
    "duration": 0,
    "start_time": "2023-01-24T19:53:50.828Z"
   },
   {
    "duration": 0,
    "start_time": "2023-01-24T19:53:50.829Z"
   },
   {
    "duration": 0,
    "start_time": "2023-01-24T19:53:50.829Z"
   },
   {
    "duration": 0,
    "start_time": "2023-01-24T19:53:50.831Z"
   },
   {
    "duration": 0,
    "start_time": "2023-01-24T19:53:50.832Z"
   },
   {
    "duration": 1,
    "start_time": "2023-01-24T19:53:50.832Z"
   },
   {
    "duration": 0,
    "start_time": "2023-01-24T19:53:50.833Z"
   },
   {
    "duration": 0,
    "start_time": "2023-01-24T19:53:50.834Z"
   },
   {
    "duration": 0,
    "start_time": "2023-01-24T19:53:50.835Z"
   },
   {
    "duration": 0,
    "start_time": "2023-01-24T19:53:50.836Z"
   },
   {
    "duration": 20,
    "start_time": "2023-01-24T19:53:50.838Z"
   },
   {
    "duration": 168,
    "start_time": "2023-01-24T19:53:50.859Z"
   },
   {
    "duration": 8,
    "start_time": "2023-01-24T19:53:51.029Z"
   },
   {
    "duration": 14,
    "start_time": "2023-01-24T19:53:51.039Z"
   },
   {
    "duration": 34,
    "start_time": "2023-01-24T19:53:51.054Z"
   },
   {
    "duration": 109,
    "start_time": "2023-01-24T19:53:51.089Z"
   },
   {
    "duration": 17,
    "start_time": "2023-01-24T19:53:51.209Z"
   },
   {
    "duration": 108,
    "start_time": "2023-01-24T19:53:51.228Z"
   },
   {
    "duration": 9,
    "start_time": "2023-01-24T19:53:51.338Z"
   },
   {
    "duration": 8,
    "start_time": "2023-01-24T19:53:51.350Z"
   },
   {
    "duration": 19,
    "start_time": "2023-01-24T19:53:51.359Z"
   },
   {
    "duration": 130,
    "start_time": "2023-01-24T19:53:51.380Z"
   },
   {
    "duration": 17,
    "start_time": "2023-01-24T19:53:51.511Z"
   },
   {
    "duration": 118,
    "start_time": "2023-01-24T19:53:51.529Z"
   },
   {
    "duration": 6,
    "start_time": "2023-01-24T19:53:51.649Z"
   },
   {
    "duration": 10,
    "start_time": "2023-01-24T19:53:51.657Z"
   },
   {
    "duration": 41,
    "start_time": "2023-01-24T19:53:51.669Z"
   },
   {
    "duration": 99,
    "start_time": "2023-01-24T19:53:51.712Z"
   },
   {
    "duration": 18,
    "start_time": "2023-01-24T19:53:51.812Z"
   },
   {
    "duration": 115,
    "start_time": "2023-01-24T19:53:51.831Z"
   },
   {
    "duration": 8,
    "start_time": "2023-01-24T19:53:51.948Z"
   },
   {
    "duration": 20,
    "start_time": "2023-01-24T19:53:51.957Z"
   },
   {
    "duration": 32,
    "start_time": "2023-01-24T19:53:51.978Z"
   },
   {
    "duration": 4,
    "start_time": "2023-01-24T19:53:52.011Z"
   },
   {
    "duration": 6,
    "start_time": "2023-01-24T19:53:52.016Z"
   },
   {
    "duration": 29,
    "start_time": "2023-01-24T19:53:52.024Z"
   },
   {
    "duration": 21,
    "start_time": "2023-01-24T19:53:52.054Z"
   },
   {
    "duration": 5,
    "start_time": "2023-01-24T19:53:52.079Z"
   },
   {
    "duration": 261,
    "start_time": "2023-01-24T19:53:52.085Z"
   },
   {
    "duration": 9,
    "start_time": "2023-01-24T19:53:52.348Z"
   },
   {
    "duration": 30,
    "start_time": "2023-01-24T19:53:52.359Z"
   },
   {
    "duration": 7,
    "start_time": "2023-01-24T19:53:52.391Z"
   },
   {
    "duration": 18,
    "start_time": "2023-01-24T19:53:52.399Z"
   },
   {
    "duration": 10,
    "start_time": "2023-01-24T19:53:52.418Z"
   },
   {
    "duration": 1685,
    "start_time": "2023-01-24T19:53:52.429Z"
   },
   {
    "duration": 5,
    "start_time": "2023-01-24T19:53:54.116Z"
   },
   {
    "duration": 15,
    "start_time": "2023-01-24T19:53:54.122Z"
   },
   {
    "duration": 11,
    "start_time": "2023-01-24T19:53:54.139Z"
   },
   {
    "duration": 6,
    "start_time": "2023-01-24T19:53:54.152Z"
   },
   {
    "duration": 4,
    "start_time": "2023-01-24T19:53:54.159Z"
   },
   {
    "duration": 110,
    "start_time": "2023-01-24T19:53:54.165Z"
   },
   {
    "duration": 3,
    "start_time": "2023-01-24T19:53:54.276Z"
   },
   {
    "duration": 6,
    "start_time": "2023-01-24T19:53:54.281Z"
   },
   {
    "duration": 23,
    "start_time": "2023-01-24T19:53:54.288Z"
   },
   {
    "duration": 5,
    "start_time": "2023-01-24T19:53:54.312Z"
   },
   {
    "duration": 140,
    "start_time": "2023-01-24T19:53:54.319Z"
   },
   {
    "duration": 132,
    "start_time": "2023-01-24T19:53:54.460Z"
   },
   {
    "duration": 117,
    "start_time": "2023-01-24T19:53:54.594Z"
   },
   {
    "duration": 6,
    "start_time": "2023-01-24T19:53:54.712Z"
   },
   {
    "duration": 21,
    "start_time": "2023-01-24T19:53:54.720Z"
   },
   {
    "duration": 0,
    "start_time": "2023-01-24T19:53:54.742Z"
   },
   {
    "duration": 0,
    "start_time": "2023-01-24T19:53:54.744Z"
   },
   {
    "duration": 0,
    "start_time": "2023-01-24T19:53:54.745Z"
   },
   {
    "duration": 0,
    "start_time": "2023-01-24T19:53:54.747Z"
   },
   {
    "duration": 0,
    "start_time": "2023-01-24T19:53:54.748Z"
   },
   {
    "duration": 0,
    "start_time": "2023-01-24T19:53:54.749Z"
   },
   {
    "duration": 0,
    "start_time": "2023-01-24T19:53:54.750Z"
   },
   {
    "duration": 0,
    "start_time": "2023-01-24T19:53:54.752Z"
   },
   {
    "duration": 0,
    "start_time": "2023-01-24T19:53:54.753Z"
   },
   {
    "duration": 0,
    "start_time": "2023-01-24T19:53:54.754Z"
   },
   {
    "duration": 0,
    "start_time": "2023-01-24T19:53:54.755Z"
   },
   {
    "duration": 0,
    "start_time": "2023-01-24T19:53:54.756Z"
   },
   {
    "duration": 0,
    "start_time": "2023-01-24T19:53:54.758Z"
   },
   {
    "duration": 0,
    "start_time": "2023-01-24T19:53:54.765Z"
   },
   {
    "duration": 0,
    "start_time": "2023-01-24T19:53:54.765Z"
   },
   {
    "duration": 0,
    "start_time": "2023-01-24T19:53:54.766Z"
   },
   {
    "duration": 0,
    "start_time": "2023-01-24T19:53:54.766Z"
   },
   {
    "duration": 0,
    "start_time": "2023-01-24T19:53:54.810Z"
   },
   {
    "duration": 0,
    "start_time": "2023-01-24T19:53:54.811Z"
   },
   {
    "duration": 0,
    "start_time": "2023-01-24T19:53:54.812Z"
   },
   {
    "duration": 0,
    "start_time": "2023-01-24T19:53:54.813Z"
   },
   {
    "duration": 0,
    "start_time": "2023-01-24T19:53:54.813Z"
   },
   {
    "duration": 0,
    "start_time": "2023-01-24T19:53:54.814Z"
   },
   {
    "duration": 77,
    "start_time": "2023-01-24T20:00:31.169Z"
   },
   {
    "duration": 0,
    "start_time": "2023-01-24T20:00:31.247Z"
   },
   {
    "duration": 1,
    "start_time": "2023-01-24T20:00:31.248Z"
   },
   {
    "duration": 0,
    "start_time": "2023-01-24T20:00:31.249Z"
   },
   {
    "duration": 0,
    "start_time": "2023-01-24T20:00:31.250Z"
   },
   {
    "duration": 0,
    "start_time": "2023-01-24T20:00:31.251Z"
   },
   {
    "duration": 0,
    "start_time": "2023-01-24T20:00:31.252Z"
   },
   {
    "duration": 0,
    "start_time": "2023-01-24T20:00:31.253Z"
   },
   {
    "duration": 0,
    "start_time": "2023-01-24T20:00:31.253Z"
   },
   {
    "duration": 0,
    "start_time": "2023-01-24T20:00:31.254Z"
   },
   {
    "duration": 0,
    "start_time": "2023-01-24T20:00:31.255Z"
   },
   {
    "duration": 0,
    "start_time": "2023-01-24T20:00:31.256Z"
   },
   {
    "duration": 0,
    "start_time": "2023-01-24T20:00:31.257Z"
   },
   {
    "duration": 1,
    "start_time": "2023-01-24T20:00:31.258Z"
   },
   {
    "duration": 0,
    "start_time": "2023-01-24T20:00:31.260Z"
   },
   {
    "duration": 0,
    "start_time": "2023-01-24T20:00:31.261Z"
   },
   {
    "duration": 0,
    "start_time": "2023-01-24T20:00:31.262Z"
   },
   {
    "duration": 0,
    "start_time": "2023-01-24T20:00:31.263Z"
   },
   {
    "duration": 0,
    "start_time": "2023-01-24T20:00:31.264Z"
   },
   {
    "duration": 8,
    "start_time": "2023-01-24T20:00:31.267Z"
   },
   {
    "duration": 36,
    "start_time": "2023-01-24T20:00:31.277Z"
   },
   {
    "duration": 21,
    "start_time": "2023-01-24T20:00:31.314Z"
   },
   {
    "duration": 142,
    "start_time": "2023-01-24T20:00:31.337Z"
   },
   {
    "duration": 40,
    "start_time": "2023-01-24T20:00:31.480Z"
   },
   {
    "duration": 105,
    "start_time": "2023-01-24T20:00:31.522Z"
   },
   {
    "duration": 7,
    "start_time": "2023-01-24T20:00:31.629Z"
   },
   {
    "duration": 17,
    "start_time": "2023-01-24T20:00:31.638Z"
   },
   {
    "duration": 44,
    "start_time": "2023-01-24T20:00:31.656Z"
   },
   {
    "duration": 99,
    "start_time": "2023-01-24T20:00:31.701Z"
   },
   {
    "duration": 23,
    "start_time": "2023-01-24T20:00:31.802Z"
   },
   {
    "duration": 118,
    "start_time": "2023-01-24T20:00:31.828Z"
   },
   {
    "duration": 7,
    "start_time": "2023-01-24T20:00:31.947Z"
   },
   {
    "duration": 9,
    "start_time": "2023-01-24T20:00:31.955Z"
   },
   {
    "duration": 20,
    "start_time": "2023-01-24T20:00:31.965Z"
   },
   {
    "duration": 92,
    "start_time": "2023-01-24T20:00:32.009Z"
   },
   {
    "duration": 16,
    "start_time": "2023-01-24T20:00:32.109Z"
   },
   {
    "duration": 113,
    "start_time": "2023-01-24T20:00:32.126Z"
   },
   {
    "duration": 7,
    "start_time": "2023-01-24T20:00:32.241Z"
   },
   {
    "duration": 11,
    "start_time": "2023-01-24T20:00:32.249Z"
   },
   {
    "duration": 24,
    "start_time": "2023-01-24T20:00:32.262Z"
   },
   {
    "duration": 4,
    "start_time": "2023-01-24T20:00:32.310Z"
   },
   {
    "duration": 16,
    "start_time": "2023-01-24T20:00:32.315Z"
   },
   {
    "duration": 16,
    "start_time": "2023-01-24T20:00:32.333Z"
   },
   {
    "duration": 25,
    "start_time": "2023-01-24T20:00:32.351Z"
   },
   {
    "duration": 7,
    "start_time": "2023-01-24T20:00:32.377Z"
   },
   {
    "duration": 254,
    "start_time": "2023-01-24T20:00:32.385Z"
   },
   {
    "duration": 11,
    "start_time": "2023-01-24T20:00:32.640Z"
   },
   {
    "duration": 19,
    "start_time": "2023-01-24T20:00:32.652Z"
   },
   {
    "duration": 10,
    "start_time": "2023-01-24T20:00:32.673Z"
   },
   {
    "duration": 16,
    "start_time": "2023-01-24T20:00:32.684Z"
   },
   {
    "duration": 15,
    "start_time": "2023-01-24T20:00:32.701Z"
   },
   {
    "duration": 1656,
    "start_time": "2023-01-24T20:00:32.718Z"
   },
   {
    "duration": 4,
    "start_time": "2023-01-24T20:00:34.376Z"
   },
   {
    "duration": 28,
    "start_time": "2023-01-24T20:00:34.382Z"
   },
   {
    "duration": 8,
    "start_time": "2023-01-24T20:00:34.413Z"
   },
   {
    "duration": 8,
    "start_time": "2023-01-24T20:00:34.423Z"
   },
   {
    "duration": 7,
    "start_time": "2023-01-24T20:00:34.433Z"
   },
   {
    "duration": 104,
    "start_time": "2023-01-24T20:00:34.441Z"
   },
   {
    "duration": 4,
    "start_time": "2023-01-24T20:00:34.547Z"
   },
   {
    "duration": 9,
    "start_time": "2023-01-24T20:00:34.552Z"
   },
   {
    "duration": 9,
    "start_time": "2023-01-24T20:00:34.563Z"
   },
   {
    "duration": 11,
    "start_time": "2023-01-24T20:00:34.573Z"
   },
   {
    "duration": 144,
    "start_time": "2023-01-24T20:00:34.586Z"
   },
   {
    "duration": 133,
    "start_time": "2023-01-24T20:00:34.731Z"
   },
   {
    "duration": 20,
    "start_time": "2023-01-24T20:00:34.866Z"
   },
   {
    "duration": 22,
    "start_time": "2023-01-24T20:00:34.888Z"
   },
   {
    "duration": 20,
    "start_time": "2023-01-24T20:00:34.912Z"
   },
   {
    "duration": 0,
    "start_time": "2023-01-24T20:00:34.933Z"
   },
   {
    "duration": 0,
    "start_time": "2023-01-24T20:00:34.935Z"
   },
   {
    "duration": 0,
    "start_time": "2023-01-24T20:00:34.936Z"
   },
   {
    "duration": 0,
    "start_time": "2023-01-24T20:00:34.937Z"
   },
   {
    "duration": 0,
    "start_time": "2023-01-24T20:00:34.939Z"
   },
   {
    "duration": 0,
    "start_time": "2023-01-24T20:00:34.940Z"
   },
   {
    "duration": 0,
    "start_time": "2023-01-24T20:00:34.941Z"
   },
   {
    "duration": 0,
    "start_time": "2023-01-24T20:00:34.942Z"
   },
   {
    "duration": 0,
    "start_time": "2023-01-24T20:00:34.944Z"
   },
   {
    "duration": 0,
    "start_time": "2023-01-24T20:00:34.945Z"
   },
   {
    "duration": 0,
    "start_time": "2023-01-24T20:00:34.946Z"
   },
   {
    "duration": 0,
    "start_time": "2023-01-24T20:00:34.947Z"
   },
   {
    "duration": 0,
    "start_time": "2023-01-24T20:00:34.949Z"
   },
   {
    "duration": 0,
    "start_time": "2023-01-24T20:00:34.950Z"
   },
   {
    "duration": 0,
    "start_time": "2023-01-24T20:00:34.951Z"
   },
   {
    "duration": 0,
    "start_time": "2023-01-24T20:00:34.952Z"
   },
   {
    "duration": 0,
    "start_time": "2023-01-24T20:00:34.953Z"
   },
   {
    "duration": 0,
    "start_time": "2023-01-24T20:00:34.955Z"
   },
   {
    "duration": 0,
    "start_time": "2023-01-24T20:00:34.956Z"
   },
   {
    "duration": 0,
    "start_time": "2023-01-24T20:00:34.957Z"
   },
   {
    "duration": 0,
    "start_time": "2023-01-24T20:00:35.010Z"
   },
   {
    "duration": 0,
    "start_time": "2023-01-24T20:00:35.012Z"
   },
   {
    "duration": 0,
    "start_time": "2023-01-24T20:00:35.013Z"
   },
   {
    "duration": 76,
    "start_time": "2023-01-24T20:00:48.047Z"
   },
   {
    "duration": 0,
    "start_time": "2023-01-24T20:00:48.124Z"
   },
   {
    "duration": 0,
    "start_time": "2023-01-24T20:00:48.125Z"
   },
   {
    "duration": 2,
    "start_time": "2023-01-24T20:00:56.088Z"
   },
   {
    "duration": 45,
    "start_time": "2023-01-24T20:00:57.380Z"
   },
   {
    "duration": 71,
    "start_time": "2023-01-24T20:01:03.677Z"
   },
   {
    "duration": 0,
    "start_time": "2023-01-24T20:01:03.749Z"
   },
   {
    "duration": 0,
    "start_time": "2023-01-24T20:01:03.751Z"
   },
   {
    "duration": 0,
    "start_time": "2023-01-24T20:01:03.751Z"
   },
   {
    "duration": 3,
    "start_time": "2023-01-24T20:01:17.868Z"
   },
   {
    "duration": 45,
    "start_time": "2023-01-24T20:01:19.165Z"
   },
   {
    "duration": 13,
    "start_time": "2023-01-24T20:01:20.343Z"
   },
   {
    "duration": 13,
    "start_time": "2023-01-24T20:01:21.229Z"
   },
   {
    "duration": 71,
    "start_time": "2023-01-24T20:02:25.246Z"
   },
   {
    "duration": 0,
    "start_time": "2023-01-24T20:02:25.319Z"
   },
   {
    "duration": 0,
    "start_time": "2023-01-24T20:02:25.320Z"
   },
   {
    "duration": 12,
    "start_time": "2023-01-24T20:02:28.271Z"
   },
   {
    "duration": 70,
    "start_time": "2023-01-24T20:02:33.471Z"
   },
   {
    "duration": 0,
    "start_time": "2023-01-24T20:02:33.543Z"
   },
   {
    "duration": 0,
    "start_time": "2023-01-24T20:02:33.544Z"
   },
   {
    "duration": 0,
    "start_time": "2023-01-24T20:02:33.544Z"
   },
   {
    "duration": 0,
    "start_time": "2023-01-24T20:02:33.545Z"
   },
   {
    "duration": 0,
    "start_time": "2023-01-24T20:02:33.546Z"
   },
   {
    "duration": 0,
    "start_time": "2023-01-24T20:02:33.547Z"
   },
   {
    "duration": 0,
    "start_time": "2023-01-24T20:02:33.548Z"
   },
   {
    "duration": 0,
    "start_time": "2023-01-24T20:02:33.548Z"
   },
   {
    "duration": 0,
    "start_time": "2023-01-24T20:02:33.549Z"
   },
   {
    "duration": 0,
    "start_time": "2023-01-24T20:02:33.550Z"
   },
   {
    "duration": 0,
    "start_time": "2023-01-24T20:02:33.551Z"
   },
   {
    "duration": 0,
    "start_time": "2023-01-24T20:02:33.552Z"
   },
   {
    "duration": 0,
    "start_time": "2023-01-24T20:02:33.552Z"
   },
   {
    "duration": 0,
    "start_time": "2023-01-24T20:02:33.553Z"
   },
   {
    "duration": 0,
    "start_time": "2023-01-24T20:02:33.554Z"
   },
   {
    "duration": 127,
    "start_time": "2023-01-24T20:02:33.556Z"
   },
   {
    "duration": 0,
    "start_time": "2023-01-24T20:02:33.686Z"
   },
   {
    "duration": 0,
    "start_time": "2023-01-24T20:02:33.687Z"
   },
   {
    "duration": 0,
    "start_time": "2023-01-24T20:02:33.688Z"
   },
   {
    "duration": 0,
    "start_time": "2023-01-24T20:02:33.710Z"
   },
   {
    "duration": 0,
    "start_time": "2023-01-24T20:02:33.711Z"
   },
   {
    "duration": 1,
    "start_time": "2023-01-24T20:02:33.711Z"
   },
   {
    "duration": 0,
    "start_time": "2023-01-24T20:02:33.712Z"
   },
   {
    "duration": 0,
    "start_time": "2023-01-24T20:02:33.713Z"
   },
   {
    "duration": 0,
    "start_time": "2023-01-24T20:02:33.714Z"
   },
   {
    "duration": 0,
    "start_time": "2023-01-24T20:02:33.715Z"
   },
   {
    "duration": 0,
    "start_time": "2023-01-24T20:02:33.716Z"
   },
   {
    "duration": 0,
    "start_time": "2023-01-24T20:02:33.717Z"
   },
   {
    "duration": 0,
    "start_time": "2023-01-24T20:02:33.718Z"
   },
   {
    "duration": 0,
    "start_time": "2023-01-24T20:02:33.719Z"
   },
   {
    "duration": 0,
    "start_time": "2023-01-24T20:02:33.720Z"
   },
   {
    "duration": 0,
    "start_time": "2023-01-24T20:02:33.721Z"
   },
   {
    "duration": 0,
    "start_time": "2023-01-24T20:02:33.721Z"
   },
   {
    "duration": 0,
    "start_time": "2023-01-24T20:02:33.722Z"
   },
   {
    "duration": 0,
    "start_time": "2023-01-24T20:02:33.724Z"
   },
   {
    "duration": 0,
    "start_time": "2023-01-24T20:02:33.724Z"
   },
   {
    "duration": 0,
    "start_time": "2023-01-24T20:02:33.725Z"
   },
   {
    "duration": 0,
    "start_time": "2023-01-24T20:02:33.726Z"
   },
   {
    "duration": 0,
    "start_time": "2023-01-24T20:02:33.727Z"
   },
   {
    "duration": 0,
    "start_time": "2023-01-24T20:02:33.728Z"
   },
   {
    "duration": 0,
    "start_time": "2023-01-24T20:02:33.728Z"
   },
   {
    "duration": 0,
    "start_time": "2023-01-24T20:02:33.729Z"
   },
   {
    "duration": 0,
    "start_time": "2023-01-24T20:02:33.730Z"
   },
   {
    "duration": 0,
    "start_time": "2023-01-24T20:02:33.731Z"
   },
   {
    "duration": 0,
    "start_time": "2023-01-24T20:02:33.732Z"
   },
   {
    "duration": 0,
    "start_time": "2023-01-24T20:02:33.733Z"
   },
   {
    "duration": 0,
    "start_time": "2023-01-24T20:02:33.733Z"
   },
   {
    "duration": 0,
    "start_time": "2023-01-24T20:02:33.734Z"
   },
   {
    "duration": 0,
    "start_time": "2023-01-24T20:02:33.735Z"
   },
   {
    "duration": 0,
    "start_time": "2023-01-24T20:02:33.736Z"
   },
   {
    "duration": 0,
    "start_time": "2023-01-24T20:02:33.739Z"
   },
   {
    "duration": 90,
    "start_time": "2023-01-24T20:02:33.742Z"
   },
   {
    "duration": 0,
    "start_time": "2023-01-24T20:02:33.834Z"
   },
   {
    "duration": 0,
    "start_time": "2023-01-24T20:02:33.835Z"
   },
   {
    "duration": 0,
    "start_time": "2023-01-24T20:02:33.836Z"
   },
   {
    "duration": 0,
    "start_time": "2023-01-24T20:02:33.837Z"
   },
   {
    "duration": 0,
    "start_time": "2023-01-24T20:02:33.838Z"
   },
   {
    "duration": 0,
    "start_time": "2023-01-24T20:02:33.839Z"
   },
   {
    "duration": 0,
    "start_time": "2023-01-24T20:02:33.840Z"
   },
   {
    "duration": 0,
    "start_time": "2023-01-24T20:02:33.841Z"
   },
   {
    "duration": 0,
    "start_time": "2023-01-24T20:02:33.842Z"
   },
   {
    "duration": 0,
    "start_time": "2023-01-24T20:02:33.843Z"
   },
   {
    "duration": 0,
    "start_time": "2023-01-24T20:02:33.844Z"
   },
   {
    "duration": 0,
    "start_time": "2023-01-24T20:02:33.845Z"
   },
   {
    "duration": 0,
    "start_time": "2023-01-24T20:02:33.846Z"
   },
   {
    "duration": 0,
    "start_time": "2023-01-24T20:02:33.847Z"
   },
   {
    "duration": 0,
    "start_time": "2023-01-24T20:02:33.848Z"
   },
   {
    "duration": 0,
    "start_time": "2023-01-24T20:02:33.849Z"
   },
   {
    "duration": 0,
    "start_time": "2023-01-24T20:02:33.850Z"
   },
   {
    "duration": 0,
    "start_time": "2023-01-24T20:02:33.850Z"
   },
   {
    "duration": 0,
    "start_time": "2023-01-24T20:02:33.911Z"
   },
   {
    "duration": 0,
    "start_time": "2023-01-24T20:02:33.912Z"
   },
   {
    "duration": 0,
    "start_time": "2023-01-24T20:02:33.913Z"
   },
   {
    "duration": 0,
    "start_time": "2023-01-24T20:02:33.914Z"
   },
   {
    "duration": 0,
    "start_time": "2023-01-24T20:02:33.915Z"
   },
   {
    "duration": 0,
    "start_time": "2023-01-24T20:02:33.916Z"
   },
   {
    "duration": 0,
    "start_time": "2023-01-24T20:02:33.917Z"
   },
   {
    "duration": 0,
    "start_time": "2023-01-24T20:02:33.918Z"
   },
   {
    "duration": 0,
    "start_time": "2023-01-24T20:02:33.919Z"
   },
   {
    "duration": 0,
    "start_time": "2023-01-24T20:02:33.920Z"
   },
   {
    "duration": 0,
    "start_time": "2023-01-24T20:02:33.921Z"
   },
   {
    "duration": 0,
    "start_time": "2023-01-24T20:02:33.922Z"
   },
   {
    "duration": 0,
    "start_time": "2023-01-24T20:02:33.923Z"
   },
   {
    "duration": 0,
    "start_time": "2023-01-24T20:02:33.924Z"
   },
   {
    "duration": 0,
    "start_time": "2023-01-24T20:02:33.925Z"
   },
   {
    "duration": 8,
    "start_time": "2023-01-24T20:02:33.928Z"
   },
   {
    "duration": 0,
    "start_time": "2023-01-24T20:02:33.937Z"
   },
   {
    "duration": 0,
    "start_time": "2023-01-24T20:02:33.939Z"
   },
   {
    "duration": 0,
    "start_time": "2023-01-24T20:02:33.940Z"
   },
   {
    "duration": 85,
    "start_time": "2023-01-24T20:02:45.672Z"
   },
   {
    "duration": 0,
    "start_time": "2023-01-24T20:02:45.759Z"
   },
   {
    "duration": 0,
    "start_time": "2023-01-24T20:02:45.760Z"
   },
   {
    "duration": 12,
    "start_time": "2023-01-24T20:02:48.192Z"
   },
   {
    "duration": 66,
    "start_time": "2023-01-24T20:03:01.402Z"
   },
   {
    "duration": 0,
    "start_time": "2023-01-24T20:03:01.470Z"
   },
   {
    "duration": 1,
    "start_time": "2023-01-24T20:03:01.470Z"
   },
   {
    "duration": 0,
    "start_time": "2023-01-24T20:03:01.472Z"
   },
   {
    "duration": 0,
    "start_time": "2023-01-24T20:03:01.472Z"
   },
   {
    "duration": 0,
    "start_time": "2023-01-24T20:03:01.473Z"
   },
   {
    "duration": 0,
    "start_time": "2023-01-24T20:03:01.474Z"
   },
   {
    "duration": 0,
    "start_time": "2023-01-24T20:03:01.475Z"
   },
   {
    "duration": 0,
    "start_time": "2023-01-24T20:03:01.476Z"
   },
   {
    "duration": 0,
    "start_time": "2023-01-24T20:03:01.477Z"
   },
   {
    "duration": 0,
    "start_time": "2023-01-24T20:03:01.478Z"
   },
   {
    "duration": 0,
    "start_time": "2023-01-24T20:03:01.479Z"
   },
   {
    "duration": 0,
    "start_time": "2023-01-24T20:03:01.480Z"
   },
   {
    "duration": 0,
    "start_time": "2023-01-24T20:03:01.481Z"
   },
   {
    "duration": 1087,
    "start_time": "2023-01-24T20:03:03.828Z"
   },
   {
    "duration": 5,
    "start_time": "2023-01-24T20:03:39.375Z"
   },
   {
    "duration": 71,
    "start_time": "2023-01-24T20:04:22.084Z"
   },
   {
    "duration": 72,
    "start_time": "2023-01-24T20:04:31.392Z"
   },
   {
    "duration": 0,
    "start_time": "2023-01-24T20:04:31.466Z"
   },
   {
    "duration": 0,
    "start_time": "2023-01-24T20:04:31.467Z"
   },
   {
    "duration": 0,
    "start_time": "2023-01-24T20:04:31.468Z"
   },
   {
    "duration": 0,
    "start_time": "2023-01-24T20:04:31.469Z"
   },
   {
    "duration": 0,
    "start_time": "2023-01-24T20:04:31.470Z"
   },
   {
    "duration": 4,
    "start_time": "2023-01-24T20:04:33.645Z"
   },
   {
    "duration": 8,
    "start_time": "2023-01-24T20:04:41.949Z"
   },
   {
    "duration": 69,
    "start_time": "2023-01-24T20:04:51.052Z"
   },
   {
    "duration": 0,
    "start_time": "2023-01-24T20:04:51.123Z"
   },
   {
    "duration": 0,
    "start_time": "2023-01-24T20:04:51.124Z"
   },
   {
    "duration": 0,
    "start_time": "2023-01-24T20:04:51.125Z"
   },
   {
    "duration": 0,
    "start_time": "2023-01-24T20:04:51.126Z"
   },
   {
    "duration": 0,
    "start_time": "2023-01-24T20:04:51.127Z"
   },
   {
    "duration": 0,
    "start_time": "2023-01-24T20:04:51.128Z"
   },
   {
    "duration": 0,
    "start_time": "2023-01-24T20:04:51.129Z"
   },
   {
    "duration": 0,
    "start_time": "2023-01-24T20:04:51.130Z"
   },
   {
    "duration": 0,
    "start_time": "2023-01-24T20:04:51.131Z"
   },
   {
    "duration": 0,
    "start_time": "2023-01-24T20:04:51.132Z"
   },
   {
    "duration": 0,
    "start_time": "2023-01-24T20:04:51.132Z"
   },
   {
    "duration": 0,
    "start_time": "2023-01-24T20:04:51.133Z"
   },
   {
    "duration": 0,
    "start_time": "2023-01-24T20:04:51.134Z"
   },
   {
    "duration": 0,
    "start_time": "2023-01-24T20:04:51.135Z"
   },
   {
    "duration": 19,
    "start_time": "2023-01-24T20:04:51.137Z"
   },
   {
    "duration": 0,
    "start_time": "2023-01-24T20:04:51.157Z"
   },
   {
    "duration": 0,
    "start_time": "2023-01-24T20:04:51.158Z"
   },
   {
    "duration": 0,
    "start_time": "2023-01-24T20:04:51.159Z"
   },
   {
    "duration": 0,
    "start_time": "2023-01-24T20:04:51.160Z"
   },
   {
    "duration": 0,
    "start_time": "2023-01-24T20:04:51.160Z"
   },
   {
    "duration": 0,
    "start_time": "2023-01-24T20:04:51.161Z"
   },
   {
    "duration": 0,
    "start_time": "2023-01-24T20:04:51.162Z"
   },
   {
    "duration": 0,
    "start_time": "2023-01-24T20:04:51.162Z"
   },
   {
    "duration": 175,
    "start_time": "2023-01-24T20:04:51.164Z"
   },
   {
    "duration": 0,
    "start_time": "2023-01-24T20:04:51.341Z"
   },
   {
    "duration": 0,
    "start_time": "2023-01-24T20:04:51.343Z"
   },
   {
    "duration": 0,
    "start_time": "2023-01-24T20:04:51.344Z"
   },
   {
    "duration": 0,
    "start_time": "2023-01-24T20:04:51.344Z"
   },
   {
    "duration": 0,
    "start_time": "2023-01-24T20:04:51.345Z"
   },
   {
    "duration": 0,
    "start_time": "2023-01-24T20:04:51.346Z"
   },
   {
    "duration": 0,
    "start_time": "2023-01-24T20:04:51.347Z"
   },
   {
    "duration": 0,
    "start_time": "2023-01-24T20:04:51.463Z"
   },
   {
    "duration": 0,
    "start_time": "2023-01-24T20:04:51.464Z"
   },
   {
    "duration": 0,
    "start_time": "2023-01-24T20:04:51.465Z"
   },
   {
    "duration": 0,
    "start_time": "2023-01-24T20:04:51.466Z"
   },
   {
    "duration": 0,
    "start_time": "2023-01-24T20:04:51.467Z"
   },
   {
    "duration": 0,
    "start_time": "2023-01-24T20:04:51.467Z"
   },
   {
    "duration": 0,
    "start_time": "2023-01-24T20:04:51.468Z"
   },
   {
    "duration": 0,
    "start_time": "2023-01-24T20:04:51.469Z"
   },
   {
    "duration": 0,
    "start_time": "2023-01-24T20:04:51.470Z"
   },
   {
    "duration": 0,
    "start_time": "2023-01-24T20:04:51.470Z"
   },
   {
    "duration": 0,
    "start_time": "2023-01-24T20:04:51.471Z"
   },
   {
    "duration": 0,
    "start_time": "2023-01-24T20:04:51.472Z"
   },
   {
    "duration": 0,
    "start_time": "2023-01-24T20:04:51.472Z"
   },
   {
    "duration": 0,
    "start_time": "2023-01-24T20:04:51.473Z"
   },
   {
    "duration": 0,
    "start_time": "2023-01-24T20:04:51.474Z"
   },
   {
    "duration": 0,
    "start_time": "2023-01-24T20:04:51.475Z"
   },
   {
    "duration": 0,
    "start_time": "2023-01-24T20:04:51.476Z"
   },
   {
    "duration": 0,
    "start_time": "2023-01-24T20:04:51.477Z"
   },
   {
    "duration": 0,
    "start_time": "2023-01-24T20:04:51.510Z"
   },
   {
    "duration": 0,
    "start_time": "2023-01-24T20:04:51.511Z"
   },
   {
    "duration": 0,
    "start_time": "2023-01-24T20:04:51.512Z"
   },
   {
    "duration": 0,
    "start_time": "2023-01-24T20:04:51.513Z"
   },
   {
    "duration": 0,
    "start_time": "2023-01-24T20:04:51.514Z"
   },
   {
    "duration": 0,
    "start_time": "2023-01-24T20:04:51.515Z"
   },
   {
    "duration": 0,
    "start_time": "2023-01-24T20:04:51.515Z"
   },
   {
    "duration": 0,
    "start_time": "2023-01-24T20:04:51.516Z"
   },
   {
    "duration": 0,
    "start_time": "2023-01-24T20:04:51.517Z"
   },
   {
    "duration": 0,
    "start_time": "2023-01-24T20:04:51.518Z"
   },
   {
    "duration": 0,
    "start_time": "2023-01-24T20:04:51.519Z"
   },
   {
    "duration": 0,
    "start_time": "2023-01-24T20:04:51.520Z"
   },
   {
    "duration": 0,
    "start_time": "2023-01-24T20:04:51.521Z"
   },
   {
    "duration": 0,
    "start_time": "2023-01-24T20:04:51.522Z"
   },
   {
    "duration": 0,
    "start_time": "2023-01-24T20:04:51.523Z"
   },
   {
    "duration": 0,
    "start_time": "2023-01-24T20:04:51.524Z"
   },
   {
    "duration": 0,
    "start_time": "2023-01-24T20:04:51.526Z"
   },
   {
    "duration": 0,
    "start_time": "2023-01-24T20:04:51.527Z"
   },
   {
    "duration": 0,
    "start_time": "2023-01-24T20:04:51.528Z"
   },
   {
    "duration": 0,
    "start_time": "2023-01-24T20:04:51.529Z"
   },
   {
    "duration": 12,
    "start_time": "2023-01-24T20:04:51.535Z"
   },
   {
    "duration": 0,
    "start_time": "2023-01-24T20:04:51.548Z"
   },
   {
    "duration": 0,
    "start_time": "2023-01-24T20:04:51.549Z"
   },
   {
    "duration": 0,
    "start_time": "2023-01-24T20:04:51.610Z"
   },
   {
    "duration": 0,
    "start_time": "2023-01-24T20:04:51.611Z"
   },
   {
    "duration": 0,
    "start_time": "2023-01-24T20:04:51.612Z"
   },
   {
    "duration": 0,
    "start_time": "2023-01-24T20:04:51.613Z"
   },
   {
    "duration": 0,
    "start_time": "2023-01-24T20:04:51.613Z"
   },
   {
    "duration": 1,
    "start_time": "2023-01-24T20:04:51.614Z"
   },
   {
    "duration": 0,
    "start_time": "2023-01-24T20:04:51.615Z"
   },
   {
    "duration": 0,
    "start_time": "2023-01-24T20:04:51.616Z"
   },
   {
    "duration": 0,
    "start_time": "2023-01-24T20:04:51.617Z"
   },
   {
    "duration": 0,
    "start_time": "2023-01-24T20:04:51.618Z"
   },
   {
    "duration": 0,
    "start_time": "2023-01-24T20:04:51.618Z"
   },
   {
    "duration": 0,
    "start_time": "2023-01-24T20:04:51.619Z"
   },
   {
    "duration": 0,
    "start_time": "2023-01-24T20:04:51.620Z"
   },
   {
    "duration": 0,
    "start_time": "2023-01-24T20:04:51.621Z"
   },
   {
    "duration": 0,
    "start_time": "2023-01-24T20:04:51.622Z"
   },
   {
    "duration": 0,
    "start_time": "2023-01-24T20:04:51.622Z"
   },
   {
    "duration": 0,
    "start_time": "2023-01-24T20:04:51.623Z"
   },
   {
    "duration": 20,
    "start_time": "2023-01-24T20:05:11.405Z"
   },
   {
    "duration": 5,
    "start_time": "2023-01-24T20:05:24.462Z"
   },
   {
    "duration": 18,
    "start_time": "2023-01-24T20:05:25.751Z"
   },
   {
    "duration": 63,
    "start_time": "2023-01-24T20:05:46.385Z"
   },
   {
    "duration": 0,
    "start_time": "2023-01-24T20:05:46.450Z"
   },
   {
    "duration": 0,
    "start_time": "2023-01-24T20:05:46.451Z"
   },
   {
    "duration": 0,
    "start_time": "2023-01-24T20:05:46.452Z"
   },
   {
    "duration": 0,
    "start_time": "2023-01-24T20:05:46.453Z"
   },
   {
    "duration": 0,
    "start_time": "2023-01-24T20:05:46.453Z"
   },
   {
    "duration": 0,
    "start_time": "2023-01-24T20:05:46.454Z"
   },
   {
    "duration": 0,
    "start_time": "2023-01-24T20:05:46.455Z"
   },
   {
    "duration": 0,
    "start_time": "2023-01-24T20:05:46.456Z"
   },
   {
    "duration": 0,
    "start_time": "2023-01-24T20:05:46.457Z"
   },
   {
    "duration": 0,
    "start_time": "2023-01-24T20:05:46.458Z"
   },
   {
    "duration": 0,
    "start_time": "2023-01-24T20:05:46.459Z"
   },
   {
    "duration": 0,
    "start_time": "2023-01-24T20:05:46.460Z"
   },
   {
    "duration": 0,
    "start_time": "2023-01-24T20:05:46.461Z"
   },
   {
    "duration": 0,
    "start_time": "2023-01-24T20:05:46.461Z"
   },
   {
    "duration": 0,
    "start_time": "2023-01-24T20:05:46.462Z"
   },
   {
    "duration": 160,
    "start_time": "2023-01-24T20:05:46.464Z"
   },
   {
    "duration": 0,
    "start_time": "2023-01-24T20:05:46.627Z"
   },
   {
    "duration": 0,
    "start_time": "2023-01-24T20:05:46.629Z"
   },
   {
    "duration": 0,
    "start_time": "2023-01-24T20:05:46.630Z"
   },
   {
    "duration": 0,
    "start_time": "2023-01-24T20:05:46.631Z"
   },
   {
    "duration": 0,
    "start_time": "2023-01-24T20:05:46.632Z"
   },
   {
    "duration": 0,
    "start_time": "2023-01-24T20:05:46.634Z"
   },
   {
    "duration": 0,
    "start_time": "2023-01-24T20:05:46.635Z"
   },
   {
    "duration": 0,
    "start_time": "2023-01-24T20:05:46.636Z"
   },
   {
    "duration": 0,
    "start_time": "2023-01-24T20:05:46.638Z"
   },
   {
    "duration": 0,
    "start_time": "2023-01-24T20:05:46.640Z"
   },
   {
    "duration": 0,
    "start_time": "2023-01-24T20:05:46.641Z"
   },
   {
    "duration": 0,
    "start_time": "2023-01-24T20:05:46.642Z"
   },
   {
    "duration": 0,
    "start_time": "2023-01-24T20:05:46.643Z"
   },
   {
    "duration": 0,
    "start_time": "2023-01-24T20:05:46.644Z"
   },
   {
    "duration": 0,
    "start_time": "2023-01-24T20:05:46.645Z"
   },
   {
    "duration": 0,
    "start_time": "2023-01-24T20:05:46.646Z"
   },
   {
    "duration": 0,
    "start_time": "2023-01-24T20:05:46.647Z"
   },
   {
    "duration": 0,
    "start_time": "2023-01-24T20:05:46.648Z"
   },
   {
    "duration": 0,
    "start_time": "2023-01-24T20:05:46.649Z"
   },
   {
    "duration": 0,
    "start_time": "2023-01-24T20:05:46.650Z"
   },
   {
    "duration": 0,
    "start_time": "2023-01-24T20:05:46.651Z"
   },
   {
    "duration": 0,
    "start_time": "2023-01-24T20:05:46.652Z"
   },
   {
    "duration": 0,
    "start_time": "2023-01-24T20:05:46.653Z"
   },
   {
    "duration": 0,
    "start_time": "2023-01-24T20:05:46.653Z"
   },
   {
    "duration": 0,
    "start_time": "2023-01-24T20:05:46.709Z"
   },
   {
    "duration": 0,
    "start_time": "2023-01-24T20:05:46.710Z"
   },
   {
    "duration": 0,
    "start_time": "2023-01-24T20:05:46.711Z"
   },
   {
    "duration": 0,
    "start_time": "2023-01-24T20:05:46.712Z"
   },
   {
    "duration": 0,
    "start_time": "2023-01-24T20:05:46.713Z"
   },
   {
    "duration": 0,
    "start_time": "2023-01-24T20:05:46.713Z"
   },
   {
    "duration": 0,
    "start_time": "2023-01-24T20:05:46.714Z"
   },
   {
    "duration": 0,
    "start_time": "2023-01-24T20:05:46.715Z"
   },
   {
    "duration": 0,
    "start_time": "2023-01-24T20:05:46.717Z"
   },
   {
    "duration": 0,
    "start_time": "2023-01-24T20:05:46.717Z"
   },
   {
    "duration": 0,
    "start_time": "2023-01-24T20:05:46.718Z"
   },
   {
    "duration": 0,
    "start_time": "2023-01-24T20:05:46.719Z"
   },
   {
    "duration": 0,
    "start_time": "2023-01-24T20:05:46.719Z"
   },
   {
    "duration": 0,
    "start_time": "2023-01-24T20:05:46.720Z"
   },
   {
    "duration": 0,
    "start_time": "2023-01-24T20:05:46.721Z"
   },
   {
    "duration": 0,
    "start_time": "2023-01-24T20:05:46.722Z"
   },
   {
    "duration": 0,
    "start_time": "2023-01-24T20:05:46.722Z"
   },
   {
    "duration": 6,
    "start_time": "2023-01-24T20:05:46.726Z"
   },
   {
    "duration": 14,
    "start_time": "2023-01-24T20:05:46.733Z"
   },
   {
    "duration": 5,
    "start_time": "2023-01-24T20:05:46.748Z"
   },
   {
    "duration": 4,
    "start_time": "2023-01-24T20:05:46.810Z"
   },
   {
    "duration": 176,
    "start_time": "2023-01-24T20:05:46.815Z"
   },
   {
    "duration": 128,
    "start_time": "2023-01-24T20:05:46.993Z"
   },
   {
    "duration": 21,
    "start_time": "2023-01-24T20:05:47.122Z"
   },
   {
    "duration": 5,
    "start_time": "2023-01-24T20:05:47.144Z"
   },
   {
    "duration": 18,
    "start_time": "2023-01-24T20:05:50.073Z"
   },
   {
    "duration": 3,
    "start_time": "2023-01-24T20:05:58.242Z"
   },
   {
    "duration": 44,
    "start_time": "2023-01-24T20:05:58.961Z"
   },
   {
    "duration": 12,
    "start_time": "2023-01-24T20:06:00.094Z"
   },
   {
    "duration": 14,
    "start_time": "2023-01-24T20:06:01.707Z"
   },
   {
    "duration": 3,
    "start_time": "2023-01-24T20:06:04.219Z"
   },
   {
    "duration": 4,
    "start_time": "2023-01-24T20:06:04.805Z"
   },
   {
    "duration": 10,
    "start_time": "2023-01-24T20:06:05.564Z"
   },
   {
    "duration": 15,
    "start_time": "2023-01-24T20:06:05.937Z"
   },
   {
    "duration": 9,
    "start_time": "2023-01-24T20:06:06.647Z"
   },
   {
    "duration": 4,
    "start_time": "2023-01-24T20:06:08.135Z"
   },
   {
    "duration": 4,
    "start_time": "2023-01-24T20:06:09.052Z"
   },
   {
    "duration": 4,
    "start_time": "2023-01-24T20:06:09.604Z"
   },
   {
    "duration": 7,
    "start_time": "2023-01-24T20:06:10.489Z"
   },
   {
    "duration": 4,
    "start_time": "2023-01-24T20:06:10.829Z"
   },
   {
    "duration": 19,
    "start_time": "2023-01-24T20:06:11.378Z"
   },
   {
    "duration": 91,
    "start_time": "2023-01-24T20:06:11.522Z"
   },
   {
    "duration": 17,
    "start_time": "2023-01-24T20:06:20.259Z"
   },
   {
    "duration": 91,
    "start_time": "2023-01-24T20:06:23.722Z"
   },
   {
    "duration": 8,
    "start_time": "2023-01-24T20:06:25.941Z"
   },
   {
    "duration": 9,
    "start_time": "2023-01-24T20:06:27.185Z"
   },
   {
    "duration": 21,
    "start_time": "2023-01-24T20:06:31.071Z"
   },
   {
    "duration": 99,
    "start_time": "2023-01-24T20:06:31.782Z"
   },
   {
    "duration": 18,
    "start_time": "2023-01-24T20:06:33.059Z"
   },
   {
    "duration": 93,
    "start_time": "2023-01-24T20:06:33.591Z"
   },
   {
    "duration": 9,
    "start_time": "2023-01-24T20:06:33.810Z"
   },
   {
    "duration": 10,
    "start_time": "2023-01-24T20:06:34.339Z"
   },
   {
    "duration": 21,
    "start_time": "2023-01-24T20:06:35.439Z"
   },
   {
    "duration": 97,
    "start_time": "2023-01-24T20:06:35.625Z"
   },
   {
    "duration": 18,
    "start_time": "2023-01-24T20:06:35.983Z"
   },
   {
    "duration": 102,
    "start_time": "2023-01-24T20:06:36.872Z"
   },
   {
    "duration": 9,
    "start_time": "2023-01-24T20:06:37.038Z"
   },
   {
    "duration": 9,
    "start_time": "2023-01-24T20:06:37.234Z"
   },
   {
    "duration": 19,
    "start_time": "2023-01-24T20:06:38.403Z"
   },
   {
    "duration": 91,
    "start_time": "2023-01-24T20:06:38.594Z"
   },
   {
    "duration": 17,
    "start_time": "2023-01-24T20:06:38.771Z"
   },
   {
    "duration": 96,
    "start_time": "2023-01-24T20:06:39.582Z"
   },
   {
    "duration": 9,
    "start_time": "2023-01-24T20:06:39.765Z"
   },
   {
    "duration": 9,
    "start_time": "2023-01-24T20:06:39.951Z"
   },
   {
    "duration": 19,
    "start_time": "2023-01-24T20:06:41.108Z"
   },
   {
    "duration": 4,
    "start_time": "2023-01-24T20:06:41.906Z"
   },
   {
    "duration": 3,
    "start_time": "2023-01-24T20:06:42.591Z"
   },
   {
    "duration": 13,
    "start_time": "2023-01-24T20:06:43.384Z"
   },
   {
    "duration": 13,
    "start_time": "2023-01-24T20:06:43.558Z"
   },
   {
    "duration": 6,
    "start_time": "2023-01-24T20:06:44.571Z"
   },
   {
    "duration": 242,
    "start_time": "2023-01-24T20:06:44.769Z"
   },
   {
    "duration": 10,
    "start_time": "2023-01-24T20:06:47.462Z"
   },
   {
    "duration": 6,
    "start_time": "2023-01-24T20:06:48.076Z"
   },
   {
    "duration": 2,
    "start_time": "2023-01-24T20:06:48.285Z"
   },
   {
    "duration": 16,
    "start_time": "2023-01-24T20:06:49.440Z"
   },
   {
    "duration": 10,
    "start_time": "2023-01-24T20:06:49.653Z"
   },
   {
    "duration": 1641,
    "start_time": "2023-01-24T20:06:53.051Z"
   },
   {
    "duration": 5,
    "start_time": "2023-01-24T20:06:55.972Z"
   },
   {
    "duration": 12,
    "start_time": "2023-01-24T20:06:56.173Z"
   },
   {
    "duration": 8,
    "start_time": "2023-01-24T20:06:58.075Z"
   },
   {
    "duration": 5,
    "start_time": "2023-01-24T20:06:58.701Z"
   },
   {
    "duration": 3,
    "start_time": "2023-01-24T20:06:59.113Z"
   },
   {
    "duration": 82,
    "start_time": "2023-01-24T20:07:00.471Z"
   },
   {
    "duration": 4,
    "start_time": "2023-01-24T20:07:04.422Z"
   },
   {
    "duration": 5,
    "start_time": "2023-01-24T20:07:08.204Z"
   },
   {
    "duration": 4,
    "start_time": "2023-01-24T20:07:08.407Z"
   },
   {
    "duration": 4,
    "start_time": "2023-01-24T20:07:08.602Z"
   },
   {
    "duration": 125,
    "start_time": "2023-01-24T20:07:11.273Z"
   },
   {
    "duration": 121,
    "start_time": "2023-01-24T20:07:11.720Z"
   },
   {
    "duration": 124,
    "start_time": "2023-01-24T20:07:12.315Z"
   },
   {
    "duration": 5,
    "start_time": "2023-01-24T20:07:15.857Z"
   },
   {
    "duration": 18,
    "start_time": "2023-01-24T20:07:19.328Z"
   },
   {
    "duration": 19,
    "start_time": "2023-01-24T20:07:36.958Z"
   },
   {
    "duration": 19,
    "start_time": "2023-01-24T20:08:12.405Z"
   },
   {
    "duration": 8,
    "start_time": "2023-01-24T20:08:35.452Z"
   },
   {
    "duration": 6,
    "start_time": "2023-01-24T20:08:48.335Z"
   },
   {
    "duration": 18,
    "start_time": "2023-01-24T20:11:01.246Z"
   },
   {
    "duration": 8,
    "start_time": "2023-01-24T20:11:21.601Z"
   },
   {
    "duration": 8,
    "start_time": "2023-01-24T20:12:24.824Z"
   },
   {
    "duration": 7,
    "start_time": "2023-01-24T20:12:25.684Z"
   },
   {
    "duration": 158,
    "start_time": "2023-01-24T20:12:29.999Z"
   },
   {
    "duration": 11,
    "start_time": "2023-01-24T20:18:45.447Z"
   },
   {
    "duration": 8,
    "start_time": "2023-01-24T20:18:46.652Z"
   },
   {
    "duration": 276,
    "start_time": "2023-01-24T20:18:49.575Z"
   },
   {
    "duration": 10,
    "start_time": "2023-01-24T20:18:51.144Z"
   },
   {
    "duration": 8,
    "start_time": "2023-01-24T20:18:51.805Z"
   },
   {
    "duration": 271,
    "start_time": "2023-01-24T20:18:53.146Z"
   },
   {
    "duration": 10,
    "start_time": "2023-01-24T20:18:54.742Z"
   },
   {
    "duration": 8,
    "start_time": "2023-01-24T20:18:55.437Z"
   },
   {
    "duration": 267,
    "start_time": "2023-01-24T20:19:18.965Z"
   },
   {
    "duration": 116,
    "start_time": "2023-01-24T20:19:22.788Z"
   },
   {
    "duration": 111,
    "start_time": "2023-01-24T20:19:23.922Z"
   },
   {
    "duration": 112,
    "start_time": "2023-01-24T20:19:24.887Z"
   },
   {
    "duration": 9,
    "start_time": "2023-01-24T20:19:43.163Z"
   },
   {
    "duration": 7,
    "start_time": "2023-01-24T20:19:43.977Z"
   },
   {
    "duration": 585,
    "start_time": "2023-01-24T20:19:44.642Z"
   },
   {
    "duration": 5,
    "start_time": "2023-01-24T20:21:55.228Z"
   },
   {
    "duration": 4,
    "start_time": "2023-01-24T20:47:34.209Z"
   },
   {
    "duration": 5,
    "start_time": "2023-01-24T20:47:43.993Z"
   },
   {
    "duration": 3,
    "start_time": "2023-01-24T20:48:18.050Z"
   },
   {
    "duration": 9,
    "start_time": "2023-01-24T20:48:18.748Z"
   },
   {
    "duration": 8,
    "start_time": "2023-01-24T20:48:19.527Z"
   },
   {
    "duration": 9,
    "start_time": "2023-01-24T20:48:34.448Z"
   },
   {
    "duration": 8,
    "start_time": "2023-01-24T20:48:35.215Z"
   },
   {
    "duration": 4,
    "start_time": "2023-01-24T20:48:39.008Z"
   },
   {
    "duration": 10,
    "start_time": "2023-01-24T20:48:39.825Z"
   },
   {
    "duration": 7,
    "start_time": "2023-01-24T20:48:40.568Z"
   },
   {
    "duration": 68,
    "start_time": "2023-01-24T20:49:17.377Z"
   },
   {
    "duration": 0,
    "start_time": "2023-01-24T20:49:17.447Z"
   },
   {
    "duration": 1,
    "start_time": "2023-01-24T20:49:17.448Z"
   },
   {
    "duration": 0,
    "start_time": "2023-01-24T20:49:17.449Z"
   },
   {
    "duration": 0,
    "start_time": "2023-01-24T20:49:17.450Z"
   },
   {
    "duration": 0,
    "start_time": "2023-01-24T20:49:17.451Z"
   },
   {
    "duration": 0,
    "start_time": "2023-01-24T20:49:17.452Z"
   },
   {
    "duration": 0,
    "start_time": "2023-01-24T20:49:17.452Z"
   },
   {
    "duration": 0,
    "start_time": "2023-01-24T20:49:17.453Z"
   },
   {
    "duration": 0,
    "start_time": "2023-01-24T20:49:17.454Z"
   },
   {
    "duration": 0,
    "start_time": "2023-01-24T20:49:17.455Z"
   },
   {
    "duration": 0,
    "start_time": "2023-01-24T20:49:17.456Z"
   },
   {
    "duration": 0,
    "start_time": "2023-01-24T20:49:17.456Z"
   },
   {
    "duration": 24,
    "start_time": "2023-01-24T20:49:17.458Z"
   },
   {
    "duration": 17,
    "start_time": "2023-01-24T20:49:17.484Z"
   },
   {
    "duration": 32,
    "start_time": "2023-01-24T20:49:17.502Z"
   },
   {
    "duration": 99,
    "start_time": "2023-01-24T20:49:17.535Z"
   },
   {
    "duration": 17,
    "start_time": "2023-01-24T20:49:17.636Z"
   },
   {
    "duration": 111,
    "start_time": "2023-01-24T20:49:17.654Z"
   },
   {
    "duration": 7,
    "start_time": "2023-01-24T20:49:17.766Z"
   },
   {
    "duration": 18,
    "start_time": "2023-01-24T20:49:17.774Z"
   },
   {
    "duration": 39,
    "start_time": "2023-01-24T20:49:17.793Z"
   },
   {
    "duration": 100,
    "start_time": "2023-01-24T20:49:17.833Z"
   },
   {
    "duration": 16,
    "start_time": "2023-01-24T20:49:17.934Z"
   },
   {
    "duration": 104,
    "start_time": "2023-01-24T20:49:17.952Z"
   },
   {
    "duration": 7,
    "start_time": "2023-01-24T20:49:18.057Z"
   },
   {
    "duration": 20,
    "start_time": "2023-01-24T20:49:18.065Z"
   },
   {
    "duration": 32,
    "start_time": "2023-01-24T20:49:18.086Z"
   },
   {
    "duration": 104,
    "start_time": "2023-01-24T20:49:18.121Z"
   },
   {
    "duration": 18,
    "start_time": "2023-01-24T20:49:18.227Z"
   },
   {
    "duration": 123,
    "start_time": "2023-01-24T20:49:18.247Z"
   },
   {
    "duration": 7,
    "start_time": "2023-01-24T20:49:18.372Z"
   },
   {
    "duration": 9,
    "start_time": "2023-01-24T20:49:18.380Z"
   },
   {
    "duration": 40,
    "start_time": "2023-01-24T20:49:18.390Z"
   },
   {
    "duration": 103,
    "start_time": "2023-01-24T20:49:18.431Z"
   },
   {
    "duration": 17,
    "start_time": "2023-01-24T20:49:18.535Z"
   },
   {
    "duration": 117,
    "start_time": "2023-01-24T20:49:18.554Z"
   },
   {
    "duration": 6,
    "start_time": "2023-01-24T20:49:18.672Z"
   },
   {
    "duration": 7,
    "start_time": "2023-01-24T20:49:18.680Z"
   },
   {
    "duration": 20,
    "start_time": "2023-01-24T20:49:18.709Z"
   },
   {
    "duration": 4,
    "start_time": "2023-01-24T20:49:18.731Z"
   },
   {
    "duration": 7,
    "start_time": "2023-01-24T20:49:18.736Z"
   },
   {
    "duration": 14,
    "start_time": "2023-01-24T20:49:18.745Z"
   },
   {
    "duration": 14,
    "start_time": "2023-01-24T20:49:18.761Z"
   },
   {
    "duration": 5,
    "start_time": "2023-01-24T20:49:18.776Z"
   },
   {
    "duration": 250,
    "start_time": "2023-01-24T20:49:18.810Z"
   },
   {
    "duration": 9,
    "start_time": "2023-01-24T20:49:19.061Z"
   },
   {
    "duration": 6,
    "start_time": "2023-01-24T20:49:19.071Z"
   },
   {
    "duration": 4,
    "start_time": "2023-01-24T20:49:19.078Z"
   },
   {
    "duration": 33,
    "start_time": "2023-01-24T20:49:19.084Z"
   },
   {
    "duration": 9,
    "start_time": "2023-01-24T20:49:19.118Z"
   },
   {
    "duration": 1635,
    "start_time": "2023-01-24T20:49:19.128Z"
   },
   {
    "duration": 5,
    "start_time": "2023-01-24T20:49:20.764Z"
   },
   {
    "duration": 13,
    "start_time": "2023-01-24T20:49:20.771Z"
   },
   {
    "duration": 28,
    "start_time": "2023-01-24T20:49:20.785Z"
   },
   {
    "duration": 6,
    "start_time": "2023-01-24T20:49:20.814Z"
   },
   {
    "duration": 4,
    "start_time": "2023-01-24T20:49:20.821Z"
   },
   {
    "duration": 96,
    "start_time": "2023-01-24T20:49:20.826Z"
   },
   {
    "duration": 3,
    "start_time": "2023-01-24T20:49:20.924Z"
   },
   {
    "duration": 6,
    "start_time": "2023-01-24T20:49:20.928Z"
   },
   {
    "duration": 6,
    "start_time": "2023-01-24T20:49:20.936Z"
   },
   {
    "duration": 6,
    "start_time": "2023-01-24T20:49:20.945Z"
   },
   {
    "duration": 146,
    "start_time": "2023-01-24T20:49:20.952Z"
   },
   {
    "duration": 121,
    "start_time": "2023-01-24T20:49:21.100Z"
   },
   {
    "duration": 104,
    "start_time": "2023-01-24T20:49:21.223Z"
   },
   {
    "duration": 5,
    "start_time": "2023-01-24T20:49:21.329Z"
   },
   {
    "duration": 14,
    "start_time": "2023-01-24T20:49:21.336Z"
   },
   {
    "duration": 11,
    "start_time": "2023-01-24T20:49:21.351Z"
   },
   {
    "duration": 168,
    "start_time": "2023-01-24T20:49:21.364Z"
   },
   {
    "duration": 10,
    "start_time": "2023-01-24T20:49:21.534Z"
   },
   {
    "duration": 10,
    "start_time": "2023-01-24T20:49:21.545Z"
   },
   {
    "duration": 281,
    "start_time": "2023-01-24T20:49:21.556Z"
   },
   {
    "duration": 10,
    "start_time": "2023-01-24T20:49:21.838Z"
   },
   {
    "duration": 10,
    "start_time": "2023-01-24T20:49:21.849Z"
   },
   {
    "duration": 276,
    "start_time": "2023-01-24T20:49:21.860Z"
   },
   {
    "duration": 10,
    "start_time": "2023-01-24T20:49:22.138Z"
   },
   {
    "duration": 10,
    "start_time": "2023-01-24T20:49:22.149Z"
   },
   {
    "duration": 278,
    "start_time": "2023-01-24T20:49:22.160Z"
   },
   {
    "duration": 124,
    "start_time": "2023-01-24T20:49:22.440Z"
   },
   {
    "duration": 122,
    "start_time": "2023-01-24T20:49:22.565Z"
   },
   {
    "duration": 115,
    "start_time": "2023-01-24T20:49:22.688Z"
   },
   {
    "duration": 4,
    "start_time": "2023-01-24T20:49:26.959Z"
   },
   {
    "duration": 77,
    "start_time": "2023-01-24T20:50:32.922Z"
   },
   {
    "duration": 0,
    "start_time": "2023-01-24T20:50:33.001Z"
   },
   {
    "duration": 0,
    "start_time": "2023-01-24T20:50:33.002Z"
   },
   {
    "duration": 0,
    "start_time": "2023-01-24T20:50:33.004Z"
   },
   {
    "duration": 0,
    "start_time": "2023-01-24T20:50:33.005Z"
   },
   {
    "duration": 0,
    "start_time": "2023-01-24T20:50:33.007Z"
   },
   {
    "duration": 0,
    "start_time": "2023-01-24T20:50:33.008Z"
   },
   {
    "duration": 0,
    "start_time": "2023-01-24T20:50:33.015Z"
   },
   {
    "duration": 0,
    "start_time": "2023-01-24T20:50:33.016Z"
   },
   {
    "duration": 0,
    "start_time": "2023-01-24T20:50:33.017Z"
   },
   {
    "duration": 0,
    "start_time": "2023-01-24T20:50:33.018Z"
   },
   {
    "duration": 0,
    "start_time": "2023-01-24T20:50:33.019Z"
   },
   {
    "duration": 0,
    "start_time": "2023-01-24T20:50:33.021Z"
   },
   {
    "duration": 0,
    "start_time": "2023-01-24T20:50:33.022Z"
   },
   {
    "duration": 25,
    "start_time": "2023-01-24T20:50:33.025Z"
   },
   {
    "duration": 59,
    "start_time": "2023-01-24T20:50:33.052Z"
   },
   {
    "duration": 102,
    "start_time": "2023-01-24T20:50:33.112Z"
   },
   {
    "duration": 16,
    "start_time": "2023-01-24T20:50:33.216Z"
   },
   {
    "duration": 114,
    "start_time": "2023-01-24T20:50:33.233Z"
   },
   {
    "duration": 7,
    "start_time": "2023-01-24T20:50:33.349Z"
   },
   {
    "duration": 17,
    "start_time": "2023-01-24T20:50:33.357Z"
   },
   {
    "duration": 33,
    "start_time": "2023-01-24T20:50:33.375Z"
   },
   {
    "duration": 105,
    "start_time": "2023-01-24T20:50:33.410Z"
   },
   {
    "duration": 17,
    "start_time": "2023-01-24T20:50:33.516Z"
   },
   {
    "duration": 110,
    "start_time": "2023-01-24T20:50:33.534Z"
   },
   {
    "duration": 7,
    "start_time": "2023-01-24T20:50:33.646Z"
   },
   {
    "duration": 18,
    "start_time": "2023-01-24T20:50:33.654Z"
   },
   {
    "duration": 21,
    "start_time": "2023-01-24T20:50:33.674Z"
   },
   {
    "duration": 98,
    "start_time": "2023-01-24T20:50:33.696Z"
   },
   {
    "duration": 30,
    "start_time": "2023-01-24T20:50:33.795Z"
   },
   {
    "duration": 214,
    "start_time": "2023-01-24T20:50:33.826Z"
   },
   {
    "duration": 7,
    "start_time": "2023-01-24T20:50:34.041Z"
   },
   {
    "duration": 20,
    "start_time": "2023-01-24T20:50:34.050Z"
   },
   {
    "duration": 27,
    "start_time": "2023-01-24T20:50:34.073Z"
   },
   {
    "duration": 107,
    "start_time": "2023-01-24T20:50:34.102Z"
   },
   {
    "duration": 18,
    "start_time": "2023-01-24T20:50:34.211Z"
   },
   {
    "duration": 113,
    "start_time": "2023-01-24T20:50:34.231Z"
   },
   {
    "duration": 7,
    "start_time": "2023-01-24T20:50:34.346Z"
   },
   {
    "duration": 20,
    "start_time": "2023-01-24T20:50:34.354Z"
   },
   {
    "duration": 39,
    "start_time": "2023-01-24T20:50:34.375Z"
   },
   {
    "duration": 9,
    "start_time": "2023-01-24T20:50:34.415Z"
   },
   {
    "duration": 18,
    "start_time": "2023-01-24T20:50:34.426Z"
   },
   {
    "duration": 26,
    "start_time": "2023-01-24T20:50:34.445Z"
   },
   {
    "duration": 32,
    "start_time": "2023-01-24T20:50:34.473Z"
   },
   {
    "duration": 11,
    "start_time": "2023-01-24T20:50:34.507Z"
   },
   {
    "duration": 255,
    "start_time": "2023-01-24T20:50:34.519Z"
   },
   {
    "duration": 9,
    "start_time": "2023-01-24T20:50:34.775Z"
   },
   {
    "duration": 26,
    "start_time": "2023-01-24T20:50:34.785Z"
   },
   {
    "duration": 10,
    "start_time": "2023-01-24T20:50:34.813Z"
   },
   {
    "duration": 32,
    "start_time": "2023-01-24T20:50:34.824Z"
   },
   {
    "duration": 14,
    "start_time": "2023-01-24T20:50:34.858Z"
   },
   {
    "duration": 1644,
    "start_time": "2023-01-24T20:50:34.873Z"
   },
   {
    "duration": 5,
    "start_time": "2023-01-24T20:50:36.519Z"
   },
   {
    "duration": 15,
    "start_time": "2023-01-24T20:50:36.525Z"
   },
   {
    "duration": 10,
    "start_time": "2023-01-24T20:50:36.542Z"
   },
   {
    "duration": 6,
    "start_time": "2023-01-24T20:50:36.553Z"
   },
   {
    "duration": 7,
    "start_time": "2023-01-24T20:50:36.560Z"
   },
   {
    "duration": 123,
    "start_time": "2023-01-24T20:50:36.569Z"
   },
   {
    "duration": 4,
    "start_time": "2023-01-24T20:50:36.694Z"
   },
   {
    "duration": 14,
    "start_time": "2023-01-24T20:50:36.699Z"
   },
   {
    "duration": 5,
    "start_time": "2023-01-24T20:50:36.714Z"
   },
   {
    "duration": 10,
    "start_time": "2023-01-24T20:50:36.721Z"
   },
   {
    "duration": 133,
    "start_time": "2023-01-24T20:50:36.732Z"
   },
   {
    "duration": 130,
    "start_time": "2023-01-24T20:50:36.867Z"
   },
   {
    "duration": 27,
    "start_time": "2023-01-24T20:50:36.999Z"
   },
   {
    "duration": 5,
    "start_time": "2023-01-24T20:50:37.027Z"
   },
   {
    "duration": 9,
    "start_time": "2023-01-24T20:50:37.033Z"
   },
   {
    "duration": 6,
    "start_time": "2023-01-24T20:50:37.044Z"
   },
   {
    "duration": 176,
    "start_time": "2023-01-24T20:50:37.051Z"
   },
   {
    "duration": 10,
    "start_time": "2023-01-24T20:50:37.228Z"
   },
   {
    "duration": 7,
    "start_time": "2023-01-24T20:50:37.239Z"
   },
   {
    "duration": 287,
    "start_time": "2023-01-24T20:50:37.248Z"
   },
   {
    "duration": 10,
    "start_time": "2023-01-24T20:50:37.537Z"
   },
   {
    "duration": 8,
    "start_time": "2023-01-24T20:50:37.548Z"
   },
   {
    "duration": 287,
    "start_time": "2023-01-24T20:50:37.558Z"
   },
   {
    "duration": 10,
    "start_time": "2023-01-24T20:50:37.849Z"
   },
   {
    "duration": 8,
    "start_time": "2023-01-24T20:50:37.860Z"
   },
   {
    "duration": 282,
    "start_time": "2023-01-24T20:50:37.869Z"
   },
   {
    "duration": 226,
    "start_time": "2023-01-24T20:50:38.153Z"
   },
   {
    "duration": 130,
    "start_time": "2023-01-24T20:50:38.381Z"
   },
   {
    "duration": 124,
    "start_time": "2023-01-24T20:50:38.512Z"
   },
   {
    "duration": 5,
    "start_time": "2023-01-24T20:50:47.896Z"
   },
   {
    "duration": 3,
    "start_time": "2023-01-24T20:51:00.619Z"
   },
   {
    "duration": 44,
    "start_time": "2023-01-24T20:51:01.075Z"
   },
   {
    "duration": 13,
    "start_time": "2023-01-24T20:51:01.566Z"
   },
   {
    "duration": 12,
    "start_time": "2023-01-24T20:51:01.944Z"
   },
   {
    "duration": 3,
    "start_time": "2023-01-24T20:51:03.031Z"
   },
   {
    "duration": 4,
    "start_time": "2023-01-24T20:51:03.576Z"
   },
   {
    "duration": 10,
    "start_time": "2023-01-24T20:51:04.315Z"
   },
   {
    "duration": 15,
    "start_time": "2023-01-24T20:51:04.702Z"
   },
   {
    "duration": 8,
    "start_time": "2023-01-24T20:51:05.406Z"
   },
   {
    "duration": 5,
    "start_time": "2023-01-24T20:51:06.897Z"
   },
   {
    "duration": 5,
    "start_time": "2023-01-24T20:51:07.856Z"
   },
   {
    "duration": 4,
    "start_time": "2023-01-24T20:51:08.456Z"
   },
   {
    "duration": 6,
    "start_time": "2023-01-24T20:51:09.203Z"
   },
   {
    "duration": 4,
    "start_time": "2023-01-24T20:51:09.566Z"
   },
   {
    "duration": 20,
    "start_time": "2023-01-24T20:51:10.139Z"
   },
   {
    "duration": 87,
    "start_time": "2023-01-24T20:51:10.311Z"
   },
   {
    "duration": 16,
    "start_time": "2023-01-24T20:51:11.239Z"
   },
   {
    "duration": 86,
    "start_time": "2023-01-24T20:51:12.143Z"
   },
   {
    "duration": 7,
    "start_time": "2023-01-24T20:51:12.689Z"
   },
   {
    "duration": 8,
    "start_time": "2023-01-24T20:51:13.113Z"
   },
   {
    "duration": 20,
    "start_time": "2023-01-24T20:51:14.339Z"
   },
   {
    "duration": 96,
    "start_time": "2023-01-24T20:51:14.521Z"
   },
   {
    "duration": 16,
    "start_time": "2023-01-24T20:51:14.962Z"
   },
   {
    "duration": 91,
    "start_time": "2023-01-24T20:51:15.161Z"
   },
   {
    "duration": 7,
    "start_time": "2023-01-24T20:51:15.363Z"
   },
   {
    "duration": 9,
    "start_time": "2023-01-24T20:51:15.555Z"
   },
   {
    "duration": 20,
    "start_time": "2023-01-24T20:51:22.446Z"
   },
   {
    "duration": 96,
    "start_time": "2023-01-24T20:51:30.130Z"
   },
   {
    "duration": 16,
    "start_time": "2023-01-24T20:51:30.497Z"
   },
   {
    "duration": 108,
    "start_time": "2023-01-24T20:51:31.224Z"
   },
   {
    "duration": 7,
    "start_time": "2023-01-24T20:51:31.411Z"
   },
   {
    "duration": 10,
    "start_time": "2023-01-24T20:51:31.614Z"
   },
   {
    "duration": 19,
    "start_time": "2023-01-24T20:51:32.795Z"
   },
   {
    "duration": 110,
    "start_time": "2023-01-24T20:51:32.976Z"
   },
   {
    "duration": 17,
    "start_time": "2023-01-24T20:51:33.170Z"
   },
   {
    "duration": 102,
    "start_time": "2023-01-24T20:51:33.920Z"
   },
   {
    "duration": 6,
    "start_time": "2023-01-24T20:51:34.098Z"
   },
   {
    "duration": 9,
    "start_time": "2023-01-24T20:51:34.282Z"
   },
   {
    "duration": 19,
    "start_time": "2023-01-24T20:51:35.418Z"
   },
   {
    "duration": 5,
    "start_time": "2023-01-24T20:51:36.219Z"
   },
   {
    "duration": 4,
    "start_time": "2023-01-24T20:51:37.014Z"
   },
   {
    "duration": 12,
    "start_time": "2023-01-24T20:51:38.060Z"
   },
   {
    "duration": 12,
    "start_time": "2023-01-24T20:51:38.257Z"
   },
   {
    "duration": 6,
    "start_time": "2023-01-24T20:51:39.279Z"
   },
   {
    "duration": 242,
    "start_time": "2023-01-24T20:51:39.481Z"
   },
   {
    "duration": 10,
    "start_time": "2023-01-24T20:51:44.840Z"
   },
   {
    "duration": 7,
    "start_time": "2023-01-24T20:51:45.456Z"
   },
   {
    "duration": 2,
    "start_time": "2023-01-24T20:51:45.651Z"
   },
   {
    "duration": 15,
    "start_time": "2023-01-24T20:51:46.072Z"
   },
   {
    "duration": 9,
    "start_time": "2023-01-24T20:51:46.258Z"
   },
   {
    "duration": 1632,
    "start_time": "2023-01-24T20:51:46.669Z"
   },
   {
    "duration": 5,
    "start_time": "2023-01-24T20:51:49.208Z"
   },
   {
    "duration": 13,
    "start_time": "2023-01-24T20:51:49.388Z"
   },
   {
    "duration": 9,
    "start_time": "2023-01-24T20:51:49.921Z"
   },
   {
    "duration": 6,
    "start_time": "2023-01-24T20:51:50.176Z"
   },
   {
    "duration": 4,
    "start_time": "2023-01-24T20:51:50.466Z"
   },
   {
    "duration": 82,
    "start_time": "2023-01-24T20:51:51.007Z"
   },
   {
    "duration": 4,
    "start_time": "2023-01-24T20:51:51.666Z"
   },
   {
    "duration": 5,
    "start_time": "2023-01-24T20:51:53.702Z"
   },
   {
    "duration": 4,
    "start_time": "2023-01-24T20:51:53.898Z"
   },
   {
    "duration": 4,
    "start_time": "2023-01-24T20:51:54.097Z"
   },
   {
    "duration": 122,
    "start_time": "2023-01-24T20:51:54.905Z"
   },
   {
    "duration": 175,
    "start_time": "2023-01-24T20:51:55.667Z"
   },
   {
    "duration": 20,
    "start_time": "2023-01-24T20:51:57.349Z"
   },
   {
    "duration": 5,
    "start_time": "2023-01-24T20:52:00.944Z"
   },
   {
    "duration": 8,
    "start_time": "2023-01-24T20:52:01.289Z"
   },
   {
    "duration": 7,
    "start_time": "2023-01-24T20:52:01.454Z"
   },
   {
    "duration": 168,
    "start_time": "2023-01-24T20:52:01.807Z"
   },
   {
    "duration": 12,
    "start_time": "2023-01-24T20:52:06.459Z"
   },
   {
    "duration": 8,
    "start_time": "2023-01-24T20:52:06.636Z"
   },
   {
    "duration": 266,
    "start_time": "2023-01-24T20:52:07.025Z"
   },
   {
    "duration": 11,
    "start_time": "2023-01-24T20:52:07.364Z"
   },
   {
    "duration": 8,
    "start_time": "2023-01-24T20:52:07.556Z"
   },
   {
    "duration": 270,
    "start_time": "2023-01-24T20:52:07.942Z"
   },
   {
    "duration": 11,
    "start_time": "2023-01-24T20:52:08.308Z"
   },
   {
    "duration": 8,
    "start_time": "2023-01-24T20:52:08.487Z"
   },
   {
    "duration": 274,
    "start_time": "2023-01-24T20:52:13.043Z"
   },
   {
    "duration": 122,
    "start_time": "2023-01-24T20:52:15.224Z"
   },
   {
    "duration": 114,
    "start_time": "2023-01-24T20:52:16.474Z"
   },
   {
    "duration": 113,
    "start_time": "2023-01-24T20:52:16.940Z"
   },
   {
    "duration": 4,
    "start_time": "2023-01-24T20:52:23.005Z"
   },
   {
    "duration": 5,
    "start_time": "2023-01-24T20:52:46.969Z"
   },
   {
    "duration": 45,
    "start_time": "2023-01-24T21:01:13.829Z"
   },
   {
    "duration": 68,
    "start_time": "2023-01-24T21:01:19.449Z"
   },
   {
    "duration": 0,
    "start_time": "2023-01-24T21:01:19.519Z"
   },
   {
    "duration": 0,
    "start_time": "2023-01-24T21:01:19.520Z"
   },
   {
    "duration": 0,
    "start_time": "2023-01-24T21:01:19.521Z"
   },
   {
    "duration": 0,
    "start_time": "2023-01-24T21:01:19.522Z"
   },
   {
    "duration": 0,
    "start_time": "2023-01-24T21:01:19.524Z"
   },
   {
    "duration": 0,
    "start_time": "2023-01-24T21:01:19.525Z"
   },
   {
    "duration": 0,
    "start_time": "2023-01-24T21:01:19.526Z"
   },
   {
    "duration": 0,
    "start_time": "2023-01-24T21:01:19.528Z"
   },
   {
    "duration": 0,
    "start_time": "2023-01-24T21:01:19.529Z"
   },
   {
    "duration": 0,
    "start_time": "2023-01-24T21:01:19.531Z"
   },
   {
    "duration": 0,
    "start_time": "2023-01-24T21:01:19.532Z"
   },
   {
    "duration": 0,
    "start_time": "2023-01-24T21:01:19.533Z"
   },
   {
    "duration": 0,
    "start_time": "2023-01-24T21:01:19.534Z"
   },
   {
    "duration": 8,
    "start_time": "2023-01-24T21:01:19.537Z"
   },
   {
    "duration": 0,
    "start_time": "2023-01-24T21:01:19.547Z"
   },
   {
    "duration": 0,
    "start_time": "2023-01-24T21:01:19.548Z"
   },
   {
    "duration": 0,
    "start_time": "2023-01-24T21:01:19.550Z"
   },
   {
    "duration": 0,
    "start_time": "2023-01-24T21:01:19.551Z"
   },
   {
    "duration": 0,
    "start_time": "2023-01-24T21:01:19.553Z"
   },
   {
    "duration": 33,
    "start_time": "2023-01-24T21:01:19.555Z"
   },
   {
    "duration": 0,
    "start_time": "2023-01-24T21:01:19.590Z"
   },
   {
    "duration": 0,
    "start_time": "2023-01-24T21:01:19.591Z"
   },
   {
    "duration": 0,
    "start_time": "2023-01-24T21:01:19.592Z"
   },
   {
    "duration": 0,
    "start_time": "2023-01-24T21:01:19.593Z"
   },
   {
    "duration": 0,
    "start_time": "2023-01-24T21:01:19.594Z"
   },
   {
    "duration": 0,
    "start_time": "2023-01-24T21:01:19.595Z"
   },
   {
    "duration": 0,
    "start_time": "2023-01-24T21:01:19.596Z"
   },
   {
    "duration": 0,
    "start_time": "2023-01-24T21:01:19.597Z"
   },
   {
    "duration": 0,
    "start_time": "2023-01-24T21:01:19.598Z"
   },
   {
    "duration": 10,
    "start_time": "2023-01-24T21:01:19.600Z"
   },
   {
    "duration": 0,
    "start_time": "2023-01-24T21:01:19.611Z"
   },
   {
    "duration": 0,
    "start_time": "2023-01-24T21:01:19.612Z"
   },
   {
    "duration": 0,
    "start_time": "2023-01-24T21:01:19.613Z"
   },
   {
    "duration": 0,
    "start_time": "2023-01-24T21:01:19.614Z"
   },
   {
    "duration": 0,
    "start_time": "2023-01-24T21:01:19.615Z"
   },
   {
    "duration": 67,
    "start_time": "2023-01-24T21:01:19.618Z"
   },
   {
    "duration": 0,
    "start_time": "2023-01-24T21:01:19.687Z"
   },
   {
    "duration": 0,
    "start_time": "2023-01-24T21:01:19.688Z"
   },
   {
    "duration": 1,
    "start_time": "2023-01-24T21:01:19.689Z"
   },
   {
    "duration": 0,
    "start_time": "2023-01-24T21:01:19.691Z"
   },
   {
    "duration": 7,
    "start_time": "2023-01-24T21:01:19.693Z"
   },
   {
    "duration": 0,
    "start_time": "2023-01-24T21:01:19.702Z"
   },
   {
    "duration": 0,
    "start_time": "2023-01-24T21:01:19.703Z"
   },
   {
    "duration": 0,
    "start_time": "2023-01-24T21:01:19.704Z"
   },
   {
    "duration": 0,
    "start_time": "2023-01-24T21:01:19.705Z"
   },
   {
    "duration": 0,
    "start_time": "2023-01-24T21:01:19.707Z"
   },
   {
    "duration": 0,
    "start_time": "2023-01-24T21:01:19.708Z"
   },
   {
    "duration": 0,
    "start_time": "2023-01-24T21:01:19.709Z"
   },
   {
    "duration": 0,
    "start_time": "2023-01-24T21:01:19.710Z"
   },
   {
    "duration": 0,
    "start_time": "2023-01-24T21:01:19.712Z"
   },
   {
    "duration": 0,
    "start_time": "2023-01-24T21:01:19.712Z"
   },
   {
    "duration": 0,
    "start_time": "2023-01-24T21:01:19.713Z"
   },
   {
    "duration": 0,
    "start_time": "2023-01-24T21:01:19.715Z"
   },
   {
    "duration": 0,
    "start_time": "2023-01-24T21:01:19.716Z"
   },
   {
    "duration": 0,
    "start_time": "2023-01-24T21:01:19.717Z"
   },
   {
    "duration": 0,
    "start_time": "2023-01-24T21:01:19.718Z"
   },
   {
    "duration": 7,
    "start_time": "2023-01-24T21:01:19.781Z"
   },
   {
    "duration": 0,
    "start_time": "2023-01-24T21:01:19.791Z"
   },
   {
    "duration": 0,
    "start_time": "2023-01-24T21:01:19.793Z"
   },
   {
    "duration": 0,
    "start_time": "2023-01-24T21:01:19.795Z"
   },
   {
    "duration": 0,
    "start_time": "2023-01-24T21:01:19.796Z"
   },
   {
    "duration": 0,
    "start_time": "2023-01-24T21:01:19.798Z"
   },
   {
    "duration": 0,
    "start_time": "2023-01-24T21:01:19.799Z"
   },
   {
    "duration": 0,
    "start_time": "2023-01-24T21:01:19.801Z"
   },
   {
    "duration": 0,
    "start_time": "2023-01-24T21:01:19.803Z"
   },
   {
    "duration": 0,
    "start_time": "2023-01-24T21:01:19.804Z"
   },
   {
    "duration": 0,
    "start_time": "2023-01-24T21:01:19.805Z"
   },
   {
    "duration": 0,
    "start_time": "2023-01-24T21:01:19.807Z"
   },
   {
    "duration": 0,
    "start_time": "2023-01-24T21:01:19.809Z"
   },
   {
    "duration": 0,
    "start_time": "2023-01-24T21:01:19.810Z"
   },
   {
    "duration": 0,
    "start_time": "2023-01-24T21:01:19.812Z"
   },
   {
    "duration": 0,
    "start_time": "2023-01-24T21:01:19.813Z"
   },
   {
    "duration": 0,
    "start_time": "2023-01-24T21:01:19.814Z"
   },
   {
    "duration": 0,
    "start_time": "2023-01-24T21:01:19.816Z"
   },
   {
    "duration": 0,
    "start_time": "2023-01-24T21:01:19.817Z"
   },
   {
    "duration": 0,
    "start_time": "2023-01-24T21:01:19.819Z"
   },
   {
    "duration": 66,
    "start_time": "2023-01-24T21:01:19.821Z"
   },
   {
    "duration": 0,
    "start_time": "2023-01-24T21:01:19.889Z"
   },
   {
    "duration": 0,
    "start_time": "2023-01-24T21:01:19.890Z"
   },
   {
    "duration": 0,
    "start_time": "2023-01-24T21:01:19.893Z"
   },
   {
    "duration": 64,
    "start_time": "2023-01-24T21:01:36.536Z"
   },
   {
    "duration": 0,
    "start_time": "2023-01-24T21:01:36.602Z"
   },
   {
    "duration": 0,
    "start_time": "2023-01-24T21:01:36.604Z"
   },
   {
    "duration": 0,
    "start_time": "2023-01-24T21:01:36.605Z"
   },
   {
    "duration": 0,
    "start_time": "2023-01-24T21:01:36.606Z"
   },
   {
    "duration": 0,
    "start_time": "2023-01-24T21:01:36.608Z"
   },
   {
    "duration": 0,
    "start_time": "2023-01-24T21:01:36.609Z"
   },
   {
    "duration": 0,
    "start_time": "2023-01-24T21:01:36.611Z"
   },
   {
    "duration": 0,
    "start_time": "2023-01-24T21:01:36.613Z"
   },
   {
    "duration": 0,
    "start_time": "2023-01-24T21:01:36.614Z"
   },
   {
    "duration": 0,
    "start_time": "2023-01-24T21:01:36.614Z"
   },
   {
    "duration": 1,
    "start_time": "2023-01-24T21:01:36.615Z"
   },
   {
    "duration": 0,
    "start_time": "2023-01-24T21:01:36.616Z"
   },
   {
    "duration": 0,
    "start_time": "2023-01-24T21:01:36.618Z"
   },
   {
    "duration": 0,
    "start_time": "2023-01-24T21:01:36.619Z"
   },
   {
    "duration": 8,
    "start_time": "2023-01-24T21:01:36.622Z"
   },
   {
    "duration": 0,
    "start_time": "2023-01-24T21:01:36.632Z"
   },
   {
    "duration": 0,
    "start_time": "2023-01-24T21:01:36.633Z"
   },
   {
    "duration": 50,
    "start_time": "2023-01-24T21:01:36.636Z"
   },
   {
    "duration": 0,
    "start_time": "2023-01-24T21:01:36.688Z"
   },
   {
    "duration": 0,
    "start_time": "2023-01-24T21:01:36.690Z"
   },
   {
    "duration": 0,
    "start_time": "2023-01-24T21:01:36.691Z"
   },
   {
    "duration": 0,
    "start_time": "2023-01-24T21:01:36.692Z"
   },
   {
    "duration": 0,
    "start_time": "2023-01-24T21:01:36.693Z"
   },
   {
    "duration": 1,
    "start_time": "2023-01-24T21:01:36.694Z"
   },
   {
    "duration": 0,
    "start_time": "2023-01-24T21:01:36.696Z"
   },
   {
    "duration": 0,
    "start_time": "2023-01-24T21:01:36.697Z"
   },
   {
    "duration": 0,
    "start_time": "2023-01-24T21:01:36.698Z"
   },
   {
    "duration": 0,
    "start_time": "2023-01-24T21:01:36.699Z"
   },
   {
    "duration": 0,
    "start_time": "2023-01-24T21:01:36.701Z"
   },
   {
    "duration": 0,
    "start_time": "2023-01-24T21:01:36.702Z"
   },
   {
    "duration": 0,
    "start_time": "2023-01-24T21:01:36.703Z"
   },
   {
    "duration": 0,
    "start_time": "2023-01-24T21:01:36.704Z"
   },
   {
    "duration": 0,
    "start_time": "2023-01-24T21:01:36.705Z"
   },
   {
    "duration": 0,
    "start_time": "2023-01-24T21:01:36.707Z"
   },
   {
    "duration": 0,
    "start_time": "2023-01-24T21:01:36.708Z"
   },
   {
    "duration": 6,
    "start_time": "2023-01-24T21:01:36.711Z"
   },
   {
    "duration": 0,
    "start_time": "2023-01-24T21:01:36.719Z"
   },
   {
    "duration": 0,
    "start_time": "2023-01-24T21:01:36.721Z"
   },
   {
    "duration": 0,
    "start_time": "2023-01-24T21:01:36.722Z"
   },
   {
    "duration": 0,
    "start_time": "2023-01-24T21:01:36.782Z"
   },
   {
    "duration": 0,
    "start_time": "2023-01-24T21:01:36.783Z"
   },
   {
    "duration": 0,
    "start_time": "2023-01-24T21:01:36.784Z"
   },
   {
    "duration": 0,
    "start_time": "2023-01-24T21:01:36.786Z"
   },
   {
    "duration": 0,
    "start_time": "2023-01-24T21:01:36.787Z"
   },
   {
    "duration": 7,
    "start_time": "2023-01-24T21:01:36.790Z"
   },
   {
    "duration": 0,
    "start_time": "2023-01-24T21:01:36.798Z"
   },
   {
    "duration": 0,
    "start_time": "2023-01-24T21:01:36.799Z"
   },
   {
    "duration": 0,
    "start_time": "2023-01-24T21:01:36.800Z"
   },
   {
    "duration": 0,
    "start_time": "2023-01-24T21:01:36.801Z"
   },
   {
    "duration": 0,
    "start_time": "2023-01-24T21:01:36.802Z"
   },
   {
    "duration": 0,
    "start_time": "2023-01-24T21:01:36.803Z"
   },
   {
    "duration": 0,
    "start_time": "2023-01-24T21:01:36.804Z"
   },
   {
    "duration": 0,
    "start_time": "2023-01-24T21:01:36.805Z"
   },
   {
    "duration": 0,
    "start_time": "2023-01-24T21:01:36.806Z"
   },
   {
    "duration": 0,
    "start_time": "2023-01-24T21:01:36.807Z"
   },
   {
    "duration": 0,
    "start_time": "2023-01-24T21:01:36.808Z"
   },
   {
    "duration": 0,
    "start_time": "2023-01-24T21:01:36.809Z"
   },
   {
    "duration": 0,
    "start_time": "2023-01-24T21:01:36.810Z"
   },
   {
    "duration": 0,
    "start_time": "2023-01-24T21:01:36.811Z"
   },
   {
    "duration": 0,
    "start_time": "2023-01-24T21:01:36.812Z"
   },
   {
    "duration": 69,
    "start_time": "2023-01-24T21:01:36.815Z"
   },
   {
    "duration": 0,
    "start_time": "2023-01-24T21:01:36.887Z"
   },
   {
    "duration": 0,
    "start_time": "2023-01-24T21:01:36.888Z"
   },
   {
    "duration": 0,
    "start_time": "2023-01-24T21:01:36.889Z"
   },
   {
    "duration": 0,
    "start_time": "2023-01-24T21:01:36.891Z"
   },
   {
    "duration": 0,
    "start_time": "2023-01-24T21:01:36.892Z"
   },
   {
    "duration": 7,
    "start_time": "2023-01-24T21:01:36.896Z"
   },
   {
    "duration": 0,
    "start_time": "2023-01-24T21:01:36.905Z"
   },
   {
    "duration": 0,
    "start_time": "2023-01-24T21:01:36.906Z"
   },
   {
    "duration": 0,
    "start_time": "2023-01-24T21:01:36.907Z"
   },
   {
    "duration": 0,
    "start_time": "2023-01-24T21:01:36.908Z"
   },
   {
    "duration": 0,
    "start_time": "2023-01-24T21:01:36.909Z"
   },
   {
    "duration": 0,
    "start_time": "2023-01-24T21:01:36.911Z"
   },
   {
    "duration": 0,
    "start_time": "2023-01-24T21:01:36.912Z"
   },
   {
    "duration": 0,
    "start_time": "2023-01-24T21:01:36.913Z"
   },
   {
    "duration": 0,
    "start_time": "2023-01-24T21:01:36.914Z"
   },
   {
    "duration": 0,
    "start_time": "2023-01-24T21:01:36.915Z"
   },
   {
    "duration": 0,
    "start_time": "2023-01-24T21:01:36.917Z"
   },
   {
    "duration": 0,
    "start_time": "2023-01-24T21:01:36.918Z"
   },
   {
    "duration": 0,
    "start_time": "2023-01-24T21:01:36.919Z"
   },
   {
    "duration": 0,
    "start_time": "2023-01-24T21:01:36.920Z"
   },
   {
    "duration": 0,
    "start_time": "2023-01-24T21:01:36.921Z"
   },
   {
    "duration": 9,
    "start_time": "2023-01-24T21:01:36.987Z"
   },
   {
    "duration": 0,
    "start_time": "2023-01-24T21:01:36.998Z"
   },
   {
    "duration": 0,
    "start_time": "2023-01-24T21:01:37.000Z"
   },
   {
    "duration": 0,
    "start_time": "2023-01-24T21:01:37.001Z"
   },
   {
    "duration": 0,
    "start_time": "2023-01-24T21:01:37.002Z"
   },
   {
    "duration": 0,
    "start_time": "2023-01-24T21:01:37.003Z"
   },
   {
    "duration": 0,
    "start_time": "2023-01-24T21:01:37.005Z"
   },
   {
    "duration": 0,
    "start_time": "2023-01-24T21:01:37.006Z"
   },
   {
    "duration": 0,
    "start_time": "2023-01-24T21:01:37.007Z"
   },
   {
    "duration": 6,
    "start_time": "2023-01-24T21:03:20.185Z"
   },
   {
    "duration": 1303,
    "start_time": "2023-01-24T21:03:25.443Z"
   },
   {
    "duration": 197,
    "start_time": "2023-01-24T21:03:26.748Z"
   },
   {
    "duration": 18,
    "start_time": "2023-01-24T21:03:26.947Z"
   },
   {
    "duration": 14,
    "start_time": "2023-01-24T21:03:26.968Z"
   },
   {
    "duration": 3,
    "start_time": "2023-01-24T21:03:27.872Z"
   },
   {
    "duration": 5,
    "start_time": "2023-01-24T21:03:28.409Z"
   },
   {
    "duration": 10,
    "start_time": "2023-01-24T21:03:29.128Z"
   },
   {
    "duration": 54,
    "start_time": "2023-01-24T21:03:29.481Z"
   },
   {
    "duration": 9,
    "start_time": "2023-01-24T21:03:30.124Z"
   },
   {
    "duration": 4,
    "start_time": "2023-01-24T21:03:31.446Z"
   },
   {
    "duration": 5,
    "start_time": "2023-01-24T21:03:32.409Z"
   },
   {
    "duration": 4,
    "start_time": "2023-01-24T21:03:32.985Z"
   },
   {
    "duration": 9,
    "start_time": "2023-01-24T21:03:33.733Z"
   },
   {
    "duration": 5,
    "start_time": "2023-01-24T21:03:34.124Z"
   },
   {
    "duration": 29,
    "start_time": "2023-01-24T21:03:34.658Z"
   },
   {
    "duration": 115,
    "start_time": "2023-01-24T21:03:34.847Z"
   },
   {
    "duration": 25,
    "start_time": "2023-01-24T21:03:35.816Z"
   },
   {
    "duration": 108,
    "start_time": "2023-01-24T21:03:36.789Z"
   },
   {
    "duration": 8,
    "start_time": "2023-01-24T21:03:37.395Z"
   },
   {
    "duration": 9,
    "start_time": "2023-01-24T21:03:37.780Z"
   },
   {
    "duration": 22,
    "start_time": "2023-01-24T21:03:38.941Z"
   },
   {
    "duration": 97,
    "start_time": "2023-01-24T21:03:39.131Z"
   },
   {
    "duration": 21,
    "start_time": "2023-01-24T21:03:39.547Z"
   },
   {
    "duration": 96,
    "start_time": "2023-01-24T21:03:39.749Z"
   },
   {
    "duration": 8,
    "start_time": "2023-01-24T21:03:39.954Z"
   },
   {
    "duration": 8,
    "start_time": "2023-01-24T21:03:40.182Z"
   },
   {
    "duration": 22,
    "start_time": "2023-01-24T21:03:41.396Z"
   },
   {
    "duration": 95,
    "start_time": "2023-01-24T21:03:41.597Z"
   },
   {
    "duration": 19,
    "start_time": "2023-01-24T21:03:42.006Z"
   },
   {
    "duration": 114,
    "start_time": "2023-01-24T21:03:42.812Z"
   },
   {
    "duration": 8,
    "start_time": "2023-01-24T21:03:43.009Z"
   },
   {
    "duration": 11,
    "start_time": "2023-01-24T21:03:43.212Z"
   },
   {
    "duration": 21,
    "start_time": "2023-01-24T21:03:44.341Z"
   },
   {
    "duration": 181,
    "start_time": "2023-01-24T21:03:44.525Z"
   },
   {
    "duration": 18,
    "start_time": "2023-01-24T21:03:44.716Z"
   },
   {
    "duration": 112,
    "start_time": "2023-01-24T21:03:45.430Z"
   },
   {
    "duration": 9,
    "start_time": "2023-01-24T21:03:45.612Z"
   },
   {
    "duration": 9,
    "start_time": "2023-01-24T21:03:45.810Z"
   },
   {
    "duration": 26,
    "start_time": "2023-01-24T21:03:47.085Z"
   },
   {
    "duration": 5,
    "start_time": "2023-01-24T21:03:47.928Z"
   },
   {
    "duration": 5,
    "start_time": "2023-01-24T21:03:48.781Z"
   },
   {
    "duration": 14,
    "start_time": "2023-01-24T21:03:49.643Z"
   },
   {
    "duration": 13,
    "start_time": "2023-01-24T21:03:49.823Z"
   },
   {
    "duration": 6,
    "start_time": "2023-01-24T21:03:50.735Z"
   },
   {
    "duration": 279,
    "start_time": "2023-01-24T21:03:50.897Z"
   },
   {
    "duration": 12,
    "start_time": "2023-01-24T21:03:53.244Z"
   },
   {
    "duration": 7,
    "start_time": "2023-01-24T21:03:53.877Z"
   },
   {
    "duration": 3,
    "start_time": "2023-01-24T21:03:54.088Z"
   },
   {
    "duration": 19,
    "start_time": "2023-01-24T21:03:54.466Z"
   },
   {
    "duration": 11,
    "start_time": "2023-01-24T21:03:54.698Z"
   },
   {
    "duration": 2021,
    "start_time": "2023-01-24T21:03:55.114Z"
   },
   {
    "duration": 7,
    "start_time": "2023-01-24T21:03:57.964Z"
   },
   {
    "duration": 15,
    "start_time": "2023-01-24T21:03:58.176Z"
   },
   {
    "duration": 10,
    "start_time": "2023-01-24T21:03:58.806Z"
   },
   {
    "duration": 8,
    "start_time": "2023-01-24T21:03:59.005Z"
   },
   {
    "duration": 6,
    "start_time": "2023-01-24T21:03:59.402Z"
   },
   {
    "duration": 104,
    "start_time": "2023-01-24T21:04:00.037Z"
   },
   {
    "duration": 5,
    "start_time": "2023-01-24T21:04:00.644Z"
   },
   {
    "duration": 5,
    "start_time": "2023-01-24T21:04:02.143Z"
   },
   {
    "duration": 6,
    "start_time": "2023-01-24T21:04:02.370Z"
   },
   {
    "duration": 5,
    "start_time": "2023-01-24T21:04:02.541Z"
   },
   {
    "duration": 135,
    "start_time": "2023-01-24T21:04:03.637Z"
   },
   {
    "duration": 144,
    "start_time": "2023-01-24T21:04:04.047Z"
   },
   {
    "duration": 29,
    "start_time": "2023-01-24T21:04:04.655Z"
   },
   {
    "duration": 6,
    "start_time": "2023-01-24T21:04:05.786Z"
   },
   {
    "duration": 12,
    "start_time": "2023-01-24T21:04:06.172Z"
   },
   {
    "duration": 9,
    "start_time": "2023-01-24T21:04:06.366Z"
   },
   {
    "duration": 198,
    "start_time": "2023-01-24T21:04:06.774Z"
   },
   {
    "duration": 11,
    "start_time": "2023-01-24T21:04:08.226Z"
   },
   {
    "duration": 8,
    "start_time": "2023-01-24T21:04:08.395Z"
   },
   {
    "duration": 318,
    "start_time": "2023-01-24T21:04:08.731Z"
   },
   {
    "duration": 13,
    "start_time": "2023-01-24T21:04:09.051Z"
   },
   {
    "duration": 9,
    "start_time": "2023-01-24T21:04:09.192Z"
   },
   {
    "duration": 287,
    "start_time": "2023-01-24T21:04:09.594Z"
   },
   {
    "duration": 12,
    "start_time": "2023-01-24T21:04:10.022Z"
   },
   {
    "duration": 10,
    "start_time": "2023-01-24T21:04:10.174Z"
   },
   {
    "duration": 299,
    "start_time": "2023-01-24T21:04:10.672Z"
   },
   {
    "duration": 242,
    "start_time": "2023-01-24T21:04:11.933Z"
   },
   {
    "duration": 135,
    "start_time": "2023-01-24T21:04:12.182Z"
   },
   {
    "duration": 133,
    "start_time": "2023-01-24T21:04:12.319Z"
   },
   {
    "duration": 5,
    "start_time": "2023-01-24T21:04:16.739Z"
   },
   {
    "duration": 637,
    "start_time": "2023-01-24T21:04:22.424Z"
   },
   {
    "duration": 550,
    "start_time": "2023-01-24T21:04:33.824Z"
   },
   {
    "duration": 15,
    "start_time": "2023-01-24T21:04:37.399Z"
   },
   {
    "duration": 4,
    "start_time": "2023-01-24T21:08:29.964Z"
   },
   {
    "duration": 4,
    "start_time": "2023-01-24T21:08:39.870Z"
   },
   {
    "duration": 7,
    "start_time": "2023-01-24T21:08:39.876Z"
   },
   {
    "duration": 52,
    "start_time": "2023-01-24T21:08:39.885Z"
   },
   {
    "duration": 13,
    "start_time": "2023-01-24T21:08:42.233Z"
   },
   {
    "duration": 6,
    "start_time": "2023-01-24T21:08:51.232Z"
   },
   {
    "duration": 18,
    "start_time": "2023-01-24T21:08:51.241Z"
   },
   {
    "duration": 270,
    "start_time": "2023-01-24T21:08:51.261Z"
   },
   {
    "duration": 13,
    "start_time": "2023-01-24T21:08:51.534Z"
   },
   {
    "duration": 23,
    "start_time": "2023-01-24T21:08:51.549Z"
   },
   {
    "duration": 4,
    "start_time": "2023-01-24T21:09:01.329Z"
   },
   {
    "duration": 33,
    "start_time": "2023-01-24T21:09:01.337Z"
   },
   {
    "duration": 73,
    "start_time": "2023-01-24T21:09:01.372Z"
   },
   {
    "duration": 13,
    "start_time": "2023-01-24T21:09:01.447Z"
   },
   {
    "duration": 22,
    "start_time": "2023-01-24T21:09:01.462Z"
   },
   {
    "duration": 5,
    "start_time": "2023-01-24T21:09:01.486Z"
   },
   {
    "duration": 26,
    "start_time": "2023-01-24T21:09:01.493Z"
   },
   {
    "duration": 28,
    "start_time": "2023-01-24T21:09:01.520Z"
   },
   {
    "duration": 54,
    "start_time": "2023-01-24T21:09:01.551Z"
   },
   {
    "duration": 13,
    "start_time": "2023-01-24T21:09:01.607Z"
   },
   {
    "duration": 36,
    "start_time": "2023-01-24T21:09:01.623Z"
   },
   {
    "duration": 25,
    "start_time": "2023-01-24T21:09:01.661Z"
   },
   {
    "duration": 39,
    "start_time": "2023-01-24T21:09:01.688Z"
   },
   {
    "duration": 12,
    "start_time": "2023-01-24T21:09:01.729Z"
   },
   {
    "duration": 15,
    "start_time": "2023-01-24T21:09:01.743Z"
   },
   {
    "duration": 40,
    "start_time": "2023-01-24T21:09:01.760Z"
   },
   {
    "duration": 106,
    "start_time": "2023-01-24T21:09:01.803Z"
   },
   {
    "duration": 17,
    "start_time": "2023-01-24T21:09:01.911Z"
   },
   {
    "duration": 110,
    "start_time": "2023-01-24T21:09:01.930Z"
   },
   {
    "duration": 8,
    "start_time": "2023-01-24T21:09:02.041Z"
   },
   {
    "duration": 25,
    "start_time": "2023-01-24T21:09:02.050Z"
   },
   {
    "duration": 46,
    "start_time": "2023-01-24T21:09:02.076Z"
   },
   {
    "duration": 108,
    "start_time": "2023-01-24T21:09:02.123Z"
   },
   {
    "duration": 18,
    "start_time": "2023-01-24T21:09:02.232Z"
   },
   {
    "duration": 118,
    "start_time": "2023-01-24T21:09:02.252Z"
   },
   {
    "duration": 18,
    "start_time": "2023-01-24T21:09:02.372Z"
   },
   {
    "duration": 18,
    "start_time": "2023-01-24T21:09:02.393Z"
   },
   {
    "duration": 22,
    "start_time": "2023-01-24T21:09:02.413Z"
   },
   {
    "duration": 108,
    "start_time": "2023-01-24T21:09:02.438Z"
   },
   {
    "duration": 18,
    "start_time": "2023-01-24T21:09:02.548Z"
   },
   {
    "duration": 140,
    "start_time": "2023-01-24T21:09:02.568Z"
   },
   {
    "duration": 8,
    "start_time": "2023-01-24T21:09:02.710Z"
   },
   {
    "duration": 11,
    "start_time": "2023-01-24T21:09:02.719Z"
   },
   {
    "duration": 24,
    "start_time": "2023-01-24T21:09:02.731Z"
   },
   {
    "duration": 130,
    "start_time": "2023-01-24T21:09:02.757Z"
   },
   {
    "duration": 21,
    "start_time": "2023-01-24T21:09:02.889Z"
   },
   {
    "duration": 121,
    "start_time": "2023-01-24T21:09:02.911Z"
   },
   {
    "duration": 8,
    "start_time": "2023-01-24T21:09:03.034Z"
   },
   {
    "duration": 12,
    "start_time": "2023-01-24T21:09:03.043Z"
   },
   {
    "duration": 49,
    "start_time": "2023-01-24T21:09:03.057Z"
   },
   {
    "duration": 4,
    "start_time": "2023-01-24T21:09:03.108Z"
   },
   {
    "duration": 6,
    "start_time": "2023-01-24T21:09:03.114Z"
   },
   {
    "duration": 18,
    "start_time": "2023-01-24T21:09:03.121Z"
   },
   {
    "duration": 20,
    "start_time": "2023-01-24T21:09:03.140Z"
   },
   {
    "duration": 34,
    "start_time": "2023-01-24T21:09:03.162Z"
   },
   {
    "duration": 408,
    "start_time": "2023-01-24T21:09:03.198Z"
   },
   {
    "duration": 10,
    "start_time": "2023-01-24T21:09:03.608Z"
   },
   {
    "duration": 6,
    "start_time": "2023-01-24T21:09:03.620Z"
   },
   {
    "duration": 5,
    "start_time": "2023-01-24T21:09:03.627Z"
   },
   {
    "duration": 19,
    "start_time": "2023-01-24T21:09:03.633Z"
   },
   {
    "duration": 37,
    "start_time": "2023-01-24T21:09:03.654Z"
   },
   {
    "duration": 1951,
    "start_time": "2023-01-24T21:09:03.696Z"
   },
   {
    "duration": 6,
    "start_time": "2023-01-24T21:09:05.649Z"
   },
   {
    "duration": 26,
    "start_time": "2023-01-24T21:09:05.656Z"
   },
   {
    "duration": 26,
    "start_time": "2023-01-24T21:09:05.684Z"
   },
   {
    "duration": 13,
    "start_time": "2023-01-24T21:09:05.711Z"
   },
   {
    "duration": 8,
    "start_time": "2023-01-24T21:09:05.725Z"
   },
   {
    "duration": 196,
    "start_time": "2023-01-24T21:09:05.735Z"
   },
   {
    "duration": 4,
    "start_time": "2023-01-24T21:09:05.932Z"
   },
   {
    "duration": 12,
    "start_time": "2023-01-24T21:09:05.938Z"
   },
   {
    "duration": 6,
    "start_time": "2023-01-24T21:09:05.952Z"
   },
   {
    "duration": 9,
    "start_time": "2023-01-24T21:09:05.960Z"
   },
   {
    "duration": 148,
    "start_time": "2023-01-24T21:09:05.971Z"
   },
   {
    "duration": 152,
    "start_time": "2023-01-24T21:09:06.120Z"
   },
   {
    "duration": 37,
    "start_time": "2023-01-24T21:09:06.273Z"
   },
   {
    "duration": 6,
    "start_time": "2023-01-24T21:09:06.321Z"
   },
   {
    "duration": 31,
    "start_time": "2023-01-24T21:09:06.329Z"
   },
   {
    "duration": 11,
    "start_time": "2023-01-24T21:09:06.362Z"
   },
   {
    "duration": 231,
    "start_time": "2023-01-24T21:09:06.375Z"
   },
   {
    "duration": 14,
    "start_time": "2023-01-24T21:09:06.609Z"
   },
   {
    "duration": 38,
    "start_time": "2023-01-24T21:09:06.625Z"
   },
   {
    "duration": 335,
    "start_time": "2023-01-24T21:09:06.665Z"
   },
   {
    "duration": 13,
    "start_time": "2023-01-24T21:09:07.002Z"
   },
   {
    "duration": 12,
    "start_time": "2023-01-24T21:09:07.016Z"
   },
   {
    "duration": 324,
    "start_time": "2023-01-24T21:09:07.030Z"
   },
   {
    "duration": 12,
    "start_time": "2023-01-24T21:09:07.356Z"
   },
   {
    "duration": 25,
    "start_time": "2023-01-24T21:09:07.370Z"
   },
   {
    "duration": 359,
    "start_time": "2023-01-24T21:09:07.399Z"
   },
   {
    "duration": 152,
    "start_time": "2023-01-24T21:09:07.760Z"
   },
   {
    "duration": 145,
    "start_time": "2023-01-24T21:09:07.914Z"
   },
   {
    "duration": 151,
    "start_time": "2023-01-24T21:09:08.062Z"
   },
   {
    "duration": 3,
    "start_time": "2023-01-24T21:09:14.448Z"
   },
   {
    "duration": 603,
    "start_time": "2023-01-24T21:09:15.833Z"
   },
   {
    "duration": 10,
    "start_time": "2023-01-24T21:09:28.559Z"
   },
   {
    "duration": 5,
    "start_time": "2023-01-24T21:09:34.178Z"
   },
   {
    "duration": 25,
    "start_time": "2023-01-24T21:09:34.186Z"
   },
   {
    "duration": 54,
    "start_time": "2023-01-24T21:09:34.212Z"
   },
   {
    "duration": 13,
    "start_time": "2023-01-24T21:09:34.268Z"
   },
   {
    "duration": 38,
    "start_time": "2023-01-24T21:09:34.282Z"
   },
   {
    "duration": 4,
    "start_time": "2023-01-24T21:09:34.323Z"
   },
   {
    "duration": 8,
    "start_time": "2023-01-24T21:09:34.329Z"
   },
   {
    "duration": 14,
    "start_time": "2023-01-24T21:09:34.338Z"
   },
   {
    "duration": 16,
    "start_time": "2023-01-24T21:09:34.354Z"
   },
   {
    "duration": 11,
    "start_time": "2023-01-24T21:09:34.382Z"
   },
   {
    "duration": 22,
    "start_time": "2023-01-24T21:09:34.395Z"
   },
   {
    "duration": 11,
    "start_time": "2023-01-24T21:09:34.419Z"
   },
   {
    "duration": 10,
    "start_time": "2023-01-24T21:09:34.432Z"
   },
   {
    "duration": 9,
    "start_time": "2023-01-24T21:09:34.443Z"
   },
   {
    "duration": 6,
    "start_time": "2023-01-24T21:09:34.454Z"
   },
   {
    "duration": 162,
    "start_time": "2023-01-24T21:09:34.462Z"
   },
   {
    "duration": 118,
    "start_time": "2023-01-24T21:09:34.625Z"
   },
   {
    "duration": 22,
    "start_time": "2023-01-24T21:09:34.745Z"
   },
   {
    "duration": 103,
    "start_time": "2023-01-24T21:09:34.781Z"
   },
   {
    "duration": 10,
    "start_time": "2023-01-24T21:09:34.887Z"
   },
   {
    "duration": 12,
    "start_time": "2023-01-24T21:09:34.900Z"
   },
   {
    "duration": 21,
    "start_time": "2023-01-24T21:09:34.914Z"
   },
   {
    "duration": 136,
    "start_time": "2023-01-24T21:09:34.936Z"
   },
   {
    "duration": 32,
    "start_time": "2023-01-24T21:09:35.076Z"
   },
   {
    "duration": 133,
    "start_time": "2023-01-24T21:09:35.110Z"
   },
   {
    "duration": 10,
    "start_time": "2023-01-24T21:09:35.245Z"
   },
   {
    "duration": 45,
    "start_time": "2023-01-24T21:09:35.256Z"
   },
   {
    "duration": 23,
    "start_time": "2023-01-24T21:09:35.302Z"
   },
   {
    "duration": 104,
    "start_time": "2023-01-24T21:09:35.327Z"
   },
   {
    "duration": 19,
    "start_time": "2023-01-24T21:09:35.434Z"
   },
   {
    "duration": 133,
    "start_time": "2023-01-24T21:09:35.455Z"
   },
   {
    "duration": 10,
    "start_time": "2023-01-24T21:09:35.590Z"
   },
   {
    "duration": 12,
    "start_time": "2023-01-24T21:09:35.601Z"
   },
   {
    "duration": 22,
    "start_time": "2023-01-24T21:09:35.614Z"
   },
   {
    "duration": 129,
    "start_time": "2023-01-24T21:09:35.638Z"
   },
   {
    "duration": 23,
    "start_time": "2023-01-24T21:09:35.768Z"
   },
   {
    "duration": 118,
    "start_time": "2023-01-24T21:09:35.793Z"
   },
   {
    "duration": 8,
    "start_time": "2023-01-24T21:09:35.913Z"
   },
   {
    "duration": 16,
    "start_time": "2023-01-24T21:09:35.923Z"
   },
   {
    "duration": 25,
    "start_time": "2023-01-24T21:09:35.941Z"
   },
   {
    "duration": 30,
    "start_time": "2023-01-24T21:09:35.968Z"
   },
   {
    "duration": 23,
    "start_time": "2023-01-24T21:09:36.000Z"
   },
   {
    "duration": 49,
    "start_time": "2023-01-24T21:09:36.025Z"
   },
   {
    "duration": 33,
    "start_time": "2023-01-24T21:09:36.076Z"
   },
   {
    "duration": 19,
    "start_time": "2023-01-24T21:09:36.111Z"
   },
   {
    "duration": 360,
    "start_time": "2023-01-24T21:09:36.131Z"
   },
   {
    "duration": 14,
    "start_time": "2023-01-24T21:09:36.493Z"
   },
   {
    "duration": 15,
    "start_time": "2023-01-24T21:09:36.509Z"
   },
   {
    "duration": 10,
    "start_time": "2023-01-24T21:09:36.525Z"
   },
   {
    "duration": 26,
    "start_time": "2023-01-24T21:09:36.536Z"
   },
   {
    "duration": 27,
    "start_time": "2023-01-24T21:09:36.564Z"
   },
   {
    "duration": 1923,
    "start_time": "2023-01-24T21:09:36.593Z"
   },
   {
    "duration": 7,
    "start_time": "2023-01-24T21:09:38.518Z"
   },
   {
    "duration": 20,
    "start_time": "2023-01-24T21:09:38.526Z"
   },
   {
    "duration": 9,
    "start_time": "2023-01-24T21:09:38.550Z"
   },
   {
    "duration": 32,
    "start_time": "2023-01-24T21:09:38.561Z"
   },
   {
    "duration": 9,
    "start_time": "2023-01-24T21:09:38.595Z"
   },
   {
    "duration": 109,
    "start_time": "2023-01-24T21:09:38.605Z"
   },
   {
    "duration": 4,
    "start_time": "2023-01-24T21:09:38.715Z"
   },
   {
    "duration": 12,
    "start_time": "2023-01-24T21:09:38.721Z"
   },
   {
    "duration": 8,
    "start_time": "2023-01-24T21:09:38.735Z"
   },
   {
    "duration": 8,
    "start_time": "2023-01-24T21:09:38.745Z"
   },
   {
    "duration": 129,
    "start_time": "2023-01-24T21:09:38.754Z"
   },
   {
    "duration": 128,
    "start_time": "2023-01-24T21:09:38.885Z"
   },
   {
    "duration": 111,
    "start_time": "2023-01-24T21:09:39.015Z"
   },
   {
    "duration": 5,
    "start_time": "2023-01-24T21:09:39.128Z"
   },
   {
    "duration": 10,
    "start_time": "2023-01-24T21:09:39.135Z"
   },
   {
    "duration": 6,
    "start_time": "2023-01-24T21:09:39.147Z"
   },
   {
    "duration": 183,
    "start_time": "2023-01-24T21:09:39.158Z"
   },
   {
    "duration": 11,
    "start_time": "2023-01-24T21:09:39.343Z"
   },
   {
    "duration": 14,
    "start_time": "2023-01-24T21:09:39.356Z"
   },
   {
    "duration": 299,
    "start_time": "2023-01-24T21:09:39.372Z"
   },
   {
    "duration": 15,
    "start_time": "2023-01-24T21:09:39.673Z"
   },
   {
    "duration": 11,
    "start_time": "2023-01-24T21:09:39.690Z"
   },
   {
    "duration": 300,
    "start_time": "2023-01-24T21:09:39.703Z"
   },
   {
    "duration": 13,
    "start_time": "2023-01-24T21:09:40.004Z"
   },
   {
    "duration": 22,
    "start_time": "2023-01-24T21:09:40.018Z"
   },
   {
    "duration": 295,
    "start_time": "2023-01-24T21:09:40.042Z"
   },
   {
    "duration": 130,
    "start_time": "2023-01-24T21:09:40.339Z"
   },
   {
    "duration": 131,
    "start_time": "2023-01-24T21:09:40.470Z"
   },
   {
    "duration": 147,
    "start_time": "2023-01-24T21:09:40.602Z"
   },
   {
    "duration": 21,
    "start_time": "2023-01-24T21:09:53.214Z"
   },
   {
    "duration": 10,
    "start_time": "2023-01-24T21:17:55.286Z"
   },
   {
    "duration": 4,
    "start_time": "2023-01-24T21:18:07.254Z"
   },
   {
    "duration": 3,
    "start_time": "2023-01-24T21:18:07.341Z"
   },
   {
    "duration": 73,
    "start_time": "2023-01-24T21:18:07.346Z"
   },
   {
    "duration": 13,
    "start_time": "2023-01-24T21:18:07.420Z"
   },
   {
    "duration": 15,
    "start_time": "2023-01-24T21:18:07.434Z"
   },
   {
    "duration": 3,
    "start_time": "2023-01-24T21:18:07.451Z"
   },
   {
    "duration": 17,
    "start_time": "2023-01-24T21:18:07.455Z"
   },
   {
    "duration": 14,
    "start_time": "2023-01-24T21:18:07.473Z"
   },
   {
    "duration": 17,
    "start_time": "2023-01-24T21:18:07.488Z"
   },
   {
    "duration": 8,
    "start_time": "2023-01-24T21:18:07.507Z"
   },
   {
    "duration": 4,
    "start_time": "2023-01-24T21:18:07.516Z"
   },
   {
    "duration": 9,
    "start_time": "2023-01-24T21:18:07.521Z"
   },
   {
    "duration": 13,
    "start_time": "2023-01-24T21:18:07.532Z"
   },
   {
    "duration": 11,
    "start_time": "2023-01-24T21:18:07.547Z"
   },
   {
    "duration": 6,
    "start_time": "2023-01-24T21:18:07.584Z"
   },
   {
    "duration": 25,
    "start_time": "2023-01-24T21:18:07.591Z"
   },
   {
    "duration": 122,
    "start_time": "2023-01-24T21:18:07.617Z"
   },
   {
    "duration": 17,
    "start_time": "2023-01-24T21:18:07.741Z"
   },
   {
    "duration": 109,
    "start_time": "2023-01-24T21:18:07.760Z"
   },
   {
    "duration": 17,
    "start_time": "2023-01-24T21:18:07.870Z"
   },
   {
    "duration": 13,
    "start_time": "2023-01-24T21:18:07.889Z"
   },
   {
    "duration": 21,
    "start_time": "2023-01-24T21:18:07.903Z"
   },
   {
    "duration": 125,
    "start_time": "2023-01-24T21:18:07.925Z"
   },
   {
    "duration": 18,
    "start_time": "2023-01-24T21:18:08.052Z"
   },
   {
    "duration": 222,
    "start_time": "2023-01-24T21:18:08.081Z"
   },
   {
    "duration": 9,
    "start_time": "2023-01-24T21:18:08.305Z"
   },
   {
    "duration": 28,
    "start_time": "2023-01-24T21:18:08.315Z"
   },
   {
    "duration": 28,
    "start_time": "2023-01-24T21:18:08.344Z"
   },
   {
    "duration": 100,
    "start_time": "2023-01-24T21:18:08.374Z"
   },
   {
    "duration": 22,
    "start_time": "2023-01-24T21:18:08.482Z"
   },
   {
    "duration": 128,
    "start_time": "2023-01-24T21:18:08.505Z"
   },
   {
    "duration": 8,
    "start_time": "2023-01-24T21:18:08.635Z"
   },
   {
    "duration": 9,
    "start_time": "2023-01-24T21:18:08.644Z"
   },
   {
    "duration": 36,
    "start_time": "2023-01-24T21:18:08.655Z"
   },
   {
    "duration": 100,
    "start_time": "2023-01-24T21:18:08.693Z"
   },
   {
    "duration": 16,
    "start_time": "2023-01-24T21:18:08.795Z"
   },
   {
    "duration": 118,
    "start_time": "2023-01-24T21:18:08.813Z"
   },
   {
    "duration": 8,
    "start_time": "2023-01-24T21:18:08.932Z"
   },
   {
    "duration": 26,
    "start_time": "2023-01-24T21:18:08.942Z"
   },
   {
    "duration": 33,
    "start_time": "2023-01-24T21:18:08.970Z"
   },
   {
    "duration": 5,
    "start_time": "2023-01-24T21:18:09.005Z"
   },
   {
    "duration": 7,
    "start_time": "2023-01-24T21:18:09.014Z"
   },
   {
    "duration": 15,
    "start_time": "2023-01-24T21:18:09.022Z"
   },
   {
    "duration": 12,
    "start_time": "2023-01-24T21:18:09.039Z"
   },
   {
    "duration": 29,
    "start_time": "2023-01-24T21:18:09.053Z"
   },
   {
    "duration": 279,
    "start_time": "2023-01-24T21:18:09.084Z"
   },
   {
    "duration": 21,
    "start_time": "2023-01-24T21:18:09.365Z"
   },
   {
    "duration": 9,
    "start_time": "2023-01-24T21:18:09.387Z"
   },
   {
    "duration": 22,
    "start_time": "2023-01-24T21:18:09.398Z"
   },
   {
    "duration": 18,
    "start_time": "2023-01-24T21:18:09.421Z"
   },
   {
    "duration": 10,
    "start_time": "2023-01-24T21:18:09.440Z"
   },
   {
    "duration": 1809,
    "start_time": "2023-01-24T21:18:09.451Z"
   },
   {
    "duration": 6,
    "start_time": "2023-01-24T21:18:11.262Z"
   },
   {
    "duration": 21,
    "start_time": "2023-01-24T21:18:11.270Z"
   },
   {
    "duration": 10,
    "start_time": "2023-01-24T21:18:11.293Z"
   },
   {
    "duration": 8,
    "start_time": "2023-01-24T21:18:11.305Z"
   },
   {
    "duration": 5,
    "start_time": "2023-01-24T21:18:11.315Z"
   },
   {
    "duration": 103,
    "start_time": "2023-01-24T21:18:11.322Z"
   },
   {
    "duration": 4,
    "start_time": "2023-01-24T21:18:11.427Z"
   },
   {
    "duration": 8,
    "start_time": "2023-01-24T21:18:11.433Z"
   },
   {
    "duration": 7,
    "start_time": "2023-01-24T21:18:11.443Z"
   },
   {
    "duration": 6,
    "start_time": "2023-01-24T21:18:11.451Z"
   },
   {
    "duration": 169,
    "start_time": "2023-01-24T21:18:11.459Z"
   },
   {
    "duration": 136,
    "start_time": "2023-01-24T21:18:11.630Z"
   },
   {
    "duration": 33,
    "start_time": "2023-01-24T21:18:11.767Z"
   },
   {
    "duration": 5,
    "start_time": "2023-01-24T21:18:11.801Z"
   },
   {
    "duration": 11,
    "start_time": "2023-01-24T21:18:11.807Z"
   },
   {
    "duration": 7,
    "start_time": "2023-01-24T21:18:11.820Z"
   },
   {
    "duration": 192,
    "start_time": "2023-01-24T21:18:11.828Z"
   },
   {
    "duration": 11,
    "start_time": "2023-01-24T21:18:12.022Z"
   },
   {
    "duration": 11,
    "start_time": "2023-01-24T21:18:12.035Z"
   },
   {
    "duration": 307,
    "start_time": "2023-01-24T21:18:12.048Z"
   },
   {
    "duration": 12,
    "start_time": "2023-01-24T21:18:12.356Z"
   },
   {
    "duration": 18,
    "start_time": "2023-01-24T21:18:12.369Z"
   },
   {
    "duration": 406,
    "start_time": "2023-01-24T21:18:12.389Z"
   },
   {
    "duration": 11,
    "start_time": "2023-01-24T21:18:12.797Z"
   },
   {
    "duration": 8,
    "start_time": "2023-01-24T21:18:12.809Z"
   },
   {
    "duration": 309,
    "start_time": "2023-01-24T21:18:12.819Z"
   },
   {
    "duration": 136,
    "start_time": "2023-01-24T21:18:13.129Z"
   },
   {
    "duration": 163,
    "start_time": "2023-01-24T21:18:13.267Z"
   },
   {
    "duration": 132,
    "start_time": "2023-01-24T21:18:13.432Z"
   },
   {
    "duration": 11,
    "start_time": "2023-01-24T21:18:58.809Z"
   },
   {
    "duration": 5,
    "start_time": "2023-01-24T21:19:04.429Z"
   },
   {
    "duration": 20,
    "start_time": "2023-01-24T21:19:18.926Z"
   },
   {
    "duration": 4,
    "start_time": "2023-01-24T21:24:02.816Z"
   },
   {
    "duration": 12,
    "start_time": "2023-01-24T21:24:02.824Z"
   },
   {
    "duration": 64,
    "start_time": "2023-01-24T21:24:02.838Z"
   },
   {
    "duration": 14,
    "start_time": "2023-01-24T21:24:02.904Z"
   },
   {
    "duration": 15,
    "start_time": "2023-01-24T21:24:02.920Z"
   },
   {
    "duration": 3,
    "start_time": "2023-01-24T21:24:02.936Z"
   },
   {
    "duration": 7,
    "start_time": "2023-01-24T21:24:02.940Z"
   },
   {
    "duration": 13,
    "start_time": "2023-01-24T21:24:02.948Z"
   },
   {
    "duration": 16,
    "start_time": "2023-01-24T21:24:02.981Z"
   },
   {
    "duration": 7,
    "start_time": "2023-01-24T21:24:02.999Z"
   },
   {
    "duration": 5,
    "start_time": "2023-01-24T21:24:03.009Z"
   },
   {
    "duration": 7,
    "start_time": "2023-01-24T21:24:03.016Z"
   },
   {
    "duration": 6,
    "start_time": "2023-01-24T21:24:03.024Z"
   },
   {
    "duration": 9,
    "start_time": "2023-01-24T21:24:03.031Z"
   },
   {
    "duration": 7,
    "start_time": "2023-01-24T21:24:03.041Z"
   },
   {
    "duration": 23,
    "start_time": "2023-01-24T21:24:03.081Z"
   },
   {
    "duration": 131,
    "start_time": "2023-01-24T21:24:03.106Z"
   },
   {
    "duration": 18,
    "start_time": "2023-01-24T21:24:03.238Z"
   },
   {
    "duration": 113,
    "start_time": "2023-01-24T21:24:03.258Z"
   },
   {
    "duration": 13,
    "start_time": "2023-01-24T21:24:03.374Z"
   },
   {
    "duration": 9,
    "start_time": "2023-01-24T21:24:03.388Z"
   },
   {
    "duration": 18,
    "start_time": "2023-01-24T21:24:03.399Z"
   },
   {
    "duration": 129,
    "start_time": "2023-01-24T21:24:03.419Z"
   },
   {
    "duration": 21,
    "start_time": "2023-01-24T21:24:03.550Z"
   },
   {
    "duration": 106,
    "start_time": "2023-01-24T21:24:03.581Z"
   },
   {
    "duration": 8,
    "start_time": "2023-01-24T21:24:03.689Z"
   },
   {
    "duration": 22,
    "start_time": "2023-01-24T21:24:03.698Z"
   },
   {
    "duration": 19,
    "start_time": "2023-01-24T21:24:03.722Z"
   },
   {
    "duration": 111,
    "start_time": "2023-01-24T21:24:03.746Z"
   },
   {
    "duration": 24,
    "start_time": "2023-01-24T21:24:03.859Z"
   },
   {
    "duration": 198,
    "start_time": "2023-01-24T21:24:03.884Z"
   },
   {
    "duration": 8,
    "start_time": "2023-01-24T21:24:04.084Z"
   },
   {
    "duration": 11,
    "start_time": "2023-01-24T21:24:04.094Z"
   },
   {
    "duration": 24,
    "start_time": "2023-01-24T21:24:04.107Z"
   },
   {
    "duration": 122,
    "start_time": "2023-01-24T21:24:04.132Z"
   },
   {
    "duration": 26,
    "start_time": "2023-01-24T21:24:04.256Z"
   },
   {
    "duration": 108,
    "start_time": "2023-01-24T21:24:04.284Z"
   },
   {
    "duration": 8,
    "start_time": "2023-01-24T21:24:04.394Z"
   },
   {
    "duration": 8,
    "start_time": "2023-01-24T21:24:04.404Z"
   },
   {
    "duration": 18,
    "start_time": "2023-01-24T21:24:04.414Z"
   },
   {
    "duration": 5,
    "start_time": "2023-01-24T21:24:04.434Z"
   },
   {
    "duration": 8,
    "start_time": "2023-01-24T21:24:04.440Z"
   },
   {
    "duration": 44,
    "start_time": "2023-01-24T21:24:04.449Z"
   },
   {
    "duration": 14,
    "start_time": "2023-01-24T21:24:04.495Z"
   },
   {
    "duration": 5,
    "start_time": "2023-01-24T21:24:04.511Z"
   },
   {
    "duration": 292,
    "start_time": "2023-01-24T21:24:04.518Z"
   },
   {
    "duration": 11,
    "start_time": "2023-01-24T21:24:04.811Z"
   },
   {
    "duration": 30,
    "start_time": "2023-01-24T21:24:04.824Z"
   },
   {
    "duration": 23,
    "start_time": "2023-01-24T21:24:04.856Z"
   },
   {
    "duration": 43,
    "start_time": "2023-01-24T21:24:04.881Z"
   },
   {
    "duration": 12,
    "start_time": "2023-01-24T21:24:04.926Z"
   },
   {
    "duration": 1962,
    "start_time": "2023-01-24T21:24:04.939Z"
   },
   {
    "duration": 7,
    "start_time": "2023-01-24T21:24:06.903Z"
   },
   {
    "duration": 20,
    "start_time": "2023-01-24T21:24:06.911Z"
   },
   {
    "duration": 10,
    "start_time": "2023-01-24T21:24:06.933Z"
   },
   {
    "duration": 11,
    "start_time": "2023-01-24T21:24:06.944Z"
   },
   {
    "duration": 7,
    "start_time": "2023-01-24T21:24:06.956Z"
   },
   {
    "duration": 102,
    "start_time": "2023-01-24T21:24:06.964Z"
   },
   {
    "duration": 4,
    "start_time": "2023-01-24T21:24:07.067Z"
   },
   {
    "duration": 5,
    "start_time": "2023-01-24T21:24:07.081Z"
   },
   {
    "duration": 7,
    "start_time": "2023-01-24T21:24:07.088Z"
   },
   {
    "duration": 6,
    "start_time": "2023-01-24T21:24:07.097Z"
   },
   {
    "duration": 141,
    "start_time": "2023-01-24T21:24:07.104Z"
   },
   {
    "duration": 127,
    "start_time": "2023-01-24T21:24:07.247Z"
   },
   {
    "duration": 28,
    "start_time": "2023-01-24T21:24:07.381Z"
   },
   {
    "duration": 6,
    "start_time": "2023-01-24T21:24:07.411Z"
   },
   {
    "duration": 10,
    "start_time": "2023-01-24T21:24:07.418Z"
   },
   {
    "duration": 8,
    "start_time": "2023-01-24T21:24:07.430Z"
   },
   {
    "duration": 198,
    "start_time": "2023-01-24T21:24:07.440Z"
   },
   {
    "duration": 12,
    "start_time": "2023-01-24T21:24:07.640Z"
   },
   {
    "duration": 16,
    "start_time": "2023-01-24T21:24:07.654Z"
   },
   {
    "duration": 300,
    "start_time": "2023-01-24T21:24:07.681Z"
   },
   {
    "duration": 10,
    "start_time": "2023-01-24T21:24:07.983Z"
   },
   {
    "duration": 11,
    "start_time": "2023-01-24T21:24:07.995Z"
   },
   {
    "duration": 326,
    "start_time": "2023-01-24T21:24:08.008Z"
   },
   {
    "duration": 11,
    "start_time": "2023-01-24T21:24:08.335Z"
   },
   {
    "duration": 11,
    "start_time": "2023-01-24T21:24:08.348Z"
   },
   {
    "duration": 440,
    "start_time": "2023-01-24T21:24:08.361Z"
   },
   {
    "duration": 138,
    "start_time": "2023-01-24T21:24:08.802Z"
   },
   {
    "duration": 141,
    "start_time": "2023-01-24T21:24:08.942Z"
   },
   {
    "duration": 134,
    "start_time": "2023-01-24T21:24:09.085Z"
   },
   {
    "duration": 8,
    "start_time": "2023-01-24T21:24:39.059Z"
   },
   {
    "duration": 8,
    "start_time": "2023-01-24T21:24:44.693Z"
   },
   {
    "duration": 29,
    "start_time": "2023-01-24T21:24:58.625Z"
   },
   {
    "duration": 13,
    "start_time": "2023-01-24T21:25:10.525Z"
   },
   {
    "duration": 10,
    "start_time": "2023-01-24T21:25:36.180Z"
   },
   {
    "duration": 7,
    "start_time": "2023-01-24T21:25:48.447Z"
   },
   {
    "duration": 5,
    "start_time": "2023-01-24T21:25:53.436Z"
   },
   {
    "duration": 4,
    "start_time": "2023-01-24T21:26:31.677Z"
   },
   {
    "duration": 5,
    "start_time": "2023-01-24T21:27:16.315Z"
   },
   {
    "duration": 5,
    "start_time": "2023-01-24T21:27:29.869Z"
   },
   {
    "duration": 4,
    "start_time": "2023-01-24T21:27:29.881Z"
   },
   {
    "duration": 58,
    "start_time": "2023-01-24T21:27:29.887Z"
   },
   {
    "duration": 22,
    "start_time": "2023-01-24T21:27:29.948Z"
   },
   {
    "duration": 30,
    "start_time": "2023-01-24T21:27:29.972Z"
   },
   {
    "duration": 13,
    "start_time": "2023-01-24T21:27:30.006Z"
   },
   {
    "duration": 30,
    "start_time": "2023-01-24T21:27:30.021Z"
   },
   {
    "duration": 17,
    "start_time": "2023-01-24T21:27:30.053Z"
   },
   {
    "duration": 26,
    "start_time": "2023-01-24T21:27:30.072Z"
   },
   {
    "duration": 10,
    "start_time": "2023-01-24T21:27:30.100Z"
   },
   {
    "duration": 20,
    "start_time": "2023-01-24T21:27:30.112Z"
   },
   {
    "duration": 16,
    "start_time": "2023-01-24T21:27:30.135Z"
   },
   {
    "duration": 27,
    "start_time": "2023-01-24T21:27:30.154Z"
   },
   {
    "duration": 28,
    "start_time": "2023-01-24T21:27:30.184Z"
   },
   {
    "duration": 22,
    "start_time": "2023-01-24T21:27:30.214Z"
   },
   {
    "duration": 24,
    "start_time": "2023-01-24T21:27:30.239Z"
   },
   {
    "duration": 105,
    "start_time": "2023-01-24T21:27:30.265Z"
   },
   {
    "duration": 26,
    "start_time": "2023-01-24T21:27:30.372Z"
   },
   {
    "duration": 116,
    "start_time": "2023-01-24T21:27:30.400Z"
   },
   {
    "duration": 9,
    "start_time": "2023-01-24T21:27:30.518Z"
   },
   {
    "duration": 12,
    "start_time": "2023-01-24T21:27:30.529Z"
   },
   {
    "duration": 63,
    "start_time": "2023-01-24T21:27:30.543Z"
   },
   {
    "duration": 138,
    "start_time": "2023-01-24T21:27:30.608Z"
   },
   {
    "duration": 19,
    "start_time": "2023-01-24T21:27:30.748Z"
   },
   {
    "duration": 113,
    "start_time": "2023-01-24T21:27:30.780Z"
   },
   {
    "duration": 10,
    "start_time": "2023-01-24T21:27:30.894Z"
   },
   {
    "duration": 75,
    "start_time": "2023-01-24T21:27:30.906Z"
   },
   {
    "duration": 49,
    "start_time": "2023-01-24T21:27:30.983Z"
   },
   {
    "duration": 111,
    "start_time": "2023-01-24T21:27:31.034Z"
   },
   {
    "duration": 18,
    "start_time": "2023-01-24T21:27:31.150Z"
   },
   {
    "duration": 152,
    "start_time": "2023-01-24T21:27:31.170Z"
   },
   {
    "duration": 9,
    "start_time": "2023-01-24T21:27:31.324Z"
   },
   {
    "duration": 36,
    "start_time": "2023-01-24T21:27:31.334Z"
   },
   {
    "duration": 30,
    "start_time": "2023-01-24T21:27:31.372Z"
   },
   {
    "duration": 108,
    "start_time": "2023-01-24T21:27:31.404Z"
   },
   {
    "duration": 18,
    "start_time": "2023-01-24T21:27:31.515Z"
   },
   {
    "duration": 221,
    "start_time": "2023-01-24T21:27:31.535Z"
   },
   {
    "duration": 8,
    "start_time": "2023-01-24T21:27:31.759Z"
   },
   {
    "duration": 9,
    "start_time": "2023-01-24T21:27:31.782Z"
   },
   {
    "duration": 35,
    "start_time": "2023-01-24T21:27:31.792Z"
   },
   {
    "duration": 6,
    "start_time": "2023-01-24T21:27:31.829Z"
   },
   {
    "duration": 16,
    "start_time": "2023-01-24T21:27:31.837Z"
   },
   {
    "duration": 42,
    "start_time": "2023-01-24T21:27:31.854Z"
   },
   {
    "duration": 34,
    "start_time": "2023-01-24T21:27:31.898Z"
   },
   {
    "duration": 10,
    "start_time": "2023-01-24T21:27:31.934Z"
   },
   {
    "duration": 298,
    "start_time": "2023-01-24T21:27:31.946Z"
   },
   {
    "duration": 13,
    "start_time": "2023-01-24T21:27:32.246Z"
   },
   {
    "duration": 23,
    "start_time": "2023-01-24T21:27:32.261Z"
   },
   {
    "duration": 10,
    "start_time": "2023-01-24T21:27:32.286Z"
   },
   {
    "duration": 29,
    "start_time": "2023-01-24T21:27:32.298Z"
   },
   {
    "duration": 13,
    "start_time": "2023-01-24T21:27:32.330Z"
   },
   {
    "duration": 2125,
    "start_time": "2023-01-24T21:27:32.344Z"
   },
   {
    "duration": 12,
    "start_time": "2023-01-24T21:27:34.471Z"
   },
   {
    "duration": 23,
    "start_time": "2023-01-24T21:27:34.485Z"
   },
   {
    "duration": 10,
    "start_time": "2023-01-24T21:27:34.509Z"
   },
   {
    "duration": 28,
    "start_time": "2023-01-24T21:27:34.520Z"
   },
   {
    "duration": 8,
    "start_time": "2023-01-24T21:27:34.552Z"
   },
   {
    "duration": 109,
    "start_time": "2023-01-24T21:27:34.568Z"
   },
   {
    "duration": 6,
    "start_time": "2023-01-24T21:27:34.679Z"
   },
   {
    "duration": 9,
    "start_time": "2023-01-24T21:27:34.687Z"
   },
   {
    "duration": 8,
    "start_time": "2023-01-24T21:27:34.698Z"
   },
   {
    "duration": 11,
    "start_time": "2023-01-24T21:27:34.708Z"
   },
   {
    "duration": 168,
    "start_time": "2023-01-24T21:27:34.721Z"
   },
   {
    "duration": 169,
    "start_time": "2023-01-24T21:27:34.891Z"
   },
   {
    "duration": 36,
    "start_time": "2023-01-24T21:27:35.062Z"
   },
   {
    "duration": 7,
    "start_time": "2023-01-24T21:27:35.100Z"
   },
   {
    "duration": 28,
    "start_time": "2023-01-24T21:27:35.109Z"
   },
   {
    "duration": 11,
    "start_time": "2023-01-24T21:27:35.138Z"
   },
   {
    "duration": 184,
    "start_time": "2023-01-24T21:27:35.151Z"
   },
   {
    "duration": 12,
    "start_time": "2023-01-24T21:27:35.337Z"
   },
   {
    "duration": 18,
    "start_time": "2023-01-24T21:27:35.351Z"
   },
   {
    "duration": 322,
    "start_time": "2023-01-24T21:27:35.380Z"
   },
   {
    "duration": 12,
    "start_time": "2023-01-24T21:27:35.704Z"
   },
   {
    "duration": 14,
    "start_time": "2023-01-24T21:27:35.718Z"
   },
   {
    "duration": 312,
    "start_time": "2023-01-24T21:27:35.733Z"
   },
   {
    "duration": 12,
    "start_time": "2023-01-24T21:27:36.047Z"
   },
   {
    "duration": 21,
    "start_time": "2023-01-24T21:27:36.061Z"
   },
   {
    "duration": 360,
    "start_time": "2023-01-24T21:27:36.084Z"
   },
   {
    "duration": 181,
    "start_time": "2023-01-24T21:27:36.446Z"
   },
   {
    "duration": 138,
    "start_time": "2023-01-24T21:27:36.629Z"
   },
   {
    "duration": 157,
    "start_time": "2023-01-24T21:27:36.769Z"
   },
   {
    "duration": 20,
    "start_time": "2023-01-24T21:27:39.630Z"
   },
   {
    "duration": 5,
    "start_time": "2023-01-24T21:27:47.432Z"
   },
   {
    "duration": 8,
    "start_time": "2023-01-24T21:27:54.454Z"
   },
   {
    "duration": 8,
    "start_time": "2023-01-24T21:27:55.157Z"
   },
   {
    "duration": 21,
    "start_time": "2023-01-24T21:28:40.833Z"
   },
   {
    "duration": 5,
    "start_time": "2023-01-24T21:28:52.794Z"
   },
   {
    "duration": 3,
    "start_time": "2023-01-24T21:31:09.905Z"
   },
   {
    "duration": 30,
    "start_time": "2023-01-24T21:31:09.910Z"
   },
   {
    "duration": 74,
    "start_time": "2023-01-24T21:31:09.942Z"
   },
   {
    "duration": 15,
    "start_time": "2023-01-24T21:31:10.018Z"
   },
   {
    "duration": 28,
    "start_time": "2023-01-24T21:31:10.035Z"
   },
   {
    "duration": 13,
    "start_time": "2023-01-24T21:31:10.065Z"
   },
   {
    "duration": 28,
    "start_time": "2023-01-24T21:31:10.079Z"
   },
   {
    "duration": 29,
    "start_time": "2023-01-24T21:31:10.109Z"
   },
   {
    "duration": 32,
    "start_time": "2023-01-24T21:31:10.139Z"
   },
   {
    "duration": 9,
    "start_time": "2023-01-24T21:31:10.173Z"
   },
   {
    "duration": 6,
    "start_time": "2023-01-24T21:31:10.185Z"
   },
   {
    "duration": 8,
    "start_time": "2023-01-24T21:31:10.193Z"
   },
   {
    "duration": 4,
    "start_time": "2023-01-24T21:31:13.081Z"
   },
   {
    "duration": 3,
    "start_time": "2023-01-24T21:31:22.967Z"
   },
   {
    "duration": 4,
    "start_time": "2023-01-24T21:31:22.976Z"
   },
   {
    "duration": 69,
    "start_time": "2023-01-24T21:31:22.982Z"
   },
   {
    "duration": 13,
    "start_time": "2023-01-24T21:31:23.053Z"
   },
   {
    "duration": 25,
    "start_time": "2023-01-24T21:31:23.067Z"
   },
   {
    "duration": 19,
    "start_time": "2023-01-24T21:31:23.094Z"
   },
   {
    "duration": 10,
    "start_time": "2023-01-24T21:31:23.115Z"
   },
   {
    "duration": 34,
    "start_time": "2023-01-24T21:31:23.126Z"
   },
   {
    "duration": 181,
    "start_time": "2023-01-24T21:31:23.162Z"
   },
   {
    "duration": 8,
    "start_time": "2023-01-24T21:31:23.344Z"
   },
   {
    "duration": 7,
    "start_time": "2023-01-24T21:31:23.354Z"
   },
   {
    "duration": 5,
    "start_time": "2023-01-24T21:31:23.382Z"
   },
   {
    "duration": 7,
    "start_time": "2023-01-24T21:31:23.389Z"
   },
   {
    "duration": 11,
    "start_time": "2023-01-24T21:31:23.398Z"
   },
   {
    "duration": 5,
    "start_time": "2023-01-24T21:31:23.410Z"
   },
   {
    "duration": 23,
    "start_time": "2023-01-24T21:31:23.417Z"
   },
   {
    "duration": 124,
    "start_time": "2023-01-24T21:31:23.442Z"
   },
   {
    "duration": 34,
    "start_time": "2023-01-24T21:31:23.567Z"
   },
   {
    "duration": 114,
    "start_time": "2023-01-24T21:31:23.603Z"
   },
   {
    "duration": 9,
    "start_time": "2023-01-24T21:31:23.719Z"
   },
   {
    "duration": 12,
    "start_time": "2023-01-24T21:31:23.730Z"
   },
   {
    "duration": 41,
    "start_time": "2023-01-24T21:31:23.744Z"
   },
   {
    "duration": 122,
    "start_time": "2023-01-24T21:31:23.787Z"
   },
   {
    "duration": 19,
    "start_time": "2023-01-24T21:31:23.911Z"
   },
   {
    "duration": 140,
    "start_time": "2023-01-24T21:31:23.932Z"
   },
   {
    "duration": 13,
    "start_time": "2023-01-24T21:31:24.074Z"
   },
   {
    "duration": 9,
    "start_time": "2023-01-24T21:31:24.089Z"
   },
   {
    "duration": 23,
    "start_time": "2023-01-24T21:31:24.100Z"
   },
   {
    "duration": 110,
    "start_time": "2023-01-24T21:31:24.124Z"
   },
   {
    "duration": 19,
    "start_time": "2023-01-24T21:31:24.238Z"
   },
   {
    "duration": 133,
    "start_time": "2023-01-24T21:31:24.258Z"
   },
   {
    "duration": 8,
    "start_time": "2023-01-24T21:31:24.393Z"
   },
   {
    "duration": 10,
    "start_time": "2023-01-24T21:31:24.402Z"
   },
   {
    "duration": 22,
    "start_time": "2023-01-24T21:31:24.413Z"
   },
   {
    "duration": 124,
    "start_time": "2023-01-24T21:31:24.436Z"
   },
   {
    "duration": 27,
    "start_time": "2023-01-24T21:31:24.561Z"
   },
   {
    "duration": 109,
    "start_time": "2023-01-24T21:31:24.589Z"
   },
   {
    "duration": 8,
    "start_time": "2023-01-24T21:31:24.700Z"
   },
   {
    "duration": 13,
    "start_time": "2023-01-24T21:31:24.709Z"
   },
   {
    "duration": 20,
    "start_time": "2023-01-24T21:31:24.723Z"
   },
   {
    "duration": 5,
    "start_time": "2023-01-24T21:31:24.745Z"
   },
   {
    "duration": 4,
    "start_time": "2023-01-24T21:31:24.781Z"
   },
   {
    "duration": 17,
    "start_time": "2023-01-24T21:31:24.787Z"
   },
   {
    "duration": 16,
    "start_time": "2023-01-24T21:31:24.805Z"
   },
   {
    "duration": 6,
    "start_time": "2023-01-24T21:31:24.822Z"
   },
   {
    "duration": 291,
    "start_time": "2023-01-24T21:31:24.829Z"
   },
   {
    "duration": 10,
    "start_time": "2023-01-24T21:31:25.122Z"
   },
   {
    "duration": 6,
    "start_time": "2023-01-24T21:31:25.133Z"
   },
   {
    "duration": 4,
    "start_time": "2023-01-24T21:31:25.141Z"
   },
   {
    "duration": 16,
    "start_time": "2023-01-24T21:31:25.146Z"
   },
   {
    "duration": 9,
    "start_time": "2023-01-24T21:31:25.181Z"
   },
   {
    "duration": 1962,
    "start_time": "2023-01-24T21:31:25.192Z"
   },
   {
    "duration": 6,
    "start_time": "2023-01-24T21:31:27.156Z"
   },
   {
    "duration": 39,
    "start_time": "2023-01-24T21:31:27.164Z"
   },
   {
    "duration": 27,
    "start_time": "2023-01-24T21:31:27.205Z"
   },
   {
    "duration": 14,
    "start_time": "2023-01-24T21:31:27.234Z"
   },
   {
    "duration": 13,
    "start_time": "2023-01-24T21:31:27.249Z"
   },
   {
    "duration": 92,
    "start_time": "2023-01-24T21:31:27.264Z"
   },
   {
    "duration": 4,
    "start_time": "2023-01-24T21:31:27.358Z"
   },
   {
    "duration": 12,
    "start_time": "2023-01-24T21:31:27.364Z"
   },
   {
    "duration": 15,
    "start_time": "2023-01-24T21:31:27.377Z"
   },
   {
    "duration": 18,
    "start_time": "2023-01-24T21:31:27.393Z"
   },
   {
    "duration": 134,
    "start_time": "2023-01-24T21:31:27.413Z"
   },
   {
    "duration": 147,
    "start_time": "2023-01-24T21:31:27.549Z"
   },
   {
    "duration": 122,
    "start_time": "2023-01-24T21:31:27.698Z"
   },
   {
    "duration": 6,
    "start_time": "2023-01-24T21:31:27.822Z"
   },
   {
    "duration": 12,
    "start_time": "2023-01-24T21:31:27.830Z"
   },
   {
    "duration": 9,
    "start_time": "2023-01-24T21:31:27.843Z"
   },
   {
    "duration": 198,
    "start_time": "2023-01-24T21:31:27.854Z"
   },
   {
    "duration": 13,
    "start_time": "2023-01-24T21:31:28.054Z"
   },
   {
    "duration": 16,
    "start_time": "2023-01-24T21:31:28.069Z"
   },
   {
    "duration": 287,
    "start_time": "2023-01-24T21:31:28.086Z"
   },
   {
    "duration": 15,
    "start_time": "2023-01-24T21:31:28.374Z"
   },
   {
    "duration": 8,
    "start_time": "2023-01-24T21:31:28.391Z"
   },
   {
    "duration": 293,
    "start_time": "2023-01-24T21:31:28.400Z"
   },
   {
    "duration": 12,
    "start_time": "2023-01-24T21:31:28.695Z"
   },
   {
    "duration": 12,
    "start_time": "2023-01-24T21:31:28.709Z"
   },
   {
    "duration": 299,
    "start_time": "2023-01-24T21:31:28.722Z"
   },
   {
    "duration": 131,
    "start_time": "2023-01-24T21:31:29.023Z"
   },
   {
    "duration": 144,
    "start_time": "2023-01-24T21:31:29.156Z"
   },
   {
    "duration": 135,
    "start_time": "2023-01-24T21:31:29.302Z"
   },
   {
    "duration": 25,
    "start_time": "2023-01-24T21:32:02.404Z"
   },
   {
    "duration": 5,
    "start_time": "2023-01-24T21:32:37.185Z"
   },
   {
    "duration": 5,
    "start_time": "2023-01-24T21:34:54.703Z"
   },
   {
    "duration": 25,
    "start_time": "2023-01-24T21:34:59.742Z"
   },
   {
    "duration": 20,
    "start_time": "2023-01-24T21:35:18.717Z"
   },
   {
    "duration": 4,
    "start_time": "2023-01-24T21:44:19.569Z"
   },
   {
    "duration": 35,
    "start_time": "2023-01-24T21:44:19.575Z"
   },
   {
    "duration": 53,
    "start_time": "2023-01-24T21:44:19.612Z"
   },
   {
    "duration": 16,
    "start_time": "2023-01-24T21:44:19.667Z"
   },
   {
    "duration": 14,
    "start_time": "2023-01-24T21:44:19.686Z"
   },
   {
    "duration": 4,
    "start_time": "2023-01-24T21:44:19.702Z"
   },
   {
    "duration": 6,
    "start_time": "2023-01-24T21:44:19.708Z"
   },
   {
    "duration": 11,
    "start_time": "2023-01-24T21:44:19.716Z"
   },
   {
    "duration": 16,
    "start_time": "2023-01-24T21:44:19.729Z"
   },
   {
    "duration": 40,
    "start_time": "2023-01-24T21:44:19.747Z"
   },
   {
    "duration": 5,
    "start_time": "2023-01-24T21:44:19.790Z"
   },
   {
    "duration": 6,
    "start_time": "2023-01-24T21:44:19.797Z"
   },
   {
    "duration": 7,
    "start_time": "2023-01-24T21:44:43.687Z"
   },
   {
    "duration": 30,
    "start_time": "2023-01-24T21:45:11.487Z"
   },
   {
    "duration": 11,
    "start_time": "2023-01-24T21:45:15.801Z"
   },
   {
    "duration": 13,
    "start_time": "2023-01-24T21:45:26.186Z"
   },
   {
    "duration": 11,
    "start_time": "2023-01-24T21:45:32.990Z"
   },
   {
    "duration": 4,
    "start_time": "2023-01-24T21:59:50.286Z"
   },
   {
    "duration": 21,
    "start_time": "2023-01-24T21:59:57.659Z"
   },
   {
    "duration": 4,
    "start_time": "2023-01-24T22:02:13.543Z"
   },
   {
    "duration": 16,
    "start_time": "2023-01-24T22:02:13.550Z"
   },
   {
    "duration": 53,
    "start_time": "2023-01-24T22:02:13.568Z"
   },
   {
    "duration": 14,
    "start_time": "2023-01-24T22:02:13.623Z"
   },
   {
    "duration": 14,
    "start_time": "2023-01-24T22:02:13.640Z"
   },
   {
    "duration": 4,
    "start_time": "2023-01-24T22:02:13.656Z"
   },
   {
    "duration": 20,
    "start_time": "2023-01-24T22:02:13.662Z"
   },
   {
    "duration": 11,
    "start_time": "2023-01-24T22:02:13.684Z"
   },
   {
    "duration": 22,
    "start_time": "2023-01-24T22:02:13.697Z"
   },
   {
    "duration": 10,
    "start_time": "2023-01-24T22:02:13.720Z"
   },
   {
    "duration": 6,
    "start_time": "2023-01-24T22:02:13.734Z"
   },
   {
    "duration": 43,
    "start_time": "2023-01-24T22:02:13.742Z"
   },
   {
    "duration": 12,
    "start_time": "2023-01-24T22:02:13.787Z"
   },
   {
    "duration": 23,
    "start_time": "2023-01-24T22:02:13.801Z"
   },
   {
    "duration": 9,
    "start_time": "2023-01-24T22:02:13.826Z"
   },
   {
    "duration": 26,
    "start_time": "2023-01-24T22:02:13.837Z"
   },
   {
    "duration": 124,
    "start_time": "2023-01-24T22:02:13.865Z"
   },
   {
    "duration": 29,
    "start_time": "2023-01-24T22:02:13.992Z"
   },
   {
    "duration": 180,
    "start_time": "2023-01-24T22:02:14.024Z"
   },
   {
    "duration": 12,
    "start_time": "2023-01-24T22:02:14.206Z"
   },
   {
    "duration": 11,
    "start_time": "2023-01-24T22:02:14.221Z"
   },
   {
    "duration": 49,
    "start_time": "2023-01-24T22:02:14.234Z"
   },
   {
    "duration": 123,
    "start_time": "2023-01-24T22:02:14.284Z"
   },
   {
    "duration": 19,
    "start_time": "2023-01-24T22:02:14.409Z"
   },
   {
    "duration": 378,
    "start_time": "2023-01-24T22:02:14.430Z"
   },
   {
    "duration": 9,
    "start_time": "2023-01-24T22:02:14.810Z"
   },
   {
    "duration": 14,
    "start_time": "2023-01-24T22:02:14.821Z"
   },
   {
    "duration": 45,
    "start_time": "2023-01-24T22:02:14.837Z"
   },
   {
    "duration": 130,
    "start_time": "2023-01-24T22:02:14.887Z"
   },
   {
    "duration": 21,
    "start_time": "2023-01-24T22:02:15.019Z"
   },
   {
    "duration": 144,
    "start_time": "2023-01-24T22:02:15.042Z"
   },
   {
    "duration": 14,
    "start_time": "2023-01-24T22:02:15.189Z"
   },
   {
    "duration": 26,
    "start_time": "2023-01-24T22:02:15.205Z"
   },
   {
    "duration": 27,
    "start_time": "2023-01-24T22:02:15.233Z"
   },
   {
    "duration": 181,
    "start_time": "2023-01-24T22:02:15.263Z"
   },
   {
    "duration": 39,
    "start_time": "2023-01-24T22:02:15.446Z"
   },
   {
    "duration": 196,
    "start_time": "2023-01-24T22:02:15.488Z"
   },
   {
    "duration": 13,
    "start_time": "2023-01-24T22:02:15.687Z"
   },
   {
    "duration": 18,
    "start_time": "2023-01-24T22:02:15.703Z"
   },
   {
    "duration": 20,
    "start_time": "2023-01-24T22:02:15.722Z"
   },
   {
    "duration": 5,
    "start_time": "2023-01-24T22:02:15.744Z"
   },
   {
    "duration": 33,
    "start_time": "2023-01-24T22:02:15.751Z"
   },
   {
    "duration": 20,
    "start_time": "2023-01-24T22:02:15.786Z"
   },
   {
    "duration": 15,
    "start_time": "2023-01-24T22:02:15.810Z"
   },
   {
    "duration": 6,
    "start_time": "2023-01-24T22:02:15.827Z"
   },
   {
    "duration": 325,
    "start_time": "2023-01-24T22:02:15.836Z"
   },
   {
    "duration": 26,
    "start_time": "2023-01-24T22:02:16.164Z"
   },
   {
    "duration": 10,
    "start_time": "2023-01-24T22:02:16.193Z"
   },
   {
    "duration": 16,
    "start_time": "2023-01-24T22:02:16.206Z"
   },
   {
    "duration": 47,
    "start_time": "2023-01-24T22:02:16.224Z"
   },
   {
    "duration": 60,
    "start_time": "2023-01-24T22:02:16.274Z"
   },
   {
    "duration": 2300,
    "start_time": "2023-01-24T22:02:16.337Z"
   },
   {
    "duration": 10,
    "start_time": "2023-01-24T22:02:18.638Z"
   },
   {
    "duration": 30,
    "start_time": "2023-01-24T22:02:18.651Z"
   },
   {
    "duration": 17,
    "start_time": "2023-01-24T22:02:18.683Z"
   },
   {
    "duration": 13,
    "start_time": "2023-01-24T22:02:18.702Z"
   },
   {
    "duration": 7,
    "start_time": "2023-01-24T22:02:18.717Z"
   },
   {
    "duration": 121,
    "start_time": "2023-01-24T22:02:18.726Z"
   },
   {
    "duration": 6,
    "start_time": "2023-01-24T22:02:18.848Z"
   },
   {
    "duration": 11,
    "start_time": "2023-01-24T22:02:18.856Z"
   },
   {
    "duration": 17,
    "start_time": "2023-01-24T22:02:18.869Z"
   },
   {
    "duration": 5,
    "start_time": "2023-01-24T22:02:18.889Z"
   },
   {
    "duration": 218,
    "start_time": "2023-01-24T22:02:18.896Z"
   },
   {
    "duration": 177,
    "start_time": "2023-01-24T22:02:19.116Z"
   },
   {
    "duration": 25,
    "start_time": "2023-01-24T22:02:19.296Z"
   },
   {
    "duration": 12,
    "start_time": "2023-01-24T22:02:19.324Z"
   },
   {
    "duration": 17,
    "start_time": "2023-01-24T22:02:19.338Z"
   },
   {
    "duration": 32,
    "start_time": "2023-01-24T22:02:19.357Z"
   },
   {
    "duration": 199,
    "start_time": "2023-01-24T22:02:19.391Z"
   },
   {
    "duration": 14,
    "start_time": "2023-01-24T22:02:19.592Z"
   },
   {
    "duration": 19,
    "start_time": "2023-01-24T22:02:19.608Z"
   },
   {
    "duration": 352,
    "start_time": "2023-01-24T22:02:19.629Z"
   },
   {
    "duration": 11,
    "start_time": "2023-01-24T22:02:19.983Z"
   },
   {
    "duration": 15,
    "start_time": "2023-01-24T22:02:19.996Z"
   },
   {
    "duration": 499,
    "start_time": "2023-01-24T22:02:20.013Z"
   },
   {
    "duration": 13,
    "start_time": "2023-01-24T22:02:20.516Z"
   },
   {
    "duration": 15,
    "start_time": "2023-01-24T22:02:20.531Z"
   },
   {
    "duration": 423,
    "start_time": "2023-01-24T22:02:20.548Z"
   },
   {
    "duration": 155,
    "start_time": "2023-01-24T22:02:20.973Z"
   },
   {
    "duration": 156,
    "start_time": "2023-01-24T22:02:21.130Z"
   },
   {
    "duration": 159,
    "start_time": "2023-01-24T22:02:21.288Z"
   },
   {
    "duration": 3,
    "start_time": "2023-01-24T22:02:21.450Z"
   },
   {
    "duration": 16,
    "start_time": "2023-01-24T22:02:21.459Z"
   },
   {
    "duration": 3,
    "start_time": "2023-01-24T22:02:25.776Z"
   },
   {
    "duration": 10,
    "start_time": "2023-01-24T22:02:26.462Z"
   },
   {
    "duration": 9,
    "start_time": "2023-01-24T22:02:27.774Z"
   },
   {
    "duration": 3,
    "start_time": "2023-01-24T22:28:12.041Z"
   },
   {
    "duration": 11,
    "start_time": "2023-01-24T22:28:21.424Z"
   },
   {
    "duration": 4,
    "start_time": "2023-01-24T22:28:50.464Z"
   },
   {
    "duration": 6,
    "start_time": "2023-01-24T22:28:50.471Z"
   },
   {
    "duration": 52,
    "start_time": "2023-01-24T22:28:50.479Z"
   },
   {
    "duration": 13,
    "start_time": "2023-01-24T22:28:50.533Z"
   },
   {
    "duration": 14,
    "start_time": "2023-01-24T22:28:50.548Z"
   },
   {
    "duration": 3,
    "start_time": "2023-01-24T22:28:50.564Z"
   },
   {
    "duration": 6,
    "start_time": "2023-01-24T22:28:50.568Z"
   },
   {
    "duration": 10,
    "start_time": "2023-01-24T22:28:50.576Z"
   },
   {
    "duration": 15,
    "start_time": "2023-01-24T22:28:50.588Z"
   },
   {
    "duration": 8,
    "start_time": "2023-01-24T22:28:50.604Z"
   },
   {
    "duration": 4,
    "start_time": "2023-01-24T22:28:50.615Z"
   },
   {
    "duration": 6,
    "start_time": "2023-01-24T22:28:50.621Z"
   },
   {
    "duration": 8,
    "start_time": "2023-01-24T22:28:50.629Z"
   },
   {
    "duration": 42,
    "start_time": "2023-01-24T22:28:50.639Z"
   },
   {
    "duration": 6,
    "start_time": "2023-01-24T22:28:50.683Z"
   },
   {
    "duration": 27,
    "start_time": "2023-01-24T22:28:50.690Z"
   },
   {
    "duration": 134,
    "start_time": "2023-01-24T22:28:50.719Z"
   },
   {
    "duration": 38,
    "start_time": "2023-01-24T22:28:50.855Z"
   },
   {
    "duration": 103,
    "start_time": "2023-01-24T22:28:50.894Z"
   },
   {
    "duration": 9,
    "start_time": "2023-01-24T22:28:50.998Z"
   },
   {
    "duration": 9,
    "start_time": "2023-01-24T22:28:51.009Z"
   },
   {
    "duration": 21,
    "start_time": "2023-01-24T22:28:51.020Z"
   },
   {
    "duration": 128,
    "start_time": "2023-01-24T22:28:51.043Z"
   },
   {
    "duration": 19,
    "start_time": "2023-01-24T22:28:51.180Z"
   },
   {
    "duration": 104,
    "start_time": "2023-01-24T22:28:51.201Z"
   },
   {
    "duration": 8,
    "start_time": "2023-01-24T22:28:51.307Z"
   },
   {
    "duration": 7,
    "start_time": "2023-01-24T22:28:51.317Z"
   },
   {
    "duration": 19,
    "start_time": "2023-01-24T22:28:51.326Z"
   },
   {
    "duration": 125,
    "start_time": "2023-01-24T22:28:51.349Z"
   },
   {
    "duration": 19,
    "start_time": "2023-01-24T22:28:51.480Z"
   },
   {
    "duration": 235,
    "start_time": "2023-01-24T22:28:51.500Z"
   },
   {
    "duration": 8,
    "start_time": "2023-01-24T22:28:51.737Z"
   },
   {
    "duration": 10,
    "start_time": "2023-01-24T22:28:51.747Z"
   },
   {
    "duration": 39,
    "start_time": "2023-01-24T22:28:51.759Z"
   },
   {
    "duration": 111,
    "start_time": "2023-01-24T22:28:51.800Z"
   },
   {
    "duration": 18,
    "start_time": "2023-01-24T22:28:51.912Z"
   },
   {
    "duration": 123,
    "start_time": "2023-01-24T22:28:51.932Z"
   },
   {
    "duration": 9,
    "start_time": "2023-01-24T22:28:52.057Z"
   },
   {
    "duration": 21,
    "start_time": "2023-01-24T22:28:52.067Z"
   },
   {
    "duration": 26,
    "start_time": "2023-01-24T22:28:52.090Z"
   },
   {
    "duration": 5,
    "start_time": "2023-01-24T22:28:52.117Z"
   },
   {
    "duration": 8,
    "start_time": "2023-01-24T22:28:52.124Z"
   },
   {
    "duration": 16,
    "start_time": "2023-01-24T22:28:52.133Z"
   },
   {
    "duration": 30,
    "start_time": "2023-01-24T22:28:52.151Z"
   },
   {
    "duration": 7,
    "start_time": "2023-01-24T22:28:52.183Z"
   },
   {
    "duration": 280,
    "start_time": "2023-01-24T22:28:52.192Z"
   },
   {
    "duration": 16,
    "start_time": "2023-01-24T22:28:52.473Z"
   },
   {
    "duration": 6,
    "start_time": "2023-01-24T22:28:52.490Z"
   },
   {
    "duration": 19,
    "start_time": "2023-01-24T22:28:52.498Z"
   },
   {
    "duration": 18,
    "start_time": "2023-01-24T22:28:52.519Z"
   },
   {
    "duration": 9,
    "start_time": "2023-01-24T22:28:52.538Z"
   },
   {
    "duration": 1824,
    "start_time": "2023-01-24T22:28:52.549Z"
   },
   {
    "duration": 12,
    "start_time": "2023-01-24T22:28:54.374Z"
   },
   {
    "duration": 17,
    "start_time": "2023-01-24T22:28:54.387Z"
   },
   {
    "duration": 11,
    "start_time": "2023-01-24T22:28:54.406Z"
   },
   {
    "duration": 8,
    "start_time": "2023-01-24T22:28:54.418Z"
   },
   {
    "duration": 5,
    "start_time": "2023-01-24T22:28:54.427Z"
   },
   {
    "duration": 102,
    "start_time": "2023-01-24T22:28:54.433Z"
   },
   {
    "duration": 4,
    "start_time": "2023-01-24T22:28:54.536Z"
   },
   {
    "duration": 9,
    "start_time": "2023-01-24T22:28:54.542Z"
   },
   {
    "duration": 8,
    "start_time": "2023-01-24T22:28:54.553Z"
   },
   {
    "duration": 20,
    "start_time": "2023-01-24T22:28:54.562Z"
   },
   {
    "duration": 138,
    "start_time": "2023-01-24T22:28:54.584Z"
   },
   {
    "duration": 135,
    "start_time": "2023-01-24T22:28:54.724Z"
   },
   {
    "duration": 34,
    "start_time": "2023-01-24T22:28:54.860Z"
   },
   {
    "duration": 7,
    "start_time": "2023-01-24T22:28:54.896Z"
   },
   {
    "duration": 12,
    "start_time": "2023-01-24T22:28:54.905Z"
   },
   {
    "duration": 11,
    "start_time": "2023-01-24T22:28:54.919Z"
   },
   {
    "duration": 188,
    "start_time": "2023-01-24T22:28:54.931Z"
   },
   {
    "duration": 12,
    "start_time": "2023-01-24T22:28:55.121Z"
   },
   {
    "duration": 8,
    "start_time": "2023-01-24T22:28:55.134Z"
   },
   {
    "duration": 299,
    "start_time": "2023-01-24T22:28:55.143Z"
   },
   {
    "duration": 11,
    "start_time": "2023-01-24T22:28:55.444Z"
   },
   {
    "duration": 10,
    "start_time": "2023-01-24T22:28:55.457Z"
   },
   {
    "duration": 305,
    "start_time": "2023-01-24T22:28:55.468Z"
   },
   {
    "duration": 13,
    "start_time": "2023-01-24T22:28:55.775Z"
   },
   {
    "duration": 12,
    "start_time": "2023-01-24T22:28:55.789Z"
   },
   {
    "duration": 422,
    "start_time": "2023-01-24T22:28:55.802Z"
   },
   {
    "duration": 158,
    "start_time": "2023-01-24T22:28:56.226Z"
   },
   {
    "duration": 158,
    "start_time": "2023-01-24T22:28:56.387Z"
   },
   {
    "duration": 122,
    "start_time": "2023-01-24T22:28:56.547Z"
   },
   {
    "duration": 3,
    "start_time": "2023-01-24T22:29:01.208Z"
   },
   {
    "duration": 11,
    "start_time": "2023-01-24T22:29:02.162Z"
   },
   {
    "duration": 47,
    "start_time": "2023-01-24T22:29:32.591Z"
   },
   {
    "duration": 4,
    "start_time": "2023-01-24T22:30:31.383Z"
   },
   {
    "duration": 39,
    "start_time": "2023-01-24T22:30:31.392Z"
   },
   {
    "duration": 79,
    "start_time": "2023-01-24T22:30:31.433Z"
   },
   {
    "duration": 14,
    "start_time": "2023-01-24T22:30:31.514Z"
   },
   {
    "duration": 57,
    "start_time": "2023-01-24T22:30:31.530Z"
   },
   {
    "duration": 18,
    "start_time": "2023-01-24T22:30:31.589Z"
   },
   {
    "duration": 39,
    "start_time": "2023-01-24T22:30:31.609Z"
   },
   {
    "duration": 32,
    "start_time": "2023-01-24T22:30:31.650Z"
   },
   {
    "duration": 28,
    "start_time": "2023-01-24T22:30:31.684Z"
   },
   {
    "duration": 32,
    "start_time": "2023-01-24T22:30:31.713Z"
   },
   {
    "duration": 40,
    "start_time": "2023-01-24T22:30:31.748Z"
   },
   {
    "duration": 31,
    "start_time": "2023-01-24T22:30:31.790Z"
   },
   {
    "duration": 18,
    "start_time": "2023-01-24T22:30:31.823Z"
   },
   {
    "duration": 27,
    "start_time": "2023-01-24T22:30:31.842Z"
   },
   {
    "duration": 11,
    "start_time": "2023-01-24T22:30:31.871Z"
   },
   {
    "duration": 34,
    "start_time": "2023-01-24T22:30:31.883Z"
   },
   {
    "duration": 99,
    "start_time": "2023-01-24T22:30:31.919Z"
   },
   {
    "duration": 20,
    "start_time": "2023-01-24T22:30:32.020Z"
   },
   {
    "duration": 111,
    "start_time": "2023-01-24T22:30:32.041Z"
   },
   {
    "duration": 11,
    "start_time": "2023-01-24T22:30:32.153Z"
   },
   {
    "duration": 21,
    "start_time": "2023-01-24T22:30:32.166Z"
   },
   {
    "duration": 23,
    "start_time": "2023-01-24T22:30:32.189Z"
   },
   {
    "duration": 119,
    "start_time": "2023-01-24T22:30:32.213Z"
   },
   {
    "duration": 18,
    "start_time": "2023-01-24T22:30:32.334Z"
   },
   {
    "duration": 111,
    "start_time": "2023-01-24T22:30:32.353Z"
   },
   {
    "duration": 15,
    "start_time": "2023-01-24T22:30:32.466Z"
   },
   {
    "duration": 12,
    "start_time": "2023-01-24T22:30:32.482Z"
   },
   {
    "duration": 27,
    "start_time": "2023-01-24T22:30:32.496Z"
   },
   {
    "duration": 125,
    "start_time": "2023-01-24T22:30:32.529Z"
   },
   {
    "duration": 30,
    "start_time": "2023-01-24T22:30:32.657Z"
   },
   {
    "duration": 132,
    "start_time": "2023-01-24T22:30:32.689Z"
   },
   {
    "duration": 7,
    "start_time": "2023-01-24T22:30:32.823Z"
   },
   {
    "duration": 49,
    "start_time": "2023-01-24T22:30:32.832Z"
   },
   {
    "duration": 28,
    "start_time": "2023-01-24T22:30:32.882Z"
   },
   {
    "duration": 105,
    "start_time": "2023-01-24T22:30:32.912Z"
   },
   {
    "duration": 19,
    "start_time": "2023-01-24T22:30:33.019Z"
   },
   {
    "duration": 225,
    "start_time": "2023-01-24T22:30:33.040Z"
   },
   {
    "duration": 15,
    "start_time": "2023-01-24T22:30:33.267Z"
   },
   {
    "duration": 11,
    "start_time": "2023-01-24T22:30:33.283Z"
   },
   {
    "duration": 19,
    "start_time": "2023-01-24T22:30:33.295Z"
   },
   {
    "duration": 4,
    "start_time": "2023-01-24T22:30:33.316Z"
   },
   {
    "duration": 5,
    "start_time": "2023-01-24T22:30:33.322Z"
   },
   {
    "duration": 17,
    "start_time": "2023-01-24T22:30:33.328Z"
   },
   {
    "duration": 40,
    "start_time": "2023-01-24T22:30:33.347Z"
   },
   {
    "duration": 6,
    "start_time": "2023-01-24T22:30:33.388Z"
   },
   {
    "duration": 283,
    "start_time": "2023-01-24T22:30:33.395Z"
   },
   {
    "duration": 10,
    "start_time": "2023-01-24T22:30:33.680Z"
   },
   {
    "duration": 6,
    "start_time": "2023-01-24T22:30:33.692Z"
   },
   {
    "duration": 5,
    "start_time": "2023-01-24T22:30:33.700Z"
   },
   {
    "duration": 17,
    "start_time": "2023-01-24T22:30:33.706Z"
   },
   {
    "duration": 9,
    "start_time": "2023-01-24T22:30:33.725Z"
   },
   {
    "duration": 1847,
    "start_time": "2023-01-24T22:30:33.736Z"
   },
   {
    "duration": 6,
    "start_time": "2023-01-24T22:30:35.585Z"
   },
   {
    "duration": 16,
    "start_time": "2023-01-24T22:30:35.593Z"
   },
   {
    "duration": 12,
    "start_time": "2023-01-24T22:30:35.611Z"
   },
   {
    "duration": 21,
    "start_time": "2023-01-24T22:30:35.624Z"
   },
   {
    "duration": 6,
    "start_time": "2023-01-24T22:30:35.647Z"
   },
   {
    "duration": 112,
    "start_time": "2023-01-24T22:30:35.655Z"
   },
   {
    "duration": 13,
    "start_time": "2023-01-24T22:30:35.769Z"
   },
   {
    "duration": 10,
    "start_time": "2023-01-24T22:30:35.784Z"
   },
   {
    "duration": 8,
    "start_time": "2023-01-24T22:30:35.796Z"
   },
   {
    "duration": 13,
    "start_time": "2023-01-24T22:30:35.805Z"
   },
   {
    "duration": 145,
    "start_time": "2023-01-24T22:30:35.820Z"
   },
   {
    "duration": 138,
    "start_time": "2023-01-24T22:30:35.967Z"
   },
   {
    "duration": 23,
    "start_time": "2023-01-24T22:30:36.106Z"
   },
   {
    "duration": 5,
    "start_time": "2023-01-24T22:30:36.131Z"
   },
   {
    "duration": 21,
    "start_time": "2023-01-24T22:30:36.138Z"
   },
   {
    "duration": 22,
    "start_time": "2023-01-24T22:30:36.161Z"
   },
   {
    "duration": 216,
    "start_time": "2023-01-24T22:30:36.185Z"
   },
   {
    "duration": 13,
    "start_time": "2023-01-24T22:30:36.404Z"
   },
   {
    "duration": 31,
    "start_time": "2023-01-24T22:30:36.418Z"
   },
   {
    "duration": 319,
    "start_time": "2023-01-24T22:30:36.451Z"
   },
   {
    "duration": 18,
    "start_time": "2023-01-24T22:30:36.772Z"
   },
   {
    "duration": 35,
    "start_time": "2023-01-24T22:30:36.792Z"
   },
   {
    "duration": 291,
    "start_time": "2023-01-24T22:30:36.829Z"
   },
   {
    "duration": 12,
    "start_time": "2023-01-24T22:30:37.121Z"
   },
   {
    "duration": 7,
    "start_time": "2023-01-24T22:30:37.134Z"
   },
   {
    "duration": 304,
    "start_time": "2023-01-24T22:30:37.143Z"
   },
   {
    "duration": 151,
    "start_time": "2023-01-24T22:30:37.449Z"
   },
   {
    "duration": 135,
    "start_time": "2023-01-24T22:30:37.601Z"
   },
   {
    "duration": 126,
    "start_time": "2023-01-24T22:30:37.737Z"
   },
   {
    "duration": 4,
    "start_time": "2023-01-24T22:30:52.012Z"
   },
   {
    "duration": 5,
    "start_time": "2023-01-24T22:33:48.181Z"
   },
   {
    "duration": 5,
    "start_time": "2023-01-24T22:34:45.672Z"
   },
   {
    "duration": 25,
    "start_time": "2023-01-24T22:34:51.638Z"
   },
   {
    "duration": 3,
    "start_time": "2023-01-24T22:35:13.480Z"
   },
   {
    "duration": 3,
    "start_time": "2023-01-24T22:35:13.499Z"
   },
   {
    "duration": 52,
    "start_time": "2023-01-24T22:35:13.511Z"
   },
   {
    "duration": 12,
    "start_time": "2023-01-24T22:35:13.565Z"
   },
   {
    "duration": 17,
    "start_time": "2023-01-24T22:35:13.579Z"
   },
   {
    "duration": 2,
    "start_time": "2023-01-24T22:35:13.598Z"
   },
   {
    "duration": 16,
    "start_time": "2023-01-24T22:35:13.601Z"
   },
   {
    "duration": 10,
    "start_time": "2023-01-24T22:35:13.619Z"
   },
   {
    "duration": 14,
    "start_time": "2023-01-24T22:35:13.630Z"
   },
   {
    "duration": 8,
    "start_time": "2023-01-24T22:35:13.645Z"
   },
   {
    "duration": 7,
    "start_time": "2023-01-24T22:35:13.654Z"
   },
   {
    "duration": 18,
    "start_time": "2023-01-24T22:35:13.663Z"
   },
   {
    "duration": 7,
    "start_time": "2023-01-24T22:35:13.683Z"
   },
   {
    "duration": 10,
    "start_time": "2023-01-24T22:35:13.691Z"
   },
   {
    "duration": 4,
    "start_time": "2023-01-24T22:35:13.702Z"
   },
   {
    "duration": 23,
    "start_time": "2023-01-24T22:35:13.707Z"
   },
   {
    "duration": 123,
    "start_time": "2023-01-24T22:35:13.732Z"
   },
   {
    "duration": 36,
    "start_time": "2023-01-24T22:35:13.857Z"
   },
   {
    "duration": 242,
    "start_time": "2023-01-24T22:35:13.894Z"
   },
   {
    "duration": 9,
    "start_time": "2023-01-24T22:35:14.137Z"
   },
   {
    "duration": 12,
    "start_time": "2023-01-24T22:35:14.149Z"
   },
   {
    "duration": 44,
    "start_time": "2023-01-24T22:35:14.162Z"
   },
   {
    "duration": 106,
    "start_time": "2023-01-24T22:35:14.207Z"
   },
   {
    "duration": 18,
    "start_time": "2023-01-24T22:35:14.315Z"
   },
   {
    "duration": 109,
    "start_time": "2023-01-24T22:35:14.335Z"
   },
   {
    "duration": 8,
    "start_time": "2023-01-24T22:35:14.446Z"
   },
   {
    "duration": 17,
    "start_time": "2023-01-24T22:35:14.456Z"
   },
   {
    "duration": 19,
    "start_time": "2023-01-24T22:35:14.480Z"
   },
   {
    "duration": 103,
    "start_time": "2023-01-24T22:35:14.501Z"
   },
   {
    "duration": 16,
    "start_time": "2023-01-24T22:35:14.609Z"
   },
   {
    "duration": 126,
    "start_time": "2023-01-24T22:35:14.627Z"
   },
   {
    "duration": 8,
    "start_time": "2023-01-24T22:35:14.755Z"
   },
   {
    "duration": 18,
    "start_time": "2023-01-24T22:35:14.764Z"
   },
   {
    "duration": 19,
    "start_time": "2023-01-24T22:35:14.784Z"
   },
   {
    "duration": 117,
    "start_time": "2023-01-24T22:35:14.805Z"
   },
   {
    "duration": 18,
    "start_time": "2023-01-24T22:35:14.924Z"
   },
   {
    "duration": 128,
    "start_time": "2023-01-24T22:35:14.944Z"
   },
   {
    "duration": 14,
    "start_time": "2023-01-24T22:35:15.073Z"
   },
   {
    "duration": 10,
    "start_time": "2023-01-24T22:35:15.088Z"
   },
   {
    "duration": 20,
    "start_time": "2023-01-24T22:35:15.100Z"
   },
   {
    "duration": 5,
    "start_time": "2023-01-24T22:35:15.121Z"
   },
   {
    "duration": 6,
    "start_time": "2023-01-24T22:35:15.128Z"
   },
   {
    "duration": 29,
    "start_time": "2023-01-24T22:35:15.135Z"
   },
   {
    "duration": 26,
    "start_time": "2023-01-24T22:35:15.166Z"
   },
   {
    "duration": 12,
    "start_time": "2023-01-24T22:35:15.194Z"
   },
   {
    "duration": 278,
    "start_time": "2023-01-24T22:35:15.208Z"
   },
   {
    "duration": 11,
    "start_time": "2023-01-24T22:35:15.488Z"
   },
   {
    "duration": 7,
    "start_time": "2023-01-24T22:35:15.501Z"
   },
   {
    "duration": 4,
    "start_time": "2023-01-24T22:35:15.509Z"
   },
   {
    "duration": 18,
    "start_time": "2023-01-24T22:35:15.515Z"
   },
   {
    "duration": 11,
    "start_time": "2023-01-24T22:35:15.535Z"
   },
   {
    "duration": 1959,
    "start_time": "2023-01-24T22:35:15.548Z"
   },
   {
    "duration": 6,
    "start_time": "2023-01-24T22:35:17.508Z"
   },
   {
    "duration": 17,
    "start_time": "2023-01-24T22:35:17.515Z"
   },
   {
    "duration": 12,
    "start_time": "2023-01-24T22:35:17.533Z"
   },
   {
    "duration": 16,
    "start_time": "2023-01-24T22:35:17.546Z"
   },
   {
    "duration": 18,
    "start_time": "2023-01-24T22:35:17.564Z"
   },
   {
    "duration": 97,
    "start_time": "2023-01-24T22:35:17.584Z"
   },
   {
    "duration": 4,
    "start_time": "2023-01-24T22:35:17.683Z"
   },
   {
    "duration": 9,
    "start_time": "2023-01-24T22:35:17.688Z"
   },
   {
    "duration": 6,
    "start_time": "2023-01-24T22:35:17.699Z"
   },
   {
    "duration": 7,
    "start_time": "2023-01-24T22:35:17.706Z"
   },
   {
    "duration": 151,
    "start_time": "2023-01-24T22:35:17.714Z"
   },
   {
    "duration": 138,
    "start_time": "2023-01-24T22:35:17.866Z"
   },
   {
    "duration": 23,
    "start_time": "2023-01-24T22:35:18.005Z"
   },
   {
    "duration": 5,
    "start_time": "2023-01-24T22:35:18.030Z"
   },
   {
    "duration": 15,
    "start_time": "2023-01-24T22:35:18.036Z"
   },
   {
    "duration": 10,
    "start_time": "2023-01-24T22:35:18.052Z"
   },
   {
    "duration": 173,
    "start_time": "2023-01-24T22:35:18.082Z"
   },
   {
    "duration": 26,
    "start_time": "2023-01-24T22:35:18.257Z"
   },
   {
    "duration": 15,
    "start_time": "2023-01-24T22:35:18.285Z"
   },
   {
    "duration": 385,
    "start_time": "2023-01-24T22:35:18.301Z"
   },
   {
    "duration": 12,
    "start_time": "2023-01-24T22:35:18.687Z"
   },
   {
    "duration": 17,
    "start_time": "2023-01-24T22:35:18.700Z"
   },
   {
    "duration": 300,
    "start_time": "2023-01-24T22:35:18.719Z"
   },
   {
    "duration": 13,
    "start_time": "2023-01-24T22:35:19.021Z"
   },
   {
    "duration": 25,
    "start_time": "2023-01-24T22:35:19.036Z"
   },
   {
    "duration": 312,
    "start_time": "2023-01-24T22:35:19.062Z"
   },
   {
    "duration": 143,
    "start_time": "2023-01-24T22:35:19.376Z"
   },
   {
    "duration": 129,
    "start_time": "2023-01-24T22:35:19.521Z"
   },
   {
    "duration": 126,
    "start_time": "2023-01-24T22:35:19.652Z"
   },
   {
    "duration": 8,
    "start_time": "2023-01-24T22:35:27.284Z"
   },
   {
    "duration": 6,
    "start_time": "2023-01-24T22:35:28.234Z"
   },
   {
    "duration": 22,
    "start_time": "2023-01-24T22:35:48.233Z"
   },
   {
    "duration": 11,
    "start_time": "2023-01-24T22:35:59.301Z"
   },
   {
    "duration": 5,
    "start_time": "2023-01-24T22:36:00.381Z"
   },
   {
    "duration": 4,
    "start_time": "2023-01-24T22:36:42.462Z"
   },
   {
    "duration": 15,
    "start_time": "2023-01-24T22:36:42.468Z"
   },
   {
    "duration": 60,
    "start_time": "2023-01-24T22:36:42.484Z"
   },
   {
    "duration": 14,
    "start_time": "2023-01-24T22:36:42.546Z"
   },
   {
    "duration": 24,
    "start_time": "2023-01-24T22:36:42.561Z"
   },
   {
    "duration": 8,
    "start_time": "2023-01-24T22:36:42.586Z"
   },
   {
    "duration": 17,
    "start_time": "2023-01-24T22:36:42.595Z"
   },
   {
    "duration": 11,
    "start_time": "2023-01-24T22:36:42.614Z"
   },
   {
    "duration": 21,
    "start_time": "2023-01-24T22:36:42.627Z"
   },
   {
    "duration": 7,
    "start_time": "2023-01-24T22:36:42.651Z"
   },
   {
    "duration": 9,
    "start_time": "2023-01-24T22:36:42.660Z"
   },
   {
    "duration": 18,
    "start_time": "2023-01-24T22:36:42.671Z"
   },
   {
    "duration": 4,
    "start_time": "2023-01-24T22:36:46.338Z"
   },
   {
    "duration": 3,
    "start_time": "2023-01-24T22:36:54.311Z"
   },
   {
    "duration": 11,
    "start_time": "2023-01-24T22:36:54.318Z"
   },
   {
    "duration": 60,
    "start_time": "2023-01-24T22:36:54.331Z"
   },
   {
    "duration": 13,
    "start_time": "2023-01-24T22:36:54.393Z"
   },
   {
    "duration": 15,
    "start_time": "2023-01-24T22:36:54.408Z"
   },
   {
    "duration": 4,
    "start_time": "2023-01-24T22:36:54.424Z"
   },
   {
    "duration": 9,
    "start_time": "2023-01-24T22:36:54.429Z"
   },
   {
    "duration": 14,
    "start_time": "2023-01-24T22:36:54.440Z"
   },
   {
    "duration": 37,
    "start_time": "2023-01-24T22:36:54.455Z"
   },
   {
    "duration": 9,
    "start_time": "2023-01-24T22:36:54.493Z"
   },
   {
    "duration": 10,
    "start_time": "2023-01-24T22:36:54.505Z"
   },
   {
    "duration": 8,
    "start_time": "2023-01-24T22:36:54.517Z"
   },
   {
    "duration": 11,
    "start_time": "2023-01-24T22:36:54.526Z"
   },
   {
    "duration": 12,
    "start_time": "2023-01-24T22:36:54.539Z"
   },
   {
    "duration": 6,
    "start_time": "2023-01-24T22:36:54.553Z"
   },
   {
    "duration": 21,
    "start_time": "2023-01-24T22:37:07.644Z"
   },
   {
    "duration": 4,
    "start_time": "2023-01-24T22:37:22.725Z"
   },
   {
    "duration": 24,
    "start_time": "2023-01-24T22:37:22.730Z"
   },
   {
    "duration": 72,
    "start_time": "2023-01-24T22:37:22.759Z"
   },
   {
    "duration": 15,
    "start_time": "2023-01-24T22:37:22.833Z"
   },
   {
    "duration": 21,
    "start_time": "2023-01-24T22:37:22.850Z"
   },
   {
    "duration": 7,
    "start_time": "2023-01-24T22:37:22.873Z"
   },
   {
    "duration": 18,
    "start_time": "2023-01-24T22:37:22.882Z"
   },
   {
    "duration": 17,
    "start_time": "2023-01-24T22:37:22.901Z"
   },
   {
    "duration": 25,
    "start_time": "2023-01-24T22:37:22.920Z"
   },
   {
    "duration": 7,
    "start_time": "2023-01-24T22:37:22.947Z"
   },
   {
    "duration": 11,
    "start_time": "2023-01-24T22:37:22.957Z"
   },
   {
    "duration": 12,
    "start_time": "2023-01-24T22:37:22.970Z"
   },
   {
    "duration": 15,
    "start_time": "2023-01-24T22:37:22.984Z"
   },
   {
    "duration": 13,
    "start_time": "2023-01-24T22:37:23.000Z"
   },
   {
    "duration": 6,
    "start_time": "2023-01-24T22:37:23.014Z"
   },
   {
    "duration": 25,
    "start_time": "2023-01-24T22:37:23.022Z"
   },
   {
    "duration": 102,
    "start_time": "2023-01-24T22:37:23.048Z"
   },
   {
    "duration": 17,
    "start_time": "2023-01-24T22:37:23.152Z"
   },
   {
    "duration": 101,
    "start_time": "2023-01-24T22:37:23.182Z"
   },
   {
    "duration": 9,
    "start_time": "2023-01-24T22:37:23.284Z"
   },
   {
    "duration": 9,
    "start_time": "2023-01-24T22:37:23.294Z"
   },
   {
    "duration": 22,
    "start_time": "2023-01-24T22:37:23.305Z"
   },
   {
    "duration": 132,
    "start_time": "2023-01-24T22:37:23.329Z"
   },
   {
    "duration": 23,
    "start_time": "2023-01-24T22:37:23.463Z"
   },
   {
    "duration": 106,
    "start_time": "2023-01-24T22:37:23.487Z"
   },
   {
    "duration": 9,
    "start_time": "2023-01-24T22:37:23.595Z"
   },
   {
    "duration": 9,
    "start_time": "2023-01-24T22:37:23.606Z"
   },
   {
    "duration": 20,
    "start_time": "2023-01-24T22:37:23.617Z"
   },
   {
    "duration": 134,
    "start_time": "2023-01-24T22:37:23.640Z"
   },
   {
    "duration": 18,
    "start_time": "2023-01-24T22:37:23.781Z"
   },
   {
    "duration": 256,
    "start_time": "2023-01-24T22:37:23.801Z"
   },
   {
    "duration": 8,
    "start_time": "2023-01-24T22:37:24.058Z"
   },
   {
    "duration": 21,
    "start_time": "2023-01-24T22:37:24.067Z"
   },
   {
    "duration": 21,
    "start_time": "2023-01-24T22:37:24.089Z"
   },
   {
    "duration": 111,
    "start_time": "2023-01-24T22:37:24.111Z"
   },
   {
    "duration": 18,
    "start_time": "2023-01-24T22:37:24.224Z"
   },
   {
    "duration": 117,
    "start_time": "2023-01-24T22:37:24.243Z"
   },
   {
    "duration": 8,
    "start_time": "2023-01-24T22:37:24.361Z"
   },
   {
    "duration": 19,
    "start_time": "2023-01-24T22:37:24.370Z"
   },
   {
    "duration": 19,
    "start_time": "2023-01-24T22:37:24.390Z"
   },
   {
    "duration": 4,
    "start_time": "2023-01-24T22:37:24.410Z"
   },
   {
    "duration": 9,
    "start_time": "2023-01-24T22:37:24.416Z"
   },
   {
    "duration": 17,
    "start_time": "2023-01-24T22:37:24.426Z"
   },
   {
    "duration": 15,
    "start_time": "2023-01-24T22:37:24.445Z"
   },
   {
    "duration": 6,
    "start_time": "2023-01-24T22:37:24.482Z"
   },
   {
    "duration": 285,
    "start_time": "2023-01-24T22:37:24.489Z"
   },
   {
    "duration": 13,
    "start_time": "2023-01-24T22:37:24.775Z"
   },
   {
    "duration": 7,
    "start_time": "2023-01-24T22:37:24.790Z"
   },
   {
    "duration": 27,
    "start_time": "2023-01-24T22:37:24.798Z"
   },
   {
    "duration": 23,
    "start_time": "2023-01-24T22:37:24.827Z"
   },
   {
    "duration": 13,
    "start_time": "2023-01-24T22:37:24.852Z"
   },
   {
    "duration": 1915,
    "start_time": "2023-01-24T22:37:24.866Z"
   },
   {
    "duration": 6,
    "start_time": "2023-01-24T22:37:26.783Z"
   },
   {
    "duration": 22,
    "start_time": "2023-01-24T22:37:26.790Z"
   },
   {
    "duration": 20,
    "start_time": "2023-01-24T22:37:26.814Z"
   },
   {
    "duration": 13,
    "start_time": "2023-01-24T22:37:26.836Z"
   },
   {
    "duration": 10,
    "start_time": "2023-01-24T22:37:26.850Z"
   },
   {
    "duration": 100,
    "start_time": "2023-01-24T22:37:26.861Z"
   },
   {
    "duration": 3,
    "start_time": "2023-01-24T22:37:26.963Z"
   },
   {
    "duration": 18,
    "start_time": "2023-01-24T22:37:26.968Z"
   },
   {
    "duration": 18,
    "start_time": "2023-01-24T22:37:26.988Z"
   },
   {
    "duration": 7,
    "start_time": "2023-01-24T22:37:27.008Z"
   },
   {
    "duration": 130,
    "start_time": "2023-01-24T22:37:27.017Z"
   },
   {
    "duration": 141,
    "start_time": "2023-01-24T22:37:27.149Z"
   },
   {
    "duration": 23,
    "start_time": "2023-01-24T22:37:27.292Z"
   },
   {
    "duration": 6,
    "start_time": "2023-01-24T22:37:27.316Z"
   },
   {
    "duration": 14,
    "start_time": "2023-01-24T22:37:27.324Z"
   },
   {
    "duration": 8,
    "start_time": "2023-01-24T22:37:27.340Z"
   },
   {
    "duration": 183,
    "start_time": "2023-01-24T22:37:27.349Z"
   },
   {
    "duration": 16,
    "start_time": "2023-01-24T22:37:27.534Z"
   },
   {
    "duration": 17,
    "start_time": "2023-01-24T22:37:27.552Z"
   },
   {
    "duration": 298,
    "start_time": "2023-01-24T22:37:27.571Z"
   },
   {
    "duration": 18,
    "start_time": "2023-01-24T22:37:27.871Z"
   },
   {
    "duration": 21,
    "start_time": "2023-01-24T22:37:27.891Z"
   },
   {
    "duration": 313,
    "start_time": "2023-01-24T22:37:27.913Z"
   },
   {
    "duration": 11,
    "start_time": "2023-01-24T22:37:28.227Z"
   },
   {
    "duration": 14,
    "start_time": "2023-01-24T22:37:28.240Z"
   },
   {
    "duration": 457,
    "start_time": "2023-01-24T22:37:28.256Z"
   },
   {
    "duration": 155,
    "start_time": "2023-01-24T22:37:28.715Z"
   },
   {
    "duration": 161,
    "start_time": "2023-01-24T22:37:28.872Z"
   },
   {
    "duration": 160,
    "start_time": "2023-01-24T22:37:29.035Z"
   },
   {
    "duration": 11,
    "start_time": "2023-01-24T22:38:43.017Z"
   },
   {
    "duration": 13,
    "start_time": "2023-01-24T22:38:43.791Z"
   },
   {
    "duration": 595,
    "start_time": "2023-01-24T22:38:48.370Z"
   },
   {
    "duration": 4,
    "start_time": "2023-01-24T22:49:55.572Z"
   },
   {
    "duration": 4,
    "start_time": "2023-01-24T22:50:08.088Z"
   },
   {
    "duration": 13,
    "start_time": "2023-01-24T22:50:08.095Z"
   },
   {
    "duration": 56,
    "start_time": "2023-01-24T22:50:08.110Z"
   },
   {
    "duration": 14,
    "start_time": "2023-01-24T22:50:08.167Z"
   },
   {
    "duration": 19,
    "start_time": "2023-01-24T22:50:08.183Z"
   },
   {
    "duration": 3,
    "start_time": "2023-01-24T22:50:08.204Z"
   },
   {
    "duration": 9,
    "start_time": "2023-01-24T22:50:08.209Z"
   },
   {
    "duration": 14,
    "start_time": "2023-01-24T22:50:08.220Z"
   },
   {
    "duration": 21,
    "start_time": "2023-01-24T22:50:08.235Z"
   },
   {
    "duration": 10,
    "start_time": "2023-01-24T22:50:08.281Z"
   },
   {
    "duration": 26,
    "start_time": "2023-01-24T22:50:08.292Z"
   },
   {
    "duration": 7,
    "start_time": "2023-01-24T22:50:08.320Z"
   },
   {
    "duration": 7,
    "start_time": "2023-01-24T22:50:08.328Z"
   },
   {
    "duration": 9,
    "start_time": "2023-01-24T22:50:08.337Z"
   },
   {
    "duration": 5,
    "start_time": "2023-01-24T22:50:08.348Z"
   },
   {
    "duration": 37,
    "start_time": "2023-01-24T22:50:08.354Z"
   },
   {
    "duration": 120,
    "start_time": "2023-01-24T22:50:08.393Z"
   },
   {
    "duration": 20,
    "start_time": "2023-01-24T22:50:08.515Z"
   },
   {
    "duration": 212,
    "start_time": "2023-01-24T22:50:08.536Z"
   },
   {
    "duration": 9,
    "start_time": "2023-01-24T22:50:08.750Z"
   },
   {
    "duration": 22,
    "start_time": "2023-01-24T22:50:08.761Z"
   },
   {
    "duration": 23,
    "start_time": "2023-01-24T22:50:08.785Z"
   },
   {
    "duration": 123,
    "start_time": "2023-01-24T22:50:08.810Z"
   },
   {
    "duration": 18,
    "start_time": "2023-01-24T22:50:08.935Z"
   },
   {
    "duration": 119,
    "start_time": "2023-01-24T22:50:08.957Z"
   },
   {
    "duration": 8,
    "start_time": "2023-01-24T22:50:09.081Z"
   },
   {
    "duration": 11,
    "start_time": "2023-01-24T22:50:09.090Z"
   },
   {
    "duration": 23,
    "start_time": "2023-01-24T22:50:09.102Z"
   },
   {
    "duration": 129,
    "start_time": "2023-01-24T22:50:09.126Z"
   },
   {
    "duration": 25,
    "start_time": "2023-01-24T22:50:09.257Z"
   },
   {
    "duration": 126,
    "start_time": "2023-01-24T22:50:09.284Z"
   },
   {
    "duration": 9,
    "start_time": "2023-01-24T22:50:09.412Z"
   },
   {
    "duration": 14,
    "start_time": "2023-01-24T22:50:09.422Z"
   },
   {
    "duration": 22,
    "start_time": "2023-01-24T22:50:09.438Z"
   },
   {
    "duration": 134,
    "start_time": "2023-01-24T22:50:09.461Z"
   },
   {
    "duration": 19,
    "start_time": "2023-01-24T22:50:09.596Z"
   },
   {
    "duration": 133,
    "start_time": "2023-01-24T22:50:09.617Z"
   },
   {
    "duration": 7,
    "start_time": "2023-01-24T22:50:09.752Z"
   },
   {
    "duration": 23,
    "start_time": "2023-01-24T22:50:09.761Z"
   },
   {
    "duration": 21,
    "start_time": "2023-01-24T22:50:09.786Z"
   },
   {
    "duration": 4,
    "start_time": "2023-01-24T22:50:09.809Z"
   },
   {
    "duration": 8,
    "start_time": "2023-01-24T22:50:09.815Z"
   },
   {
    "duration": 28,
    "start_time": "2023-01-24T22:50:09.825Z"
   },
   {
    "duration": 21,
    "start_time": "2023-01-24T22:50:09.855Z"
   },
   {
    "duration": 8,
    "start_time": "2023-01-24T22:50:09.878Z"
   },
   {
    "duration": 304,
    "start_time": "2023-01-24T22:50:09.887Z"
   },
   {
    "duration": 11,
    "start_time": "2023-01-24T22:50:10.193Z"
   },
   {
    "duration": 7,
    "start_time": "2023-01-24T22:50:10.205Z"
   },
   {
    "duration": 6,
    "start_time": "2023-01-24T22:50:10.214Z"
   },
   {
    "duration": 21,
    "start_time": "2023-01-24T22:50:10.222Z"
   },
   {
    "duration": 10,
    "start_time": "2023-01-24T22:50:10.245Z"
   },
   {
    "duration": 1983,
    "start_time": "2023-01-24T22:50:10.257Z"
   },
   {
    "duration": 6,
    "start_time": "2023-01-24T22:50:12.242Z"
   },
   {
    "duration": 18,
    "start_time": "2023-01-24T22:50:12.250Z"
   },
   {
    "duration": 12,
    "start_time": "2023-01-24T22:50:12.281Z"
   },
   {
    "duration": 14,
    "start_time": "2023-01-24T22:50:12.294Z"
   },
   {
    "duration": 12,
    "start_time": "2023-01-24T22:50:12.309Z"
   },
   {
    "duration": 103,
    "start_time": "2023-01-24T22:50:12.322Z"
   },
   {
    "duration": 4,
    "start_time": "2023-01-24T22:50:12.426Z"
   },
   {
    "duration": 14,
    "start_time": "2023-01-24T22:50:12.432Z"
   },
   {
    "duration": 10,
    "start_time": "2023-01-24T22:50:12.448Z"
   },
   {
    "duration": 7,
    "start_time": "2023-01-24T22:50:12.460Z"
   },
   {
    "duration": 156,
    "start_time": "2023-01-24T22:50:12.469Z"
   },
   {
    "duration": 144,
    "start_time": "2023-01-24T22:50:12.627Z"
   },
   {
    "duration": 30,
    "start_time": "2023-01-24T22:50:12.773Z"
   },
   {
    "duration": 6,
    "start_time": "2023-01-24T22:50:12.805Z"
   },
   {
    "duration": 25,
    "start_time": "2023-01-24T22:50:12.812Z"
   },
   {
    "duration": 7,
    "start_time": "2023-01-24T22:50:12.838Z"
   },
   {
    "duration": 188,
    "start_time": "2023-01-24T22:50:12.847Z"
   },
   {
    "duration": 11,
    "start_time": "2023-01-24T22:50:13.041Z"
   },
   {
    "duration": 33,
    "start_time": "2023-01-24T22:50:13.054Z"
   },
   {
    "duration": 453,
    "start_time": "2023-01-24T22:50:13.089Z"
   },
   {
    "duration": 12,
    "start_time": "2023-01-24T22:50:13.544Z"
   },
   {
    "duration": 34,
    "start_time": "2023-01-24T22:50:13.558Z"
   },
   {
    "duration": 352,
    "start_time": "2023-01-24T22:50:13.594Z"
   },
   {
    "duration": 12,
    "start_time": "2023-01-24T22:50:13.948Z"
   },
   {
    "duration": 26,
    "start_time": "2023-01-24T22:50:13.962Z"
   },
   {
    "duration": 339,
    "start_time": "2023-01-24T22:50:13.989Z"
   },
   {
    "duration": 132,
    "start_time": "2023-01-24T22:50:14.330Z"
   },
   {
    "duration": 151,
    "start_time": "2023-01-24T22:50:14.463Z"
   },
   {
    "duration": 137,
    "start_time": "2023-01-24T22:50:14.616Z"
   },
   {
    "duration": 11,
    "start_time": "2023-01-24T22:50:14.755Z"
   },
   {
    "duration": 33,
    "start_time": "2023-01-24T22:50:14.767Z"
   },
   {
    "duration": 691,
    "start_time": "2023-01-24T22:50:14.802Z"
   },
   {
    "duration": 6,
    "start_time": "2023-01-25T09:19:28.376Z"
   },
   {
    "duration": 1428,
    "start_time": "2023-01-25T09:19:28.384Z"
   },
   {
    "duration": 94,
    "start_time": "2023-01-25T09:19:29.814Z"
   },
   {
    "duration": 20,
    "start_time": "2023-01-25T09:19:29.909Z"
   },
   {
    "duration": 14,
    "start_time": "2023-01-25T09:19:29.931Z"
   },
   {
    "duration": 4,
    "start_time": "2023-01-25T09:19:29.947Z"
   },
   {
    "duration": 7,
    "start_time": "2023-01-25T09:19:29.953Z"
   },
   {
    "duration": 15,
    "start_time": "2023-01-25T09:19:29.963Z"
   },
   {
    "duration": 54,
    "start_time": "2023-01-25T09:19:30.003Z"
   },
   {
    "duration": 10,
    "start_time": "2023-01-25T09:19:30.059Z"
   },
   {
    "duration": 20,
    "start_time": "2023-01-25T09:19:30.072Z"
   },
   {
    "duration": 17,
    "start_time": "2023-01-25T09:19:30.103Z"
   },
   {
    "duration": 33,
    "start_time": "2023-01-25T09:19:30.123Z"
   },
   {
    "duration": 32,
    "start_time": "2023-01-25T09:19:30.158Z"
   },
   {
    "duration": 21,
    "start_time": "2023-01-25T09:19:30.193Z"
   },
   {
    "duration": 52,
    "start_time": "2023-01-25T09:19:30.216Z"
   },
   {
    "duration": 154,
    "start_time": "2023-01-25T09:19:30.270Z"
   },
   {
    "duration": 19,
    "start_time": "2023-01-25T09:19:30.426Z"
   },
   {
    "duration": 144,
    "start_time": "2023-01-25T09:19:30.447Z"
   },
   {
    "duration": 18,
    "start_time": "2023-01-25T09:19:30.593Z"
   },
   {
    "duration": 29,
    "start_time": "2023-01-25T09:19:30.613Z"
   },
   {
    "duration": 46,
    "start_time": "2023-01-25T09:19:30.644Z"
   },
   {
    "duration": 123,
    "start_time": "2023-01-25T09:19:30.691Z"
   },
   {
    "duration": 18,
    "start_time": "2023-01-25T09:19:30.816Z"
   },
   {
    "duration": 120,
    "start_time": "2023-01-25T09:19:30.835Z"
   },
   {
    "duration": 9,
    "start_time": "2023-01-25T09:19:30.956Z"
   },
   {
    "duration": 38,
    "start_time": "2023-01-25T09:19:30.966Z"
   },
   {
    "duration": 55,
    "start_time": "2023-01-25T09:19:31.006Z"
   },
   {
    "duration": 115,
    "start_time": "2023-01-25T09:19:31.066Z"
   },
   {
    "duration": 23,
    "start_time": "2023-01-25T09:19:31.183Z"
   },
   {
    "duration": 160,
    "start_time": "2023-01-25T09:19:31.208Z"
   },
   {
    "duration": 9,
    "start_time": "2023-01-25T09:19:31.370Z"
   },
   {
    "duration": 26,
    "start_time": "2023-01-25T09:19:31.381Z"
   },
   {
    "duration": 29,
    "start_time": "2023-01-25T09:19:31.409Z"
   },
   {
    "duration": 110,
    "start_time": "2023-01-25T09:19:31.440Z"
   },
   {
    "duration": 18,
    "start_time": "2023-01-25T09:19:31.551Z"
   },
   {
    "duration": 193,
    "start_time": "2023-01-25T09:19:31.570Z"
   },
   {
    "duration": 9,
    "start_time": "2023-01-25T09:19:31.765Z"
   },
   {
    "duration": 12,
    "start_time": "2023-01-25T09:19:31.775Z"
   },
   {
    "duration": 31,
    "start_time": "2023-01-25T09:19:31.803Z"
   },
   {
    "duration": 5,
    "start_time": "2023-01-25T09:19:31.836Z"
   },
   {
    "duration": 9,
    "start_time": "2023-01-25T09:19:31.843Z"
   },
   {
    "duration": 24,
    "start_time": "2023-01-25T09:19:31.854Z"
   },
   {
    "duration": 41,
    "start_time": "2023-01-25T09:19:31.881Z"
   },
   {
    "duration": 8,
    "start_time": "2023-01-25T09:19:31.924Z"
   },
   {
    "duration": 303,
    "start_time": "2023-01-25T09:19:31.934Z"
   },
   {
    "duration": 11,
    "start_time": "2023-01-25T09:19:32.239Z"
   },
   {
    "duration": 7,
    "start_time": "2023-01-25T09:19:32.253Z"
   },
   {
    "duration": 5,
    "start_time": "2023-01-25T09:19:32.262Z"
   },
   {
    "duration": 39,
    "start_time": "2023-01-25T09:19:32.269Z"
   },
   {
    "duration": 10,
    "start_time": "2023-01-25T09:19:32.310Z"
   },
   {
    "duration": 2045,
    "start_time": "2023-01-25T09:19:32.322Z"
   },
   {
    "duration": 10,
    "start_time": "2023-01-25T09:19:34.369Z"
   },
   {
    "duration": 31,
    "start_time": "2023-01-25T09:19:34.381Z"
   },
   {
    "duration": 29,
    "start_time": "2023-01-25T09:19:34.414Z"
   },
   {
    "duration": 24,
    "start_time": "2023-01-25T09:19:34.445Z"
   },
   {
    "duration": 21,
    "start_time": "2023-01-25T09:19:34.471Z"
   },
   {
    "duration": 169,
    "start_time": "2023-01-25T09:19:34.494Z"
   },
   {
    "duration": 4,
    "start_time": "2023-01-25T09:19:34.666Z"
   },
   {
    "duration": 35,
    "start_time": "2023-01-25T09:19:34.673Z"
   },
   {
    "duration": 38,
    "start_time": "2023-01-25T09:19:34.710Z"
   },
   {
    "duration": 32,
    "start_time": "2023-01-25T09:19:34.750Z"
   },
   {
    "duration": 191,
    "start_time": "2023-01-25T09:19:34.784Z"
   },
   {
    "duration": 149,
    "start_time": "2023-01-25T09:19:34.977Z"
   },
   {
    "duration": 23,
    "start_time": "2023-01-25T09:19:35.127Z"
   },
   {
    "duration": 5,
    "start_time": "2023-01-25T09:19:35.152Z"
   },
   {
    "duration": 18,
    "start_time": "2023-01-25T09:19:35.159Z"
   },
   {
    "duration": 27,
    "start_time": "2023-01-25T09:19:35.179Z"
   },
   {
    "duration": 195,
    "start_time": "2023-01-25T09:19:35.208Z"
   },
   {
    "duration": 12,
    "start_time": "2023-01-25T09:19:35.404Z"
   },
   {
    "duration": 13,
    "start_time": "2023-01-25T09:19:35.418Z"
   },
   {
    "duration": 325,
    "start_time": "2023-01-25T09:19:35.433Z"
   },
   {
    "duration": 11,
    "start_time": "2023-01-25T09:19:35.760Z"
   },
   {
    "duration": 14,
    "start_time": "2023-01-25T09:19:35.773Z"
   },
   {
    "duration": 341,
    "start_time": "2023-01-25T09:19:35.788Z"
   },
   {
    "duration": 11,
    "start_time": "2023-01-25T09:19:36.131Z"
   },
   {
    "duration": 40,
    "start_time": "2023-01-25T09:19:36.144Z"
   },
   {
    "duration": 344,
    "start_time": "2023-01-25T09:19:36.186Z"
   },
   {
    "duration": 148,
    "start_time": "2023-01-25T09:19:36.532Z"
   },
   {
    "duration": 251,
    "start_time": "2023-01-25T09:19:36.682Z"
   },
   {
    "duration": 139,
    "start_time": "2023-01-25T09:19:36.935Z"
   },
   {
    "duration": 14,
    "start_time": "2023-01-25T09:19:37.077Z"
   },
   {
    "duration": 13,
    "start_time": "2023-01-25T09:19:37.109Z"
   },
   {
    "duration": 713,
    "start_time": "2023-01-25T09:19:37.124Z"
   },
   {
    "duration": 5,
    "start_time": "2023-01-25T09:19:37.839Z"
   },
   {
    "duration": 14,
    "start_time": "2023-01-25T09:19:37.847Z"
   },
   {
    "duration": 9,
    "start_time": "2023-01-25T09:19:37.863Z"
   },
   {
    "duration": 10,
    "start_time": "2023-01-25T09:19:37.874Z"
   },
   {
    "duration": 17,
    "start_time": "2023-01-25T09:19:37.886Z"
   },
   {
    "duration": 9,
    "start_time": "2023-01-25T09:19:37.905Z"
   },
   {
    "duration": 208,
    "start_time": "2023-01-25T09:39:44.525Z"
   },
   {
    "duration": 110,
    "start_time": "2023-01-25T09:40:12.321Z"
   },
   {
    "duration": 14,
    "start_time": "2023-01-25T09:44:27.824Z"
   },
   {
    "duration": 293,
    "start_time": "2023-01-25T09:45:25.298Z"
   },
   {
    "duration": 14,
    "start_time": "2023-01-25T09:46:13.553Z"
   },
   {
    "duration": 10,
    "start_time": "2023-01-25T09:47:53.144Z"
   },
   {
    "duration": 9,
    "start_time": "2023-01-25T09:47:53.720Z"
   },
   {
    "duration": 4,
    "start_time": "2023-01-25T09:48:05.592Z"
   },
   {
    "duration": 7,
    "start_time": "2023-01-25T09:48:06.208Z"
   },
   {
    "duration": 15,
    "start_time": "2023-01-25T09:48:10.072Z"
   },
   {
    "duration": 223,
    "start_time": "2023-01-25T09:48:24.828Z"
   },
   {
    "duration": 241,
    "start_time": "2023-01-25T09:48:46.769Z"
   },
   {
    "duration": 1142,
    "start_time": "2023-01-25T09:53:01.097Z"
   },
   {
    "duration": 11,
    "start_time": "2023-01-25T09:53:14.436Z"
   },
   {
    "duration": 16,
    "start_time": "2023-01-25T09:53:45.130Z"
   },
   {
    "duration": 11,
    "start_time": "2023-01-25T09:53:51.730Z"
   },
   {
    "duration": 10,
    "start_time": "2023-01-25T09:54:17.548Z"
   },
   {
    "duration": 36,
    "start_time": "2023-01-25T09:55:07.690Z"
   },
   {
    "duration": 21,
    "start_time": "2023-01-25T09:56:10.177Z"
   },
   {
    "duration": 25,
    "start_time": "2023-01-25T09:56:38.215Z"
   },
   {
    "duration": 15,
    "start_time": "2023-01-25T09:56:50.673Z"
   },
   {
    "duration": 15,
    "start_time": "2023-01-25T09:57:03.779Z"
   },
   {
    "duration": 16,
    "start_time": "2023-01-25T09:57:25.346Z"
   },
   {
    "duration": 29,
    "start_time": "2023-01-25T09:57:48.378Z"
   },
   {
    "duration": 14,
    "start_time": "2023-01-25T09:57:49.077Z"
   },
   {
    "duration": 15,
    "start_time": "2023-01-25T09:57:52.368Z"
   },
   {
    "duration": 5,
    "start_time": "2023-01-25T09:59:57.495Z"
   },
   {
    "duration": 23,
    "start_time": "2023-01-25T10:00:05.958Z"
   },
   {
    "duration": 13,
    "start_time": "2023-01-25T10:00:14.836Z"
   },
   {
    "duration": 124,
    "start_time": "2023-01-25T10:00:43.532Z"
   },
   {
    "duration": 93,
    "start_time": "2023-01-25T10:00:50.030Z"
   },
   {
    "duration": 387,
    "start_time": "2023-01-25T10:05:10.733Z"
   },
   {
    "duration": 387,
    "start_time": "2023-01-25T10:05:58.535Z"
   },
   {
    "duration": 520,
    "start_time": "2023-01-25T10:06:05.711Z"
   },
   {
    "duration": 267,
    "start_time": "2023-01-25T10:06:38.255Z"
   },
   {
    "duration": 116,
    "start_time": "2023-01-25T10:08:05.746Z"
   },
   {
    "duration": 16,
    "start_time": "2023-01-25T10:08:24.316Z"
   },
   {
    "duration": 10,
    "start_time": "2023-01-25T10:08:35.544Z"
   },
   {
    "duration": 13,
    "start_time": "2023-01-25T10:09:14.642Z"
   },
   {
    "duration": 14,
    "start_time": "2023-01-25T10:09:30.872Z"
   },
   {
    "duration": 12,
    "start_time": "2023-01-25T10:09:36.051Z"
   },
   {
    "duration": 26,
    "start_time": "2023-01-25T10:10:09.040Z"
   },
   {
    "duration": 295,
    "start_time": "2023-01-25T10:10:21.191Z"
   },
   {
    "duration": 37,
    "start_time": "2023-01-25T10:16:11.040Z"
   },
   {
    "duration": 22,
    "start_time": "2023-01-25T10:16:21.270Z"
   },
   {
    "duration": 15,
    "start_time": "2023-01-25T10:16:23.638Z"
   },
   {
    "duration": 132,
    "start_time": "2023-01-25T10:16:43.705Z"
   },
   {
    "duration": 38,
    "start_time": "2023-01-25T10:16:56.118Z"
   },
   {
    "duration": 230,
    "start_time": "2023-01-25T10:17:18.690Z"
   },
   {
    "duration": 214,
    "start_time": "2023-01-25T10:27:11.790Z"
   },
   {
    "duration": 316,
    "start_time": "2023-01-25T10:27:35.966Z"
   },
   {
    "duration": 226,
    "start_time": "2023-01-25T10:27:51.765Z"
   },
   {
    "duration": 300,
    "start_time": "2023-01-25T10:28:06.919Z"
   },
   {
    "duration": 252,
    "start_time": "2023-01-25T10:28:15.391Z"
   },
   {
    "duration": 247,
    "start_time": "2023-01-25T10:46:24.558Z"
   },
   {
    "duration": 330,
    "start_time": "2023-01-25T10:50:36.373Z"
   },
   {
    "duration": 346,
    "start_time": "2023-01-25T10:50:55.519Z"
   },
   {
    "duration": 243,
    "start_time": "2023-01-25T10:51:13.072Z"
   },
   {
    "duration": 244,
    "start_time": "2023-01-25T10:51:26.987Z"
   },
   {
    "duration": 246,
    "start_time": "2023-01-25T10:51:38.387Z"
   },
   {
    "duration": 25,
    "start_time": "2023-01-25T11:09:00.136Z"
   },
   {
    "duration": 35,
    "start_time": "2023-01-25T11:09:27.526Z"
   },
   {
    "duration": 28,
    "start_time": "2023-01-25T11:11:20.214Z"
   },
   {
    "duration": 23,
    "start_time": "2023-01-25T11:11:49.383Z"
   },
   {
    "duration": 25,
    "start_time": "2023-01-25T11:12:06.973Z"
   },
   {
    "duration": 30,
    "start_time": "2023-01-25T11:12:38.915Z"
   },
   {
    "duration": 25,
    "start_time": "2023-01-25T11:13:29.828Z"
   },
   {
    "duration": 25,
    "start_time": "2023-01-25T11:13:56.683Z"
   },
   {
    "duration": 5,
    "start_time": "2023-01-25T11:34:23.237Z"
   },
   {
    "duration": 1356,
    "start_time": "2023-01-25T11:34:23.245Z"
   },
   {
    "duration": 198,
    "start_time": "2023-01-25T11:34:24.603Z"
   },
   {
    "duration": 19,
    "start_time": "2023-01-25T11:34:24.803Z"
   },
   {
    "duration": 15,
    "start_time": "2023-01-25T11:34:24.824Z"
   },
   {
    "duration": 15,
    "start_time": "2023-01-25T11:34:24.840Z"
   },
   {
    "duration": 9,
    "start_time": "2023-01-25T11:34:24.857Z"
   },
   {
    "duration": 13,
    "start_time": "2023-01-25T11:34:24.868Z"
   },
   {
    "duration": 72,
    "start_time": "2023-01-25T11:34:24.882Z"
   },
   {
    "duration": 11,
    "start_time": "2023-01-25T11:34:24.956Z"
   },
   {
    "duration": 23,
    "start_time": "2023-01-25T11:34:24.970Z"
   },
   {
    "duration": 4,
    "start_time": "2023-01-25T11:34:24.995Z"
   },
   {
    "duration": 8,
    "start_time": "2023-01-25T11:34:25.001Z"
   },
   {
    "duration": 11,
    "start_time": "2023-01-25T11:34:25.011Z"
   },
   {
    "duration": 18,
    "start_time": "2023-01-25T11:34:25.024Z"
   },
   {
    "duration": 28,
    "start_time": "2023-01-25T11:34:25.044Z"
   },
   {
    "duration": 121,
    "start_time": "2023-01-25T11:34:25.073Z"
   },
   {
    "duration": 22,
    "start_time": "2023-01-25T11:34:25.196Z"
   },
   {
    "duration": 120,
    "start_time": "2023-01-25T11:34:25.220Z"
   },
   {
    "duration": 9,
    "start_time": "2023-01-25T11:34:25.341Z"
   },
   {
    "duration": 25,
    "start_time": "2023-01-25T11:34:25.352Z"
   },
   {
    "duration": 24,
    "start_time": "2023-01-25T11:34:25.379Z"
   },
   {
    "duration": 121,
    "start_time": "2023-01-25T11:34:25.405Z"
   },
   {
    "duration": 29,
    "start_time": "2023-01-25T11:34:25.528Z"
   },
   {
    "duration": 134,
    "start_time": "2023-01-25T11:34:25.559Z"
   },
   {
    "duration": 8,
    "start_time": "2023-01-25T11:34:25.695Z"
   },
   {
    "duration": 45,
    "start_time": "2023-01-25T11:34:25.704Z"
   },
   {
    "duration": 21,
    "start_time": "2023-01-25T11:34:25.751Z"
   },
   {
    "duration": 109,
    "start_time": "2023-01-25T11:34:25.776Z"
   },
   {
    "duration": 27,
    "start_time": "2023-01-25T11:34:25.891Z"
   },
   {
    "duration": 127,
    "start_time": "2023-01-25T11:34:25.920Z"
   },
   {
    "duration": 8,
    "start_time": "2023-01-25T11:34:26.049Z"
   },
   {
    "duration": 10,
    "start_time": "2023-01-25T11:34:26.059Z"
   },
   {
    "duration": 42,
    "start_time": "2023-01-25T11:34:26.070Z"
   },
   {
    "duration": 148,
    "start_time": "2023-01-25T11:34:26.114Z"
   },
   {
    "duration": 39,
    "start_time": "2023-01-25T11:34:26.264Z"
   },
   {
    "duration": 231,
    "start_time": "2023-01-25T11:34:26.305Z"
   },
   {
    "duration": 9,
    "start_time": "2023-01-25T11:34:26.538Z"
   },
   {
    "duration": 12,
    "start_time": "2023-01-25T11:34:26.548Z"
   },
   {
    "duration": 45,
    "start_time": "2023-01-25T11:34:26.562Z"
   },
   {
    "duration": 5,
    "start_time": "2023-01-25T11:34:26.609Z"
   },
   {
    "duration": 7,
    "start_time": "2023-01-25T11:34:26.616Z"
   },
   {
    "duration": 24,
    "start_time": "2023-01-25T11:34:26.625Z"
   },
   {
    "duration": 19,
    "start_time": "2023-01-25T11:34:26.651Z"
   },
   {
    "duration": 22,
    "start_time": "2023-01-25T11:34:26.671Z"
   },
   {
    "duration": 297,
    "start_time": "2023-01-25T11:34:26.695Z"
   },
   {
    "duration": 12,
    "start_time": "2023-01-25T11:34:26.993Z"
   },
   {
    "duration": 7,
    "start_time": "2023-01-25T11:34:27.006Z"
   },
   {
    "duration": 5,
    "start_time": "2023-01-25T11:34:27.014Z"
   },
   {
    "duration": 19,
    "start_time": "2023-01-25T11:34:27.020Z"
   },
   {
    "duration": 9,
    "start_time": "2023-01-25T11:34:27.041Z"
   },
   {
    "duration": 2093,
    "start_time": "2023-01-25T11:34:27.052Z"
   },
   {
    "duration": 6,
    "start_time": "2023-01-25T11:34:29.146Z"
   },
   {
    "duration": 17,
    "start_time": "2023-01-25T11:34:29.154Z"
   },
   {
    "duration": 24,
    "start_time": "2023-01-25T11:34:29.173Z"
   },
   {
    "duration": 13,
    "start_time": "2023-01-25T11:34:29.199Z"
   },
   {
    "duration": 11,
    "start_time": "2023-01-25T11:34:29.214Z"
   },
   {
    "duration": 49,
    "start_time": "2023-01-25T11:34:29.228Z"
   },
   {
    "duration": 257,
    "start_time": "2023-01-25T11:34:29.278Z"
   },
   {
    "duration": 257,
    "start_time": "2023-01-25T11:34:29.536Z"
   },
   {
    "duration": 4,
    "start_time": "2023-01-25T11:34:29.795Z"
   },
   {
    "duration": 10,
    "start_time": "2023-01-25T11:34:29.801Z"
   },
   {
    "duration": 8,
    "start_time": "2023-01-25T11:34:29.813Z"
   },
   {
    "duration": 7,
    "start_time": "2023-01-25T11:34:29.822Z"
   },
   {
    "duration": 165,
    "start_time": "2023-01-25T11:34:29.830Z"
   },
   {
    "duration": 152,
    "start_time": "2023-01-25T11:34:29.996Z"
   },
   {
    "duration": 24,
    "start_time": "2023-01-25T11:34:30.149Z"
   },
   {
    "duration": 19,
    "start_time": "2023-01-25T11:34:30.174Z"
   },
   {
    "duration": 23,
    "start_time": "2023-01-25T11:34:30.195Z"
   },
   {
    "duration": 38,
    "start_time": "2023-01-25T11:34:30.220Z"
   },
   {
    "duration": 207,
    "start_time": "2023-01-25T11:34:30.260Z"
   },
   {
    "duration": 24,
    "start_time": "2023-01-25T11:34:30.469Z"
   },
   {
    "duration": 37,
    "start_time": "2023-01-25T11:34:30.495Z"
   },
   {
    "duration": 342,
    "start_time": "2023-01-25T11:34:30.533Z"
   },
   {
    "duration": 21,
    "start_time": "2023-01-25T11:34:30.876Z"
   },
   {
    "duration": 32,
    "start_time": "2023-01-25T11:34:30.898Z"
   },
   {
    "duration": 350,
    "start_time": "2023-01-25T11:34:30.931Z"
   },
   {
    "duration": 19,
    "start_time": "2023-01-25T11:34:31.283Z"
   },
   {
    "duration": 40,
    "start_time": "2023-01-25T11:34:31.304Z"
   },
   {
    "duration": 467,
    "start_time": "2023-01-25T11:34:31.346Z"
   },
   {
    "duration": 148,
    "start_time": "2023-01-25T11:34:31.815Z"
   },
   {
    "duration": 168,
    "start_time": "2023-01-25T11:34:31.965Z"
   },
   {
    "duration": 140,
    "start_time": "2023-01-25T11:34:32.139Z"
   },
   {
    "duration": 18,
    "start_time": "2023-01-25T11:34:32.281Z"
   },
   {
    "duration": 14,
    "start_time": "2023-01-25T11:34:32.301Z"
   },
   {
    "duration": 685,
    "start_time": "2023-01-25T11:34:32.318Z"
   },
   {
    "duration": 5,
    "start_time": "2023-01-25T11:34:33.005Z"
   },
   {
    "duration": 20,
    "start_time": "2023-01-25T11:34:33.012Z"
   },
   {
    "duration": 6,
    "start_time": "2023-01-25T11:34:33.034Z"
   },
   {
    "duration": 11,
    "start_time": "2023-01-25T11:34:33.042Z"
   },
   {
    "duration": 7,
    "start_time": "2023-01-25T11:34:33.055Z"
   },
   {
    "duration": 11,
    "start_time": "2023-01-25T11:34:33.064Z"
   },
   {
    "duration": 314,
    "start_time": "2023-01-25T11:35:36.238Z"
   },
   {
    "duration": 177,
    "start_time": "2023-01-25T11:36:04.097Z"
   },
   {
    "duration": 222,
    "start_time": "2023-01-25T11:36:46.310Z"
   },
   {
    "duration": 4,
    "start_time": "2023-01-25T11:42:16.117Z"
   },
   {
    "duration": 15,
    "start_time": "2023-01-25T11:42:16.124Z"
   },
   {
    "duration": 72,
    "start_time": "2023-01-25T11:42:16.141Z"
   },
   {
    "duration": 20,
    "start_time": "2023-01-25T11:42:16.215Z"
   },
   {
    "duration": 25,
    "start_time": "2023-01-25T11:42:16.237Z"
   },
   {
    "duration": 27,
    "start_time": "2023-01-25T11:42:16.267Z"
   },
   {
    "duration": 23,
    "start_time": "2023-01-25T11:42:16.296Z"
   },
   {
    "duration": 24,
    "start_time": "2023-01-25T11:42:16.321Z"
   },
   {
    "duration": 32,
    "start_time": "2023-01-25T11:42:16.347Z"
   },
   {
    "duration": 10,
    "start_time": "2023-01-25T11:42:16.383Z"
   },
   {
    "duration": 8,
    "start_time": "2023-01-25T11:42:16.395Z"
   },
   {
    "duration": 7,
    "start_time": "2023-01-25T11:42:16.404Z"
   },
   {
    "duration": 8,
    "start_time": "2023-01-25T11:42:16.413Z"
   },
   {
    "duration": 39,
    "start_time": "2023-01-25T11:42:16.423Z"
   },
   {
    "duration": 10,
    "start_time": "2023-01-25T11:42:16.464Z"
   },
   {
    "duration": 30,
    "start_time": "2023-01-25T11:42:16.476Z"
   },
   {
    "duration": 116,
    "start_time": "2023-01-25T11:42:16.508Z"
   },
   {
    "duration": 18,
    "start_time": "2023-01-25T11:42:16.625Z"
   },
   {
    "duration": 115,
    "start_time": "2023-01-25T11:42:16.645Z"
   },
   {
    "duration": 8,
    "start_time": "2023-01-25T11:42:16.762Z"
   },
   {
    "duration": 26,
    "start_time": "2023-01-25T11:42:16.772Z"
   },
   {
    "duration": 22,
    "start_time": "2023-01-25T11:42:16.799Z"
   },
   {
    "duration": 129,
    "start_time": "2023-01-25T11:42:16.823Z"
   },
   {
    "duration": 19,
    "start_time": "2023-01-25T11:42:16.953Z"
   },
   {
    "duration": 119,
    "start_time": "2023-01-25T11:42:16.975Z"
   },
   {
    "duration": 9,
    "start_time": "2023-01-25T11:42:17.095Z"
   },
   {
    "duration": 10,
    "start_time": "2023-01-25T11:42:17.106Z"
   },
   {
    "duration": 38,
    "start_time": "2023-01-25T11:42:17.117Z"
   },
   {
    "duration": 130,
    "start_time": "2023-01-25T11:42:17.157Z"
   },
   {
    "duration": 19,
    "start_time": "2023-01-25T11:42:17.289Z"
   },
   {
    "duration": 125,
    "start_time": "2023-01-25T11:42:17.310Z"
   },
   {
    "duration": 9,
    "start_time": "2023-01-25T11:42:17.437Z"
   },
   {
    "duration": 15,
    "start_time": "2023-01-25T11:42:17.449Z"
   },
   {
    "duration": 42,
    "start_time": "2023-01-25T11:42:17.466Z"
   },
   {
    "duration": 120,
    "start_time": "2023-01-25T11:42:17.510Z"
   },
   {
    "duration": 18,
    "start_time": "2023-01-25T11:42:17.631Z"
   },
   {
    "duration": 132,
    "start_time": "2023-01-25T11:42:17.651Z"
   },
   {
    "duration": 11,
    "start_time": "2023-01-25T11:42:17.785Z"
   },
   {
    "duration": 14,
    "start_time": "2023-01-25T11:42:17.798Z"
   },
   {
    "duration": 26,
    "start_time": "2023-01-25T11:42:17.814Z"
   },
   {
    "duration": 5,
    "start_time": "2023-01-25T11:42:17.841Z"
   },
   {
    "duration": 21,
    "start_time": "2023-01-25T11:42:17.847Z"
   },
   {
    "duration": 28,
    "start_time": "2023-01-25T11:42:17.870Z"
   },
   {
    "duration": 27,
    "start_time": "2023-01-25T11:42:17.899Z"
   },
   {
    "duration": 8,
    "start_time": "2023-01-25T11:42:17.928Z"
   },
   {
    "duration": 392,
    "start_time": "2023-01-25T11:42:17.938Z"
   },
   {
    "duration": 12,
    "start_time": "2023-01-25T11:42:18.331Z"
   },
   {
    "duration": 7,
    "start_time": "2023-01-25T11:42:18.345Z"
   },
   {
    "duration": 13,
    "start_time": "2023-01-25T11:42:18.354Z"
   },
   {
    "duration": 31,
    "start_time": "2023-01-25T11:42:18.369Z"
   },
   {
    "duration": 10,
    "start_time": "2023-01-25T11:42:18.402Z"
   },
   {
    "duration": 1837,
    "start_time": "2023-01-25T11:42:18.414Z"
   },
   {
    "duration": 6,
    "start_time": "2023-01-25T11:42:20.253Z"
   },
   {
    "duration": 40,
    "start_time": "2023-01-25T11:42:20.261Z"
   },
   {
    "duration": 21,
    "start_time": "2023-01-25T11:42:20.303Z"
   },
   {
    "duration": 17,
    "start_time": "2023-01-25T11:42:20.326Z"
   },
   {
    "duration": 18,
    "start_time": "2023-01-25T11:42:20.345Z"
   },
   {
    "duration": 47,
    "start_time": "2023-01-25T11:42:20.365Z"
   },
   {
    "duration": 363,
    "start_time": "2023-01-25T11:42:20.414Z"
   },
   {
    "duration": 263,
    "start_time": "2023-01-25T11:42:20.778Z"
   },
   {
    "duration": 4,
    "start_time": "2023-01-25T11:42:21.043Z"
   },
   {
    "duration": 26,
    "start_time": "2023-01-25T11:42:21.049Z"
   },
   {
    "duration": 30,
    "start_time": "2023-01-25T11:42:21.077Z"
   },
   {
    "duration": 58,
    "start_time": "2023-01-25T11:42:21.109Z"
   },
   {
    "duration": 149,
    "start_time": "2023-01-25T11:42:21.169Z"
   },
   {
    "duration": 154,
    "start_time": "2023-01-25T11:42:21.319Z"
   },
   {
    "duration": 35,
    "start_time": "2023-01-25T11:42:21.475Z"
   },
   {
    "duration": 6,
    "start_time": "2023-01-25T11:42:21.512Z"
   },
   {
    "duration": 101,
    "start_time": "2023-01-25T11:42:21.519Z"
   },
   {
    "duration": 93,
    "start_time": "2023-01-25T11:42:21.625Z"
   },
   {
    "duration": 189,
    "start_time": "2023-01-25T11:42:21.719Z"
   },
   {
    "duration": 13,
    "start_time": "2023-01-25T11:42:21.909Z"
   },
   {
    "duration": 34,
    "start_time": "2023-01-25T11:42:21.924Z"
   },
   {
    "duration": 328,
    "start_time": "2023-01-25T11:42:21.959Z"
   },
   {
    "duration": 13,
    "start_time": "2023-01-25T11:42:22.289Z"
   },
   {
    "duration": 36,
    "start_time": "2023-01-25T11:42:22.303Z"
   },
   {
    "duration": 336,
    "start_time": "2023-01-25T11:42:22.341Z"
   },
   {
    "duration": 18,
    "start_time": "2023-01-25T11:42:22.678Z"
   },
   {
    "duration": 37,
    "start_time": "2023-01-25T11:42:22.697Z"
   },
   {
    "duration": 368,
    "start_time": "2023-01-25T11:42:22.736Z"
   },
   {
    "duration": 161,
    "start_time": "2023-01-25T11:42:23.106Z"
   },
   {
    "duration": 141,
    "start_time": "2023-01-25T11:42:23.269Z"
   },
   {
    "duration": 139,
    "start_time": "2023-01-25T11:42:23.412Z"
   },
   {
    "duration": 12,
    "start_time": "2023-01-25T11:42:23.553Z"
   },
   {
    "duration": 26,
    "start_time": "2023-01-25T11:42:23.567Z"
   },
   {
    "duration": 836,
    "start_time": "2023-01-25T11:42:23.595Z"
   },
   {
    "duration": 5,
    "start_time": "2023-01-25T11:42:24.433Z"
   },
   {
    "duration": 92,
    "start_time": "2023-01-25T11:42:24.440Z"
   },
   {
    "duration": 33,
    "start_time": "2023-01-25T11:42:24.534Z"
   },
   {
    "duration": 25,
    "start_time": "2023-01-25T11:42:24.569Z"
   },
   {
    "duration": 10,
    "start_time": "2023-01-25T11:42:24.596Z"
   },
   {
    "duration": 10,
    "start_time": "2023-01-25T11:42:24.608Z"
   },
   {
    "duration": 5,
    "start_time": "2023-01-26T07:41:10.029Z"
   },
   {
    "duration": 1292,
    "start_time": "2023-01-26T07:41:10.038Z"
   },
   {
    "duration": 91,
    "start_time": "2023-01-26T07:41:11.333Z"
   },
   {
    "duration": 21,
    "start_time": "2023-01-26T07:41:11.425Z"
   },
   {
    "duration": 62,
    "start_time": "2023-01-26T07:41:11.448Z"
   },
   {
    "duration": 24,
    "start_time": "2023-01-26T07:41:11.512Z"
   },
   {
    "duration": 35,
    "start_time": "2023-01-26T07:41:11.538Z"
   },
   {
    "duration": 35,
    "start_time": "2023-01-26T07:41:11.575Z"
   },
   {
    "duration": 79,
    "start_time": "2023-01-26T07:41:11.611Z"
   },
   {
    "duration": 9,
    "start_time": "2023-01-26T07:41:11.691Z"
   },
   {
    "duration": 16,
    "start_time": "2023-01-26T07:41:11.703Z"
   },
   {
    "duration": 27,
    "start_time": "2023-01-26T07:41:11.721Z"
   },
   {
    "duration": 19,
    "start_time": "2023-01-26T07:41:11.750Z"
   },
   {
    "duration": 19,
    "start_time": "2023-01-26T07:41:11.770Z"
   },
   {
    "duration": 26,
    "start_time": "2023-01-26T07:41:11.791Z"
   },
   {
    "duration": 34,
    "start_time": "2023-01-26T07:41:11.819Z"
   },
   {
    "duration": 112,
    "start_time": "2023-01-26T07:41:11.854Z"
   },
   {
    "duration": 18,
    "start_time": "2023-01-26T07:41:11.967Z"
   },
   {
    "duration": 115,
    "start_time": "2023-01-26T07:41:11.986Z"
   },
   {
    "duration": 8,
    "start_time": "2023-01-26T07:41:12.102Z"
   },
   {
    "duration": 21,
    "start_time": "2023-01-26T07:41:12.112Z"
   },
   {
    "duration": 29,
    "start_time": "2023-01-26T07:41:12.134Z"
   },
   {
    "duration": 120,
    "start_time": "2023-01-26T07:41:12.165Z"
   },
   {
    "duration": 18,
    "start_time": "2023-01-26T07:41:12.287Z"
   },
   {
    "duration": 123,
    "start_time": "2023-01-26T07:41:12.307Z"
   },
   {
    "duration": 8,
    "start_time": "2023-01-26T07:41:12.432Z"
   },
   {
    "duration": 13,
    "start_time": "2023-01-26T07:41:12.442Z"
   },
   {
    "duration": 21,
    "start_time": "2023-01-26T07:41:12.457Z"
   },
   {
    "duration": 130,
    "start_time": "2023-01-26T07:41:12.482Z"
   },
   {
    "duration": 24,
    "start_time": "2023-01-26T07:41:12.614Z"
   },
   {
    "duration": 142,
    "start_time": "2023-01-26T07:41:12.639Z"
   },
   {
    "duration": 9,
    "start_time": "2023-01-26T07:41:12.783Z"
   },
   {
    "duration": 25,
    "start_time": "2023-01-26T07:41:12.794Z"
   },
   {
    "duration": 29,
    "start_time": "2023-01-26T07:41:12.821Z"
   },
   {
    "duration": 118,
    "start_time": "2023-01-26T07:41:12.852Z"
   },
   {
    "duration": 20,
    "start_time": "2023-01-26T07:41:12.972Z"
   },
   {
    "duration": 202,
    "start_time": "2023-01-26T07:41:12.993Z"
   },
   {
    "duration": 9,
    "start_time": "2023-01-26T07:41:13.196Z"
   },
   {
    "duration": 22,
    "start_time": "2023-01-26T07:41:13.206Z"
   },
   {
    "duration": 22,
    "start_time": "2023-01-26T07:41:13.230Z"
   },
   {
    "duration": 5,
    "start_time": "2023-01-26T07:41:13.254Z"
   },
   {
    "duration": 32,
    "start_time": "2023-01-26T07:41:13.260Z"
   },
   {
    "duration": 33,
    "start_time": "2023-01-26T07:41:13.294Z"
   },
   {
    "duration": 22,
    "start_time": "2023-01-26T07:41:13.328Z"
   },
   {
    "duration": 9,
    "start_time": "2023-01-26T07:41:13.352Z"
   },
   {
    "duration": 291,
    "start_time": "2023-01-26T07:41:13.362Z"
   },
   {
    "duration": 11,
    "start_time": "2023-01-26T07:41:13.654Z"
   },
   {
    "duration": 15,
    "start_time": "2023-01-26T07:41:13.667Z"
   },
   {
    "duration": 18,
    "start_time": "2023-01-26T07:41:13.684Z"
   },
   {
    "duration": 33,
    "start_time": "2023-01-26T07:41:13.703Z"
   },
   {
    "duration": 15,
    "start_time": "2023-01-26T07:41:13.737Z"
   },
   {
    "duration": 1913,
    "start_time": "2023-01-26T07:41:13.754Z"
   },
   {
    "duration": 6,
    "start_time": "2023-01-26T07:41:15.669Z"
   },
   {
    "duration": 121,
    "start_time": "2023-01-26T07:41:15.676Z"
   },
   {
    "duration": 83,
    "start_time": "2023-01-26T07:41:15.799Z"
   },
   {
    "duration": 67,
    "start_time": "2023-01-26T07:41:15.884Z"
   },
   {
    "duration": 69,
    "start_time": "2023-01-26T07:41:15.953Z"
   },
   {
    "duration": 72,
    "start_time": "2023-01-26T07:41:16.024Z"
   },
   {
    "duration": 291,
    "start_time": "2023-01-26T07:41:16.098Z"
   },
   {
    "duration": 297,
    "start_time": "2023-01-26T07:41:16.392Z"
   },
   {
    "duration": 5,
    "start_time": "2023-01-26T07:41:16.692Z"
   },
   {
    "duration": 34,
    "start_time": "2023-01-26T07:41:16.699Z"
   },
   {
    "duration": 41,
    "start_time": "2023-01-26T07:41:16.735Z"
   },
   {
    "duration": 36,
    "start_time": "2023-01-26T07:41:16.777Z"
   },
   {
    "duration": 166,
    "start_time": "2023-01-26T07:41:16.814Z"
   },
   {
    "duration": 136,
    "start_time": "2023-01-26T07:41:16.982Z"
   },
   {
    "duration": 31,
    "start_time": "2023-01-26T07:41:17.120Z"
   },
   {
    "duration": 44,
    "start_time": "2023-01-26T07:41:17.152Z"
   },
   {
    "duration": 76,
    "start_time": "2023-01-26T07:41:17.198Z"
   },
   {
    "duration": 43,
    "start_time": "2023-01-26T07:41:17.275Z"
   },
   {
    "duration": 247,
    "start_time": "2023-01-26T07:41:17.320Z"
   },
   {
    "duration": 14,
    "start_time": "2023-01-26T07:41:17.570Z"
   },
   {
    "duration": 31,
    "start_time": "2023-01-26T07:41:17.586Z"
   },
   {
    "duration": 380,
    "start_time": "2023-01-26T07:41:17.619Z"
   },
   {
    "duration": 12,
    "start_time": "2023-01-26T07:41:18.001Z"
   },
   {
    "duration": 61,
    "start_time": "2023-01-26T07:41:18.015Z"
   },
   {
    "duration": 390,
    "start_time": "2023-01-26T07:41:18.078Z"
   },
   {
    "duration": 12,
    "start_time": "2023-01-26T07:41:18.469Z"
   },
   {
    "duration": 89,
    "start_time": "2023-01-26T07:41:18.483Z"
   },
   {
    "duration": 462,
    "start_time": "2023-01-26T07:41:18.573Z"
   },
   {
    "duration": 139,
    "start_time": "2023-01-26T07:41:19.036Z"
   },
   {
    "duration": 145,
    "start_time": "2023-01-26T07:41:19.176Z"
   },
   {
    "duration": 125,
    "start_time": "2023-01-26T07:41:19.327Z"
   },
   {
    "duration": 10,
    "start_time": "2023-01-26T07:41:19.454Z"
   },
   {
    "duration": 65,
    "start_time": "2023-01-26T07:41:19.465Z"
   },
   {
    "duration": 720,
    "start_time": "2023-01-26T07:41:19.532Z"
   },
   {
    "duration": 7,
    "start_time": "2023-01-26T07:41:20.254Z"
   },
   {
    "duration": 64,
    "start_time": "2023-01-26T07:41:20.263Z"
   },
   {
    "duration": 24,
    "start_time": "2023-01-26T07:41:20.329Z"
   },
   {
    "duration": 35,
    "start_time": "2023-01-26T07:41:20.355Z"
   },
   {
    "duration": 32,
    "start_time": "2023-01-26T07:41:20.392Z"
   },
   {
    "duration": 28,
    "start_time": "2023-01-26T07:41:20.427Z"
   },
   {
    "duration": 5,
    "start_time": "2023-01-26T07:50:36.106Z"
   },
   {
    "duration": 1347,
    "start_time": "2023-01-26T07:50:36.119Z"
   },
   {
    "duration": 48,
    "start_time": "2023-01-26T07:50:37.467Z"
   },
   {
    "duration": 18,
    "start_time": "2023-01-26T07:50:37.517Z"
   },
   {
    "duration": 19,
    "start_time": "2023-01-26T07:50:37.537Z"
   },
   {
    "duration": 22,
    "start_time": "2023-01-26T07:50:37.558Z"
   },
   {
    "duration": 8,
    "start_time": "2023-01-26T07:50:37.582Z"
   },
   {
    "duration": 20,
    "start_time": "2023-01-26T07:50:37.591Z"
   },
   {
    "duration": 60,
    "start_time": "2023-01-26T07:50:37.613Z"
   },
   {
    "duration": 9,
    "start_time": "2023-01-26T07:50:37.674Z"
   },
   {
    "duration": 27,
    "start_time": "2023-01-26T07:50:37.686Z"
   },
   {
    "duration": 15,
    "start_time": "2023-01-26T07:50:37.715Z"
   },
   {
    "duration": 20,
    "start_time": "2023-01-26T07:50:37.731Z"
   },
   {
    "duration": 22,
    "start_time": "2023-01-26T07:50:37.753Z"
   },
   {
    "duration": 26,
    "start_time": "2023-01-26T07:50:37.777Z"
   },
   {
    "duration": 38,
    "start_time": "2023-01-26T07:50:37.804Z"
   },
   {
    "duration": 115,
    "start_time": "2023-01-26T07:50:37.844Z"
   },
   {
    "duration": 18,
    "start_time": "2023-01-26T07:50:37.961Z"
   },
   {
    "duration": 112,
    "start_time": "2023-01-26T07:50:37.981Z"
   },
   {
    "duration": 9,
    "start_time": "2023-01-26T07:50:38.094Z"
   },
   {
    "duration": 23,
    "start_time": "2023-01-26T07:50:38.105Z"
   },
   {
    "duration": 20,
    "start_time": "2023-01-26T07:50:38.130Z"
   },
   {
    "duration": 121,
    "start_time": "2023-01-26T07:50:38.152Z"
   },
   {
    "duration": 18,
    "start_time": "2023-01-26T07:50:38.275Z"
   },
   {
    "duration": 115,
    "start_time": "2023-01-26T07:50:38.295Z"
   },
   {
    "duration": 15,
    "start_time": "2023-01-26T07:50:38.412Z"
   },
   {
    "duration": 36,
    "start_time": "2023-01-26T07:50:38.429Z"
   },
   {
    "duration": 54,
    "start_time": "2023-01-26T07:50:38.467Z"
   },
   {
    "duration": 108,
    "start_time": "2023-01-26T07:50:38.525Z"
   },
   {
    "duration": 19,
    "start_time": "2023-01-26T07:50:38.635Z"
   },
   {
    "duration": 165,
    "start_time": "2023-01-26T07:50:38.656Z"
   },
   {
    "duration": 9,
    "start_time": "2023-01-26T07:50:38.823Z"
   },
   {
    "duration": 43,
    "start_time": "2023-01-26T07:50:38.834Z"
   },
   {
    "duration": 40,
    "start_time": "2023-01-26T07:50:38.879Z"
   },
   {
    "duration": 118,
    "start_time": "2023-01-26T07:50:38.920Z"
   },
   {
    "duration": 19,
    "start_time": "2023-01-26T07:50:39.039Z"
   },
   {
    "duration": 205,
    "start_time": "2023-01-26T07:50:39.059Z"
   },
   {
    "duration": 11,
    "start_time": "2023-01-26T07:50:39.266Z"
   },
   {
    "duration": 34,
    "start_time": "2023-01-26T07:50:39.279Z"
   },
   {
    "duration": 81,
    "start_time": "2023-01-26T07:50:39.314Z"
   },
   {
    "duration": 36,
    "start_time": "2023-01-26T07:50:39.397Z"
   },
   {
    "duration": 56,
    "start_time": "2023-01-26T07:50:39.434Z"
   },
   {
    "duration": 113,
    "start_time": "2023-01-26T07:50:39.492Z"
   },
   {
    "duration": 75,
    "start_time": "2023-01-26T07:50:39.607Z"
   },
   {
    "duration": 62,
    "start_time": "2023-01-26T07:50:39.683Z"
   },
   {
    "duration": 356,
    "start_time": "2023-01-26T07:50:39.747Z"
   },
   {
    "duration": 12,
    "start_time": "2023-01-26T07:50:40.105Z"
   },
   {
    "duration": 41,
    "start_time": "2023-01-26T07:50:40.118Z"
   },
   {
    "duration": 48,
    "start_time": "2023-01-26T07:50:40.161Z"
   },
   {
    "duration": 107,
    "start_time": "2023-01-26T07:50:40.211Z"
   },
   {
    "duration": 68,
    "start_time": "2023-01-26T07:50:40.321Z"
   },
   {
    "duration": 2023,
    "start_time": "2023-01-26T07:50:40.392Z"
   },
   {
    "duration": 6,
    "start_time": "2023-01-26T07:50:42.417Z"
   },
   {
    "duration": 51,
    "start_time": "2023-01-26T07:50:42.427Z"
   },
   {
    "duration": 60,
    "start_time": "2023-01-26T07:50:42.480Z"
   },
   {
    "duration": 74,
    "start_time": "2023-01-26T07:50:42.542Z"
   },
   {
    "duration": 53,
    "start_time": "2023-01-26T07:50:42.618Z"
   },
   {
    "duration": 90,
    "start_time": "2023-01-26T07:50:42.673Z"
   },
   {
    "duration": 274,
    "start_time": "2023-01-26T07:50:42.765Z"
   },
   {
    "duration": 248,
    "start_time": "2023-01-26T07:50:43.041Z"
   },
   {
    "duration": 4,
    "start_time": "2023-01-26T07:50:43.290Z"
   },
   {
    "duration": 67,
    "start_time": "2023-01-26T07:50:43.295Z"
   },
   {
    "duration": 68,
    "start_time": "2023-01-26T07:50:43.363Z"
   },
   {
    "duration": 38,
    "start_time": "2023-01-26T07:50:43.433Z"
   },
   {
    "duration": 182,
    "start_time": "2023-01-26T07:50:43.472Z"
   },
   {
    "duration": 138,
    "start_time": "2023-01-26T07:50:43.655Z"
   },
   {
    "duration": 33,
    "start_time": "2023-01-26T07:50:43.795Z"
   },
   {
    "duration": 52,
    "start_time": "2023-01-26T07:50:43.829Z"
   },
   {
    "duration": 31,
    "start_time": "2023-01-26T07:50:43.883Z"
   },
   {
    "duration": 28,
    "start_time": "2023-01-26T07:50:43.916Z"
   },
   {
    "duration": 198,
    "start_time": "2023-01-26T07:50:43.947Z"
   },
   {
    "duration": 13,
    "start_time": "2023-01-26T07:50:44.147Z"
   },
   {
    "duration": 54,
    "start_time": "2023-01-26T07:50:44.162Z"
   },
   {
    "duration": 328,
    "start_time": "2023-01-26T07:50:44.217Z"
   },
   {
    "duration": 12,
    "start_time": "2023-01-26T07:50:44.546Z"
   },
   {
    "duration": 31,
    "start_time": "2023-01-26T07:50:44.559Z"
   },
   {
    "duration": 348,
    "start_time": "2023-01-26T07:50:44.592Z"
   },
   {
    "duration": 12,
    "start_time": "2023-01-26T07:50:44.942Z"
   },
   {
    "duration": 29,
    "start_time": "2023-01-26T07:50:44.956Z"
   },
   {
    "duration": 463,
    "start_time": "2023-01-26T07:50:44.986Z"
   },
   {
    "duration": 138,
    "start_time": "2023-01-26T07:50:45.451Z"
   },
   {
    "duration": 139,
    "start_time": "2023-01-26T07:50:45.591Z"
   },
   {
    "duration": 141,
    "start_time": "2023-01-26T07:50:45.736Z"
   },
   {
    "duration": 11,
    "start_time": "2023-01-26T07:50:45.880Z"
   },
   {
    "duration": 50,
    "start_time": "2023-01-26T07:50:45.892Z"
   },
   {
    "duration": 707,
    "start_time": "2023-01-26T07:50:45.944Z"
   },
   {
    "duration": 7,
    "start_time": "2023-01-26T07:50:46.652Z"
   },
   {
    "duration": 72,
    "start_time": "2023-01-26T07:50:46.660Z"
   },
   {
    "duration": 38,
    "start_time": "2023-01-26T07:50:46.734Z"
   },
   {
    "duration": 64,
    "start_time": "2023-01-26T07:50:46.773Z"
   },
   {
    "duration": 59,
    "start_time": "2023-01-26T07:50:46.839Z"
   },
   {
    "duration": 56,
    "start_time": "2023-01-26T07:50:46.900Z"
   }
  ],
  "kernelspec": {
   "display_name": "Python 3",
   "language": "python",
   "name": "python3"
  },
  "language_info": {
   "codemirror_mode": {
    "name": "ipython",
    "version": 3
   },
   "file_extension": ".py",
   "mimetype": "text/x-python",
   "name": "python",
   "nbconvert_exporter": "python",
   "pygments_lexer": "ipython3",
   "version": "3.8.8"
  },
  "toc": {
   "base_numbering": 1,
   "nav_menu": {},
   "number_sections": true,
   "sideBar": true,
   "skip_h1_title": true,
   "title_cell": "Table of Contents",
   "title_sidebar": "Contents",
   "toc_cell": false,
   "toc_position": {
    "height": "calc(100% - 180px)",
    "left": "10px",
    "top": "150px",
    "width": "165px"
   },
   "toc_section_display": true,
   "toc_window_display": true
  }
 },
 "nbformat": 4,
 "nbformat_minor": 2
}
